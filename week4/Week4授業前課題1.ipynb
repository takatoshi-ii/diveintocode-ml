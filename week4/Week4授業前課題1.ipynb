{
 "cells": [
  {
   "cell_type": "markdown",
   "metadata": {},
   "source": [
    "# Week4授業前課題1 アヤメの分類"
   ]
  },
  {
   "cell_type": "markdown",
   "metadata": {},
   "source": [
    "## 【課題1】練習のために特徴量とカテゴリを選択"
   ]
  },
  {
   "cell_type": "markdown",
   "metadata": {},
   "source": [
    "|Attribute\t    |説明       |\n",
    "|:--------------|:-----------|\n",
    "|sepal length\t|ガクの長さ |\n",
    "|sepal width\t|ガクの幅   |\n",
    "|petal length\t|花弁の長さ |\n",
    "|petal width\t|花弁の幅   |"
   ]
  },
  {
   "cell_type": "code",
   "execution_count": 495,
   "metadata": {},
   "outputs": [],
   "source": [
    "from sklearn.datasets import load_iris\n",
    "\n",
    "# アヤメセットを読み込む\n",
    "iris_data = load_iris()"
   ]
  },
  {
   "cell_type": "code",
   "execution_count": 496,
   "metadata": {},
   "outputs": [
    {
     "data": {
      "text/html": [
       "<div>\n",
       "<style scoped>\n",
       "    .dataframe tbody tr th:only-of-type {\n",
       "        vertical-align: middle;\n",
       "    }\n",
       "\n",
       "    .dataframe tbody tr th {\n",
       "        vertical-align: top;\n",
       "    }\n",
       "\n",
       "    .dataframe thead th {\n",
       "        text-align: right;\n",
       "    }\n",
       "</style>\n",
       "<table border=\"1\" class=\"dataframe\">\n",
       "  <thead>\n",
       "    <tr style=\"text-align: right;\">\n",
       "      <th></th>\n",
       "      <th>sepal_length</th>\n",
       "      <th>sepal_width</th>\n",
       "      <th>petal_length</th>\n",
       "      <th>petal_width</th>\n",
       "    </tr>\n",
       "  </thead>\n",
       "  <tbody>\n",
       "    <tr>\n",
       "      <th>0</th>\n",
       "      <td>5.1</td>\n",
       "      <td>3.5</td>\n",
       "      <td>1.4</td>\n",
       "      <td>0.2</td>\n",
       "    </tr>\n",
       "    <tr>\n",
       "      <th>1</th>\n",
       "      <td>4.9</td>\n",
       "      <td>3.0</td>\n",
       "      <td>1.4</td>\n",
       "      <td>0.2</td>\n",
       "    </tr>\n",
       "    <tr>\n",
       "      <th>2</th>\n",
       "      <td>4.7</td>\n",
       "      <td>3.2</td>\n",
       "      <td>1.3</td>\n",
       "      <td>0.2</td>\n",
       "    </tr>\n",
       "    <tr>\n",
       "      <th>3</th>\n",
       "      <td>4.6</td>\n",
       "      <td>3.1</td>\n",
       "      <td>1.5</td>\n",
       "      <td>0.2</td>\n",
       "    </tr>\n",
       "    <tr>\n",
       "      <th>4</th>\n",
       "      <td>5.0</td>\n",
       "      <td>3.6</td>\n",
       "      <td>1.4</td>\n",
       "      <td>0.2</td>\n",
       "    </tr>\n",
       "    <tr>\n",
       "      <th>...</th>\n",
       "      <td>...</td>\n",
       "      <td>...</td>\n",
       "      <td>...</td>\n",
       "      <td>...</td>\n",
       "    </tr>\n",
       "    <tr>\n",
       "      <th>145</th>\n",
       "      <td>6.7</td>\n",
       "      <td>3.0</td>\n",
       "      <td>5.2</td>\n",
       "      <td>2.3</td>\n",
       "    </tr>\n",
       "    <tr>\n",
       "      <th>146</th>\n",
       "      <td>6.3</td>\n",
       "      <td>2.5</td>\n",
       "      <td>5.0</td>\n",
       "      <td>1.9</td>\n",
       "    </tr>\n",
       "    <tr>\n",
       "      <th>147</th>\n",
       "      <td>6.5</td>\n",
       "      <td>3.0</td>\n",
       "      <td>5.2</td>\n",
       "      <td>2.0</td>\n",
       "    </tr>\n",
       "    <tr>\n",
       "      <th>148</th>\n",
       "      <td>6.2</td>\n",
       "      <td>3.4</td>\n",
       "      <td>5.4</td>\n",
       "      <td>2.3</td>\n",
       "    </tr>\n",
       "    <tr>\n",
       "      <th>149</th>\n",
       "      <td>5.9</td>\n",
       "      <td>3.0</td>\n",
       "      <td>5.1</td>\n",
       "      <td>1.8</td>\n",
       "    </tr>\n",
       "  </tbody>\n",
       "</table>\n",
       "<p>150 rows × 4 columns</p>\n",
       "</div>"
      ],
      "text/plain": [
       "     sepal_length  sepal_width  petal_length  petal_width\n",
       "0             5.1          3.5           1.4          0.2\n",
       "1             4.9          3.0           1.4          0.2\n",
       "2             4.7          3.2           1.3          0.2\n",
       "3             4.6          3.1           1.5          0.2\n",
       "4             5.0          3.6           1.4          0.2\n",
       "..            ...          ...           ...          ...\n",
       "145           6.7          3.0           5.2          2.3\n",
       "146           6.3          2.5           5.0          1.9\n",
       "147           6.5          3.0           5.2          2.0\n",
       "148           6.2          3.4           5.4          2.3\n",
       "149           5.9          3.0           5.1          1.8\n",
       "\n",
       "[150 rows x 4 columns]"
      ]
     },
     "execution_count": 496,
     "metadata": {},
     "output_type": "execute_result"
    }
   ],
   "source": [
    "import pandas as pd\n",
    "\n",
    "# 説明変数\n",
    "df_X = pd.DataFrame(iris_data.data, columns=[\"sepal_length\", \"sepal_width\", \"petal_length\", \"petal_width\"])\n",
    "df_X"
   ]
  },
  {
   "cell_type": "code",
   "execution_count": 497,
   "metadata": {},
   "outputs": [
    {
     "data": {
      "text/html": [
       "<div>\n",
       "<style scoped>\n",
       "    .dataframe tbody tr th:only-of-type {\n",
       "        vertical-align: middle;\n",
       "    }\n",
       "\n",
       "    .dataframe tbody tr th {\n",
       "        vertical-align: top;\n",
       "    }\n",
       "\n",
       "    .dataframe thead th {\n",
       "        text-align: right;\n",
       "    }\n",
       "</style>\n",
       "<table border=\"1\" class=\"dataframe\">\n",
       "  <thead>\n",
       "    <tr style=\"text-align: right;\">\n",
       "      <th></th>\n",
       "      <th>species</th>\n",
       "    </tr>\n",
       "  </thead>\n",
       "  <tbody>\n",
       "    <tr>\n",
       "      <th>0</th>\n",
       "      <td>0</td>\n",
       "    </tr>\n",
       "    <tr>\n",
       "      <th>1</th>\n",
       "      <td>0</td>\n",
       "    </tr>\n",
       "    <tr>\n",
       "      <th>2</th>\n",
       "      <td>0</td>\n",
       "    </tr>\n",
       "    <tr>\n",
       "      <th>3</th>\n",
       "      <td>0</td>\n",
       "    </tr>\n",
       "    <tr>\n",
       "      <th>4</th>\n",
       "      <td>0</td>\n",
       "    </tr>\n",
       "    <tr>\n",
       "      <th>...</th>\n",
       "      <td>...</td>\n",
       "    </tr>\n",
       "    <tr>\n",
       "      <th>145</th>\n",
       "      <td>2</td>\n",
       "    </tr>\n",
       "    <tr>\n",
       "      <th>146</th>\n",
       "      <td>2</td>\n",
       "    </tr>\n",
       "    <tr>\n",
       "      <th>147</th>\n",
       "      <td>2</td>\n",
       "    </tr>\n",
       "    <tr>\n",
       "      <th>148</th>\n",
       "      <td>2</td>\n",
       "    </tr>\n",
       "    <tr>\n",
       "      <th>149</th>\n",
       "      <td>2</td>\n",
       "    </tr>\n",
       "  </tbody>\n",
       "</table>\n",
       "<p>150 rows × 1 columns</p>\n",
       "</div>"
      ],
      "text/plain": [
       "     species\n",
       "0          0\n",
       "1          0\n",
       "2          0\n",
       "3          0\n",
       "4          0\n",
       "..       ...\n",
       "145        2\n",
       "146        2\n",
       "147        2\n",
       "148        2\n",
       "149        2\n",
       "\n",
       "[150 rows x 1 columns]"
      ]
     },
     "execution_count": 497,
     "metadata": {},
     "output_type": "execute_result"
    }
   ],
   "source": [
    "# 目的変数\n",
    "df_y = pd.DataFrame(iris_data.target, columns=[\"species\"])\n",
    "df_y"
   ]
  },
  {
   "cell_type": "code",
   "execution_count": 498,
   "metadata": {},
   "outputs": [
    {
     "data": {
      "text/html": [
       "<div>\n",
       "<style scoped>\n",
       "    .dataframe tbody tr th:only-of-type {\n",
       "        vertical-align: middle;\n",
       "    }\n",
       "\n",
       "    .dataframe tbody tr th {\n",
       "        vertical-align: top;\n",
       "    }\n",
       "\n",
       "    .dataframe thead th {\n",
       "        text-align: right;\n",
       "    }\n",
       "</style>\n",
       "<table border=\"1\" class=\"dataframe\">\n",
       "  <thead>\n",
       "    <tr style=\"text-align: right;\">\n",
       "      <th></th>\n",
       "      <th>sepal_length</th>\n",
       "      <th>sepal_width</th>\n",
       "      <th>petal_length</th>\n",
       "      <th>petal_width</th>\n",
       "      <th>species</th>\n",
       "    </tr>\n",
       "  </thead>\n",
       "  <tbody>\n",
       "    <tr>\n",
       "      <th>0</th>\n",
       "      <td>5.1</td>\n",
       "      <td>3.5</td>\n",
       "      <td>1.4</td>\n",
       "      <td>0.2</td>\n",
       "      <td>0</td>\n",
       "    </tr>\n",
       "    <tr>\n",
       "      <th>1</th>\n",
       "      <td>4.9</td>\n",
       "      <td>3.0</td>\n",
       "      <td>1.4</td>\n",
       "      <td>0.2</td>\n",
       "      <td>0</td>\n",
       "    </tr>\n",
       "    <tr>\n",
       "      <th>2</th>\n",
       "      <td>4.7</td>\n",
       "      <td>3.2</td>\n",
       "      <td>1.3</td>\n",
       "      <td>0.2</td>\n",
       "      <td>0</td>\n",
       "    </tr>\n",
       "    <tr>\n",
       "      <th>3</th>\n",
       "      <td>4.6</td>\n",
       "      <td>3.1</td>\n",
       "      <td>1.5</td>\n",
       "      <td>0.2</td>\n",
       "      <td>0</td>\n",
       "    </tr>\n",
       "    <tr>\n",
       "      <th>4</th>\n",
       "      <td>5.0</td>\n",
       "      <td>3.6</td>\n",
       "      <td>1.4</td>\n",
       "      <td>0.2</td>\n",
       "      <td>0</td>\n",
       "    </tr>\n",
       "    <tr>\n",
       "      <th>...</th>\n",
       "      <td>...</td>\n",
       "      <td>...</td>\n",
       "      <td>...</td>\n",
       "      <td>...</td>\n",
       "      <td>...</td>\n",
       "    </tr>\n",
       "    <tr>\n",
       "      <th>145</th>\n",
       "      <td>6.7</td>\n",
       "      <td>3.0</td>\n",
       "      <td>5.2</td>\n",
       "      <td>2.3</td>\n",
       "      <td>2</td>\n",
       "    </tr>\n",
       "    <tr>\n",
       "      <th>146</th>\n",
       "      <td>6.3</td>\n",
       "      <td>2.5</td>\n",
       "      <td>5.0</td>\n",
       "      <td>1.9</td>\n",
       "      <td>2</td>\n",
       "    </tr>\n",
       "    <tr>\n",
       "      <th>147</th>\n",
       "      <td>6.5</td>\n",
       "      <td>3.0</td>\n",
       "      <td>5.2</td>\n",
       "      <td>2.0</td>\n",
       "      <td>2</td>\n",
       "    </tr>\n",
       "    <tr>\n",
       "      <th>148</th>\n",
       "      <td>6.2</td>\n",
       "      <td>3.4</td>\n",
       "      <td>5.4</td>\n",
       "      <td>2.3</td>\n",
       "      <td>2</td>\n",
       "    </tr>\n",
       "    <tr>\n",
       "      <th>149</th>\n",
       "      <td>5.9</td>\n",
       "      <td>3.0</td>\n",
       "      <td>5.1</td>\n",
       "      <td>1.8</td>\n",
       "      <td>2</td>\n",
       "    </tr>\n",
       "  </tbody>\n",
       "</table>\n",
       "<p>150 rows × 5 columns</p>\n",
       "</div>"
      ],
      "text/plain": [
       "     sepal_length  sepal_width  petal_length  petal_width  species\n",
       "0             5.1          3.5           1.4          0.2        0\n",
       "1             4.9          3.0           1.4          0.2        0\n",
       "2             4.7          3.2           1.3          0.2        0\n",
       "3             4.6          3.1           1.5          0.2        0\n",
       "4             5.0          3.6           1.4          0.2        0\n",
       "..            ...          ...           ...          ...      ...\n",
       "145           6.7          3.0           5.2          2.3        2\n",
       "146           6.3          2.5           5.0          1.9        2\n",
       "147           6.5          3.0           5.2          2.0        2\n",
       "148           6.2          3.4           5.4          2.3        2\n",
       "149           5.9          3.0           5.1          1.8        2\n",
       "\n",
       "[150 rows x 5 columns]"
      ]
     },
     "execution_count": 498,
     "metadata": {},
     "output_type": "execute_result"
    }
   ],
   "source": [
    "df = pd.concat([df_X, df_y], axis=1)\n",
    "df"
   ]
  },
  {
   "cell_type": "code",
   "execution_count": 499,
   "metadata": {},
   "outputs": [
    {
     "data": {
      "text/html": [
       "<div>\n",
       "<style scoped>\n",
       "    .dataframe tbody tr th:only-of-type {\n",
       "        vertical-align: middle;\n",
       "    }\n",
       "\n",
       "    .dataframe tbody tr th {\n",
       "        vertical-align: top;\n",
       "    }\n",
       "\n",
       "    .dataframe thead th {\n",
       "        text-align: right;\n",
       "    }\n",
       "</style>\n",
       "<table border=\"1\" class=\"dataframe\">\n",
       "  <thead>\n",
       "    <tr style=\"text-align: right;\">\n",
       "      <th></th>\n",
       "      <th>sepal_length</th>\n",
       "      <th>petal_length</th>\n",
       "      <th>species</th>\n",
       "    </tr>\n",
       "  </thead>\n",
       "  <tbody>\n",
       "    <tr>\n",
       "      <th>50</th>\n",
       "      <td>7.0</td>\n",
       "      <td>4.7</td>\n",
       "      <td>1</td>\n",
       "    </tr>\n",
       "    <tr>\n",
       "      <th>51</th>\n",
       "      <td>6.4</td>\n",
       "      <td>4.5</td>\n",
       "      <td>1</td>\n",
       "    </tr>\n",
       "    <tr>\n",
       "      <th>52</th>\n",
       "      <td>6.9</td>\n",
       "      <td>4.9</td>\n",
       "      <td>1</td>\n",
       "    </tr>\n",
       "    <tr>\n",
       "      <th>53</th>\n",
       "      <td>5.5</td>\n",
       "      <td>4.0</td>\n",
       "      <td>1</td>\n",
       "    </tr>\n",
       "    <tr>\n",
       "      <th>54</th>\n",
       "      <td>6.5</td>\n",
       "      <td>4.6</td>\n",
       "      <td>1</td>\n",
       "    </tr>\n",
       "    <tr>\n",
       "      <th>...</th>\n",
       "      <td>...</td>\n",
       "      <td>...</td>\n",
       "      <td>...</td>\n",
       "    </tr>\n",
       "    <tr>\n",
       "      <th>145</th>\n",
       "      <td>6.7</td>\n",
       "      <td>5.2</td>\n",
       "      <td>2</td>\n",
       "    </tr>\n",
       "    <tr>\n",
       "      <th>146</th>\n",
       "      <td>6.3</td>\n",
       "      <td>5.0</td>\n",
       "      <td>2</td>\n",
       "    </tr>\n",
       "    <tr>\n",
       "      <th>147</th>\n",
       "      <td>6.5</td>\n",
       "      <td>5.2</td>\n",
       "      <td>2</td>\n",
       "    </tr>\n",
       "    <tr>\n",
       "      <th>148</th>\n",
       "      <td>6.2</td>\n",
       "      <td>5.4</td>\n",
       "      <td>2</td>\n",
       "    </tr>\n",
       "    <tr>\n",
       "      <th>149</th>\n",
       "      <td>5.9</td>\n",
       "      <td>5.1</td>\n",
       "      <td>2</td>\n",
       "    </tr>\n",
       "  </tbody>\n",
       "</table>\n",
       "<p>100 rows × 3 columns</p>\n",
       "</div>"
      ],
      "text/plain": [
       "     sepal_length  petal_length  species\n",
       "50            7.0           4.7        1\n",
       "51            6.4           4.5        1\n",
       "52            6.9           4.9        1\n",
       "53            5.5           4.0        1\n",
       "54            6.5           4.6        1\n",
       "..            ...           ...      ...\n",
       "145           6.7           5.2        2\n",
       "146           6.3           5.0        2\n",
       "147           6.5           5.2        2\n",
       "148           6.2           5.4        2\n",
       "149           5.9           5.1        2\n",
       "\n",
       "[100 rows x 3 columns]"
      ]
     },
     "execution_count": 499,
     "metadata": {},
     "output_type": "execute_result"
    }
   ],
   "source": [
    "data = df.loc[:,[\"sepal_length\",\"petal_length\",\"species\"]][df[\"species\"] != 0]\n",
    "data"
   ]
  },
  {
   "cell_type": "markdown",
   "metadata": {},
   "source": [
    "## 【問題2】データの分析"
   ]
  },
  {
   "cell_type": "code",
   "execution_count": 500,
   "metadata": {},
   "outputs": [
    {
     "data": {
      "text/plain": [
       "Text(0.5, 1.0, 'petal length')"
      ]
     },
     "execution_count": 500,
     "metadata": {},
     "output_type": "execute_result"
    },
    {
     "data": {
      "image/png": "[encoded data removed]",
      "text/plain": [
       "<Figure size 432x288 with 1 Axes>"
      ]
     },
     "metadata": {
      "needs_background": "light"
     },
     "output_type": "display_data"
    }
   ],
   "source": [
    "import matplotlib.pyplot as plt\n",
    "%matplotlib inline\n",
    "\n",
    "# 箱ひげ図の描画\n",
    "plt.boxplot([data[\"sepal_length\"], data[\"petal_length\"]], labels=data[\"species\"].value_counts(sort=False).index)\n",
    "plt.title(\"petal length\")"
   ]
  },
  {
   "cell_type": "code",
   "execution_count": 501,
   "metadata": {},
   "outputs": [
    {
     "data": {
      "image/png": "[encoded data removed]",
      "text/plain": [
       "<Figure size 432x288 with 1 Axes>"
      ]
     },
     "metadata": {
      "needs_background": "light"
     },
     "output_type": "display_data"
    }
   ],
   "source": [
    "# バイオリン図を描画\n",
    "fig = plt.figure()\n",
    "ax = fig.add_subplot(1, 1, 1)\n",
    "\n",
    "ax.violinplot([data[\"sepal_length\"], data[\"petal_length\"]], showmedians=True)\n",
    "ax.set_xticks(data[\"species\"].value_counts(sort=False).index)\n",
    "ax.set_xticklabels([iris_data.target_names[1], iris_data.target_names[2]])\n",
    "plt.show()"
   ]
  },
  {
   "cell_type": "markdown",
   "metadata": {},
   "source": [
    "## 【問題3】前処理・訓練データと検証データの分割"
   ]
  },
  {
   "cell_type": "code",
   "execution_count": 502,
   "metadata": {},
   "outputs": [],
   "source": [
    "import numpy as np\n",
    "# ndarrayへ変換\n",
    "X = np.array(data.iloc[:,0:2])\n",
    "y = np.array(data.iloc[:,2])"
   ]
  },
  {
   "cell_type": "code",
   "execution_count": 503,
   "metadata": {},
   "outputs": [],
   "source": [
    "from sklearn.model_selection import train_test_split\n",
    "X_train, X_test, y_train, y_test = train_test_split(X, y, test_size=0.25)"
   ]
  },
  {
   "cell_type": "markdown",
   "metadata": {},
   "source": [
    "全データ数が100件なので、  \n",
    "訓練データ：75件  \n",
    "検証データ：25件  \n",
    "の配分になる"
   ]
  },
  {
   "cell_type": "code",
   "execution_count": 504,
   "metadata": {},
   "outputs": [
    {
     "name": "stdout",
     "output_type": "stream",
     "text": [
      "<class 'numpy.ndarray'>\n"
     ]
    },
    {
     "data": {
      "text/plain": [
       "(75, 2)"
      ]
     },
     "execution_count": 504,
     "metadata": {},
     "output_type": "execute_result"
    }
   ],
   "source": [
    "print(type(X_train))\n",
    "X_train.shape"
   ]
  },
  {
   "cell_type": "code",
   "execution_count": 505,
   "metadata": {},
   "outputs": [
    {
     "name": "stdout",
     "output_type": "stream",
     "text": [
      "<class 'numpy.ndarray'>\n"
     ]
    },
    {
     "data": {
      "text/plain": [
       "(75,)"
      ]
     },
     "execution_count": 505,
     "metadata": {},
     "output_type": "execute_result"
    }
   ],
   "source": [
    "print(type(y_train))\n",
    "y_train.shape"
   ]
  },
  {
   "cell_type": "code",
   "execution_count": 506,
   "metadata": {},
   "outputs": [
    {
     "name": "stdout",
     "output_type": "stream",
     "text": [
      "<class 'numpy.ndarray'>\n"
     ]
    },
    {
     "data": {
      "text/plain": [
       "(25, 2)"
      ]
     },
     "execution_count": 506,
     "metadata": {},
     "output_type": "execute_result"
    }
   ],
   "source": [
    "print(type(X_test))\n",
    "X_test.shape"
   ]
  },
  {
   "cell_type": "code",
   "execution_count": 507,
   "metadata": {},
   "outputs": [
    {
     "name": "stdout",
     "output_type": "stream",
     "text": [
      "<class 'numpy.ndarray'>\n"
     ]
    },
    {
     "data": {
      "text/plain": [
       "(25,)"
      ]
     },
     "execution_count": 507,
     "metadata": {},
     "output_type": "execute_result"
    }
   ],
   "source": [
    "print(type(y_test))\n",
    "y_test.shape"
   ]
  },
  {
   "cell_type": "markdown",
   "metadata": {},
   "source": [
    "## 【問題4】前処理・標準化"
   ]
  },
  {
   "cell_type": "code",
   "execution_count": 508,
   "metadata": {},
   "outputs": [],
   "source": [
    "from sklearn.preprocessing import StandardScaler\n",
    "scaler = StandardScaler()\n",
    "scaler.fit(X_train)\n",
    "scaler_X_train = scaler.transform(X_train)\n",
    "scaler_X_test = scaler.transform(X_test)\n"
   ]
  },
  {
   "cell_type": "markdown",
   "metadata": {},
   "source": [
    "## 【問題5】学習と推定"
   ]
  },
  {
   "cell_type": "code",
   "execution_count": 509,
   "metadata": {},
   "outputs": [
    {
     "data": {
      "text/plain": [
       "KNeighborsClassifier(algorithm='auto', leaf_size=30, metric='minkowski',\n",
       "                     metric_params=None, n_jobs=None, n_neighbors=3, p=2,\n",
       "                     weights='uniform')"
      ]
     },
     "execution_count": 509,
     "metadata": {},
     "output_type": "execute_result"
    }
   ],
   "source": [
    "from sklearn.neighbors import KNeighborsClassifier\n",
    "neigh5 = KNeighborsClassifier(n_neighbors=5)\n",
    "neigh5.fit(scaler_X_train, y_train)\n",
    "\n",
    "neigh1 = KNeighborsClassifier(n_neighbors=1)\n",
    "neigh1.fit(scaler_X_train, y_train)\n",
    "\n",
    "neigh3 = KNeighborsClassifier(n_neighbors=3)\n",
    "neigh3.fit(scaler_X_train, y_train)"
   ]
  },
  {
   "cell_type": "code",
   "execution_count": 510,
   "metadata": {},
   "outputs": [
    {
     "data": {
      "text/plain": [
       "array([2, 2, 2, 2, 1, 2, 2, 1, 2, 1, 1, 2, 1, 2, 1, 2, 1, 2, 1, 1, 1, 1,\n",
       "       1, 1, 2])"
      ]
     },
     "execution_count": 510,
     "metadata": {},
     "output_type": "execute_result"
    }
   ],
   "source": [
    "# 標準化済みのX_testで予測を行う。\n",
    "y_pred = neigh5.predict(scaler_X_test)\n",
    "y_pred"
   ]
  },
  {
   "cell_type": "code",
   "execution_count": 511,
   "metadata": {},
   "outputs": [
    {
     "data": {
      "text/plain": [
       "array([2, 2, 2, 2, 1, 2, 2, 1, 2, 1, 1, 2, 1, 1, 1, 2, 1, 2, 1, 1, 1, 1,\n",
       "       2, 1, 2])"
      ]
     },
     "execution_count": 511,
     "metadata": {},
     "output_type": "execute_result"
    }
   ],
   "source": [
    "# 正解データとの比較\n",
    "y_test"
   ]
  },
  {
   "cell_type": "markdown",
   "metadata": {},
   "source": [
    "## 【問題6】評価"
   ]
  },
  {
   "cell_type": "markdown",
   "metadata": {},
   "source": [
    "### scikit-learnを使い4種類の指標を計算する"
   ]
  },
  {
   "cell_type": "code",
   "execution_count": 512,
   "metadata": {},
   "outputs": [
    {
     "name": "stdout",
     "output_type": "stream",
     "text": [
      "Accuracy（正解率）:0.92\n",
      "Precision（適合率）:0.9230769230769231\n",
      "Recall（再現率）:0.9230769230769231\n",
      "F値:0.9230769230769231\n"
     ]
    }
   ],
   "source": [
    "# Accuracy（正解率）の算出\n",
    "from sklearn.metrics import accuracy_score, precision_score, recall_score, f1_score\n",
    "print(\"Accuracy（正解率）:{}\".format(accuracy_score(y_test, y_pred)))\n",
    "print(\"Precision（適合率）:{}\".format(precision_score(y_test, y_pred)))\n",
    "print(\"Recall（再現率）:{}\".format(recall_score(y_test, y_pred)))\n",
    "print(\"F値:{}\".format(f1_score(y_test, y_pred)))"
   ]
  },
  {
   "cell_type": "code",
   "execution_count": 513,
   "metadata": {},
   "outputs": [
    {
     "name": "stdout",
     "output_type": "stream",
     "text": [
      "{'versicolor': {'precision': 0.9230769230769231, 'recall': 0.9230769230769231, 'f1-score': 0.9230769230769231, 'support': 13}, 'virginica': {'precision': 0.9166666666666666, 'recall': 0.9166666666666666, 'f1-score': 0.9166666666666666, 'support': 12}, 'accuracy': 0.92, 'macro avg': {'precision': 0.9198717948717949, 'recall': 0.9198717948717949, 'f1-score': 0.9198717948717949, 'support': 25}, 'weighted avg': {'precision': 0.92, 'recall': 0.92, 'f1-score': 0.92, 'support': 25}}\n"
     ]
    },
    {
     "data": {
      "text/html": [
       "<div>\n",
       "<style scoped>\n",
       "    .dataframe tbody tr th:only-of-type {\n",
       "        vertical-align: middle;\n",
       "    }\n",
       "\n",
       "    .dataframe tbody tr th {\n",
       "        vertical-align: top;\n",
       "    }\n",
       "\n",
       "    .dataframe thead th {\n",
       "        text-align: right;\n",
       "    }\n",
       "</style>\n",
       "<table border=\"1\" class=\"dataframe\">\n",
       "  <thead>\n",
       "    <tr style=\"text-align: right;\">\n",
       "      <th></th>\n",
       "      <th>versicolor</th>\n",
       "      <th>virginica</th>\n",
       "      <th>accuracy</th>\n",
       "      <th>macro avg</th>\n",
       "      <th>weighted avg</th>\n",
       "    </tr>\n",
       "  </thead>\n",
       "  <tbody>\n",
       "    <tr>\n",
       "      <th>precision</th>\n",
       "      <td>0.923077</td>\n",
       "      <td>0.916667</td>\n",
       "      <td>0.92</td>\n",
       "      <td>0.919872</td>\n",
       "      <td>0.92</td>\n",
       "    </tr>\n",
       "    <tr>\n",
       "      <th>recall</th>\n",
       "      <td>0.923077</td>\n",
       "      <td>0.916667</td>\n",
       "      <td>0.92</td>\n",
       "      <td>0.919872</td>\n",
       "      <td>0.92</td>\n",
       "    </tr>\n",
       "    <tr>\n",
       "      <th>f1-score</th>\n",
       "      <td>0.923077</td>\n",
       "      <td>0.916667</td>\n",
       "      <td>0.92</td>\n",
       "      <td>0.919872</td>\n",
       "      <td>0.92</td>\n",
       "    </tr>\n",
       "    <tr>\n",
       "      <th>support</th>\n",
       "      <td>13.000000</td>\n",
       "      <td>12.000000</td>\n",
       "      <td>0.92</td>\n",
       "      <td>25.000000</td>\n",
       "      <td>25.00</td>\n",
       "    </tr>\n",
       "  </tbody>\n",
       "</table>\n",
       "</div>"
      ],
      "text/plain": [
       "           versicolor  virginica  accuracy  macro avg  weighted avg\n",
       "precision    0.923077   0.916667      0.92   0.919872          0.92\n",
       "recall       0.923077   0.916667      0.92   0.919872          0.92\n",
       "f1-score     0.923077   0.916667      0.92   0.919872          0.92\n",
       "support     13.000000  12.000000      0.92  25.000000         25.00"
      ]
     },
     "execution_count": 513,
     "metadata": {},
     "output_type": "execute_result"
    }
   ],
   "source": [
    "# まとめる\n",
    "import pandas as pd\n",
    "from sklearn.metrics import classification_report\n",
    "target_names = [iris_data.target_names[1], iris_data.target_names[2]]\n",
    "cr = classification_report(y_test, y_pred, target_names = target_names, output_dict=True)\n",
    "print(cr)\n",
    "\n",
    "# pandas.DataFrameへ変換\n",
    "df_cr = pd.DataFrame(cr)\n",
    "df_cr"
   ]
  },
  {
   "cell_type": "markdown",
   "metadata": {},
   "source": [
    "support欄はデータ件数で、検証データ25件の内、versicolorが13件、virginicaが12件だった事を示している。"
   ]
  },
  {
   "cell_type": "markdown",
   "metadata": {},
   "source": [
    "### 混同行列をscikit-learnを使い表示する"
   ]
  },
  {
   "cell_type": "code",
   "execution_count": 514,
   "metadata": {},
   "outputs": [
    {
     "data": {
      "text/plain": [
       "array([[12,  1],\n",
       "       [ 1, 11]], dtype=int64)"
      ]
     },
     "execution_count": 514,
     "metadata": {},
     "output_type": "execute_result"
    }
   ],
   "source": [
    "from sklearn.metrics import confusion_matrix\n",
    "# Confution Matrix作成\n",
    "confusion_m = confusion_matrix(y_test, y_pred)\n",
    "confusion_m"
   ]
  },
  {
   "cell_type": "markdown",
   "metadata": {},
   "source": [
    "### 4種類の指標値の意味について簡単に調査して文章でまとめる"
   ]
  },
  {
   "cell_type": "markdown",
   "metadata": {},
   "source": [
    "![image.png](https://qiita-image-store.s3.ap-northeast-1.amazonaws.com/0/70152/29cc37e7-ff2e-d781-d4a4-e328fd7526a1.png)\n",
    "\n",
    "今回の例では、versicolorをPositive、virginicaをNegativeとすると、  \n",
    "正解がversicolor(Positive)であり、versicolor(Positive)と正しく予想できたもの(TP)が13件、  \n",
    "正解がversicolor(Positive)であり、virginica(Negative)と間違えて予想したもの(FN)が1件、  \n",
    "正解がvirginica(Negative)であり、versicolor(Positive)と間違えて予想したもの(FP)が4件、   \n",
    "正解がvirginica(Negative)であり、virginica(Negative)と正しく予想できたもの(TN)が7件、 \n",
    "となる。"
   ]
  },
  {
   "cell_type": "markdown",
   "metadata": {},
   "source": [
    "#### <Accuracy（正解率）について>  \n",
    "全データの中で正しく分類できたTP,TNがどれだけあるかという指標であり、高いほど性能がよい。  \n",
    "$$\n",
    "Accuracy = \\frac{TP + TN}{TP + FP + FN + TN}\n",
    "$$\n",
    "\n",
    "今回の場合、  \n",
    "$$\n",
    "Accuracy = \\frac{12 + 11}{12 + 1 + 1 + 11} = \\frac{23}{25} = 0.92\n",
    "$$\n"
   ]
  },
  {
   "cell_type": "markdown",
   "metadata": {},
   "source": [
    "#### <Precision（適合率）について>\n",
    "Positive と分類されたデータ(TP + FP)の中で実際にPositiveだったデータ(TP)数の割合。  \n",
    "この値が高いほど性能が良く、間違った分類が少ないということを意味する。\n",
    "$$\n",
    "Presision = \\frac{TP}{TP + FP}\n",
    "$$\n",
    "\n",
    "新型コロナウィルスのPCR検査を例とすると、<font color=\"Red\">「陽性」</font>と判断された内、本当に新型コロナに<font color=\"Red\">罹患している率</font>となる。  \n",
    "この場合、本当は罹患していないが、「陽性」と判定された人も含めた中での本当の罹患者という意味になる。\n",
    "\n",
    "今回の場合、\n",
    "$$\n",
    "Presision = \\frac{12}{12 + 1} = \\frac{12}{13} ≒ 0.923\n",
    "$$\n"
   ]
  },
  {
   "cell_type": "markdown",
   "metadata": {},
   "source": [
    "#### <Recall（再現率）について>\n",
    "Positiveなデータを取りこぼし無く、正しくPositiveと推測できているかどうか。  \n",
    "この値が高いほど性能がよく、間違ったPositiveの判断が少ないということ。\n",
    "別の言い方をすれば本来Positiveと推測すべき全データの内、どれほど回収できたかという指標。\n",
    "$$\n",
    "Presision = \\frac{TP}{TP + FN}\n",
    "$$\n",
    "\n",
    "新型コロナウィルスのPCR検査を例とすると、新型コロナに<font color=\"Red\">罹患している内、</font>正しく<font color=\"Red\">「陽性」</font>と判断出来た率となる。  \n",
    "この値が小さいと判定漏れが多く、他の人にウイルスをばらまく状況となる。\n",
    "\n",
    "\n",
    "今回の場合、\n",
    "$$\n",
    "Presision = \\frac{12}{12 + 1} = \\frac{12}{13} = 0.923\n",
    "$$\n"
   ]
  },
  {
   "cell_type": "markdown",
   "metadata": {},
   "source": [
    "#### <F値について>\n",
    "上記のPrecision（適合率）とRecall（再現率）はトレードオフの関係であり、一方の精度を大きくすると、もう片方の精度が下がる。  \n",
    "これを是正するために、Precision（適合率）とRecall（再現率）の調和平均を取ったF値を用いる\n",
    "$$\n",
    "F-measure = 2×\\frac{Recall×Presision}{Recall + Presision}\n",
    "$$\n",
    "\n",
    "今回の場合、\n",
    "$$\n",
    "F-measure = 2×\\frac{0.923×0.923}{0.923 + 0.923} = 2\\frac{0.8519}{1.846} ≒ 0.923...\n",
    "$$"
   ]
  },
  {
   "cell_type": "markdown",
   "metadata": {},
   "source": [
    "#### ＜なぜ正解率（正解率）だけではだめなのか＞  \n",
    "Accuracyの評価指標で問題となるケース。  \n",
    "各ラベルの総数の差に、大きな乖離がある場合。  \n",
    "例えば、100枚の犬猫のデータがあるとして、98枚が犬、2枚が猫のデータ分布だった場合、  \n",
    "機械学習モデルが全て犬と予測すれば、必ず98%の精度になってしまう。  \n",
    "実際は、猫を全く検知できていないのにもかかわらず。"
   ]
  },
  {
   "cell_type": "markdown",
   "metadata": {},
   "source": [
    "## 【問題7】可視化"
   ]
  },
  {
   "cell_type": "code",
   "execution_count": 515,
   "metadata": {},
   "outputs": [],
   "source": [
    "import matplotlib.pyplot as plt\n",
    "from matplotlib.colors import ListedColormap\n",
    "import matplotlib.patches as mpatches\n",
    "def decision_region(X, y, model, step=0.01, title='decision region', xlabel='xlabel', ylabel='ylabel', target_names=['versicolor', 'virginica']):\n",
    "    \"\"\"\n",
    "    2値分類を2次元の特徴量で学習したモデルの決定領域を描く。\n",
    "    背景の色が学習したモデルによる推定値から描画される。\n",
    "    散布図の点は訓練データまたは検証データである。\n",
    "\n",
    "    Parameters\n",
    "    ----------------\n",
    "    X : ndarray, shape(n_samples, 2)\n",
    "        特徴量\n",
    "    y : ndarray, shape(n_samples,)\n",
    "        ラベル\n",
    "    model : object\n",
    "        学習したモデルのインスンタスを入れる\n",
    "    step : float, (default : 0.1)\n",
    "        推定値を計算する間隔を設定する\n",
    "    title : str\n",
    "        グラフのタイトルの文章を与える\n",
    "    xlabel, ylabel : str\n",
    "        軸ラベルの文章を与える\n",
    "    target_names= : list of str\n",
    "        凡例の一覧を与える\n",
    "    \"\"\"\n",
    "    # setting\n",
    "    scatter_color = ['red', 'blue']\n",
    "    contourf_color = ['pink', 'skyblue']\n",
    "    n_class = 2\n",
    "    \n",
    "    # pred\n",
    "    mesh_f0, mesh_f1  = np.meshgrid(np.arange(np.min(X[:,0])-0.5, np.max(X[:,0])+0.5, step), np.arange(np.min(X[:,1])-0.5, np.max(X[:,1])+0.5, step))\n",
    "    mesh = np.c_[np.ravel(mesh_f0),np.ravel(mesh_f1)]\n",
    "    y_pred = model.predict(mesh).reshape(mesh_f0.shape)\n",
    "    \n",
    "    # plot\n",
    "    plt.title(title)\n",
    "    plt.xlabel(xlabel)\n",
    "    plt.ylabel(ylabel)\n",
    "    plt.contourf(mesh_f0, mesh_f1, y_pred, n_class-1, cmap=ListedColormap(contourf_color))\n",
    "    plt.contour(mesh_f0, mesh_f1, y_pred, n_class-1, colors='y', linewidths=3, alpha=0.5)\n",
    "    for i, target in enumerate(set(y)):\n",
    "        plt.scatter(X[y==target][:, 0], X[y==target][:, 1], s=80, color=scatter_color[i], label=target_names[i], marker='o')\n",
    "        \n",
    "    patches = [mpatches.Patch(color=scatter_color[i], label=target_names[i]) for i in range(n_class)]\n",
    "    plt.legend(handles=patches)\n",
    "    plt.legend()\n",
    "    plt.show()\n",
    "    "
   ]
  },
  {
   "cell_type": "markdown",
   "metadata": {},
   "source": [
    "### ＜最近傍法＞"
   ]
  },
  {
   "cell_type": "code",
   "execution_count": 516,
   "metadata": {},
   "outputs": [
    {
     "data": {
      "text/html": [
       "<div>\n",
       "<style scoped>\n",
       "    .dataframe tbody tr th:only-of-type {\n",
       "        vertical-align: middle;\n",
       "    }\n",
       "\n",
       "    .dataframe tbody tr th {\n",
       "        vertical-align: top;\n",
       "    }\n",
       "\n",
       "    .dataframe thead th {\n",
       "        text-align: right;\n",
       "    }\n",
       "</style>\n",
       "<table border=\"1\" class=\"dataframe\">\n",
       "  <thead>\n",
       "    <tr style=\"text-align: right;\">\n",
       "      <th></th>\n",
       "      <th>versicolor</th>\n",
       "      <th>virginica</th>\n",
       "      <th>accuracy</th>\n",
       "      <th>macro avg</th>\n",
       "      <th>weighted avg</th>\n",
       "    </tr>\n",
       "  </thead>\n",
       "  <tbody>\n",
       "    <tr>\n",
       "      <th>precision</th>\n",
       "      <td>0.923077</td>\n",
       "      <td>0.916667</td>\n",
       "      <td>0.92</td>\n",
       "      <td>0.919872</td>\n",
       "      <td>0.92</td>\n",
       "    </tr>\n",
       "    <tr>\n",
       "      <th>recall</th>\n",
       "      <td>0.923077</td>\n",
       "      <td>0.916667</td>\n",
       "      <td>0.92</td>\n",
       "      <td>0.919872</td>\n",
       "      <td>0.92</td>\n",
       "    </tr>\n",
       "    <tr>\n",
       "      <th>f1-score</th>\n",
       "      <td>0.923077</td>\n",
       "      <td>0.916667</td>\n",
       "      <td>0.92</td>\n",
       "      <td>0.919872</td>\n",
       "      <td>0.92</td>\n",
       "    </tr>\n",
       "    <tr>\n",
       "      <th>support</th>\n",
       "      <td>13.000000</td>\n",
       "      <td>12.000000</td>\n",
       "      <td>0.92</td>\n",
       "      <td>25.000000</td>\n",
       "      <td>25.00</td>\n",
       "    </tr>\n",
       "  </tbody>\n",
       "</table>\n",
       "</div>"
      ],
      "text/plain": [
       "           versicolor  virginica  accuracy  macro avg  weighted avg\n",
       "precision    0.923077   0.916667      0.92   0.919872          0.92\n",
       "recall       0.923077   0.916667      0.92   0.919872          0.92\n",
       "f1-score     0.923077   0.916667      0.92   0.919872          0.92\n",
       "support     13.000000  12.000000      0.92  25.000000         25.00"
      ]
     },
     "metadata": {},
     "output_type": "display_data"
    },
    {
     "data": {
      "image/png": "[encoded data removed]",
      "text/plain": [
       "<Figure size 432x288 with 1 Axes>"
      ]
     },
     "metadata": {
      "needs_background": "light"
     },
     "output_type": "display_data"
    }
   ],
   "source": [
    "# 最近傍法\n",
    "neigh5 = KNeighborsClassifier(n_neighbors=5)\n",
    "\n",
    "# 学習\n",
    "neigh5.fit(scaler_X_train, y_train)\n",
    "\n",
    "# 推定\n",
    "y_pred_KN = neigh5.predict(scaler_X_test)\n",
    "\n",
    "# 評価\n",
    "accuracy_score_KN = accuracy_score(y_test, y_pred_KN)\n",
    "precision_score_KN = precision_score(y_test, y_pred_KN)\n",
    "recall_score_KN = recall_score(y_test, y_pred_KN)\n",
    "f1_score_KN = f1_score(y_test, y_pred_KN)\n",
    "\n",
    "target_names = [iris_data.target_names[1], iris_data.target_names[2]]\n",
    "cr_KN = classification_report(y_test, y_pred_KN, target_names = target_names, output_dict=True)\n",
    "\n",
    "# pandas.DataFrameへ変換\n",
    "df_cr_KN = pd.DataFrame(cr_KN)\n",
    "display(df_cr_KN)\n",
    "\n",
    "# 可視化\n",
    "decision_region(scaler_X_train, y_train, neigh5, title='decision region of 5-nn', xlabel='sepal_length', ylabel='petal_length')"
   ]
  },
  {
   "cell_type": "markdown",
   "metadata": {},
   "source": [
    "## 【問題8】他の手法の学習"
   ]
  },
  {
   "cell_type": "markdown",
   "metadata": {},
   "source": [
    "### ＜ロジスティック回帰＞"
   ]
  },
  {
   "cell_type": "code",
   "execution_count": 517,
   "metadata": {},
   "outputs": [
    {
     "data": {
      "text/html": [
       "<div>\n",
       "<style scoped>\n",
       "    .dataframe tbody tr th:only-of-type {\n",
       "        vertical-align: middle;\n",
       "    }\n",
       "\n",
       "    .dataframe tbody tr th {\n",
       "        vertical-align: top;\n",
       "    }\n",
       "\n",
       "    .dataframe thead th {\n",
       "        text-align: right;\n",
       "    }\n",
       "</style>\n",
       "<table border=\"1\" class=\"dataframe\">\n",
       "  <thead>\n",
       "    <tr style=\"text-align: right;\">\n",
       "      <th></th>\n",
       "      <th>versicolor</th>\n",
       "      <th>virginica</th>\n",
       "      <th>accuracy</th>\n",
       "      <th>macro avg</th>\n",
       "      <th>weighted avg</th>\n",
       "    </tr>\n",
       "  </thead>\n",
       "  <tbody>\n",
       "    <tr>\n",
       "      <th>precision</th>\n",
       "      <td>0.923077</td>\n",
       "      <td>0.916667</td>\n",
       "      <td>0.92</td>\n",
       "      <td>0.919872</td>\n",
       "      <td>0.92</td>\n",
       "    </tr>\n",
       "    <tr>\n",
       "      <th>recall</th>\n",
       "      <td>0.923077</td>\n",
       "      <td>0.916667</td>\n",
       "      <td>0.92</td>\n",
       "      <td>0.919872</td>\n",
       "      <td>0.92</td>\n",
       "    </tr>\n",
       "    <tr>\n",
       "      <th>f1-score</th>\n",
       "      <td>0.923077</td>\n",
       "      <td>0.916667</td>\n",
       "      <td>0.92</td>\n",
       "      <td>0.919872</td>\n",
       "      <td>0.92</td>\n",
       "    </tr>\n",
       "    <tr>\n",
       "      <th>support</th>\n",
       "      <td>13.000000</td>\n",
       "      <td>12.000000</td>\n",
       "      <td>0.92</td>\n",
       "      <td>25.000000</td>\n",
       "      <td>25.00</td>\n",
       "    </tr>\n",
       "  </tbody>\n",
       "</table>\n",
       "</div>"
      ],
      "text/plain": [
       "           versicolor  virginica  accuracy  macro avg  weighted avg\n",
       "precision    0.923077   0.916667      0.92   0.919872          0.92\n",
       "recall       0.923077   0.916667      0.92   0.919872          0.92\n",
       "f1-score     0.923077   0.916667      0.92   0.919872          0.92\n",
       "support     13.000000  12.000000      0.92  25.000000         25.00"
      ]
     },
     "metadata": {},
     "output_type": "display_data"
    },
    {
     "data": {
      "image/png": "[encoded data removed]",
      "text/plain": [
       "<Figure size 432x288 with 1 Axes>"
      ]
     },
     "metadata": {
      "needs_background": "light"
     },
     "output_type": "display_data"
    }
   ],
   "source": [
    "from sklearn.linear_model import LogisticRegression\n",
    "# 学習\n",
    "model_LR = LogisticRegression()\n",
    "clf = model_LR.fit(scaler_X_train, y_train)\n",
    "\n",
    "# 推定\n",
    "y_pred_LR = model_LR.predict(scaler_X_test)\n",
    "\n",
    "# 評価\n",
    "target_names = [iris_data.target_names[1], iris_data.target_names[2]]\n",
    "cr_LR = classification_report(y_test, y_pred_LR, target_names = target_names, output_dict=True)\n",
    "\n",
    "# pandas.DataFrameへ変換\n",
    "df_cr_LR = pd.DataFrame(cr_LR)\n",
    "display(df_cr_LR)\n",
    "\n",
    "# 可視化\n",
    "decision_region(scaler_X_train, y_train, clf, title='decision region of LogisticRegression', xlabel='sepal_length', ylabel='petal_length')"
   ]
  },
  {
   "cell_type": "markdown",
   "metadata": {},
   "source": [
    "### ＜SVM：サポートベクトルマシーン＞"
   ]
  },
  {
   "cell_type": "code",
   "execution_count": 518,
   "metadata": {},
   "outputs": [
    {
     "data": {
      "text/html": [
       "<div>\n",
       "<style scoped>\n",
       "    .dataframe tbody tr th:only-of-type {\n",
       "        vertical-align: middle;\n",
       "    }\n",
       "\n",
       "    .dataframe tbody tr th {\n",
       "        vertical-align: top;\n",
       "    }\n",
       "\n",
       "    .dataframe thead th {\n",
       "        text-align: right;\n",
       "    }\n",
       "</style>\n",
       "<table border=\"1\" class=\"dataframe\">\n",
       "  <thead>\n",
       "    <tr style=\"text-align: right;\">\n",
       "      <th></th>\n",
       "      <th>versicolor</th>\n",
       "      <th>virginica</th>\n",
       "      <th>accuracy</th>\n",
       "      <th>macro avg</th>\n",
       "      <th>weighted avg</th>\n",
       "    </tr>\n",
       "  </thead>\n",
       "  <tbody>\n",
       "    <tr>\n",
       "      <th>precision</th>\n",
       "      <td>0.923077</td>\n",
       "      <td>0.916667</td>\n",
       "      <td>0.92</td>\n",
       "      <td>0.919872</td>\n",
       "      <td>0.92</td>\n",
       "    </tr>\n",
       "    <tr>\n",
       "      <th>recall</th>\n",
       "      <td>0.923077</td>\n",
       "      <td>0.916667</td>\n",
       "      <td>0.92</td>\n",
       "      <td>0.919872</td>\n",
       "      <td>0.92</td>\n",
       "    </tr>\n",
       "    <tr>\n",
       "      <th>f1-score</th>\n",
       "      <td>0.923077</td>\n",
       "      <td>0.916667</td>\n",
       "      <td>0.92</td>\n",
       "      <td>0.919872</td>\n",
       "      <td>0.92</td>\n",
       "    </tr>\n",
       "    <tr>\n",
       "      <th>support</th>\n",
       "      <td>13.000000</td>\n",
       "      <td>12.000000</td>\n",
       "      <td>0.92</td>\n",
       "      <td>25.000000</td>\n",
       "      <td>25.00</td>\n",
       "    </tr>\n",
       "  </tbody>\n",
       "</table>\n",
       "</div>"
      ],
      "text/plain": [
       "           versicolor  virginica  accuracy  macro avg  weighted avg\n",
       "precision    0.923077   0.916667      0.92   0.919872          0.92\n",
       "recall       0.923077   0.916667      0.92   0.919872          0.92\n",
       "f1-score     0.923077   0.916667      0.92   0.919872          0.92\n",
       "support     13.000000  12.000000      0.92  25.000000         25.00"
      ]
     },
     "metadata": {},
     "output_type": "display_data"
    },
    {
     "data": {
      "image/png": "[encoded data removed]",
      "text/plain": [
       "<Figure size 432x288 with 1 Axes>"
      ]
     },
     "metadata": {
      "needs_background": "light"
     },
     "output_type": "display_data"
    }
   ],
   "source": [
    "from sklearn.svm import SVC\n",
    "\n",
    "# SVM\n",
    "model_SVC = SVC()\n",
    "\n",
    "# 学習\n",
    "clf = model_SVC.fit(scaler_X_train, y_train)\n",
    "\n",
    "# 推定\n",
    "y_pred_SVM = model_SVC.predict(scaler_X_test)\n",
    "\n",
    "# 評価\n",
    "target_names = [iris_data.target_names[1], iris_data.target_names[2]]\n",
    "cr_SVN = classification_report(y_test, y_pred_SVM, target_names = target_names, output_dict=True)\n",
    "\n",
    "# pandas.DataFrameへ変換\n",
    "df_cr_SVN = pd.DataFrame(cr_SVN)\n",
    "display(df_cr_SVN)\n",
    "\n",
    "# 可視化\n",
    "decision_region(scaler_X_train, y_train, clf, title='decision region of SVM', xlabel='sepal_length', ylabel='petal_length')"
   ]
  },
  {
   "cell_type": "markdown",
   "metadata": {},
   "source": [
    "### ＜決定木＞"
   ]
  },
  {
   "cell_type": "code",
   "execution_count": 519,
   "metadata": {
    "scrolled": false
   },
   "outputs": [
    {
     "data": {
      "text/html": [
       "<div>\n",
       "<style scoped>\n",
       "    .dataframe tbody tr th:only-of-type {\n",
       "        vertical-align: middle;\n",
       "    }\n",
       "\n",
       "    .dataframe tbody tr th {\n",
       "        vertical-align: top;\n",
       "    }\n",
       "\n",
       "    .dataframe thead th {\n",
       "        text-align: right;\n",
       "    }\n",
       "</style>\n",
       "<table border=\"1\" class=\"dataframe\">\n",
       "  <thead>\n",
       "    <tr style=\"text-align: right;\">\n",
       "      <th></th>\n",
       "      <th>versicolor</th>\n",
       "      <th>virginica</th>\n",
       "      <th>accuracy</th>\n",
       "      <th>macro avg</th>\n",
       "      <th>weighted avg</th>\n",
       "    </tr>\n",
       "  </thead>\n",
       "  <tbody>\n",
       "    <tr>\n",
       "      <th>precision</th>\n",
       "      <td>0.916667</td>\n",
       "      <td>0.846154</td>\n",
       "      <td>0.88</td>\n",
       "      <td>0.88141</td>\n",
       "      <td>0.882821</td>\n",
       "    </tr>\n",
       "    <tr>\n",
       "      <th>recall</th>\n",
       "      <td>0.846154</td>\n",
       "      <td>0.916667</td>\n",
       "      <td>0.88</td>\n",
       "      <td>0.88141</td>\n",
       "      <td>0.880000</td>\n",
       "    </tr>\n",
       "    <tr>\n",
       "      <th>f1-score</th>\n",
       "      <td>0.880000</td>\n",
       "      <td>0.880000</td>\n",
       "      <td>0.88</td>\n",
       "      <td>0.88000</td>\n",
       "      <td>0.880000</td>\n",
       "    </tr>\n",
       "    <tr>\n",
       "      <th>support</th>\n",
       "      <td>13.000000</td>\n",
       "      <td>12.000000</td>\n",
       "      <td>0.88</td>\n",
       "      <td>25.00000</td>\n",
       "      <td>25.000000</td>\n",
       "    </tr>\n",
       "  </tbody>\n",
       "</table>\n",
       "</div>"
      ],
      "text/plain": [
       "           versicolor  virginica  accuracy  macro avg  weighted avg\n",
       "precision    0.916667   0.846154      0.88    0.88141      0.882821\n",
       "recall       0.846154   0.916667      0.88    0.88141      0.880000\n",
       "f1-score     0.880000   0.880000      0.88    0.88000      0.880000\n",
       "support     13.000000  12.000000      0.88   25.00000     25.000000"
      ]
     },
     "metadata": {},
     "output_type": "display_data"
    },
    {
     "data": {
      "image/png": "[encoded data removed]",
      "text/plain": [
       "<Figure size 432x288 with 1 Axes>"
      ]
     },
     "metadata": {
      "needs_background": "light"
     },
     "output_type": "display_data"
    }
   ],
   "source": [
    "from sklearn.tree import DecisionTreeClassifier\n",
    "# 決定木\n",
    "model_DT = DecisionTreeClassifier()\n",
    "\n",
    "# 学習\n",
    "clf = model_DT.fit(scaler_X_train, y_train)\n",
    "\n",
    "# 推定\n",
    "y_pred_DT = model_DT.predict(scaler_X_test)\n",
    "\n",
    "# 評価\n",
    "target_names = [iris_data.target_names[1], iris_data.target_names[2]]\n",
    "cr_DT = classification_report(y_test, y_pred_DT, target_names = target_names, output_dict=True)\n",
    "\n",
    "# pandas.DataFrameへ変換\n",
    "df_cr_DT = pd.DataFrame(cr_DT)\n",
    "display(df_cr_DT)\n",
    "\n",
    "# 可視化\n",
    "decision_region(scaler_X_train, y_train, clf, title='decision region of DecisionTree', xlabel='sepal_length', ylabel='petal_length')"
   ]
  },
  {
   "cell_type": "markdown",
   "metadata": {},
   "source": [
    "### ＜ランダムフォレスト＞"
   ]
  },
  {
   "cell_type": "code",
   "execution_count": 520,
   "metadata": {},
   "outputs": [
    {
     "data": {
      "text/html": [
       "<div>\n",
       "<style scoped>\n",
       "    .dataframe tbody tr th:only-of-type {\n",
       "        vertical-align: middle;\n",
       "    }\n",
       "\n",
       "    .dataframe tbody tr th {\n",
       "        vertical-align: top;\n",
       "    }\n",
       "\n",
       "    .dataframe thead th {\n",
       "        text-align: right;\n",
       "    }\n",
       "</style>\n",
       "<table border=\"1\" class=\"dataframe\">\n",
       "  <thead>\n",
       "    <tr style=\"text-align: right;\">\n",
       "      <th></th>\n",
       "      <th>versicolor</th>\n",
       "      <th>virginica</th>\n",
       "      <th>accuracy</th>\n",
       "      <th>macro avg</th>\n",
       "      <th>weighted avg</th>\n",
       "    </tr>\n",
       "  </thead>\n",
       "  <tbody>\n",
       "    <tr>\n",
       "      <th>precision</th>\n",
       "      <td>0.923077</td>\n",
       "      <td>0.916667</td>\n",
       "      <td>0.92</td>\n",
       "      <td>0.919872</td>\n",
       "      <td>0.92</td>\n",
       "    </tr>\n",
       "    <tr>\n",
       "      <th>recall</th>\n",
       "      <td>0.923077</td>\n",
       "      <td>0.916667</td>\n",
       "      <td>0.92</td>\n",
       "      <td>0.919872</td>\n",
       "      <td>0.92</td>\n",
       "    </tr>\n",
       "    <tr>\n",
       "      <th>f1-score</th>\n",
       "      <td>0.923077</td>\n",
       "      <td>0.916667</td>\n",
       "      <td>0.92</td>\n",
       "      <td>0.919872</td>\n",
       "      <td>0.92</td>\n",
       "    </tr>\n",
       "    <tr>\n",
       "      <th>support</th>\n",
       "      <td>13.000000</td>\n",
       "      <td>12.000000</td>\n",
       "      <td>0.92</td>\n",
       "      <td>25.000000</td>\n",
       "      <td>25.00</td>\n",
       "    </tr>\n",
       "  </tbody>\n",
       "</table>\n",
       "</div>"
      ],
      "text/plain": [
       "           versicolor  virginica  accuracy  macro avg  weighted avg\n",
       "precision    0.923077   0.916667      0.92   0.919872          0.92\n",
       "recall       0.923077   0.916667      0.92   0.919872          0.92\n",
       "f1-score     0.923077   0.916667      0.92   0.919872          0.92\n",
       "support     13.000000  12.000000      0.92  25.000000         25.00"
      ]
     },
     "metadata": {},
     "output_type": "display_data"
    },
    {
     "data": {
      "image/png": "[encoded data removed]",
      "text/plain": [
       "<Figure size 432x288 with 1 Axes>"
      ]
     },
     "metadata": {
      "needs_background": "light"
     },
     "output_type": "display_data"
    }
   ],
   "source": [
    "from sklearn.ensemble import RandomForestClassifier\n",
    "# ランダムフォレスト\n",
    "model_RF = RandomForestClassifier()\n",
    "# 学習\n",
    "clf = model_RF.fit(scaler_X_train, y_train)\n",
    "\n",
    "# 推定\n",
    "y_pred_RF = model_RF.predict(scaler_X_test)\n",
    "\n",
    "# 評価\n",
    "target_names = [iris_data.target_names[1], iris_data.target_names[2]]\n",
    "cr_RF = classification_report(y_test, y_pred_RF, target_names = target_names, output_dict=True)\n",
    "\n",
    "# pandas.DataFrameへ変換\n",
    "df_cr_RF = pd.DataFrame(cr_RF)\n",
    "display(df_cr_RF)\n",
    "\n",
    "# 可視化\n",
    "decision_region(scaler_X_train, y_train, clf, title='decision region of RandomForest', xlabel='sepal_length', ylabel='petal_length')"
   ]
  },
  {
   "cell_type": "markdown",
   "metadata": {},
   "source": [
    "### 各手法をまとめると"
   ]
  },
  {
   "cell_type": "markdown",
   "metadata": {},
   "source": [
    "<table>\n",
    "\t<tr>\n",
    "\t\t<td rowspan=\"2\"></td>\n",
    "\t\t<td colspan=\"2\">最近傍法</td>\n",
    "\t\t<td colspan=\"2\">ロジスティック回帰</td>\n",
    "\t\t<td colspan=\"2\">SVM</td>\n",
    "\t\t<td colspan=\"2\">決定木</td>\n",
    "\t\t<td colspan=\"2\">ランダムフォレスト</td>\n",
    "\t\t<td></td>\n",
    "\t</tr>\n",
    "\t<tr>\n",
    "\t\t<td>versicolor</td>\n",
    "\t\t<td>virginica</td>\n",
    "\t\t<td>versicolor</td>\n",
    "\t\t<td>virginica</td>\n",
    "\t\t<td>versicolor</td>\n",
    "\t\t<td>virginica</td>\n",
    "\t\t<td>versicolor</td>\n",
    "\t\t<td>virginica</td>\n",
    "\t\t<td>versicolor</td>\n",
    "\t\t<td>virginica</td>\n",
    "\t</tr>\n",
    "\t<tr>\n",
    "\t\t<td>accuracy</td>\n",
    "\t\t<td colspan=\"2\">0.9200</td>\n",
    "\t\t<td colspan=\"2\">0.9200</td>\n",
    "\t\t<td colspan=\"2\">0.9200</td>\n",
    "\t\t<td colspan=\"2\">0.8800</td>\n",
    "\t\t<td colspan=\"2\">0.9200</td>\n",
    "\t</tr>\n",
    "\t<tr>\n",
    "\t\t<td>precision</td>\n",
    "\t\t<td>0.9231</td>\n",
    "\t\t<td>0.9167</td>\n",
    "\t\t<td>0.9231</td>\n",
    "\t\t<td>0.9167</td>\n",
    "\t\t<td>0.9231</td>\n",
    "\t\t<td>0.9167</td>\n",
    "\t\t<td>0.9167</td>\n",
    "\t\t<td>0.8462</td>\n",
    "\t\t<td>0.9231</td>\n",
    "\t\t<td>0.9167</td>\n",
    "\t</tr>\n",
    "\t<tr>\n",
    "\t\t<td><left>recall</left></td>\n",
    "\t\t<td>0.9231</td>\n",
    "\t\t<td>0.9167</td>\n",
    "\t\t<td>0.9231</td>\n",
    "\t\t<td>0.9167</td>\n",
    "\t\t<td>0.9231</td>\n",
    "\t\t<td>0.9167</td>\n",
    "\t\t<td>0.8462</td>\n",
    "\t\t<td>0.9167</td>\n",
    "\t\t<td>0.9231</td>\n",
    "\t\t<td>0.9167</td>\n",
    "\t</tr>\n",
    "\t<tr>\n",
    "\t\t<td>f1-score</td>\n",
    "\t\t<td>0.9231</td>\n",
    "\t\t<td>0.9167</td>\n",
    "\t\t<td>0.9231</td>\n",
    "\t\t<td>0.9167</td>\n",
    "\t\t<td>0.9231</td>\n",
    "\t\t<td>0.9167</td>\n",
    "\t\t<td>0.8800</td>\n",
    "\t\t<td>0.8800</td>\n",
    "\t\t<td>0.9231</td>\n",
    "\t\t<td>0.9167</td>\n",
    "\t</tr>\n",
    "\t<tr>\n",
    "\t\t<td>support</td>\n",
    "\t\t<td>13</td>\n",
    "\t\t<td>12</td>\n",
    "\t\t<td>13</td>\n",
    "\t\t<td>12</td>\n",
    "\t\t<td>13</td>\n",
    "\t\t<td>12</td>\n",
    "\t\t<td>13</td>\n",
    "\t\t<td>12</td>\n",
    "\t\t<td>13</td>\n",
    "\t\t<td>12</td>\n",
    "\t</tr>\n",
    "</table>\n"
   ]
  },
  {
   "cell_type": "markdown",
   "metadata": {},
   "source": [
    "f1-scoreで比較するとversicolorの決定木が一番高い精度を示している。  \n",
    "（尚、オプションのパラメータはすべてデフォルトとした。最適なパラメータを指定することによりより精度は上がると考えられる）  \n",
    "\n",
    "＜決定領域について＞  \n",
    "・最近傍法：境界付近で曲線的に分割されているが、左端のvirginicaが外れ値となってしまっている。  \n",
    "・ロジスティック回帰：versicolorとvirginicaの境界付近で直線的に分割されているため、最近傍法と同じく、左端のvirginicaが外れ値となってしまっている。  \n",
    "・SVM：境界付近で曲線状に分割されており、外れ値もほぼ無い。  \n",
    "・決定木：境界付近で階段状に分割されている。、外れ値もほぼ無い。自然現象でこのような階段状に分布が変わるのはほぼ無い。  \n",
    "・ランダムフォレスト：決定木と同様に階段状に分割されているが、外れ値となる左端のvirginicaに過剰反応し、境界面がおかしなことになっている。自然現象でこのような分布になるのはありえない。  "
   ]
  },
  {
   "cell_type": "markdown",
   "metadata": {},
   "source": [
    "## 【問題9】（アドバンス課題）標準化の有無の比較"
   ]
  },
  {
   "cell_type": "markdown",
   "metadata": {},
   "source": [
    "### ＜最近傍法＞"
   ]
  },
  {
   "cell_type": "code",
   "execution_count": 521,
   "metadata": {},
   "outputs": [
    {
     "name": "stdout",
     "output_type": "stream",
     "text": [
      "標準化なし\n"
     ]
    },
    {
     "data": {
      "text/html": [
       "<div>\n",
       "<style scoped>\n",
       "    .dataframe tbody tr th:only-of-type {\n",
       "        vertical-align: middle;\n",
       "    }\n",
       "\n",
       "    .dataframe tbody tr th {\n",
       "        vertical-align: top;\n",
       "    }\n",
       "\n",
       "    .dataframe thead th {\n",
       "        text-align: right;\n",
       "    }\n",
       "</style>\n",
       "<table border=\"1\" class=\"dataframe\">\n",
       "  <thead>\n",
       "    <tr style=\"text-align: right;\">\n",
       "      <th></th>\n",
       "      <th>versicolor</th>\n",
       "      <th>virginica</th>\n",
       "      <th>accuracy</th>\n",
       "      <th>macro avg</th>\n",
       "      <th>weighted avg</th>\n",
       "    </tr>\n",
       "  </thead>\n",
       "  <tbody>\n",
       "    <tr>\n",
       "      <th>precision</th>\n",
       "      <td>0.923077</td>\n",
       "      <td>0.916667</td>\n",
       "      <td>0.92</td>\n",
       "      <td>0.919872</td>\n",
       "      <td>0.92</td>\n",
       "    </tr>\n",
       "    <tr>\n",
       "      <th>recall</th>\n",
       "      <td>0.923077</td>\n",
       "      <td>0.916667</td>\n",
       "      <td>0.92</td>\n",
       "      <td>0.919872</td>\n",
       "      <td>0.92</td>\n",
       "    </tr>\n",
       "    <tr>\n",
       "      <th>f1-score</th>\n",
       "      <td>0.923077</td>\n",
       "      <td>0.916667</td>\n",
       "      <td>0.92</td>\n",
       "      <td>0.919872</td>\n",
       "      <td>0.92</td>\n",
       "    </tr>\n",
       "    <tr>\n",
       "      <th>support</th>\n",
       "      <td>13.000000</td>\n",
       "      <td>12.000000</td>\n",
       "      <td>0.92</td>\n",
       "      <td>25.000000</td>\n",
       "      <td>25.00</td>\n",
       "    </tr>\n",
       "  </tbody>\n",
       "</table>\n",
       "</div>"
      ],
      "text/plain": [
       "           versicolor  virginica  accuracy  macro avg  weighted avg\n",
       "precision    0.923077   0.916667      0.92   0.919872          0.92\n",
       "recall       0.923077   0.916667      0.92   0.919872          0.92\n",
       "f1-score     0.923077   0.916667      0.92   0.919872          0.92\n",
       "support     13.000000  12.000000      0.92  25.000000         25.00"
      ]
     },
     "metadata": {},
     "output_type": "display_data"
    },
    {
     "name": "stdout",
     "output_type": "stream",
     "text": [
      "\n",
      "標準化あり\n"
     ]
    },
    {
     "data": {
      "text/html": [
       "<div>\n",
       "<style scoped>\n",
       "    .dataframe tbody tr th:only-of-type {\n",
       "        vertical-align: middle;\n",
       "    }\n",
       "\n",
       "    .dataframe tbody tr th {\n",
       "        vertical-align: top;\n",
       "    }\n",
       "\n",
       "    .dataframe thead th {\n",
       "        text-align: right;\n",
       "    }\n",
       "</style>\n",
       "<table border=\"1\" class=\"dataframe\">\n",
       "  <thead>\n",
       "    <tr style=\"text-align: right;\">\n",
       "      <th></th>\n",
       "      <th>versicolor</th>\n",
       "      <th>virginica</th>\n",
       "      <th>accuracy</th>\n",
       "      <th>macro avg</th>\n",
       "      <th>weighted avg</th>\n",
       "    </tr>\n",
       "  </thead>\n",
       "  <tbody>\n",
       "    <tr>\n",
       "      <th>precision</th>\n",
       "      <td>0.923077</td>\n",
       "      <td>0.916667</td>\n",
       "      <td>0.92</td>\n",
       "      <td>0.919872</td>\n",
       "      <td>0.92</td>\n",
       "    </tr>\n",
       "    <tr>\n",
       "      <th>recall</th>\n",
       "      <td>0.923077</td>\n",
       "      <td>0.916667</td>\n",
       "      <td>0.92</td>\n",
       "      <td>0.919872</td>\n",
       "      <td>0.92</td>\n",
       "    </tr>\n",
       "    <tr>\n",
       "      <th>f1-score</th>\n",
       "      <td>0.923077</td>\n",
       "      <td>0.916667</td>\n",
       "      <td>0.92</td>\n",
       "      <td>0.919872</td>\n",
       "      <td>0.92</td>\n",
       "    </tr>\n",
       "    <tr>\n",
       "      <th>support</th>\n",
       "      <td>13.000000</td>\n",
       "      <td>12.000000</td>\n",
       "      <td>0.92</td>\n",
       "      <td>25.000000</td>\n",
       "      <td>25.00</td>\n",
       "    </tr>\n",
       "  </tbody>\n",
       "</table>\n",
       "</div>"
      ],
      "text/plain": [
       "           versicolor  virginica  accuracy  macro avg  weighted avg\n",
       "precision    0.923077   0.916667      0.92   0.919872          0.92\n",
       "recall       0.923077   0.916667      0.92   0.919872          0.92\n",
       "f1-score     0.923077   0.916667      0.92   0.919872          0.92\n",
       "support     13.000000  12.000000      0.92  25.000000         25.00"
      ]
     },
     "metadata": {},
     "output_type": "display_data"
    }
   ],
   "source": [
    "# 最近傍法\n",
    "neigh5 = KNeighborsClassifier(n_neighbors=5)\n",
    "ss_neigh5 = KNeighborsClassifier(n_neighbors=5)\n",
    "\n",
    "# 学習\n",
    "neigh5.fit(X_train, y_train)\n",
    "ss_neigh5.fit(scaler_X_train, y_train)\n",
    "\n",
    "# 推定\n",
    "y_pred_KN = neigh5.predict(X_test)\n",
    "ss_y_pred_KN = ss_neigh5.predict(scaler_X_test)\n",
    "\n",
    "# 評価\n",
    "target_names = [iris_data.target_names[1], iris_data.target_names[2]]\n",
    "cr_KN = classification_report(y_test, y_pred_KN, target_names = target_names, output_dict=True)\n",
    "ss_cr_KN = classification_report(y_test, ss_y_pred_KN, target_names = target_names, output_dict=True)\n",
    "\n",
    "# pandas.DataFrameへ変換\n",
    "df_cr_KN = pd.DataFrame(cr_KN)\n",
    "df_cr_KN\n",
    "print(\"標準化なし\")\n",
    "display(df_cr_KN)\n",
    "\n",
    "# pandas.DataFrameへ変換\n",
    "df_ss_cr_KN = pd.DataFrame(ss_cr_KN)\n",
    "print(\"\")\n",
    "print(\"標準化あり\")\n",
    "display(df_ss_cr_KN)"
   ]
  },
  {
   "cell_type": "code",
   "execution_count": 522,
   "metadata": {},
   "outputs": [
    {
     "data": {
      "image/png": "[encoded data removed]",
      "text/plain": [
       "<Figure size 432x288 with 1 Axes>"
      ]
     },
     "metadata": {
      "needs_background": "light"
     },
     "output_type": "display_data"
    },
    {
     "data": {
      "image/png": "[encoded data removed]",
      "text/plain": [
       "<Figure size 432x288 with 1 Axes>"
      ]
     },
     "metadata": {
      "needs_background": "light"
     },
     "output_type": "display_data"
    }
   ],
   "source": [
    "# 可視化\n",
    "decision_region(X_train, y_train, neigh5, title='decision region of 5-nn', xlabel='sepal_length', ylabel='petal_length')\n",
    "decision_region(scaler_X_train, y_train, ss_neigh5, title='decision region of 5-nn with StandardScaler', xlabel='sepal_length', ylabel='petal_length')"
   ]
  },
  {
   "cell_type": "markdown",
   "metadata": {},
   "source": [
    "### ＜ロジスティック回帰＞"
   ]
  },
  {
   "cell_type": "code",
   "execution_count": 523,
   "metadata": {},
   "outputs": [
    {
     "name": "stdout",
     "output_type": "stream",
     "text": [
      "標準化なし\n"
     ]
    },
    {
     "data": {
      "text/html": [
       "<div>\n",
       "<style scoped>\n",
       "    .dataframe tbody tr th:only-of-type {\n",
       "        vertical-align: middle;\n",
       "    }\n",
       "\n",
       "    .dataframe tbody tr th {\n",
       "        vertical-align: top;\n",
       "    }\n",
       "\n",
       "    .dataframe thead th {\n",
       "        text-align: right;\n",
       "    }\n",
       "</style>\n",
       "<table border=\"1\" class=\"dataframe\">\n",
       "  <thead>\n",
       "    <tr style=\"text-align: right;\">\n",
       "      <th></th>\n",
       "      <th>versicolor</th>\n",
       "      <th>virginica</th>\n",
       "      <th>accuracy</th>\n",
       "      <th>macro avg</th>\n",
       "      <th>weighted avg</th>\n",
       "    </tr>\n",
       "  </thead>\n",
       "  <tbody>\n",
       "    <tr>\n",
       "      <th>precision</th>\n",
       "      <td>0.923077</td>\n",
       "      <td>0.916667</td>\n",
       "      <td>0.92</td>\n",
       "      <td>0.919872</td>\n",
       "      <td>0.92</td>\n",
       "    </tr>\n",
       "    <tr>\n",
       "      <th>recall</th>\n",
       "      <td>0.923077</td>\n",
       "      <td>0.916667</td>\n",
       "      <td>0.92</td>\n",
       "      <td>0.919872</td>\n",
       "      <td>0.92</td>\n",
       "    </tr>\n",
       "    <tr>\n",
       "      <th>f1-score</th>\n",
       "      <td>0.923077</td>\n",
       "      <td>0.916667</td>\n",
       "      <td>0.92</td>\n",
       "      <td>0.919872</td>\n",
       "      <td>0.92</td>\n",
       "    </tr>\n",
       "    <tr>\n",
       "      <th>support</th>\n",
       "      <td>13.000000</td>\n",
       "      <td>12.000000</td>\n",
       "      <td>0.92</td>\n",
       "      <td>25.000000</td>\n",
       "      <td>25.00</td>\n",
       "    </tr>\n",
       "  </tbody>\n",
       "</table>\n",
       "</div>"
      ],
      "text/plain": [
       "           versicolor  virginica  accuracy  macro avg  weighted avg\n",
       "precision    0.923077   0.916667      0.92   0.919872          0.92\n",
       "recall       0.923077   0.916667      0.92   0.919872          0.92\n",
       "f1-score     0.923077   0.916667      0.92   0.919872          0.92\n",
       "support     13.000000  12.000000      0.92  25.000000         25.00"
      ]
     },
     "metadata": {},
     "output_type": "display_data"
    },
    {
     "name": "stdout",
     "output_type": "stream",
     "text": [
      "\n",
      "標準化あり\n"
     ]
    },
    {
     "data": {
      "text/html": [
       "<div>\n",
       "<style scoped>\n",
       "    .dataframe tbody tr th:only-of-type {\n",
       "        vertical-align: middle;\n",
       "    }\n",
       "\n",
       "    .dataframe tbody tr th {\n",
       "        vertical-align: top;\n",
       "    }\n",
       "\n",
       "    .dataframe thead th {\n",
       "        text-align: right;\n",
       "    }\n",
       "</style>\n",
       "<table border=\"1\" class=\"dataframe\">\n",
       "  <thead>\n",
       "    <tr style=\"text-align: right;\">\n",
       "      <th></th>\n",
       "      <th>versicolor</th>\n",
       "      <th>virginica</th>\n",
       "      <th>accuracy</th>\n",
       "      <th>macro avg</th>\n",
       "      <th>weighted avg</th>\n",
       "    </tr>\n",
       "  </thead>\n",
       "  <tbody>\n",
       "    <tr>\n",
       "      <th>precision</th>\n",
       "      <td>0.923077</td>\n",
       "      <td>0.916667</td>\n",
       "      <td>0.92</td>\n",
       "      <td>0.919872</td>\n",
       "      <td>0.92</td>\n",
       "    </tr>\n",
       "    <tr>\n",
       "      <th>recall</th>\n",
       "      <td>0.923077</td>\n",
       "      <td>0.916667</td>\n",
       "      <td>0.92</td>\n",
       "      <td>0.919872</td>\n",
       "      <td>0.92</td>\n",
       "    </tr>\n",
       "    <tr>\n",
       "      <th>f1-score</th>\n",
       "      <td>0.923077</td>\n",
       "      <td>0.916667</td>\n",
       "      <td>0.92</td>\n",
       "      <td>0.919872</td>\n",
       "      <td>0.92</td>\n",
       "    </tr>\n",
       "    <tr>\n",
       "      <th>support</th>\n",
       "      <td>13.000000</td>\n",
       "      <td>12.000000</td>\n",
       "      <td>0.92</td>\n",
       "      <td>25.000000</td>\n",
       "      <td>25.00</td>\n",
       "    </tr>\n",
       "  </tbody>\n",
       "</table>\n",
       "</div>"
      ],
      "text/plain": [
       "           versicolor  virginica  accuracy  macro avg  weighted avg\n",
       "precision    0.923077   0.916667      0.92   0.919872          0.92\n",
       "recall       0.923077   0.916667      0.92   0.919872          0.92\n",
       "f1-score     0.923077   0.916667      0.92   0.919872          0.92\n",
       "support     13.000000  12.000000      0.92  25.000000         25.00"
      ]
     },
     "metadata": {},
     "output_type": "display_data"
    }
   ],
   "source": [
    "from sklearn.linear_model import LogisticRegression\n",
    "# ロジスティック回帰\n",
    "model_LR = LogisticRegression()\n",
    "ss_model_LR = LogisticRegression()\n",
    "\n",
    "# 学習\n",
    "clf = model_LR.fit(X_train, y_train)\n",
    "ss_clf = ss_model_LR.fit(scaler_X_train, y_train)\n",
    "\n",
    "# 推定\n",
    "y_pred_LR = model_LR.predict(X_test)\n",
    "ss_y_pred_LR = ss_model_LR.predict(scaler_X_test)\n",
    "\n",
    "# 評価\n",
    "target_names = [iris_data.target_names[1], iris_data.target_names[2]]\n",
    "cr_LR = classification_report(y_test, y_pred_LR, target_names = target_names, output_dict=True)\n",
    "ss_cr_LR = classification_report(y_test, ss_y_pred_LR, target_names = target_names, output_dict=True)\n",
    "\n",
    "# pandas.DataFrameへ変換\n",
    "df_cr_LR = pd.DataFrame(cr_LR)\n",
    "print(\"標準化なし\")\n",
    "display(df_cr_LR)\n",
    "\n",
    "# pandas.DataFrameへ変換\n",
    "df_cr_LR = pd.DataFrame(ss_cr_LR)\n",
    "print(\"\")\n",
    "print(\"標準化あり\")\n",
    "display(df_cr_LR)"
   ]
  },
  {
   "cell_type": "code",
   "execution_count": 524,
   "metadata": {},
   "outputs": [
    {
     "data": {
      "image/png": "[encoded data removed]",
      "text/plain": [
       "<Figure size 432x288 with 1 Axes>"
      ]
     },
     "metadata": {
      "needs_background": "light"
     },
     "output_type": "display_data"
    },
    {
     "data": {
      "image/png": "[encoded data removed]",
      "text/plain": [
       "<Figure size 432x288 with 1 Axes>"
      ]
     },
     "metadata": {
      "needs_background": "light"
     },
     "output_type": "display_data"
    }
   ],
   "source": [
    "# 可視化\n",
    "decision_region(X_train, y_train, clf, title='decision region of LogisticRegression', xlabel='sepal_length', ylabel='petal_length')\n",
    "decision_region(scaler_X_train, y_train, ss_clf, title='decision region of LogisticRegression with StandardScaler', xlabel='sepal_length', ylabel='petal_length')"
   ]
  },
  {
   "cell_type": "markdown",
   "metadata": {},
   "source": [
    "### ＜SVM：サポートベクトルマシーン＞"
   ]
  },
  {
   "cell_type": "code",
   "execution_count": 525,
   "metadata": {},
   "outputs": [
    {
     "name": "stdout",
     "output_type": "stream",
     "text": [
      "標準化なし\n"
     ]
    },
    {
     "data": {
      "text/html": [
       "<div>\n",
       "<style scoped>\n",
       "    .dataframe tbody tr th:only-of-type {\n",
       "        vertical-align: middle;\n",
       "    }\n",
       "\n",
       "    .dataframe tbody tr th {\n",
       "        vertical-align: top;\n",
       "    }\n",
       "\n",
       "    .dataframe thead th {\n",
       "        text-align: right;\n",
       "    }\n",
       "</style>\n",
       "<table border=\"1\" class=\"dataframe\">\n",
       "  <thead>\n",
       "    <tr style=\"text-align: right;\">\n",
       "      <th></th>\n",
       "      <th>versicolor</th>\n",
       "      <th>virginica</th>\n",
       "      <th>accuracy</th>\n",
       "      <th>macro avg</th>\n",
       "      <th>weighted avg</th>\n",
       "    </tr>\n",
       "  </thead>\n",
       "  <tbody>\n",
       "    <tr>\n",
       "      <th>precision</th>\n",
       "      <td>0.923077</td>\n",
       "      <td>0.916667</td>\n",
       "      <td>0.92</td>\n",
       "      <td>0.919872</td>\n",
       "      <td>0.92</td>\n",
       "    </tr>\n",
       "    <tr>\n",
       "      <th>recall</th>\n",
       "      <td>0.923077</td>\n",
       "      <td>0.916667</td>\n",
       "      <td>0.92</td>\n",
       "      <td>0.919872</td>\n",
       "      <td>0.92</td>\n",
       "    </tr>\n",
       "    <tr>\n",
       "      <th>f1-score</th>\n",
       "      <td>0.923077</td>\n",
       "      <td>0.916667</td>\n",
       "      <td>0.92</td>\n",
       "      <td>0.919872</td>\n",
       "      <td>0.92</td>\n",
       "    </tr>\n",
       "    <tr>\n",
       "      <th>support</th>\n",
       "      <td>13.000000</td>\n",
       "      <td>12.000000</td>\n",
       "      <td>0.92</td>\n",
       "      <td>25.000000</td>\n",
       "      <td>25.00</td>\n",
       "    </tr>\n",
       "  </tbody>\n",
       "</table>\n",
       "</div>"
      ],
      "text/plain": [
       "           versicolor  virginica  accuracy  macro avg  weighted avg\n",
       "precision    0.923077   0.916667      0.92   0.919872          0.92\n",
       "recall       0.923077   0.916667      0.92   0.919872          0.92\n",
       "f1-score     0.923077   0.916667      0.92   0.919872          0.92\n",
       "support     13.000000  12.000000      0.92  25.000000         25.00"
      ]
     },
     "metadata": {},
     "output_type": "display_data"
    },
    {
     "name": "stdout",
     "output_type": "stream",
     "text": [
      "\n",
      "標準化あり\n"
     ]
    },
    {
     "data": {
      "text/html": [
       "<div>\n",
       "<style scoped>\n",
       "    .dataframe tbody tr th:only-of-type {\n",
       "        vertical-align: middle;\n",
       "    }\n",
       "\n",
       "    .dataframe tbody tr th {\n",
       "        vertical-align: top;\n",
       "    }\n",
       "\n",
       "    .dataframe thead th {\n",
       "        text-align: right;\n",
       "    }\n",
       "</style>\n",
       "<table border=\"1\" class=\"dataframe\">\n",
       "  <thead>\n",
       "    <tr style=\"text-align: right;\">\n",
       "      <th></th>\n",
       "      <th>versicolor</th>\n",
       "      <th>virginica</th>\n",
       "      <th>accuracy</th>\n",
       "      <th>macro avg</th>\n",
       "      <th>weighted avg</th>\n",
       "    </tr>\n",
       "  </thead>\n",
       "  <tbody>\n",
       "    <tr>\n",
       "      <th>precision</th>\n",
       "      <td>0.923077</td>\n",
       "      <td>0.916667</td>\n",
       "      <td>0.92</td>\n",
       "      <td>0.919872</td>\n",
       "      <td>0.92</td>\n",
       "    </tr>\n",
       "    <tr>\n",
       "      <th>recall</th>\n",
       "      <td>0.923077</td>\n",
       "      <td>0.916667</td>\n",
       "      <td>0.92</td>\n",
       "      <td>0.919872</td>\n",
       "      <td>0.92</td>\n",
       "    </tr>\n",
       "    <tr>\n",
       "      <th>f1-score</th>\n",
       "      <td>0.923077</td>\n",
       "      <td>0.916667</td>\n",
       "      <td>0.92</td>\n",
       "      <td>0.919872</td>\n",
       "      <td>0.92</td>\n",
       "    </tr>\n",
       "    <tr>\n",
       "      <th>support</th>\n",
       "      <td>13.000000</td>\n",
       "      <td>12.000000</td>\n",
       "      <td>0.92</td>\n",
       "      <td>25.000000</td>\n",
       "      <td>25.00</td>\n",
       "    </tr>\n",
       "  </tbody>\n",
       "</table>\n",
       "</div>"
      ],
      "text/plain": [
       "           versicolor  virginica  accuracy  macro avg  weighted avg\n",
       "precision    0.923077   0.916667      0.92   0.919872          0.92\n",
       "recall       0.923077   0.916667      0.92   0.919872          0.92\n",
       "f1-score     0.923077   0.916667      0.92   0.919872          0.92\n",
       "support     13.000000  12.000000      0.92  25.000000         25.00"
      ]
     },
     "metadata": {},
     "output_type": "display_data"
    }
   ],
   "source": [
    "from sklearn.svm import SVC\n",
    "\n",
    "# SVM\n",
    "model_SVC = SVC()\n",
    "ss_model_SVC = SVC()\n",
    "\n",
    "# 学習\n",
    "clf = model_SVC.fit(X_train, y_train)\n",
    "ss_clf = ss_model_SVC.fit(scaler_X_train, y_train)\n",
    "\n",
    "# 推定\n",
    "y_pred_SVM = model_SVC.predict(X_test)\n",
    "ss_y_pred_SVM = ss_model_SVC.predict(scaler_X_test)\n",
    "\n",
    "# 評価\n",
    "target_names = [iris_data.target_names[1], iris_data.target_names[2]]\n",
    "cr_SVN = classification_report(y_test, y_pred_SVM, target_names = target_names, output_dict=True)\n",
    "ss_cr_SVN = classification_report(y_test, ss_y_pred_SVM, target_names = target_names, output_dict=True)\n",
    "\n",
    "# pandas.DataFrameへ変換\n",
    "df_cr_SVN = pd.DataFrame(cr_SVN)\n",
    "print(\"標準化なし\")\n",
    "display(df_cr_SVN)\n",
    "\n",
    "# pandas.DataFrameへ変換\n",
    "df_ss_cr_SVN = pd.DataFrame(ss_cr_SVN)\n",
    "print(\"\")\n",
    "print(\"標準化あり\")\n",
    "display(df_ss_cr_SVN)"
   ]
  },
  {
   "cell_type": "code",
   "execution_count": 526,
   "metadata": {},
   "outputs": [
    {
     "data": {
      "image/png": "[encoded data removed]",
      "text/plain": [
       "<Figure size 432x288 with 1 Axes>"
      ]
     },
     "metadata": {
      "needs_background": "light"
     },
     "output_type": "display_data"
    },
    {
     "data": {
      "image/png": "[encoded data removed]",
      "text/plain": [
       "<Figure size 432x288 with 1 Axes>"
      ]
     },
     "metadata": {
      "needs_background": "light"
     },
     "output_type": "display_data"
    }
   ],
   "source": [
    "# 可視化\n",
    "decision_region(X_train, y_train, clf, title='decision region of SVM', xlabel='sepal_length', ylabel='petal_length')\n",
    "decision_region(scaler_X_train, y_train, ss_clf, title='decision region of SVM with StandardScaler', xlabel='sepal_length', ylabel='petal_length')"
   ]
  },
  {
   "cell_type": "markdown",
   "metadata": {},
   "source": [
    "### ＜決定木＞"
   ]
  },
  {
   "cell_type": "code",
   "execution_count": 527,
   "metadata": {},
   "outputs": [
    {
     "name": "stdout",
     "output_type": "stream",
     "text": [
      "標準化なし\n"
     ]
    },
    {
     "data": {
      "text/html": [
       "<div>\n",
       "<style scoped>\n",
       "    .dataframe tbody tr th:only-of-type {\n",
       "        vertical-align: middle;\n",
       "    }\n",
       "\n",
       "    .dataframe tbody tr th {\n",
       "        vertical-align: top;\n",
       "    }\n",
       "\n",
       "    .dataframe thead th {\n",
       "        text-align: right;\n",
       "    }\n",
       "</style>\n",
       "<table border=\"1\" class=\"dataframe\">\n",
       "  <thead>\n",
       "    <tr style=\"text-align: right;\">\n",
       "      <th></th>\n",
       "      <th>versicolor</th>\n",
       "      <th>virginica</th>\n",
       "      <th>accuracy</th>\n",
       "      <th>macro avg</th>\n",
       "      <th>weighted avg</th>\n",
       "    </tr>\n",
       "  </thead>\n",
       "  <tbody>\n",
       "    <tr>\n",
       "      <th>precision</th>\n",
       "      <td>0.916667</td>\n",
       "      <td>0.846154</td>\n",
       "      <td>0.88</td>\n",
       "      <td>0.88141</td>\n",
       "      <td>0.882821</td>\n",
       "    </tr>\n",
       "    <tr>\n",
       "      <th>recall</th>\n",
       "      <td>0.846154</td>\n",
       "      <td>0.916667</td>\n",
       "      <td>0.88</td>\n",
       "      <td>0.88141</td>\n",
       "      <td>0.880000</td>\n",
       "    </tr>\n",
       "    <tr>\n",
       "      <th>f1-score</th>\n",
       "      <td>0.880000</td>\n",
       "      <td>0.880000</td>\n",
       "      <td>0.88</td>\n",
       "      <td>0.88000</td>\n",
       "      <td>0.880000</td>\n",
       "    </tr>\n",
       "    <tr>\n",
       "      <th>support</th>\n",
       "      <td>13.000000</td>\n",
       "      <td>12.000000</td>\n",
       "      <td>0.88</td>\n",
       "      <td>25.00000</td>\n",
       "      <td>25.000000</td>\n",
       "    </tr>\n",
       "  </tbody>\n",
       "</table>\n",
       "</div>"
      ],
      "text/plain": [
       "           versicolor  virginica  accuracy  macro avg  weighted avg\n",
       "precision    0.916667   0.846154      0.88    0.88141      0.882821\n",
       "recall       0.846154   0.916667      0.88    0.88141      0.880000\n",
       "f1-score     0.880000   0.880000      0.88    0.88000      0.880000\n",
       "support     13.000000  12.000000      0.88   25.00000     25.000000"
      ]
     },
     "metadata": {},
     "output_type": "display_data"
    },
    {
     "name": "stdout",
     "output_type": "stream",
     "text": [
      "\n",
      "標準化あり\n"
     ]
    },
    {
     "data": {
      "text/html": [
       "<div>\n",
       "<style scoped>\n",
       "    .dataframe tbody tr th:only-of-type {\n",
       "        vertical-align: middle;\n",
       "    }\n",
       "\n",
       "    .dataframe tbody tr th {\n",
       "        vertical-align: top;\n",
       "    }\n",
       "\n",
       "    .dataframe thead th {\n",
       "        text-align: right;\n",
       "    }\n",
       "</style>\n",
       "<table border=\"1\" class=\"dataframe\">\n",
       "  <thead>\n",
       "    <tr style=\"text-align: right;\">\n",
       "      <th></th>\n",
       "      <th>versicolor</th>\n",
       "      <th>virginica</th>\n",
       "      <th>accuracy</th>\n",
       "      <th>macro avg</th>\n",
       "      <th>weighted avg</th>\n",
       "    </tr>\n",
       "  </thead>\n",
       "  <tbody>\n",
       "    <tr>\n",
       "      <th>precision</th>\n",
       "      <td>0.916667</td>\n",
       "      <td>0.846154</td>\n",
       "      <td>0.88</td>\n",
       "      <td>0.88141</td>\n",
       "      <td>0.882821</td>\n",
       "    </tr>\n",
       "    <tr>\n",
       "      <th>recall</th>\n",
       "      <td>0.846154</td>\n",
       "      <td>0.916667</td>\n",
       "      <td>0.88</td>\n",
       "      <td>0.88141</td>\n",
       "      <td>0.880000</td>\n",
       "    </tr>\n",
       "    <tr>\n",
       "      <th>f1-score</th>\n",
       "      <td>0.880000</td>\n",
       "      <td>0.880000</td>\n",
       "      <td>0.88</td>\n",
       "      <td>0.88000</td>\n",
       "      <td>0.880000</td>\n",
       "    </tr>\n",
       "    <tr>\n",
       "      <th>support</th>\n",
       "      <td>13.000000</td>\n",
       "      <td>12.000000</td>\n",
       "      <td>0.88</td>\n",
       "      <td>25.00000</td>\n",
       "      <td>25.000000</td>\n",
       "    </tr>\n",
       "  </tbody>\n",
       "</table>\n",
       "</div>"
      ],
      "text/plain": [
       "           versicolor  virginica  accuracy  macro avg  weighted avg\n",
       "precision    0.916667   0.846154      0.88    0.88141      0.882821\n",
       "recall       0.846154   0.916667      0.88    0.88141      0.880000\n",
       "f1-score     0.880000   0.880000      0.88    0.88000      0.880000\n",
       "support     13.000000  12.000000      0.88   25.00000     25.000000"
      ]
     },
     "metadata": {},
     "output_type": "display_data"
    }
   ],
   "source": [
    "from sklearn.tree import DecisionTreeClassifier\n",
    "# 決定木\n",
    "model_DT = DecisionTreeClassifier()\n",
    "ss_model_DT = DecisionTreeClassifier()\n",
    "\n",
    "# 学習\n",
    "clf = model_DT.fit(X_train, y_train)\n",
    "ss_clf = ss_model_DT.fit(scaler_X_train, y_train)\n",
    "\n",
    "# 推定\n",
    "y_pred_DT = model_DT.predict(X_test)\n",
    "ss_y_pred_DT = ss_model_DT.predict(scaler_X_test)\n",
    "\n",
    "# 評価\n",
    "target_names = [iris_data.target_names[1], iris_data.target_names[2]]\n",
    "cr_DT = classification_report(y_test, y_pred_DT, target_names = target_names, output_dict=True)\n",
    "ss_cr_DT = classification_report(y_test, ss_y_pred_DT, target_names = target_names, output_dict=True)\n",
    "\n",
    "# pandas.DataFrameへ変換\n",
    "df_cr_DT = pd.DataFrame(cr_DT)\n",
    "print(\"標準化なし\")\n",
    "display(df_cr_DT)\n",
    "\n",
    "# pandas.DataFrameへ変換\n",
    "df_ss_cr_DT = pd.DataFrame(ss_cr_DT)\n",
    "print(\"\")\n",
    "print(\"標準化あり\")\n",
    "display(df_ss_cr_DT)"
   ]
  },
  {
   "cell_type": "code",
   "execution_count": 528,
   "metadata": {},
   "outputs": [
    {
     "data": {
      "image/png": "[encoded data removed]",
      "text/plain": [
       "<Figure size 432x288 with 1 Axes>"
      ]
     },
     "metadata": {
      "needs_background": "light"
     },
     "output_type": "display_data"
    },
    {
     "data": {
      "image/png": "[encoded data removed]",
      "text/plain": [
       "<Figure size 432x288 with 1 Axes>"
      ]
     },
     "metadata": {
      "needs_background": "light"
     },
     "output_type": "display_data"
    }
   ],
   "source": [
    "# 可視化\n",
    "decision_region(X_train, y_train, clf, title='decision region of DecisionTree', xlabel='sepal_length', ylabel='petal_length')\n",
    "decision_region(scaler_X_train, y_train, ss_clf, title='decision region of DecisionTree with StandardScaler', xlabel='sepal_length', ylabel='petal_length')"
   ]
  },
  {
   "cell_type": "markdown",
   "metadata": {},
   "source": [
    "### ＜ランダムフォレスト＞"
   ]
  },
  {
   "cell_type": "code",
   "execution_count": 529,
   "metadata": {},
   "outputs": [
    {
     "name": "stdout",
     "output_type": "stream",
     "text": [
      "標準化なし\n"
     ]
    },
    {
     "data": {
      "text/html": [
       "<div>\n",
       "<style scoped>\n",
       "    .dataframe tbody tr th:only-of-type {\n",
       "        vertical-align: middle;\n",
       "    }\n",
       "\n",
       "    .dataframe tbody tr th {\n",
       "        vertical-align: top;\n",
       "    }\n",
       "\n",
       "    .dataframe thead th {\n",
       "        text-align: right;\n",
       "    }\n",
       "</style>\n",
       "<table border=\"1\" class=\"dataframe\">\n",
       "  <thead>\n",
       "    <tr style=\"text-align: right;\">\n",
       "      <th></th>\n",
       "      <th>versicolor</th>\n",
       "      <th>virginica</th>\n",
       "      <th>accuracy</th>\n",
       "      <th>macro avg</th>\n",
       "      <th>weighted avg</th>\n",
       "    </tr>\n",
       "  </thead>\n",
       "  <tbody>\n",
       "    <tr>\n",
       "      <th>precision</th>\n",
       "      <td>0.916667</td>\n",
       "      <td>0.846154</td>\n",
       "      <td>0.88</td>\n",
       "      <td>0.88141</td>\n",
       "      <td>0.882821</td>\n",
       "    </tr>\n",
       "    <tr>\n",
       "      <th>recall</th>\n",
       "      <td>0.846154</td>\n",
       "      <td>0.916667</td>\n",
       "      <td>0.88</td>\n",
       "      <td>0.88141</td>\n",
       "      <td>0.880000</td>\n",
       "    </tr>\n",
       "    <tr>\n",
       "      <th>f1-score</th>\n",
       "      <td>0.880000</td>\n",
       "      <td>0.880000</td>\n",
       "      <td>0.88</td>\n",
       "      <td>0.88000</td>\n",
       "      <td>0.880000</td>\n",
       "    </tr>\n",
       "    <tr>\n",
       "      <th>support</th>\n",
       "      <td>13.000000</td>\n",
       "      <td>12.000000</td>\n",
       "      <td>0.88</td>\n",
       "      <td>25.00000</td>\n",
       "      <td>25.000000</td>\n",
       "    </tr>\n",
       "  </tbody>\n",
       "</table>\n",
       "</div>"
      ],
      "text/plain": [
       "           versicolor  virginica  accuracy  macro avg  weighted avg\n",
       "precision    0.916667   0.846154      0.88    0.88141      0.882821\n",
       "recall       0.846154   0.916667      0.88    0.88141      0.880000\n",
       "f1-score     0.880000   0.880000      0.88    0.88000      0.880000\n",
       "support     13.000000  12.000000      0.88   25.00000     25.000000"
      ]
     },
     "metadata": {},
     "output_type": "display_data"
    },
    {
     "name": "stdout",
     "output_type": "stream",
     "text": [
      "\n",
      "標準化あり\n"
     ]
    },
    {
     "data": {
      "text/html": [
       "<div>\n",
       "<style scoped>\n",
       "    .dataframe tbody tr th:only-of-type {\n",
       "        vertical-align: middle;\n",
       "    }\n",
       "\n",
       "    .dataframe tbody tr th {\n",
       "        vertical-align: top;\n",
       "    }\n",
       "\n",
       "    .dataframe thead th {\n",
       "        text-align: right;\n",
       "    }\n",
       "</style>\n",
       "<table border=\"1\" class=\"dataframe\">\n",
       "  <thead>\n",
       "    <tr style=\"text-align: right;\">\n",
       "      <th></th>\n",
       "      <th>versicolor</th>\n",
       "      <th>virginica</th>\n",
       "      <th>accuracy</th>\n",
       "      <th>macro avg</th>\n",
       "      <th>weighted avg</th>\n",
       "    </tr>\n",
       "  </thead>\n",
       "  <tbody>\n",
       "    <tr>\n",
       "      <th>precision</th>\n",
       "      <td>0.923077</td>\n",
       "      <td>0.916667</td>\n",
       "      <td>0.92</td>\n",
       "      <td>0.919872</td>\n",
       "      <td>0.92</td>\n",
       "    </tr>\n",
       "    <tr>\n",
       "      <th>recall</th>\n",
       "      <td>0.923077</td>\n",
       "      <td>0.916667</td>\n",
       "      <td>0.92</td>\n",
       "      <td>0.919872</td>\n",
       "      <td>0.92</td>\n",
       "    </tr>\n",
       "    <tr>\n",
       "      <th>f1-score</th>\n",
       "      <td>0.923077</td>\n",
       "      <td>0.916667</td>\n",
       "      <td>0.92</td>\n",
       "      <td>0.919872</td>\n",
       "      <td>0.92</td>\n",
       "    </tr>\n",
       "    <tr>\n",
       "      <th>support</th>\n",
       "      <td>13.000000</td>\n",
       "      <td>12.000000</td>\n",
       "      <td>0.92</td>\n",
       "      <td>25.000000</td>\n",
       "      <td>25.00</td>\n",
       "    </tr>\n",
       "  </tbody>\n",
       "</table>\n",
       "</div>"
      ],
      "text/plain": [
       "           versicolor  virginica  accuracy  macro avg  weighted avg\n",
       "precision    0.923077   0.916667      0.92   0.919872          0.92\n",
       "recall       0.923077   0.916667      0.92   0.919872          0.92\n",
       "f1-score     0.923077   0.916667      0.92   0.919872          0.92\n",
       "support     13.000000  12.000000      0.92  25.000000         25.00"
      ]
     },
     "metadata": {},
     "output_type": "display_data"
    }
   ],
   "source": [
    "from sklearn.ensemble import RandomForestClassifier\n",
    "# ランダムフォレスト\n",
    "model_RF = RandomForestClassifier()\n",
    "ss_model_RF = RandomForestClassifier()\n",
    "\n",
    "# 学習\n",
    "clf = model_RF.fit(X_train, y_train)\n",
    "ss_clf = ss_model_RF.fit(scaler_X_train, y_train)\n",
    "\n",
    "# 推定\n",
    "y_pred_RF = model_RF.predict(X_test)\n",
    "ss_y_pred_RF = ss_model_RF.predict(scaler_X_test)\n",
    "\n",
    "# 評価\n",
    "target_names = [iris_data.target_names[1], iris_data.target_names[2]]\n",
    "cr_RF = classification_report(y_test, y_pred_RF, target_names = target_names, output_dict=True)\n",
    "ss_cr_RF = classification_report(y_test, ss_y_pred_RF, target_names = target_names, output_dict=True)\n",
    "\n",
    "# pandas.DataFrameへ変換\n",
    "df_cr_RF = pd.DataFrame(cr_RF)\n",
    "print(\"標準化なし\")\n",
    "display(df_cr_RF)\n",
    "\n",
    "# pandas.DataFrameへ変換\n",
    "df_ss_cr_RF = pd.DataFrame(ss_cr_RF)\n",
    "print(\"\")\n",
    "print(\"標準化あり\")\n",
    "display(df_ss_cr_RF)"
   ]
  },
  {
   "cell_type": "code",
   "execution_count": 530,
   "metadata": {},
   "outputs": [
    {
     "data": {
      "image/png": "[encoded data removed]",
      "text/plain": [
       "<Figure size 432x288 with 1 Axes>"
      ]
     },
     "metadata": {
      "needs_background": "light"
     },
     "output_type": "display_data"
    },
    {
     "data": {
      "image/png": "[encoded data removed]",
      "text/plain": [
       "<Figure size 432x288 with 1 Axes>"
      ]
     },
     "metadata": {
      "needs_background": "light"
     },
     "output_type": "display_data"
    }
   ],
   "source": [
    "# 可視化\n",
    "decision_region(X_train, y_train, clf, title='decision region of RandomForest', xlabel='sepal_length', ylabel='petal_length')\n",
    "decision_region(scaler_X_train, y_train, ss_clf, title='decision region of RandomForest with StandardScaler', xlabel='sepal_length', ylabel='petal_length')"
   ]
  },
  {
   "cell_type": "markdown",
   "metadata": {},
   "source": [
    "以上の結果から標準化によって、特徴量の平均が0、分散が１になるようにプロットが平行移動されたものとなる。  \n",
    "今回の結果では、デフォルトオプションを使ったためか、標準化前と標準化後の精度はほとんど変わらない。  \n"
   ]
  },
  {
   "cell_type": "markdown",
   "metadata": {},
   "source": [
    "## 【問題10】（アドバンス課題）全ての目的変数を使用して精度が高い手法"
   ]
  },
  {
   "cell_type": "markdown",
   "metadata": {},
   "source": [
    "テストデータが38件と少ないので、学習済みの訓練データに対しても、決定領域を表示し比較する。"
   ]
  },
  {
   "cell_type": "code",
   "execution_count": 533,
   "metadata": {},
   "outputs": [],
   "source": [
    "iris_data = df.loc[:,[\"sepal_length\",\"petal_length\",\"species\"]]\n",
    "iris_data\n",
    "\n",
    "# ndarrayへ変換\n",
    "iris_X = np.array(iris_data.iloc[:,0:2])\n",
    "iris_y = np.array(iris_data.iloc[:,2])\n",
    "\n",
    "# 分割\n",
    "X_train, X_test, y_train, y_test = train_test_split(iris_X, iris_y, test_size=0.25)\n",
    "\n",
    "# 標準化\n",
    "ss = StandardScaler()\n",
    "ss.fit(X_train)\n",
    "ss_X_train = ss.transform(X_train)\n",
    "ss_X_test = ss.transform(X_test)\n",
    "\n"
   ]
  },
  {
   "cell_type": "code",
   "execution_count": 534,
   "metadata": {},
   "outputs": [
    {
     "data": {
      "text/plain": [
       "(38, 2)"
      ]
     },
     "execution_count": 534,
     "metadata": {},
     "output_type": "execute_result"
    }
   ],
   "source": [
    "X_test.shape"
   ]
  },
  {
   "cell_type": "code",
   "execution_count": 535,
   "metadata": {},
   "outputs": [],
   "source": [
    "import matplotlib.pyplot as plt\n",
    "from matplotlib.colors import ListedColormap\n",
    "import matplotlib.patches as mpatches\n",
    "def many_decision_region(X, y, model, step=0.01, title='decision region', xlabel='xlabel', ylabel='ylabel', target_names=['versicolor', 'virginica']):\n",
    "    \"\"\"\n",
    "    2値分類を2次元の特徴量で学習したモデルの決定領域を描く。\n",
    "    背景の色が学習したモデルによる推定値から描画される。\n",
    "    散布図の点は訓練データまたは検証データである。\n",
    "\n",
    "    Parameters\n",
    "    ----------------\n",
    "    X : ndarray, shape(n_samples, n)\n",
    "        特徴量\n",
    "    y : ndarray, shape(n_samples,)\n",
    "        ラベル\n",
    "    model : object\n",
    "        学習したモデルのインスンタスを入れる\n",
    "    step : float, (default : 0.1)\n",
    "        推定値を計算する間隔を設定する\n",
    "    title : str\n",
    "        グラフのタイトルの文章を与える\n",
    "    xlabel, ylabel : str\n",
    "        軸ラベルの文章を与える\n",
    "    target_names= : list of str\n",
    "        凡例の一覧を与える\n",
    "    \"\"\"\n",
    "    # setting\n",
    "    scatter_color = ['green','red', 'blue']\n",
    "    contourf_color = ['lime','pink', 'skyblue']\n",
    "    n_class = 3\n",
    "    \n",
    "    # pred\n",
    "    mesh_f0, mesh_f1  = np.meshgrid(np.arange(np.min(X[:,0])-0.5, np.max(X[:,0])+0.5, step), np.arange(np.min(X[:,1])-0.5, np.max(X[:,1])+0.5, step))\n",
    "    mesh = np.c_[np.ravel(mesh_f0),np.ravel(mesh_f1)]\n",
    "    y_pred = model.predict(mesh).reshape(mesh_f0.shape)\n",
    "    \n",
    "    # plot\n",
    "    plt.title(title)\n",
    "    plt.xlabel(xlabel)\n",
    "    plt.ylabel(ylabel)\n",
    "    plt.contourf(mesh_f0, mesh_f1, y_pred, n_class-1, cmap=ListedColormap(contourf_color))\n",
    "    plt.contour(mesh_f0, mesh_f1, y_pred, n_class-1, colors='y', linewidths=3, alpha=0.5)\n",
    "    for i, target in enumerate(set(y)):\n",
    "        plt.scatter(X[y==target][:, 0], X[y==target][:, 1], s=80, color=scatter_color[i], label=target_names[i], marker='o')\n",
    "        \n",
    "    patches = [mpatches.Patch(color=scatter_color[i], label=target_names[i]) for i in range(n_class)]\n",
    "    plt.legend(handles=patches)\n",
    "    plt.legend()\n",
    "    plt.show()\n",
    "    "
   ]
  },
  {
   "cell_type": "code",
   "execution_count": 536,
   "metadata": {},
   "outputs": [],
   "source": [
    "target_names = [\"setosa\", \"versicolor\", \"virginica \"]"
   ]
  },
  {
   "cell_type": "markdown",
   "metadata": {},
   "source": [
    "### ＜最近傍法＞"
   ]
  },
  {
   "cell_type": "code",
   "execution_count": 547,
   "metadata": {},
   "outputs": [
    {
     "name": "stdout",
     "output_type": "stream",
     "text": [
      "テストデータ\n"
     ]
    },
    {
     "data": {
      "text/html": [
       "<div>\n",
       "<style scoped>\n",
       "    .dataframe tbody tr th:only-of-type {\n",
       "        vertical-align: middle;\n",
       "    }\n",
       "\n",
       "    .dataframe tbody tr th {\n",
       "        vertical-align: top;\n",
       "    }\n",
       "\n",
       "    .dataframe thead th {\n",
       "        text-align: right;\n",
       "    }\n",
       "</style>\n",
       "<table border=\"1\" class=\"dataframe\">\n",
       "  <thead>\n",
       "    <tr style=\"text-align: right;\">\n",
       "      <th></th>\n",
       "      <th>setosa</th>\n",
       "      <th>versicolor</th>\n",
       "      <th>virginica</th>\n",
       "      <th>accuracy</th>\n",
       "      <th>macro avg</th>\n",
       "      <th>weighted avg</th>\n",
       "    </tr>\n",
       "  </thead>\n",
       "  <tbody>\n",
       "    <tr>\n",
       "      <th>precision</th>\n",
       "      <td>1.0</td>\n",
       "      <td>0.846154</td>\n",
       "      <td>1.000000</td>\n",
       "      <td>0.947368</td>\n",
       "      <td>0.948718</td>\n",
       "      <td>0.955466</td>\n",
       "    </tr>\n",
       "    <tr>\n",
       "      <th>recall</th>\n",
       "      <td>1.0</td>\n",
       "      <td>1.000000</td>\n",
       "      <td>0.833333</td>\n",
       "      <td>0.947368</td>\n",
       "      <td>0.944444</td>\n",
       "      <td>0.947368</td>\n",
       "    </tr>\n",
       "    <tr>\n",
       "      <th>f1-score</th>\n",
       "      <td>1.0</td>\n",
       "      <td>0.916667</td>\n",
       "      <td>0.909091</td>\n",
       "      <td>0.947368</td>\n",
       "      <td>0.941919</td>\n",
       "      <td>0.947169</td>\n",
       "    </tr>\n",
       "    <tr>\n",
       "      <th>support</th>\n",
       "      <td>15.0</td>\n",
       "      <td>11.000000</td>\n",
       "      <td>12.000000</td>\n",
       "      <td>0.947368</td>\n",
       "      <td>38.000000</td>\n",
       "      <td>38.000000</td>\n",
       "    </tr>\n",
       "  </tbody>\n",
       "</table>\n",
       "</div>"
      ],
      "text/plain": [
       "           setosa  versicolor  virginica   accuracy  macro avg  weighted avg\n",
       "precision     1.0    0.846154    1.000000  0.947368   0.948718      0.955466\n",
       "recall        1.0    1.000000    0.833333  0.947368   0.944444      0.947368\n",
       "f1-score      1.0    0.916667    0.909091  0.947368   0.941919      0.947169\n",
       "support      15.0   11.000000   12.000000  0.947368  38.000000     38.000000"
      ]
     },
     "metadata": {},
     "output_type": "display_data"
    },
    {
     "data": {
      "image/png": "[encoded data removed]",
      "text/plain": [
       "<Figure size 432x288 with 1 Axes>"
      ]
     },
     "metadata": {
      "needs_background": "light"
     },
     "output_type": "display_data"
    },
    {
     "data": {
      "image/png": "[encoded data removed]",
      "text/plain": [
       "<Figure size 432x288 with 1 Axes>"
      ]
     },
     "metadata": {
      "needs_background": "light"
     },
     "output_type": "display_data"
    }
   ],
   "source": [
    "# 最近傍法\n",
    "ss_neigh5 = KNeighborsClassifier(n_neighbors=5)\n",
    "\n",
    "# 学習\n",
    "ss_clf = ss_neigh5.fit(ss_X_train, y_train)\n",
    "\n",
    "# 推定\n",
    "ss_y_pred_KN_test = ss_neigh5.predict(ss_X_test)\n",
    "\n",
    "# 評価\n",
    "ss_cr_KN_test = classification_report(y_test, ss_y_pred_KN_test, target_names = target_names, output_dict=True)\n",
    "\n",
    "# pandas.DataFrameへ変換\n",
    "df_ss_cr_KN_test = pd.DataFrame(ss_cr_KN_test)\n",
    "print(\"テストデータ\")\n",
    "display(df_ss_cr_KN_test)\n",
    "\n",
    "# 可視化\n",
    "many_decision_region(ss_X_train, y_train, ss_clf, title='5-nn with StandardScaler (train)', xlabel='sepal_length', ylabel='petal_length', target_names = target_names)\n",
    "many_decision_region(ss_X_test, y_test, ss_clf, title='5-nn with StandardScaler (test)', xlabel='sepal_length', ylabel='petal_length', target_names = target_names)"
   ]
  },
  {
   "cell_type": "markdown",
   "metadata": {},
   "source": [
    "setosaは100％分類可能"
   ]
  },
  {
   "cell_type": "markdown",
   "metadata": {},
   "source": [
    "### ＜ロジスティック回帰＞"
   ]
  },
  {
   "cell_type": "code",
   "execution_count": 548,
   "metadata": {},
   "outputs": [
    {
     "name": "stdout",
     "output_type": "stream",
     "text": [
      "テストデータ\n"
     ]
    },
    {
     "data": {
      "text/html": [
       "<div>\n",
       "<style scoped>\n",
       "    .dataframe tbody tr th:only-of-type {\n",
       "        vertical-align: middle;\n",
       "    }\n",
       "\n",
       "    .dataframe tbody tr th {\n",
       "        vertical-align: top;\n",
       "    }\n",
       "\n",
       "    .dataframe thead th {\n",
       "        text-align: right;\n",
       "    }\n",
       "</style>\n",
       "<table border=\"1\" class=\"dataframe\">\n",
       "  <thead>\n",
       "    <tr style=\"text-align: right;\">\n",
       "      <th></th>\n",
       "      <th>setosa</th>\n",
       "      <th>versicolor</th>\n",
       "      <th>virginica</th>\n",
       "      <th>accuracy</th>\n",
       "      <th>macro avg</th>\n",
       "      <th>weighted avg</th>\n",
       "    </tr>\n",
       "  </thead>\n",
       "  <tbody>\n",
       "    <tr>\n",
       "      <th>precision</th>\n",
       "      <td>1.0</td>\n",
       "      <td>0.916667</td>\n",
       "      <td>1.000000</td>\n",
       "      <td>0.973684</td>\n",
       "      <td>0.972222</td>\n",
       "      <td>0.975877</td>\n",
       "    </tr>\n",
       "    <tr>\n",
       "      <th>recall</th>\n",
       "      <td>1.0</td>\n",
       "      <td>1.000000</td>\n",
       "      <td>0.916667</td>\n",
       "      <td>0.973684</td>\n",
       "      <td>0.972222</td>\n",
       "      <td>0.973684</td>\n",
       "    </tr>\n",
       "    <tr>\n",
       "      <th>f1-score</th>\n",
       "      <td>1.0</td>\n",
       "      <td>0.956522</td>\n",
       "      <td>0.956522</td>\n",
       "      <td>0.973684</td>\n",
       "      <td>0.971014</td>\n",
       "      <td>0.973684</td>\n",
       "    </tr>\n",
       "    <tr>\n",
       "      <th>support</th>\n",
       "      <td>15.0</td>\n",
       "      <td>11.000000</td>\n",
       "      <td>12.000000</td>\n",
       "      <td>0.973684</td>\n",
       "      <td>38.000000</td>\n",
       "      <td>38.000000</td>\n",
       "    </tr>\n",
       "  </tbody>\n",
       "</table>\n",
       "</div>"
      ],
      "text/plain": [
       "           setosa  versicolor  virginica   accuracy  macro avg  weighted avg\n",
       "precision     1.0    0.916667    1.000000  0.973684   0.972222      0.975877\n",
       "recall        1.0    1.000000    0.916667  0.973684   0.972222      0.973684\n",
       "f1-score      1.0    0.956522    0.956522  0.973684   0.971014      0.973684\n",
       "support      15.0   11.000000   12.000000  0.973684  38.000000     38.000000"
      ]
     },
     "metadata": {},
     "output_type": "display_data"
    },
    {
     "data": {
      "image/png": "[encoded data removed]",
      "text/plain": [
       "<Figure size 432x288 with 1 Axes>"
      ]
     },
     "metadata": {
      "needs_background": "light"
     },
     "output_type": "display_data"
    },
    {
     "data": {
      "image/png": "[encoded data removed]",
      "text/plain": [
       "<Figure size 432x288 with 1 Axes>"
      ]
     },
     "metadata": {
      "needs_background": "light"
     },
     "output_type": "display_data"
    }
   ],
   "source": [
    "from sklearn.linear_model import LogisticRegression\n",
    "# ロジスティック回帰\n",
    "ss_model_LR = LogisticRegression()\n",
    "\n",
    "# 学習\n",
    "ss_clf = ss_model_LR.fit(ss_X_train, y_train)\n",
    "\n",
    "# 推定\n",
    "ss_y_pred_LR_test = ss_model_LR.predict(ss_X_test)\n",
    "\n",
    "# 評価\n",
    "ss_cr_LR_test = classification_report(y_test, ss_y_pred_LR_test, target_names = target_names, output_dict=True)\n",
    "\n",
    "# pandas.DataFrameへ変換\n",
    "df_cr_LR_test = pd.DataFrame(ss_cr_LR_test)\n",
    "print(\"テストデータ\")\n",
    "display(df_cr_LR_test)\n",
    "\n",
    "# 可視化\n",
    "many_decision_region(ss_X_train, y_train, ss_clf, title='LogisticRegression with StandardScaler (train)', xlabel='sepal_length', ylabel='petal_length', target_names = target_names)\n",
    "many_decision_region(ss_X_test, y_test, ss_clf, title='LogisticRegression with StandardScaler (test)', xlabel='sepal_length', ylabel='petal_length', target_names = target_names)"
   ]
  },
  {
   "cell_type": "markdown",
   "metadata": {},
   "source": [
    "setosaは１００％分類可能"
   ]
  },
  {
   "cell_type": "markdown",
   "metadata": {},
   "source": [
    "### ＜SVM：サポートベクトルマシーン＞"
   ]
  },
  {
   "cell_type": "code",
   "execution_count": 549,
   "metadata": {},
   "outputs": [
    {
     "name": "stdout",
     "output_type": "stream",
     "text": [
      "テストデータ\n"
     ]
    },
    {
     "data": {
      "text/html": [
       "<div>\n",
       "<style scoped>\n",
       "    .dataframe tbody tr th:only-of-type {\n",
       "        vertical-align: middle;\n",
       "    }\n",
       "\n",
       "    .dataframe tbody tr th {\n",
       "        vertical-align: top;\n",
       "    }\n",
       "\n",
       "    .dataframe thead th {\n",
       "        text-align: right;\n",
       "    }\n",
       "</style>\n",
       "<table border=\"1\" class=\"dataframe\">\n",
       "  <thead>\n",
       "    <tr style=\"text-align: right;\">\n",
       "      <th></th>\n",
       "      <th>setosa</th>\n",
       "      <th>versicolor</th>\n",
       "      <th>virginica</th>\n",
       "      <th>accuracy</th>\n",
       "      <th>macro avg</th>\n",
       "      <th>weighted avg</th>\n",
       "    </tr>\n",
       "  </thead>\n",
       "  <tbody>\n",
       "    <tr>\n",
       "      <th>precision</th>\n",
       "      <td>1.0</td>\n",
       "      <td>0.846154</td>\n",
       "      <td>1.000000</td>\n",
       "      <td>0.947368</td>\n",
       "      <td>0.948718</td>\n",
       "      <td>0.955466</td>\n",
       "    </tr>\n",
       "    <tr>\n",
       "      <th>recall</th>\n",
       "      <td>1.0</td>\n",
       "      <td>1.000000</td>\n",
       "      <td>0.833333</td>\n",
       "      <td>0.947368</td>\n",
       "      <td>0.944444</td>\n",
       "      <td>0.947368</td>\n",
       "    </tr>\n",
       "    <tr>\n",
       "      <th>f1-score</th>\n",
       "      <td>1.0</td>\n",
       "      <td>0.916667</td>\n",
       "      <td>0.909091</td>\n",
       "      <td>0.947368</td>\n",
       "      <td>0.941919</td>\n",
       "      <td>0.947169</td>\n",
       "    </tr>\n",
       "    <tr>\n",
       "      <th>support</th>\n",
       "      <td>15.0</td>\n",
       "      <td>11.000000</td>\n",
       "      <td>12.000000</td>\n",
       "      <td>0.947368</td>\n",
       "      <td>38.000000</td>\n",
       "      <td>38.000000</td>\n",
       "    </tr>\n",
       "  </tbody>\n",
       "</table>\n",
       "</div>"
      ],
      "text/plain": [
       "           setosa  versicolor  virginica   accuracy  macro avg  weighted avg\n",
       "precision     1.0    0.846154    1.000000  0.947368   0.948718      0.955466\n",
       "recall        1.0    1.000000    0.833333  0.947368   0.944444      0.947368\n",
       "f1-score      1.0    0.916667    0.909091  0.947368   0.941919      0.947169\n",
       "support      15.0   11.000000   12.000000  0.947368  38.000000     38.000000"
      ]
     },
     "metadata": {},
     "output_type": "display_data"
    },
    {
     "data": {
      "image/png": "[encoded data removed]",
      "text/plain": [
       "<Figure size 432x288 with 1 Axes>"
      ]
     },
     "metadata": {
      "needs_background": "light"
     },
     "output_type": "display_data"
    },
    {
     "data": {
      "image/png": "[encoded data removed]",
      "text/plain": [
       "<Figure size 432x288 with 1 Axes>"
      ]
     },
     "metadata": {
      "needs_background": "light"
     },
     "output_type": "display_data"
    }
   ],
   "source": [
    "# SVM\n",
    "ss_model_SVC = SVC()\n",
    "\n",
    "# 学習\n",
    "ss_clf = ss_model_SVC.fit(ss_X_train, y_train)\n",
    "\n",
    "# 推定\n",
    "ss_y_pred_SVM_test = ss_model_SVC.predict(ss_X_test)\n",
    "\n",
    "# 評価\n",
    "ss_cr_SVN_test = classification_report(y_test, ss_y_pred_SVM_test, target_names = target_names, output_dict=True)\n",
    "\n",
    "# pandas.DataFrameへ変換\n",
    "df_ss_cr_SVN_test = pd.DataFrame(ss_cr_SVN_test)\n",
    "print(\"テストデータ\")\n",
    "display(df_ss_cr_SVN_test)\n",
    "\n",
    "# 可視化\n",
    "many_decision_region(ss_X_train, y_train, ss_clf, title='SVC with StandardScaler (train)', xlabel='sepal_length', ylabel='petal_length', target_names = target_names)\n",
    "many_decision_region(ss_X_test, y_test, ss_clf, title='SVC with StandardScaler (test)', xlabel='sepal_length', ylabel='petal_length', target_names = target_names)"
   ]
  },
  {
   "cell_type": "markdown",
   "metadata": {},
   "source": [
    "setosaは１００％分類可能"
   ]
  },
  {
   "cell_type": "markdown",
   "metadata": {},
   "source": [
    "### ＜決定木＞"
   ]
  },
  {
   "cell_type": "code",
   "execution_count": 550,
   "metadata": {},
   "outputs": [
    {
     "name": "stdout",
     "output_type": "stream",
     "text": [
      "テストデータ\n"
     ]
    },
    {
     "data": {
      "text/html": [
       "<div>\n",
       "<style scoped>\n",
       "    .dataframe tbody tr th:only-of-type {\n",
       "        vertical-align: middle;\n",
       "    }\n",
       "\n",
       "    .dataframe tbody tr th {\n",
       "        vertical-align: top;\n",
       "    }\n",
       "\n",
       "    .dataframe thead th {\n",
       "        text-align: right;\n",
       "    }\n",
       "</style>\n",
       "<table border=\"1\" class=\"dataframe\">\n",
       "  <thead>\n",
       "    <tr style=\"text-align: right;\">\n",
       "      <th></th>\n",
       "      <th>setosa</th>\n",
       "      <th>versicolor</th>\n",
       "      <th>virginica</th>\n",
       "      <th>accuracy</th>\n",
       "      <th>macro avg</th>\n",
       "      <th>weighted avg</th>\n",
       "    </tr>\n",
       "  </thead>\n",
       "  <tbody>\n",
       "    <tr>\n",
       "      <th>precision</th>\n",
       "      <td>1.0</td>\n",
       "      <td>0.846154</td>\n",
       "      <td>1.000000</td>\n",
       "      <td>0.947368</td>\n",
       "      <td>0.948718</td>\n",
       "      <td>0.955466</td>\n",
       "    </tr>\n",
       "    <tr>\n",
       "      <th>recall</th>\n",
       "      <td>1.0</td>\n",
       "      <td>1.000000</td>\n",
       "      <td>0.833333</td>\n",
       "      <td>0.947368</td>\n",
       "      <td>0.944444</td>\n",
       "      <td>0.947368</td>\n",
       "    </tr>\n",
       "    <tr>\n",
       "      <th>f1-score</th>\n",
       "      <td>1.0</td>\n",
       "      <td>0.916667</td>\n",
       "      <td>0.909091</td>\n",
       "      <td>0.947368</td>\n",
       "      <td>0.941919</td>\n",
       "      <td>0.947169</td>\n",
       "    </tr>\n",
       "    <tr>\n",
       "      <th>support</th>\n",
       "      <td>15.0</td>\n",
       "      <td>11.000000</td>\n",
       "      <td>12.000000</td>\n",
       "      <td>0.947368</td>\n",
       "      <td>38.000000</td>\n",
       "      <td>38.000000</td>\n",
       "    </tr>\n",
       "  </tbody>\n",
       "</table>\n",
       "</div>"
      ],
      "text/plain": [
       "           setosa  versicolor  virginica   accuracy  macro avg  weighted avg\n",
       "precision     1.0    0.846154    1.000000  0.947368   0.948718      0.955466\n",
       "recall        1.0    1.000000    0.833333  0.947368   0.944444      0.947368\n",
       "f1-score      1.0    0.916667    0.909091  0.947368   0.941919      0.947169\n",
       "support      15.0   11.000000   12.000000  0.947368  38.000000     38.000000"
      ]
     },
     "metadata": {},
     "output_type": "display_data"
    },
    {
     "data": {
      "image/png": "[encoded data removed]",
      "text/plain": [
       "<Figure size 432x288 with 1 Axes>"
      ]
     },
     "metadata": {
      "needs_background": "light"
     },
     "output_type": "display_data"
    },
    {
     "data": {
      "image/png": "[encoded data removed]",
      "text/plain": [
       "<Figure size 432x288 with 1 Axes>"
      ]
     },
     "metadata": {
      "needs_background": "light"
     },
     "output_type": "display_data"
    }
   ],
   "source": [
    "# 決定木\n",
    "ss_model_DT = DecisionTreeClassifier()\n",
    "\n",
    "# 学習\n",
    "ss_clf = ss_model_DT.fit(ss_X_train, y_train)\n",
    "\n",
    "# 推定\n",
    "ss_y_pred_DT_test = ss_model_DT.predict(ss_X_test)\n",
    "\n",
    "# 評価\n",
    "ss_cr_DT_test = classification_report(y_test, ss_y_pred_DT_test, target_names = target_names, output_dict=True)\n",
    "\n",
    "# pandas.DataFrameへ変換\n",
    "df_ss_cr_DT_test = pd.DataFrame(ss_cr_DT_test)\n",
    "print(\"テストデータ\")\n",
    "display(df_ss_cr_DT_test)\n",
    "\n",
    "# 可視化\n",
    "many_decision_region(ss_X_train, y_train, ss_clf, title='DecisionTree with StandardScaler (train)', xlabel='sepal_length', ylabel='petal_length', target_names = target_names)\n",
    "many_decision_region(ss_X_test, y_test, ss_clf, title='DecisionTree with StandardScaler (test)', xlabel='sepal_length', ylabel='petal_length', target_names = target_names)"
   ]
  },
  {
   "cell_type": "markdown",
   "metadata": {},
   "source": [
    "setosaは１００％分類可能"
   ]
  },
  {
   "cell_type": "markdown",
   "metadata": {},
   "source": [
    "### ＜ランダムフォレスト＞"
   ]
  },
  {
   "cell_type": "code",
   "execution_count": 551,
   "metadata": {},
   "outputs": [
    {
     "name": "stdout",
     "output_type": "stream",
     "text": [
      "テストデータ\n"
     ]
    },
    {
     "data": {
      "text/html": [
       "<div>\n",
       "<style scoped>\n",
       "    .dataframe tbody tr th:only-of-type {\n",
       "        vertical-align: middle;\n",
       "    }\n",
       "\n",
       "    .dataframe tbody tr th {\n",
       "        vertical-align: top;\n",
       "    }\n",
       "\n",
       "    .dataframe thead th {\n",
       "        text-align: right;\n",
       "    }\n",
       "</style>\n",
       "<table border=\"1\" class=\"dataframe\">\n",
       "  <thead>\n",
       "    <tr style=\"text-align: right;\">\n",
       "      <th></th>\n",
       "      <th>setosa</th>\n",
       "      <th>versicolor</th>\n",
       "      <th>virginica</th>\n",
       "      <th>accuracy</th>\n",
       "      <th>macro avg</th>\n",
       "      <th>weighted avg</th>\n",
       "    </tr>\n",
       "  </thead>\n",
       "  <tbody>\n",
       "    <tr>\n",
       "      <th>precision</th>\n",
       "      <td>1.0</td>\n",
       "      <td>0.916667</td>\n",
       "      <td>1.000000</td>\n",
       "      <td>0.973684</td>\n",
       "      <td>0.972222</td>\n",
       "      <td>0.975877</td>\n",
       "    </tr>\n",
       "    <tr>\n",
       "      <th>recall</th>\n",
       "      <td>1.0</td>\n",
       "      <td>1.000000</td>\n",
       "      <td>0.916667</td>\n",
       "      <td>0.973684</td>\n",
       "      <td>0.972222</td>\n",
       "      <td>0.973684</td>\n",
       "    </tr>\n",
       "    <tr>\n",
       "      <th>f1-score</th>\n",
       "      <td>1.0</td>\n",
       "      <td>0.956522</td>\n",
       "      <td>0.956522</td>\n",
       "      <td>0.973684</td>\n",
       "      <td>0.971014</td>\n",
       "      <td>0.973684</td>\n",
       "    </tr>\n",
       "    <tr>\n",
       "      <th>support</th>\n",
       "      <td>15.0</td>\n",
       "      <td>11.000000</td>\n",
       "      <td>12.000000</td>\n",
       "      <td>0.973684</td>\n",
       "      <td>38.000000</td>\n",
       "      <td>38.000000</td>\n",
       "    </tr>\n",
       "  </tbody>\n",
       "</table>\n",
       "</div>"
      ],
      "text/plain": [
       "           setosa  versicolor  virginica   accuracy  macro avg  weighted avg\n",
       "precision     1.0    0.916667    1.000000  0.973684   0.972222      0.975877\n",
       "recall        1.0    1.000000    0.916667  0.973684   0.972222      0.973684\n",
       "f1-score      1.0    0.956522    0.956522  0.973684   0.971014      0.973684\n",
       "support      15.0   11.000000   12.000000  0.973684  38.000000     38.000000"
      ]
     },
     "metadata": {},
     "output_type": "display_data"
    },
    {
     "data": {
      "image/png": "[encoded data removed]",
      "text/plain": [
       "<Figure size 432x288 with 1 Axes>"
      ]
     },
     "metadata": {
      "needs_background": "light"
     },
     "output_type": "display_data"
    },
    {
     "data": {
      "image/png": "[encoded data removed]",
      "text/plain": [
       "<Figure size 432x288 with 1 Axes>"
      ]
     },
     "metadata": {
      "needs_background": "light"
     },
     "output_type": "display_data"
    }
   ],
   "source": [
    "# ランダムフォレスト\n",
    "ss_model_RF = RandomForestClassifier()\n",
    "\n",
    "# 学習\n",
    "ss_clf = ss_model_RF.fit(ss_X_train, y_train)\n",
    "\n",
    "# 推定\n",
    "ss_y_pred_RF_test = ss_model_RF.predict(ss_X_test)\n",
    "\n",
    "# 評価\n",
    "ss_cr_RF_test = classification_report(y_test, ss_y_pred_RF_test, target_names = target_names, output_dict=True)\n",
    "\n",
    "\n",
    "# pandas.DataFrameへ変換\n",
    "df_ss_cr_RF_test = pd.DataFrame(ss_cr_RF_test)\n",
    "print(\"テストデータ\")\n",
    "display(df_ss_cr_RF_test)\n",
    "\n",
    "\n",
    "# 可視化\n",
    "many_decision_region(ss_X_train, y_train, ss_clf, title='RandomForest with StandardScaler (train)', xlabel='sepal_length', ylabel='petal_length', target_names = target_names)\n",
    "many_decision_region(ss_X_test, y_test, ss_clf, title='RandomForest with StandardScaler (test)', xlabel='sepal_length', ylabel='petal_length', target_names = target_names)"
   ]
  },
  {
   "cell_type": "markdown",
   "metadata": {},
   "source": [
    "setosaは１００％分類可能"
   ]
  },
  {
   "cell_type": "markdown",
   "metadata": {},
   "source": [
    "### ＜まとめ＞"
   ]
  },
  {
   "cell_type": "markdown",
   "metadata": {},
   "source": [
    "<table>\n",
    "\t<tr>\n",
    "\t\t<td rowspan=\"2\"></td>\n",
    "\t\t<td colspan=\"3\"><center>最近傍法</center></td>\n",
    "\t\t<td colspan=\"3\"><center>ロジスティック回帰</center></td>\n",
    "\t\t<td colspan=\"3\"><center>SVM</center></td>\n",
    "\t\t<td colspan=\"3\"><center>決定木</center></td>\n",
    "\t\t<td colspan=\"3\"><center>ランダムフォレスト</center></td>\n",
    "\t</tr>\n",
    "\t<tr>\n",
    "\t\t<td>setosa</td>\n",
    "\t\t<td>versicolor</td>\n",
    "\t\t<td>virginica</td>\n",
    "\t\t<td>setosa</td>\n",
    "\t\t<td>versicolor</td>\n",
    "\t\t<td>virginica</td>\n",
    "\t\t<td>setosa</td>\n",
    "\t\t<td>versicolor</td>\n",
    "\t\t<td>virginica</td>\n",
    "\t\t<td>setosa</td>\n",
    "\t\t<td>versicolor</td>\n",
    "\t\t<td>virginica</td>\n",
    "\t\t<td>setosa</td>\n",
    "\t\t<td>versicolor</td>\n",
    "\t\t<td>virginica</td>\n",
    "\t</tr>\n",
    "\t<tr>\n",
    "\t\t<td>accuracy</td>\n",
    "\t\t<td colspan=\"3\"><center>0.9474</center></td>\n",
    "\t\t<td colspan=\"3\"><center>0.9737</center></td>\n",
    "\t\t<td colspan=\"3\"><center>0.9474</center></td>\n",
    "\t\t<td colspan=\"3\"><center>0.9474</center></td>\n",
    "\t\t<td colspan=\"3\"><center>0.9474</center></td>\n",
    "\t</tr>\n",
    "\t<tr>\n",
    "\t\t<td>precision</td>\n",
    "\t\t<td>1.0000</td>\n",
    "\t\t<td>0.8462</td>\n",
    "\t\t<td>1.0000</td>\n",
    "\t\t<td>1.0000</td>\n",
    "\t\t<td>0.9167</td>\n",
    "\t\t<td>1.0000</td>\n",
    "\t\t<td>1.0000</td>\n",
    "\t\t<td>0.8462</td>\n",
    "\t\t<td>1.0000</td>\n",
    "\t\t<td>1.0000</td>\n",
    "\t\t<td>0.8462</td>\n",
    "\t\t<td>1.0000</td>\n",
    "\t\t<td>1.0000</td>\n",
    "\t\t<td>0.9167</td>\n",
    "\t\t<td>1.0000</td>\n",
    "\t</tr>\n",
    "\t<tr>\n",
    "\t\t<td>recall</td>\n",
    "\t\t<td>1.0000</td>\n",
    "\t\t<td>1.0000</td>\n",
    "\t\t<td>0.8333</td>\n",
    "\t\t<td>1.0000</td>\n",
    "\t\t<td>1.0000</td>\n",
    "\t\t<td>0.9167</td>\n",
    "\t\t<td>1.0000</td>\n",
    "\t\t<td>1.0000</td>\n",
    "\t\t<td>0.8333</td>\n",
    "\t\t<td>1.0000</td>\n",
    "\t\t<td>1.0000</td>\n",
    "\t\t<td>0.8333</td>\n",
    "\t\t<td>1.0000</td>\n",
    "\t\t<td>1.0000</td>\n",
    "\t\t<td>0.9167</td>\n",
    "\t</tr>\n",
    "\t<tr>\n",
    "\t\t<td>f1-score</td>\n",
    "\t\t<td>1.0000</td>\n",
    "\t\t<td>0.9167</td>\n",
    "\t\t<td>0.9091</td>\n",
    "\t\t<td>1.0000</td>\n",
    "\t\t<td>0.9565</td>\n",
    "\t\t<td>0.9565</td>\n",
    "\t\t<td>1.0000</td>\n",
    "\t\t<td>0.9167</td>\n",
    "\t\t<td>0.9091</td>\n",
    "\t\t<td>1.0000</td>\n",
    "\t\t<td>0.9167</td>\n",
    "\t\t<td>0.9091</td>\n",
    "\t\t<td>1.0000</td>\n",
    "\t\t<td>0.9565</td>\n",
    "\t\t<td>0.9565</td>\n",
    "\t</tr>\n",
    "</table>\n"
   ]
  },
  {
   "cell_type": "markdown",
   "metadata": {},
   "source": [
    "上の表からsetosaは、すべての分類手法でも１００％分類可能。  \n",
    "残る品種をf1-scoreで比較すると、  \n",
    "versicolorはロジスティック回帰とランダムフォレストが精度が高い。  \n",
    "virginicaも同様に、ロジスティック回帰とランダムフォレストが精度が高い。  \n",
    "本データでは、ロジスティック回帰とランダムフォレストが同様の精度となったが、  \n",
    "ロジスティック回帰では直線的な分類となるので、表現力としてはランダムフォレストの方が精度が高いと考えられる。"
   ]
  },
  {
   "cell_type": "code",
   "execution_count": null,
   "metadata": {},
   "outputs": [],
   "source": []
  },
  {
   "cell_type": "code",
   "execution_count": null,
   "metadata": {},
   "outputs": [],
   "source": []
  }
 ],
 "metadata": {
  "kernelspec": {
   "display_name": "Python 3",
   "language": "python",
   "name": "python3"
  },
  "language_info": {
   "codemirror_mode": {
    "name": "ipython",
    "version": 3
   },
   "file_extension": ".py",
   "mimetype": "text/x-python",
   "name": "python",
   "nbconvert_exporter": "python",
   "pygments_lexer": "ipython3",
   "version": "3.7.4"
  }
 },
 "nbformat": 4,
 "nbformat_minor": 2
}
