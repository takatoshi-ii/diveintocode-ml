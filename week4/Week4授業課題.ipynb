{
 "cells": [
  {
   "cell_type": "markdown",
   "metadata": {},
   "source": [
    "# Week4授業課題 信用情報の学習"
   ]
  },
  {
   "cell_type": "markdown",
   "metadata": {},
   "source": [
    "## 1.このテキストについて\n",
    "<u>テキストの目的</u>  \n",
    "・実データに近いものに対して機械学習を行う\n",
    "\n",
    "<u>どのように学ぶか</u>  \n",
    "Kaggleのデータセットを通じて、機械学習の基本的な流れやライブラリの使い方を学びます。"
   ]
  },
  {
   "cell_type": "markdown",
   "metadata": {},
   "source": [
    "## 2.信用情報\n",
    "Kaggleの Home Credit Default Risk コンペティションの学習および推定を行います。\n",
    "\n",
    "\n",
    "[Home Credit Default Risk | Kaggle](https://www.kaggle.com/c/home-credit-default-risk)"
   ]
  },
  {
   "cell_type": "markdown",
   "metadata": {},
   "source": [
    "## 【問題1】コンペティション内容の確認"
   ]
  },
  {
   "cell_type": "markdown",
   "metadata": {},
   "source": [
    "コンペティションのOverviewページ読み、「Home Credit Default Risk」について以下の観点について確認してください。\n",
    "\n",
    "<img src=\"https://t.gyazo.com/teams/diveintocode/f670fe8c4463d588543dd754022b641c.png\" style=\"background-color:#FFFFFF;\">\n",
    "\n",
    "\n",
    "・何を学習し、何を予測するのか  \n",
    "  ⇒ホームクレジット社がクライアントが返済できる確率を予測する。  \n",
    "  \n",
    "・どのようなファイルを作りKaggleに提出するか  \n",
    "  ⇒test setの各SK_ID_CURRに対して、TARGET変数の確率を予測し、ヘッダー付きで以下のように提出する。  \n",
    "        SK_ID_CURR,TARGET  \n",
    "        100001, 0.1  \n",
    "        100005, 0.9  \n",
    "        100013, 0.2  \n",
    "        etc.  \n",
    "        \n",
    "・提出されたものはどういった指標値で評価されるのか  \n",
    "  ⇒area under the ROC curve(ROC曲線の下部領域)で評価される。"
   ]
  },
  {
   "cell_type": "markdown",
   "metadata": {},
   "source": [
    "## 【問題2】学習と検証"
   ]
  },
  {
   "cell_type": "markdown",
   "metadata": {},
   "source": [
    "データを簡単に分析、前処理し、学習、検証するまでの一連の流れを作成・実行してください。  \n",
    "\n",
    "\n",
    "検証にはこのコンペティションで使用される評価指標を用いるようにしてください。  \n",
    "学習に用いる手法は指定しません。  "
   ]
  },
  {
   "cell_type": "code",
   "execution_count": 131,
   "metadata": {},
   "outputs": [],
   "source": [
    "import pandas as pd\n",
    "# データ読込\n",
    "df_train = pd.read_csv('application_train.csv')\n",
    "df_test = pd.read_csv('application_test.csv')"
   ]
  },
  {
   "cell_type": "code",
   "execution_count": 132,
   "metadata": {},
   "outputs": [],
   "source": [
    "# 半分以上 欠損地を含む列を削除\n",
    "drop_df = df_train.dropna(thresh=df.shape[0]*0.5, axis=1)\n",
    "\n",
    "# 欠損地を含む行を削除\n",
    "drop_df = drop_df.dropna(axis=0)"
   ]
  },
  {
   "cell_type": "code",
   "execution_count": 134,
   "metadata": {},
   "outputs": [],
   "source": [
    "# ワンホットエンコーディング\n",
    "df_one_hot_encoded = pd.get_dummies(drop_df)"
   ]
  },
  {
   "cell_type": "code",
   "execution_count": 135,
   "metadata": {},
   "outputs": [],
   "source": [
    "# 相関係数の算出\n",
    "df_corr = df_one_hot_encoded.corr()"
   ]
  },
  {
   "cell_type": "code",
   "execution_count": 136,
   "metadata": {},
   "outputs": [
    {
     "data": {
      "text/plain": [
       "TARGET                                               1.000000\n",
       "DAYS_EMPLOYED                                        0.067902\n",
       "DAYS_BIRTH                                           0.061618\n",
       "NAME_EDUCATION_TYPE_Secondary / secondary special    0.054697\n",
       "REGION_RATING_CLIENT_W_CITY                          0.050473\n",
       "                                                       ...   \n",
       "NAME_EDUCATION_TYPE_Higher education                -0.058496\n",
       "EXT_SOURCE_2                                        -0.152174\n",
       "EXT_SOURCE_3                                        -0.169535\n",
       "FLAG_MOBIL                                                NaN\n",
       "FLAG_DOCUMENT_2                                           NaN\n",
       "Name: TARGET, Length: 189, dtype: float64"
      ]
     },
     "execution_count": 136,
     "metadata": {},
     "output_type": "execute_result"
    }
   ],
   "source": [
    "# TARGETとの相関係数上位１０項目を抽出\n",
    "df_corr[\"TARGET\"].sort_values(ascending=False)"
   ]
  },
  {
   "cell_type": "code",
   "execution_count": 137,
   "metadata": {},
   "outputs": [
    {
     "data": {
      "text/plain": [
       "Index(['TARGET', 'EXT_SOURCE_3', 'EXT_SOURCE_2', 'DAYS_EMPLOYED', 'DAYS_BIRTH',\n",
       "       'NAME_EDUCATION_TYPE_Higher education',\n",
       "       'NAME_EDUCATION_TYPE_Secondary / secondary special',\n",
       "       'REGION_RATING_CLIENT_W_CITY', 'REGION_RATING_CLIENT', 'FLOORSMAX_AVG',\n",
       "       'FLOORSMAX_MEDI'],\n",
       "      dtype='object')"
      ]
     },
     "execution_count": 137,
     "metadata": {},
     "output_type": "execute_result"
    }
   ],
   "source": [
    "# TARGETとの相関係数上位１０項目を抽出(相関関係の正負も考慮し、絶対値を取る)\n",
    "abs(df_corr[\"TARGET\"]).sort_values(ascending=False)[0:11].index"
   ]
  },
  {
   "cell_type": "code",
   "execution_count": 138,
   "metadata": {},
   "outputs": [
    {
     "data": {
      "text/html": [
       "<div>\n",
       "<style scoped>\n",
       "    .dataframe tbody tr th:only-of-type {\n",
       "        vertical-align: middle;\n",
       "    }\n",
       "\n",
       "    .dataframe tbody tr th {\n",
       "        vertical-align: top;\n",
       "    }\n",
       "\n",
       "    .dataframe thead th {\n",
       "        text-align: right;\n",
       "    }\n",
       "</style>\n",
       "<table border=\"1\" class=\"dataframe\">\n",
       "  <thead>\n",
       "    <tr style=\"text-align: right;\">\n",
       "      <th></th>\n",
       "      <th>TARGET</th>\n",
       "      <th>EXT_SOURCE_3</th>\n",
       "      <th>EXT_SOURCE_2</th>\n",
       "      <th>DAYS_EMPLOYED</th>\n",
       "      <th>DAYS_BIRTH</th>\n",
       "      <th>NAME_EDUCATION_TYPE_Higher education</th>\n",
       "      <th>NAME_EDUCATION_TYPE_Secondary / secondary special</th>\n",
       "      <th>REGION_RATING_CLIENT_W_CITY</th>\n",
       "      <th>REGION_RATING_CLIENT</th>\n",
       "      <th>FLOORSMAX_AVG</th>\n",
       "      <th>FLOORSMAX_MEDI</th>\n",
       "    </tr>\n",
       "  </thead>\n",
       "  <tbody>\n",
       "    <tr>\n",
       "      <th>TARGET</th>\n",
       "      <td>1.000000</td>\n",
       "      <td>-0.169535</td>\n",
       "      <td>-0.152174</td>\n",
       "      <td>0.067902</td>\n",
       "      <td>0.061618</td>\n",
       "      <td>-0.058496</td>\n",
       "      <td>0.054697</td>\n",
       "      <td>0.050473</td>\n",
       "      <td>0.048078</td>\n",
       "      <td>-0.046205</td>\n",
       "      <td>-0.046030</td>\n",
       "    </tr>\n",
       "    <tr>\n",
       "      <th>EXT_SOURCE_3</th>\n",
       "      <td>-0.169535</td>\n",
       "      <td>1.000000</td>\n",
       "      <td>0.118087</td>\n",
       "      <td>-0.125235</td>\n",
       "      <td>-0.179898</td>\n",
       "      <td>-0.005739</td>\n",
       "      <td>0.027195</td>\n",
       "      <td>-0.002365</td>\n",
       "      <td>-0.003040</td>\n",
       "      <td>0.003699</td>\n",
       "      <td>0.003985</td>\n",
       "    </tr>\n",
       "    <tr>\n",
       "      <th>EXT_SOURCE_2</th>\n",
       "      <td>-0.152174</td>\n",
       "      <td>0.118087</td>\n",
       "      <td>1.000000</td>\n",
       "      <td>-0.088711</td>\n",
       "      <td>-0.140273</td>\n",
       "      <td>0.110212</td>\n",
       "      <td>-0.095934</td>\n",
       "      <td>-0.284964</td>\n",
       "      <td>-0.295872</td>\n",
       "      <td>0.125559</td>\n",
       "      <td>0.124219</td>\n",
       "    </tr>\n",
       "    <tr>\n",
       "      <th>DAYS_EMPLOYED</th>\n",
       "      <td>0.067902</td>\n",
       "      <td>-0.125235</td>\n",
       "      <td>-0.088711</td>\n",
       "      <td>1.000000</td>\n",
       "      <td>0.348787</td>\n",
       "      <td>0.017198</td>\n",
       "      <td>-0.044498</td>\n",
       "      <td>-0.022239</td>\n",
       "      <td>-0.023906</td>\n",
       "      <td>0.003278</td>\n",
       "      <td>0.003263</td>\n",
       "    </tr>\n",
       "    <tr>\n",
       "      <th>DAYS_BIRTH</th>\n",
       "      <td>0.061618</td>\n",
       "      <td>-0.179898</td>\n",
       "      <td>-0.140273</td>\n",
       "      <td>0.348787</td>\n",
       "      <td>1.000000</td>\n",
       "      <td>0.077791</td>\n",
       "      <td>-0.134095</td>\n",
       "      <td>0.030587</td>\n",
       "      <td>0.032088</td>\n",
       "      <td>-0.013425</td>\n",
       "      <td>-0.013167</td>\n",
       "    </tr>\n",
       "    <tr>\n",
       "      <th>NAME_EDUCATION_TYPE_Higher education</th>\n",
       "      <td>-0.058496</td>\n",
       "      <td>-0.005739</td>\n",
       "      <td>0.110212</td>\n",
       "      <td>0.017198</td>\n",
       "      <td>0.077791</td>\n",
       "      <td>1.000000</td>\n",
       "      <td>-0.898646</td>\n",
       "      <td>-0.040935</td>\n",
       "      <td>-0.042366</td>\n",
       "      <td>0.140492</td>\n",
       "      <td>0.140034</td>\n",
       "    </tr>\n",
       "    <tr>\n",
       "      <th>NAME_EDUCATION_TYPE_Secondary / secondary special</th>\n",
       "      <td>0.054697</td>\n",
       "      <td>0.027195</td>\n",
       "      <td>-0.095934</td>\n",
       "      <td>-0.044498</td>\n",
       "      <td>-0.134095</td>\n",
       "      <td>-0.898646</td>\n",
       "      <td>1.000000</td>\n",
       "      <td>0.046928</td>\n",
       "      <td>0.047650</td>\n",
       "      <td>-0.141361</td>\n",
       "      <td>-0.140970</td>\n",
       "    </tr>\n",
       "    <tr>\n",
       "      <th>REGION_RATING_CLIENT_W_CITY</th>\n",
       "      <td>0.050473</td>\n",
       "      <td>-0.002365</td>\n",
       "      <td>-0.284964</td>\n",
       "      <td>-0.022239</td>\n",
       "      <td>0.030587</td>\n",
       "      <td>-0.040935</td>\n",
       "      <td>0.046928</td>\n",
       "      <td>1.000000</td>\n",
       "      <td>0.924737</td>\n",
       "      <td>-0.227591</td>\n",
       "      <td>-0.224935</td>\n",
       "    </tr>\n",
       "    <tr>\n",
       "      <th>REGION_RATING_CLIENT</th>\n",
       "      <td>0.048078</td>\n",
       "      <td>-0.003040</td>\n",
       "      <td>-0.295872</td>\n",
       "      <td>-0.023906</td>\n",
       "      <td>0.032088</td>\n",
       "      <td>-0.042366</td>\n",
       "      <td>0.047650</td>\n",
       "      <td>0.924737</td>\n",
       "      <td>1.000000</td>\n",
       "      <td>-0.212323</td>\n",
       "      <td>-0.209644</td>\n",
       "    </tr>\n",
       "    <tr>\n",
       "      <th>FLOORSMAX_AVG</th>\n",
       "      <td>-0.046205</td>\n",
       "      <td>0.003699</td>\n",
       "      <td>0.125559</td>\n",
       "      <td>0.003278</td>\n",
       "      <td>-0.013425</td>\n",
       "      <td>0.140492</td>\n",
       "      <td>-0.141361</td>\n",
       "      <td>-0.227591</td>\n",
       "      <td>-0.212323</td>\n",
       "      <td>1.000000</td>\n",
       "      <td>0.997143</td>\n",
       "    </tr>\n",
       "    <tr>\n",
       "      <th>FLOORSMAX_MEDI</th>\n",
       "      <td>-0.046030</td>\n",
       "      <td>0.003985</td>\n",
       "      <td>0.124219</td>\n",
       "      <td>0.003263</td>\n",
       "      <td>-0.013167</td>\n",
       "      <td>0.140034</td>\n",
       "      <td>-0.140970</td>\n",
       "      <td>-0.224935</td>\n",
       "      <td>-0.209644</td>\n",
       "      <td>0.997143</td>\n",
       "      <td>1.000000</td>\n",
       "    </tr>\n",
       "  </tbody>\n",
       "</table>\n",
       "</div>"
      ],
      "text/plain": [
       "                                                     TARGET  EXT_SOURCE_3  \\\n",
       "TARGET                                             1.000000     -0.169535   \n",
       "EXT_SOURCE_3                                      -0.169535      1.000000   \n",
       "EXT_SOURCE_2                                      -0.152174      0.118087   \n",
       "DAYS_EMPLOYED                                      0.067902     -0.125235   \n",
       "DAYS_BIRTH                                         0.061618     -0.179898   \n",
       "NAME_EDUCATION_TYPE_Higher education              -0.058496     -0.005739   \n",
       "NAME_EDUCATION_TYPE_Secondary / secondary special  0.054697      0.027195   \n",
       "REGION_RATING_CLIENT_W_CITY                        0.050473     -0.002365   \n",
       "REGION_RATING_CLIENT                               0.048078     -0.003040   \n",
       "FLOORSMAX_AVG                                     -0.046205      0.003699   \n",
       "FLOORSMAX_MEDI                                    -0.046030      0.003985   \n",
       "\n",
       "                                                   EXT_SOURCE_2  \\\n",
       "TARGET                                                -0.152174   \n",
       "EXT_SOURCE_3                                           0.118087   \n",
       "EXT_SOURCE_2                                           1.000000   \n",
       "DAYS_EMPLOYED                                         -0.088711   \n",
       "DAYS_BIRTH                                            -0.140273   \n",
       "NAME_EDUCATION_TYPE_Higher education                   0.110212   \n",
       "NAME_EDUCATION_TYPE_Secondary / secondary special     -0.095934   \n",
       "REGION_RATING_CLIENT_W_CITY                           -0.284964   \n",
       "REGION_RATING_CLIENT                                  -0.295872   \n",
       "FLOORSMAX_AVG                                          0.125559   \n",
       "FLOORSMAX_MEDI                                         0.124219   \n",
       "\n",
       "                                                   DAYS_EMPLOYED  DAYS_BIRTH  \\\n",
       "TARGET                                                  0.067902    0.061618   \n",
       "EXT_SOURCE_3                                           -0.125235   -0.179898   \n",
       "EXT_SOURCE_2                                           -0.088711   -0.140273   \n",
       "DAYS_EMPLOYED                                           1.000000    0.348787   \n",
       "DAYS_BIRTH                                              0.348787    1.000000   \n",
       "NAME_EDUCATION_TYPE_Higher education                    0.017198    0.077791   \n",
       "NAME_EDUCATION_TYPE_Secondary / secondary special      -0.044498   -0.134095   \n",
       "REGION_RATING_CLIENT_W_CITY                            -0.022239    0.030587   \n",
       "REGION_RATING_CLIENT                                   -0.023906    0.032088   \n",
       "FLOORSMAX_AVG                                           0.003278   -0.013425   \n",
       "FLOORSMAX_MEDI                                          0.003263   -0.013167   \n",
       "\n",
       "                                                   NAME_EDUCATION_TYPE_Higher education  \\\n",
       "TARGET                                                                        -0.058496   \n",
       "EXT_SOURCE_3                                                                  -0.005739   \n",
       "EXT_SOURCE_2                                                                   0.110212   \n",
       "DAYS_EMPLOYED                                                                  0.017198   \n",
       "DAYS_BIRTH                                                                     0.077791   \n",
       "NAME_EDUCATION_TYPE_Higher education                                           1.000000   \n",
       "NAME_EDUCATION_TYPE_Secondary / secondary special                             -0.898646   \n",
       "REGION_RATING_CLIENT_W_CITY                                                   -0.040935   \n",
       "REGION_RATING_CLIENT                                                          -0.042366   \n",
       "FLOORSMAX_AVG                                                                  0.140492   \n",
       "FLOORSMAX_MEDI                                                                 0.140034   \n",
       "\n",
       "                                                   NAME_EDUCATION_TYPE_Secondary / secondary special  \\\n",
       "TARGET                                                                                      0.054697   \n",
       "EXT_SOURCE_3                                                                                0.027195   \n",
       "EXT_SOURCE_2                                                                               -0.095934   \n",
       "DAYS_EMPLOYED                                                                              -0.044498   \n",
       "DAYS_BIRTH                                                                                 -0.134095   \n",
       "NAME_EDUCATION_TYPE_Higher education                                                       -0.898646   \n",
       "NAME_EDUCATION_TYPE_Secondary / secondary special                                           1.000000   \n",
       "REGION_RATING_CLIENT_W_CITY                                                                 0.046928   \n",
       "REGION_RATING_CLIENT                                                                        0.047650   \n",
       "FLOORSMAX_AVG                                                                              -0.141361   \n",
       "FLOORSMAX_MEDI                                                                             -0.140970   \n",
       "\n",
       "                                                   REGION_RATING_CLIENT_W_CITY  \\\n",
       "TARGET                                                                0.050473   \n",
       "EXT_SOURCE_3                                                         -0.002365   \n",
       "EXT_SOURCE_2                                                         -0.284964   \n",
       "DAYS_EMPLOYED                                                        -0.022239   \n",
       "DAYS_BIRTH                                                            0.030587   \n",
       "NAME_EDUCATION_TYPE_Higher education                                 -0.040935   \n",
       "NAME_EDUCATION_TYPE_Secondary / secondary special                     0.046928   \n",
       "REGION_RATING_CLIENT_W_CITY                                           1.000000   \n",
       "REGION_RATING_CLIENT                                                  0.924737   \n",
       "FLOORSMAX_AVG                                                        -0.227591   \n",
       "FLOORSMAX_MEDI                                                       -0.224935   \n",
       "\n",
       "                                                   REGION_RATING_CLIENT  \\\n",
       "TARGET                                                         0.048078   \n",
       "EXT_SOURCE_3                                                  -0.003040   \n",
       "EXT_SOURCE_2                                                  -0.295872   \n",
       "DAYS_EMPLOYED                                                 -0.023906   \n",
       "DAYS_BIRTH                                                     0.032088   \n",
       "NAME_EDUCATION_TYPE_Higher education                          -0.042366   \n",
       "NAME_EDUCATION_TYPE_Secondary / secondary special              0.047650   \n",
       "REGION_RATING_CLIENT_W_CITY                                    0.924737   \n",
       "REGION_RATING_CLIENT                                           1.000000   \n",
       "FLOORSMAX_AVG                                                 -0.212323   \n",
       "FLOORSMAX_MEDI                                                -0.209644   \n",
       "\n",
       "                                                   FLOORSMAX_AVG  \\\n",
       "TARGET                                                 -0.046205   \n",
       "EXT_SOURCE_3                                            0.003699   \n",
       "EXT_SOURCE_2                                            0.125559   \n",
       "DAYS_EMPLOYED                                           0.003278   \n",
       "DAYS_BIRTH                                             -0.013425   \n",
       "NAME_EDUCATION_TYPE_Higher education                    0.140492   \n",
       "NAME_EDUCATION_TYPE_Secondary / secondary special      -0.141361   \n",
       "REGION_RATING_CLIENT_W_CITY                            -0.227591   \n",
       "REGION_RATING_CLIENT                                   -0.212323   \n",
       "FLOORSMAX_AVG                                           1.000000   \n",
       "FLOORSMAX_MEDI                                          0.997143   \n",
       "\n",
       "                                                   FLOORSMAX_MEDI  \n",
       "TARGET                                                  -0.046030  \n",
       "EXT_SOURCE_3                                             0.003985  \n",
       "EXT_SOURCE_2                                             0.124219  \n",
       "DAYS_EMPLOYED                                            0.003263  \n",
       "DAYS_BIRTH                                              -0.013167  \n",
       "NAME_EDUCATION_TYPE_Higher education                     0.140034  \n",
       "NAME_EDUCATION_TYPE_Secondary / secondary special       -0.140970  \n",
       "REGION_RATING_CLIENT_W_CITY                             -0.224935  \n",
       "REGION_RATING_CLIENT                                    -0.209644  \n",
       "FLOORSMAX_AVG                                            0.997143  \n",
       "FLOORSMAX_MEDI                                           1.000000  "
      ]
     },
     "execution_count": 138,
     "metadata": {},
     "output_type": "execute_result"
    }
   ],
   "source": [
    "# 上位１０項目で再度相関係数を出しなおす。\n",
    "new_df = df_one_hot_encoded[abs(df_corr[\"TARGET\"]).sort_values(ascending=False)[0:11].index]\n",
    "new_df_corr = new_df.corr()\n",
    "new_df_corr"
   ]
  },
  {
   "cell_type": "code",
   "execution_count": 139,
   "metadata": {},
   "outputs": [
    {
     "data": {
      "text/html": [
       "<div>\n",
       "<style scoped>\n",
       "    .dataframe tbody tr th:only-of-type {\n",
       "        vertical-align: middle;\n",
       "    }\n",
       "\n",
       "    .dataframe tbody tr th {\n",
       "        vertical-align: top;\n",
       "    }\n",
       "\n",
       "    .dataframe thead th {\n",
       "        text-align: right;\n",
       "    }\n",
       "</style>\n",
       "<table border=\"1\" class=\"dataframe\">\n",
       "  <thead>\n",
       "    <tr style=\"text-align: right;\">\n",
       "      <th></th>\n",
       "      <th>TARGET</th>\n",
       "      <th>EXT_SOURCE_3</th>\n",
       "      <th>EXT_SOURCE_2</th>\n",
       "      <th>DAYS_EMPLOYED</th>\n",
       "      <th>DAYS_BIRTH</th>\n",
       "      <th>NAME_EDUCATION_TYPE_Higher education</th>\n",
       "      <th>NAME_EDUCATION_TYPE_Secondary / secondary special</th>\n",
       "      <th>REGION_RATING_CLIENT_W_CITY</th>\n",
       "      <th>REGION_RATING_CLIENT</th>\n",
       "      <th>FLOORSMAX_AVG</th>\n",
       "      <th>FLOORSMAX_MEDI</th>\n",
       "    </tr>\n",
       "  </thead>\n",
       "  <tbody>\n",
       "    <tr>\n",
       "      <th>0</th>\n",
       "      <td>1</td>\n",
       "      <td>0.139376</td>\n",
       "      <td>0.262949</td>\n",
       "      <td>-637</td>\n",
       "      <td>-9461</td>\n",
       "      <td>0</td>\n",
       "      <td>1</td>\n",
       "      <td>2</td>\n",
       "      <td>2</td>\n",
       "      <td>0.0833</td>\n",
       "      <td>0.0833</td>\n",
       "    </tr>\n",
       "    <tr>\n",
       "      <th>12</th>\n",
       "      <td>0</td>\n",
       "      <td>0.176653</td>\n",
       "      <td>0.715042</td>\n",
       "      <td>-2717</td>\n",
       "      <td>-13439</td>\n",
       "      <td>0</td>\n",
       "      <td>1</td>\n",
       "      <td>2</td>\n",
       "      <td>2</td>\n",
       "      <td>0.1667</td>\n",
       "      <td>0.1667</td>\n",
       "    </tr>\n",
       "    <tr>\n",
       "      <th>13</th>\n",
       "      <td>0</td>\n",
       "      <td>0.770087</td>\n",
       "      <td>0.566907</td>\n",
       "      <td>-3028</td>\n",
       "      <td>-14086</td>\n",
       "      <td>0</td>\n",
       "      <td>1</td>\n",
       "      <td>2</td>\n",
       "      <td>2</td>\n",
       "      <td>0.3333</td>\n",
       "      <td>0.3333</td>\n",
       "    </tr>\n",
       "    <tr>\n",
       "      <th>18</th>\n",
       "      <td>0</td>\n",
       "      <td>0.556727</td>\n",
       "      <td>0.706428</td>\n",
       "      <td>-7804</td>\n",
       "      <td>-17718</td>\n",
       "      <td>0</td>\n",
       "      <td>1</td>\n",
       "      <td>1</td>\n",
       "      <td>1</td>\n",
       "      <td>0.0833</td>\n",
       "      <td>0.0833</td>\n",
       "    </tr>\n",
       "    <tr>\n",
       "      <th>22</th>\n",
       "      <td>0</td>\n",
       "      <td>0.358951</td>\n",
       "      <td>0.457143</td>\n",
       "      <td>-4306</td>\n",
       "      <td>-11146</td>\n",
       "      <td>0</td>\n",
       "      <td>1</td>\n",
       "      <td>2</td>\n",
       "      <td>3</td>\n",
       "      <td>0.1667</td>\n",
       "      <td>0.1667</td>\n",
       "    </tr>\n",
       "    <tr>\n",
       "      <th>...</th>\n",
       "      <td>...</td>\n",
       "      <td>...</td>\n",
       "      <td>...</td>\n",
       "      <td>...</td>\n",
       "      <td>...</td>\n",
       "      <td>...</td>\n",
       "      <td>...</td>\n",
       "      <td>...</td>\n",
       "      <td>...</td>\n",
       "      <td>...</td>\n",
       "      <td>...</td>\n",
       "    </tr>\n",
       "    <tr>\n",
       "      <th>307495</th>\n",
       "      <td>0</td>\n",
       "      <td>0.597192</td>\n",
       "      <td>0.267834</td>\n",
       "      <td>-7438</td>\n",
       "      <td>-20922</td>\n",
       "      <td>1</td>\n",
       "      <td>0</td>\n",
       "      <td>2</td>\n",
       "      <td>2</td>\n",
       "      <td>0.3333</td>\n",
       "      <td>0.3333</td>\n",
       "    </tr>\n",
       "    <tr>\n",
       "      <th>307498</th>\n",
       "      <td>0</td>\n",
       "      <td>0.406617</td>\n",
       "      <td>0.746259</td>\n",
       "      <td>-3689</td>\n",
       "      <td>-19102</td>\n",
       "      <td>0</td>\n",
       "      <td>1</td>\n",
       "      <td>1</td>\n",
       "      <td>1</td>\n",
       "      <td>0.6667</td>\n",
       "      <td>0.6667</td>\n",
       "    </tr>\n",
       "    <tr>\n",
       "      <th>307508</th>\n",
       "      <td>0</td>\n",
       "      <td>0.218859</td>\n",
       "      <td>0.535722</td>\n",
       "      <td>-7921</td>\n",
       "      <td>-14966</td>\n",
       "      <td>1</td>\n",
       "      <td>0</td>\n",
       "      <td>3</td>\n",
       "      <td>3</td>\n",
       "      <td>0.1667</td>\n",
       "      <td>0.1667</td>\n",
       "    </tr>\n",
       "    <tr>\n",
       "      <th>307509</th>\n",
       "      <td>1</td>\n",
       "      <td>0.661024</td>\n",
       "      <td>0.514163</td>\n",
       "      <td>-4786</td>\n",
       "      <td>-11961</td>\n",
       "      <td>0</td>\n",
       "      <td>1</td>\n",
       "      <td>2</td>\n",
       "      <td>2</td>\n",
       "      <td>0.0417</td>\n",
       "      <td>0.0417</td>\n",
       "    </tr>\n",
       "    <tr>\n",
       "      <th>307510</th>\n",
       "      <td>0</td>\n",
       "      <td>0.113922</td>\n",
       "      <td>0.708569</td>\n",
       "      <td>-1262</td>\n",
       "      <td>-16856</td>\n",
       "      <td>1</td>\n",
       "      <td>0</td>\n",
       "      <td>1</td>\n",
       "      <td>1</td>\n",
       "      <td>0.3750</td>\n",
       "      <td>0.3750</td>\n",
       "    </tr>\n",
       "  </tbody>\n",
       "</table>\n",
       "<p>84575 rows × 11 columns</p>\n",
       "</div>"
      ],
      "text/plain": [
       "        TARGET  EXT_SOURCE_3  EXT_SOURCE_2  DAYS_EMPLOYED  DAYS_BIRTH  \\\n",
       "0            1      0.139376      0.262949           -637       -9461   \n",
       "12           0      0.176653      0.715042          -2717      -13439   \n",
       "13           0      0.770087      0.566907          -3028      -14086   \n",
       "18           0      0.556727      0.706428          -7804      -17718   \n",
       "22           0      0.358951      0.457143          -4306      -11146   \n",
       "...        ...           ...           ...            ...         ...   \n",
       "307495       0      0.597192      0.267834          -7438      -20922   \n",
       "307498       0      0.406617      0.746259          -3689      -19102   \n",
       "307508       0      0.218859      0.535722          -7921      -14966   \n",
       "307509       1      0.661024      0.514163          -4786      -11961   \n",
       "307510       0      0.113922      0.708569          -1262      -16856   \n",
       "\n",
       "        NAME_EDUCATION_TYPE_Higher education  \\\n",
       "0                                          0   \n",
       "12                                         0   \n",
       "13                                         0   \n",
       "18                                         0   \n",
       "22                                         0   \n",
       "...                                      ...   \n",
       "307495                                     1   \n",
       "307498                                     0   \n",
       "307508                                     1   \n",
       "307509                                     0   \n",
       "307510                                     1   \n",
       "\n",
       "        NAME_EDUCATION_TYPE_Secondary / secondary special  \\\n",
       "0                                                       1   \n",
       "12                                                      1   \n",
       "13                                                      1   \n",
       "18                                                      1   \n",
       "22                                                      1   \n",
       "...                                                   ...   \n",
       "307495                                                  0   \n",
       "307498                                                  1   \n",
       "307508                                                  0   \n",
       "307509                                                  1   \n",
       "307510                                                  0   \n",
       "\n",
       "        REGION_RATING_CLIENT_W_CITY  REGION_RATING_CLIENT  FLOORSMAX_AVG  \\\n",
       "0                                 2                     2         0.0833   \n",
       "12                                2                     2         0.1667   \n",
       "13                                2                     2         0.3333   \n",
       "18                                1                     1         0.0833   \n",
       "22                                2                     3         0.1667   \n",
       "...                             ...                   ...            ...   \n",
       "307495                            2                     2         0.3333   \n",
       "307498                            1                     1         0.6667   \n",
       "307508                            3                     3         0.1667   \n",
       "307509                            2                     2         0.0417   \n",
       "307510                            1                     1         0.3750   \n",
       "\n",
       "        FLOORSMAX_MEDI  \n",
       "0               0.0833  \n",
       "12              0.1667  \n",
       "13              0.3333  \n",
       "18              0.0833  \n",
       "22              0.1667  \n",
       "...                ...  \n",
       "307495          0.3333  \n",
       "307498          0.6667  \n",
       "307508          0.1667  \n",
       "307509          0.0417  \n",
       "307510          0.3750  \n",
       "\n",
       "[84575 rows x 11 columns]"
      ]
     },
     "execution_count": 139,
     "metadata": {},
     "output_type": "execute_result"
    }
   ],
   "source": [
    "new_df"
   ]
  },
  {
   "cell_type": "code",
   "execution_count": 140,
   "metadata": {},
   "outputs": [
    {
     "data": {
      "text/html": [
       "<div>\n",
       "<style scoped>\n",
       "    .dataframe tbody tr th:only-of-type {\n",
       "        vertical-align: middle;\n",
       "    }\n",
       "\n",
       "    .dataframe tbody tr th {\n",
       "        vertical-align: top;\n",
       "    }\n",
       "\n",
       "    .dataframe thead th {\n",
       "        text-align: right;\n",
       "    }\n",
       "</style>\n",
       "<table border=\"1\" class=\"dataframe\">\n",
       "  <thead>\n",
       "    <tr style=\"text-align: right;\">\n",
       "      <th></th>\n",
       "      <th>EXT_SOURCE_3</th>\n",
       "      <th>EXT_SOURCE_2</th>\n",
       "      <th>DAYS_EMPLOYED</th>\n",
       "      <th>DAYS_BIRTH</th>\n",
       "      <th>NAME_EDUCATION_TYPE_Higher education</th>\n",
       "      <th>NAME_EDUCATION_TYPE_Secondary / secondary special</th>\n",
       "      <th>REGION_RATING_CLIENT_W_CITY</th>\n",
       "      <th>REGION_RATING_CLIENT</th>\n",
       "      <th>FLOORSMAX_AVG</th>\n",
       "      <th>FLOORSMAX_MEDI</th>\n",
       "    </tr>\n",
       "  </thead>\n",
       "  <tbody>\n",
       "    <tr>\n",
       "      <th>0</th>\n",
       "      <td>0.139376</td>\n",
       "      <td>0.262949</td>\n",
       "      <td>-637</td>\n",
       "      <td>-9461</td>\n",
       "      <td>0</td>\n",
       "      <td>1</td>\n",
       "      <td>2</td>\n",
       "      <td>2</td>\n",
       "      <td>0.0833</td>\n",
       "      <td>0.0833</td>\n",
       "    </tr>\n",
       "    <tr>\n",
       "      <th>12</th>\n",
       "      <td>0.176653</td>\n",
       "      <td>0.715042</td>\n",
       "      <td>-2717</td>\n",
       "      <td>-13439</td>\n",
       "      <td>0</td>\n",
       "      <td>1</td>\n",
       "      <td>2</td>\n",
       "      <td>2</td>\n",
       "      <td>0.1667</td>\n",
       "      <td>0.1667</td>\n",
       "    </tr>\n",
       "    <tr>\n",
       "      <th>13</th>\n",
       "      <td>0.770087</td>\n",
       "      <td>0.566907</td>\n",
       "      <td>-3028</td>\n",
       "      <td>-14086</td>\n",
       "      <td>0</td>\n",
       "      <td>1</td>\n",
       "      <td>2</td>\n",
       "      <td>2</td>\n",
       "      <td>0.3333</td>\n",
       "      <td>0.3333</td>\n",
       "    </tr>\n",
       "    <tr>\n",
       "      <th>18</th>\n",
       "      <td>0.556727</td>\n",
       "      <td>0.706428</td>\n",
       "      <td>-7804</td>\n",
       "      <td>-17718</td>\n",
       "      <td>0</td>\n",
       "      <td>1</td>\n",
       "      <td>1</td>\n",
       "      <td>1</td>\n",
       "      <td>0.0833</td>\n",
       "      <td>0.0833</td>\n",
       "    </tr>\n",
       "    <tr>\n",
       "      <th>22</th>\n",
       "      <td>0.358951</td>\n",
       "      <td>0.457143</td>\n",
       "      <td>-4306</td>\n",
       "      <td>-11146</td>\n",
       "      <td>0</td>\n",
       "      <td>1</td>\n",
       "      <td>2</td>\n",
       "      <td>3</td>\n",
       "      <td>0.1667</td>\n",
       "      <td>0.1667</td>\n",
       "    </tr>\n",
       "    <tr>\n",
       "      <th>...</th>\n",
       "      <td>...</td>\n",
       "      <td>...</td>\n",
       "      <td>...</td>\n",
       "      <td>...</td>\n",
       "      <td>...</td>\n",
       "      <td>...</td>\n",
       "      <td>...</td>\n",
       "      <td>...</td>\n",
       "      <td>...</td>\n",
       "      <td>...</td>\n",
       "    </tr>\n",
       "    <tr>\n",
       "      <th>307495</th>\n",
       "      <td>0.597192</td>\n",
       "      <td>0.267834</td>\n",
       "      <td>-7438</td>\n",
       "      <td>-20922</td>\n",
       "      <td>1</td>\n",
       "      <td>0</td>\n",
       "      <td>2</td>\n",
       "      <td>2</td>\n",
       "      <td>0.3333</td>\n",
       "      <td>0.3333</td>\n",
       "    </tr>\n",
       "    <tr>\n",
       "      <th>307498</th>\n",
       "      <td>0.406617</td>\n",
       "      <td>0.746259</td>\n",
       "      <td>-3689</td>\n",
       "      <td>-19102</td>\n",
       "      <td>0</td>\n",
       "      <td>1</td>\n",
       "      <td>1</td>\n",
       "      <td>1</td>\n",
       "      <td>0.6667</td>\n",
       "      <td>0.6667</td>\n",
       "    </tr>\n",
       "    <tr>\n",
       "      <th>307508</th>\n",
       "      <td>0.218859</td>\n",
       "      <td>0.535722</td>\n",
       "      <td>-7921</td>\n",
       "      <td>-14966</td>\n",
       "      <td>1</td>\n",
       "      <td>0</td>\n",
       "      <td>3</td>\n",
       "      <td>3</td>\n",
       "      <td>0.1667</td>\n",
       "      <td>0.1667</td>\n",
       "    </tr>\n",
       "    <tr>\n",
       "      <th>307509</th>\n",
       "      <td>0.661024</td>\n",
       "      <td>0.514163</td>\n",
       "      <td>-4786</td>\n",
       "      <td>-11961</td>\n",
       "      <td>0</td>\n",
       "      <td>1</td>\n",
       "      <td>2</td>\n",
       "      <td>2</td>\n",
       "      <td>0.0417</td>\n",
       "      <td>0.0417</td>\n",
       "    </tr>\n",
       "    <tr>\n",
       "      <th>307510</th>\n",
       "      <td>0.113922</td>\n",
       "      <td>0.708569</td>\n",
       "      <td>-1262</td>\n",
       "      <td>-16856</td>\n",
       "      <td>1</td>\n",
       "      <td>0</td>\n",
       "      <td>1</td>\n",
       "      <td>1</td>\n",
       "      <td>0.3750</td>\n",
       "      <td>0.3750</td>\n",
       "    </tr>\n",
       "  </tbody>\n",
       "</table>\n",
       "<p>84575 rows × 10 columns</p>\n",
       "</div>"
      ],
      "text/plain": [
       "        EXT_SOURCE_3  EXT_SOURCE_2  DAYS_EMPLOYED  DAYS_BIRTH  \\\n",
       "0           0.139376      0.262949           -637       -9461   \n",
       "12          0.176653      0.715042          -2717      -13439   \n",
       "13          0.770087      0.566907          -3028      -14086   \n",
       "18          0.556727      0.706428          -7804      -17718   \n",
       "22          0.358951      0.457143          -4306      -11146   \n",
       "...              ...           ...            ...         ...   \n",
       "307495      0.597192      0.267834          -7438      -20922   \n",
       "307498      0.406617      0.746259          -3689      -19102   \n",
       "307508      0.218859      0.535722          -7921      -14966   \n",
       "307509      0.661024      0.514163          -4786      -11961   \n",
       "307510      0.113922      0.708569          -1262      -16856   \n",
       "\n",
       "        NAME_EDUCATION_TYPE_Higher education  \\\n",
       "0                                          0   \n",
       "12                                         0   \n",
       "13                                         0   \n",
       "18                                         0   \n",
       "22                                         0   \n",
       "...                                      ...   \n",
       "307495                                     1   \n",
       "307498                                     0   \n",
       "307508                                     1   \n",
       "307509                                     0   \n",
       "307510                                     1   \n",
       "\n",
       "        NAME_EDUCATION_TYPE_Secondary / secondary special  \\\n",
       "0                                                       1   \n",
       "12                                                      1   \n",
       "13                                                      1   \n",
       "18                                                      1   \n",
       "22                                                      1   \n",
       "...                                                   ...   \n",
       "307495                                                  0   \n",
       "307498                                                  1   \n",
       "307508                                                  0   \n",
       "307509                                                  1   \n",
       "307510                                                  0   \n",
       "\n",
       "        REGION_RATING_CLIENT_W_CITY  REGION_RATING_CLIENT  FLOORSMAX_AVG  \\\n",
       "0                                 2                     2         0.0833   \n",
       "12                                2                     2         0.1667   \n",
       "13                                2                     2         0.3333   \n",
       "18                                1                     1         0.0833   \n",
       "22                                2                     3         0.1667   \n",
       "...                             ...                   ...            ...   \n",
       "307495                            2                     2         0.3333   \n",
       "307498                            1                     1         0.6667   \n",
       "307508                            3                     3         0.1667   \n",
       "307509                            2                     2         0.0417   \n",
       "307510                            1                     1         0.3750   \n",
       "\n",
       "        FLOORSMAX_MEDI  \n",
       "0               0.0833  \n",
       "12              0.1667  \n",
       "13              0.3333  \n",
       "18              0.0833  \n",
       "22              0.1667  \n",
       "...                ...  \n",
       "307495          0.3333  \n",
       "307498          0.6667  \n",
       "307508          0.1667  \n",
       "307509          0.0417  \n",
       "307510          0.3750  \n",
       "\n",
       "[84575 rows x 10 columns]"
      ]
     },
     "execution_count": 140,
     "metadata": {},
     "output_type": "execute_result"
    }
   ],
   "source": [
    "# 説明変数\n",
    "new_df_X = new_df.iloc[:,1:11]\n",
    "new_df_X"
   ]
  },
  {
   "cell_type": "code",
   "execution_count": 141,
   "metadata": {},
   "outputs": [
    {
     "data": {
      "text/plain": [
       "0         1\n",
       "12        0\n",
       "13        0\n",
       "18        0\n",
       "22        0\n",
       "         ..\n",
       "307495    0\n",
       "307498    0\n",
       "307508    0\n",
       "307509    1\n",
       "307510    0\n",
       "Name: TARGET, Length: 84575, dtype: int64"
      ]
     },
     "execution_count": 141,
     "metadata": {},
     "output_type": "execute_result"
    }
   ],
   "source": [
    "# 説明変数\n",
    "new_df_y = new_df.iloc[:,0]\n",
    "new_df_y"
   ]
  },
  {
   "cell_type": "code",
   "execution_count": 142,
   "metadata": {},
   "outputs": [],
   "source": [
    "import numpy as np\n",
    "# ndarrayへ変換\n",
    "X = np.array(new_df_X)\n",
    "y = np.array(new_df_y)"
   ]
  },
  {
   "cell_type": "code",
   "execution_count": 143,
   "metadata": {},
   "outputs": [],
   "source": [
    "from sklearn.model_selection import train_test_split\n",
    "# データ分割\n",
    "X_train, X_test, y_train, y_test = train_test_split(X, y, test_size=0.25)"
   ]
  },
  {
   "cell_type": "code",
   "execution_count": 148,
   "metadata": {},
   "outputs": [],
   "source": [
    "# 標準化\n",
    "from sklearn.preprocessing import StandardScaler\n",
    "ss = StandardScaler()\n",
    "ss.fit(X_train)\n",
    "ss_X_train = ss.transform(X_train)\n",
    "ss_X_test = ss.transform(X_test)"
   ]
  },
  {
   "cell_type": "code",
   "execution_count": 149,
   "metadata": {},
   "outputs": [
    {
     "data": {
      "text/plain": [
       "array([[ 0.90951564,  0.8034728 , -0.21136896, ..., -1.85728587,\n",
       "         3.10968153,  3.10436851],\n",
       "       [-1.60897629,  0.68862201,  0.96894614, ..., -1.85728587,\n",
       "         0.76325874,  0.76399704],\n",
       "       [-0.33220085,  0.37145874, -1.05649254, ...,  0.025076  ,\n",
       "         0.76325874,  0.76399704],\n",
       "       ...,\n",
       "       [ 1.29765871,  0.37077172,  0.23487262, ...,  0.025076  ,\n",
       "         0.76325874,  0.76399704],\n",
       "       [ 0.71897306, -2.01092381,  0.21731691, ...,  0.025076  ,\n",
       "        -0.40924887, -0.40548672],\n",
       "       [ 1.44814887, -0.26760363,  0.67009085, ...,  0.025076  ,\n",
       "         0.47048373,  0.47197709]])"
      ]
     },
     "execution_count": 149,
     "metadata": {},
     "output_type": "execute_result"
    }
   ],
   "source": [
    "ss_X_train"
   ]
  },
  {
   "cell_type": "code",
   "execution_count": 150,
   "metadata": {},
   "outputs": [
    {
     "data": {
      "text/plain": [
       "KNeighborsClassifier(algorithm='auto', leaf_size=30, metric='minkowski',\n",
       "                     metric_params=None, n_jobs=None, n_neighbors=5, p=2,\n",
       "                     weights='uniform')"
      ]
     },
     "execution_count": 150,
     "metadata": {},
     "output_type": "execute_result"
    }
   ],
   "source": [
    "# 学習と推定\n",
    "from sklearn.neighbors import KNeighborsClassifier\n",
    "neigh5 = KNeighborsClassifier(n_neighbors=5)\n",
    "neigh5.fit(ss_X_train, y_train)\n"
   ]
  },
  {
   "cell_type": "code",
   "execution_count": 151,
   "metadata": {},
   "outputs": [
    {
     "data": {
      "text/plain": [
       "array([[0.6, 0.4],\n",
       "       [1. , 0. ],\n",
       "       [1. , 0. ],\n",
       "       ...,\n",
       "       [1. , 0. ],\n",
       "       [0.8, 0.2],\n",
       "       [0.8, 0.2]])"
      ]
     },
     "execution_count": 151,
     "metadata": {},
     "output_type": "execute_result"
    }
   ],
   "source": [
    "# 標準化済みのX_testで予測を行う。\n",
    "y_pred = neigh5.predict(ss_X_test)\n",
    "y_pred_proba = neigh5.predict_proba(ss_X_test)\n",
    "y_pred_proba"
   ]
  },
  {
   "cell_type": "code",
   "execution_count": 152,
   "metadata": {},
   "outputs": [
    {
     "data": {
      "text/plain": [
       "0.5838582313672303"
      ]
     },
     "execution_count": 152,
     "metadata": {},
     "output_type": "execute_result"
    }
   ],
   "source": [
    "from sklearn import metrics\n",
    "fpr, tpr, thresholds = metrics.roc_curve(y_test, y_pred_proba[:,1], pos_label=1)\n",
    "\n",
    "auc = metrics.auc(fpr, tpr)\n",
    "auc"
   ]
  },
  {
   "cell_type": "code",
   "execution_count": 153,
   "metadata": {},
   "outputs": [
    {
     "data": {
      "image/png": "[encoded data removed]",
      "text/plain": [
       "<Figure size 432x288 with 1 Axes>"
      ]
     },
     "metadata": {
      "needs_background": "light"
     },
     "output_type": "display_data"
    }
   ],
   "source": [
    "import matplotlib.pyplot as plt\n",
    "%matplotlib inline\n",
    "\n",
    "# ROC曲線をプロット\n",
    "plt.plot(fpr, tpr, label='ROC curve (area = %.2f)'%auc)\n",
    "plt.legend()\n",
    "plt.title('ROC curve')\n",
    "plt.xlabel('False Positive Rate')\n",
    "plt.ylabel('True Positive Rate')\n",
    "plt.grid(True)"
   ]
  },
  {
   "cell_type": "markdown",
   "metadata": {},
   "source": [
    "### ＜線形回帰で学習してみる＞"
   ]
  },
  {
   "cell_type": "code",
   "execution_count": 223,
   "metadata": {},
   "outputs": [
    {
     "data": {
      "text/plain": [
       "LinearRegression(copy_X=True, fit_intercept=True, n_jobs=None, normalize=False)"
      ]
     },
     "execution_count": 223,
     "metadata": {},
     "output_type": "execute_result"
    }
   ],
   "source": [
    "# 学習と推定\n",
    "from sklearn.linear_model import LinearRegression as LR\n",
    "model_LR= LR()\n",
    "model_LR.fit(ss_X_train, y_train)"
   ]
  },
  {
   "cell_type": "code",
   "execution_count": 224,
   "metadata": {},
   "outputs": [
    {
     "data": {
      "text/plain": [
       "array([0.12668419, 0.05017274, 0.11921024, ..., 0.09100943, 0.03578374,\n",
       "       0.09768058])"
      ]
     },
     "execution_count": 224,
     "metadata": {},
     "output_type": "execute_result"
    }
   ],
   "source": [
    "# LinearRegression\n",
    "# 標準化済みのX_testで予測を行う。\n",
    "y_pred_LR = model_LR.predict(ss_X_test)\n",
    "y_pred_LR"
   ]
  },
  {
   "cell_type": "code",
   "execution_count": 225,
   "metadata": {},
   "outputs": [
    {
     "data": {
      "text/plain": [
       "0.7333810650588392"
      ]
     },
     "execution_count": 225,
     "metadata": {},
     "output_type": "execute_result"
    }
   ],
   "source": [
    "# LinearRegression\n",
    "fpr_LR, tpr_LR, thresholds = metrics.roc_curve(y_test, y_pred_LR, pos_label=1)\n",
    "\n",
    "auc_LR = metrics.auc(fpr_LR, tpr_LR)\n",
    "auc_LR"
   ]
  },
  {
   "cell_type": "code",
   "execution_count": 226,
   "metadata": {},
   "outputs": [
    {
     "data": {
      "image/png": "[encoded data removed]",
      "text/plain": [
       "<Figure size 432x288 with 1 Axes>"
      ]
     },
     "metadata": {
      "needs_background": "light"
     },
     "output_type": "display_data"
    }
   ],
   "source": [
    "# LinearRegression\n",
    "# ROC曲線をプロット\n",
    "plt.plot(fpr_LR, tpr_LR, label='ROC curve (area = %.2f)'%auc)\n",
    "plt.legend()\n",
    "plt.title('ROC curve')\n",
    "plt.xlabel('False Positive Rate')\n",
    "plt.ylabel('True Positive Rate')\n",
    "plt.grid(True)"
   ]
  },
  {
   "cell_type": "markdown",
   "metadata": {},
   "source": [
    "## 【問題3】テストデータに対する推定\n",
    "テストデータ（application_test.csv）に対して推定を行い、Kaggleに提出を行ってください。\n",
    "\n",
    "\n",
    "正しく提出が行えていれば、精度は低くても構いません。"
   ]
  },
  {
   "cell_type": "code",
   "execution_count": 154,
   "metadata": {},
   "outputs": [],
   "source": [
    "# ワンホットエンコーディング\n",
    "df_one_hot_test = pd.get_dummies(df_test)"
   ]
  },
  {
   "cell_type": "code",
   "execution_count": 155,
   "metadata": {},
   "outputs": [],
   "source": [
    "# 欠損地を平均値で穴埋め\n",
    "df_test_submission = df_one_hot_test.fillna(df_one_hot_test.mean())\n",
    "\n",
    "# 学習したものと同じカラム数に指定\n",
    "df_test_submission = df_test_submission[abs(df_corr[\"TARGET\"]).sort_values(ascending=False)[1:11].index]"
   ]
  },
  {
   "cell_type": "code",
   "execution_count": 222,
   "metadata": {},
   "outputs": [
    {
     "data": {
      "text/html": [
       "<div>\n",
       "<style scoped>\n",
       "    .dataframe tbody tr th:only-of-type {\n",
       "        vertical-align: middle;\n",
       "    }\n",
       "\n",
       "    .dataframe tbody tr th {\n",
       "        vertical-align: top;\n",
       "    }\n",
       "\n",
       "    .dataframe thead th {\n",
       "        text-align: right;\n",
       "    }\n",
       "</style>\n",
       "<table border=\"1\" class=\"dataframe\">\n",
       "  <thead>\n",
       "    <tr style=\"text-align: right;\">\n",
       "      <th></th>\n",
       "      <th>EXT_SOURCE_3</th>\n",
       "      <th>EXT_SOURCE_2</th>\n",
       "      <th>DAYS_EMPLOYED</th>\n",
       "      <th>DAYS_BIRTH</th>\n",
       "      <th>NAME_EDUCATION_TYPE_Higher education</th>\n",
       "      <th>NAME_EDUCATION_TYPE_Secondary / secondary special</th>\n",
       "      <th>REGION_RATING_CLIENT_W_CITY</th>\n",
       "      <th>REGION_RATING_CLIENT</th>\n",
       "      <th>FLOORSMAX_AVG</th>\n",
       "      <th>FLOORSMAX_MEDI</th>\n",
       "    </tr>\n",
       "  </thead>\n",
       "  <tbody>\n",
       "    <tr>\n",
       "      <th>0</th>\n",
       "      <td>0.159520</td>\n",
       "      <td>0.789654</td>\n",
       "      <td>-2329</td>\n",
       "      <td>-19241</td>\n",
       "      <td>1</td>\n",
       "      <td>0</td>\n",
       "      <td>2</td>\n",
       "      <td>2</td>\n",
       "      <td>0.125000</td>\n",
       "      <td>0.125000</td>\n",
       "    </tr>\n",
       "    <tr>\n",
       "      <th>1</th>\n",
       "      <td>0.432962</td>\n",
       "      <td>0.291656</td>\n",
       "      <td>-4469</td>\n",
       "      <td>-18064</td>\n",
       "      <td>0</td>\n",
       "      <td>1</td>\n",
       "      <td>2</td>\n",
       "      <td>2</td>\n",
       "      <td>0.233706</td>\n",
       "      <td>0.233154</td>\n",
       "    </tr>\n",
       "    <tr>\n",
       "      <th>2</th>\n",
       "      <td>0.610991</td>\n",
       "      <td>0.699787</td>\n",
       "      <td>-4458</td>\n",
       "      <td>-20038</td>\n",
       "      <td>1</td>\n",
       "      <td>0</td>\n",
       "      <td>2</td>\n",
       "      <td>2</td>\n",
       "      <td>0.233706</td>\n",
       "      <td>0.233154</td>\n",
       "    </tr>\n",
       "    <tr>\n",
       "      <th>3</th>\n",
       "      <td>0.612704</td>\n",
       "      <td>0.509677</td>\n",
       "      <td>-1866</td>\n",
       "      <td>-13976</td>\n",
       "      <td>0</td>\n",
       "      <td>1</td>\n",
       "      <td>2</td>\n",
       "      <td>2</td>\n",
       "      <td>0.375000</td>\n",
       "      <td>0.375000</td>\n",
       "    </tr>\n",
       "    <tr>\n",
       "      <th>4</th>\n",
       "      <td>0.500106</td>\n",
       "      <td>0.425687</td>\n",
       "      <td>-2191</td>\n",
       "      <td>-13040</td>\n",
       "      <td>0</td>\n",
       "      <td>1</td>\n",
       "      <td>2</td>\n",
       "      <td>2</td>\n",
       "      <td>0.233706</td>\n",
       "      <td>0.233154</td>\n",
       "    </tr>\n",
       "    <tr>\n",
       "      <th>...</th>\n",
       "      <td>...</td>\n",
       "      <td>...</td>\n",
       "      <td>...</td>\n",
       "      <td>...</td>\n",
       "      <td>...</td>\n",
       "      <td>...</td>\n",
       "      <td>...</td>\n",
       "      <td>...</td>\n",
       "      <td>...</td>\n",
       "      <td>...</td>\n",
       "    </tr>\n",
       "    <tr>\n",
       "      <th>48739</th>\n",
       "      <td>0.643026</td>\n",
       "      <td>0.648575</td>\n",
       "      <td>-5169</td>\n",
       "      <td>-19970</td>\n",
       "      <td>0</td>\n",
       "      <td>1</td>\n",
       "      <td>3</td>\n",
       "      <td>3</td>\n",
       "      <td>0.233706</td>\n",
       "      <td>0.233154</td>\n",
       "    </tr>\n",
       "    <tr>\n",
       "      <th>48740</th>\n",
       "      <td>0.500106</td>\n",
       "      <td>0.684596</td>\n",
       "      <td>-1149</td>\n",
       "      <td>-11186</td>\n",
       "      <td>0</td>\n",
       "      <td>1</td>\n",
       "      <td>2</td>\n",
       "      <td>2</td>\n",
       "      <td>0.233706</td>\n",
       "      <td>0.233154</td>\n",
       "    </tr>\n",
       "    <tr>\n",
       "      <th>48741</th>\n",
       "      <td>0.283712</td>\n",
       "      <td>0.632770</td>\n",
       "      <td>-3037</td>\n",
       "      <td>-15922</td>\n",
       "      <td>0</td>\n",
       "      <td>1</td>\n",
       "      <td>2</td>\n",
       "      <td>2</td>\n",
       "      <td>0.333300</td>\n",
       "      <td>0.333300</td>\n",
       "    </tr>\n",
       "    <tr>\n",
       "      <th>48742</th>\n",
       "      <td>0.595456</td>\n",
       "      <td>0.445701</td>\n",
       "      <td>-2731</td>\n",
       "      <td>-13968</td>\n",
       "      <td>1</td>\n",
       "      <td>0</td>\n",
       "      <td>2</td>\n",
       "      <td>2</td>\n",
       "      <td>0.625000</td>\n",
       "      <td>0.625000</td>\n",
       "    </tr>\n",
       "    <tr>\n",
       "      <th>48743</th>\n",
       "      <td>0.272134</td>\n",
       "      <td>0.456541</td>\n",
       "      <td>-633</td>\n",
       "      <td>-13962</td>\n",
       "      <td>0</td>\n",
       "      <td>1</td>\n",
       "      <td>2</td>\n",
       "      <td>2</td>\n",
       "      <td>0.233706</td>\n",
       "      <td>0.233154</td>\n",
       "    </tr>\n",
       "  </tbody>\n",
       "</table>\n",
       "<p>48744 rows × 10 columns</p>\n",
       "</div>"
      ],
      "text/plain": [
       "       EXT_SOURCE_3  EXT_SOURCE_2  DAYS_EMPLOYED  DAYS_BIRTH  \\\n",
       "0          0.159520      0.789654          -2329      -19241   \n",
       "1          0.432962      0.291656          -4469      -18064   \n",
       "2          0.610991      0.699787          -4458      -20038   \n",
       "3          0.612704      0.509677          -1866      -13976   \n",
       "4          0.500106      0.425687          -2191      -13040   \n",
       "...             ...           ...            ...         ...   \n",
       "48739      0.643026      0.648575          -5169      -19970   \n",
       "48740      0.500106      0.684596          -1149      -11186   \n",
       "48741      0.283712      0.632770          -3037      -15922   \n",
       "48742      0.595456      0.445701          -2731      -13968   \n",
       "48743      0.272134      0.456541           -633      -13962   \n",
       "\n",
       "       NAME_EDUCATION_TYPE_Higher education  \\\n",
       "0                                         1   \n",
       "1                                         0   \n",
       "2                                         1   \n",
       "3                                         0   \n",
       "4                                         0   \n",
       "...                                     ...   \n",
       "48739                                     0   \n",
       "48740                                     0   \n",
       "48741                                     0   \n",
       "48742                                     1   \n",
       "48743                                     0   \n",
       "\n",
       "       NAME_EDUCATION_TYPE_Secondary / secondary special  \\\n",
       "0                                                      0   \n",
       "1                                                      1   \n",
       "2                                                      0   \n",
       "3                                                      1   \n",
       "4                                                      1   \n",
       "...                                                  ...   \n",
       "48739                                                  1   \n",
       "48740                                                  1   \n",
       "48741                                                  1   \n",
       "48742                                                  0   \n",
       "48743                                                  1   \n",
       "\n",
       "       REGION_RATING_CLIENT_W_CITY  REGION_RATING_CLIENT  FLOORSMAX_AVG  \\\n",
       "0                                2                     2       0.125000   \n",
       "1                                2                     2       0.233706   \n",
       "2                                2                     2       0.233706   \n",
       "3                                2                     2       0.375000   \n",
       "4                                2                     2       0.233706   \n",
       "...                            ...                   ...            ...   \n",
       "48739                            3                     3       0.233706   \n",
       "48740                            2                     2       0.233706   \n",
       "48741                            2                     2       0.333300   \n",
       "48742                            2                     2       0.625000   \n",
       "48743                            2                     2       0.233706   \n",
       "\n",
       "       FLOORSMAX_MEDI  \n",
       "0            0.125000  \n",
       "1            0.233154  \n",
       "2            0.233154  \n",
       "3            0.375000  \n",
       "4            0.233154  \n",
       "...               ...  \n",
       "48739        0.233154  \n",
       "48740        0.233154  \n",
       "48741        0.333300  \n",
       "48742        0.625000  \n",
       "48743        0.233154  \n",
       "\n",
       "[48744 rows x 10 columns]"
      ]
     },
     "execution_count": 222,
     "metadata": {},
     "output_type": "execute_result"
    }
   ],
   "source": [
    "df_test_submission"
   ]
  },
  {
   "cell_type": "code",
   "execution_count": 156,
   "metadata": {},
   "outputs": [],
   "source": [
    "# ndarrayへ変換\n",
    "X_submission = np.array(df_test_submission)"
   ]
  },
  {
   "cell_type": "code",
   "execution_count": 157,
   "metadata": {},
   "outputs": [],
   "source": [
    "# 標準化\n",
    "from sklearn.preprocessing import StandardScaler\n",
    "ss_sub = StandardScaler()\n",
    "ss_sub.fit(X_submission)\n",
    "ss_X_submission = ss_sub.transform(X_submission)\n"
   ]
  },
  {
   "cell_type": "markdown",
   "metadata": {},
   "source": [
    "### ＜k-nnで推定＞"
   ]
  },
  {
   "cell_type": "code",
   "execution_count": 158,
   "metadata": {},
   "outputs": [
    {
     "data": {
      "text/plain": [
       "array([[1., 0.],\n",
       "       [1., 0.],\n",
       "       [1., 0.],\n",
       "       ...,\n",
       "       [1., 0.],\n",
       "       [1., 0.],\n",
       "       [1., 0.]])"
      ]
     },
     "execution_count": 158,
     "metadata": {},
     "output_type": "execute_result"
    }
   ],
   "source": [
    "# 標準化済みのX_testで予測を行う。(k-nnで推定)\n",
    "y_submission = neigh5.predict(ss_X_submission)\n",
    "y_submission_proba = neigh5.predict_proba(ss_X_submission)\n",
    "y_submission_proba"
   ]
  },
  {
   "cell_type": "code",
   "execution_count": 159,
   "metadata": {},
   "outputs": [
    {
     "data": {
      "text/plain": [
       "(48744, 2)"
      ]
     },
     "execution_count": 159,
     "metadata": {},
     "output_type": "execute_result"
    }
   ],
   "source": [
    "y_submission_proba.shape"
   ]
  },
  {
   "cell_type": "code",
   "execution_count": 160,
   "metadata": {},
   "outputs": [],
   "source": [
    "df_submission = pd.DataFrame(y_submission_proba)\n",
    "df_submission = pd.concat([df_test.iloc[:,0], df_submission.iloc[:,1]], axis = 1)"
   ]
  },
  {
   "cell_type": "code",
   "execution_count": 161,
   "metadata": {},
   "outputs": [],
   "source": [
    "df_submission.columns = [\"SK_ID_CURR\",\"TARGET\"]"
   ]
  },
  {
   "cell_type": "code",
   "execution_count": 162,
   "metadata": {},
   "outputs": [
    {
     "data": {
      "text/html": [
       "<div>\n",
       "<style scoped>\n",
       "    .dataframe tbody tr th:only-of-type {\n",
       "        vertical-align: middle;\n",
       "    }\n",
       "\n",
       "    .dataframe tbody tr th {\n",
       "        vertical-align: top;\n",
       "    }\n",
       "\n",
       "    .dataframe thead th {\n",
       "        text-align: right;\n",
       "    }\n",
       "</style>\n",
       "<table border=\"1\" class=\"dataframe\">\n",
       "  <thead>\n",
       "    <tr style=\"text-align: right;\">\n",
       "      <th></th>\n",
       "      <th>SK_ID_CURR</th>\n",
       "      <th>TARGET</th>\n",
       "    </tr>\n",
       "  </thead>\n",
       "  <tbody>\n",
       "    <tr>\n",
       "      <th>0</th>\n",
       "      <td>100001</td>\n",
       "      <td>0.0</td>\n",
       "    </tr>\n",
       "    <tr>\n",
       "      <th>1</th>\n",
       "      <td>100005</td>\n",
       "      <td>0.0</td>\n",
       "    </tr>\n",
       "    <tr>\n",
       "      <th>2</th>\n",
       "      <td>100013</td>\n",
       "      <td>0.0</td>\n",
       "    </tr>\n",
       "    <tr>\n",
       "      <th>3</th>\n",
       "      <td>100028</td>\n",
       "      <td>0.0</td>\n",
       "    </tr>\n",
       "    <tr>\n",
       "      <th>4</th>\n",
       "      <td>100038</td>\n",
       "      <td>0.0</td>\n",
       "    </tr>\n",
       "    <tr>\n",
       "      <th>...</th>\n",
       "      <td>...</td>\n",
       "      <td>...</td>\n",
       "    </tr>\n",
       "    <tr>\n",
       "      <th>48739</th>\n",
       "      <td>456221</td>\n",
       "      <td>0.0</td>\n",
       "    </tr>\n",
       "    <tr>\n",
       "      <th>48740</th>\n",
       "      <td>456222</td>\n",
       "      <td>0.0</td>\n",
       "    </tr>\n",
       "    <tr>\n",
       "      <th>48741</th>\n",
       "      <td>456223</td>\n",
       "      <td>0.0</td>\n",
       "    </tr>\n",
       "    <tr>\n",
       "      <th>48742</th>\n",
       "      <td>456224</td>\n",
       "      <td>0.0</td>\n",
       "    </tr>\n",
       "    <tr>\n",
       "      <th>48743</th>\n",
       "      <td>456250</td>\n",
       "      <td>0.0</td>\n",
       "    </tr>\n",
       "  </tbody>\n",
       "</table>\n",
       "<p>48744 rows × 2 columns</p>\n",
       "</div>"
      ],
      "text/plain": [
       "       SK_ID_CURR  TARGET\n",
       "0          100001     0.0\n",
       "1          100005     0.0\n",
       "2          100013     0.0\n",
       "3          100028     0.0\n",
       "4          100038     0.0\n",
       "...           ...     ...\n",
       "48739      456221     0.0\n",
       "48740      456222     0.0\n",
       "48741      456223     0.0\n",
       "48742      456224     0.0\n",
       "48743      456250     0.0\n",
       "\n",
       "[48744 rows x 2 columns]"
      ]
     },
     "execution_count": 162,
     "metadata": {},
     "output_type": "execute_result"
    }
   ],
   "source": [
    "df_submission"
   ]
  },
  {
   "cell_type": "code",
   "execution_count": 107,
   "metadata": {},
   "outputs": [],
   "source": [
    "# 提出ファイルの作成\n",
    "df_submission.to_csv(\"submission.csv\", index = False)"
   ]
  },
  {
   "cell_type": "markdown",
   "metadata": {},
   "source": [
    "k-nnでの投稿結果：Score=0.57719"
   ]
  },
  {
   "cell_type": "markdown",
   "metadata": {},
   "source": [
    "### ＜線形回帰で推定＞"
   ]
  },
  {
   "cell_type": "code",
   "execution_count": 227,
   "metadata": {},
   "outputs": [
    {
     "data": {
      "text/plain": [
       "array([ 0.08873973,  0.12983677, -0.00729952, ...,  0.1032637 ,\n",
       "        0.01928826,  0.14227219])"
      ]
     },
     "execution_count": 227,
     "metadata": {},
     "output_type": "execute_result"
    }
   ],
   "source": [
    "# 標準化済みのX_testで予測を行う。(線形回帰で推定)\n",
    "y_sub_LR = model_LR.predict(ss_X_submission)\n",
    "y_sub_LR"
   ]
  },
  {
   "cell_type": "code",
   "execution_count": 230,
   "metadata": {},
   "outputs": [],
   "source": [
    "# 変数バックアップ\n",
    "y_submit = y_sub_LR"
   ]
  },
  {
   "cell_type": "code",
   "execution_count": 231,
   "metadata": {},
   "outputs": [],
   "source": [
    "# 0以下の値は0に置換\n",
    "y_submit = np.where(y_submit < 0, 0, y_submit)"
   ]
  },
  {
   "cell_type": "code",
   "execution_count": 228,
   "metadata": {},
   "outputs": [
    {
     "data": {
      "text/html": [
       "<div>\n",
       "<style scoped>\n",
       "    .dataframe tbody tr th:only-of-type {\n",
       "        vertical-align: middle;\n",
       "    }\n",
       "\n",
       "    .dataframe tbody tr th {\n",
       "        vertical-align: top;\n",
       "    }\n",
       "\n",
       "    .dataframe thead th {\n",
       "        text-align: right;\n",
       "    }\n",
       "</style>\n",
       "<table border=\"1\" class=\"dataframe\">\n",
       "  <thead>\n",
       "    <tr style=\"text-align: right;\">\n",
       "      <th></th>\n",
       "      <th>0</th>\n",
       "    </tr>\n",
       "  </thead>\n",
       "  <tbody>\n",
       "    <tr>\n",
       "      <th>0</th>\n",
       "      <td>0.088740</td>\n",
       "    </tr>\n",
       "    <tr>\n",
       "      <th>1</th>\n",
       "      <td>0.129837</td>\n",
       "    </tr>\n",
       "    <tr>\n",
       "      <th>2</th>\n",
       "      <td>-0.007300</td>\n",
       "    </tr>\n",
       "    <tr>\n",
       "      <th>3</th>\n",
       "      <td>0.046658</td>\n",
       "    </tr>\n",
       "    <tr>\n",
       "      <th>4</th>\n",
       "      <td>0.095306</td>\n",
       "    </tr>\n",
       "    <tr>\n",
       "      <th>...</th>\n",
       "      <td>...</td>\n",
       "    </tr>\n",
       "    <tr>\n",
       "      <th>48739</th>\n",
       "      <td>0.024314</td>\n",
       "    </tr>\n",
       "    <tr>\n",
       "      <th>48740</th>\n",
       "      <td>0.053594</td>\n",
       "    </tr>\n",
       "    <tr>\n",
       "      <th>48741</th>\n",
       "      <td>0.103264</td>\n",
       "    </tr>\n",
       "    <tr>\n",
       "      <th>48742</th>\n",
       "      <td>0.019288</td>\n",
       "    </tr>\n",
       "    <tr>\n",
       "      <th>48743</th>\n",
       "      <td>0.142272</td>\n",
       "    </tr>\n",
       "  </tbody>\n",
       "</table>\n",
       "<p>48744 rows × 1 columns</p>\n",
       "</div>"
      ],
      "text/plain": [
       "              0\n",
       "0      0.088740\n",
       "1      0.129837\n",
       "2     -0.007300\n",
       "3      0.046658\n",
       "4      0.095306\n",
       "...         ...\n",
       "48739  0.024314\n",
       "48740  0.053594\n",
       "48741  0.103264\n",
       "48742  0.019288\n",
       "48743  0.142272\n",
       "\n",
       "[48744 rows x 1 columns]"
      ]
     },
     "execution_count": 228,
     "metadata": {},
     "output_type": "execute_result"
    }
   ],
   "source": [
    "df_sub_LR"
   ]
  },
  {
   "cell_type": "code",
   "execution_count": 232,
   "metadata": {},
   "outputs": [
    {
     "data": {
      "text/plain": [
       "array([0.08873973, 0.12983677, 0.        , ..., 0.1032637 , 0.01928826,\n",
       "       0.14227219])"
      ]
     },
     "execution_count": 232,
     "metadata": {},
     "output_type": "execute_result"
    }
   ],
   "source": [
    "y_submit"
   ]
  },
  {
   "cell_type": "code",
   "execution_count": 233,
   "metadata": {},
   "outputs": [],
   "source": [
    "df_sub_LR = pd.DataFrame(y_submit)\n",
    "df_submission_LR = pd.concat([df_test.iloc[:,0], df_sub_LR], axis = 1)"
   ]
  },
  {
   "cell_type": "code",
   "execution_count": 234,
   "metadata": {},
   "outputs": [],
   "source": [
    "df_submission_LR.columns = [\"SK_ID_CURR\",\"TARGET\"]"
   ]
  },
  {
   "cell_type": "code",
   "execution_count": 235,
   "metadata": {},
   "outputs": [
    {
     "data": {
      "text/html": [
       "<div>\n",
       "<style scoped>\n",
       "    .dataframe tbody tr th:only-of-type {\n",
       "        vertical-align: middle;\n",
       "    }\n",
       "\n",
       "    .dataframe tbody tr th {\n",
       "        vertical-align: top;\n",
       "    }\n",
       "\n",
       "    .dataframe thead th {\n",
       "        text-align: right;\n",
       "    }\n",
       "</style>\n",
       "<table border=\"1\" class=\"dataframe\">\n",
       "  <thead>\n",
       "    <tr style=\"text-align: right;\">\n",
       "      <th></th>\n",
       "      <th>SK_ID_CURR</th>\n",
       "      <th>TARGET</th>\n",
       "    </tr>\n",
       "  </thead>\n",
       "  <tbody>\n",
       "    <tr>\n",
       "      <th>0</th>\n",
       "      <td>100001</td>\n",
       "      <td>0.088740</td>\n",
       "    </tr>\n",
       "    <tr>\n",
       "      <th>1</th>\n",
       "      <td>100005</td>\n",
       "      <td>0.129837</td>\n",
       "    </tr>\n",
       "    <tr>\n",
       "      <th>2</th>\n",
       "      <td>100013</td>\n",
       "      <td>0.000000</td>\n",
       "    </tr>\n",
       "    <tr>\n",
       "      <th>3</th>\n",
       "      <td>100028</td>\n",
       "      <td>0.046658</td>\n",
       "    </tr>\n",
       "    <tr>\n",
       "      <th>4</th>\n",
       "      <td>100038</td>\n",
       "      <td>0.095306</td>\n",
       "    </tr>\n",
       "    <tr>\n",
       "      <th>...</th>\n",
       "      <td>...</td>\n",
       "      <td>...</td>\n",
       "    </tr>\n",
       "    <tr>\n",
       "      <th>48739</th>\n",
       "      <td>456221</td>\n",
       "      <td>0.024314</td>\n",
       "    </tr>\n",
       "    <tr>\n",
       "      <th>48740</th>\n",
       "      <td>456222</td>\n",
       "      <td>0.053594</td>\n",
       "    </tr>\n",
       "    <tr>\n",
       "      <th>48741</th>\n",
       "      <td>456223</td>\n",
       "      <td>0.103264</td>\n",
       "    </tr>\n",
       "    <tr>\n",
       "      <th>48742</th>\n",
       "      <td>456224</td>\n",
       "      <td>0.019288</td>\n",
       "    </tr>\n",
       "    <tr>\n",
       "      <th>48743</th>\n",
       "      <td>456250</td>\n",
       "      <td>0.142272</td>\n",
       "    </tr>\n",
       "  </tbody>\n",
       "</table>\n",
       "<p>48744 rows × 2 columns</p>\n",
       "</div>"
      ],
      "text/plain": [
       "       SK_ID_CURR    TARGET\n",
       "0          100001  0.088740\n",
       "1          100005  0.129837\n",
       "2          100013  0.000000\n",
       "3          100028  0.046658\n",
       "4          100038  0.095306\n",
       "...           ...       ...\n",
       "48739      456221  0.024314\n",
       "48740      456222  0.053594\n",
       "48741      456223  0.103264\n",
       "48742      456224  0.019288\n",
       "48743      456250  0.142272\n",
       "\n",
       "[48744 rows x 2 columns]"
      ]
     },
     "execution_count": 235,
     "metadata": {},
     "output_type": "execute_result"
    }
   ],
   "source": [
    "df_submission_LR"
   ]
  },
  {
   "cell_type": "code",
   "execution_count": 237,
   "metadata": {},
   "outputs": [],
   "source": [
    "# 提出ファイルの作成\n",
    "df_submission_LR.to_csv(\"sub_LR.csv\", index = False)"
   ]
  },
  {
   "cell_type": "markdown",
   "metadata": {},
   "source": [
    "LinearRegressionでの投稿結果：Score=0.69322"
   ]
  },
  {
   "cell_type": "markdown",
   "metadata": {},
   "source": [
    "## 4.特徴量エンジニアリング\n",
    "ベースラインモデルを元に、入力する特徴量に様々な工夫を行い精度を向上させていきます。"
   ]
  },
  {
   "cell_type": "markdown",
   "metadata": {},
   "source": [
    "## 【問題4】特徴量エンジニアリング\n",
    "精度を上げるために以下のような観点で 特徴量エンジニアリング（Feature Engineering） を行ってください。\n",
    "\n",
    "\n",
    "・どの特徴量を使うか  \n",
    "・どう前処理をするか  \n",
    "\n",
    "何をした時に検証データに対する評価指標がどのようになったかをまとめてください。最低5パターンの学習・検証を行ってください。\n",
    "\n",
    "\n",
    "精度が高かったものに関してはテストデータに対しても推定を行い、Kaggleに提出を行ってください。"
   ]
  },
  {
   "cell_type": "code",
   "execution_count": 163,
   "metadata": {},
   "outputs": [
    {
     "data": {
      "image/png": "[encoded data removed]",
      "text/plain": [
       "<Figure size 720x720 with 2 Axes>"
      ]
     },
     "metadata": {
      "needs_background": "light"
     },
     "output_type": "display_data"
    }
   ],
   "source": [
    "import seaborn as sns\n",
    "\n",
    "fig, ax = plt.subplots(figsize=(10, 10)) \n",
    "plt.title('Correlation matrix')\n",
    "sns.heatmap(new_df_corr,linewidths=0.1,vmax=1.0, \n",
    "            square=True, cmap=colormap, linecolor='white', annot=True)\n",
    "plt.ylim(new_df_corr.shape[0], 0,)\n",
    "plt.show()"
   ]
  },
  {
   "cell_type": "markdown",
   "metadata": {},
   "source": [
    "特徴量エンジニアリングとしては、  \n",
    "・外れ値に頑健な標準化（RobustScaler）  \n",
    "・正規化  \n",
    "・多重共線性の排除（特徴量の削除）  \n",
    "・ラッソ回帰  \n",
    "・リッジ回帰  \n",
    "等\n",
    "\n",
    "以下に順次実行する。"
   ]
  },
  {
   "cell_type": "markdown",
   "metadata": {},
   "source": [
    "### ＜外れ値に頑健な標準化（RobustScaler）＞"
   ]
  },
  {
   "cell_type": "code",
   "execution_count": 206,
   "metadata": {},
   "outputs": [],
   "source": [
    "# 標準化\n",
    "from sklearn.preprocessing import RobustScaler\n",
    "RS = RobustScaler()\n",
    "RS.fit(X_train)\n",
    "RS_X_train = RS.transform(X_train)\n",
    "RS_X_test = RS.transform(X_test)"
   ]
  },
  {
   "cell_type": "code",
   "execution_count": 207,
   "metadata": {},
   "outputs": [
    {
     "data": {
      "text/plain": [
       "LinearRegression(copy_X=True, fit_intercept=True, n_jobs=None, normalize=False)"
      ]
     },
     "execution_count": 207,
     "metadata": {},
     "output_type": "execute_result"
    }
   ],
   "source": [
    "# 学習と推定\n",
    "RS_model_LR= LR()\n",
    "RS_model_LR.fit(RS_X_train, y_train)"
   ]
  },
  {
   "cell_type": "code",
   "execution_count": 208,
   "metadata": {},
   "outputs": [
    {
     "data": {
      "text/plain": [
       "array([0.12668419, 0.05017274, 0.11921024, ..., 0.09100943, 0.03578374,\n",
       "       0.09768058])"
      ]
     },
     "execution_count": 208,
     "metadata": {},
     "output_type": "execute_result"
    }
   ],
   "source": [
    "# 標準化済みのX_testで予測を行う。\n",
    "RS_y_pred_LR = RS_model_LR.predict(RS_X_test)\n",
    "RS_y_pred_LR"
   ]
  },
  {
   "cell_type": "code",
   "execution_count": 210,
   "metadata": {},
   "outputs": [
    {
     "data": {
      "text/plain": [
       "0.7333810650588392"
      ]
     },
     "execution_count": 210,
     "metadata": {},
     "output_type": "execute_result"
    }
   ],
   "source": [
    "# LinearRegression\n",
    "RS_fpr_LR, RS_tpr_LR, RS_thresholds = metrics.roc_curve(y_test, RS_y_pred_LR, pos_label=1)\n",
    "\n",
    "RS_auc_LR = metrics.auc(RS_fpr_LR, RS_tpr_LR)\n",
    "RS_auc_LR"
   ]
  },
  {
   "cell_type": "code",
   "execution_count": 211,
   "metadata": {},
   "outputs": [
    {
     "data": {
      "image/png": "[encoded data removed]",
      "text/plain": [
       "<Figure size 432x288 with 1 Axes>"
      ]
     },
     "metadata": {
      "needs_background": "light"
     },
     "output_type": "display_data"
    }
   ],
   "source": [
    "# LinearRegression\n",
    "# ROC曲線をプロット\n",
    "plt.plot(RS_fpr_LR, RS_tpr_LR, label='ROC curve (area = %.2f)'%auc)\n",
    "plt.legend()\n",
    "plt.title('RobustScaler ROC curve')\n",
    "plt.xlabel('False Positive Rate')\n",
    "plt.ylabel('True Positive Rate')\n",
    "plt.grid(True)"
   ]
  },
  {
   "cell_type": "markdown",
   "metadata": {},
   "source": [
    "### ＜多重共線性の排除（特徴量の削除）＞"
   ]
  },
  {
   "cell_type": "markdown",
   "metadata": {},
   "source": [
    "多重共線性を排除する。\n",
    "\n",
    "上記のヒートマップから\n",
    "①DAYS_EMPLOYEDとDAYS_BIRTHの強い正の相関がある。　\n",
    "　⇒　DAYS_EMPLOYEDを削除\n",
    "②NAME_EDUCATION_TYPEの“Higher education(高等教育)”と”Secondary / secondary special(中等教育)”に強い負の相関がある。\n",
    "　⇒\"NAME_EDUCATION_TYPE_Secondary / secondary special(中等教育)\"を削除  \n",
    "③REGION_RATING_CLIENTとREGION_RATING_CLIENT_W_CITYの強い正の相関がある。\n",
    " ⇒REGION_RATING_CLIENT_W_CITYを削除する。\n",
    "④FLOORSMAX_MEDIとFLOORSMAX_AVGの強い正の相関がある。\n",
    " ⇒FLOORSMAX_MEDIを削除する。"
   ]
  },
  {
   "cell_type": "code",
   "execution_count": 245,
   "metadata": {},
   "outputs": [],
   "source": [
    "# 変数のバックアップ\n",
    "drop_data = new_df_X\n",
    "    \n",
    "drop_data = drop_data.drop('DAYS_EMPLOYED', axis=1)\n",
    "drop_data = drop_data.drop('NAME_EDUCATION_TYPE_Secondary / secondary special', axis=1)\n",
    "drop_data = drop_data.drop('REGION_RATING_CLIENT_W_CITY', axis=1)\n",
    "drop_data = drop_data.drop('FLOORSMAX_MEDI', axis=1)"
   ]
  },
  {
   "cell_type": "code",
   "execution_count": 246,
   "metadata": {},
   "outputs": [
    {
     "data": {
      "text/html": [
       "<div>\n",
       "<style scoped>\n",
       "    .dataframe tbody tr th:only-of-type {\n",
       "        vertical-align: middle;\n",
       "    }\n",
       "\n",
       "    .dataframe tbody tr th {\n",
       "        vertical-align: top;\n",
       "    }\n",
       "\n",
       "    .dataframe thead th {\n",
       "        text-align: right;\n",
       "    }\n",
       "</style>\n",
       "<table border=\"1\" class=\"dataframe\">\n",
       "  <thead>\n",
       "    <tr style=\"text-align: right;\">\n",
       "      <th></th>\n",
       "      <th>EXT_SOURCE_3</th>\n",
       "      <th>EXT_SOURCE_2</th>\n",
       "      <th>DAYS_BIRTH</th>\n",
       "      <th>NAME_EDUCATION_TYPE_Higher education</th>\n",
       "      <th>REGION_RATING_CLIENT</th>\n",
       "      <th>FLOORSMAX_AVG</th>\n",
       "    </tr>\n",
       "  </thead>\n",
       "  <tbody>\n",
       "    <tr>\n",
       "      <th>0</th>\n",
       "      <td>0.139376</td>\n",
       "      <td>0.262949</td>\n",
       "      <td>-9461</td>\n",
       "      <td>0</td>\n",
       "      <td>2</td>\n",
       "      <td>0.0833</td>\n",
       "    </tr>\n",
       "    <tr>\n",
       "      <th>12</th>\n",
       "      <td>0.176653</td>\n",
       "      <td>0.715042</td>\n",
       "      <td>-13439</td>\n",
       "      <td>0</td>\n",
       "      <td>2</td>\n",
       "      <td>0.1667</td>\n",
       "    </tr>\n",
       "    <tr>\n",
       "      <th>13</th>\n",
       "      <td>0.770087</td>\n",
       "      <td>0.566907</td>\n",
       "      <td>-14086</td>\n",
       "      <td>0</td>\n",
       "      <td>2</td>\n",
       "      <td>0.3333</td>\n",
       "    </tr>\n",
       "    <tr>\n",
       "      <th>18</th>\n",
       "      <td>0.556727</td>\n",
       "      <td>0.706428</td>\n",
       "      <td>-17718</td>\n",
       "      <td>0</td>\n",
       "      <td>1</td>\n",
       "      <td>0.0833</td>\n",
       "    </tr>\n",
       "    <tr>\n",
       "      <th>22</th>\n",
       "      <td>0.358951</td>\n",
       "      <td>0.457143</td>\n",
       "      <td>-11146</td>\n",
       "      <td>0</td>\n",
       "      <td>3</td>\n",
       "      <td>0.1667</td>\n",
       "    </tr>\n",
       "    <tr>\n",
       "      <th>...</th>\n",
       "      <td>...</td>\n",
       "      <td>...</td>\n",
       "      <td>...</td>\n",
       "      <td>...</td>\n",
       "      <td>...</td>\n",
       "      <td>...</td>\n",
       "    </tr>\n",
       "    <tr>\n",
       "      <th>307495</th>\n",
       "      <td>0.597192</td>\n",
       "      <td>0.267834</td>\n",
       "      <td>-20922</td>\n",
       "      <td>1</td>\n",
       "      <td>2</td>\n",
       "      <td>0.3333</td>\n",
       "    </tr>\n",
       "    <tr>\n",
       "      <th>307498</th>\n",
       "      <td>0.406617</td>\n",
       "      <td>0.746259</td>\n",
       "      <td>-19102</td>\n",
       "      <td>0</td>\n",
       "      <td>1</td>\n",
       "      <td>0.6667</td>\n",
       "    </tr>\n",
       "    <tr>\n",
       "      <th>307508</th>\n",
       "      <td>0.218859</td>\n",
       "      <td>0.535722</td>\n",
       "      <td>-14966</td>\n",
       "      <td>1</td>\n",
       "      <td>3</td>\n",
       "      <td>0.1667</td>\n",
       "    </tr>\n",
       "    <tr>\n",
       "      <th>307509</th>\n",
       "      <td>0.661024</td>\n",
       "      <td>0.514163</td>\n",
       "      <td>-11961</td>\n",
       "      <td>0</td>\n",
       "      <td>2</td>\n",
       "      <td>0.0417</td>\n",
       "    </tr>\n",
       "    <tr>\n",
       "      <th>307510</th>\n",
       "      <td>0.113922</td>\n",
       "      <td>0.708569</td>\n",
       "      <td>-16856</td>\n",
       "      <td>1</td>\n",
       "      <td>1</td>\n",
       "      <td>0.3750</td>\n",
       "    </tr>\n",
       "  </tbody>\n",
       "</table>\n",
       "<p>84575 rows × 6 columns</p>\n",
       "</div>"
      ],
      "text/plain": [
       "        EXT_SOURCE_3  EXT_SOURCE_2  DAYS_BIRTH  \\\n",
       "0           0.139376      0.262949       -9461   \n",
       "12          0.176653      0.715042      -13439   \n",
       "13          0.770087      0.566907      -14086   \n",
       "18          0.556727      0.706428      -17718   \n",
       "22          0.358951      0.457143      -11146   \n",
       "...              ...           ...         ...   \n",
       "307495      0.597192      0.267834      -20922   \n",
       "307498      0.406617      0.746259      -19102   \n",
       "307508      0.218859      0.535722      -14966   \n",
       "307509      0.661024      0.514163      -11961   \n",
       "307510      0.113922      0.708569      -16856   \n",
       "\n",
       "        NAME_EDUCATION_TYPE_Higher education  REGION_RATING_CLIENT  \\\n",
       "0                                          0                     2   \n",
       "12                                         0                     2   \n",
       "13                                         0                     2   \n",
       "18                                         0                     1   \n",
       "22                                         0                     3   \n",
       "...                                      ...                   ...   \n",
       "307495                                     1                     2   \n",
       "307498                                     0                     1   \n",
       "307508                                     1                     3   \n",
       "307509                                     0                     2   \n",
       "307510                                     1                     1   \n",
       "\n",
       "        FLOORSMAX_AVG  \n",
       "0              0.0833  \n",
       "12             0.1667  \n",
       "13             0.3333  \n",
       "18             0.0833  \n",
       "22             0.1667  \n",
       "...               ...  \n",
       "307495         0.3333  \n",
       "307498         0.6667  \n",
       "307508         0.1667  \n",
       "307509         0.0417  \n",
       "307510         0.3750  \n",
       "\n",
       "[84575 rows x 6 columns]"
      ]
     },
     "execution_count": 246,
     "metadata": {},
     "output_type": "execute_result"
    }
   ],
   "source": [
    "drop_data"
   ]
  },
  {
   "cell_type": "code",
   "execution_count": 247,
   "metadata": {},
   "outputs": [],
   "source": [
    "# ndarrayへ変換\n",
    "X = np.array(drop_data)\n",
    "y = np.array(new_df_y)"
   ]
  },
  {
   "cell_type": "code",
   "execution_count": 248,
   "metadata": {},
   "outputs": [],
   "source": [
    "\n",
    "X_train, X_test, y_train, y_test = train_test_split(X, y, test_size=0.25)"
   ]
  },
  {
   "cell_type": "code",
   "execution_count": 249,
   "metadata": {},
   "outputs": [],
   "source": [
    "# 標準化\n",
    "from sklearn.preprocessing import StandardScaler\n",
    "ss2 = StandardScaler()\n",
    "ss2.fit(X_train)\n",
    "ss2_X_train = ss2.transform(X_train)\n",
    "ss2_X_test = ss2.transform(X_test)"
   ]
  },
  {
   "cell_type": "code",
   "execution_count": 250,
   "metadata": {},
   "outputs": [
    {
     "data": {
      "text/plain": [
       "LinearRegression(copy_X=True, fit_intercept=True, n_jobs=None, normalize=False)"
      ]
     },
     "execution_count": 250,
     "metadata": {},
     "output_type": "execute_result"
    }
   ],
   "source": [
    "# 学習と推定\n",
    "from sklearn.linear_model import LinearRegression as LR\n",
    "model_LR2= LR()\n",
    "model_LR2.fit(ss2_X_train, y_train)"
   ]
  },
  {
   "cell_type": "code",
   "execution_count": 251,
   "metadata": {},
   "outputs": [
    {
     "data": {
      "text/plain": [
       "array([ 0.177031  ,  0.1271697 ,  0.13710869, ...,  0.09824178,\n",
       "        0.17845004, -0.00473719])"
      ]
     },
     "execution_count": 251,
     "metadata": {},
     "output_type": "execute_result"
    }
   ],
   "source": [
    "# LinearRegression\n",
    "# 標準化済みのX_testで予測を行う。\n",
    "y_pred_LR2 = model_LR2.predict(ss2_X_test)\n",
    "y_pred_LR2"
   ]
  },
  {
   "cell_type": "code",
   "execution_count": 253,
   "metadata": {},
   "outputs": [
    {
     "data": {
      "text/plain": [
       "0.49513164337423443"
      ]
     },
     "execution_count": 253,
     "metadata": {},
     "output_type": "execute_result"
    }
   ],
   "source": [
    "# LinearRegression\n",
    "fpr_LR, tpr_LR, thresholds = metrics.roc_curve(y_test, y_pred_LR, pos_label=1)\n",
    "\n",
    "auc_LR = metrics.auc(fpr_LR, tpr_LR)\n",
    "auc_LR"
   ]
  },
  {
   "cell_type": "code",
   "execution_count": 254,
   "metadata": {},
   "outputs": [
    {
     "data": {
      "image/png": "[encoded data removed]",
      "text/plain": [
       "<Figure size 432x288 with 1 Axes>"
      ]
     },
     "metadata": {
      "needs_background": "light"
     },
     "output_type": "display_data"
    }
   ],
   "source": [
    "# LinearRegression\n",
    "# ROC曲線をプロット\n",
    "plt.plot(fpr_LR, tpr_LR, label='ROC curve (area = %.2f)'%auc)\n",
    "plt.legend()\n",
    "plt.title('ROC curve')\n",
    "plt.xlabel('False Positive Rate')\n",
    "plt.ylabel('True Positive Rate')\n",
    "plt.grid(True)"
   ]
  },
  {
   "cell_type": "markdown",
   "metadata": {},
   "source": [
    "### ＜Lasso回帰：L1正則化＞"
   ]
  },
  {
   "cell_type": "code",
   "execution_count": 187,
   "metadata": {},
   "outputs": [
    {
     "data": {
      "text/plain": [
       "Lasso(alpha=1.0, copy_X=True, fit_intercept=True, max_iter=1000,\n",
       "      normalize=False, positive=False, precompute=False, random_state=None,\n",
       "      selection='cyclic', tol=0.0001, warm_start=False)"
      ]
     },
     "execution_count": 187,
     "metadata": {},
     "output_type": "execute_result"
    }
   ],
   "source": [
    "from sklearn.linear_model import Lasso\n",
    "# モデル関数を作成\n",
    "lasso = Lasso()\n",
    "\n",
    "# 学習\n",
    "lasso.fit(ss_X_train, y_train)"
   ]
  },
  {
   "cell_type": "code",
   "execution_count": 267,
   "metadata": {},
   "outputs": [],
   "source": [
    "# 標準化済みのss_X_testで予測を行う。\n",
    "y_pred_losso = lasso.predict(ss_X_test)\n"
   ]
  },
  {
   "cell_type": "code",
   "execution_count": 268,
   "metadata": {},
   "outputs": [
    {
     "data": {
      "text/plain": [
       "0.5"
      ]
     },
     "execution_count": 268,
     "metadata": {},
     "output_type": "execute_result"
    }
   ],
   "source": [
    "fpr_losso, tpr_losso, thresholds_losso = metrics.roc_curve(y_test, y_pred_losso, pos_label=1)\n",
    "\n",
    "auc_losso = metrics.auc(fpr_losso, tpr_losso)\n",
    "\n",
    "auc_losso"
   ]
  },
  {
   "cell_type": "code",
   "execution_count": 269,
   "metadata": {},
   "outputs": [
    {
     "data": {
      "image/png": "[encoded data removed]",
      "text/plain": [
       "<Figure size 432x288 with 1 Axes>"
      ]
     },
     "metadata": {
      "needs_background": "light"
     },
     "output_type": "display_data"
    }
   ],
   "source": [
    "import matplotlib.pyplot as plt\n",
    "%matplotlib inline\n",
    "\n",
    "# ROC曲線をプロット\n",
    "plt.plot(fpr_losso, tpr_losso, label='ROC curve (area = %.2f)'%auc)\n",
    "plt.legend()\n",
    "plt.title('Losso ROC curve')\n",
    "plt.xlabel('False Positive Rate')\n",
    "plt.ylabel('True Positive Rate')\n",
    "plt.grid(True)"
   ]
  },
  {
   "cell_type": "markdown",
   "metadata": {},
   "source": [
    "### ＜Ridge回帰：L2正則化＞"
   ]
  },
  {
   "cell_type": "code",
   "execution_count": 191,
   "metadata": {},
   "outputs": [
    {
     "data": {
      "text/plain": [
       "Ridge(alpha=1.0, copy_X=True, fit_intercept=True, max_iter=None,\n",
       "      normalize=False, random_state=None, solver='auto', tol=0.001)"
      ]
     },
     "execution_count": 191,
     "metadata": {},
     "output_type": "execute_result"
    }
   ],
   "source": [
    "from sklearn.linear_model import Ridge\n",
    "# モデル関数を作成\n",
    "ridge = Ridge()\n",
    "\n",
    "# 学習\n",
    "ridge.fit(ss_X_train, y_train)"
   ]
  },
  {
   "cell_type": "code",
   "execution_count": 192,
   "metadata": {},
   "outputs": [],
   "source": [
    "# 標準化済みのX_testで予測を行う。\n",
    "y_pred_ridge = ridge.predict(ss_X_test)"
   ]
  },
  {
   "cell_type": "code",
   "execution_count": 193,
   "metadata": {},
   "outputs": [
    {
     "data": {
      "text/plain": [
       "0.7333813256861796"
      ]
     },
     "execution_count": 193,
     "metadata": {},
     "output_type": "execute_result"
    }
   ],
   "source": [
    "fpr_ridge, tpr_ridge, thresholds_ridge = metrics.roc_curve(y_test, y_pred_ridge, pos_label=1)\n",
    "\n",
    "auc_ridge = metrics.auc(fpr_ridge, tpr_ridge)\n",
    "\n",
    "auc_ridge"
   ]
  },
  {
   "cell_type": "code",
   "execution_count": 194,
   "metadata": {},
   "outputs": [
    {
     "data": {
      "image/png": "[encoded data removed]",
      "text/plain": [
       "<Figure size 432x288 with 1 Axes>"
      ]
     },
     "metadata": {
      "needs_background": "light"
     },
     "output_type": "display_data"
    }
   ],
   "source": [
    "# ROC曲線をプロット\n",
    "plt.plot(fpr_ridge, tpr_ridge, label='ROC curve (area = %.2f)'%auc)\n",
    "plt.legend()\n",
    "plt.title('Ridge ROC curve')\n",
    "plt.xlabel('False Positive Rate')\n",
    "plt.ylabel('True Positive Rate')\n",
    "plt.grid(True)"
   ]
  },
  {
   "cell_type": "markdown",
   "metadata": {},
   "source": [
    "以上の結果をまとめると、\n",
    "\n",
    "| No. | 手法                         | 標準化         | AUC         | 順位 |\n",
    "|-----|------------------------------|----------------|-------------|------|\n",
    "| 1   | k-nn                         | StandardScaler | 0.583858231 | 4    |\n",
    "| 2   | 線形回帰                     | StandardScaler | 0.733381065 | 2    |\n",
    "| 3   | 線形回帰                     | RobustScaler   | 0.733381065 | 3    |\n",
    "| 4   | Lasso                        | StandardScaler | 0.5         | 5    |\n",
    "| 5   | Ridge                        | StandardScaler | 0.733381326 | 1    |\n",
    "| 6   | 多重共線性の排除（線形回帰） | StandardScaler | 0.495131643 | 6    |\n",
    "\n",
    "といった結果になり、Ridge回帰：L2正則化が一番高い値となった。  \n",
    "多重共線性の排除では、カラムが減ったため、精度が下がった可能性がある。\n",
    "以上から、Ridge回帰でKaggleに投稿してみる。"
   ]
  },
  {
   "cell_type": "code",
   "execution_count": 263,
   "metadata": {},
   "outputs": [
    {
     "data": {
      "text/plain": [
       "array([ 0.08873931,  0.12983574, -0.00729883, ...,  0.10326316,\n",
       "        0.01928821,  0.14227115])"
      ]
     },
     "execution_count": 263,
     "metadata": {},
     "output_type": "execute_result"
    }
   ],
   "source": [
    "# 標準化済みのss_X_testで予測を行う。(リッジ回帰で推定)\n",
    "y_sub_ridge = ridge.predict(ss_X_submission)\n",
    "y_sub_ridge"
   ]
  },
  {
   "cell_type": "code",
   "execution_count": 264,
   "metadata": {},
   "outputs": [
    {
     "data": {
      "text/plain": [
       "array([0.08873931, 0.12983574, 0.        , ..., 0.10326316, 0.01928821,\n",
       "       0.14227115])"
      ]
     },
     "execution_count": 264,
     "metadata": {},
     "output_type": "execute_result"
    }
   ],
   "source": [
    "# 0以下の値は0に置換\n",
    "y_sub_ridge = np.where(y_sub_ridge < 0, 0, y_sub_ridge)\n",
    "y_sub_ridge"
   ]
  },
  {
   "cell_type": "code",
   "execution_count": 265,
   "metadata": {},
   "outputs": [],
   "source": [
    "df_sub_ridge = pd.DataFrame(y_sub_ridge)\n",
    "df_submission_ridge = pd.concat([df_test.iloc[:,0], df_sub_ridge], axis = 1)\n",
    "\n",
    "df_submission_ridge.columns = [\"SK_ID_CURR\",\"TARGET\"]"
   ]
  },
  {
   "cell_type": "code",
   "execution_count": 266,
   "metadata": {},
   "outputs": [],
   "source": [
    "# 提出ファイルの作成\n",
    "df_submission_ridge.to_csv(\"sub_ridge.csv\", index = False)"
   ]
  },
  {
   "cell_type": "markdown",
   "metadata": {},
   "source": [
    "Kaggleへの提出結果は：score=0.69322であり精度が低下した。"
   ]
  }
 ],
 "metadata": {
  "kernelspec": {
   "display_name": "Python 3",
   "language": "python",
   "name": "python3"
  },
  "language_info": {
   "codemirror_mode": {
    "name": "ipython",
    "version": 3
   },
   "file_extension": ".py",
   "mimetype": "text/x-python",
   "name": "python",
   "nbconvert_exporter": "python",
   "pygments_lexer": "ipython3",
   "version": "3.7.6"
  }
 },
 "nbformat": 4,
 "nbformat_minor": 4
}
