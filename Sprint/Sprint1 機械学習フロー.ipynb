{
 "cells": [
  {
   "cell_type": "markdown",
   "metadata": {},
   "source": [
    "# Sprint 機械学習フロー"
   ]
  },
  {
   "cell_type": "markdown",
   "metadata": {},
   "source": [
    "## 【問題1】クロスバリデーション"
   ]
  },
  {
   "cell_type": "markdown",
   "metadata": {},
   "source": [
    "### ＜前処理＞"
   ]
  },
  {
   "cell_type": "code",
   "execution_count": 80,
   "metadata": {},
   "outputs": [],
   "source": [
    "import pandas as pd\n",
    "# データ読込\n",
    "df_train = pd.read_csv('application_train.csv')\n",
    "df_test = pd.read_csv('application_test.csv')"
   ]
  },
  {
   "cell_type": "code",
   "execution_count": 81,
   "metadata": {},
   "outputs": [],
   "source": [
    "# 半分以上 欠損地を含む列を削除\n",
    "drop_df = df_train.dropna(thresh=df_train.shape[0]*0.5, axis=1)\n",
    "\n",
    "# 欠損地を含む行を削除\n",
    "drop_df = drop_df.dropna(axis=0)"
   ]
  },
  {
   "cell_type": "code",
   "execution_count": 82,
   "metadata": {},
   "outputs": [],
   "source": [
    "# ワンホットエンコーディング\n",
    "df_one_hot_encoded = pd.get_dummies(drop_df)"
   ]
  },
  {
   "cell_type": "code",
   "execution_count": 83,
   "metadata": {},
   "outputs": [],
   "source": [
    "# 相関係数の算出\n",
    "df_corr = df_one_hot_encoded.corr()"
   ]
  },
  {
   "cell_type": "code",
   "execution_count": 84,
   "metadata": {},
   "outputs": [
    {
     "data": {
      "text/plain": [
       "TARGET                                               1.000000\n",
       "DAYS_EMPLOYED                                        0.067902\n",
       "DAYS_BIRTH                                           0.061618\n",
       "NAME_EDUCATION_TYPE_Secondary / secondary special    0.054697\n",
       "REGION_RATING_CLIENT_W_CITY                          0.050473\n",
       "                                                       ...   \n",
       "NAME_EDUCATION_TYPE_Higher education                -0.058496\n",
       "EXT_SOURCE_2                                        -0.152174\n",
       "EXT_SOURCE_3                                        -0.169535\n",
       "FLAG_MOBIL                                                NaN\n",
       "FLAG_DOCUMENT_2                                           NaN\n",
       "Name: TARGET, Length: 189, dtype: float64"
      ]
     },
     "execution_count": 84,
     "metadata": {},
     "output_type": "execute_result"
    }
   ],
   "source": [
    "# TARGETとの相関係数上位１０項目を抽出\n",
    "df_corr[\"TARGET\"].sort_values(ascending=False)"
   ]
  },
  {
   "cell_type": "code",
   "execution_count": 85,
   "metadata": {},
   "outputs": [
    {
     "data": {
      "text/plain": [
       "Index(['TARGET', 'EXT_SOURCE_3', 'EXT_SOURCE_2', 'DAYS_EMPLOYED', 'DAYS_BIRTH',\n",
       "       'NAME_EDUCATION_TYPE_Higher education',\n",
       "       'NAME_EDUCATION_TYPE_Secondary / secondary special',\n",
       "       'REGION_RATING_CLIENT_W_CITY', 'REGION_RATING_CLIENT', 'FLOORSMAX_AVG',\n",
       "       'FLOORSMAX_MEDI'],\n",
       "      dtype='object')"
      ]
     },
     "execution_count": 85,
     "metadata": {},
     "output_type": "execute_result"
    }
   ],
   "source": [
    "# TARGETとの相関係数上位１０項目を抽出(相関関係の正負も考慮し、絶対値を取る)\n",
    "abs(df_corr[\"TARGET\"]).sort_values(ascending=False)[0:11].index"
   ]
  },
  {
   "cell_type": "code",
   "execution_count": 86,
   "metadata": {},
   "outputs": [
    {
     "data": {
      "text/html": [
       "<div>\n",
       "<style scoped>\n",
       "    .dataframe tbody tr th:only-of-type {\n",
       "        vertical-align: middle;\n",
       "    }\n",
       "\n",
       "    .dataframe tbody tr th {\n",
       "        vertical-align: top;\n",
       "    }\n",
       "\n",
       "    .dataframe thead th {\n",
       "        text-align: right;\n",
       "    }\n",
       "</style>\n",
       "<table border=\"1\" class=\"dataframe\">\n",
       "  <thead>\n",
       "    <tr style=\"text-align: right;\">\n",
       "      <th></th>\n",
       "      <th>TARGET</th>\n",
       "      <th>EXT_SOURCE_3</th>\n",
       "      <th>EXT_SOURCE_2</th>\n",
       "      <th>DAYS_EMPLOYED</th>\n",
       "      <th>DAYS_BIRTH</th>\n",
       "      <th>NAME_EDUCATION_TYPE_Higher education</th>\n",
       "      <th>NAME_EDUCATION_TYPE_Secondary / secondary special</th>\n",
       "      <th>REGION_RATING_CLIENT_W_CITY</th>\n",
       "      <th>REGION_RATING_CLIENT</th>\n",
       "      <th>FLOORSMAX_AVG</th>\n",
       "      <th>FLOORSMAX_MEDI</th>\n",
       "    </tr>\n",
       "  </thead>\n",
       "  <tbody>\n",
       "    <tr>\n",
       "      <th>TARGET</th>\n",
       "      <td>1.000000</td>\n",
       "      <td>-0.169535</td>\n",
       "      <td>-0.152174</td>\n",
       "      <td>0.067902</td>\n",
       "      <td>0.061618</td>\n",
       "      <td>-0.058496</td>\n",
       "      <td>0.054697</td>\n",
       "      <td>0.050473</td>\n",
       "      <td>0.048078</td>\n",
       "      <td>-0.046205</td>\n",
       "      <td>-0.046030</td>\n",
       "    </tr>\n",
       "    <tr>\n",
       "      <th>EXT_SOURCE_3</th>\n",
       "      <td>-0.169535</td>\n",
       "      <td>1.000000</td>\n",
       "      <td>0.118087</td>\n",
       "      <td>-0.125235</td>\n",
       "      <td>-0.179898</td>\n",
       "      <td>-0.005739</td>\n",
       "      <td>0.027195</td>\n",
       "      <td>-0.002365</td>\n",
       "      <td>-0.003040</td>\n",
       "      <td>0.003699</td>\n",
       "      <td>0.003985</td>\n",
       "    </tr>\n",
       "    <tr>\n",
       "      <th>EXT_SOURCE_2</th>\n",
       "      <td>-0.152174</td>\n",
       "      <td>0.118087</td>\n",
       "      <td>1.000000</td>\n",
       "      <td>-0.088711</td>\n",
       "      <td>-0.140273</td>\n",
       "      <td>0.110212</td>\n",
       "      <td>-0.095934</td>\n",
       "      <td>-0.284964</td>\n",
       "      <td>-0.295872</td>\n",
       "      <td>0.125559</td>\n",
       "      <td>0.124219</td>\n",
       "    </tr>\n",
       "    <tr>\n",
       "      <th>DAYS_EMPLOYED</th>\n",
       "      <td>0.067902</td>\n",
       "      <td>-0.125235</td>\n",
       "      <td>-0.088711</td>\n",
       "      <td>1.000000</td>\n",
       "      <td>0.348787</td>\n",
       "      <td>0.017198</td>\n",
       "      <td>-0.044498</td>\n",
       "      <td>-0.022239</td>\n",
       "      <td>-0.023906</td>\n",
       "      <td>0.003278</td>\n",
       "      <td>0.003263</td>\n",
       "    </tr>\n",
       "    <tr>\n",
       "      <th>DAYS_BIRTH</th>\n",
       "      <td>0.061618</td>\n",
       "      <td>-0.179898</td>\n",
       "      <td>-0.140273</td>\n",
       "      <td>0.348787</td>\n",
       "      <td>1.000000</td>\n",
       "      <td>0.077791</td>\n",
       "      <td>-0.134095</td>\n",
       "      <td>0.030587</td>\n",
       "      <td>0.032088</td>\n",
       "      <td>-0.013425</td>\n",
       "      <td>-0.013167</td>\n",
       "    </tr>\n",
       "    <tr>\n",
       "      <th>NAME_EDUCATION_TYPE_Higher education</th>\n",
       "      <td>-0.058496</td>\n",
       "      <td>-0.005739</td>\n",
       "      <td>0.110212</td>\n",
       "      <td>0.017198</td>\n",
       "      <td>0.077791</td>\n",
       "      <td>1.000000</td>\n",
       "      <td>-0.898646</td>\n",
       "      <td>-0.040935</td>\n",
       "      <td>-0.042366</td>\n",
       "      <td>0.140492</td>\n",
       "      <td>0.140034</td>\n",
       "    </tr>\n",
       "    <tr>\n",
       "      <th>NAME_EDUCATION_TYPE_Secondary / secondary special</th>\n",
       "      <td>0.054697</td>\n",
       "      <td>0.027195</td>\n",
       "      <td>-0.095934</td>\n",
       "      <td>-0.044498</td>\n",
       "      <td>-0.134095</td>\n",
       "      <td>-0.898646</td>\n",
       "      <td>1.000000</td>\n",
       "      <td>0.046928</td>\n",
       "      <td>0.047650</td>\n",
       "      <td>-0.141361</td>\n",
       "      <td>-0.140970</td>\n",
       "    </tr>\n",
       "    <tr>\n",
       "      <th>REGION_RATING_CLIENT_W_CITY</th>\n",
       "      <td>0.050473</td>\n",
       "      <td>-0.002365</td>\n",
       "      <td>-0.284964</td>\n",
       "      <td>-0.022239</td>\n",
       "      <td>0.030587</td>\n",
       "      <td>-0.040935</td>\n",
       "      <td>0.046928</td>\n",
       "      <td>1.000000</td>\n",
       "      <td>0.924737</td>\n",
       "      <td>-0.227591</td>\n",
       "      <td>-0.224935</td>\n",
       "    </tr>\n",
       "    <tr>\n",
       "      <th>REGION_RATING_CLIENT</th>\n",
       "      <td>0.048078</td>\n",
       "      <td>-0.003040</td>\n",
       "      <td>-0.295872</td>\n",
       "      <td>-0.023906</td>\n",
       "      <td>0.032088</td>\n",
       "      <td>-0.042366</td>\n",
       "      <td>0.047650</td>\n",
       "      <td>0.924737</td>\n",
       "      <td>1.000000</td>\n",
       "      <td>-0.212323</td>\n",
       "      <td>-0.209644</td>\n",
       "    </tr>\n",
       "    <tr>\n",
       "      <th>FLOORSMAX_AVG</th>\n",
       "      <td>-0.046205</td>\n",
       "      <td>0.003699</td>\n",
       "      <td>0.125559</td>\n",
       "      <td>0.003278</td>\n",
       "      <td>-0.013425</td>\n",
       "      <td>0.140492</td>\n",
       "      <td>-0.141361</td>\n",
       "      <td>-0.227591</td>\n",
       "      <td>-0.212323</td>\n",
       "      <td>1.000000</td>\n",
       "      <td>0.997143</td>\n",
       "    </tr>\n",
       "    <tr>\n",
       "      <th>FLOORSMAX_MEDI</th>\n",
       "      <td>-0.046030</td>\n",
       "      <td>0.003985</td>\n",
       "      <td>0.124219</td>\n",
       "      <td>0.003263</td>\n",
       "      <td>-0.013167</td>\n",
       "      <td>0.140034</td>\n",
       "      <td>-0.140970</td>\n",
       "      <td>-0.224935</td>\n",
       "      <td>-0.209644</td>\n",
       "      <td>0.997143</td>\n",
       "      <td>1.000000</td>\n",
       "    </tr>\n",
       "  </tbody>\n",
       "</table>\n",
       "</div>"
      ],
      "text/plain": [
       "                                                     TARGET  EXT_SOURCE_3  \\\n",
       "TARGET                                             1.000000     -0.169535   \n",
       "EXT_SOURCE_3                                      -0.169535      1.000000   \n",
       "EXT_SOURCE_2                                      -0.152174      0.118087   \n",
       "DAYS_EMPLOYED                                      0.067902     -0.125235   \n",
       "DAYS_BIRTH                                         0.061618     -0.179898   \n",
       "NAME_EDUCATION_TYPE_Higher education              -0.058496     -0.005739   \n",
       "NAME_EDUCATION_TYPE_Secondary / secondary special  0.054697      0.027195   \n",
       "REGION_RATING_CLIENT_W_CITY                        0.050473     -0.002365   \n",
       "REGION_RATING_CLIENT                               0.048078     -0.003040   \n",
       "FLOORSMAX_AVG                                     -0.046205      0.003699   \n",
       "FLOORSMAX_MEDI                                    -0.046030      0.003985   \n",
       "\n",
       "                                                   EXT_SOURCE_2  \\\n",
       "TARGET                                                -0.152174   \n",
       "EXT_SOURCE_3                                           0.118087   \n",
       "EXT_SOURCE_2                                           1.000000   \n",
       "DAYS_EMPLOYED                                         -0.088711   \n",
       "DAYS_BIRTH                                            -0.140273   \n",
       "NAME_EDUCATION_TYPE_Higher education                   0.110212   \n",
       "NAME_EDUCATION_TYPE_Secondary / secondary special     -0.095934   \n",
       "REGION_RATING_CLIENT_W_CITY                           -0.284964   \n",
       "REGION_RATING_CLIENT                                  -0.295872   \n",
       "FLOORSMAX_AVG                                          0.125559   \n",
       "FLOORSMAX_MEDI                                         0.124219   \n",
       "\n",
       "                                                   DAYS_EMPLOYED  DAYS_BIRTH  \\\n",
       "TARGET                                                  0.067902    0.061618   \n",
       "EXT_SOURCE_3                                           -0.125235   -0.179898   \n",
       "EXT_SOURCE_2                                           -0.088711   -0.140273   \n",
       "DAYS_EMPLOYED                                           1.000000    0.348787   \n",
       "DAYS_BIRTH                                              0.348787    1.000000   \n",
       "NAME_EDUCATION_TYPE_Higher education                    0.017198    0.077791   \n",
       "NAME_EDUCATION_TYPE_Secondary / secondary special      -0.044498   -0.134095   \n",
       "REGION_RATING_CLIENT_W_CITY                            -0.022239    0.030587   \n",
       "REGION_RATING_CLIENT                                   -0.023906    0.032088   \n",
       "FLOORSMAX_AVG                                           0.003278   -0.013425   \n",
       "FLOORSMAX_MEDI                                          0.003263   -0.013167   \n",
       "\n",
       "                                                   NAME_EDUCATION_TYPE_Higher education  \\\n",
       "TARGET                                                                        -0.058496   \n",
       "EXT_SOURCE_3                                                                  -0.005739   \n",
       "EXT_SOURCE_2                                                                   0.110212   \n",
       "DAYS_EMPLOYED                                                                  0.017198   \n",
       "DAYS_BIRTH                                                                     0.077791   \n",
       "NAME_EDUCATION_TYPE_Higher education                                           1.000000   \n",
       "NAME_EDUCATION_TYPE_Secondary / secondary special                             -0.898646   \n",
       "REGION_RATING_CLIENT_W_CITY                                                   -0.040935   \n",
       "REGION_RATING_CLIENT                                                          -0.042366   \n",
       "FLOORSMAX_AVG                                                                  0.140492   \n",
       "FLOORSMAX_MEDI                                                                 0.140034   \n",
       "\n",
       "                                                   NAME_EDUCATION_TYPE_Secondary / secondary special  \\\n",
       "TARGET                                                                                      0.054697   \n",
       "EXT_SOURCE_3                                                                                0.027195   \n",
       "EXT_SOURCE_2                                                                               -0.095934   \n",
       "DAYS_EMPLOYED                                                                              -0.044498   \n",
       "DAYS_BIRTH                                                                                 -0.134095   \n",
       "NAME_EDUCATION_TYPE_Higher education                                                       -0.898646   \n",
       "NAME_EDUCATION_TYPE_Secondary / secondary special                                           1.000000   \n",
       "REGION_RATING_CLIENT_W_CITY                                                                 0.046928   \n",
       "REGION_RATING_CLIENT                                                                        0.047650   \n",
       "FLOORSMAX_AVG                                                                              -0.141361   \n",
       "FLOORSMAX_MEDI                                                                             -0.140970   \n",
       "\n",
       "                                                   REGION_RATING_CLIENT_W_CITY  \\\n",
       "TARGET                                                                0.050473   \n",
       "EXT_SOURCE_3                                                         -0.002365   \n",
       "EXT_SOURCE_2                                                         -0.284964   \n",
       "DAYS_EMPLOYED                                                        -0.022239   \n",
       "DAYS_BIRTH                                                            0.030587   \n",
       "NAME_EDUCATION_TYPE_Higher education                                 -0.040935   \n",
       "NAME_EDUCATION_TYPE_Secondary / secondary special                     0.046928   \n",
       "REGION_RATING_CLIENT_W_CITY                                           1.000000   \n",
       "REGION_RATING_CLIENT                                                  0.924737   \n",
       "FLOORSMAX_AVG                                                        -0.227591   \n",
       "FLOORSMAX_MEDI                                                       -0.224935   \n",
       "\n",
       "                                                   REGION_RATING_CLIENT  \\\n",
       "TARGET                                                         0.048078   \n",
       "EXT_SOURCE_3                                                  -0.003040   \n",
       "EXT_SOURCE_2                                                  -0.295872   \n",
       "DAYS_EMPLOYED                                                 -0.023906   \n",
       "DAYS_BIRTH                                                     0.032088   \n",
       "NAME_EDUCATION_TYPE_Higher education                          -0.042366   \n",
       "NAME_EDUCATION_TYPE_Secondary / secondary special              0.047650   \n",
       "REGION_RATING_CLIENT_W_CITY                                    0.924737   \n",
       "REGION_RATING_CLIENT                                           1.000000   \n",
       "FLOORSMAX_AVG                                                 -0.212323   \n",
       "FLOORSMAX_MEDI                                                -0.209644   \n",
       "\n",
       "                                                   FLOORSMAX_AVG  \\\n",
       "TARGET                                                 -0.046205   \n",
       "EXT_SOURCE_3                                            0.003699   \n",
       "EXT_SOURCE_2                                            0.125559   \n",
       "DAYS_EMPLOYED                                           0.003278   \n",
       "DAYS_BIRTH                                             -0.013425   \n",
       "NAME_EDUCATION_TYPE_Higher education                    0.140492   \n",
       "NAME_EDUCATION_TYPE_Secondary / secondary special      -0.141361   \n",
       "REGION_RATING_CLIENT_W_CITY                            -0.227591   \n",
       "REGION_RATING_CLIENT                                   -0.212323   \n",
       "FLOORSMAX_AVG                                           1.000000   \n",
       "FLOORSMAX_MEDI                                          0.997143   \n",
       "\n",
       "                                                   FLOORSMAX_MEDI  \n",
       "TARGET                                                  -0.046030  \n",
       "EXT_SOURCE_3                                             0.003985  \n",
       "EXT_SOURCE_2                                             0.124219  \n",
       "DAYS_EMPLOYED                                            0.003263  \n",
       "DAYS_BIRTH                                              -0.013167  \n",
       "NAME_EDUCATION_TYPE_Higher education                     0.140034  \n",
       "NAME_EDUCATION_TYPE_Secondary / secondary special       -0.140970  \n",
       "REGION_RATING_CLIENT_W_CITY                             -0.224935  \n",
       "REGION_RATING_CLIENT                                    -0.209644  \n",
       "FLOORSMAX_AVG                                            0.997143  \n",
       "FLOORSMAX_MEDI                                           1.000000  "
      ]
     },
     "execution_count": 86,
     "metadata": {},
     "output_type": "execute_result"
    }
   ],
   "source": [
    "# 上位１０項目で再度相関係数を出しなおす。\n",
    "new_df = df_one_hot_encoded[abs(df_corr[\"TARGET\"]).sort_values(ascending=False)[0:11].index]\n",
    "new_df_corr = new_df.corr()\n",
    "new_df_corr"
   ]
  },
  {
   "cell_type": "code",
   "execution_count": 87,
   "metadata": {},
   "outputs": [
    {
     "data": {
      "text/html": [
       "<div>\n",
       "<style scoped>\n",
       "    .dataframe tbody tr th:only-of-type {\n",
       "        vertical-align: middle;\n",
       "    }\n",
       "\n",
       "    .dataframe tbody tr th {\n",
       "        vertical-align: top;\n",
       "    }\n",
       "\n",
       "    .dataframe thead th {\n",
       "        text-align: right;\n",
       "    }\n",
       "</style>\n",
       "<table border=\"1\" class=\"dataframe\">\n",
       "  <thead>\n",
       "    <tr style=\"text-align: right;\">\n",
       "      <th></th>\n",
       "      <th>EXT_SOURCE_3</th>\n",
       "      <th>EXT_SOURCE_2</th>\n",
       "      <th>DAYS_EMPLOYED</th>\n",
       "      <th>DAYS_BIRTH</th>\n",
       "      <th>NAME_EDUCATION_TYPE_Higher education</th>\n",
       "      <th>NAME_EDUCATION_TYPE_Secondary / secondary special</th>\n",
       "      <th>REGION_RATING_CLIENT_W_CITY</th>\n",
       "      <th>REGION_RATING_CLIENT</th>\n",
       "      <th>FLOORSMAX_AVG</th>\n",
       "      <th>FLOORSMAX_MEDI</th>\n",
       "    </tr>\n",
       "  </thead>\n",
       "  <tbody>\n",
       "    <tr>\n",
       "      <th>0</th>\n",
       "      <td>0.139376</td>\n",
       "      <td>0.262949</td>\n",
       "      <td>-637</td>\n",
       "      <td>-9461</td>\n",
       "      <td>0</td>\n",
       "      <td>1</td>\n",
       "      <td>2</td>\n",
       "      <td>2</td>\n",
       "      <td>0.0833</td>\n",
       "      <td>0.0833</td>\n",
       "    </tr>\n",
       "    <tr>\n",
       "      <th>12</th>\n",
       "      <td>0.176653</td>\n",
       "      <td>0.715042</td>\n",
       "      <td>-2717</td>\n",
       "      <td>-13439</td>\n",
       "      <td>0</td>\n",
       "      <td>1</td>\n",
       "      <td>2</td>\n",
       "      <td>2</td>\n",
       "      <td>0.1667</td>\n",
       "      <td>0.1667</td>\n",
       "    </tr>\n",
       "    <tr>\n",
       "      <th>13</th>\n",
       "      <td>0.770087</td>\n",
       "      <td>0.566907</td>\n",
       "      <td>-3028</td>\n",
       "      <td>-14086</td>\n",
       "      <td>0</td>\n",
       "      <td>1</td>\n",
       "      <td>2</td>\n",
       "      <td>2</td>\n",
       "      <td>0.3333</td>\n",
       "      <td>0.3333</td>\n",
       "    </tr>\n",
       "    <tr>\n",
       "      <th>18</th>\n",
       "      <td>0.556727</td>\n",
       "      <td>0.706428</td>\n",
       "      <td>-7804</td>\n",
       "      <td>-17718</td>\n",
       "      <td>0</td>\n",
       "      <td>1</td>\n",
       "      <td>1</td>\n",
       "      <td>1</td>\n",
       "      <td>0.0833</td>\n",
       "      <td>0.0833</td>\n",
       "    </tr>\n",
       "    <tr>\n",
       "      <th>22</th>\n",
       "      <td>0.358951</td>\n",
       "      <td>0.457143</td>\n",
       "      <td>-4306</td>\n",
       "      <td>-11146</td>\n",
       "      <td>0</td>\n",
       "      <td>1</td>\n",
       "      <td>2</td>\n",
       "      <td>3</td>\n",
       "      <td>0.1667</td>\n",
       "      <td>0.1667</td>\n",
       "    </tr>\n",
       "    <tr>\n",
       "      <th>...</th>\n",
       "      <td>...</td>\n",
       "      <td>...</td>\n",
       "      <td>...</td>\n",
       "      <td>...</td>\n",
       "      <td>...</td>\n",
       "      <td>...</td>\n",
       "      <td>...</td>\n",
       "      <td>...</td>\n",
       "      <td>...</td>\n",
       "      <td>...</td>\n",
       "    </tr>\n",
       "    <tr>\n",
       "      <th>307495</th>\n",
       "      <td>0.597192</td>\n",
       "      <td>0.267834</td>\n",
       "      <td>-7438</td>\n",
       "      <td>-20922</td>\n",
       "      <td>1</td>\n",
       "      <td>0</td>\n",
       "      <td>2</td>\n",
       "      <td>2</td>\n",
       "      <td>0.3333</td>\n",
       "      <td>0.3333</td>\n",
       "    </tr>\n",
       "    <tr>\n",
       "      <th>307498</th>\n",
       "      <td>0.406617</td>\n",
       "      <td>0.746259</td>\n",
       "      <td>-3689</td>\n",
       "      <td>-19102</td>\n",
       "      <td>0</td>\n",
       "      <td>1</td>\n",
       "      <td>1</td>\n",
       "      <td>1</td>\n",
       "      <td>0.6667</td>\n",
       "      <td>0.6667</td>\n",
       "    </tr>\n",
       "    <tr>\n",
       "      <th>307508</th>\n",
       "      <td>0.218859</td>\n",
       "      <td>0.535722</td>\n",
       "      <td>-7921</td>\n",
       "      <td>-14966</td>\n",
       "      <td>1</td>\n",
       "      <td>0</td>\n",
       "      <td>3</td>\n",
       "      <td>3</td>\n",
       "      <td>0.1667</td>\n",
       "      <td>0.1667</td>\n",
       "    </tr>\n",
       "    <tr>\n",
       "      <th>307509</th>\n",
       "      <td>0.661024</td>\n",
       "      <td>0.514163</td>\n",
       "      <td>-4786</td>\n",
       "      <td>-11961</td>\n",
       "      <td>0</td>\n",
       "      <td>1</td>\n",
       "      <td>2</td>\n",
       "      <td>2</td>\n",
       "      <td>0.0417</td>\n",
       "      <td>0.0417</td>\n",
       "    </tr>\n",
       "    <tr>\n",
       "      <th>307510</th>\n",
       "      <td>0.113922</td>\n",
       "      <td>0.708569</td>\n",
       "      <td>-1262</td>\n",
       "      <td>-16856</td>\n",
       "      <td>1</td>\n",
       "      <td>0</td>\n",
       "      <td>1</td>\n",
       "      <td>1</td>\n",
       "      <td>0.3750</td>\n",
       "      <td>0.3750</td>\n",
       "    </tr>\n",
       "  </tbody>\n",
       "</table>\n",
       "<p>84575 rows × 10 columns</p>\n",
       "</div>"
      ],
      "text/plain": [
       "        EXT_SOURCE_3  EXT_SOURCE_2  DAYS_EMPLOYED  DAYS_BIRTH  \\\n",
       "0           0.139376      0.262949           -637       -9461   \n",
       "12          0.176653      0.715042          -2717      -13439   \n",
       "13          0.770087      0.566907          -3028      -14086   \n",
       "18          0.556727      0.706428          -7804      -17718   \n",
       "22          0.358951      0.457143          -4306      -11146   \n",
       "...              ...           ...            ...         ...   \n",
       "307495      0.597192      0.267834          -7438      -20922   \n",
       "307498      0.406617      0.746259          -3689      -19102   \n",
       "307508      0.218859      0.535722          -7921      -14966   \n",
       "307509      0.661024      0.514163          -4786      -11961   \n",
       "307510      0.113922      0.708569          -1262      -16856   \n",
       "\n",
       "        NAME_EDUCATION_TYPE_Higher education  \\\n",
       "0                                          0   \n",
       "12                                         0   \n",
       "13                                         0   \n",
       "18                                         0   \n",
       "22                                         0   \n",
       "...                                      ...   \n",
       "307495                                     1   \n",
       "307498                                     0   \n",
       "307508                                     1   \n",
       "307509                                     0   \n",
       "307510                                     1   \n",
       "\n",
       "        NAME_EDUCATION_TYPE_Secondary / secondary special  \\\n",
       "0                                                       1   \n",
       "12                                                      1   \n",
       "13                                                      1   \n",
       "18                                                      1   \n",
       "22                                                      1   \n",
       "...                                                   ...   \n",
       "307495                                                  0   \n",
       "307498                                                  1   \n",
       "307508                                                  0   \n",
       "307509                                                  1   \n",
       "307510                                                  0   \n",
       "\n",
       "        REGION_RATING_CLIENT_W_CITY  REGION_RATING_CLIENT  FLOORSMAX_AVG  \\\n",
       "0                                 2                     2         0.0833   \n",
       "12                                2                     2         0.1667   \n",
       "13                                2                     2         0.3333   \n",
       "18                                1                     1         0.0833   \n",
       "22                                2                     3         0.1667   \n",
       "...                             ...                   ...            ...   \n",
       "307495                            2                     2         0.3333   \n",
       "307498                            1                     1         0.6667   \n",
       "307508                            3                     3         0.1667   \n",
       "307509                            2                     2         0.0417   \n",
       "307510                            1                     1         0.3750   \n",
       "\n",
       "        FLOORSMAX_MEDI  \n",
       "0               0.0833  \n",
       "12              0.1667  \n",
       "13              0.3333  \n",
       "18              0.0833  \n",
       "22              0.1667  \n",
       "...                ...  \n",
       "307495          0.3333  \n",
       "307498          0.6667  \n",
       "307508          0.1667  \n",
       "307509          0.0417  \n",
       "307510          0.3750  \n",
       "\n",
       "[84575 rows x 10 columns]"
      ]
     },
     "execution_count": 87,
     "metadata": {},
     "output_type": "execute_result"
    }
   ],
   "source": [
    "# 説明変数\n",
    "new_df_X = new_df.iloc[:,1:11]\n",
    "new_df_X"
   ]
  },
  {
   "cell_type": "code",
   "execution_count": 88,
   "metadata": {},
   "outputs": [
    {
     "data": {
      "text/plain": [
       "0         1\n",
       "12        0\n",
       "13        0\n",
       "18        0\n",
       "22        0\n",
       "         ..\n",
       "307495    0\n",
       "307498    0\n",
       "307508    0\n",
       "307509    1\n",
       "307510    0\n",
       "Name: TARGET, Length: 84575, dtype: int64"
      ]
     },
     "execution_count": 88,
     "metadata": {},
     "output_type": "execute_result"
    }
   ],
   "source": [
    "# 説明変数\n",
    "new_df_y = new_df.iloc[:,0]\n",
    "new_df_y"
   ]
  },
  {
   "cell_type": "code",
   "execution_count": 89,
   "metadata": {},
   "outputs": [],
   "source": [
    "import numpy as np\n",
    "# ndarrayへ変換\n",
    "X = np.array(new_df_X)\n",
    "y = np.array(new_df_y)"
   ]
  },
  {
   "cell_type": "code",
   "execution_count": 90,
   "metadata": {},
   "outputs": [
    {
     "data": {
      "text/plain": [
       "(84575,)"
      ]
     },
     "execution_count": 90,
     "metadata": {},
     "output_type": "execute_result"
    }
   ],
   "source": [
    "y.shape"
   ]
  },
  {
   "cell_type": "code",
   "execution_count": 91,
   "metadata": {},
   "outputs": [],
   "source": [
    "from sklearn.preprocessing import StandardScaler\n",
    "# 標準化\n",
    "ss_base = StandardScaler()\n",
    "ss_base.fit(X)\n",
    "ss_X = ss_base.transform(X)\n",
    "\n",
    "    "
   ]
  },
  {
   "cell_type": "markdown",
   "metadata": {},
   "source": [
    "### ＜クロスバリデーション＞"
   ]
  },
  {
   "cell_type": "code",
   "execution_count": 92,
   "metadata": {},
   "outputs": [
    {
     "data": {
      "text/plain": [
       "4"
      ]
     },
     "execution_count": 92,
     "metadata": {},
     "output_type": "execute_result"
    }
   ],
   "source": [
    "from sklearn.model_selection import KFold\n",
    "kf = KFold(n_splits=4)\n",
    "kf.get_n_splits(X)"
   ]
  },
  {
   "cell_type": "code",
   "execution_count": 93,
   "metadata": {},
   "outputs": [
    {
     "name": "stdout",
     "output_type": "stream",
     "text": [
      "KFold(n_splits=4, random_state=None, shuffle=False)\n"
     ]
    }
   ],
   "source": [
    "print(kf)"
   ]
  },
  {
   "cell_type": "code",
   "execution_count": 95,
   "metadata": {},
   "outputs": [
    {
     "name": "stdout",
     "output_type": "stream",
     "text": [
      "TRAIN: [21144 21145 21146 ... 84572 84573 84574] TEST: [    0     1     2 ... 21141 21142 21143]\n",
      "y_pred_LR:[0.22546573 0.12384463 0.01961457 ... 0.07966373 0.00169124 0.04530864]\n",
      "TRAIN: [    0     1     2 ... 84572 84573 84574] TEST: [21144 21145 21146 ... 42285 42286 42287]\n",
      "y_pred_LR:[0.01138529 0.02114578 0.09528127 ... 0.02855614 0.07098779 0.04050658]\n",
      "TRAIN: [    0     1     2 ... 84572 84573 84574] TEST: [42288 42289 42290 ... 63429 63430 63431]\n",
      "y_pred_LR:[0.00646252 0.05436471 0.1690645  ... 0.10861745 0.02607257 0.14681411]\n",
      "TRAIN: [    0     1     2 ... 63429 63430 63431] TEST: [63432 63433 63434 ... 84572 84573 84574]\n",
      "y_pred_LR:[0.10689427 0.0566584  0.09203495 ... 0.10266422 0.05805886 0.10248436]\n"
     ]
    },
    {
     "data": {
      "text/plain": [
       "0.7282775824020655"
      ]
     },
     "execution_count": 95,
     "metadata": {},
     "output_type": "execute_result"
    }
   ],
   "source": [
    "from sklearn.neighbors import KNeighborsClassifier\n",
    "from sklearn.linear_model import LinearRegression as LR\n",
    "from sklearn.preprocessing import StandardScaler\n",
    "from sklearn import metrics\n",
    "\n",
    "result = []\n",
    "# データ分割\n",
    "for train_index, test_index in kf.split(X):\n",
    "    print(\"TRAIN:\", train_index, \"TEST:\", test_index)\n",
    "    X_train, X_test = X[train_index], X[test_index]\n",
    "    y_train, y_test = y[train_index], y[test_index]\n",
    "    \n",
    "\n",
    "    # 標準化\n",
    "    ss = StandardScaler()\n",
    "    ss.fit(X_train)\n",
    "    ss_X_train = ss.transform(X_train)\n",
    "    ss_X_test = ss.transform(X_test)\n",
    "    \n",
    "    # LinearRegression\n",
    "    model_LR= LR()\n",
    "    model_LR.fit(ss_X_train, y_train)\n",
    "\n",
    "    # 標準化済みのX_testで予測を行う。\n",
    "    y_pred_LR = model_LR.predict(ss_X_test)\n",
    "    print(\"y_pred_LR:{}\".format(y_pred_LR))\n",
    "    #result.append(y_pred_LR)\n",
    "    \n",
    "    # LinearRegression\n",
    "    fpr_LR, tpr_LR, thresholds = metrics.roc_curve(y_test, y_pred_LR, pos_label=1)\n",
    "\n",
    "    auc_LR = metrics.auc(fpr_LR, tpr_LR)\n",
    "    auc_LR\n",
    "    \n",
    "    result.append(auc_LR)\n",
    "    \n",
    "\n",
    "\n",
    "avg_AUC = sum(result)/len(result)\n",
    "avg_AUC"
   ]
  },
  {
   "cell_type": "code",
   "execution_count": 96,
   "metadata": {},
   "outputs": [
    {
     "data": {
      "text/plain": [
       "0.7282775824020655"
      ]
     },
     "execution_count": 96,
     "metadata": {},
     "output_type": "execute_result"
    }
   ],
   "source": [
    "np.mean(result)"
   ]
  },
  {
   "cell_type": "markdown",
   "metadata": {},
   "source": [
    "## 【問題2】グリッドサーチ"
   ]
  },
  {
   "cell_type": "code",
   "execution_count": 99,
   "metadata": {},
   "outputs": [
    {
     "name": "stderr",
     "output_type": "stream",
     "text": [
      "C:\\Users\\Takatoshi\\Anaconda3\\lib\\site-packages\\sklearn\\svm\\_base.py:231: ConvergenceWarning: Solver terminated early (max_iter=200).  Consider pre-processing your data with StandardScaler or MinMaxScaler.\n",
      "  % self.max_iter, ConvergenceWarning)\n",
      "C:\\Users\\Takatoshi\\Anaconda3\\lib\\site-packages\\sklearn\\svm\\_base.py:231: ConvergenceWarning: Solver terminated early (max_iter=200).  Consider pre-processing your data with StandardScaler or MinMaxScaler.\n",
      "  % self.max_iter, ConvergenceWarning)\n",
      "C:\\Users\\Takatoshi\\Anaconda3\\lib\\site-packages\\sklearn\\svm\\_base.py:231: ConvergenceWarning: Solver terminated early (max_iter=200).  Consider pre-processing your data with StandardScaler or MinMaxScaler.\n",
      "  % self.max_iter, ConvergenceWarning)\n",
      "C:\\Users\\Takatoshi\\Anaconda3\\lib\\site-packages\\sklearn\\svm\\_base.py:231: ConvergenceWarning: Solver terminated early (max_iter=200).  Consider pre-processing your data with StandardScaler or MinMaxScaler.\n",
      "  % self.max_iter, ConvergenceWarning)\n",
      "C:\\Users\\Takatoshi\\Anaconda3\\lib\\site-packages\\sklearn\\svm\\_base.py:231: ConvergenceWarning: Solver terminated early (max_iter=200).  Consider pre-processing your data with StandardScaler or MinMaxScaler.\n",
      "  % self.max_iter, ConvergenceWarning)\n",
      "C:\\Users\\Takatoshi\\Anaconda3\\lib\\site-packages\\sklearn\\svm\\_base.py:231: ConvergenceWarning: Solver terminated early (max_iter=200).  Consider pre-processing your data with StandardScaler or MinMaxScaler.\n",
      "  % self.max_iter, ConvergenceWarning)\n",
      "C:\\Users\\Takatoshi\\Anaconda3\\lib\\site-packages\\sklearn\\svm\\_base.py:231: ConvergenceWarning: Solver terminated early (max_iter=200).  Consider pre-processing your data with StandardScaler or MinMaxScaler.\n",
      "  % self.max_iter, ConvergenceWarning)\n",
      "C:\\Users\\Takatoshi\\Anaconda3\\lib\\site-packages\\sklearn\\svm\\_base.py:231: ConvergenceWarning: Solver terminated early (max_iter=200).  Consider pre-processing your data with StandardScaler or MinMaxScaler.\n",
      "  % self.max_iter, ConvergenceWarning)\n",
      "C:\\Users\\Takatoshi\\Anaconda3\\lib\\site-packages\\sklearn\\svm\\_base.py:231: ConvergenceWarning: Solver terminated early (max_iter=200).  Consider pre-processing your data with StandardScaler or MinMaxScaler.\n",
      "  % self.max_iter, ConvergenceWarning)\n",
      "C:\\Users\\Takatoshi\\Anaconda3\\lib\\site-packages\\sklearn\\svm\\_base.py:231: ConvergenceWarning: Solver terminated early (max_iter=200).  Consider pre-processing your data with StandardScaler or MinMaxScaler.\n",
      "  % self.max_iter, ConvergenceWarning)\n",
      "C:\\Users\\Takatoshi\\Anaconda3\\lib\\site-packages\\sklearn\\svm\\_base.py:231: ConvergenceWarning: Solver terminated early (max_iter=200).  Consider pre-processing your data with StandardScaler or MinMaxScaler.\n",
      "  % self.max_iter, ConvergenceWarning)\n",
      "C:\\Users\\Takatoshi\\Anaconda3\\lib\\site-packages\\sklearn\\svm\\_base.py:231: ConvergenceWarning: Solver terminated early (max_iter=200).  Consider pre-processing your data with StandardScaler or MinMaxScaler.\n",
      "  % self.max_iter, ConvergenceWarning)\n",
      "C:\\Users\\Takatoshi\\Anaconda3\\lib\\site-packages\\sklearn\\svm\\_base.py:231: ConvergenceWarning: Solver terminated early (max_iter=200).  Consider pre-processing your data with StandardScaler or MinMaxScaler.\n",
      "  % self.max_iter, ConvergenceWarning)\n",
      "C:\\Users\\Takatoshi\\Anaconda3\\lib\\site-packages\\sklearn\\svm\\_base.py:231: ConvergenceWarning: Solver terminated early (max_iter=200).  Consider pre-processing your data with StandardScaler or MinMaxScaler.\n",
      "  % self.max_iter, ConvergenceWarning)\n",
      "C:\\Users\\Takatoshi\\Anaconda3\\lib\\site-packages\\sklearn\\svm\\_base.py:231: ConvergenceWarning: Solver terminated early (max_iter=200).  Consider pre-processing your data with StandardScaler or MinMaxScaler.\n",
      "  % self.max_iter, ConvergenceWarning)\n",
      "C:\\Users\\Takatoshi\\Anaconda3\\lib\\site-packages\\sklearn\\svm\\_base.py:231: ConvergenceWarning: Solver terminated early (max_iter=200).  Consider pre-processing your data with StandardScaler or MinMaxScaler.\n",
      "  % self.max_iter, ConvergenceWarning)\n",
      "C:\\Users\\Takatoshi\\Anaconda3\\lib\\site-packages\\sklearn\\svm\\_base.py:231: ConvergenceWarning: Solver terminated early (max_iter=200).  Consider pre-processing your data with StandardScaler or MinMaxScaler.\n",
      "  % self.max_iter, ConvergenceWarning)\n"
     ]
    },
    {
     "data": {
      "text/plain": [
       "GridSearchCV(cv=4, error_score=nan,\n",
       "             estimator=SVC(C=1.0, break_ties=False, cache_size=200,\n",
       "                           class_weight=None, coef0=0.0,\n",
       "                           decision_function_shape='ovr', degree=3,\n",
       "                           gamma='auto', kernel='rbf', max_iter=200,\n",
       "                           probability=True, random_state=None, shrinking=True,\n",
       "                           tol=0.001, verbose=False),\n",
       "             iid='deprecated', n_jobs=None,\n",
       "             param_grid={'C': [1, 10], 'kernel': ('linear', 'rbf')},\n",
       "             pre_dispatch='2*n_jobs', refit=True, return_train_score=False,\n",
       "             scoring=None, verbose=0)"
      ]
     },
     "execution_count": 99,
     "metadata": {},
     "output_type": "execute_result"
    }
   ],
   "source": [
    "from sklearn import svm, datasets\n",
    "from sklearn.model_selection import GridSearchCV\n",
    "\n",
    "parameters = {'kernel':('linear', 'rbf'), 'C':[1, 10]}\n",
    "\n",
    "svc = svm.SVC(max_iter = 200, gamma='auto', probability = True)\n",
    "clf = GridSearchCV(svc, parameters, cv = 4)\n",
    "\n",
    "# 標準化済みデータで学習\n",
    "clf.fit(ss_X, y)"
   ]
  },
  {
   "cell_type": "code",
   "execution_count": 100,
   "metadata": {},
   "outputs": [],
   "source": [
    "best_clf = clf.best_estimator_"
   ]
  },
  {
   "cell_type": "code",
   "execution_count": 101,
   "metadata": {},
   "outputs": [
    {
     "data": {
      "text/plain": [
       "{'mean_fit_time': array([2.36973655, 4.97099608, 1.86883318, 4.99807942]),\n",
       " 'std_fit_time': array([0.03283038, 0.04312852, 0.08090139, 0.10277723]),\n",
       " 'mean_score_time': array([0.06382722, 0.16381127, 0.04612583, 0.14652818]),\n",
       " 'std_score_time': array([0.00173859, 0.00792814, 0.00333892, 0.00795704]),\n",
       " 'param_C': masked_array(data=[1, 1, 10, 10],\n",
       "              mask=[False, False, False, False],\n",
       "        fill_value='?',\n",
       "             dtype=object),\n",
       " 'param_kernel': masked_array(data=['linear', 'rbf', 'linear', 'rbf'],\n",
       "              mask=[False, False, False, False],\n",
       "        fill_value='?',\n",
       "             dtype=object),\n",
       " 'params': [{'C': 1, 'kernel': 'linear'},\n",
       "  {'C': 1, 'kernel': 'rbf'},\n",
       "  {'C': 10, 'kernel': 'linear'},\n",
       "  {'C': 10, 'kernel': 'rbf'}],\n",
       " 'split0_test_score': array([0.18279417, 0.82756337, 0.40692395, 0.59473137]),\n",
       " 'split1_test_score': array([0.26608021, 0.86823685, 0.55107832, 0.62348657]),\n",
       " 'split2_test_score': array([0.27014756, 0.78532917, 0.63502649, 0.87902005]),\n",
       " 'split3_test_score': array([0.46024689, 0.90483848, 0.43688218, 0.85044696]),\n",
       " 'mean_test_score': array([0.29481721, 0.84649197, 0.50747773, 0.73692124]),\n",
       " 'std_test_score': array([0.10167417, 0.04465516, 0.09119278, 0.12861332]),\n",
       " 'rank_test_score': array([4, 1, 3, 2])}"
      ]
     },
     "execution_count": 101,
     "metadata": {},
     "output_type": "execute_result"
    }
   ],
   "source": [
    "clf.cv_results_"
   ]
  },
  {
   "cell_type": "code",
   "execution_count": 102,
   "metadata": {},
   "outputs": [
    {
     "data": {
      "text/plain": [
       "{'C': 1, 'kernel': 'rbf'}"
      ]
     },
     "execution_count": 102,
     "metadata": {},
     "output_type": "execute_result"
    }
   ],
   "source": [
    "clf.best_params_"
   ]
  },
  {
   "cell_type": "code",
   "execution_count": 103,
   "metadata": {},
   "outputs": [
    {
     "data": {
      "text/plain": [
       "0.8464919698079931"
      ]
     },
     "execution_count": 103,
     "metadata": {},
     "output_type": "execute_result"
    }
   ],
   "source": [
    "clf.best_score_"
   ]
  },
  {
   "cell_type": "code",
   "execution_count": 108,
   "metadata": {},
   "outputs": [
    {
     "data": {
      "text/plain": [
       "array([0, 0, 0, ..., 0, 0, 0], dtype=int64)"
      ]
     },
     "execution_count": 108,
     "metadata": {},
     "output_type": "execute_result"
    }
   ],
   "source": [
    "# 最良の学習結果を算出\n",
    "y_pred = best_clf.predict(ss_X)\n",
    "y_pred"
   ]
  },
  {
   "cell_type": "code",
   "execution_count": 111,
   "metadata": {},
   "outputs": [
    {
     "name": "stdout",
     "output_type": "stream",
     "text": [
      "GridSerchのbestでのAUC = 0.46452654045976993\n"
     ]
    }
   ],
   "source": [
    "from sklearn import metrics\n",
    "fpr, tpr, thresholds = metrics.roc_curve(y, y_pred, pos_label=1)\n",
    "\n",
    "auc = metrics.auc(fpr, tpr)\n",
    "print(\"GridSerchのbestでのAUC = {}\".format(auc))"
   ]
  },
  {
   "cell_type": "code",
   "execution_count": 112,
   "metadata": {},
   "outputs": [
    {
     "data": {
      "image/png": "[encoded data removed]",
      "text/plain": [
       "<Figure size 432x288 with 1 Axes>"
      ]
     },
     "metadata": {
      "needs_background": "light"
     },
     "output_type": "display_data"
    }
   ],
   "source": [
    "import matplotlib.pyplot as plt\n",
    "%matplotlib inline\n",
    "\n",
    "# ROC曲線をプロット\n",
    "plt.plot(fpr, tpr, label='ROC curve (area = %.2f)'%auc)\n",
    "plt.legend()\n",
    "plt.title('ROC curve')\n",
    "plt.xlabel('False Positive Rate')\n",
    "plt.ylabel('True Positive Rate')\n",
    "plt.grid(True)"
   ]
  },
  {
   "cell_type": "code",
   "execution_count": 24,
   "metadata": {},
   "outputs": [
    {
     "name": "stdout",
     "output_type": "stream",
     "text": [
      "y_predict_proba = \n",
      "[[0.88587875 0.11412125]\n",
      " [0.88587875 0.11412125]\n",
      " [0.88587875 0.11412125]\n",
      " ...\n",
      " [0.88587875 0.11412125]\n",
      " [0.88587875 0.11412125]\n",
      " [0.88587875 0.11412125]]\n"
     ]
    }
   ],
   "source": [
    "# predict_probaで確率をだす。\n",
    "y_predict_proba = best_clf.predict_proba(X)\n",
    "print(\"y_predict_proba = \\n{}\".format(y_predict_proba))"
   ]
  },
  {
   "cell_type": "markdown",
   "metadata": {},
   "source": [
    "## 【問題3】Kaggle Notebooksからの調査\n",
    "KaggleのNotebooksから様々なアイデアを見つけ出して、列挙してください。"
   ]
  },
  {
   "cell_type": "markdown",
   "metadata": {},
   "source": [
    "勾配ブースティング  \n",
    "アンサンブル学習  \n",
    "・XGBoost  \n",
    "・LightGBM  \n",
    "・CatBoost  \n",
    "・DeepLearning  \n",
    "・Tree Parzen Esimator  \n",
    "・Optuna"
   ]
  },
  {
   "cell_type": "markdown",
   "metadata": {},
   "source": [
    "機械学習のコミュニティで世界的に有名なKDnuggetsによると、Kaggleで上位ランキングを取った半数以上もの勝者が「勾配ブースティング」を使った実績があると報じています。それほど勾配ブースティングは注目度の高い機械学習手法であり、今日のデータ分析競技には必須とも言える存在なのです。"
   ]
  },
  {
   "cell_type": "markdown",
   "metadata": {},
   "source": [
    "## 【問題4】高い汎化性能のモデル作成"
   ]
  },
  {
   "cell_type": "markdown",
   "metadata": {},
   "source": [
    "### ＜GridSearch + LightGBM使ってみた＞"
   ]
  },
  {
   "cell_type": "code",
   "execution_count": 25,
   "metadata": {},
   "outputs": [
    {
     "name": "stdout",
     "output_type": "stream",
     "text": [
      "Requirement already satisfied: lightgbm in c:\\users\\takatoshi\\anaconda3\\lib\\site-packages (2.3.1)\n",
      "Requirement already satisfied: scipy in c:\\users\\takatoshi\\anaconda3\\lib\\site-packages (from lightgbm) (1.4.1)\n",
      "Requirement already satisfied: numpy in c:\\users\\takatoshi\\anaconda3\\lib\\site-packages (from lightgbm) (1.18.1)\n",
      "Requirement already satisfied: scikit-learn in c:\\users\\takatoshi\\anaconda3\\lib\\site-packages (from lightgbm) (0.22.2.post1)\n",
      "Requirement already satisfied: joblib>=0.11 in c:\\users\\takatoshi\\anaconda3\\lib\\site-packages (from scikit-learn->lightgbm) (0.14.1)\n"
     ]
    }
   ],
   "source": [
    "! pip install lightgbm"
   ]
  },
  {
   "cell_type": "code",
   "execution_count": 212,
   "metadata": {},
   "outputs": [],
   "source": [
    "from sklearn.model_selection import train_test_split\n",
    "X_train, X_test, y_train, y_test = train_test_split(ss_X, y, train_size = 0.8)"
   ]
  },
  {
   "cell_type": "code",
   "execution_count": 242,
   "metadata": {},
   "outputs": [],
   "source": [
    "import lightgbm as lgb\n",
    "\n",
    "#モデルの作成、各種ハイパラメータの指定\n",
    "bst = lgb.LGBMRegressor(\n",
    "                        num_leaves = 31,\n",
    "                        learning_rate=0.01,\n",
    "                        min_child_samples=10,\n",
    "                        n_estimators=1000,\n",
    "                        max_depth=-1,\n",
    "                        )"
   ]
  },
  {
   "cell_type": "code",
   "execution_count": 243,
   "metadata": {},
   "outputs": [],
   "source": [
    "# LightGBM のハイパーパラメータ\n",
    "grid_param ={'max_depth':[2,4],\n",
    "             'num_leaves':[9,7,5],\n",
    "             'learning_rate':[0.05,0.04],\n",
    "            }\n",
    "\n",
    "# early_stoppingを使いたいので以下のような辞書をモデルを訓練する際に渡してやります。\n",
    "fit_params={'early_stopping_rounds':10, \n",
    "            'eval_metric' : 'auc', \n",
    "            'eval_set' : [(ss_X, y)],\n",
    "           }"
   ]
  },
  {
   "cell_type": "code",
   "execution_count": null,
   "metadata": {
    "scrolled": true
   },
   "outputs": [],
   "source": [
    "bst_gs_cv = GridSearchCV(\n",
    "            bst,\n",
    "            grid_param, \n",
    "            cv = 5, \n",
    "            scoring = 'roc_auc',\n",
    "            verbose = 0\n",
    "            )\n",
    "\n",
    "bst_gs_cv.fit(\n",
    "            ss_X, \n",
    "            y,\n",
    "            **fit_params,\n",
    "            verbose = 10\n",
    "            )\n"
   ]
  },
  {
   "cell_type": "code",
   "execution_count": 245,
   "metadata": {},
   "outputs": [
    {
     "name": "stdout",
     "output_type": "stream",
     "text": [
      "Best parameter: {'learning_rate': 0.04, 'max_depth': 2, 'num_leaves': 9}\n",
      "lightGBMのAUC = 0.7462694452117009\n"
     ]
    }
   ],
   "source": [
    "\n",
    "best_param = bst_gs_cv.best_params_\n",
    "print('Best parameter: {}'.format(best_param))\n",
    "\n",
    "'''\n",
    "pred2 = bst_gs_cv.predict(X)\n",
    "RMSE2 = np.sqrt(mean_squared_error(pred2, y))\n",
    "print('GridSearchCV RMSE:{}'.format(RMSE2))\n",
    "'''\n",
    "bast_score = bst_gs_cv.best_score_\n",
    "\n",
    "best_clf = bst_gs_cv.best_estimator_\n",
    "\n",
    "y_pred_lgbm = best_clf.predict(ss_X)\n",
    "\n",
    "\n",
    "\n",
    "fpr_LGBM, tpr_LGBM, thresholds_LGBM = metrics.roc_curve(y, y_pred_lgbm, pos_label=1)\n",
    "\n",
    "auc_LGBM = metrics.auc(fpr_LGBM, tpr_LGBM)\n",
    "print(\"lightGBMのAUC = {}\".format(auc_LGBM))\n",
    "\n"
   ]
  },
  {
   "cell_type": "markdown",
   "metadata": {},
   "source": [
    "### 普通にGridSearchCVを使った場合と比べて、LightGBMを使った方が精度が良くなった。"
   ]
  },
  {
   "cell_type": "markdown",
   "metadata": {},
   "source": [
    "### <Optuna + LBGM使ってみた>"
   ]
  },
  {
   "cell_type": "code",
   "execution_count": 67,
   "metadata": {},
   "outputs": [],
   "source": [
    "from sklearn.model_selection import train_test_split\n",
    "X_train, X_test, y_train, y_test = train_test_split(ss_X, y, train_size = 0.8)"
   ]
  },
  {
   "cell_type": "code",
   "execution_count": 68,
   "metadata": {},
   "outputs": [
    {
     "data": {
      "text/plain": [
       "(16915, 10)"
      ]
     },
     "execution_count": 68,
     "metadata": {},
     "output_type": "execute_result"
    }
   ],
   "source": [
    "X_test.shape"
   ]
  },
  {
   "cell_type": "code",
   "execution_count": 69,
   "metadata": {},
   "outputs": [
    {
     "data": {
      "text/plain": [
       "(16915,)"
      ]
     },
     "execution_count": 69,
     "metadata": {},
     "output_type": "execute_result"
    }
   ],
   "source": [
    "y_test.shape"
   ]
  },
  {
   "cell_type": "markdown",
   "metadata": {},
   "source": [
    "#### Optuna の拡張機能 LightGBM Tuner によるハイパーパラメータ自動最適化\n",
    "https://tech.preferred.jp/ja/blog/hyperparameter-tuning-with-optuna-integration-lightgbm-tuner/"
   ]
  },
  {
   "cell_type": "code",
   "execution_count": 235,
   "metadata": {},
   "outputs": [],
   "source": [
    "import optuna\n",
    "import optuna.integration.lightgbm as lgb\n",
    "from sklearn.metrics import mean_squared_error\n",
    "from sklearn.model_selection import StratifiedKFold\n",
    "from sklearn.model_selection import cross_validate\n",
    "\n",
    "\n",
    "dtrain = lgb.Dataset(X_train, label=y_train)\n",
    "dtest = lgb.Dataset(X_test, label=y_test)\n",
    "\n",
    "def objective(trial):\n",
    "    \n",
    "    param ={\n",
    "                'objective': 'binary',\n",
    "                'metric': 'auc',\n",
    "                'num_leaves': trial.suggest_int('num_leaves', 5, 9),\n",
    "                'max_depth': trial.suggest_int('max_depth', 2, 6),\n",
    "                'learning_rate':trial.suggest_uniform('learning_rate', 0.01, 0.06) # 0.01～0.06  \n",
    "            }\n",
    "    \n",
    "    # ハイパーパラメータのチューニング\n",
    "    best_params, tuning_history = dict(), list()\n",
    "    gbm = lgb.train(param, \n",
    "                    dtrain, \n",
    "                    valid_sets=dtest,\n",
    "                    verbose_eval=100,\n",
    "                    best_params=best_params,\n",
    "                    tuning_history=tuning_history,\n",
    "                   )\n",
    "    \n",
    "    print('Best Params:', best_params)\n",
    "    print('Tuning history:', tuning_history)\n",
    "    \n",
    "    y_preds = gbm.predict(X_test)\n",
    "    pred_labels = np.rint(y_preds)\n",
    "    \n",
    "    fpr, tpr, thresholds = metrics.roc_curve(y_test, y_preds, pos_label=1)\n",
    "\n",
    "    AUC = metrics.auc(fpr, tpr)\n",
    "    \n",
    "    # 最大化したいスコアを返す\n",
    "    return AUC\n",
    "\n"
   ]
  },
  {
   "cell_type": "code",
   "execution_count": null,
   "metadata": {},
   "outputs": [],
   "source": [
    "study = optuna.create_study(direction='maximize')\n",
    "study.optimize(objective, n_trials=5)\n",
    " \n",
    "print('Number of finished trials:', len(study.trials))\n",
    "print('Best trial:', study.best_trial.params)\n",
    "\n",
    "print('\\nBest Params:', study.best_params)\n",
    "#print('Tuning history:', study.tuning_history)"
   ]
  },
  {
   "cell_type": "code",
   "execution_count": 237,
   "metadata": {},
   "outputs": [
    {
     "name": "stdout",
     "output_type": "stream",
     "text": [
      "Best Params: {'num_leaves': 5, 'max_depth': 4, 'learning_rate': 0.03637255922912813}\n",
      "\n",
      "Best best_value: 0.738014284738066\n"
     ]
    }
   ],
   "source": [
    "print('Best Params:', study.best_params)\n",
    "print('\\nBest best_value:', study.best_value)"
   ]
  },
  {
   "cell_type": "code",
   "execution_count": 246,
   "metadata": {},
   "outputs": [
    {
     "name": "stdout",
     "output_type": "stream",
     "text": [
      "GridSerch + lightGBMのAUC = 0.7462694452117009\n"
     ]
    }
   ],
   "source": [
    "import lightgbm as lgb_original\n",
    "\n",
    "# GridSerch + LGBM での結果 （再掲）\n",
    "best_clf = bst_gs_cv.best_estimator_\n",
    "\n",
    "y_pred_lgbm = best_clf.predict(ss_X)\n",
    "\n",
    "\n",
    "fpr_LGBM, tpr_LGBM, thresholds_LGBM = metrics.roc_curve(y, y_pred_lgbm, pos_label=1)\n",
    "\n",
    "auc_LGBM = metrics.auc(fpr_LGBM, tpr_LGBM)\n",
    "print(\"GridSerch + lightGBMのAUC = {}\".format(auc_LGBM))\n"
   ]
  },
  {
   "cell_type": "code",
   "execution_count": 241,
   "metadata": {},
   "outputs": [
    {
     "name": "stdout",
     "output_type": "stream",
     "text": [
      "optuna + LightGBMのAUC = 0.7318246451136339\n"
     ]
    }
   ],
   "source": [
    "# optunaで + LGBMでの結果\n",
    "trains = lgb.Dataset(X_train, y_train)\n",
    "\n",
    "optuna_model = lgb_original.train(study.best_params, trains)\n",
    "optuna_pred = optuna_model.predict(X_test)\n",
    "optuna_fpr, optuna_tpr, optuna_thresholds = metrics.roc_curve(y_test, optuna_pred, pos_label=1)\n",
    "\n",
    "optuna_AUC = metrics.auc(optuna_fpr, optuna_tpr)\n",
    "print(\"optuna + LightGBMのAUC = {}\".format(optuna_AUC))"
   ]
  },
  {
   "cell_type": "code",
   "execution_count": 253,
   "metadata": {},
   "outputs": [
    {
     "name": "stdout",
     "output_type": "stream",
     "text": [
      "TRAIN: [16915 16916 16917 ... 84572 84573 84574] TEST: [    0     1     2 ... 16912 16913 16914]\n",
      "TRAIN: [    0     1     2 ... 84572 84573 84574] TEST: [16915 16916 16917 ... 33827 33828 33829]\n",
      "TRAIN: [    0     1     2 ... 84572 84573 84574] TEST: [33830 33831 33832 ... 50742 50743 50744]\n",
      "TRAIN: [    0     1     2 ... 84572 84573 84574] TEST: [50745 50746 50747 ... 67657 67658 67659]\n",
      "TRAIN: [    0     1     2 ... 67657 67658 67659] TEST: [67660 67661 67662 ... 84572 84573 84574]\n"
     ]
    },
    {
     "data": {
      "text/plain": [
       "0.7275530640262782"
      ]
     },
     "execution_count": 253,
     "metadata": {},
     "output_type": "execute_result"
    }
   ],
   "source": [
    "# optuna + LGBM + クロスバリデーションでの結果\n",
    "from sklearn.model_selection import KFold\n",
    "from sklearn.neighbors import KNeighborsClassifier\n",
    "from sklearn.linear_model import LinearRegression as LR\n",
    "from sklearn.preprocessing import StandardScaler\n",
    "from sklearn import metrics\n",
    "\n",
    "kf = KFold(n_splits=5)\n",
    "kf.get_n_splits(ss_X)\n",
    "\n",
    "result = []\n",
    "# データ分割\n",
    "for train_index, test_index in kf.split(ss_X):\n",
    "    print(\"TRAIN:\", train_index, \"TEST:\", test_index)\n",
    "    X_train, X_test = ss_X[train_index], ss_X[test_index]\n",
    "    y_train, y_test = y[train_index], y[test_index]\n",
    "    \n",
    "\n",
    "    # 標準化\n",
    "    ss = StandardScaler()\n",
    "    ss.fit(X_train)\n",
    "    ss_X_train = ss.transform(X_train)\n",
    "    ss_X_test = ss.transform(X_test)\n",
    "    \n",
    "    trains = lgb.Dataset(ss_X_train, y_train)\n",
    "\n",
    "    optuna_model = lgb_original.train(study.best_params, trains, num_boost_round=100)\n",
    "    optuna_pred = optuna_model.predict(X_test)\n",
    "    optuna_fpr, optuna_tpr, optuna_thresholds = metrics.roc_curve(y_test, optuna_pred, pos_label=1)\n",
    "\n",
    "    optuna_AUC = metrics.auc(optuna_fpr, optuna_tpr)\n",
    "    \n",
    "    result.append(optuna_AUC)\n",
    "    \n",
    "avg_AUC = np.mean(result)\n",
    "avg_AUC"
   ]
  },
  {
   "cell_type": "markdown",
   "metadata": {},
   "source": [
    "以上の結果を表にまとめると"
   ]
  },
  {
   "cell_type": "markdown",
   "metadata": {},
   "source": [
    "</pre>\n",
    "<table>\n",
    "\t<tr>\n",
    "\t\t<td></td>\n",
    "\t\t<td><center></center></td>\n",
    "\t\t<td><center></center></td>\n",
    "\t</tr>\n",
    "\t<tr>\n",
    "\t\t<td></td>\n",
    "\t\t<td><center>AUC</center></td>\n",
    "\t\t<td><center>順位</center></td>\n",
    "\t</tr>\n",
    "\t<tr>\n",
    "\t\t<td>クロスバリデーション</td>\n",
    "\t\t<td rowspan=\"2\">0.72827758</td>\n",
    "\t\t<td rowspan=\"2\">4</td>\n",
    "\t</tr>\n",
    "\t<tr>\n",
    "\t\t<td>KNeighborsClassifier</td>\n",
    "\t</tr>\n",
    "\t<tr>\n",
    "\t\t<td>グリッドサーチ</td>\n",
    "\t\t<td rowspan=\"2\">0.46452654</td>\n",
    "\t\t<td rowspan=\"2\">5</td>\n",
    "\t</tr>\n",
    "\t<tr>\n",
    "\t\t<td>SVC</td>\n",
    "\t</tr>\n",
    "\t<tr>\n",
    "\t\t<td>グリッドサーチ</td>\n",
    "\t\t<td rowspan=\"2\">0.74626945</td>\n",
    "\t\t<td rowspan=\"2\">1</td>\n",
    "\t</tr>\n",
    "\t<tr>\n",
    "\t\t<td>LightGBM</td>\n",
    "\t</tr>\n",
    "\t<tr>\n",
    "\t\t<td>Optuna</td>\n",
    "\t\t<td rowspan=\"2\">0.73182465</td>\n",
    "\t\t<td rowspan=\"2\">2</td>\n",
    "\t</tr>\n",
    "\t<tr>\n",
    "\t\t<td>LightGBM</td>\n",
    "\t</tr>\n",
    "\t<tr>\n",
    "\t\t<td>Optuna</td>\n",
    "\t\t<td rowspan=\"2\">0.72755306</td>\n",
    "\t\t<td rowspan=\"2\">3</td>\n",
    "\t</tr>\n",
    "\t<tr>\n",
    "\t\t<td>LightGBM+クロスバリデーション</td>\n",
    "\t</tr>\n",
    "</table>\n",
    "\n"
   ]
  },
  {
   "cell_type": "markdown",
   "metadata": {},
   "source": [
    "となり、AUCの精度が高いものから、  \n",
    "①グリッドサーチ　＋　LightGBM  \n",
    "②Optuna　＋　LightGBM  \n",
    "③Optuna　＋　LightGBM　＋　クロスバリデーション  \n",
    "④クロスバリデーション　＋　KNeighborsClassifier  \n",
    "⑤グリッドサーチ　＋　SVC  \n",
    "という結果になった。"
   ]
  },
  {
   "cell_type": "markdown",
   "metadata": {},
   "source": [
    "## 【問題5】最終的なモデルの選定\n",
    "最終的にこれは良いというモデルを選び、推定した結果をKaggleに提出してスコアを確認してください。  \n",
    "どういったアイデアを取り入れ、どの程度のスコアになったかを記載してください。"
   ]
  },
  {
   "cell_type": "markdown",
   "metadata": {},
   "source": [
    "問題４で一番精度の高かったグリッドサーチ＋LightGBMでKaggle提出する"
   ]
  },
  {
   "cell_type": "code",
   "execution_count": 259,
   "metadata": {},
   "outputs": [],
   "source": [
    "from sklearn.preprocessing import StandardScaler\n",
    "\n",
    "# ワンホットエンコーディング\n",
    "df_one_hot_test = pd.get_dummies(df_test)\n",
    "\n",
    "# 欠損地を平均値で穴埋め\n",
    "df_test_submission = df_one_hot_test.fillna(df_one_hot_test.mean())\n",
    "\n",
    "# 学習したものと同じカラム数に指定\n",
    "df_test_submission = df_test_submission[abs(df_corr[\"TARGET\"]).sort_values(ascending=False)[1:11].index]\n",
    "\n",
    "# ndarrayへ変換\n",
    "X_submission = np.array(df_test_submission)\n",
    "\n",
    "# 標準化\n",
    "ss_sub = StandardScaler()\n",
    "ss_sub.fit(X_submission)\n",
    "ss_X_submission = ss_sub.transform(X_submission)"
   ]
  },
  {
   "cell_type": "code",
   "execution_count": 261,
   "metadata": {},
   "outputs": [
    {
     "name": "stdout",
     "output_type": "stream",
     "text": [
      "Best parameter: {'learning_rate': 0.04, 'max_depth': 2, 'num_leaves': 9}\n"
     ]
    },
    {
     "data": {
      "text/plain": [
       "array([0.09831535, 0.0850722 , 0.01106098, ..., 0.07989131, 0.02225887,\n",
       "       0.11058329])"
      ]
     },
     "execution_count": 261,
     "metadata": {},
     "output_type": "execute_result"
    }
   ],
   "source": [
    "best_param = bst_gs_cv.best_params_\n",
    "print('Best parameter: {}'.format(best_param))\n",
    "\n",
    "bast_score = bst_gs_cv.best_score_\n",
    "\n",
    "best_clf = bst_gs_cv.best_estimator_\n",
    "\n",
    "y_pred_lgbm_test = best_clf.predict(ss_X_submission)\n",
    "\n",
    "y_pred_lgbm_test"
   ]
  },
  {
   "cell_type": "code",
   "execution_count": 266,
   "metadata": {},
   "outputs": [],
   "source": [
    "import pandas as pd\n",
    "\n",
    "# 変数バックアップ\n",
    "y_submit = y_pred_lgbm_test\n",
    "\n",
    "# 0以下の値は0に置換\n",
    "y_submit = np.where(y_submit < 0, 0, y_submit)\n",
    "\n",
    "df_y_pred = pd.DataFrame(y_submit.reshape(-1,1))\n",
    "df_submission = pd.concat([df_test.iloc[:,0], df_y_pred], axis = 1)\n",
    "\n",
    "df_submission.columns = [\"SK_ID_CURR\",\"TARGET\"]"
   ]
  },
  {
   "cell_type": "code",
   "execution_count": 267,
   "metadata": {},
   "outputs": [
    {
     "data": {
      "text/html": [
       "<div>\n",
       "<style scoped>\n",
       "    .dataframe tbody tr th:only-of-type {\n",
       "        vertical-align: middle;\n",
       "    }\n",
       "\n",
       "    .dataframe tbody tr th {\n",
       "        vertical-align: top;\n",
       "    }\n",
       "\n",
       "    .dataframe thead th {\n",
       "        text-align: right;\n",
       "    }\n",
       "</style>\n",
       "<table border=\"1\" class=\"dataframe\">\n",
       "  <thead>\n",
       "    <tr style=\"text-align: right;\">\n",
       "      <th></th>\n",
       "      <th>SK_ID_CURR</th>\n",
       "      <th>TARGET</th>\n",
       "    </tr>\n",
       "  </thead>\n",
       "  <tbody>\n",
       "    <tr>\n",
       "      <th>0</th>\n",
       "      <td>100001</td>\n",
       "      <td>0.098315</td>\n",
       "    </tr>\n",
       "    <tr>\n",
       "      <th>1</th>\n",
       "      <td>100005</td>\n",
       "      <td>0.085072</td>\n",
       "    </tr>\n",
       "    <tr>\n",
       "      <th>2</th>\n",
       "      <td>100013</td>\n",
       "      <td>0.011061</td>\n",
       "    </tr>\n",
       "    <tr>\n",
       "      <th>3</th>\n",
       "      <td>100028</td>\n",
       "      <td>0.044094</td>\n",
       "    </tr>\n",
       "    <tr>\n",
       "      <th>4</th>\n",
       "      <td>100038</td>\n",
       "      <td>0.057814</td>\n",
       "    </tr>\n",
       "    <tr>\n",
       "      <th>...</th>\n",
       "      <td>...</td>\n",
       "      <td>...</td>\n",
       "    </tr>\n",
       "    <tr>\n",
       "      <th>48739</th>\n",
       "      <td>456221</td>\n",
       "      <td>0.027617</td>\n",
       "    </tr>\n",
       "    <tr>\n",
       "      <th>48740</th>\n",
       "      <td>456222</td>\n",
       "      <td>0.037229</td>\n",
       "    </tr>\n",
       "    <tr>\n",
       "      <th>48741</th>\n",
       "      <td>456223</td>\n",
       "      <td>0.079891</td>\n",
       "    </tr>\n",
       "    <tr>\n",
       "      <th>48742</th>\n",
       "      <td>456224</td>\n",
       "      <td>0.022259</td>\n",
       "    </tr>\n",
       "    <tr>\n",
       "      <th>48743</th>\n",
       "      <td>456250</td>\n",
       "      <td>0.110583</td>\n",
       "    </tr>\n",
       "  </tbody>\n",
       "</table>\n",
       "<p>48744 rows × 2 columns</p>\n",
       "</div>"
      ],
      "text/plain": [
       "       SK_ID_CURR    TARGET\n",
       "0          100001  0.098315\n",
       "1          100005  0.085072\n",
       "2          100013  0.011061\n",
       "3          100028  0.044094\n",
       "4          100038  0.057814\n",
       "...           ...       ...\n",
       "48739      456221  0.027617\n",
       "48740      456222  0.037229\n",
       "48741      456223  0.079891\n",
       "48742      456224  0.022259\n",
       "48743      456250  0.110583\n",
       "\n",
       "[48744 rows x 2 columns]"
      ]
     },
     "execution_count": 267,
     "metadata": {},
     "output_type": "execute_result"
    }
   ],
   "source": [
    "df_submission"
   ]
  },
  {
   "cell_type": "code",
   "execution_count": 269,
   "metadata": {},
   "outputs": [],
   "source": [
    "# 提出ファイルの作成\n",
    "df_submission.to_csv(\"lgbm_submit.csv\", index = False)"
   ]
  },
  {
   "cell_type": "markdown",
   "metadata": {},
   "source": [
    "Kaggle提出結果はscore = 0.68217 であった。  \n",
    "testデータの推定結果にマイナス値を含んでおり、０にクリップしているが、これがscoreを低くしていると考えられる。  \n",
    "\n",
    "試しにoptuna + LGBM で提出してみる。"
   ]
  },
  {
   "cell_type": "code",
   "execution_count": 270,
   "metadata": {},
   "outputs": [
    {
     "data": {
      "text/plain": [
       "array([0.12117031, 0.08298171, 0.01988039, ..., 0.07495501, 0.03115673,\n",
       "       0.10190999])"
      ]
     },
     "execution_count": 270,
     "metadata": {},
     "output_type": "execute_result"
    }
   ],
   "source": [
    "# optunaで + LGBMでの結果\n",
    "trains = lgb.Dataset(X_train, y_train)\n",
    "\n",
    "optuna_pred = optuna_model.predict(ss_X_submission)\n",
    "optuna_pred"
   ]
  },
  {
   "cell_type": "code",
   "execution_count": 271,
   "metadata": {},
   "outputs": [],
   "source": [
    "df_y_pred = pd.DataFrame(optuna_pred.reshape(-1,1))\n",
    "df_sub_optuna = pd.concat([df_test.iloc[:,0], df_y_pred], axis = 1)\n",
    "\n",
    "df_sub_optuna.columns = [\"SK_ID_CURR\",\"TARGET\"]"
   ]
  },
  {
   "cell_type": "code",
   "execution_count": 273,
   "metadata": {},
   "outputs": [],
   "source": [
    "# 提出ファイルの作成\n",
    "df_sub_optuna.to_csv(\"optuna_lgbm.csv\", index = False)"
   ]
  },
  {
   "cell_type": "markdown",
   "metadata": {},
   "source": [
    "Kaggle提出結果は、score = 0.68962 であり、testデータの推定結果にマイナス値を含んでいないので、０クリップする必要が無く、  \n",
    "そのため、GridSerch＋LGBMよりscoreが高くなった。"
   ]
  },
  {
   "cell_type": "markdown",
   "metadata": {},
   "source": [
    "結果としては、前回Kaggle提出したRidge回帰版が一番scoreが高い状況なので、  \n",
    "GridSerch＋Ridge回帰が高scoreとなるかもしれない。それはまた別の機会に。"
   ]
  },
  {
   "cell_type": "code",
   "execution_count": null,
   "metadata": {},
   "outputs": [],
   "source": []
  }
 ],
 "metadata": {
  "kernelspec": {
   "display_name": "Python 3",
   "language": "python",
   "name": "python3"
  },
  "language_info": {
   "codemirror_mode": {
    "name": "ipython",
    "version": 3
   },
   "file_extension": ".py",
   "mimetype": "text/x-python",
   "name": "python",
   "nbconvert_exporter": "python",
   "pygments_lexer": "ipython3",
   "version": "3.7.7"
  }
 },
 "nbformat": 4,
 "nbformat_minor": 2
}
