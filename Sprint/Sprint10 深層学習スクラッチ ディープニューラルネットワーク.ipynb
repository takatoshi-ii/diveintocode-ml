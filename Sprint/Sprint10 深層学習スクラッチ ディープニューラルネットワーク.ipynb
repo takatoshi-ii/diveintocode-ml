{
 "cells": [
  {
   "cell_type": "markdown",
   "metadata": {},
   "source": [
    "# Sprint10 深層学習スクラッチ ディープニューラルネットワーク"
   ]
  },
  {
   "cell_type": "markdown",
   "metadata": {},
   "source": [
    "# 1.このSprintについて"
   ]
  },
  {
   "cell_type": "markdown",
   "metadata": {},
   "source": [
    "## Sprintの目的\n",
    "スクラッチを通してニューラルネットワークの発展的内容を理解する"
   ]
  },
  {
   "cell_type": "markdown",
   "metadata": {},
   "source": [
    "## どのように学ぶか\n",
    "スクラッチで作成したニューラルネットワークの実装を拡張していきます。"
   ]
  },
  {
   "cell_type": "markdown",
   "metadata": {},
   "source": [
    "# 2.ディープニューラルネットワークスクラッチ\n",
    "前回は3層のニューラルネットワークを作成しましたが、今回はこれを任意の層数に拡張しやすいものに書き換えていきます。その上で、活性化関数や初期値、最適化手法について発展的なものを扱えるようにしていきます。\n",
    "\n",
    "\n",
    "このようなスクラッチを行うことで、今後各種フレームワークを利用していくにあたり、内部の動きが想像できることを目指します。\n",
    "\n",
    "\n",
    "名前は新しくScratchDeepNeuralNetrowkClassifierクラスとしてください。\n",
    "\n",
    "層などのクラス化\n",
    "クラスにまとめて行くことで、構成を変更しやすい実装にしていきます。\n",
    "\n",
    "\n",
    "#### 手を加える箇所\n",
    "\n",
    "\n",
    "・層の数  \n",
    "・層の種類（今後畳み込み層など他のタイプの層が登場する）  \n",
    "・活性化関数の種類  \n",
    "・重みやバイアスの初期化方法  \n",
    "・最適化手法  \n",
    "\n",
    "そのために、全結合層、各種活性化関数、重みやバイアスの初期化、最適化手法それぞれのクラスを作成します。\n",
    "\n",
    "\n",
    "実装方法は自由ですが、簡単な例を紹介します。サンプルコード1のように全結合層と活性化関数のインスタンスを作成し、サンプルコード2,3のようにして使用します。それぞれのクラスについてはこのあと解説します。\n",
    "\n",
    "#### 《サンプルコード1》\n",
    "\n",
    "ScratchDeepNeuralNetrowkClassifierのfitメソッド内"
   ]
  },
  {
   "cell_type": "markdown",
   "metadata": {},
   "source": [
    "```python\n",
    "# self.sigma : ガウス分布の標準偏差\n",
    "# self.lr : 学習率\n",
    "# self.n_nodes1 : 1層目のノード数\n",
    "# self.n_nodes2 : 2層目のノード数\n",
    "# self.n_output : 出力層のノード数\n",
    "optimizer = SGD(self.lr)\n",
    "self.FC1 = FC(self.n_features, self.n_nodes1, SimpleInitializer(self.sigma), optimizer)\n",
    "self.activation1 = Tanh()\n",
    "self.FC2 = FC(self.n_nodes1, self.n_nodes2, SimpleInitializer(self.sigma), optimizer)\n",
    "self.activation2 = Tanh()\n",
    "self.FC3 = FC(self.n_nodes2, self.n_output, SimpleInitializer(self.sigma), optimizer)\n",
    "self.activation3 = Softmax()\n",
    "```"
   ]
  },
  {
   "cell_type": "code",
   "execution_count": null,
   "metadata": {},
   "outputs": [],
   "source": []
  },
  {
   "cell_type": "markdown",
   "metadata": {},
   "source": [
    "#### 《サンプルコード2》\n",
    "\n",
    "\n",
    "イテレーションごとのフォワード"
   ]
  },
  {
   "cell_type": "markdown",
   "metadata": {},
   "source": [
    "```python\n",
    "A1 = self.FC1.forward(X)\n",
    "Z1 = self.activation1.forward(A1)\n",
    "A2 = self.FC2.forward(Z1)\n",
    "Z2 = self.activation2.forward(A2)\n",
    "A3 = self.FC3.forward(Z2)\n",
    "Z3 = self.activation3.forward(A3)\n",
    "```"
   ]
  },
  {
   "cell_type": "markdown",
   "metadata": {},
   "source": [
    "#### 《サンプルコード3》\n",
    "\n",
    "\n",
    "イテレーションごとのバックワード"
   ]
  },
  {
   "cell_type": "markdown",
   "metadata": {},
   "source": [
    "```python\n",
    "dA3 = self.activation3.backward(Z3, Y) # 交差エントロピー誤差とソフトマックスを合わせている\n",
    "dZ2 = self.FC3.backward(dA3)\n",
    "dA2 = self.activation2.backward(dZ2)\n",
    "dZ1 = self.FC2.backward(dA2)\n",
    "dA1 = self.activation1.backward(dZ1)\n",
    "dZ0 = self.FC1.backward(dA1) # dZ0は使用しない\n",
    "```"
   ]
  },
  {
   "cell_type": "markdown",
   "metadata": {},
   "source": [
    "## 【問題1】全結合層のクラス化\n",
    "\n",
    "全結合層のクラス化を行なってください。\n",
    "\n",
    "\n",
    "以下に雛形を載せました。コンストラクタで重みやバイアスの初期化をして、あとはフォワードとバックワードのメソッドを用意します。重みW、バイアスB、およびフォワード時の入力Xをインスタンス変数として保持しておくことで、煩雑な入出力は不要になります。\n",
    "\n",
    "\n",
    "なお、インスタンスも引数として渡すことができます。そのため、初期化方法のインスタンスinitializerをコンストラクタで受け取れば、それにより初期化が行われます。渡すインスタンスを変えれば、初期化方法が変えられます。\n",
    "\n",
    "\n",
    "また、引数として自身のインスタンスselfを渡すこともできます。これを利用してself.optimizer.update(self)という風に層の重みの更新が可能です。更新に必要な値は複数ありますが、全て全結合層が持つインスタンス変数にすることができます。\n",
    "\n",
    "\n",
    "初期化方法と最適化手法のクラスについては後述します。\n",
    "\n",
    "\n",
    "#### 《雛形》"
   ]
  },
  {
   "cell_type": "code",
   "execution_count": 97,
   "metadata": {},
   "outputs": [],
   "source": [
    "class FC:\n",
    "    \"\"\"\n",
    "    ノード数n_nodes1からn_nodes2への全結合層\n",
    "    Parameters\n",
    "    ----------\n",
    "    n_nodes1 : int\n",
    "      前の層のノード数\n",
    "    n_nodes2 : int\n",
    "      後の層のノード数\n",
    "    initializer : 初期化方法のインスタンス\n",
    "    optimizer : 最適化手法のインスタンス\n",
    "    \"\"\"\n",
    "    def __init__(self, n_nodes1, n_nodes2, initializer, optimizer):\n",
    "        self.optimizer = optimizer\n",
    "        # 初期化\n",
    "        self.network = {}\n",
    "        self.network[\"W\"] = initializer.W(n_nodes1, n_nodes2)\n",
    "        self.network[\"B\"] = initializer.B(n_nodes2)\n",
    "        self.A = 0\n",
    "        self.grad = {}\n",
    "        self.X = 0\n",
    "\n",
    "        pass\n",
    "    def forward(self, X):\n",
    "        \"\"\"\n",
    "        フォワード\n",
    "        Parameters\n",
    "        ----------\n",
    "        X : 次の形のndarray, shape (batch_size, n_nodes1)\n",
    "            入力\n",
    "        Returns\n",
    "        ----------\n",
    "        A : 次の形のndarray, shape (batch_size, n_nodes2)\n",
    "            出力\n",
    "        \"\"\"        \n",
    "        # 自層への入力\n",
    "        A =  np.dot(X, self.network[\"W\"] ) + self.network[\"B\"]\n",
    "        self.X = X\n",
    "\n",
    "        return A\n",
    "    \n",
    "    def backward(self, dA):\n",
    "        \"\"\"\n",
    "        バックワード\n",
    "        Parameters\n",
    "        ----------\n",
    "        dA : 次の形のndarray, shape (batch_size, n_nodes2)\n",
    "            後ろから流れてきた勾配\n",
    "        Returns\n",
    "        ----------\n",
    "        dZ : 次の形のndarray, shape (batch_size, n_nodes1)\n",
    "            前に流す勾配\n",
    "        \"\"\"\n",
    "\n",
    "        # bの勾配\n",
    "        self.grad[\"B\"] = np.sum(dA, axis=0)\n",
    "\n",
    "        # Wの勾配       \n",
    "        self.grad[\"W\"]= np.dot(self.X.T, dA)\n",
    "    \n",
    "        # 次層へのデルタ\n",
    "        dZ = np.dot(dA, self.network[\"W\"].T)\n",
    "    \n",
    "        # 更新\n",
    "        self = self.optimizer.update(self)\n",
    "        return dZ\n",
    "    "
   ]
  },
  {
   "cell_type": "code",
   "execution_count": null,
   "metadata": {},
   "outputs": [],
   "source": []
  },
  {
   "cell_type": "markdown",
   "metadata": {},
   "source": [
    "## 【問題2】初期化方法のクラス化\n",
    "\n",
    "初期化を行うコードをクラス化してください。\n",
    "\n",
    "\n",
    "前述のように、全結合層のコンストラクタに初期化方法のインスタンスを渡せるようにします。以下の雛形に必要なコードを書き加えていってください。標準偏差の値（sigma）はコンストラクタで受け取るようにすることで、全結合層のクラス内にこの値（sigma）を渡さなくてすむようになります。\n",
    "\n",
    "\n",
    "これまで扱ってきた初期化方法はSimpleInitializerクラスと名付けることにします。\n",
    "\n",
    "\n",
    "#### 《雛形》"
   ]
  },
  {
   "cell_type": "code",
   "execution_count": 4,
   "metadata": {},
   "outputs": [],
   "source": [
    "class SimpleInitializer:\n",
    "    \"\"\"\n",
    "    ガウス分布によるシンプルな初期化\n",
    "    Parameters\n",
    "    ----------\n",
    "    sigma : float\n",
    "      ガウス分布の標準偏差\n",
    "    \"\"\"\n",
    "    def __init__(self, sigma):\n",
    "        self.sigma = sigma\n",
    "        \n",
    "    def W(self, n_nodes1, n_nodes2):\n",
    "        \"\"\"\n",
    "        重みの初期化\n",
    "        Parameters\n",
    "        ----------\n",
    "        n_nodes1 : int\n",
    "          前の層のノード数\n",
    "        n_nodes2 : int\n",
    "          後の層のノード数\n",
    "\n",
    "        Returns\n",
    "        ----------\n",
    "        W :\n",
    "        \"\"\"\n",
    "        W = self.sigma * np.random.randn(n_nodes1, n_nodes2)\n",
    "        #print(\"W.shape = \", W.shape)\n",
    "        return W\n",
    "    \n",
    "    def B(self, n_nodes2):\n",
    "        \"\"\"\n",
    "        バイアスの初期化\n",
    "        Parameters\n",
    "        ----------\n",
    "        n_nodes2 : int\n",
    "          後の層のノード数\n",
    "\n",
    "        Returns\n",
    "        ----------\n",
    "        B :\n",
    "        \"\"\"\n",
    "\n",
    "        B = np.zeros(n_nodes2)\n",
    "\n",
    "        return B\n",
    "    "
   ]
  },
  {
   "cell_type": "markdown",
   "metadata": {},
   "source": [
    "## 【問題6】重みの初期値\n",
    "ここまでは重みやバイアスの初期値は単純にガウス分布で、標準偏差をハイパーパラメータとして扱ってきました。しかし、どのような値にすると良いかが知られています。シグモイド関数やハイパボリックタンジェント関数のときは Xavierの初期値 （またはGlorotの初期値）、ReLUのときは Heの初期値 が使われます。\n",
    "\n",
    "\n",
    "XavierInitializerクラスと、HeInitializerクラスを作成してください。\n",
    "\n",
    "Xavierの初期値\n",
    "Xavierの初期値における標準偏差 $\\sigma$ は次の式で求められます。\n",
    "\n",
    "$$\n",
    "\\sigma = \\frac{1}{\\sqrt{n}}\n",
    "$$\n",
    "$n$ : 前の層のノード数\n",
    "\n",
    "\n",
    "《論文》\n",
    "\n",
    "\n",
    "Glorot, X., & Bengio, Y. (n.d.). Understanding the difficulty of training deep feedforward neural networks.\n",
    "\n",
    "Heの初期値\n",
    "Heの初期値における標準偏差 \\sigma は次の式で求められます。\n",
    "\n",
    "$$\n",
    "\\sigma = \\sqrt{\\frac{2}{n}}\n",
    "$$\n",
    "$n$ : 前の層のノード数\n",
    "\n",
    "\n",
    "#### 《論文》\n",
    "\n",
    "\n",
    "He, K., Zhang, X., Ren, S., & Sun, J. (2015). Delving Deep into Rectifiers: Surpassing Human-Level Performance on ImageNet Classification.\n",
    "\n",
    "\n",
    "\n"
   ]
  },
  {
   "cell_type": "code",
   "execution_count": 192,
   "metadata": {},
   "outputs": [],
   "source": [
    "class XavierInitializer:\n",
    "    \"\"\"\n",
    "    ガウス分布によるシンプルな初期化\n",
    "    Parameters\n",
    "    ----------\n",
    "    sigma : float\n",
    "      ガウス分布の標準偏差\n",
    "    \"\"\"\n",
    "    def __init__(self, sigma):\n",
    "        print(\"★★★XavierInitializer\")\n",
    "        self.sigma = sigma\n",
    "\n",
    "    def W(self, n_nodes1, n_nodes2):\n",
    "        \"\"\"\n",
    "        重みの初期化\n",
    "        Parameters\n",
    "        ----------\n",
    "        n_nodes1 : int\n",
    "          前の層のノード数\n",
    "        n_nodes2 : int\n",
    "          後の層のノード数\n",
    "\n",
    "        Returns\n",
    "        ----------\n",
    "        W :\n",
    "        \"\"\"\n",
    "        print(\"★★★XavierInitializer: W Set\")\n",
    "        self.n_nodes1 = n_nodes1\n",
    "        self.W = np.random.rand(n_nodes1, n_nodes2) / np.sqrt(n_nodes1)     \n",
    "\n",
    "        return self.W\n",
    "    \n",
    "    def B(self, n_nodes2):\n",
    "        \"\"\"\n",
    "        バイアスの初期化\n",
    "        Parameters\n",
    "        ----------\n",
    "        n_nodes2 : int\n",
    "          後の層のノード数\n",
    "\n",
    "        Returns\n",
    "        ----------\n",
    "        B :\n",
    "        \"\"\"\n",
    "        print(\"★★★XavierInitializer: B Set\")\n",
    "        self.B = np.random.randn(n_nodes2) \n",
    "        \n",
    "        return self.B\n",
    "    "
   ]
  },
  {
   "cell_type": "code",
   "execution_count": 193,
   "metadata": {},
   "outputs": [],
   "source": [
    "class HeInitializer:\n",
    "    \"\"\"\n",
    "    ガウス分布によるシンプルな初期化\n",
    "    Parameters\n",
    "    ----------\n",
    "    sigma : float\n",
    "      ガウス分布の標準偏差\n",
    "    \"\"\"\n",
    "    def __init__(self, sigma):\n",
    "        self.sigma = sigma\n",
    "        \n",
    "    def W(self, n_nodes1, n_nodes2):\n",
    "        \"\"\"\n",
    "        重みの初期化\n",
    "        Parameters\n",
    "        ----------\n",
    "        n_nodes1 : int\n",
    "          前の層のノード数\n",
    "        n_nodes2 : int\n",
    "          後の層のノード数\n",
    "\n",
    "        Returns\n",
    "        ----------\n",
    "        W :\n",
    "        \"\"\"\n",
    "        W = np.random.rand(n_nodes1, n_nodes2) * np.sqrt(2 /n_nodes1)\n",
    "\n",
    "        return W\n",
    "    \n",
    "    def B(self, n_nodes2):\n",
    "        \"\"\"\n",
    "        バイアスの初期化\n",
    "        Parameters\n",
    "        ----------\n",
    "        n_nodes2 : int\n",
    "          後の層のノード数\n",
    "\n",
    "        Returns\n",
    "        ----------\n",
    "        B :\n",
    "        \"\"\"\n",
    "        B = np.random.randn(n_nodes2)\n",
    "        return B\n",
    "    "
   ]
  },
  {
   "cell_type": "code",
   "execution_count": null,
   "metadata": {},
   "outputs": [],
   "source": []
  },
  {
   "cell_type": "markdown",
   "metadata": {},
   "source": [
    "## 【問題4】活性化関数のクラス化\n",
    "活性化関数のクラス化を行なってください。\n",
    "\n",
    "\n",
    "ソフトマックス関数のバックプロパゲーションには交差エントロピー誤差の計算も含む実装を行うことで計算が簡略化されます。\n",
    "\n",
    "#### 発展的要素\n",
    "\n",
    "活性化関数や重みの初期値、最適化手法に関してこれまで見てきた以外のものを実装していきます。"
   ]
  },
  {
   "cell_type": "code",
   "execution_count": 7,
   "metadata": {},
   "outputs": [],
   "source": [
    "class Sigmoid:\n",
    "    \"\"\"\n",
    "    活性化関数：sigmoid\n",
    "    Parameters\n",
    "    ----------\n",
    "    A : 活性化関数への入力\n",
    "    \"\"\"\n",
    "    def __init__(self):\n",
    "        self.Z = 0\n",
    "        pass\n",
    "        \n",
    "    def forward(self, A):\n",
    "        self.Z = 1/(1 + np.exp(-A))\n",
    "        return self.Z\n",
    "    \n",
    "    def backward(self, dZ):\n",
    "        dx = dZ * (1.0 - self.Z) * self.Z\n",
    "        return dx\n",
    "    \n",
    "    \n",
    "    '''\n",
    "    def d_sigmoid(self, x):\n",
    "        dx = (1.0 - self.sigmoid(x)) * self.sigmoid(x)\n",
    "        \n",
    "        # 2層でのデルタ\n",
    "        delta2 = np.dot(delta3, W3.T) * functions.d_sigmoid(z2)\n",
    "        delta2 = np.dot(delta3, W3.T) * (1.0 - self.sigmoid(x)) * self.sigmoid(x)\n",
    "    '''"
   ]
  },
  {
   "cell_type": "code",
   "execution_count": 8,
   "metadata": {},
   "outputs": [],
   "source": [
    "class Tanh:\n",
    "    \"\"\"\n",
    "    活性化関数：sigmoid\n",
    "    Parameters\n",
    "    ----------\n",
    "    A : 活性化関数への入力\n",
    "    \"\"\"\n",
    "    def __init__(self):\n",
    "        self.A = 0\n",
    "        \n",
    "    def forward(self, A):\n",
    "        self.A = A\n",
    "        return np.tanh(A)\n",
    "    \n",
    "    def backward(self, dZ):\n",
    "        dx = dZ * (1.0 - self.forward(self.A)**2)\n",
    "        return dx"
   ]
  },
  {
   "cell_type": "code",
   "execution_count": 9,
   "metadata": {},
   "outputs": [],
   "source": [
    "class Softmax:\n",
    "    \"\"\"\n",
    "    活性化関数：softmax\n",
    "    Parameters\n",
    "    ----------\n",
    "    A : 活性化関数への入力\n",
    "    \"\"\"\n",
    "    def __init__(self):\n",
    "        pass\n",
    "        \n",
    "    def forward(self, A):\n",
    "        if A.ndim == 2:\n",
    "            A = A.T\n",
    "            A = A - np.max(A, axis=0)\n",
    "            y = np.exp(A) / np.sum(np.exp(A), axis=0)\n",
    "            return y.T\n",
    "\n",
    "        A = A - np.max(A) # オーバーフロー対策\n",
    "        return np.exp(A) / np.sum(np.exp(A))\n",
    "    \n",
    "    def backward(self, y, y_pred):\n",
    "        batch_size = y.shape[0]   \n",
    "        if y.size == y_pred.size: # 教師データがone-hot-vectorの場合\n",
    "            dx = (y_pred - y) / batch_size\n",
    "        else:\n",
    "            dx = y.copy()\n",
    "            dx[np.arange(batch_size), y] -= 1\n",
    "            dx = dx / batch_size\n",
    "            \n",
    "        return dx\n"
   ]
  },
  {
   "cell_type": "code",
   "execution_count": null,
   "metadata": {},
   "outputs": [],
   "source": []
  },
  {
   "cell_type": "markdown",
   "metadata": {},
   "source": [
    "## 【問題5】ReLUクラスの作成\n",
    "\n",
    "現在一般的に使われている活性化関数であるReLU（Rectified Linear Unit）をReLUクラスとして実装してください。\n",
    "\n",
    "\n",
    "ReLUは以下の数式です。\n",
    "\n",
    "$$\n",
    "% <![CDATA[\n",
    "f(x) = ReLU(x) = \\begin{cases}\n",
    "x  & \\text{if $x>0$,}\\\\\n",
    "0 & \\text{if $x\\leqq0$.}\n",
    "\\end{cases} %]]>\n",
    "$$\n",
    "$x$ : ある特徴量。スカラー\n",
    "\n",
    "\n",
    "実装上はnp.maximumを使い配列に対してまとめて計算が可能です。\n",
    "\n",
    "\n",
    "numpy.maximum — NumPy v1.15 Manual\n",
    "\n",
    "\n",
    "一方、バックプロパゲーションのための $x$ に関する $f(x)$ の微分は以下のようになります。\n",
    "\n",
    "$$\n",
    "% <![CDATA[\n",
    "\\frac{\\partial f(x)}{\\partial x} = \\begin{cases}\n",
    "1  & \\text{if $x>0$,}\\\\\n",
    "0 & \\text{if $x\\leqq0$.}\n",
    "\\end{cases} %]]>\n",
    "$$\n",
    "数学的には微分可能ではないですが、 $x=0$ のとき $0$ とすることで対応しています。\n",
    "\n",
    "\n",
    "フォワード時の $x$ の正負により、勾配を逆伝播するかどうかが決まるということになります。\n",
    "\n"
   ]
  },
  {
   "cell_type": "code",
   "execution_count": 106,
   "metadata": {},
   "outputs": [],
   "source": [
    "class Relu:\n",
    "    \"\"\"\n",
    "    活性化関数：relu\n",
    "    Parameters\n",
    "    ----------\n",
    "    A : 活性化関数への入力\n",
    "    \"\"\"\n",
    "    def __init__(self):\n",
    "        self.A = 0\n",
    "        \n",
    "    def forward(self, A):\n",
    "        self.A = A\n",
    "        Z = np.maximum(0, A)\n",
    "        return Z\n",
    "    \n",
    "    def backward(self, Z):\n",
    "        dx = np.where(self.A > 0, Z, 0)\n",
    "        return dx"
   ]
  },
  {
   "cell_type": "code",
   "execution_count": null,
   "metadata": {},
   "outputs": [],
   "source": []
  },
  {
   "cell_type": "markdown",
   "metadata": {},
   "source": [
    "## 【問題3】最適化手法のクラス化\n",
    "\n",
    "最適化手法のクラス化を行なってください。\n",
    "\n",
    "\n",
    "最適化手法に関しても初期化方法同様に全結合層にインスタンスとして渡します。バックワードのときにself.optimizer.update(self)のように更新できるようにします。以下の雛形に必要なコードを書き加えていってください。\n",
    "\n",
    "\n",
    "これまで扱ってきた最適化手法はSGDクラス（Stochastic Gradient Descent、確率的勾配降下法）として作成します。\n",
    "\n",
    "\n",
    "#### 雛形"
   ]
  },
  {
   "cell_type": "markdown",
   "metadata": {},
   "source": [
    "```python\n",
    "class SGD:\n",
    "    \"\"\"\n",
    "    確率的勾配降下法\n",
    "    Parameters\n",
    "    ----------\n",
    "    lr : 学習率\n",
    "    \"\"\"\n",
    "    def __init__(self, lr):\n",
    "        self.lr = lr\n",
    "        \n",
    "    def update(self, layer):\n",
    "        \"\"\"\n",
    "        ある層の重みやバイアスの更新\n",
    "        Parameters\n",
    "        ----------\n",
    "        layer : 更新前の層のインスタンス\n",
    "        \"\"\"\n",
    "```"
   ]
  },
  {
   "cell_type": "code",
   "execution_count": 172,
   "metadata": {},
   "outputs": [],
   "source": [
    "class SGD:\n",
    "    \"\"\"\n",
    "    確率的勾配降下法\n",
    "    Parameters\n",
    "    ----------\n",
    "    lr : 学習率\n",
    "    \"\"\"\n",
    "    def __init__(self, lr):\n",
    "        self.lr = lr\n",
    "        \n",
    "    def update(self, layer):\n",
    "        \"\"\"\n",
    "        ある層の重みやバイアスの更新\n",
    "        Parameters\n",
    "        ----------\n",
    "        layer : 更新前の層のインスタンス\n",
    "        \"\"\"\n",
    "        # SGD =====================================================\n",
    "        for key in ('W','B'):\n",
    "            layer.network[key] -= self.lr * layer.grad[key] \n",
    "        \n",
    "        return layer"
   ]
  },
  {
   "cell_type": "markdown",
   "metadata": {},
   "source": [
    "## 【問題7】最適化手法"
   ]
  },
  {
   "cell_type": "markdown",
   "metadata": {},
   "source": [
    "学習率は学習過程で変化させていく方法が一般的です。基本的な手法である AdaGrad のクラスを作成してください。\n",
    "\n",
    "\n",
    "まず、これまで使ってきたSGDを確認します。\n",
    "\n",
    "$$\n",
    "W_i^{\\prime} = W_i - \\alpha E(\\frac{\\partial L}{\\partial W_i}) \\\\\n",
    "B_i^{\\prime} = B_i - \\alpha E(\\frac{\\partial L}{\\partial B_i})\n",
    "$$\n",
    "$\\alpha$ : 学習率（層ごとに変えることも可能だが、基本的には全て同じとする）\n",
    "\n",
    "\n",
    "$\\frac{\\partial L}{\\partial W_i}$ : $W_i$ に関する損失 $L$ の勾配\n",
    "\n",
    "\n",
    "$\\frac{\\partial L}{\\partial B_i}$ : $B_i$ に関する損失 $L$ の勾配\n",
    "\n",
    "\n",
    "$E()$ : ミニバッチ方向にベクトルの平均を計算\n",
    "\n",
    "\n",
    "続いて、AdaGradです。バイアスの数式は省略しますが、重みと同様のことをします。\n",
    "\n",
    "\n",
    "更新された分だけその重みに対する学習率を徐々に下げていきます。イテレーションごとの勾配の二乗和 H を保存しておき、その分だけ学習率を小さくします。\n",
    "\n",
    "\n",
    "学習率は重み一つひとつに対して異なることになります。\n",
    "\n",
    "$$\n",
    "H_i^{\\prime}  = H_i+E(\\frac{\\partial L}{\\partial W_i})×E(\\frac{\\partial L}{\\partial W_i})\\\\\n",
    "W_i^{\\prime} = W_i - \\alpha \\frac{1}{\\sqrt{H_i^{\\prime} }} E(\\frac{\\partial L}{\\partial W_i}) \\\\\n",
    "$$\n",
    "$H_i$ : i層目に関して、前のイテレーションまでの勾配の二乗和（初期値は0）\n",
    "\n",
    "\n",
    "$H_i^{\\prime}$ : 更新した $H_i$\n",
    "《論文》\n",
    "\n",
    "\n",
    "Duchi JDUCHI, J., & Singer, Y. (2011). Adaptive Subgradient Methods for Online Learning and Stochastic Optimization * Elad Hazan. Journal of Machine Learning Research (Vol. 12).\n",
    "\n"
   ]
  },
  {
   "cell_type": "code",
   "execution_count": 255,
   "metadata": {},
   "outputs": [],
   "source": [
    "class AdaGrad:\n",
    "    \"\"\"\n",
    "    確率的勾配降下法\n",
    "    Parameters\n",
    "    ----------\n",
    "    lr : 学習率\n",
    "    \"\"\"\n",
    "    \n",
    "    def __init__(self, lr):\n",
    "        self.lr = lr        \n",
    "        self.h = {}\n",
    "        self.initial = True\n",
    "        self.log_flg = True\n",
    "        self.i_cnt = 0\n",
    "        '''\n",
    "        for key in ('W', 'B'):\n",
    "            self.h[key] = 0  \n",
    "        '''\n",
    "    \n",
    "    def update(self, layer):\n",
    "\n",
    "        if self.initial == True:\n",
    "            print(\"self.h is None\")\n",
    "            self.h = {}\n",
    "            self.h[\"W\"] = np.zeros_like(layer.network[\"W\"])    \n",
    "            self.h[\"B\"] = np.zeros_like(layer.network[\"B\"])     \n",
    "            self.initial = False\n",
    "                    \n",
    "        for key in (layer.network.keys()):\n",
    "            '''\n",
    "            if self.i_cnt < 0:\n",
    "                print(\"self.i_cnt = \", self.i_cnt)\n",
    "                print(\"key = \", key)\n",
    "                print(\"layer.grad[key].shape = \", layer.grad[key].shape)\n",
    "                print(\"self.h[key].shape = \", self.h[key].shape)\n",
    "                self.i_cnt += 1\n",
    "            '''\n",
    "                \n",
    "            self.h[key] += np.square(layer.grad[key])\n",
    "            layer.network[key] -= self.lr * layer.grad[key] / (np.sqrt(self.h[key]) + 1e-7)  \n",
    "            \n",
    "        return layer"
   ]
  },
  {
   "cell_type": "code",
   "execution_count": 292,
   "metadata": {},
   "outputs": [],
   "source": [
    "class Adam:\n",
    "    \"\"\"\n",
    "    確率的勾配降下法\n",
    "    Parameters\n",
    "    ----------\n",
    "    lr : 学習率\n",
    "    \"\"\"\n",
    "    \n",
    "    def __init__(self, lr):\n",
    "        self.lr = lr        \n",
    "        self.h = {}\n",
    "        self.initial = True\n",
    "        self.log_flg = True\n",
    "        self.i_cnt = 0\n",
    "    \n",
    "    def update(self, layer):\n",
    "        beta1 = 0.9\n",
    "        beta2 = 0.999 \n",
    "        if self.initial == True:\n",
    "            print(\"self.h initial\")\n",
    "            self.m = {}\n",
    "            self.v = {}\n",
    "            for key in (layer.network.keys()):\n",
    "                self.m[key] = np.zeros_like(layer.network[key])    \n",
    "                self.v[key] = np.zeros_like(layer.network[key]) \n",
    "\n",
    "            self.initial = False\n",
    "\n",
    "        learning_rate_t  = self.lr * np.sqrt(1.0 - beta2 ** (self.i_cnt + 1)) / (1.0 - beta1 ** (self.i_cnt + 1))    \n",
    "\n",
    "        for key in (layer.network.keys()):\n",
    "            self.m[key] += (1 - beta1) * (layer.grad[key] - self.m[key])\n",
    "            self.v[key] += (1 - beta2) * (layer.grad[key] ** 2 - self.v[key])            \n",
    "            layer.network[key] -= learning_rate_t * self.m[key] / (np.sqrt(self.v[key]) + 1e-7)      \n",
    "\n",
    "        self.i_cnt += 1\n",
    "            \n",
    "        return layer"
   ]
  },
  {
   "cell_type": "markdown",
   "metadata": {},
   "source": [
    "### ミニバッチクラス"
   ]
  },
  {
   "cell_type": "code",
   "execution_count": 13,
   "metadata": {},
   "outputs": [],
   "source": [
    "class GetMiniBatch:\n",
    "    \"\"\"\n",
    "    ミニバッチを取得するイテレータ\n",
    "\n",
    "    Parameters\n",
    "    ----------\n",
    "    X : 次の形のndarray, shape (n_samples, n_features)\n",
    "      訓練データ\n",
    "    y : 次の形のndarray, shape (n_samples, 1)\n",
    "      正解値\n",
    "    batch_size : int\n",
    "      バッチサイズ\n",
    "    seed : int\n",
    "      NumPyの乱数のシード\n",
    "    \"\"\"\n",
    "    def __init__(self, X, y, batch_size = 20, seed=0):\n",
    "        self.batch_size = batch_size\n",
    "        np.random.seed(seed)\n",
    "        shuffle_index = np.random.permutation(np.arange(X.shape[0]))\n",
    "        self._X = X[shuffle_index]\n",
    "        self._y = y[shuffle_index]\n",
    "        self._stop = np.ceil(X.shape[0]/self.batch_size).astype(np.int)\n",
    "    def __len__(self):\n",
    "        return self._stop\n",
    "    def __getitem__(self,item):\n",
    "        p0 = item*self.batch_size\n",
    "        p1 = item*self.batch_size + self.batch_size\n",
    "        return self._X[p0:p1], self._y[p0:p1]        \n",
    "    def __iter__(self):\n",
    "        self._counter = 0\n",
    "        return self\n",
    "    def __next__(self):\n",
    "        if self._counter >= self._stop:\n",
    "            raise StopIteration()\n",
    "        p0 = self._counter*self.batch_size\n",
    "        p1 = self._counter*self.batch_size + self.batch_size\n",
    "        self._counter += 1\n",
    "        return self._X[p0:p1], self._y[p0:p1]"
   ]
  },
  {
   "cell_type": "code",
   "execution_count": null,
   "metadata": {},
   "outputs": [],
   "source": []
  },
  {
   "cell_type": "code",
   "execution_count": 14,
   "metadata": {},
   "outputs": [],
   "source": [
    "class loss_function:\n",
    "# クロスエントロピー\n",
    "    def cross_entropy_error(self, d, y):\n",
    "        if y.ndim == 1:\n",
    "            d = d.reshape(1, d.size)\n",
    "            y = y.reshape(1, y.size)\n",
    "\n",
    "        # 教師データがone-hot-vectorの場合、正解ラベルのインデックスに変換\n",
    "        if d.size == y.size:\n",
    "            d = d.argmax(axis=1)\n",
    "\n",
    "        batch_size = y.shape[0]\n",
    "        return -np.sum(np.log(y[np.arange(batch_size), d] + 1e-7)) / batch_size"
   ]
  },
  {
   "cell_type": "code",
   "execution_count": null,
   "metadata": {},
   "outputs": [],
   "source": []
  },
  {
   "cell_type": "markdown",
   "metadata": {},
   "source": [
    "## 2.MNISTデータセット"
   ]
  },
  {
   "cell_type": "code",
   "execution_count": 15,
   "metadata": {},
   "outputs": [
    {
     "name": "stderr",
     "output_type": "stream",
     "text": [
      "Using TensorFlow backend.\n",
      "C:\\Users\\Takatoshi\\anaconda3\\lib\\site-packages\\tensorflow\\python\\framework\\dtypes.py:526: FutureWarning: Passing (type, 1) or '1type' as a synonym of type is deprecated; in a future version of numpy, it will be understood as (type, (1,)) / '(1,)type'.\n",
      "  _np_qint8 = np.dtype([(\"qint8\", np.int8, 1)])\n",
      "C:\\Users\\Takatoshi\\anaconda3\\lib\\site-packages\\tensorflow\\python\\framework\\dtypes.py:527: FutureWarning: Passing (type, 1) or '1type' as a synonym of type is deprecated; in a future version of numpy, it will be understood as (type, (1,)) / '(1,)type'.\n",
      "  _np_quint8 = np.dtype([(\"quint8\", np.uint8, 1)])\n",
      "C:\\Users\\Takatoshi\\anaconda3\\lib\\site-packages\\tensorflow\\python\\framework\\dtypes.py:528: FutureWarning: Passing (type, 1) or '1type' as a synonym of type is deprecated; in a future version of numpy, it will be understood as (type, (1,)) / '(1,)type'.\n",
      "  _np_qint16 = np.dtype([(\"qint16\", np.int16, 1)])\n",
      "C:\\Users\\Takatoshi\\anaconda3\\lib\\site-packages\\tensorflow\\python\\framework\\dtypes.py:529: FutureWarning: Passing (type, 1) or '1type' as a synonym of type is deprecated; in a future version of numpy, it will be understood as (type, (1,)) / '(1,)type'.\n",
      "  _np_quint16 = np.dtype([(\"quint16\", np.uint16, 1)])\n",
      "C:\\Users\\Takatoshi\\anaconda3\\lib\\site-packages\\tensorflow\\python\\framework\\dtypes.py:530: FutureWarning: Passing (type, 1) or '1type' as a synonym of type is deprecated; in a future version of numpy, it will be understood as (type, (1,)) / '(1,)type'.\n",
      "  _np_qint32 = np.dtype([(\"qint32\", np.int32, 1)])\n",
      "C:\\Users\\Takatoshi\\anaconda3\\lib\\site-packages\\tensorflow\\python\\framework\\dtypes.py:535: FutureWarning: Passing (type, 1) or '1type' as a synonym of type is deprecated; in a future version of numpy, it will be understood as (type, (1,)) / '(1,)type'.\n",
      "  np_resource = np.dtype([(\"resource\", np.ubyte, 1)])\n"
     ]
    }
   ],
   "source": [
    "from keras.datasets import mnist\n",
    "(X_train, y_train), (X_test, y_test) = mnist.load_data()"
   ]
  },
  {
   "cell_type": "code",
   "execution_count": 16,
   "metadata": {},
   "outputs": [],
   "source": [
    "X_train = X_train.reshape(-1, 784)\n",
    "X_test = X_test.reshape(-1, 784)"
   ]
  },
  {
   "cell_type": "code",
   "execution_count": null,
   "metadata": {},
   "outputs": [],
   "source": []
  },
  {
   "cell_type": "code",
   "execution_count": 17,
   "metadata": {},
   "outputs": [],
   "source": [
    "from keras.datasets import mnist\n",
    "import matplotlib.pyplot as plt\n",
    "%matplotlib inline\n",
    "import numpy as np\n",
    "from sklearn.preprocessing import OneHotEncoder\n",
    "from sklearn.model_selection import train_test_split\n",
    "from sklearn.metrics import accuracy_score, precision_score, recall_score, f1_score"
   ]
  },
  {
   "cell_type": "markdown",
   "metadata": {},
   "source": [
    "## 【問題8】クラスの完成\n",
    "\n",
    "任意の構成で学習と推定が行えるScratchDeepNeuralNetrowkClassifierクラスを完成させてください。\n"
   ]
  },
  {
   "cell_type": "code",
   "execution_count": 281,
   "metadata": {},
   "outputs": [],
   "source": [
    "from sklearn.preprocessing import OneHotEncoder  \n",
    "class ScratchDeepNeuralNetrowkClassifier:\n",
    "      \n",
    "    \n",
    "    def __init__(self, lr, n_features = 784, n_nodes1 = 400, \n",
    "                 n_nodes2 = 200, n_output = 10, sigma = 0.03, epoch = 50, verbose = False, Initializer = \"simple\", optimizer = \"SGD\", activation = \"Sigmoid\"):\n",
    "        # self.sigma : ガウス分布の標準偏差\n",
    "        # self.lr : 学習率\n",
    "        # self.n_nodes1 : 1層目のノード数\n",
    "        # self.n_nodes2 : 2層目のノード数\n",
    "        # self.n_output : 出力層のノード数\n",
    "        self.lr = lr\n",
    "        self.sigma = sigma\n",
    "        self.n_features = n_features\n",
    "        self.n_nodes1 = n_nodes1\n",
    "        self.n_nodes2 = n_nodes2\n",
    "        self.n_output = n_output   \n",
    "        self.batch_size = 20 # バッチサイズ\n",
    "        self.epoch = epoch\n",
    "        self.train_loss_list = []\n",
    "        self.test_loss_list = []\n",
    "        self.verbose = verbose\n",
    "        self.sigma = sigma\n",
    "        self.Initializer = Initializer\n",
    "        self.optimizer = optimizer\n",
    "        self.activation = activation\n",
    "        \n",
    "    def fit(self, X, y, X_val=None, y_val=None):\n",
    "\n",
    "        # 活性化関数のインスタンス化\n",
    "        if self.activation == \"Tanh\":\n",
    "            self.activation1 = Tanh()        \n",
    "            self.activation2 = Tanh()        \n",
    "            \n",
    "        elif self.activation == \"Sigmoid\":\n",
    "            self.activation1 = Sigmoid()        \n",
    "            self.activation2 = Sigmoid() \n",
    "            \n",
    "        elif self.activation == \"Relu\":\n",
    "            self.activation1 = Relu()        \n",
    "            self.activation2 = Relu()             \n",
    "            \n",
    "            \n",
    "        self.activation3 = Softmax()        \n",
    "        \n",
    "        # 最適化手法のインスタンス化\n",
    "        if self.optimizer == \"SGD\":\n",
    "            optimizer1 = SGD(self.lr)   \n",
    "            optimizer2 = SGD(self.lr) \n",
    "            optimizer3 = SGD(self.lr) \n",
    "        elif self.optimizer == \"AdaGrad\":\n",
    "            optimizer1 = AdaGrad(self.lr)   \n",
    "            optimizer2 = AdaGrad(self.lr)  \n",
    "            optimizer3 = AdaGrad(self.lr)  \n",
    "        elif self.optimizer == \"Adam\":\n",
    "            optimizer1 = Adam(self.lr)   \n",
    "            optimizer2 = Adam(self.lr)  \n",
    "            optimizer3 = Adam(self.lr)  \n",
    "        \n",
    "        # 全結合層のインスタンス化\n",
    "        if self.Initializer == \"simple\":\n",
    "            self.FC1 = FC(self.n_features, self.n_nodes1, SimpleInitializer(self.sigma), optimizer1)\n",
    "            self.FC2 = FC(self.n_nodes1, self.n_nodes2, SimpleInitializer(self.sigma), optimizer2)\n",
    "            self.FC3 = FC(self.n_nodes2, self.n_output, SimpleInitializer(self.sigma), optimizer3)\n",
    "        \n",
    "        elif self.Initializer == \"Xavier\":\n",
    "            self.FC1 = FC(self.n_features, self.n_nodes1, XavierInitializer(self.sigma), optimizer1)\n",
    "            self.FC2 = FC(self.n_nodes1, self.n_nodes2, XavierInitializer(self.sigma), optimizer2)\n",
    "            self.FC3 = FC(self.n_nodes2, self.n_output, XavierInitializer(self.sigma), optimizer3)\n",
    "        \n",
    "        elif self.Initializer == \"He\":\n",
    "            self.FC1 = FC(self.n_features, self.n_nodes1, HeInitializer(self.sigma), optimizer1)\n",
    "            self.FC2 = FC(self.n_nodes1, self.n_nodes2, HeInitializer(self.sigma), optimizer2)\n",
    "            self.FC3 = FC(self.n_nodes2, self.n_output, HeInitializer(self.sigma), optimizer3)\n",
    "        \n",
    "        print(\"Learning Start!\")\n",
    "        \n",
    "        # one-hot-vectol化\n",
    "        enc = OneHotEncoder(handle_unknown='ignore', sparse=False)\n",
    "        y_train_one_hot = enc.fit_transform(y[:, np.newaxis])\n",
    "        \n",
    "        if y_val is not None:\n",
    "            y_test_one_hot = enc.transform(y_val[:, np.newaxis])\n",
    "        \n",
    "        # 学習回数のカウンタ\n",
    "        learning_cnt = 0\n",
    "        \n",
    "        loss_func = loss_function()\n",
    "        \n",
    "        \n",
    "        for i in range(self.epoch):\n",
    "            # ミニバッチ取得\n",
    "            get_mini_batch = GetMiniBatch(X, y_train_one_hot, batch_size = self.batch_size)\n",
    "            \n",
    "            # すべてのミニバッチを抜ける前に直前の値をバックアップしておく(グラフ用に)\n",
    "            train_loss_batch = []\n",
    "            test_loss_batch = []\n",
    "            for mini_X_train, mini_y_train in get_mini_batch:\n",
    "                # このfor文内でミニバッチが使える\n",
    "                \n",
    "                z1, z2, z3 = self._forward(mini_X_train)                \n",
    "                \n",
    "                grad = self._backward(z3, mini_y_train)\n",
    "                \n",
    "                learning_cnt += 1\n",
    "                \n",
    "                # ミニバッチ内のロスを格納\n",
    "                train_loss_batch.append(loss_func.cross_entropy_error(mini_y_train, z3))\n",
    "     \n",
    "\n",
    "            # loss計算\n",
    "            # ミニバッチ内のロスの平均を取る\n",
    "            train_loss_mean = np.array(train_loss_batch).mean()\n",
    "            self.train_loss_list.append(train_loss_mean)\n",
    "\n",
    "            # test_loss の初期化\n",
    "            test_loss = 0\n",
    "            if X_val is not None:\n",
    "                z1, z2, y_test_pred = self._forward(X_val)\n",
    "                test_loss = loss_func.cross_entropy_error(y_test_one_hot, y_test_pred)\n",
    "                self.test_loss_list.append(test_loss)\n",
    "\n",
    "            # test_loss差分表示処理\n",
    "            if len(self.test_loss_list) == 1:\n",
    "                diff = 0\n",
    "            else:\n",
    "                diff = -1 * (self.test_loss_list[-2] - self.test_loss_list[-1])\n",
    "            \n",
    "            if self.verbose:\n",
    "                #verboseをTrueにした際は学習過程などを出力する\n",
    "                print(\"Epoch Count = {}, train_loss = {:.5f}, test_loss = {:.5f}, diff = {}\".format(i+1, train_loss_mean, test_loss, diff))\n",
    "                \n",
    "        print(\"Learning Finish!\")\n",
    "        \n",
    "        \n",
    "    def predict(self, X):\n",
    "        \"\"\"\n",
    "        ニューラルネットワーク分類器を使い推定する。\n",
    "\n",
    "        Parameters\n",
    "        ----------\n",
    "        X : 次の形のndarray, shape (n_samples, n_features)\n",
    "            サンプル\n",
    "\n",
    "        Returns\n",
    "        -------\n",
    "            次の形のndarray, shape (n_samples, 1)\n",
    "            推定結果\n",
    "        \"\"\"\n",
    "        z1, z2, y_test_pred = self._forward(X)\n",
    "\n",
    "        y_pred = np.argmax(y_test_pred, axis = 1)\n",
    "        return y_pred\n",
    "    \n",
    "        \n",
    "        \n",
    "    # 順伝播\n",
    "    def _forward(self, X):\n",
    "        A1 = self.FC1.forward(X)\n",
    "        Z1 = self.activation1.forward(A1)\n",
    "        A2 = self.FC2.forward(Z1)\n",
    "        Z2 = self.activation2.forward(A2)\n",
    "        A3 = self.FC3.forward(Z2)\n",
    "        Z3 = self.activation3.forward(A3)\n",
    "        \n",
    "        return Z1, Z2, Z3\n",
    "        \n",
    "    # 誤差逆伝播\n",
    "    def _backward(self, Z3, Y):\n",
    "        dA3 = self.activation3.backward(Y, Z3) # 交差エントロピー誤差とソフトマックスを合わせている\n",
    "        dZ2 = self.FC3.backward(dA3)\n",
    "        dA2 = self.activation2.backward(dZ2)\n",
    "        dZ1 = self.FC2.backward(dA2)\n",
    "        dA1 = self.activation1.backward(dZ1)\n",
    "        dZ0 = self.FC1.backward(dA1) # dZ0は使用しない\n",
    "        \n",
    "        "
   ]
  },
  {
   "cell_type": "markdown",
   "metadata": {},
   "source": [
    "## 【問題9】学習と推定\n",
    "\n",
    "層の数や活性化関数を変えたいくつかのネットワークを作成してください。そして、MNISTのデータを学習・推定し、Accuracyを計算してください。"
   ]
  },
  {
   "cell_type": "markdown",
   "metadata": {},
   "source": [
    "### ＜活性化関数で比較＞"
   ]
  },
  {
   "cell_type": "markdown",
   "metadata": {},
   "source": [
    "#### ＜学習率：0.001、標準偏差：0.03、活性化関数：Tanh＞"
   ]
  },
  {
   "cell_type": "code",
   "execution_count": 40,
   "metadata": {},
   "outputs": [
    {
     "name": "stdout",
     "output_type": "stream",
     "text": [
      "Learning Start!\n",
      "Epoch Count = 1, train_loss = 1.108732526926793, test_loss = 0.5634714938742567, diff = 0\n",
      "Epoch Count = 2, train_loss = 0.4610766555085664, test_loss = 0.37424500925968796, diff = -0.1892264846145687\n",
      "Epoch Count = 3, train_loss = 0.3457877507720263, test_loss = 0.30612818741223863, diff = -0.06811682184744933\n",
      "Epoch Count = 4, train_loss = 0.29280528542811557, test_loss = 0.2718191918138464, diff = -0.03430899559839223\n",
      "Epoch Count = 5, train_loss = 0.26059235029300304, test_loss = 0.2483694633776242, diff = -0.0234497284362222\n",
      "Epoch Count = 6, train_loss = 0.23511785540633157, test_loss = 0.2275901182145039, diff = -0.0207793451631203\n",
      "Epoch Count = 7, train_loss = 0.2157990629628154, test_loss = 0.21551119389135814, diff = -0.012078924323145751\n",
      "Epoch Count = 8, train_loss = 0.20007844875139408, test_loss = 0.20307133183271522, diff = -0.01243986205864292\n",
      "Epoch Count = 9, train_loss = 0.18822931757127784, test_loss = 0.1896147971053855, diff = -0.013456534727329716\n",
      "Epoch Count = 10, train_loss = 0.17445082733942224, test_loss = 0.18259781251820412, diff = -0.007016984587181391\n",
      "Epoch Count = 11, train_loss = 0.16784193017794757, test_loss = 0.17158301370444837, diff = -0.01101479881375575\n",
      "Epoch Count = 12, train_loss = 0.1584227058430414, test_loss = 0.16938798386068912, diff = -0.002195029843759244\n",
      "Epoch Count = 13, train_loss = 0.14912662605087906, test_loss = 0.16268680628871596, diff = -0.006701177571973166\n",
      "Epoch Count = 14, train_loss = 0.14357923197922942, test_loss = 0.15906216649912863, diff = -0.003624639789587325\n",
      "Epoch Count = 15, train_loss = 0.1350155207863053, test_loss = 0.15218006391836436, diff = -0.006882102580764271\n",
      "Epoch Count = 16, train_loss = 0.13138307351414033, test_loss = 0.14880202421313918, diff = -0.003378039705225183\n",
      "Epoch Count = 17, train_loss = 0.12629460554327981, test_loss = 0.14359961627243586, diff = -0.005202407940703313\n",
      "Epoch Count = 18, train_loss = 0.1230950617140275, test_loss = 0.13806116066152166, diff = -0.005538455610914206\n",
      "Epoch Count = 19, train_loss = 0.11945365434546674, test_loss = 0.13847942449235587, diff = 0.00041826383083420904\n",
      "Epoch Count = 20, train_loss = 0.11238991921351722, test_loss = 0.1328644733217789, diff = -0.005614951170576976\n",
      "Epoch Count = 21, train_loss = 0.10999157329780743, test_loss = 0.13441878225492898, diff = 0.0015543089331500892\n",
      "Epoch Count = 22, train_loss = 0.10594091231582475, test_loss = 0.12482211347172563, diff = -0.009596668783203352\n",
      "Epoch Count = 23, train_loss = 0.10122095899880852, test_loss = 0.12661838464595215, diff = 0.0017962711742265242\n",
      "Epoch Count = 24, train_loss = 0.10141452652304209, test_loss = 0.12633752351903615, diff = -0.00028086112691599885\n",
      "Epoch Count = 25, train_loss = 0.09640805085888042, test_loss = 0.1212333640629463, diff = -0.005104159456089857\n",
      "Epoch Count = 26, train_loss = 0.09326357864299696, test_loss = 0.12068295288093646, diff = -0.0005504111820098384\n",
      "Epoch Count = 27, train_loss = 0.09054628556825482, test_loss = 0.11804040447024508, diff = -0.0026425484106913782\n",
      "Epoch Count = 28, train_loss = 0.09002790653345054, test_loss = 0.11519351719070443, diff = -0.002846887279540647\n",
      "Epoch Count = 29, train_loss = 0.08819970568151268, test_loss = 0.11763689547275002, diff = 0.0024433782820455913\n",
      "Epoch Count = 30, train_loss = 0.08432683030308014, test_loss = 0.11707424676570076, diff = -0.0005626487070492653\n",
      "Epoch Count = 31, train_loss = 0.08311929989165694, test_loss = 0.11383825061727142, diff = -0.003235996148429343\n",
      "Epoch Count = 32, train_loss = 0.08050417596790663, test_loss = 0.10836547746595261, diff = -0.005472773151318805\n",
      "Epoch Count = 33, train_loss = 0.07868784570487149, test_loss = 0.10700270761896831, diff = -0.001362769846984302\n",
      "Epoch Count = 34, train_loss = 0.07337010093761971, test_loss = 0.10739805106886267, diff = 0.0003953434498943642\n",
      "Epoch Count = 35, train_loss = 0.07136936866637376, test_loss = 0.10745602370062243, diff = 5.7972631759758975e-05\n",
      "Epoch Count = 36, train_loss = 0.07182021322235467, test_loss = 0.1063141633831696, diff = -0.0011418603174528363\n",
      "Epoch Count = 37, train_loss = 0.06935079751029495, test_loss = 0.10176807316806964, diff = -0.004546090215099954\n",
      "Epoch Count = 38, train_loss = 0.06804239170174878, test_loss = 0.09923149547875332, diff = -0.0025365776893163244\n",
      "Epoch Count = 39, train_loss = 0.06580969422530329, test_loss = 0.09987444352770412, diff = 0.000642948048950806\n",
      "Epoch Count = 40, train_loss = 0.0664910665182765, test_loss = 0.10206980836909688, diff = 0.0021953648413927523\n",
      "Epoch Count = 41, train_loss = 0.06497410733998292, test_loss = 0.09781799727531827, diff = -0.004251811093778604\n",
      "Epoch Count = 42, train_loss = 0.06389883394224077, test_loss = 0.1017431273035586, diff = 0.003925130028240326\n",
      "Epoch Count = 43, train_loss = 0.0640225209464153, test_loss = 0.10048354863894068, diff = -0.0012595786646179136\n",
      "Epoch Count = 44, train_loss = 0.060980334701358135, test_loss = 0.10118103573847773, diff = 0.0006974870995370419\n",
      "Epoch Count = 45, train_loss = 0.05880870671678655, test_loss = 0.09580741064768367, diff = -0.00537362509079406\n",
      "Epoch Count = 46, train_loss = 0.055788030970913234, test_loss = 0.09726041448242767, diff = 0.0014530038347440044\n",
      "Epoch Count = 47, train_loss = 0.05530645805014741, test_loss = 0.09713879618108821, diff = -0.00012161830133945728\n",
      "Epoch Count = 48, train_loss = 0.05755272478156642, test_loss = 0.09468071601852616, diff = -0.0024580801625620485\n",
      "Epoch Count = 49, train_loss = 0.054454049001543096, test_loss = 0.09149615195120027, diff = -0.0031845640673258957\n",
      "Epoch Count = 50, train_loss = 0.05320300254304318, test_loss = 0.09417433875972588, diff = 0.0026781868085256066\n",
      "Learning Finish!\n"
     ]
    }
   ],
   "source": [
    "ScratchDNN = ScratchDeepNeuralNetrowkClassifier(lr = 0.001, n_nodes1 = 400, n_nodes2 = 200, n_output = 10, \n",
    "                                                epoch = 50, verbose = True, sigma = 0.03)\n",
    "ScratchDNN.fit(X_train, y_train, X_test, y_test)"
   ]
  },
  {
   "cell_type": "code",
   "execution_count": 41,
   "metadata": {},
   "outputs": [
    {
     "data": {
      "text/plain": [
       "array([7, 2, 1, ..., 4, 5, 6], dtype=int64)"
      ]
     },
     "execution_count": 41,
     "metadata": {},
     "output_type": "execute_result"
    }
   ],
   "source": [
    "y_pred = ScratchDNN.predict(X_test)\n",
    "y_pred"
   ]
  },
  {
   "cell_type": "code",
   "execution_count": 42,
   "metadata": {},
   "outputs": [
    {
     "data": {
      "text/html": [
       "<div>\n",
       "<style scoped>\n",
       "    .dataframe tbody tr th:only-of-type {\n",
       "        vertical-align: middle;\n",
       "    }\n",
       "\n",
       "    .dataframe tbody tr th {\n",
       "        vertical-align: top;\n",
       "    }\n",
       "\n",
       "    .dataframe thead th {\n",
       "        text-align: right;\n",
       "    }\n",
       "</style>\n",
       "<table border=\"1\" class=\"dataframe\">\n",
       "  <thead>\n",
       "    <tr style=\"text-align: right;\">\n",
       "      <th></th>\n",
       "      <th>0</th>\n",
       "      <th>1</th>\n",
       "      <th>2</th>\n",
       "      <th>3</th>\n",
       "      <th>4</th>\n",
       "      <th>5</th>\n",
       "      <th>6</th>\n",
       "      <th>7</th>\n",
       "      <th>8</th>\n",
       "      <th>9</th>\n",
       "      <th>accuracy</th>\n",
       "      <th>macro avg</th>\n",
       "      <th>weighted avg</th>\n",
       "    </tr>\n",
       "  </thead>\n",
       "  <tbody>\n",
       "    <tr>\n",
       "      <th>precision</th>\n",
       "      <td>0.976884</td>\n",
       "      <td>0.990265</td>\n",
       "      <td>0.970874</td>\n",
       "      <td>0.960861</td>\n",
       "      <td>0.971341</td>\n",
       "      <td>0.970688</td>\n",
       "      <td>0.974843</td>\n",
       "      <td>0.969638</td>\n",
       "      <td>0.964176</td>\n",
       "      <td>0.958292</td>\n",
       "      <td>0.971</td>\n",
       "      <td>0.970786</td>\n",
       "      <td>0.971013</td>\n",
       "    </tr>\n",
       "    <tr>\n",
       "      <th>recall</th>\n",
       "      <td>0.991837</td>\n",
       "      <td>0.985903</td>\n",
       "      <td>0.968992</td>\n",
       "      <td>0.972277</td>\n",
       "      <td>0.966395</td>\n",
       "      <td>0.965247</td>\n",
       "      <td>0.970772</td>\n",
       "      <td>0.963035</td>\n",
       "      <td>0.967146</td>\n",
       "      <td>0.956392</td>\n",
       "      <td>0.971</td>\n",
       "      <td>0.970800</td>\n",
       "      <td>0.971000</td>\n",
       "    </tr>\n",
       "    <tr>\n",
       "      <th>f1-score</th>\n",
       "      <td>0.984304</td>\n",
       "      <td>0.988079</td>\n",
       "      <td>0.969932</td>\n",
       "      <td>0.966535</td>\n",
       "      <td>0.968862</td>\n",
       "      <td>0.967960</td>\n",
       "      <td>0.972803</td>\n",
       "      <td>0.966325</td>\n",
       "      <td>0.965659</td>\n",
       "      <td>0.957341</td>\n",
       "      <td>0.971</td>\n",
       "      <td>0.970780</td>\n",
       "      <td>0.970994</td>\n",
       "    </tr>\n",
       "    <tr>\n",
       "      <th>support</th>\n",
       "      <td>980.000000</td>\n",
       "      <td>1135.000000</td>\n",
       "      <td>1032.000000</td>\n",
       "      <td>1010.000000</td>\n",
       "      <td>982.000000</td>\n",
       "      <td>892.000000</td>\n",
       "      <td>958.000000</td>\n",
       "      <td>1028.000000</td>\n",
       "      <td>974.000000</td>\n",
       "      <td>1009.000000</td>\n",
       "      <td>0.971</td>\n",
       "      <td>10000.000000</td>\n",
       "      <td>10000.000000</td>\n",
       "    </tr>\n",
       "  </tbody>\n",
       "</table>\n",
       "</div>"
      ],
      "text/plain": [
       "                    0            1            2            3           4  \\\n",
       "precision    0.976884     0.990265     0.970874     0.960861    0.971341   \n",
       "recall       0.991837     0.985903     0.968992     0.972277    0.966395   \n",
       "f1-score     0.984304     0.988079     0.969932     0.966535    0.968862   \n",
       "support    980.000000  1135.000000  1032.000000  1010.000000  982.000000   \n",
       "\n",
       "                    5           6            7           8            9  \\\n",
       "precision    0.970688    0.974843     0.969638    0.964176     0.958292   \n",
       "recall       0.965247    0.970772     0.963035    0.967146     0.956392   \n",
       "f1-score     0.967960    0.972803     0.966325    0.965659     0.957341   \n",
       "support    892.000000  958.000000  1028.000000  974.000000  1009.000000   \n",
       "\n",
       "           accuracy     macro avg  weighted avg  \n",
       "precision     0.971      0.970786      0.971013  \n",
       "recall        0.971      0.970800      0.971000  \n",
       "f1-score      0.971      0.970780      0.970994  \n",
       "support       0.971  10000.000000  10000.000000  "
      ]
     },
     "execution_count": 42,
     "metadata": {},
     "output_type": "execute_result"
    }
   ],
   "source": [
    "import pandas as pd\n",
    "from sklearn.metrics import classification_report\n",
    "cr = classification_report(y_test, y_pred, output_dict=True)\n",
    "\n",
    "# pandas.DataFrameへ変換\n",
    "df_cr = pd.DataFrame(cr)\n",
    "df_cr"
   ]
  },
  {
   "cell_type": "markdown",
   "metadata": {},
   "source": [
    "ACC 0.97"
   ]
  },
  {
   "cell_type": "code",
   "execution_count": 43,
   "metadata": {},
   "outputs": [
    {
     "data": {
      "text/plain": [
       "[<matplotlib.lines.Line2D at 0x20b0c0ca648>]"
      ]
     },
     "execution_count": 43,
     "metadata": {},
     "output_type": "execute_result"
    },
    {
     "data": {
      "image/png": "[encoded data removed]",
      "text/plain": [
       "<Figure size 432x288 with 1 Axes>"
      ]
     },
     "metadata": {
      "needs_background": "light"
     },
     "output_type": "display_data"
    }
   ],
   "source": [
    "plt.plot(range(len(ScratchDNN.train_loss_list)), ScratchDNN.train_loss_list, color = \"blue\")\n",
    "plt.plot(range(len(ScratchDNN.test_loss_list)), ScratchDNN.test_loss_list, color = \"red\")"
   ]
  },
  {
   "cell_type": "code",
   "execution_count": null,
   "metadata": {},
   "outputs": [],
   "source": []
  },
  {
   "cell_type": "markdown",
   "metadata": {},
   "source": [
    "### ＜学習率：0.001、標準偏差：0.03、活性化関数：Sigmoid＞"
   ]
  },
  {
   "cell_type": "code",
   "execution_count": 116,
   "metadata": {},
   "outputs": [
    {
     "name": "stdout",
     "output_type": "stream",
     "text": [
      "Learning Start!\n",
      "Epoch Count = 1, train_loss = 2.24697, test_loss = 2.18094, diff = 0.00000\n",
      "Epoch Count = 2, train_loss = 2.08213, test_loss = 1.94284, diff = -0.23810\n",
      "Epoch Count = 3, train_loss = 1.76254, test_loss = 1.54935, diff = -0.39349\n",
      "Epoch Count = 4, train_loss = 1.37013, test_loss = 1.18654, diff = -0.36281\n",
      "Epoch Count = 5, train_loss = 1.06476, test_loss = 0.93995, diff = -0.24659\n",
      "Epoch Count = 6, train_loss = 0.86183, test_loss = 0.77636, diff = -0.16359\n",
      "Epoch Count = 7, train_loss = 0.72234, test_loss = 0.65979, diff = -0.11657\n",
      "Epoch Count = 8, train_loss = 0.62044, test_loss = 0.57366, diff = -0.08612\n",
      "Epoch Count = 9, train_loss = 0.54430, test_loss = 0.50898, diff = -0.06468\n",
      "Epoch Count = 10, train_loss = 0.48659, test_loss = 0.46090, diff = -0.04808\n",
      "Epoch Count = 11, train_loss = 0.44171, test_loss = 0.42334, diff = -0.03756\n",
      "Epoch Count = 12, train_loss = 0.40629, test_loss = 0.39480, diff = -0.02854\n",
      "Epoch Count = 13, train_loss = 0.37824, test_loss = 0.37142, diff = -0.02338\n",
      "Epoch Count = 14, train_loss = 0.35478, test_loss = 0.35280, diff = -0.01862\n",
      "Epoch Count = 15, train_loss = 0.33505, test_loss = 0.33715, diff = -0.01564\n",
      "Epoch Count = 16, train_loss = 0.31871, test_loss = 0.32395, diff = -0.01320\n",
      "Epoch Count = 17, train_loss = 0.30401, test_loss = 0.31273, diff = -0.01122\n",
      "Epoch Count = 18, train_loss = 0.29145, test_loss = 0.30307, diff = -0.00966\n",
      "Epoch Count = 19, train_loss = 0.28032, test_loss = 0.29465, diff = -0.00842\n",
      "Epoch Count = 20, train_loss = 0.27013, test_loss = 0.28733, diff = -0.00732\n",
      "Epoch Count = 21, train_loss = 0.26076, test_loss = 0.28016, diff = -0.00717\n",
      "Epoch Count = 22, train_loss = 0.25213, test_loss = 0.27353, diff = -0.00664\n",
      "Epoch Count = 23, train_loss = 0.24459, test_loss = 0.26809, diff = -0.00543\n",
      "Epoch Count = 24, train_loss = 0.23755, test_loss = 0.26310, diff = -0.00500\n",
      "Epoch Count = 25, train_loss = 0.23106, test_loss = 0.25838, diff = -0.00472\n",
      "Epoch Count = 26, train_loss = 0.22489, test_loss = 0.25392, diff = -0.00447\n",
      "Epoch Count = 27, train_loss = 0.21902, test_loss = 0.25026, diff = -0.00365\n",
      "Epoch Count = 28, train_loss = 0.21342, test_loss = 0.24682, diff = -0.00344\n",
      "Epoch Count = 29, train_loss = 0.20852, test_loss = 0.24311, diff = -0.00372\n",
      "Epoch Count = 30, train_loss = 0.20354, test_loss = 0.23992, diff = -0.00319\n",
      "Epoch Count = 31, train_loss = 0.19887, test_loss = 0.23703, diff = -0.00290\n",
      "Epoch Count = 32, train_loss = 0.19453, test_loss = 0.23443, diff = -0.00259\n",
      "Epoch Count = 33, train_loss = 0.19057, test_loss = 0.23225, diff = -0.00218\n",
      "Epoch Count = 34, train_loss = 0.18667, test_loss = 0.22980, diff = -0.00245\n",
      "Epoch Count = 35, train_loss = 0.18298, test_loss = 0.22763, diff = -0.00217\n",
      "Epoch Count = 36, train_loss = 0.17951, test_loss = 0.22535, diff = -0.00228\n",
      "Epoch Count = 37, train_loss = 0.17617, test_loss = 0.22332, diff = -0.00202\n",
      "Epoch Count = 38, train_loss = 0.17290, test_loss = 0.22084, diff = -0.00249\n",
      "Epoch Count = 39, train_loss = 0.16982, test_loss = 0.21943, diff = -0.00140\n",
      "Epoch Count = 40, train_loss = 0.16672, test_loss = 0.21762, diff = -0.00181\n",
      "Epoch Count = 41, train_loss = 0.16364, test_loss = 0.21571, diff = -0.00192\n",
      "Epoch Count = 42, train_loss = 0.16095, test_loss = 0.21413, diff = -0.00158\n",
      "Epoch Count = 43, train_loss = 0.15822, test_loss = 0.21304, diff = -0.00109\n",
      "Epoch Count = 44, train_loss = 0.15584, test_loss = 0.21138, diff = -0.00166\n",
      "Epoch Count = 45, train_loss = 0.15323, test_loss = 0.20971, diff = -0.00166\n",
      "Epoch Count = 46, train_loss = 0.15084, test_loss = 0.20837, diff = -0.00134\n",
      "Epoch Count = 47, train_loss = 0.14887, test_loss = 0.20797, diff = -0.00040\n",
      "Epoch Count = 48, train_loss = 0.14641, test_loss = 0.20639, diff = -0.00158\n",
      "Epoch Count = 49, train_loss = 0.14416, test_loss = 0.20538, diff = -0.00101\n",
      "Epoch Count = 50, train_loss = 0.14226, test_loss = 0.20400, diff = -0.00138\n",
      "Learning Finish!\n"
     ]
    }
   ],
   "source": [
    "ScratchDNN_Sigmoid = ScratchDeepNeuralNetrowkClassifier(lr = 0.001, n_nodes1 = 400, n_nodes2 = 200, n_output = 10, \n",
    "                                                epoch = 50, verbose = True, sigma = 0.03, activation = \"Sigmoid\")\n",
    "ScratchDNN_Sigmoid.fit(X_train, y_train, X_test, y_test)"
   ]
  },
  {
   "cell_type": "code",
   "execution_count": 117,
   "metadata": {},
   "outputs": [
    {
     "data": {
      "text/plain": [
       "array([7, 2, 1, ..., 4, 5, 6], dtype=int64)"
      ]
     },
     "execution_count": 117,
     "metadata": {},
     "output_type": "execute_result"
    }
   ],
   "source": [
    "y_pred_Sigmoid = ScratchDNN_Sigmoid.predict(X_test)\n",
    "y_pred_Sigmoid"
   ]
  },
  {
   "cell_type": "code",
   "execution_count": 118,
   "metadata": {},
   "outputs": [
    {
     "data": {
      "text/html": [
       "<div>\n",
       "<style scoped>\n",
       "    .dataframe tbody tr th:only-of-type {\n",
       "        vertical-align: middle;\n",
       "    }\n",
       "\n",
       "    .dataframe tbody tr th {\n",
       "        vertical-align: top;\n",
       "    }\n",
       "\n",
       "    .dataframe thead th {\n",
       "        text-align: right;\n",
       "    }\n",
       "</style>\n",
       "<table border=\"1\" class=\"dataframe\">\n",
       "  <thead>\n",
       "    <tr style=\"text-align: right;\">\n",
       "      <th></th>\n",
       "      <th>0</th>\n",
       "      <th>1</th>\n",
       "      <th>2</th>\n",
       "      <th>3</th>\n",
       "      <th>4</th>\n",
       "      <th>5</th>\n",
       "      <th>6</th>\n",
       "      <th>7</th>\n",
       "      <th>8</th>\n",
       "      <th>9</th>\n",
       "      <th>accuracy</th>\n",
       "      <th>macro avg</th>\n",
       "      <th>weighted avg</th>\n",
       "    </tr>\n",
       "  </thead>\n",
       "  <tbody>\n",
       "    <tr>\n",
       "      <th>precision</th>\n",
       "      <td>0.948819</td>\n",
       "      <td>0.975524</td>\n",
       "      <td>0.931707</td>\n",
       "      <td>0.920510</td>\n",
       "      <td>0.940756</td>\n",
       "      <td>0.922093</td>\n",
       "      <td>0.950207</td>\n",
       "      <td>0.948515</td>\n",
       "      <td>0.924820</td>\n",
       "      <td>0.924901</td>\n",
       "      <td>0.9395</td>\n",
       "      <td>0.938785</td>\n",
       "      <td>0.939400</td>\n",
       "    </tr>\n",
       "    <tr>\n",
       "      <th>recall</th>\n",
       "      <td>0.983673</td>\n",
       "      <td>0.983260</td>\n",
       "      <td>0.925388</td>\n",
       "      <td>0.928713</td>\n",
       "      <td>0.937882</td>\n",
       "      <td>0.889013</td>\n",
       "      <td>0.956159</td>\n",
       "      <td>0.931907</td>\n",
       "      <td>0.921971</td>\n",
       "      <td>0.927651</td>\n",
       "      <td>0.9395</td>\n",
       "      <td>0.938562</td>\n",
       "      <td>0.939500</td>\n",
       "    </tr>\n",
       "    <tr>\n",
       "      <th>f1-score</th>\n",
       "      <td>0.965932</td>\n",
       "      <td>0.979377</td>\n",
       "      <td>0.928537</td>\n",
       "      <td>0.924593</td>\n",
       "      <td>0.939317</td>\n",
       "      <td>0.905251</td>\n",
       "      <td>0.953174</td>\n",
       "      <td>0.940137</td>\n",
       "      <td>0.923393</td>\n",
       "      <td>0.926274</td>\n",
       "      <td>0.9395</td>\n",
       "      <td>0.938599</td>\n",
       "      <td>0.939379</td>\n",
       "    </tr>\n",
       "    <tr>\n",
       "      <th>support</th>\n",
       "      <td>980.000000</td>\n",
       "      <td>1135.000000</td>\n",
       "      <td>1032.000000</td>\n",
       "      <td>1010.000000</td>\n",
       "      <td>982.000000</td>\n",
       "      <td>892.000000</td>\n",
       "      <td>958.000000</td>\n",
       "      <td>1028.000000</td>\n",
       "      <td>974.000000</td>\n",
       "      <td>1009.000000</td>\n",
       "      <td>0.9395</td>\n",
       "      <td>10000.000000</td>\n",
       "      <td>10000.000000</td>\n",
       "    </tr>\n",
       "  </tbody>\n",
       "</table>\n",
       "</div>"
      ],
      "text/plain": [
       "                    0            1            2            3           4  \\\n",
       "precision    0.948819     0.975524     0.931707     0.920510    0.940756   \n",
       "recall       0.983673     0.983260     0.925388     0.928713    0.937882   \n",
       "f1-score     0.965932     0.979377     0.928537     0.924593    0.939317   \n",
       "support    980.000000  1135.000000  1032.000000  1010.000000  982.000000   \n",
       "\n",
       "                    5           6            7           8            9  \\\n",
       "precision    0.922093    0.950207     0.948515    0.924820     0.924901   \n",
       "recall       0.889013    0.956159     0.931907    0.921971     0.927651   \n",
       "f1-score     0.905251    0.953174     0.940137    0.923393     0.926274   \n",
       "support    892.000000  958.000000  1028.000000  974.000000  1009.000000   \n",
       "\n",
       "           accuracy     macro avg  weighted avg  \n",
       "precision    0.9395      0.938785      0.939400  \n",
       "recall       0.9395      0.938562      0.939500  \n",
       "f1-score     0.9395      0.938599      0.939379  \n",
       "support      0.9395  10000.000000  10000.000000  "
      ]
     },
     "execution_count": 118,
     "metadata": {},
     "output_type": "execute_result"
    }
   ],
   "source": [
    "import pandas as pd\n",
    "from sklearn.metrics import classification_report\n",
    "cr = classification_report(y_test, y_pred_Sigmoid, output_dict=True)\n",
    "\n",
    "# pandas.DataFrameへ変換\n",
    "df_cr = pd.DataFrame(cr)\n",
    "df_cr"
   ]
  },
  {
   "cell_type": "markdown",
   "metadata": {},
   "source": [
    "#### ACC ≒ 93.9%"
   ]
  },
  {
   "cell_type": "code",
   "execution_count": 119,
   "metadata": {},
   "outputs": [
    {
     "data": {
      "text/plain": [
       "Text(0.5, 1.0, 'Loss Curve on Sigmoid')"
      ]
     },
     "execution_count": 119,
     "metadata": {},
     "output_type": "execute_result"
    },
    {
     "data": {
      "image/png": "[encoded data removed]",
      "text/plain": [
       "<Figure size 432x288 with 1 Axes>"
      ]
     },
     "metadata": {
      "needs_background": "light"
     },
     "output_type": "display_data"
    }
   ],
   "source": [
    "plt.plot(range(len(ScratchDNN_Sigmoid.train_loss_list)), ScratchDNN_Sigmoid.train_loss_list, color = \"blue\")\n",
    "plt.plot(range(len(ScratchDNN_Sigmoid.test_loss_list)), ScratchDNN_Sigmoid.test_loss_list, color = \"red\")\n",
    "plt.xlabel(\"Epoch\")\n",
    "plt.ylabel(\"Loss\")\n",
    "plt.title(\"Loss Curve on Sigmoid\")"
   ]
  },
  {
   "cell_type": "code",
   "execution_count": null,
   "metadata": {},
   "outputs": [],
   "source": []
  },
  {
   "cell_type": "markdown",
   "metadata": {},
   "source": [
    "#### ＜学習率：0.001、標準偏差：0.03、活性化関数：ReLU＞"
   ]
  },
  {
   "cell_type": "code",
   "execution_count": 108,
   "metadata": {},
   "outputs": [
    {
     "name": "stdout",
     "output_type": "stream",
     "text": [
      "Learning Start!\n",
      "Epoch Count = 1, train_loss = 0.30783, test_loss = 0.16165, diff = 0.00000\n",
      "Epoch Count = 2, train_loss = 0.11758, test_loss = 0.13344, diff = -0.02821\n",
      "Epoch Count = 3, train_loss = 0.07503, test_loss = 0.11890, diff = -0.01455\n",
      "Epoch Count = 4, train_loss = 0.04973, test_loss = 0.11073, diff = -0.00817\n",
      "Epoch Count = 5, train_loss = 0.03309, test_loss = 0.10768, diff = -0.00305\n",
      "Epoch Count = 6, train_loss = 0.02173, test_loss = 0.10812, diff = 0.00045\n",
      "Epoch Count = 7, train_loss = 0.01441, test_loss = 0.10635, diff = -0.00178\n",
      "Epoch Count = 8, train_loss = 0.00962, test_loss = 0.10762, diff = 0.00127\n",
      "Epoch Count = 9, train_loss = 0.00679, test_loss = 0.10884, diff = 0.00122\n",
      "Epoch Count = 10, train_loss = 0.00499, test_loss = 0.10924, diff = 0.00040\n",
      "Epoch Count = 11, train_loss = 0.00384, test_loss = 0.10906, diff = -0.00018\n",
      "Epoch Count = 12, train_loss = 0.00299, test_loss = 0.10965, diff = 0.00059\n",
      "Epoch Count = 13, train_loss = 0.00242, test_loss = 0.11004, diff = 0.00039\n",
      "Epoch Count = 14, train_loss = 0.00203, test_loss = 0.11032, diff = 0.00028\n",
      "Epoch Count = 15, train_loss = 0.00175, test_loss = 0.11061, diff = 0.00029\n",
      "Epoch Count = 16, train_loss = 0.00153, test_loss = 0.11067, diff = 0.00007\n",
      "Epoch Count = 17, train_loss = 0.00136, test_loss = 0.11099, diff = 0.00032\n",
      "Epoch Count = 18, train_loss = 0.00122, test_loss = 0.11117, diff = 0.00018\n",
      "Epoch Count = 19, train_loss = 0.00111, test_loss = 0.11143, diff = 0.00026\n",
      "Epoch Count = 20, train_loss = 0.00101, test_loss = 0.11174, diff = 0.00031\n",
      "Epoch Count = 21, train_loss = 0.00093, test_loss = 0.11197, diff = 0.00023\n",
      "Epoch Count = 22, train_loss = 0.00086, test_loss = 0.11220, diff = 0.00023\n",
      "Epoch Count = 23, train_loss = 0.00080, test_loss = 0.11261, diff = 0.00041\n",
      "Epoch Count = 24, train_loss = 0.00074, test_loss = 0.11284, diff = 0.00023\n",
      "Epoch Count = 25, train_loss = 0.00070, test_loss = 0.11310, diff = 0.00026\n",
      "Learning Finish!\n"
     ]
    }
   ],
   "source": [
    "ScratchDNN_Relu = ScratchDeepNeuralNetrowkClassifier(lr = 0.001, n_nodes1 = 400, n_nodes2 = 200, n_output = 10, \n",
    "                                                epoch = 25, verbose = True, sigma = 0.03, activation = \"Relu\")\n",
    "ScratchDNN_Relu.fit(X_train, y_train, X_test, y_test)"
   ]
  },
  {
   "cell_type": "markdown",
   "metadata": {},
   "source": [
    "#### Epoc = 12　の辺りから過学習の傾向が出ている。"
   ]
  },
  {
   "cell_type": "code",
   "execution_count": 110,
   "metadata": {},
   "outputs": [
    {
     "data": {
      "text/plain": [
       "array([7, 2, 1, ..., 4, 5, 6], dtype=int64)"
      ]
     },
     "execution_count": 110,
     "metadata": {},
     "output_type": "execute_result"
    }
   ],
   "source": [
    "y_pred_Relu = ScratchDNN_Relu.predict(X_test)\n",
    "y_pred_Relu"
   ]
  },
  {
   "cell_type": "code",
   "execution_count": 111,
   "metadata": {},
   "outputs": [
    {
     "data": {
      "text/html": [
       "<div>\n",
       "<style scoped>\n",
       "    .dataframe tbody tr th:only-of-type {\n",
       "        vertical-align: middle;\n",
       "    }\n",
       "\n",
       "    .dataframe tbody tr th {\n",
       "        vertical-align: top;\n",
       "    }\n",
       "\n",
       "    .dataframe thead th {\n",
       "        text-align: right;\n",
       "    }\n",
       "</style>\n",
       "<table border=\"1\" class=\"dataframe\">\n",
       "  <thead>\n",
       "    <tr style=\"text-align: right;\">\n",
       "      <th></th>\n",
       "      <th>0</th>\n",
       "      <th>1</th>\n",
       "      <th>2</th>\n",
       "      <th>3</th>\n",
       "      <th>4</th>\n",
       "      <th>5</th>\n",
       "      <th>6</th>\n",
       "      <th>7</th>\n",
       "      <th>8</th>\n",
       "      <th>9</th>\n",
       "      <th>accuracy</th>\n",
       "      <th>macro avg</th>\n",
       "      <th>weighted avg</th>\n",
       "    </tr>\n",
       "  </thead>\n",
       "  <tbody>\n",
       "    <tr>\n",
       "      <th>precision</th>\n",
       "      <td>0.974900</td>\n",
       "      <td>0.983377</td>\n",
       "      <td>0.968300</td>\n",
       "      <td>0.975050</td>\n",
       "      <td>0.972892</td>\n",
       "      <td>0.964126</td>\n",
       "      <td>0.983158</td>\n",
       "      <td>0.985104</td>\n",
       "      <td>0.975207</td>\n",
       "      <td>0.970149</td>\n",
       "      <td>0.9754</td>\n",
       "      <td>0.975226</td>\n",
       "      <td>0.975428</td>\n",
       "    </tr>\n",
       "    <tr>\n",
       "      <th>recall</th>\n",
       "      <td>0.990816</td>\n",
       "      <td>0.990308</td>\n",
       "      <td>0.976744</td>\n",
       "      <td>0.967327</td>\n",
       "      <td>0.986762</td>\n",
       "      <td>0.964126</td>\n",
       "      <td>0.974948</td>\n",
       "      <td>0.964981</td>\n",
       "      <td>0.969199</td>\n",
       "      <td>0.966303</td>\n",
       "      <td>0.9754</td>\n",
       "      <td>0.975151</td>\n",
       "      <td>0.975400</td>\n",
       "    </tr>\n",
       "    <tr>\n",
       "      <th>f1-score</th>\n",
       "      <td>0.982794</td>\n",
       "      <td>0.986831</td>\n",
       "      <td>0.972504</td>\n",
       "      <td>0.971173</td>\n",
       "      <td>0.979778</td>\n",
       "      <td>0.964126</td>\n",
       "      <td>0.979036</td>\n",
       "      <td>0.974939</td>\n",
       "      <td>0.972194</td>\n",
       "      <td>0.968222</td>\n",
       "      <td>0.9754</td>\n",
       "      <td>0.975159</td>\n",
       "      <td>0.975385</td>\n",
       "    </tr>\n",
       "    <tr>\n",
       "      <th>support</th>\n",
       "      <td>980.000000</td>\n",
       "      <td>1135.000000</td>\n",
       "      <td>1032.000000</td>\n",
       "      <td>1010.000000</td>\n",
       "      <td>982.000000</td>\n",
       "      <td>892.000000</td>\n",
       "      <td>958.000000</td>\n",
       "      <td>1028.000000</td>\n",
       "      <td>974.000000</td>\n",
       "      <td>1009.000000</td>\n",
       "      <td>0.9754</td>\n",
       "      <td>10000.000000</td>\n",
       "      <td>10000.000000</td>\n",
       "    </tr>\n",
       "  </tbody>\n",
       "</table>\n",
       "</div>"
      ],
      "text/plain": [
       "                    0            1            2            3           4  \\\n",
       "precision    0.974900     0.983377     0.968300     0.975050    0.972892   \n",
       "recall       0.990816     0.990308     0.976744     0.967327    0.986762   \n",
       "f1-score     0.982794     0.986831     0.972504     0.971173    0.979778   \n",
       "support    980.000000  1135.000000  1032.000000  1010.000000  982.000000   \n",
       "\n",
       "                    5           6            7           8            9  \\\n",
       "precision    0.964126    0.983158     0.985104    0.975207     0.970149   \n",
       "recall       0.964126    0.974948     0.964981    0.969199     0.966303   \n",
       "f1-score     0.964126    0.979036     0.974939    0.972194     0.968222   \n",
       "support    892.000000  958.000000  1028.000000  974.000000  1009.000000   \n",
       "\n",
       "           accuracy     macro avg  weighted avg  \n",
       "precision    0.9754      0.975226      0.975428  \n",
       "recall       0.9754      0.975151      0.975400  \n",
       "f1-score     0.9754      0.975159      0.975385  \n",
       "support      0.9754  10000.000000  10000.000000  "
      ]
     },
     "execution_count": 111,
     "metadata": {},
     "output_type": "execute_result"
    }
   ],
   "source": [
    "import pandas as pd\n",
    "from sklearn.metrics import classification_report\n",
    "cr = classification_report(y_test, y_pred_Relu, output_dict=True)\n",
    "\n",
    "# pandas.DataFrameへ変換\n",
    "df_cr = pd.DataFrame(cr)\n",
    "df_cr"
   ]
  },
  {
   "cell_type": "markdown",
   "metadata": {},
   "source": [
    "#### ACC ≒ 97.5%"
   ]
  },
  {
   "cell_type": "code",
   "execution_count": 115,
   "metadata": {},
   "outputs": [
    {
     "data": {
      "text/plain": [
       "Text(0.5, 1.0, 'Loss Curve on ReLU')"
      ]
     },
     "execution_count": 115,
     "metadata": {},
     "output_type": "execute_result"
    },
    {
     "data": {
      "image/png": "[encoded data removed]",
      "text/plain": [
       "<Figure size 432x288 with 1 Axes>"
      ]
     },
     "metadata": {
      "needs_background": "light"
     },
     "output_type": "display_data"
    }
   ],
   "source": [
    "plt.plot(range(len(ScratchDNN_Relu.train_loss_list)), ScratchDNN_Relu.train_loss_list, color = \"blue\")\n",
    "plt.plot(range(len(ScratchDNN_Relu.test_loss_list)), ScratchDNN_Relu.test_loss_list, color = \"red\")\n",
    "plt.xlabel(\"Epoch\")\n",
    "plt.ylabel(\"Loss\")\n",
    "plt.title(\"Loss Curve on ReLU\")"
   ]
  },
  {
   "cell_type": "markdown",
   "metadata": {},
   "source": [
    "比較的きれいな学習曲線であり、Epoc = 5 でテストロスが最小となり、以降微増していくため、過学習傾向にある。"
   ]
  },
  {
   "cell_type": "markdown",
   "metadata": {},
   "source": [
    "## ●Xavierの初期値で比較"
   ]
  },
  {
   "cell_type": "markdown",
   "metadata": {},
   "source": [
    "#### ＜学習率：0.000005、活性化関数：Sigmoid、最適化:SGD、初期化：Xavier＞"
   ]
  },
  {
   "cell_type": "code",
   "execution_count": 258,
   "metadata": {},
   "outputs": [
    {
     "name": "stdout",
     "output_type": "stream",
     "text": [
      "★★★XavierInitializer\n",
      "★★★XavierInitializer: W Set\n",
      "★★★XavierInitializer: B Set\n",
      "★★★XavierInitializer\n",
      "★★★XavierInitializer: W Set\n",
      "★★★XavierInitializer: B Set\n",
      "★★★XavierInitializer\n",
      "★★★XavierInitializer: W Set\n",
      "★★★XavierInitializer: B Set\n",
      "Learning Start!\n",
      "Epoch Count = 1, train_loss = 2.41529, test_loss = 2.38071, diff = 0\n",
      "Epoch Count = 2, train_loss = 2.35704, test_loss = 2.34123, diff = -0.039483728793538564\n",
      "Epoch Count = 3, train_loss = 2.32937, test_loss = 2.32190, diff = -0.019327897510238223\n",
      "Epoch Count = 4, train_loss = 2.31571, test_loss = 2.31211, diff = -0.009788209217309163\n",
      "Epoch Count = 5, train_loss = 2.30879, test_loss = 2.30702, diff = -0.005086375658073017\n",
      "Epoch Count = 6, train_loss = 2.30520, test_loss = 2.30433, diff = -0.0026964613124964565\n",
      "Epoch Count = 7, train_loss = 2.30332, test_loss = 2.30287, diff = -0.0014533007467227854\n",
      "Epoch Count = 8, train_loss = 2.30233, test_loss = 2.30208, diff = -0.0007950935197507114\n",
      "Epoch Count = 9, train_loss = 2.30180, test_loss = 2.30164, diff = -0.0004415294049890939\n",
      "Epoch Count = 10, train_loss = 2.30152, test_loss = 2.30139, diff = -0.00024914248585794496\n",
      "Epoch Count = 11, train_loss = 2.30136, test_loss = 2.30125, diff = -0.00014311672375555418\n",
      "Epoch Count = 12, train_loss = 2.30128, test_loss = 2.30116, diff = -8.388303910367156e-05\n",
      "Epoch Count = 13, train_loss = 2.30123, test_loss = 2.30111, diff = -5.0278702336647996e-05\n",
      "Epoch Count = 14, train_loss = 2.30121, test_loss = 2.30108, diff = -3.0875302882371614e-05\n",
      "Epoch Count = 15, train_loss = 2.30120, test_loss = 2.30106, diff = -1.944380787843869e-05\n",
      "Epoch Count = 16, train_loss = 2.30119, test_loss = 2.30105, diff = -1.2555848207806974e-05\n",
      "Epoch Count = 17, train_loss = 2.30119, test_loss = 2.30104, diff = -8.303653855623594e-06\n",
      "Epoch Count = 18, train_loss = 2.30118, test_loss = 2.30103, diff = -5.6118700149099254e-06\n",
      "Epoch Count = 19, train_loss = 2.30118, test_loss = 2.30103, diff = -3.865041519279799e-06\n",
      "Epoch Count = 20, train_loss = 2.30118, test_loss = 2.30103, diff = -2.704561329114341e-06\n",
      "Epoch Count = 21, train_loss = 2.30118, test_loss = 2.30103, diff = -1.917135452167429e-06\n",
      "Epoch Count = 22, train_loss = 2.30118, test_loss = 2.30102, diff = -1.3729632661885205e-06\n",
      "Epoch Count = 23, train_loss = 2.30118, test_loss = 2.30102, diff = -9.910998395312731e-07\n",
      "Epoch Count = 24, train_loss = 2.30118, test_loss = 2.30102, diff = -7.197916853662889e-07\n",
      "Epoch Count = 25, train_loss = 2.30118, test_loss = 2.30102, diff = -5.251353809576642e-07\n",
      "Epoch Count = 26, train_loss = 2.30118, test_loss = 2.30102, diff = -3.844136111652574e-07\n",
      "Epoch Count = 27, train_loss = 2.30118, test_loss = 2.30102, diff = -2.820954891902261e-07\n",
      "Epoch Count = 28, train_loss = 2.30118, test_loss = 2.30102, diff = -2.0737922312719093e-07\n",
      "Epoch Count = 29, train_loss = 2.30118, test_loss = 2.30102, diff = -1.5264473063325568e-07\n",
      "Epoch Count = 30, train_loss = 2.30118, test_loss = 2.30102, diff = -1.1245486630784285e-07\n",
      "Epoch Count = 31, train_loss = 2.30118, test_loss = 2.30102, diff = -8.289527819727027e-08\n",
      "Epoch Count = 32, train_loss = 2.30118, test_loss = 2.30102, diff = -6.112851025363852e-08\n",
      "Epoch Count = 33, train_loss = 2.30118, test_loss = 2.30102, diff = -4.5087025224432864e-08\n",
      "Epoch Count = 34, train_loss = 2.30118, test_loss = 2.30102, diff = -3.32584635387434e-08\n",
      "Epoch Count = 35, train_loss = 2.30118, test_loss = 2.30102, diff = -2.4533399756165863e-08\n",
      "Epoch Count = 36, train_loss = 2.30118, test_loss = 2.30102, diff = -1.809631156035607e-08\n",
      "Epoch Count = 37, train_loss = 2.30118, test_loss = 2.30102, diff = -1.3346825866733525e-08\n",
      "Epoch Count = 38, train_loss = 2.30118, test_loss = 2.30102, diff = -9.842505477308805e-09\n",
      "Epoch Count = 39, train_loss = 2.30118, test_loss = 2.30102, diff = -7.257062950571935e-09\n",
      "Epoch Count = 40, train_loss = 2.30118, test_loss = 2.30102, diff = -5.349758858130826e-09\n",
      "Epoch Count = 41, train_loss = 2.30118, test_loss = 2.30102, diff = -3.942922877087085e-09\n",
      "Epoch Count = 42, train_loss = 2.30118, test_loss = 2.30102, diff = -2.9054061378985807e-09\n",
      "Epoch Count = 43, train_loss = 2.30118, test_loss = 2.30102, diff = -2.1404011896208885e-09\n",
      "Epoch Count = 44, train_loss = 2.30118, test_loss = 2.30102, diff = -1.5764429761588872e-09\n",
      "Epoch Count = 45, train_loss = 2.30118, test_loss = 2.30102, diff = -1.160788798415524e-09\n",
      "Epoch Count = 46, train_loss = 2.30118, test_loss = 2.30102, diff = -8.545062435416639e-10\n",
      "Epoch Count = 47, train_loss = 2.30118, test_loss = 2.30102, diff = -6.288694009981555e-10\n",
      "Epoch Count = 48, train_loss = 2.30118, test_loss = 2.30102, diff = -4.626872218693734e-10\n",
      "Epoch Count = 49, train_loss = 2.30118, test_loss = 2.30102, diff = -3.4032110463044773e-10\n",
      "Epoch Count = 50, train_loss = 2.30118, test_loss = 2.30102, diff = -2.5024560201813983e-10\n",
      "Learning Finish!\n"
     ]
    }
   ],
   "source": [
    "ScratchDNN_Sigmoid_Xavier = ScratchDeepNeuralNetrowkClassifier(lr = 0.000005, n_nodes1 = 400, n_nodes2 = 200, n_output = 10, \n",
    "                                                epoch = 50, verbose = True, activation = \"Sigmoid\", Initializer = \"Xavier\")\n",
    "ScratchDNN_Sigmoid_Xavier.fit(X_train, y_train, X_test, y_test)"
   ]
  },
  {
   "cell_type": "code",
   "execution_count": 259,
   "metadata": {},
   "outputs": [
    {
     "data": {
      "text/plain": [
       "array([1, 1, 1, ..., 1, 1, 1], dtype=int64)"
      ]
     },
     "execution_count": 259,
     "metadata": {},
     "output_type": "execute_result"
    }
   ],
   "source": [
    "y_pred_Sigmoid_Xavier = ScratchDNN_Sigmoid_Xavier.predict(X_test)\n",
    "y_pred_Sigmoid_Xavier"
   ]
  },
  {
   "cell_type": "code",
   "execution_count": 260,
   "metadata": {},
   "outputs": [
    {
     "name": "stderr",
     "output_type": "stream",
     "text": [
      "C:\\Users\\Takatoshi\\anaconda3\\lib\\site-packages\\sklearn\\metrics\\_classification.py:1272: UndefinedMetricWarning: Precision and F-score are ill-defined and being set to 0.0 in labels with no predicted samples. Use `zero_division` parameter to control this behavior.\n",
      "  _warn_prf(average, modifier, msg_start, len(result))\n"
     ]
    },
    {
     "data": {
      "text/html": [
       "<div>\n",
       "<style scoped>\n",
       "    .dataframe tbody tr th:only-of-type {\n",
       "        vertical-align: middle;\n",
       "    }\n",
       "\n",
       "    .dataframe tbody tr th {\n",
       "        vertical-align: top;\n",
       "    }\n",
       "\n",
       "    .dataframe thead th {\n",
       "        text-align: right;\n",
       "    }\n",
       "</style>\n",
       "<table border=\"1\" class=\"dataframe\">\n",
       "  <thead>\n",
       "    <tr style=\"text-align: right;\">\n",
       "      <th></th>\n",
       "      <th>0</th>\n",
       "      <th>1</th>\n",
       "      <th>2</th>\n",
       "      <th>3</th>\n",
       "      <th>4</th>\n",
       "      <th>5</th>\n",
       "      <th>6</th>\n",
       "      <th>7</th>\n",
       "      <th>8</th>\n",
       "      <th>9</th>\n",
       "      <th>accuracy</th>\n",
       "      <th>macro avg</th>\n",
       "      <th>weighted avg</th>\n",
       "    </tr>\n",
       "  </thead>\n",
       "  <tbody>\n",
       "    <tr>\n",
       "      <th>precision</th>\n",
       "      <td>0.0</td>\n",
       "      <td>0.113500</td>\n",
       "      <td>0.0</td>\n",
       "      <td>0.0</td>\n",
       "      <td>0.0</td>\n",
       "      <td>0.0</td>\n",
       "      <td>0.0</td>\n",
       "      <td>0.0</td>\n",
       "      <td>0.0</td>\n",
       "      <td>0.0</td>\n",
       "      <td>0.1135</td>\n",
       "      <td>0.011350</td>\n",
       "      <td>0.012882</td>\n",
       "    </tr>\n",
       "    <tr>\n",
       "      <th>recall</th>\n",
       "      <td>0.0</td>\n",
       "      <td>1.000000</td>\n",
       "      <td>0.0</td>\n",
       "      <td>0.0</td>\n",
       "      <td>0.0</td>\n",
       "      <td>0.0</td>\n",
       "      <td>0.0</td>\n",
       "      <td>0.0</td>\n",
       "      <td>0.0</td>\n",
       "      <td>0.0</td>\n",
       "      <td>0.1135</td>\n",
       "      <td>0.100000</td>\n",
       "      <td>0.113500</td>\n",
       "    </tr>\n",
       "    <tr>\n",
       "      <th>f1-score</th>\n",
       "      <td>0.0</td>\n",
       "      <td>0.203862</td>\n",
       "      <td>0.0</td>\n",
       "      <td>0.0</td>\n",
       "      <td>0.0</td>\n",
       "      <td>0.0</td>\n",
       "      <td>0.0</td>\n",
       "      <td>0.0</td>\n",
       "      <td>0.0</td>\n",
       "      <td>0.0</td>\n",
       "      <td>0.1135</td>\n",
       "      <td>0.020386</td>\n",
       "      <td>0.023138</td>\n",
       "    </tr>\n",
       "    <tr>\n",
       "      <th>support</th>\n",
       "      <td>980.0</td>\n",
       "      <td>1135.000000</td>\n",
       "      <td>1032.0</td>\n",
       "      <td>1010.0</td>\n",
       "      <td>982.0</td>\n",
       "      <td>892.0</td>\n",
       "      <td>958.0</td>\n",
       "      <td>1028.0</td>\n",
       "      <td>974.0</td>\n",
       "      <td>1009.0</td>\n",
       "      <td>0.1135</td>\n",
       "      <td>10000.000000</td>\n",
       "      <td>10000.000000</td>\n",
       "    </tr>\n",
       "  </tbody>\n",
       "</table>\n",
       "</div>"
      ],
      "text/plain": [
       "               0            1       2       3      4      5      6       7  \\\n",
       "precision    0.0     0.113500     0.0     0.0    0.0    0.0    0.0     0.0   \n",
       "recall       0.0     1.000000     0.0     0.0    0.0    0.0    0.0     0.0   \n",
       "f1-score     0.0     0.203862     0.0     0.0    0.0    0.0    0.0     0.0   \n",
       "support    980.0  1135.000000  1032.0  1010.0  982.0  892.0  958.0  1028.0   \n",
       "\n",
       "               8       9  accuracy     macro avg  weighted avg  \n",
       "precision    0.0     0.0    0.1135      0.011350      0.012882  \n",
       "recall       0.0     0.0    0.1135      0.100000      0.113500  \n",
       "f1-score     0.0     0.0    0.1135      0.020386      0.023138  \n",
       "support    974.0  1009.0    0.1135  10000.000000  10000.000000  "
      ]
     },
     "execution_count": 260,
     "metadata": {},
     "output_type": "execute_result"
    }
   ],
   "source": [
    "import pandas as pd\n",
    "from sklearn.metrics import classification_report\n",
    "cr = classification_report(y_test, y_pred_Sigmoid_Xavier, output_dict=True)\n",
    "\n",
    "# pandas.DataFrameへ変換\n",
    "df_cr = pd.DataFrame(cr)\n",
    "df_cr"
   ]
  },
  {
   "cell_type": "code",
   "execution_count": 261,
   "metadata": {},
   "outputs": [
    {
     "data": {
      "text/plain": [
       "Text(0.5, 1.0, 'Loss Curve (activation:ReLU, Initializer:Xavier)')"
      ]
     },
     "execution_count": 261,
     "metadata": {},
     "output_type": "execute_result"
    },
    {
     "data": {
      "image/png": "[encoded data removed]",
      "text/plain": [
       "<Figure size 432x288 with 1 Axes>"
      ]
     },
     "metadata": {
      "needs_background": "light"
     },
     "output_type": "display_data"
    }
   ],
   "source": [
    "plt.plot(range(len(ScratchDNN_Sigmoid_Xavier.train_loss_list)), ScratchDNN_Sigmoid_Xavier.train_loss_list, color = \"blue\")\n",
    "plt.plot(range(len(ScratchDNN_Sigmoid_Xavier.test_loss_list)), ScratchDNN_Sigmoid_Xavier.test_loss_list, color = \"red\")\n",
    "plt.xlabel(\"Epoch\")\n",
    "plt.ylabel(\"Loss\")\n",
    "plt.title(\"Loss Curve (activation:ReLU, Initializer:Xavier)\")"
   ]
  },
  {
   "cell_type": "markdown",
   "metadata": {},
   "source": [
    "グラフはきれいではあるが、ACC＝0.1135\tであるため、精度が出ていない。"
   ]
  },
  {
   "cell_type": "markdown",
   "metadata": {},
   "source": [
    "#### 学習率をもっと減らしてみる。"
   ]
  },
  {
   "cell_type": "markdown",
   "metadata": {},
   "source": [
    "#### ＜学習率：0.000008、活性化関数：Sigmoid、初期化：Xavier＞"
   ]
  },
  {
   "cell_type": "code",
   "execution_count": 303,
   "metadata": {},
   "outputs": [
    {
     "name": "stdout",
     "output_type": "stream",
     "text": [
      "★★★XavierInitializer\n",
      "★★★XavierInitializer: W Set\n",
      "★★★XavierInitializer: B Set\n",
      "★★★XavierInitializer\n",
      "★★★XavierInitializer: W Set\n",
      "★★★XavierInitializer: B Set\n",
      "★★★XavierInitializer\n",
      "★★★XavierInitializer: W Set\n",
      "★★★XavierInitializer: B Set\n",
      "Learning Start!\n",
      "Epoch Count = 1, train_loss = 2.39628, test_loss = 2.35369, diff = 0\n",
      "Epoch Count = 2, train_loss = 2.33229, test_loss = 2.31941, diff = -0.034288457491286284\n",
      "Epoch Count = 3, train_loss = 2.31200, test_loss = 2.30781, diff = -0.011591864760186255\n",
      "Epoch Count = 4, train_loss = 2.30508, test_loss = 2.30365, diff = -0.00416395488413368\n",
      "Epoch Count = 5, train_loss = 2.30262, test_loss = 2.30209, diff = -0.0015624321801337437\n",
      "Epoch Count = 6, train_loss = 2.30172, test_loss = 2.30148, diff = -0.0006096686151102482\n",
      "Epoch Count = 7, train_loss = 2.30139, test_loss = 2.30123, diff = -0.00024836161189689676\n",
      "Epoch Count = 8, train_loss = 2.30127, test_loss = 2.30112, diff = -0.0001065150498922307\n",
      "Epoch Count = 9, train_loss = 2.30122, test_loss = 2.30107, diff = -4.850587413507412e-05\n",
      "Epoch Count = 10, train_loss = 2.30121, test_loss = 2.30105, diff = -2.3557826670295157e-05\n",
      "Epoch Count = 11, train_loss = 2.30120, test_loss = 2.30104, diff = -1.2171561170948308e-05\n",
      "Epoch Count = 12, train_loss = 2.30120, test_loss = 2.30103, diff = -6.631502483589458e-06\n",
      "Epoch Count = 13, train_loss = 2.30119, test_loss = 2.30103, diff = -3.7648725021988128e-06\n",
      "Epoch Count = 14, train_loss = 2.30119, test_loss = 2.30103, diff = -2.201185140826567e-06\n",
      "Epoch Count = 15, train_loss = 2.30119, test_loss = 2.30102, diff = -1.3126231812599087e-06\n",
      "Epoch Count = 16, train_loss = 2.30119, test_loss = 2.30102, diff = -7.927384255701497e-07\n",
      "Epoch Count = 17, train_loss = 2.30119, test_loss = 2.30102, diff = -4.825373829397961e-07\n",
      "Epoch Count = 18, train_loss = 2.30119, test_loss = 2.30102, diff = -2.951043445165169e-07\n",
      "Epoch Count = 19, train_loss = 2.30119, test_loss = 2.30102, diff = -1.8096498921593707e-07\n",
      "Epoch Count = 20, train_loss = 2.30119, test_loss = 2.30102, diff = -1.1113318310052023e-07\n",
      "Epoch Count = 21, train_loss = 2.30119, test_loss = 2.30102, diff = -6.829442655842399e-08\n",
      "Epoch Count = 22, train_loss = 2.30119, test_loss = 2.30102, diff = -4.1976834452839284e-08\n",
      "Epoch Count = 23, train_loss = 2.30119, test_loss = 2.30102, diff = -2.5798044589464553e-08\n",
      "Epoch Count = 24, train_loss = 2.30119, test_loss = 2.30102, diff = -1.5850202927936152e-08\n",
      "Epoch Count = 25, train_loss = 2.30119, test_loss = 2.30102, diff = -9.734224981627904e-09\n",
      "Epoch Count = 26, train_loss = 2.30119, test_loss = 2.30102, diff = -5.975188344109483e-09\n",
      "Epoch Count = 27, train_loss = 2.30119, test_loss = 2.30102, diff = -3.665733494528922e-09\n",
      "Epoch Count = 28, train_loss = 2.30119, test_loss = 2.30102, diff = -2.247558583690079e-09\n",
      "Epoch Count = 29, train_loss = 2.30119, test_loss = 2.30102, diff = -1.3771641604876095e-09\n",
      "Epoch Count = 30, train_loss = 2.30119, test_loss = 2.30102, diff = -8.432805564950741e-10\n",
      "Epoch Count = 31, train_loss = 2.30119, test_loss = 2.30102, diff = -5.160045724039719e-10\n",
      "Epoch Count = 32, train_loss = 2.30119, test_loss = 2.30102, diff = -3.155129491005937e-10\n",
      "Epoch Count = 33, train_loss = 2.30119, test_loss = 2.30102, diff = -1.9277468510381368e-10\n",
      "Epoch Count = 34, train_loss = 2.30119, test_loss = 2.30102, diff = -1.176863051455257e-10\n",
      "Epoch Count = 35, train_loss = 2.30119, test_loss = 2.30102, diff = -7.178568850463307e-11\n",
      "Epoch Count = 36, train_loss = 2.30119, test_loss = 2.30102, diff = -4.374722806232967e-11\n",
      "Epoch Count = 37, train_loss = 2.30119, test_loss = 2.30102, diff = -2.6636026717596906e-11\n",
      "Epoch Count = 38, train_loss = 2.30119, test_loss = 2.30102, diff = -1.6199930286120434e-11\n",
      "Epoch Count = 39, train_loss = 2.30119, test_loss = 2.30102, diff = -9.842793247116788e-12\n",
      "Epoch Count = 40, train_loss = 2.30119, test_loss = 2.30102, diff = -5.972555783273492e-12\n",
      "Epoch Count = 41, train_loss = 2.30119, test_loss = 2.30102, diff = -3.6202152386977104e-12\n",
      "Epoch Count = 42, train_loss = 2.30119, test_loss = 2.30102, diff = -2.191136161400209e-12\n",
      "Epoch Count = 43, train_loss = 2.30119, test_loss = 2.30102, diff = -1.3242740237728867e-12\n",
      "Epoch Count = 44, train_loss = 2.30119, test_loss = 2.30102, diff = -7.993605777301127e-13\n",
      "Epoch Count = 45, train_loss = 2.30119, test_loss = 2.30102, diff = -4.805045250577678e-13\n",
      "Epoch Count = 46, train_loss = 2.30119, test_loss = 2.30102, diff = -2.8954616482224083e-13\n",
      "Epoch Count = 47, train_loss = 2.30119, test_loss = 2.30102, diff = -1.7363888105137448e-13\n",
      "Epoch Count = 48, train_loss = 2.30119, test_loss = 2.30102, diff = -1.0436096431476471e-13\n",
      "Epoch Count = 49, train_loss = 2.30119, test_loss = 2.30102, diff = -6.17284001691587e-14\n",
      "Epoch Count = 50, train_loss = 2.30119, test_loss = 2.30102, diff = -3.730349362740526e-14\n",
      "Learning Finish!\n"
     ]
    }
   ],
   "source": [
    "ScratchDNN_Sigmoid_Xavier = ScratchDeepNeuralNetrowkClassifier(lr = 0.000008, n_nodes1 = 400, n_nodes2 = 200, n_output = 10, \n",
    "                                                epoch = 50, verbose = True, activation = \"Sigmoid\", Initializer = \"Xavier\")\n",
    "ScratchDNN_Sigmoid_Xavier.fit(X_train, y_train, X_test, y_test)"
   ]
  },
  {
   "cell_type": "code",
   "execution_count": 304,
   "metadata": {},
   "outputs": [
    {
     "data": {
      "text/plain": [
       "array([1, 1, 1, ..., 1, 1, 1], dtype=int64)"
      ]
     },
     "execution_count": 304,
     "metadata": {},
     "output_type": "execute_result"
    }
   ],
   "source": [
    "y_pred_Sigmoid_Xavier = ScratchDNN_Sigmoid_Xavier.predict(X_test)\n",
    "y_pred_Sigmoid_Xavier"
   ]
  },
  {
   "cell_type": "code",
   "execution_count": 305,
   "metadata": {},
   "outputs": [
    {
     "name": "stderr",
     "output_type": "stream",
     "text": [
      "C:\\Users\\Takatoshi\\anaconda3\\lib\\site-packages\\sklearn\\metrics\\_classification.py:1272: UndefinedMetricWarning: Precision and F-score are ill-defined and being set to 0.0 in labels with no predicted samples. Use `zero_division` parameter to control this behavior.\n",
      "  _warn_prf(average, modifier, msg_start, len(result))\n"
     ]
    },
    {
     "data": {
      "text/html": [
       "<div>\n",
       "<style scoped>\n",
       "    .dataframe tbody tr th:only-of-type {\n",
       "        vertical-align: middle;\n",
       "    }\n",
       "\n",
       "    .dataframe tbody tr th {\n",
       "        vertical-align: top;\n",
       "    }\n",
       "\n",
       "    .dataframe thead th {\n",
       "        text-align: right;\n",
       "    }\n",
       "</style>\n",
       "<table border=\"1\" class=\"dataframe\">\n",
       "  <thead>\n",
       "    <tr style=\"text-align: right;\">\n",
       "      <th></th>\n",
       "      <th>0</th>\n",
       "      <th>1</th>\n",
       "      <th>2</th>\n",
       "      <th>3</th>\n",
       "      <th>4</th>\n",
       "      <th>5</th>\n",
       "      <th>6</th>\n",
       "      <th>7</th>\n",
       "      <th>8</th>\n",
       "      <th>9</th>\n",
       "      <th>accuracy</th>\n",
       "      <th>macro avg</th>\n",
       "      <th>weighted avg</th>\n",
       "    </tr>\n",
       "  </thead>\n",
       "  <tbody>\n",
       "    <tr>\n",
       "      <th>precision</th>\n",
       "      <td>0.0</td>\n",
       "      <td>0.113500</td>\n",
       "      <td>0.0</td>\n",
       "      <td>0.0</td>\n",
       "      <td>0.0</td>\n",
       "      <td>0.0</td>\n",
       "      <td>0.0</td>\n",
       "      <td>0.0</td>\n",
       "      <td>0.0</td>\n",
       "      <td>0.0</td>\n",
       "      <td>0.1135</td>\n",
       "      <td>0.011350</td>\n",
       "      <td>0.012882</td>\n",
       "    </tr>\n",
       "    <tr>\n",
       "      <th>recall</th>\n",
       "      <td>0.0</td>\n",
       "      <td>1.000000</td>\n",
       "      <td>0.0</td>\n",
       "      <td>0.0</td>\n",
       "      <td>0.0</td>\n",
       "      <td>0.0</td>\n",
       "      <td>0.0</td>\n",
       "      <td>0.0</td>\n",
       "      <td>0.0</td>\n",
       "      <td>0.0</td>\n",
       "      <td>0.1135</td>\n",
       "      <td>0.100000</td>\n",
       "      <td>0.113500</td>\n",
       "    </tr>\n",
       "    <tr>\n",
       "      <th>f1-score</th>\n",
       "      <td>0.0</td>\n",
       "      <td>0.203862</td>\n",
       "      <td>0.0</td>\n",
       "      <td>0.0</td>\n",
       "      <td>0.0</td>\n",
       "      <td>0.0</td>\n",
       "      <td>0.0</td>\n",
       "      <td>0.0</td>\n",
       "      <td>0.0</td>\n",
       "      <td>0.0</td>\n",
       "      <td>0.1135</td>\n",
       "      <td>0.020386</td>\n",
       "      <td>0.023138</td>\n",
       "    </tr>\n",
       "    <tr>\n",
       "      <th>support</th>\n",
       "      <td>980.0</td>\n",
       "      <td>1135.000000</td>\n",
       "      <td>1032.0</td>\n",
       "      <td>1010.0</td>\n",
       "      <td>982.0</td>\n",
       "      <td>892.0</td>\n",
       "      <td>958.0</td>\n",
       "      <td>1028.0</td>\n",
       "      <td>974.0</td>\n",
       "      <td>1009.0</td>\n",
       "      <td>0.1135</td>\n",
       "      <td>10000.000000</td>\n",
       "      <td>10000.000000</td>\n",
       "    </tr>\n",
       "  </tbody>\n",
       "</table>\n",
       "</div>"
      ],
      "text/plain": [
       "               0            1       2       3      4      5      6       7  \\\n",
       "precision    0.0     0.113500     0.0     0.0    0.0    0.0    0.0     0.0   \n",
       "recall       0.0     1.000000     0.0     0.0    0.0    0.0    0.0     0.0   \n",
       "f1-score     0.0     0.203862     0.0     0.0    0.0    0.0    0.0     0.0   \n",
       "support    980.0  1135.000000  1032.0  1010.0  982.0  892.0  958.0  1028.0   \n",
       "\n",
       "               8       9  accuracy     macro avg  weighted avg  \n",
       "precision    0.0     0.0    0.1135      0.011350      0.012882  \n",
       "recall       0.0     0.0    0.1135      0.100000      0.113500  \n",
       "f1-score     0.0     0.0    0.1135      0.020386      0.023138  \n",
       "support    974.0  1009.0    0.1135  10000.000000  10000.000000  "
      ]
     },
     "execution_count": 305,
     "metadata": {},
     "output_type": "execute_result"
    }
   ],
   "source": [
    "import pandas as pd\n",
    "from sklearn.metrics import classification_report\n",
    "cr = classification_report(y_test, y_pred_Sigmoid_Xavier, output_dict=True)\n",
    "\n",
    "# pandas.DataFrameへ変換\n",
    "df_cr = pd.DataFrame(cr)\n",
    "df_cr"
   ]
  },
  {
   "cell_type": "markdown",
   "metadata": {},
   "source": [
    "ACC = 11％"
   ]
  },
  {
   "cell_type": "code",
   "execution_count": 306,
   "metadata": {},
   "outputs": [
    {
     "data": {
      "text/plain": [
       "Text(0.5, 1.0, 'Loss Curve (activation:Sigmoid, Initializer:Xavier)')"
      ]
     },
     "execution_count": 306,
     "metadata": {},
     "output_type": "execute_result"
    },
    {
     "data": {
      "image/png": "[encoded data removed]",
      "text/plain": [
       "<Figure size 432x288 with 1 Axes>"
      ]
     },
     "metadata": {
      "needs_background": "light"
     },
     "output_type": "display_data"
    }
   ],
   "source": [
    "plt.plot(range(len(ScratchDNN_Sigmoid_Xavier.train_loss_list)), ScratchDNN_Sigmoid_Xavier.train_loss_list, color = \"blue\")\n",
    "plt.plot(range(len(ScratchDNN_Sigmoid_Xavier.test_loss_list)), ScratchDNN_Sigmoid_Xavier.test_loss_list, color = \"red\")\n",
    "plt.xlabel(\"Epoch\")\n",
    "plt.ylabel(\"Loss\")\n",
    "plt.title(\"Loss Curve (activation:Sigmoid, Initializer:Xavier)\")"
   ]
  },
  {
   "cell_type": "markdown",
   "metadata": {},
   "source": [
    "Xavierの初期値を使うと、ガウスの初期値と同じ学習率では学習が進まなくなり、学習率の最適値も不明である。  \n",
    "これに関しては、学習率自動最適化機能のあるAdam等を使う必要があるかと考える。"
   ]
  },
  {
   "cell_type": "markdown",
   "metadata": {},
   "source": [
    "### ＜学習率：0.0005、活性化関数：Relu、初期化：Xavier＞"
   ]
  },
  {
   "cell_type": "code",
   "execution_count": 207,
   "metadata": {},
   "outputs": [
    {
     "name": "stdout",
     "output_type": "stream",
     "text": [
      "★★★XavierInitializer\n",
      "★★★XavierInitializer: W Set\n",
      "★★★XavierInitializer: B Set\n",
      "★★★XavierInitializer\n",
      "★★★XavierInitializer: W Set\n",
      "★★★XavierInitializer: B Set\n",
      "★★★XavierInitializer\n",
      "★★★XavierInitializer: W Set\n",
      "★★★XavierInitializer: B Set\n",
      "Learning Start!\n",
      "Epoch Count = 1, train_loss = 8.75088, test_loss = 4.86324, diff = 0\n",
      "Epoch Count = 2, train_loss = 4.58532, test_loss = 3.85844, diff = -1.0048069988309223\n",
      "Epoch Count = 3, train_loss = 3.23146, test_loss = 2.76144, diff = -1.0969928316271598\n",
      "Epoch Count = 4, train_loss = 2.58059, test_loss = 2.45788, diff = -0.3035661627420181\n",
      "Epoch Count = 5, train_loss = 2.40864, test_loss = 2.37388, diff = -0.08399707446655302\n",
      "Epoch Count = 6, train_loss = 2.35429, test_loss = 2.33887, diff = -0.0350119725999023\n",
      "Epoch Count = 7, train_loss = 2.33037, test_loss = 2.32260, diff = -0.016269925343152192\n",
      "Epoch Count = 8, train_loss = 2.31768, test_loss = 2.31301, diff = -0.009586448915977819\n",
      "Epoch Count = 9, train_loss = 2.31027, test_loss = 2.30750, diff = -0.00551182294455721\n",
      "Epoch Count = 10, train_loss = 2.30606, test_loss = 2.30443, diff = -0.003069842821092461\n",
      "Epoch Count = 11, train_loss = 2.30374, test_loss = 2.30277, diff = -0.0016563638047077944\n",
      "Epoch Count = 12, train_loss = 2.30250, test_loss = 2.30191, diff = -0.0008688689640226066\n",
      "Epoch Count = 13, train_loss = 2.30185, test_loss = 2.30146, diff = -0.000445168483808267\n",
      "Epoch Count = 14, train_loss = 2.30152, test_loss = 2.30124, diff = -0.0002237488691454459\n",
      "Epoch Count = 15, train_loss = 2.30135, test_loss = 2.30113, diff = -0.00011070031250381973\n",
      "Epoch Count = 16, train_loss = 2.30127, test_loss = 2.30107, diff = -5.403174782836473e-05\n",
      "Epoch Count = 17, train_loss = 2.30123, test_loss = 2.30105, diff = -2.6041209332472448e-05\n",
      "Epoch Count = 18, train_loss = 2.30121, test_loss = 2.30103, diff = -1.2387870754082542e-05\n",
      "Epoch Count = 19, train_loss = 2.30120, test_loss = 2.30103, diff = -5.805051348506396e-06\n",
      "Epoch Count = 20, train_loss = 2.30119, test_loss = 2.30102, diff = -2.669334132399115e-06\n",
      "Epoch Count = 21, train_loss = 2.30119, test_loss = 2.30102, diff = -1.1964157753396876e-06\n",
      "Epoch Count = 22, train_loss = 2.30119, test_loss = 2.30102, diff = -5.167609304912446e-07\n",
      "Epoch Count = 23, train_loss = 2.30119, test_loss = 2.30102, diff = -2.1069193412159848e-07\n",
      "Epoch Count = 24, train_loss = 2.30119, test_loss = 2.30102, diff = -7.768213539094404e-08\n",
      "Epoch Count = 25, train_loss = 2.30119, test_loss = 2.30102, diff = -2.3040197749679692e-08\n",
      "Epoch Count = 26, train_loss = 2.30119, test_loss = 2.30102, diff = -2.723086200973057e-09\n",
      "Epoch Count = 27, train_loss = 2.30119, test_loss = 2.30102, diff = 3.3316993608423218e-09\n",
      "Epoch Count = 28, train_loss = 2.30119, test_loss = 2.30102, diff = 3.987596919330372e-09\n",
      "Epoch Count = 29, train_loss = 2.30119, test_loss = 2.30102, diff = 2.976242807761764e-09\n",
      "Epoch Count = 30, train_loss = 2.30119, test_loss = 2.30102, diff = 1.7420287434788406e-09\n",
      "Epoch Count = 31, train_loss = 2.30119, test_loss = 2.30102, diff = 7.531317791631409e-10\n",
      "Epoch Count = 32, train_loss = 2.30119, test_loss = 2.30102, diff = 9.088330088502516e-11\n",
      "Epoch Count = 33, train_loss = 2.30119, test_loss = 2.30102, diff = -2.9527758016456573e-10\n",
      "Epoch Count = 34, train_loss = 2.30119, test_loss = 2.30102, diff = -4.844515899549151e-10\n",
      "Epoch Count = 35, train_loss = 2.30119, test_loss = 2.30102, diff = -5.473070885386733e-10\n",
      "Epoch Count = 36, train_loss = 2.30119, test_loss = 2.30102, diff = -5.366307398446679e-10\n",
      "Epoch Count = 37, train_loss = 2.30119, test_loss = 2.30102, diff = -4.881357540398312e-10\n",
      "Epoch Count = 38, train_loss = 2.30119, test_loss = 2.30102, diff = -4.242393103481845e-10\n",
      "Epoch Count = 39, train_loss = 2.30119, test_loss = 2.30102, diff = -3.580176155537629e-10\n",
      "Epoch Count = 40, train_loss = 2.30119, test_loss = 2.30102, diff = -2.9640423448995534e-10\n",
      "Epoch Count = 41, train_loss = 2.30119, test_loss = 2.30102, diff = -2.425197820343783e-10\n",
      "Epoch Count = 42, train_loss = 2.30119, test_loss = 2.30102, diff = -1.9725643340962051e-10\n",
      "Epoch Count = 43, train_loss = 2.30119, test_loss = 2.30102, diff = -1.602931121169604e-10\n",
      "Epoch Count = 44, train_loss = 2.30119, test_loss = 2.30102, diff = -1.3073586657696978e-10\n",
      "Epoch Count = 45, train_loss = 2.30119, test_loss = 2.30102, diff = -1.074762501218629e-10\n",
      "Epoch Count = 46, train_loss = 2.30119, test_loss = 2.30102, diff = -8.94031515485949e-11\n",
      "Epoch Count = 47, train_loss = 2.30119, test_loss = 2.30102, diff = -7.550404745870765e-11\n",
      "Epoch Count = 48, train_loss = 2.30119, test_loss = 2.30102, diff = -6.49058584656359e-11\n",
      "Epoch Count = 49, train_loss = 2.30119, test_loss = 2.30102, diff = -5.687850190838617e-11\n",
      "Epoch Count = 50, train_loss = 2.30119, test_loss = 2.30102, diff = -5.083800047600562e-11\n",
      "Learning Finish!\n"
     ]
    }
   ],
   "source": [
    "ScratchDNN_Relu_Xavier = ScratchDeepNeuralNetrowkClassifier(lr = 0.0005, n_nodes1 = 400, n_nodes2 = 200, n_output = 10, \n",
    "                                                epoch = 50, verbose = True, activation = \"Relu\", Initializer = \"Xavier\")\n",
    "ScratchDNN_Relu_Xavier.fit(X_train, y_train, X_test, y_test)"
   ]
  },
  {
   "cell_type": "code",
   "execution_count": 208,
   "metadata": {},
   "outputs": [
    {
     "data": {
      "text/plain": [
       "array([1, 1, 1, ..., 1, 1, 1], dtype=int64)"
      ]
     },
     "execution_count": 208,
     "metadata": {},
     "output_type": "execute_result"
    }
   ],
   "source": [
    "y_pred_Relu_Xavier = ScratchDNN_Relu_Xavier.predict(X_test)\n",
    "y_pred_Relu_Xavier"
   ]
  },
  {
   "cell_type": "code",
   "execution_count": 209,
   "metadata": {},
   "outputs": [
    {
     "name": "stderr",
     "output_type": "stream",
     "text": [
      "C:\\Users\\Takatoshi\\anaconda3\\lib\\site-packages\\sklearn\\metrics\\_classification.py:1272: UndefinedMetricWarning: Precision and F-score are ill-defined and being set to 0.0 in labels with no predicted samples. Use `zero_division` parameter to control this behavior.\n",
      "  _warn_prf(average, modifier, msg_start, len(result))\n"
     ]
    },
    {
     "data": {
      "text/html": [
       "<div>\n",
       "<style scoped>\n",
       "    .dataframe tbody tr th:only-of-type {\n",
       "        vertical-align: middle;\n",
       "    }\n",
       "\n",
       "    .dataframe tbody tr th {\n",
       "        vertical-align: top;\n",
       "    }\n",
       "\n",
       "    .dataframe thead th {\n",
       "        text-align: right;\n",
       "    }\n",
       "</style>\n",
       "<table border=\"1\" class=\"dataframe\">\n",
       "  <thead>\n",
       "    <tr style=\"text-align: right;\">\n",
       "      <th></th>\n",
       "      <th>0</th>\n",
       "      <th>1</th>\n",
       "      <th>2</th>\n",
       "      <th>3</th>\n",
       "      <th>4</th>\n",
       "      <th>5</th>\n",
       "      <th>6</th>\n",
       "      <th>7</th>\n",
       "      <th>8</th>\n",
       "      <th>9</th>\n",
       "      <th>accuracy</th>\n",
       "      <th>macro avg</th>\n",
       "      <th>weighted avg</th>\n",
       "    </tr>\n",
       "  </thead>\n",
       "  <tbody>\n",
       "    <tr>\n",
       "      <th>precision</th>\n",
       "      <td>0.0</td>\n",
       "      <td>0.113500</td>\n",
       "      <td>0.0</td>\n",
       "      <td>0.0</td>\n",
       "      <td>0.0</td>\n",
       "      <td>0.0</td>\n",
       "      <td>0.0</td>\n",
       "      <td>0.0</td>\n",
       "      <td>0.0</td>\n",
       "      <td>0.0</td>\n",
       "      <td>0.1135</td>\n",
       "      <td>0.011350</td>\n",
       "      <td>0.012882</td>\n",
       "    </tr>\n",
       "    <tr>\n",
       "      <th>recall</th>\n",
       "      <td>0.0</td>\n",
       "      <td>1.000000</td>\n",
       "      <td>0.0</td>\n",
       "      <td>0.0</td>\n",
       "      <td>0.0</td>\n",
       "      <td>0.0</td>\n",
       "      <td>0.0</td>\n",
       "      <td>0.0</td>\n",
       "      <td>0.0</td>\n",
       "      <td>0.0</td>\n",
       "      <td>0.1135</td>\n",
       "      <td>0.100000</td>\n",
       "      <td>0.113500</td>\n",
       "    </tr>\n",
       "    <tr>\n",
       "      <th>f1-score</th>\n",
       "      <td>0.0</td>\n",
       "      <td>0.203862</td>\n",
       "      <td>0.0</td>\n",
       "      <td>0.0</td>\n",
       "      <td>0.0</td>\n",
       "      <td>0.0</td>\n",
       "      <td>0.0</td>\n",
       "      <td>0.0</td>\n",
       "      <td>0.0</td>\n",
       "      <td>0.0</td>\n",
       "      <td>0.1135</td>\n",
       "      <td>0.020386</td>\n",
       "      <td>0.023138</td>\n",
       "    </tr>\n",
       "    <tr>\n",
       "      <th>support</th>\n",
       "      <td>980.0</td>\n",
       "      <td>1135.000000</td>\n",
       "      <td>1032.0</td>\n",
       "      <td>1010.0</td>\n",
       "      <td>982.0</td>\n",
       "      <td>892.0</td>\n",
       "      <td>958.0</td>\n",
       "      <td>1028.0</td>\n",
       "      <td>974.0</td>\n",
       "      <td>1009.0</td>\n",
       "      <td>0.1135</td>\n",
       "      <td>10000.000000</td>\n",
       "      <td>10000.000000</td>\n",
       "    </tr>\n",
       "  </tbody>\n",
       "</table>\n",
       "</div>"
      ],
      "text/plain": [
       "               0            1       2       3      4      5      6       7  \\\n",
       "precision    0.0     0.113500     0.0     0.0    0.0    0.0    0.0     0.0   \n",
       "recall       0.0     1.000000     0.0     0.0    0.0    0.0    0.0     0.0   \n",
       "f1-score     0.0     0.203862     0.0     0.0    0.0    0.0    0.0     0.0   \n",
       "support    980.0  1135.000000  1032.0  1010.0  982.0  892.0  958.0  1028.0   \n",
       "\n",
       "               8       9  accuracy     macro avg  weighted avg  \n",
       "precision    0.0     0.0    0.1135      0.011350      0.012882  \n",
       "recall       0.0     0.0    0.1135      0.100000      0.113500  \n",
       "f1-score     0.0     0.0    0.1135      0.020386      0.023138  \n",
       "support    974.0  1009.0    0.1135  10000.000000  10000.000000  "
      ]
     },
     "execution_count": 209,
     "metadata": {},
     "output_type": "execute_result"
    }
   ],
   "source": [
    "import pandas as pd\n",
    "from sklearn.metrics import classification_report\n",
    "cr = classification_report(y_test, y_pred_Relu_Xavier, output_dict=True)\n",
    "\n",
    "# pandas.DataFrameへ変換\n",
    "df_cr = pd.DataFrame(cr)\n",
    "df_cr"
   ]
  },
  {
   "cell_type": "markdown",
   "metadata": {},
   "source": [
    "ACC　≒　11.3％"
   ]
  },
  {
   "cell_type": "code",
   "execution_count": 223,
   "metadata": {},
   "outputs": [
    {
     "data": {
      "text/plain": [
       "Text(0.5, 1.0, 'Loss Curve (activation:Relu, Initializer:Xavier)')"
      ]
     },
     "execution_count": 223,
     "metadata": {},
     "output_type": "execute_result"
    },
    {
     "data": {
      "image/png": "[encoded data removed]",
      "text/plain": [
       "<Figure size 432x288 with 1 Axes>"
      ]
     },
     "metadata": {
      "needs_background": "light"
     },
     "output_type": "display_data"
    }
   ],
   "source": [
    "plt.plot(range(len(ScratchDNN_Relu_Xavier.train_loss_list)), ScratchDNN_Relu_Xavier.train_loss_list, color = \"blue\")\n",
    "plt.plot(range(len(ScratchDNN_Relu_Xavier.test_loss_list)), ScratchDNN_Relu_Xavier.test_loss_list, color = \"red\")\n",
    "plt.xlabel(\"Epoch\")\n",
    "plt.ylabel(\"Loss\")\n",
    "plt.title(\"Loss Curve (activation:Relu, Initializer:Xavier)\")"
   ]
  },
  {
   "cell_type": "markdown",
   "metadata": {},
   "source": [
    "学習曲線は、きれいな曲線となっているが、ACCが低い"
   ]
  },
  {
   "cell_type": "markdown",
   "metadata": {},
   "source": [
    "#### ＜学習率：0.00001、活性化関数：Tanh、初期化：Xavier＞"
   ]
  },
  {
   "cell_type": "code",
   "execution_count": 219,
   "metadata": {},
   "outputs": [
    {
     "name": "stdout",
     "output_type": "stream",
     "text": [
      "★★★XavierInitializer\n",
      "★★★XavierInitializer: W Set\n",
      "★★★XavierInitializer: B Set\n",
      "★★★XavierInitializer\n",
      "★★★XavierInitializer: W Set\n",
      "★★★XavierInitializer: B Set\n",
      "★★★XavierInitializer\n",
      "★★★XavierInitializer: W Set\n",
      "★★★XavierInitializer: B Set\n",
      "Learning Start!\n",
      "Epoch Count = 1, train_loss = 2.38618, test_loss = 2.34125, diff = 0\n",
      "Epoch Count = 2, train_loss = 2.32257, test_loss = 2.31214, diff = -0.02911586225978402\n",
      "Epoch Count = 3, train_loss = 2.30703, test_loss = 2.30435, diff = -0.007789357285325149\n",
      "Epoch Count = 4, train_loss = 2.30286, test_loss = 2.30209, diff = -0.002254405185354802\n",
      "Epoch Count = 5, train_loss = 2.30169, test_loss = 2.30140, diff = -0.0006948418528067712\n",
      "Epoch Count = 6, train_loss = 2.30135, test_loss = 2.30117, diff = -0.00022958761721225684\n",
      "Epoch Count = 7, train_loss = 2.30125, test_loss = 2.30109, diff = -8.267286952490238e-05\n",
      "Epoch Count = 8, train_loss = 2.30122, test_loss = 2.30105, diff = -3.286439639005323e-05\n",
      "Epoch Count = 9, train_loss = 2.30121, test_loss = 2.30104, diff = -1.4399448703183992e-05\n",
      "Epoch Count = 10, train_loss = 2.30120, test_loss = 2.30103, diff = -6.837741508114448e-06\n",
      "Epoch Count = 11, train_loss = 2.30120, test_loss = 2.30103, diff = -3.4378129649681455e-06\n",
      "Epoch Count = 12, train_loss = 2.30120, test_loss = 2.30103, diff = -1.7919868464666422e-06\n",
      "Epoch Count = 13, train_loss = 2.30120, test_loss = 2.30102, diff = -9.539788665691162e-07\n",
      "Epoch Count = 14, train_loss = 2.30120, test_loss = 2.30102, diff = -5.137859226955754e-07\n",
      "Epoch Count = 15, train_loss = 2.30120, test_loss = 2.30102, diff = -2.783916728255065e-07\n",
      "Epoch Count = 16, train_loss = 2.30120, test_loss = 2.30102, diff = -1.5128741193137785e-07\n",
      "Epoch Count = 17, train_loss = 2.30120, test_loss = 2.30102, diff = -8.231337611519507e-08\n",
      "Epoch Count = 18, train_loss = 2.30120, test_loss = 2.30102, diff = -4.479668591628183e-08\n",
      "Epoch Count = 19, train_loss = 2.30120, test_loss = 2.30102, diff = -2.437254842391212e-08\n",
      "Epoch Count = 20, train_loss = 2.30120, test_loss = 2.30102, diff = -1.3252786423834095e-08\n",
      "Epoch Count = 21, train_loss = 2.30120, test_loss = 2.30102, diff = -7.200940732587924e-09\n",
      "Epoch Count = 22, train_loss = 2.30120, test_loss = 2.30102, diff = -3.909303991633806e-09\n",
      "Epoch Count = 23, train_loss = 2.30120, test_loss = 2.30102, diff = -2.120330577781715e-09\n",
      "Epoch Count = 24, train_loss = 2.30120, test_loss = 2.30102, diff = -1.1488769935397158e-09\n",
      "Epoch Count = 25, train_loss = 2.30120, test_loss = 2.30102, diff = -6.21845241965957e-10\n",
      "Epoch Count = 26, train_loss = 2.30120, test_loss = 2.30102, diff = -3.362030653875081e-10\n",
      "Epoch Count = 27, train_loss = 2.30120, test_loss = 2.30102, diff = -1.8155299486011245e-10\n",
      "Epoch Count = 28, train_loss = 2.30120, test_loss = 2.30102, diff = -9.79145653445812e-11\n",
      "Epoch Count = 29, train_loss = 2.30120, test_loss = 2.30102, diff = -5.2735593669694936e-11\n",
      "Epoch Count = 30, train_loss = 2.30120, test_loss = 2.30102, diff = -2.83604251194447e-11\n",
      "Epoch Count = 31, train_loss = 2.30120, test_loss = 2.30102, diff = -1.5228263094968497e-11\n",
      "Epoch Count = 32, train_loss = 2.30120, test_loss = 2.30102, diff = -8.162359677044151e-12\n",
      "Epoch Count = 33, train_loss = 2.30120, test_loss = 2.30102, diff = -4.366285111245816e-12\n",
      "Epoch Count = 34, train_loss = 2.30120, test_loss = 2.30102, diff = -2.3319124409226788e-12\n",
      "Epoch Count = 35, train_loss = 2.30120, test_loss = 2.30102, diff = -1.2421175199506251e-12\n",
      "Epoch Count = 36, train_loss = 2.30120, test_loss = 2.30102, diff = -6.59916565837193e-13\n",
      "Epoch Count = 37, train_loss = 2.30120, test_loss = 2.30102, diff = -3.490541189421492e-13\n",
      "Epoch Count = 38, train_loss = 2.30120, test_loss = 2.30102, diff = -1.8474111129762605e-13\n",
      "Epoch Count = 39, train_loss = 2.30120, test_loss = 2.30102, diff = -9.769962616701378e-14\n",
      "Epoch Count = 40, train_loss = 2.30120, test_loss = 2.30102, diff = -5.10702591327572e-14\n",
      "Epoch Count = 41, train_loss = 2.30120, test_loss = 2.30102, diff = -2.6201263381153694e-14\n",
      "Epoch Count = 42, train_loss = 2.30120, test_loss = 2.30102, diff = -1.3766765505351941e-14\n",
      "Epoch Count = 43, train_loss = 2.30120, test_loss = 2.30102, diff = -7.105427357601002e-15\n",
      "Epoch Count = 44, train_loss = 2.30120, test_loss = 2.30102, diff = -3.552713678800501e-15\n",
      "Epoch Count = 45, train_loss = 2.30120, test_loss = 2.30102, diff = -2.6645352591003757e-15\n",
      "Epoch Count = 46, train_loss = 2.30120, test_loss = 2.30102, diff = -4.440892098500626e-16\n",
      "Epoch Count = 47, train_loss = 2.30120, test_loss = 2.30102, diff = -0.0\n",
      "Epoch Count = 48, train_loss = 2.30120, test_loss = 2.30102, diff = -4.440892098500626e-16\n",
      "Epoch Count = 49, train_loss = 2.30120, test_loss = 2.30102, diff = -4.440892098500626e-16\n",
      "Epoch Count = 50, train_loss = 2.30120, test_loss = 2.30102, diff = -0.0\n",
      "Learning Finish!\n"
     ]
    }
   ],
   "source": [
    "ScratchDNN_Tanh_Xavier = ScratchDeepNeuralNetrowkClassifier(lr = 0.00001, n_nodes1 = 400, n_nodes2 = 200, n_output = 10, \n",
    "                                                epoch = 50, verbose = True, activation = \"Tanh\", Initializer = \"Xavier\")\n",
    "ScratchDNN_Tanh_Xavier.fit(X_train, y_train, X_test, y_test)"
   ]
  },
  {
   "cell_type": "code",
   "execution_count": 220,
   "metadata": {},
   "outputs": [
    {
     "data": {
      "text/plain": [
       "array([1, 1, 1, ..., 1, 1, 1], dtype=int64)"
      ]
     },
     "execution_count": 220,
     "metadata": {},
     "output_type": "execute_result"
    }
   ],
   "source": [
    "y_pred_Tanh_Xavier = ScratchDNN_Tanh_Xavier.predict(X_test)\n",
    "y_pred_Tanh_Xavier"
   ]
  },
  {
   "cell_type": "code",
   "execution_count": 221,
   "metadata": {},
   "outputs": [
    {
     "name": "stderr",
     "output_type": "stream",
     "text": [
      "C:\\Users\\Takatoshi\\anaconda3\\lib\\site-packages\\sklearn\\metrics\\_classification.py:1272: UndefinedMetricWarning: Precision and F-score are ill-defined and being set to 0.0 in labels with no predicted samples. Use `zero_division` parameter to control this behavior.\n",
      "  _warn_prf(average, modifier, msg_start, len(result))\n"
     ]
    },
    {
     "data": {
      "text/html": [
       "<div>\n",
       "<style scoped>\n",
       "    .dataframe tbody tr th:only-of-type {\n",
       "        vertical-align: middle;\n",
       "    }\n",
       "\n",
       "    .dataframe tbody tr th {\n",
       "        vertical-align: top;\n",
       "    }\n",
       "\n",
       "    .dataframe thead th {\n",
       "        text-align: right;\n",
       "    }\n",
       "</style>\n",
       "<table border=\"1\" class=\"dataframe\">\n",
       "  <thead>\n",
       "    <tr style=\"text-align: right;\">\n",
       "      <th></th>\n",
       "      <th>0</th>\n",
       "      <th>1</th>\n",
       "      <th>2</th>\n",
       "      <th>3</th>\n",
       "      <th>4</th>\n",
       "      <th>5</th>\n",
       "      <th>6</th>\n",
       "      <th>7</th>\n",
       "      <th>8</th>\n",
       "      <th>9</th>\n",
       "      <th>accuracy</th>\n",
       "      <th>macro avg</th>\n",
       "      <th>weighted avg</th>\n",
       "    </tr>\n",
       "  </thead>\n",
       "  <tbody>\n",
       "    <tr>\n",
       "      <th>precision</th>\n",
       "      <td>0.0</td>\n",
       "      <td>0.113500</td>\n",
       "      <td>0.0</td>\n",
       "      <td>0.0</td>\n",
       "      <td>0.0</td>\n",
       "      <td>0.0</td>\n",
       "      <td>0.0</td>\n",
       "      <td>0.0</td>\n",
       "      <td>0.0</td>\n",
       "      <td>0.0</td>\n",
       "      <td>0.1135</td>\n",
       "      <td>0.011350</td>\n",
       "      <td>0.012882</td>\n",
       "    </tr>\n",
       "    <tr>\n",
       "      <th>recall</th>\n",
       "      <td>0.0</td>\n",
       "      <td>1.000000</td>\n",
       "      <td>0.0</td>\n",
       "      <td>0.0</td>\n",
       "      <td>0.0</td>\n",
       "      <td>0.0</td>\n",
       "      <td>0.0</td>\n",
       "      <td>0.0</td>\n",
       "      <td>0.0</td>\n",
       "      <td>0.0</td>\n",
       "      <td>0.1135</td>\n",
       "      <td>0.100000</td>\n",
       "      <td>0.113500</td>\n",
       "    </tr>\n",
       "    <tr>\n",
       "      <th>f1-score</th>\n",
       "      <td>0.0</td>\n",
       "      <td>0.203862</td>\n",
       "      <td>0.0</td>\n",
       "      <td>0.0</td>\n",
       "      <td>0.0</td>\n",
       "      <td>0.0</td>\n",
       "      <td>0.0</td>\n",
       "      <td>0.0</td>\n",
       "      <td>0.0</td>\n",
       "      <td>0.0</td>\n",
       "      <td>0.1135</td>\n",
       "      <td>0.020386</td>\n",
       "      <td>0.023138</td>\n",
       "    </tr>\n",
       "    <tr>\n",
       "      <th>support</th>\n",
       "      <td>980.0</td>\n",
       "      <td>1135.000000</td>\n",
       "      <td>1032.0</td>\n",
       "      <td>1010.0</td>\n",
       "      <td>982.0</td>\n",
       "      <td>892.0</td>\n",
       "      <td>958.0</td>\n",
       "      <td>1028.0</td>\n",
       "      <td>974.0</td>\n",
       "      <td>1009.0</td>\n",
       "      <td>0.1135</td>\n",
       "      <td>10000.000000</td>\n",
       "      <td>10000.000000</td>\n",
       "    </tr>\n",
       "  </tbody>\n",
       "</table>\n",
       "</div>"
      ],
      "text/plain": [
       "               0            1       2       3      4      5      6       7  \\\n",
       "precision    0.0     0.113500     0.0     0.0    0.0    0.0    0.0     0.0   \n",
       "recall       0.0     1.000000     0.0     0.0    0.0    0.0    0.0     0.0   \n",
       "f1-score     0.0     0.203862     0.0     0.0    0.0    0.0    0.0     0.0   \n",
       "support    980.0  1135.000000  1032.0  1010.0  982.0  892.0  958.0  1028.0   \n",
       "\n",
       "               8       9  accuracy     macro avg  weighted avg  \n",
       "precision    0.0     0.0    0.1135      0.011350      0.012882  \n",
       "recall       0.0     0.0    0.1135      0.100000      0.113500  \n",
       "f1-score     0.0     0.0    0.1135      0.020386      0.023138  \n",
       "support    974.0  1009.0    0.1135  10000.000000  10000.000000  "
      ]
     },
     "execution_count": 221,
     "metadata": {},
     "output_type": "execute_result"
    }
   ],
   "source": [
    "import pandas as pd\n",
    "from sklearn.metrics import classification_report\n",
    "cr = classification_report(y_test, y_pred_Tanh_Xavier, output_dict=True)\n",
    "\n",
    "# pandas.DataFrameへ変換\n",
    "df_cr = pd.DataFrame(cr)\n",
    "df_cr"
   ]
  },
  {
   "cell_type": "markdown",
   "metadata": {},
   "source": [
    "ACC ≒ 11.4％"
   ]
  },
  {
   "cell_type": "code",
   "execution_count": 222,
   "metadata": {},
   "outputs": [
    {
     "data": {
      "text/plain": [
       "Text(0.5, 1.0, 'Loss Curve (activation:Sigmoid, Initializer:Xavier)')"
      ]
     },
     "execution_count": 222,
     "metadata": {},
     "output_type": "execute_result"
    },
    {
     "data": {
      "image/png": "[encoded data removed]",
      "text/plain": [
       "<Figure size 432x288 with 1 Axes>"
      ]
     },
     "metadata": {
      "needs_background": "light"
     },
     "output_type": "display_data"
    }
   ],
   "source": [
    "plt.plot(range(len(ScratchDNN_Tanh_Xavier.train_loss_list)), ScratchDNN_Tanh_Xavier.train_loss_list, color = \"blue\")\n",
    "plt.plot(range(len(ScratchDNN_Tanh_Xavier.test_loss_list)), ScratchDNN_Tanh_Xavier.test_loss_list, color = \"red\")\n",
    "plt.xlabel(\"Epoch\")\n",
    "plt.ylabel(\"Loss\")\n",
    "plt.title(\"Loss Curve (activation:Sigmoid, Initializer:Xavier)\")"
   ]
  },
  {
   "cell_type": "markdown",
   "metadata": {},
   "source": [
    "学習曲線はきれいであるが、こちらもACC ≒ 11.4%であるため全然ダメ。  \n",
    "やはり学習率の動的変更が必要であろう。"
   ]
  },
  {
   "cell_type": "code",
   "execution_count": null,
   "metadata": {},
   "outputs": [],
   "source": []
  },
  {
   "cell_type": "markdown",
   "metadata": {},
   "source": [
    "### ＜学習率：0.000001、活性化関数：Sigmoid、初期化：He＞"
   ]
  },
  {
   "cell_type": "code",
   "execution_count": 307,
   "metadata": {},
   "outputs": [
    {
     "name": "stdout",
     "output_type": "stream",
     "text": [
      "Learning Start!\n",
      "Epoch Count = 1, train_loss = 2.43450, test_loss = 2.42783, diff = 0\n",
      "Epoch Count = 2, train_loss = 2.41668, test_loss = 2.41118, diff = -0.016647830491002935\n",
      "Epoch Count = 3, train_loss = 2.40138, test_loss = 2.39686, diff = -0.014323028278258487\n",
      "Epoch Count = 4, train_loss = 2.38822, test_loss = 2.38452, diff = -0.01234470876211713\n",
      "Epoch Count = 5, train_loss = 2.37688, test_loss = 2.37386, diff = -0.010657859720766272\n",
      "Epoch Count = 6, train_loss = 2.36709, test_loss = 2.36464, diff = -0.009216724587809644\n",
      "Epoch Count = 7, train_loss = 2.35864, test_loss = 2.35666, diff = -0.007983152212215572\n",
      "Epoch Count = 8, train_loss = 2.35132, test_loss = 2.34973, diff = -0.006925265099936073\n",
      "Epoch Count = 9, train_loss = 2.34497, test_loss = 2.34372, diff = -0.00601637575097147\n",
      "Epoch Count = 10, train_loss = 2.33946, test_loss = 2.33848, diff = -0.005234099793140157\n",
      "Epoch Count = 11, train_loss = 2.33467, test_loss = 2.33392, diff = -0.00455962729648185\n",
      "Epoch Count = 12, train_loss = 2.33051, test_loss = 2.32995, diff = -0.003977122410484313\n",
      "Epoch Count = 13, train_loss = 2.32688, test_loss = 2.32647, diff = -0.003473227752489816\n",
      "Epoch Count = 14, train_loss = 2.32371, test_loss = 2.32344, diff = -0.0030366546534623673\n",
      "Epoch Count = 15, train_loss = 2.32095, test_loss = 2.32078, diff = -0.0026578439574200807\n",
      "Epoch Count = 16, train_loss = 2.31854, test_loss = 2.31845, diff = -0.0023286848940329286\n",
      "Epoch Count = 17, train_loss = 2.31642, test_loss = 2.31641, diff = -0.002042281803730006\n",
      "Epoch Count = 18, train_loss = 2.31458, test_loss = 2.31461, diff = -0.0017927603251819413\n",
      "Epoch Count = 19, train_loss = 2.31296, test_loss = 2.31304, diff = -0.0015751061490969498\n",
      "Epoch Count = 20, train_loss = 2.31154, test_loss = 2.31165, diff = -0.0013850306666487455\n",
      "Epoch Count = 21, train_loss = 2.31029, test_loss = 2.31044, diff = -0.001218858846735671\n",
      "Epoch Count = 22, train_loss = 2.30920, test_loss = 2.30936, diff = -0.0010734355029606846\n",
      "Epoch Count = 23, train_loss = 2.30824, test_loss = 2.30842, diff = -0.0009460467909772063\n",
      "Epoch Count = 24, train_loss = 2.30740, test_loss = 2.30758, diff = -0.00083435433535195\n",
      "Epoch Count = 25, train_loss = 2.30666, test_loss = 2.30685, diff = -0.0007363398440216606\n",
      "Epoch Count = 26, train_loss = 2.30601, test_loss = 2.30620, diff = -0.0006502584451286708\n",
      "Epoch Count = 27, train_loss = 2.30543, test_loss = 2.30562, diff = -0.000574599290408706\n",
      "Epoch Count = 28, train_loss = 2.30493, test_loss = 2.30511, diff = -0.0005080522231439843\n",
      "Epoch Count = 29, train_loss = 2.30448, test_loss = 2.30466, diff = -0.0004494795171949839\n",
      "Epoch Count = 30, train_loss = 2.30409, test_loss = 2.30427, diff = -0.00039789186476024696\n",
      "Epoch Count = 31, train_loss = 2.30375, test_loss = 2.30391, diff = -0.00035242793125345173\n",
      "Epoch Count = 32, train_loss = 2.30344, test_loss = 2.30360, diff = -0.00031233691128784713\n",
      "Epoch Count = 33, train_loss = 2.30318, test_loss = 2.30332, diff = -0.00027696361500817446\n",
      "Epoch Count = 34, train_loss = 2.30294, test_loss = 2.30308, diff = -0.00024573569252028804\n",
      "Epoch Count = 35, train_loss = 2.30273, test_loss = 2.30286, diff = -0.00021815266878943973\n",
      "Epoch Count = 36, train_loss = 2.30255, test_loss = 2.30267, diff = -0.0001937765150374915\n",
      "Epoch Count = 37, train_loss = 2.30239, test_loss = 2.30249, diff = -0.00017222352679624464\n",
      "Epoch Count = 38, train_loss = 2.30224, test_loss = 2.30234, diff = -0.00015315731558462886\n",
      "Epoch Count = 39, train_loss = 2.30212, test_loss = 2.30220, diff = -0.00013628275163979353\n",
      "Epoch Count = 40, train_loss = 2.30201, test_loss = 2.30208, diff = -0.00012134072047498279\n",
      "Epoch Count = 41, train_loss = 2.30191, test_loss = 2.30197, diff = -0.00010810357724500008\n",
      "Epoch Count = 42, train_loss = 2.30182, test_loss = 2.30188, diff = -9.637120054017956e-05\n",
      "Epoch Count = 43, train_loss = 2.30174, test_loss = 2.30179, diff = -8.596756207079892e-05\n",
      "Epoch Count = 44, train_loss = 2.30168, test_loss = 2.30172, diff = -7.673774107175291e-05\n",
      "Epoch Count = 45, train_loss = 2.30162, test_loss = 2.30165, diff = -6.854532277955627e-05\n",
      "Epoch Count = 46, train_loss = 2.30156, test_loss = 2.30159, diff = -6.127012908319074e-05\n",
      "Epoch Count = 47, train_loss = 2.30152, test_loss = 2.30153, diff = -5.480623691322961e-05\n",
      "Epoch Count = 48, train_loss = 2.30148, test_loss = 2.30148, diff = -4.9060246235743676e-05\n",
      "Epoch Count = 49, train_loss = 2.30144, test_loss = 2.30144, diff = -4.39497648732079e-05\n",
      "Epoch Count = 50, train_loss = 2.30141, test_loss = 2.30140, diff = -3.940208188168981e-05\n",
      "Learning Finish!\n"
     ]
    }
   ],
   "source": [
    "ScratchDNN_Sigmoid_He = ScratchDeepNeuralNetrowkClassifier(lr = 0.000001, n_nodes1 = 400, n_nodes2 = 200, n_output = 10, \n",
    "                                                epoch = 50, verbose = True, activation = \"Sigmoid\", Initializer = \"He\")\n",
    "ScratchDNN_Sigmoid_He.fit(X_train, y_train, X_test, y_test)"
   ]
  },
  {
   "cell_type": "code",
   "execution_count": 308,
   "metadata": {},
   "outputs": [
    {
     "data": {
      "text/plain": [
       "array([1, 1, 1, ..., 1, 1, 1], dtype=int64)"
      ]
     },
     "execution_count": 308,
     "metadata": {},
     "output_type": "execute_result"
    }
   ],
   "source": [
    "y_pred_Sigmoid_He = ScratchDNN_Sigmoid_He.predict(X_test)\n",
    "y_pred_Sigmoid_He"
   ]
  },
  {
   "cell_type": "code",
   "execution_count": 309,
   "metadata": {},
   "outputs": [
    {
     "name": "stderr",
     "output_type": "stream",
     "text": [
      "C:\\Users\\Takatoshi\\anaconda3\\lib\\site-packages\\sklearn\\metrics\\_classification.py:1272: UndefinedMetricWarning: Precision and F-score are ill-defined and being set to 0.0 in labels with no predicted samples. Use `zero_division` parameter to control this behavior.\n",
      "  _warn_prf(average, modifier, msg_start, len(result))\n"
     ]
    },
    {
     "data": {
      "text/html": [
       "<div>\n",
       "<style scoped>\n",
       "    .dataframe tbody tr th:only-of-type {\n",
       "        vertical-align: middle;\n",
       "    }\n",
       "\n",
       "    .dataframe tbody tr th {\n",
       "        vertical-align: top;\n",
       "    }\n",
       "\n",
       "    .dataframe thead th {\n",
       "        text-align: right;\n",
       "    }\n",
       "</style>\n",
       "<table border=\"1\" class=\"dataframe\">\n",
       "  <thead>\n",
       "    <tr style=\"text-align: right;\">\n",
       "      <th></th>\n",
       "      <th>0</th>\n",
       "      <th>1</th>\n",
       "      <th>2</th>\n",
       "      <th>3</th>\n",
       "      <th>4</th>\n",
       "      <th>5</th>\n",
       "      <th>6</th>\n",
       "      <th>7</th>\n",
       "      <th>8</th>\n",
       "      <th>9</th>\n",
       "      <th>accuracy</th>\n",
       "      <th>macro avg</th>\n",
       "      <th>weighted avg</th>\n",
       "    </tr>\n",
       "  </thead>\n",
       "  <tbody>\n",
       "    <tr>\n",
       "      <th>precision</th>\n",
       "      <td>0.0</td>\n",
       "      <td>0.113500</td>\n",
       "      <td>0.0</td>\n",
       "      <td>0.0</td>\n",
       "      <td>0.0</td>\n",
       "      <td>0.0</td>\n",
       "      <td>0.0</td>\n",
       "      <td>0.0</td>\n",
       "      <td>0.0</td>\n",
       "      <td>0.0</td>\n",
       "      <td>0.1135</td>\n",
       "      <td>0.011350</td>\n",
       "      <td>0.012882</td>\n",
       "    </tr>\n",
       "    <tr>\n",
       "      <th>recall</th>\n",
       "      <td>0.0</td>\n",
       "      <td>1.000000</td>\n",
       "      <td>0.0</td>\n",
       "      <td>0.0</td>\n",
       "      <td>0.0</td>\n",
       "      <td>0.0</td>\n",
       "      <td>0.0</td>\n",
       "      <td>0.0</td>\n",
       "      <td>0.0</td>\n",
       "      <td>0.0</td>\n",
       "      <td>0.1135</td>\n",
       "      <td>0.100000</td>\n",
       "      <td>0.113500</td>\n",
       "    </tr>\n",
       "    <tr>\n",
       "      <th>f1-score</th>\n",
       "      <td>0.0</td>\n",
       "      <td>0.203862</td>\n",
       "      <td>0.0</td>\n",
       "      <td>0.0</td>\n",
       "      <td>0.0</td>\n",
       "      <td>0.0</td>\n",
       "      <td>0.0</td>\n",
       "      <td>0.0</td>\n",
       "      <td>0.0</td>\n",
       "      <td>0.0</td>\n",
       "      <td>0.1135</td>\n",
       "      <td>0.020386</td>\n",
       "      <td>0.023138</td>\n",
       "    </tr>\n",
       "    <tr>\n",
       "      <th>support</th>\n",
       "      <td>980.0</td>\n",
       "      <td>1135.000000</td>\n",
       "      <td>1032.0</td>\n",
       "      <td>1010.0</td>\n",
       "      <td>982.0</td>\n",
       "      <td>892.0</td>\n",
       "      <td>958.0</td>\n",
       "      <td>1028.0</td>\n",
       "      <td>974.0</td>\n",
       "      <td>1009.0</td>\n",
       "      <td>0.1135</td>\n",
       "      <td>10000.000000</td>\n",
       "      <td>10000.000000</td>\n",
       "    </tr>\n",
       "  </tbody>\n",
       "</table>\n",
       "</div>"
      ],
      "text/plain": [
       "               0            1       2       3      4      5      6       7  \\\n",
       "precision    0.0     0.113500     0.0     0.0    0.0    0.0    0.0     0.0   \n",
       "recall       0.0     1.000000     0.0     0.0    0.0    0.0    0.0     0.0   \n",
       "f1-score     0.0     0.203862     0.0     0.0    0.0    0.0    0.0     0.0   \n",
       "support    980.0  1135.000000  1032.0  1010.0  982.0  892.0  958.0  1028.0   \n",
       "\n",
       "               8       9  accuracy     macro avg  weighted avg  \n",
       "precision    0.0     0.0    0.1135      0.011350      0.012882  \n",
       "recall       0.0     0.0    0.1135      0.100000      0.113500  \n",
       "f1-score     0.0     0.0    0.1135      0.020386      0.023138  \n",
       "support    974.0  1009.0    0.1135  10000.000000  10000.000000  "
      ]
     },
     "execution_count": 309,
     "metadata": {},
     "output_type": "execute_result"
    }
   ],
   "source": [
    "import pandas as pd\n",
    "from sklearn.metrics import classification_report\n",
    "cr = classification_report(y_test, y_pred_Sigmoid_He, output_dict=True)\n",
    "\n",
    "# pandas.DataFrameへ変換\n",
    "df_cr = pd.DataFrame(cr)\n",
    "df_cr"
   ]
  },
  {
   "cell_type": "code",
   "execution_count": 310,
   "metadata": {},
   "outputs": [
    {
     "data": {
      "text/plain": [
       "Text(0.5, 1.0, 'Loss Curve (activation:Sigmoid, Initializer:He)')"
      ]
     },
     "execution_count": 310,
     "metadata": {},
     "output_type": "execute_result"
    },
    {
     "data": {
      "image/png": "[encoded data removed]",
      "text/plain": [
       "<Figure size 432x288 with 1 Axes>"
      ]
     },
     "metadata": {
      "needs_background": "light"
     },
     "output_type": "display_data"
    }
   ],
   "source": [
    "plt.plot(range(len(ScratchDNN_Sigmoid_He.train_loss_list)), ScratchDNN_Sigmoid_He.train_loss_list, color = \"blue\")\n",
    "plt.plot(range(len(ScratchDNN_Sigmoid_He.test_loss_list)), ScratchDNN_Sigmoid_He.test_loss_list, color = \"red\")\n",
    "plt.xlabel(\"Epoch\")\n",
    "plt.ylabel(\"Loss\")\n",
    "plt.title(\"Loss Curve (activation:Sigmoid, Initializer:He)\")"
   ]
  },
  {
   "cell_type": "markdown",
   "metadata": {},
   "source": [
    "### ＜学習率：0.000001、活性化関数：Tanh、初期化：He＞"
   ]
  },
  {
   "cell_type": "code",
   "execution_count": 311,
   "metadata": {},
   "outputs": [
    {
     "name": "stdout",
     "output_type": "stream",
     "text": [
      "Learning Start!\n",
      "Epoch Count = 1, train_loss = 2.43450, test_loss = 2.42783, diff = 0\n",
      "Epoch Count = 2, train_loss = 2.41668, test_loss = 2.41118, diff = -0.016647862678621284\n",
      "Epoch Count = 3, train_loss = 2.40138, test_loss = 2.39686, diff = -0.01432305143592405\n",
      "Epoch Count = 4, train_loss = 2.38822, test_loss = 2.38452, diff = -0.012344724881251157\n",
      "Epoch Count = 5, train_loss = 2.37688, test_loss = 2.37386, diff = -0.010657870376571843\n",
      "Epoch Count = 6, train_loss = 2.36709, test_loss = 2.36464, diff = -0.009216731026648883\n",
      "Epoch Count = 7, train_loss = 2.35864, test_loss = 2.35666, diff = -0.00798315541987149\n",
      "Epoch Count = 8, train_loss = 2.35132, test_loss = 2.34973, diff = -0.006925265855333151\n",
      "Epoch Count = 9, train_loss = 2.34497, test_loss = 2.34372, diff = -0.006016374668682989\n",
      "Epoch Count = 10, train_loss = 2.33946, test_loss = 2.33848, diff = -0.005234097357070144\n",
      "Epoch Count = 11, train_loss = 2.33467, test_loss = 2.33392, diff = -0.004559623886672526\n",
      "Epoch Count = 12, train_loss = 2.33051, test_loss = 2.32995, diff = -0.003977118324410611\n",
      "Epoch Count = 13, train_loss = 2.32688, test_loss = 2.32647, diff = -0.003473223221986732\n",
      "Epoch Count = 14, train_loss = 2.32371, test_loss = 2.32344, diff = -0.0030366498582417023\n",
      "Epoch Count = 15, train_loss = 2.32095, test_loss = 2.32078, diff = -0.002657839035784093\n",
      "Epoch Count = 16, train_loss = 2.31854, test_loss = 2.31845, diff = -0.002328679951444812\n",
      "Epoch Count = 17, train_loss = 2.31642, test_loss = 2.31641, diff = -0.002042276919611563\n",
      "Epoch Count = 18, train_loss = 2.31458, test_loss = 2.31461, diff = -0.0017927555583554522\n",
      "Epoch Count = 19, train_loss = 2.31296, test_loss = 2.31304, diff = -0.0015751015421145986\n",
      "Epoch Count = 20, train_loss = 2.31154, test_loss = 2.31165, diff = -0.0013850262492467458\n",
      "Epoch Count = 21, train_loss = 2.31029, test_loss = 2.31044, diff = -0.00121885463859428\n",
      "Epoch Count = 22, train_loss = 2.30920, test_loss = 2.30936, diff = -0.0010734315159135477\n",
      "Epoch Count = 23, train_loss = 2.30824, test_loss = 2.30842, diff = -0.0009460430307646206\n",
      "Epoch Count = 24, train_loss = 2.30740, test_loss = 2.30758, diff = -0.0008343508030308477\n",
      "Epoch Count = 25, train_loss = 2.30666, test_loss = 2.30685, diff = -0.0007363365370909314\n",
      "Epoch Count = 26, train_loss = 2.30601, test_loss = 2.30620, diff = -0.0006502553584204485\n",
      "Epoch Count = 27, train_loss = 2.30543, test_loss = 2.30562, diff = -0.0005745964168037965\n",
      "Epoch Count = 28, train_loss = 2.30493, test_loss = 2.30511, diff = -0.0005080495541407437\n",
      "Epoch Count = 29, train_loss = 2.30448, test_loss = 2.30466, diff = -0.0004494770433556283\n",
      "Epoch Count = 30, train_loss = 2.30409, test_loss = 2.30427, diff = -0.0003978895760630152\n",
      "Epoch Count = 31, train_loss = 2.30375, test_loss = 2.30391, diff = -0.0003524258173790429\n",
      "Epoch Count = 32, train_loss = 2.30344, test_loss = 2.30360, diff = -0.00031233496182503373\n",
      "Epoch Count = 33, train_loss = 2.30318, test_loss = 2.30332, diff = -0.00027696181962966193\n",
      "Epoch Count = 34, train_loss = 2.30294, test_loss = 2.30308, diff = -0.0002457340410964015\n",
      "Epoch Count = 35, train_loss = 2.30273, test_loss = 2.30286, diff = -0.00021815115149781406\n",
      "Epoch Count = 36, train_loss = 2.30255, test_loss = 2.30267, diff = -0.00019377512241769423\n",
      "Epoch Count = 37, train_loss = 2.30239, test_loss = 2.30249, diff = -0.00017222224980395495\n",
      "Epoch Count = 38, train_loss = 2.30224, test_loss = 2.30234, diff = -0.00015315614562316782\n",
      "Epoch Count = 39, train_loss = 2.30212, test_loss = 2.30220, diff = -0.00013628168057122636\n",
      "Epoch Count = 40, train_loss = 2.30201, test_loss = 2.30208, diff = -0.00012133974063655018\n",
      "Epoch Count = 41, train_loss = 2.30191, test_loss = 2.30197, diff = -0.00010810268144023638\n",
      "Epoch Count = 42, train_loss = 2.30182, test_loss = 2.30188, diff = -9.63703820384687e-05\n",
      "Epoch Count = 43, train_loss = 2.30174, test_loss = 2.30179, diff = -8.596681459049904e-05\n",
      "Epoch Count = 44, train_loss = 2.30168, test_loss = 2.30172, diff = -7.673705876642956e-05\n",
      "Epoch Count = 45, train_loss = 2.30162, test_loss = 2.30165, diff = -6.854470022510384e-05\n",
      "Epoch Count = 46, train_loss = 2.30156, test_loss = 2.30159, diff = -6.12695612511871e-05\n",
      "Epoch Count = 47, train_loss = 2.30152, test_loss = 2.30153, diff = -5.480571915361665e-05\n",
      "Epoch Count = 48, train_loss = 2.30148, test_loss = 2.30148, diff = -4.9059774258619626e-05\n",
      "Epoch Count = 49, train_loss = 2.30144, test_loss = 2.30144, diff = -4.394933472262608e-05\n",
      "Epoch Count = 50, train_loss = 2.30141, test_loss = 2.30140, diff = -3.940168991656279e-05\n",
      "Learning Finish!\n"
     ]
    }
   ],
   "source": [
    "ScratchDNN_Tanh_He = ScratchDeepNeuralNetrowkClassifier(lr = 0.000001, n_nodes1 = 400, n_nodes2 = 200, n_output = 10, \n",
    "                                                epoch = 50, verbose = True, activation = \"Tanh\", Initializer = \"He\")\n",
    "ScratchDNN_Tanh_He.fit(X_train, y_train, X_test, y_test)"
   ]
  },
  {
   "cell_type": "code",
   "execution_count": 312,
   "metadata": {},
   "outputs": [
    {
     "data": {
      "text/plain": [
       "array([1, 1, 1, ..., 1, 1, 1], dtype=int64)"
      ]
     },
     "execution_count": 312,
     "metadata": {},
     "output_type": "execute_result"
    }
   ],
   "source": [
    "y_pred_Tanh_He = ScratchDNN_Tanh_He.predict(X_test)\n",
    "y_pred_Tanh_He"
   ]
  },
  {
   "cell_type": "code",
   "execution_count": 313,
   "metadata": {},
   "outputs": [
    {
     "name": "stderr",
     "output_type": "stream",
     "text": [
      "C:\\Users\\Takatoshi\\anaconda3\\lib\\site-packages\\sklearn\\metrics\\_classification.py:1272: UndefinedMetricWarning: Precision and F-score are ill-defined and being set to 0.0 in labels with no predicted samples. Use `zero_division` parameter to control this behavior.\n",
      "  _warn_prf(average, modifier, msg_start, len(result))\n"
     ]
    },
    {
     "data": {
      "text/html": [
       "<div>\n",
       "<style scoped>\n",
       "    .dataframe tbody tr th:only-of-type {\n",
       "        vertical-align: middle;\n",
       "    }\n",
       "\n",
       "    .dataframe tbody tr th {\n",
       "        vertical-align: top;\n",
       "    }\n",
       "\n",
       "    .dataframe thead th {\n",
       "        text-align: right;\n",
       "    }\n",
       "</style>\n",
       "<table border=\"1\" class=\"dataframe\">\n",
       "  <thead>\n",
       "    <tr style=\"text-align: right;\">\n",
       "      <th></th>\n",
       "      <th>0</th>\n",
       "      <th>1</th>\n",
       "      <th>2</th>\n",
       "      <th>3</th>\n",
       "      <th>4</th>\n",
       "      <th>5</th>\n",
       "      <th>6</th>\n",
       "      <th>7</th>\n",
       "      <th>8</th>\n",
       "      <th>9</th>\n",
       "      <th>accuracy</th>\n",
       "      <th>macro avg</th>\n",
       "      <th>weighted avg</th>\n",
       "    </tr>\n",
       "  </thead>\n",
       "  <tbody>\n",
       "    <tr>\n",
       "      <th>precision</th>\n",
       "      <td>0.0</td>\n",
       "      <td>0.113500</td>\n",
       "      <td>0.0</td>\n",
       "      <td>0.0</td>\n",
       "      <td>0.0</td>\n",
       "      <td>0.0</td>\n",
       "      <td>0.0</td>\n",
       "      <td>0.0</td>\n",
       "      <td>0.0</td>\n",
       "      <td>0.0</td>\n",
       "      <td>0.1135</td>\n",
       "      <td>0.011350</td>\n",
       "      <td>0.012882</td>\n",
       "    </tr>\n",
       "    <tr>\n",
       "      <th>recall</th>\n",
       "      <td>0.0</td>\n",
       "      <td>1.000000</td>\n",
       "      <td>0.0</td>\n",
       "      <td>0.0</td>\n",
       "      <td>0.0</td>\n",
       "      <td>0.0</td>\n",
       "      <td>0.0</td>\n",
       "      <td>0.0</td>\n",
       "      <td>0.0</td>\n",
       "      <td>0.0</td>\n",
       "      <td>0.1135</td>\n",
       "      <td>0.100000</td>\n",
       "      <td>0.113500</td>\n",
       "    </tr>\n",
       "    <tr>\n",
       "      <th>f1-score</th>\n",
       "      <td>0.0</td>\n",
       "      <td>0.203862</td>\n",
       "      <td>0.0</td>\n",
       "      <td>0.0</td>\n",
       "      <td>0.0</td>\n",
       "      <td>0.0</td>\n",
       "      <td>0.0</td>\n",
       "      <td>0.0</td>\n",
       "      <td>0.0</td>\n",
       "      <td>0.0</td>\n",
       "      <td>0.1135</td>\n",
       "      <td>0.020386</td>\n",
       "      <td>0.023138</td>\n",
       "    </tr>\n",
       "    <tr>\n",
       "      <th>support</th>\n",
       "      <td>980.0</td>\n",
       "      <td>1135.000000</td>\n",
       "      <td>1032.0</td>\n",
       "      <td>1010.0</td>\n",
       "      <td>982.0</td>\n",
       "      <td>892.0</td>\n",
       "      <td>958.0</td>\n",
       "      <td>1028.0</td>\n",
       "      <td>974.0</td>\n",
       "      <td>1009.0</td>\n",
       "      <td>0.1135</td>\n",
       "      <td>10000.000000</td>\n",
       "      <td>10000.000000</td>\n",
       "    </tr>\n",
       "  </tbody>\n",
       "</table>\n",
       "</div>"
      ],
      "text/plain": [
       "               0            1       2       3      4      5      6       7  \\\n",
       "precision    0.0     0.113500     0.0     0.0    0.0    0.0    0.0     0.0   \n",
       "recall       0.0     1.000000     0.0     0.0    0.0    0.0    0.0     0.0   \n",
       "f1-score     0.0     0.203862     0.0     0.0    0.0    0.0    0.0     0.0   \n",
       "support    980.0  1135.000000  1032.0  1010.0  982.0  892.0  958.0  1028.0   \n",
       "\n",
       "               8       9  accuracy     macro avg  weighted avg  \n",
       "precision    0.0     0.0    0.1135      0.011350      0.012882  \n",
       "recall       0.0     0.0    0.1135      0.100000      0.113500  \n",
       "f1-score     0.0     0.0    0.1135      0.020386      0.023138  \n",
       "support    974.0  1009.0    0.1135  10000.000000  10000.000000  "
      ]
     },
     "execution_count": 313,
     "metadata": {},
     "output_type": "execute_result"
    }
   ],
   "source": [
    "import pandas as pd\n",
    "from sklearn.metrics import classification_report\n",
    "cr = classification_report(y_test, y_pred_Tanh_He, output_dict=True)\n",
    "\n",
    "# pandas.DataFrameへ変換\n",
    "df_cr = pd.DataFrame(cr)\n",
    "df_cr"
   ]
  },
  {
   "cell_type": "code",
   "execution_count": 314,
   "metadata": {},
   "outputs": [
    {
     "data": {
      "text/plain": [
       "Text(0.5, 1.0, 'Loss Curve (activation:Tanh, Initializer:He)')"
      ]
     },
     "execution_count": 314,
     "metadata": {},
     "output_type": "execute_result"
    },
    {
     "data": {
      "image/png": "[encoded data removed]",
      "text/plain": [
       "<Figure size 432x288 with 1 Axes>"
      ]
     },
     "metadata": {
      "needs_background": "light"
     },
     "output_type": "display_data"
    }
   ],
   "source": [
    "plt.plot(range(len(ScratchDNN_Tanh_He.train_loss_list)), ScratchDNN_Tanh_He.train_loss_list, color = \"blue\")\n",
    "plt.plot(range(len(ScratchDNN_Tanh_He.test_loss_list)), ScratchDNN_Tanh_He.test_loss_list, color = \"red\")\n",
    "plt.xlabel(\"Epoch\")\n",
    "plt.ylabel(\"Loss\")\n",
    "plt.title(\"Loss Curve (activation:Tanh, Initializer:He)\")"
   ]
  },
  {
   "cell_type": "markdown",
   "metadata": {},
   "source": [
    "### ●Heの初期値で比較"
   ]
  },
  {
   "cell_type": "markdown",
   "metadata": {},
   "source": [
    "#### ＜学習率：0.000001、活性化関数：Relu、初期化：He＞"
   ]
  },
  {
   "cell_type": "code",
   "execution_count": 315,
   "metadata": {},
   "outputs": [
    {
     "name": "stdout",
     "output_type": "stream",
     "text": [
      "Learning Start!\n",
      "Epoch Count = 1, train_loss = 14.52931, test_loss = 14.53530, diff = 0\n",
      "Epoch Count = 2, train_loss = 14.44636, test_loss = 14.53530, diff = -0.0\n",
      "Epoch Count = 3, train_loss = 14.32184, test_loss = 14.53530, diff = -0.0\n",
      "Epoch Count = 4, train_loss = 13.81983, test_loss = 12.83405, diff = -1.7012479860279512\n",
      "Epoch Count = 5, train_loss = 12.34102, test_loss = 13.11021, diff = 0.2761613603972233\n",
      "Epoch Count = 6, train_loss = 10.51025, test_loss = 11.56306, diff = -1.5471517505464085\n",
      "Epoch Count = 7, train_loss = 8.83251, test_loss = 8.33013, diff = -3.2329301051023194\n",
      "Epoch Count = 8, train_loss = 7.50281, test_loss = 8.82639, diff = 0.49626436685595365\n",
      "Epoch Count = 9, train_loss = 6.43014, test_loss = 7.28005, diff = -1.546348490253779\n",
      "Epoch Count = 10, train_loss = 5.69444, test_loss = 5.47606, diff = -1.8039833087700714\n",
      "Epoch Count = 11, train_loss = 5.17947, test_loss = 6.65311, diff = 1.1770424489670832\n",
      "Epoch Count = 12, train_loss = 4.77291, test_loss = 3.82485, diff = -2.8282598589651977\n",
      "Epoch Count = 13, train_loss = 4.40722, test_loss = 5.23890, diff = 1.414058686533119\n",
      "Epoch Count = 14, train_loss = 4.13864, test_loss = 3.93888, diff = -1.3000228467520607\n",
      "Epoch Count = 15, train_loss = 3.90919, test_loss = 3.03858, diff = -0.9003010046323752\n",
      "Epoch Count = 16, train_loss = 3.73886, test_loss = 3.09055, diff = 0.05197193615938733\n",
      "Epoch Count = 17, train_loss = 3.53368, test_loss = 3.28874, diff = 0.19818909368589432\n",
      "Epoch Count = 18, train_loss = 3.37344, test_loss = 2.66543, diff = -0.6233096489689132\n",
      "Epoch Count = 19, train_loss = 3.28288, test_loss = 2.70605, diff = 0.040619057363557864\n",
      "Epoch Count = 20, train_loss = 3.13001, test_loss = 2.67305, diff = -0.03300245412319969\n",
      "Epoch Count = 21, train_loss = 3.09020, test_loss = 2.60367, diff = -0.06937913321073985\n",
      "Epoch Count = 22, train_loss = 2.99385, test_loss = 2.17614, diff = -0.4275278398408915\n",
      "Epoch Count = 23, train_loss = 2.90827, test_loss = 2.17714, diff = 0.0010022444775912298\n",
      "Epoch Count = 24, train_loss = 2.86657, test_loss = 2.28983, diff = 0.11269067796132104\n",
      "Epoch Count = 25, train_loss = 2.75684, test_loss = 2.50295, diff = 0.21311885584715418\n",
      "Epoch Count = 26, train_loss = 2.72166, test_loss = 2.20814, diff = -0.2948155290020287\n",
      "Epoch Count = 27, train_loss = 2.66300, test_loss = 2.14565, diff = -0.062485087523416194\n",
      "Epoch Count = 28, train_loss = 2.64858, test_loss = 1.71260, diff = -0.433052587110178\n",
      "Epoch Count = 29, train_loss = 2.57120, test_loss = 2.69858, diff = 0.9859847838166986\n",
      "Epoch Count = 30, train_loss = 2.53132, test_loss = 2.73529, diff = 0.036700966010435376\n",
      "Epoch Count = 31, train_loss = 2.51784, test_loss = 2.25035, diff = -0.4849326297169392\n",
      "Epoch Count = 32, train_loss = 2.48327, test_loss = 1.60462, diff = -0.645735592384435\n",
      "Epoch Count = 33, train_loss = 2.43082, test_loss = 1.69845, diff = 0.09383096236022404\n",
      "Epoch Count = 34, train_loss = 2.41205, test_loss = 1.95949, diff = 0.26104484115680004\n",
      "Epoch Count = 35, train_loss = 2.30372, test_loss = 2.02437, diff = 0.06487747536693056\n",
      "Epoch Count = 36, train_loss = 2.34531, test_loss = 1.70093, diff = -0.3234362010722609\n",
      "Epoch Count = 37, train_loss = 2.31989, test_loss = 1.61398, diff = -0.08695678233028592\n",
      "Epoch Count = 38, train_loss = 2.28811, test_loss = 2.08693, diff = 0.47294764595921723\n",
      "Epoch Count = 39, train_loss = 2.26615, test_loss = 1.71876, diff = -0.36816025252554674\n",
      "Epoch Count = 40, train_loss = 2.27253, test_loss = 1.52608, diff = -0.19268635496263098\n",
      "Epoch Count = 41, train_loss = 2.20705, test_loss = 1.55791, diff = 0.03183354995195753\n",
      "Epoch Count = 42, train_loss = 2.20370, test_loss = 1.51480, diff = -0.04310894650637942\n",
      "Epoch Count = 43, train_loss = 2.17107, test_loss = 1.80085, diff = 0.28604874606331365\n",
      "Epoch Count = 44, train_loss = 2.16019, test_loss = 1.55454, diff = -0.24631259364393854\n",
      "Epoch Count = 45, train_loss = 2.13643, test_loss = 2.12493, diff = 0.5703900334521124\n",
      "Epoch Count = 46, train_loss = 2.12530, test_loss = 1.77228, diff = -0.3526509067107748\n",
      "Epoch Count = 47, train_loss = 2.11580, test_loss = 1.51555, diff = -0.25673007072192666\n",
      "Epoch Count = 48, train_loss = 2.09244, test_loss = 1.38087, diff = -0.1346776607012894\n",
      "Epoch Count = 49, train_loss = 2.08407, test_loss = 2.31559, diff = 0.9347217671428205\n",
      "Epoch Count = 50, train_loss = 2.08276, test_loss = 1.89622, diff = -0.41936999915697726\n",
      "Learning Finish!\n"
     ]
    }
   ],
   "source": [
    "ScratchDNN_Relu_He = ScratchDeepNeuralNetrowkClassifier(lr = 0.000001, n_nodes1 = 400, n_nodes2 = 200, n_output = 10, \n",
    "                                                epoch = 50, verbose = True, activation = \"Relu\", Initializer = \"He\")\n",
    "ScratchDNN_Relu_He.fit(X_train, y_train, X_test, y_test)"
   ]
  },
  {
   "cell_type": "code",
   "execution_count": 316,
   "metadata": {},
   "outputs": [
    {
     "data": {
      "text/plain": [
       "array([7, 2, 1, ..., 4, 5, 6], dtype=int64)"
      ]
     },
     "execution_count": 316,
     "metadata": {},
     "output_type": "execute_result"
    }
   ],
   "source": [
    "y_pred_Relu_He = ScratchDNN_Relu_He.predict(X_test)\n",
    "y_pred_Relu_He"
   ]
  },
  {
   "cell_type": "code",
   "execution_count": 317,
   "metadata": {},
   "outputs": [
    {
     "data": {
      "text/html": [
       "<div>\n",
       "<style scoped>\n",
       "    .dataframe tbody tr th:only-of-type {\n",
       "        vertical-align: middle;\n",
       "    }\n",
       "\n",
       "    .dataframe tbody tr th {\n",
       "        vertical-align: top;\n",
       "    }\n",
       "\n",
       "    .dataframe thead th {\n",
       "        text-align: right;\n",
       "    }\n",
       "</style>\n",
       "<table border=\"1\" class=\"dataframe\">\n",
       "  <thead>\n",
       "    <tr style=\"text-align: right;\">\n",
       "      <th></th>\n",
       "      <th>0</th>\n",
       "      <th>1</th>\n",
       "      <th>2</th>\n",
       "      <th>3</th>\n",
       "      <th>4</th>\n",
       "      <th>5</th>\n",
       "      <th>6</th>\n",
       "      <th>7</th>\n",
       "      <th>8</th>\n",
       "      <th>9</th>\n",
       "      <th>accuracy</th>\n",
       "      <th>macro avg</th>\n",
       "      <th>weighted avg</th>\n",
       "    </tr>\n",
       "  </thead>\n",
       "  <tbody>\n",
       "    <tr>\n",
       "      <th>precision</th>\n",
       "      <td>0.876700</td>\n",
       "      <td>0.928512</td>\n",
       "      <td>0.925498</td>\n",
       "      <td>0.907143</td>\n",
       "      <td>0.597637</td>\n",
       "      <td>0.873153</td>\n",
       "      <td>0.951991</td>\n",
       "      <td>0.942105</td>\n",
       "      <td>0.880713</td>\n",
       "      <td>0.918750</td>\n",
       "      <td>0.8611</td>\n",
       "      <td>0.880220</td>\n",
       "      <td>0.881541</td>\n",
       "    </tr>\n",
       "    <tr>\n",
       "      <th>recall</th>\n",
       "      <td>0.986735</td>\n",
       "      <td>0.984141</td>\n",
       "      <td>0.854651</td>\n",
       "      <td>0.880198</td>\n",
       "      <td>0.978615</td>\n",
       "      <td>0.794843</td>\n",
       "      <td>0.848643</td>\n",
       "      <td>0.870623</td>\n",
       "      <td>0.811088</td>\n",
       "      <td>0.582755</td>\n",
       "      <td>0.8611</td>\n",
       "      <td>0.859229</td>\n",
       "      <td>0.861100</td>\n",
       "    </tr>\n",
       "    <tr>\n",
       "      <th>f1-score</th>\n",
       "      <td>0.928469</td>\n",
       "      <td>0.955518</td>\n",
       "      <td>0.888665</td>\n",
       "      <td>0.893467</td>\n",
       "      <td>0.742085</td>\n",
       "      <td>0.832160</td>\n",
       "      <td>0.897351</td>\n",
       "      <td>0.904954</td>\n",
       "      <td>0.844468</td>\n",
       "      <td>0.713159</td>\n",
       "      <td>0.8611</td>\n",
       "      <td>0.860030</td>\n",
       "      <td>0.861698</td>\n",
       "    </tr>\n",
       "    <tr>\n",
       "      <th>support</th>\n",
       "      <td>980.000000</td>\n",
       "      <td>1135.000000</td>\n",
       "      <td>1032.000000</td>\n",
       "      <td>1010.000000</td>\n",
       "      <td>982.000000</td>\n",
       "      <td>892.000000</td>\n",
       "      <td>958.000000</td>\n",
       "      <td>1028.000000</td>\n",
       "      <td>974.000000</td>\n",
       "      <td>1009.000000</td>\n",
       "      <td>0.8611</td>\n",
       "      <td>10000.000000</td>\n",
       "      <td>10000.000000</td>\n",
       "    </tr>\n",
       "  </tbody>\n",
       "</table>\n",
       "</div>"
      ],
      "text/plain": [
       "                    0            1            2            3           4  \\\n",
       "precision    0.876700     0.928512     0.925498     0.907143    0.597637   \n",
       "recall       0.986735     0.984141     0.854651     0.880198    0.978615   \n",
       "f1-score     0.928469     0.955518     0.888665     0.893467    0.742085   \n",
       "support    980.000000  1135.000000  1032.000000  1010.000000  982.000000   \n",
       "\n",
       "                    5           6            7           8            9  \\\n",
       "precision    0.873153    0.951991     0.942105    0.880713     0.918750   \n",
       "recall       0.794843    0.848643     0.870623    0.811088     0.582755   \n",
       "f1-score     0.832160    0.897351     0.904954    0.844468     0.713159   \n",
       "support    892.000000  958.000000  1028.000000  974.000000  1009.000000   \n",
       "\n",
       "           accuracy     macro avg  weighted avg  \n",
       "precision    0.8611      0.880220      0.881541  \n",
       "recall       0.8611      0.859229      0.861100  \n",
       "f1-score     0.8611      0.860030      0.861698  \n",
       "support      0.8611  10000.000000  10000.000000  "
      ]
     },
     "execution_count": 317,
     "metadata": {},
     "output_type": "execute_result"
    }
   ],
   "source": [
    "import pandas as pd\n",
    "from sklearn.metrics import classification_report\n",
    "cr = classification_report(y_test, y_pred_Relu_He, output_dict=True)\n",
    "\n",
    "# pandas.DataFrameへ変換\n",
    "df_cr = pd.DataFrame(cr)\n",
    "df_cr"
   ]
  },
  {
   "cell_type": "markdown",
   "metadata": {},
   "source": [
    "ACC = 86%"
   ]
  },
  {
   "cell_type": "code",
   "execution_count": 318,
   "metadata": {},
   "outputs": [
    {
     "data": {
      "text/plain": [
       "Text(0.5, 1.0, 'Loss Curve (activation:Relu, Initializer:He)')"
      ]
     },
     "execution_count": 318,
     "metadata": {},
     "output_type": "execute_result"
    },
    {
     "data": {
      "image/png": "[encoded data removed]",
      "text/plain": [
       "<Figure size 432x288 with 1 Axes>"
      ]
     },
     "metadata": {
      "needs_background": "light"
     },
     "output_type": "display_data"
    }
   ],
   "source": [
    "plt.plot(range(len(ScratchDNN_Tanh_He.train_loss_list)), ScratchDNN_Tanh_He.train_loss_list, color = \"blue\")\n",
    "plt.plot(range(len(ScratchDNN_Tanh_He.test_loss_list)), ScratchDNN_Tanh_He.test_loss_list, color = \"red\")\n",
    "plt.xlabel(\"Epoch\")\n",
    "plt.ylabel(\"Loss\")\n",
    "plt.title(\"Loss Curve (activation:Relu, Initializer:He)\")"
   ]
  },
  {
   "cell_type": "markdown",
   "metadata": {},
   "source": [
    "### ●最適化として、Adagradを用いて比較"
   ]
  },
  {
   "cell_type": "markdown",
   "metadata": {},
   "source": [
    "#### ＜学習率：0.001、活性化関数：Sigmoid、初期化：He、optimizer：Adagrad＞"
   ]
  },
  {
   "cell_type": "code",
   "execution_count": 330,
   "metadata": {},
   "outputs": [
    {
     "name": "stdout",
     "output_type": "stream",
     "text": [
      "Learning Start!\n",
      "self.h is None\n",
      "self.h is None\n",
      "self.h is None\n",
      "Epoch Count = 1, train_loss = 2.30277, test_loss = 2.30152, diff = 0\n",
      "Epoch Count = 2, train_loss = 2.30177, test_loss = 2.30134, diff = -0.00017757674072482743\n",
      "Epoch Count = 3, train_loss = 2.30165, test_loss = 2.30127, diff = -7.85310033566411e-05\n",
      "Epoch Count = 4, train_loss = 2.30158, test_loss = 2.30122, diff = -4.456987110001975e-05\n",
      "Epoch Count = 5, train_loss = 2.30154, test_loss = 2.30119, diff = -2.8967953522585077e-05\n",
      "Epoch Count = 6, train_loss = 2.30151, test_loss = 2.30117, diff = -2.0509470630702964e-05\n",
      "Epoch Count = 7, train_loss = 2.30149, test_loss = 2.30116, diff = -1.539569326958201e-05\n",
      "Epoch Count = 8, train_loss = 2.30147, test_loss = 2.30114, diff = -1.2055373368902167e-05\n",
      "Epoch Count = 9, train_loss = 2.30146, test_loss = 2.30113, diff = -9.744005219136653e-06\n",
      "Epoch Count = 10, train_loss = 2.30144, test_loss = 2.30113, diff = -8.071877370952052e-06\n",
      "Epoch Count = 11, train_loss = 2.30143, test_loss = 2.30112, diff = -6.818779936246244e-06\n",
      "Epoch Count = 12, train_loss = 2.30142, test_loss = 2.30111, diff = -5.852493686564486e-06\n",
      "Epoch Count = 13, train_loss = 2.30141, test_loss = 2.30111, diff = -5.089612648667696e-06\n",
      "Epoch Count = 14, train_loss = 2.30141, test_loss = 2.30110, diff = -4.475324069108666e-06\n",
      "Epoch Count = 15, train_loss = 2.30140, test_loss = 2.30110, diff = -3.972342250246896e-06\n",
      "Epoch Count = 16, train_loss = 2.30139, test_loss = 2.30110, diff = -3.5545467849118495e-06\n",
      "Epoch Count = 17, train_loss = 2.30139, test_loss = 2.30109, diff = -3.2031687737799075e-06\n",
      "Epoch Count = 18, train_loss = 2.30138, test_loss = 2.30109, diff = -2.9044204503669846e-06\n",
      "Epoch Count = 19, train_loss = 2.30138, test_loss = 2.30109, diff = -2.6479748056473795e-06\n",
      "Epoch Count = 20, train_loss = 2.30137, test_loss = 2.30108, diff = -2.4259630744261074e-06\n",
      "Epoch Count = 21, train_loss = 2.30137, test_loss = 2.30108, diff = -2.232297306115072e-06\n",
      "Epoch Count = 22, train_loss = 2.30137, test_loss = 2.30108, diff = -2.0622024741179246e-06\n",
      "Epoch Count = 23, train_loss = 2.30136, test_loss = 2.30108, diff = -1.9118869554191065e-06\n",
      "Epoch Count = 24, train_loss = 2.30136, test_loss = 2.30108, diff = -1.7783062751242085e-06\n",
      "Epoch Count = 25, train_loss = 2.30135, test_loss = 2.30108, diff = -1.6589910325492951e-06\n",
      "Epoch Count = 26, train_loss = 2.30135, test_loss = 2.30107, diff = -1.5519196963076354e-06\n",
      "Epoch Count = 27, train_loss = 2.30135, test_loss = 2.30107, diff = -1.4554233347396917e-06\n",
      "Epoch Count = 28, train_loss = 2.30135, test_loss = 2.30107, diff = -1.3681133697041048e-06\n",
      "Epoch Count = 29, train_loss = 2.30134, test_loss = 2.30107, diff = -1.2888261826660141e-06\n",
      "Epoch Count = 30, train_loss = 2.30134, test_loss = 2.30107, diff = -1.2165801894781225e-06\n",
      "Epoch Count = 31, train_loss = 2.30134, test_loss = 2.30107, diff = -1.1505422667923426e-06\n",
      "Epoch Count = 32, train_loss = 2.30134, test_loss = 2.30107, diff = -1.0900012537007342e-06\n",
      "Epoch Count = 33, train_loss = 2.30133, test_loss = 2.30107, diff = -1.0343468499485198e-06\n",
      "Epoch Count = 34, train_loss = 2.30133, test_loss = 2.30106, diff = -9.830527156751145e-07\n",
      "Epoch Count = 35, train_loss = 2.30133, test_loss = 2.30106, diff = -9.356627876933032e-07\n",
      "Epoch Count = 36, train_loss = 2.30133, test_loss = 2.30106, diff = -8.917801856966889e-07\n",
      "Epoch Count = 37, train_loss = 2.30133, test_loss = 2.30106, diff = -8.510580942200363e-07\n",
      "Epoch Count = 38, train_loss = 2.30132, test_loss = 2.30106, diff = -8.131922895060484e-07\n",
      "Epoch Count = 39, train_loss = 2.30132, test_loss = 2.30106, diff = -7.779149200359825e-07\n",
      "Epoch Count = 40, train_loss = 2.30132, test_loss = 2.30106, diff = -7.449893604238866e-07\n",
      "Epoch Count = 41, train_loss = 2.30132, test_loss = 2.30106, diff = -7.142058704445731e-07\n",
      "Epoch Count = 42, train_loss = 2.30132, test_loss = 2.30106, diff = -6.853779814797178e-07\n",
      "Epoch Count = 43, train_loss = 2.30132, test_loss = 2.30106, diff = -6.583394167591905e-07\n",
      "Epoch Count = 44, train_loss = 2.30131, test_loss = 2.30106, diff = -6.329414978800685e-07\n",
      "Epoch Count = 45, train_loss = 2.30131, test_loss = 2.30106, diff = -6.090509225842311e-07\n",
      "Epoch Count = 46, train_loss = 2.30131, test_loss = 2.30106, diff = -5.865478804878421e-07\n",
      "Epoch Count = 47, train_loss = 2.30131, test_loss = 2.30105, diff = -5.653244201653251e-07\n",
      "Epoch Count = 48, train_loss = 2.30131, test_loss = 2.30105, diff = -5.452830569296907e-07\n",
      "Epoch Count = 49, train_loss = 2.30131, test_loss = 2.30105, diff = -5.26335557360369e-07\n",
      "Epoch Count = 50, train_loss = 2.30131, test_loss = 2.30105, diff = -5.084019027989939e-07\n",
      "Learning Finish!\n"
     ]
    }
   ],
   "source": [
    "ScratchDNN_Sigmoid_He_AdaGrad = ScratchDeepNeuralNetrowkClassifier(lr = 0.001, n_nodes1 = 400, n_nodes2 = 200, n_output = 10, \n",
    "                                                epoch = 50, verbose = True, activation = \"Sigmoid\", Initializer = \"He\",  optimizer = \"AdaGrad\")\n",
    "ScratchDNN_Sigmoid_He_AdaGrad.fit(X_train, y_train, X_test, y_test)"
   ]
  },
  {
   "cell_type": "code",
   "execution_count": 331,
   "metadata": {},
   "outputs": [
    {
     "data": {
      "text/plain": [
       "array([7, 2, 1, ..., 4, 5, 6], dtype=int64)"
      ]
     },
     "execution_count": 331,
     "metadata": {},
     "output_type": "execute_result"
    }
   ],
   "source": [
    "y_pred_Sigmoid_He_AdaGrad = ScratchDNN_Relu_He_AdaGrad.predict(X_test)\n",
    "y_pred_Sigmoid_He_AdaGrad"
   ]
  },
  {
   "cell_type": "code",
   "execution_count": 332,
   "metadata": {},
   "outputs": [
    {
     "data": {
      "text/html": [
       "<div>\n",
       "<style scoped>\n",
       "    .dataframe tbody tr th:only-of-type {\n",
       "        vertical-align: middle;\n",
       "    }\n",
       "\n",
       "    .dataframe tbody tr th {\n",
       "        vertical-align: top;\n",
       "    }\n",
       "\n",
       "    .dataframe thead th {\n",
       "        text-align: right;\n",
       "    }\n",
       "</style>\n",
       "<table border=\"1\" class=\"dataframe\">\n",
       "  <thead>\n",
       "    <tr style=\"text-align: right;\">\n",
       "      <th></th>\n",
       "      <th>0</th>\n",
       "      <th>1</th>\n",
       "      <th>2</th>\n",
       "      <th>3</th>\n",
       "      <th>4</th>\n",
       "      <th>5</th>\n",
       "      <th>6</th>\n",
       "      <th>7</th>\n",
       "      <th>8</th>\n",
       "      <th>9</th>\n",
       "      <th>accuracy</th>\n",
       "      <th>macro avg</th>\n",
       "      <th>weighted avg</th>\n",
       "    </tr>\n",
       "  </thead>\n",
       "  <tbody>\n",
       "    <tr>\n",
       "      <th>precision</th>\n",
       "      <td>0.974253</td>\n",
       "      <td>0.974561</td>\n",
       "      <td>0.902830</td>\n",
       "      <td>0.889756</td>\n",
       "      <td>0.749413</td>\n",
       "      <td>0.853871</td>\n",
       "      <td>0.957356</td>\n",
       "      <td>0.921359</td>\n",
       "      <td>0.880170</td>\n",
       "      <td>0.969957</td>\n",
       "      <td>0.9021</td>\n",
       "      <td>0.907353</td>\n",
       "      <td>0.908912</td>\n",
       "    </tr>\n",
       "    <tr>\n",
       "      <th>recall</th>\n",
       "      <td>0.965306</td>\n",
       "      <td>0.978855</td>\n",
       "      <td>0.927326</td>\n",
       "      <td>0.902970</td>\n",
       "      <td>0.974542</td>\n",
       "      <td>0.877803</td>\n",
       "      <td>0.937370</td>\n",
       "      <td>0.923152</td>\n",
       "      <td>0.852156</td>\n",
       "      <td>0.671952</td>\n",
       "      <td>0.9021</td>\n",
       "      <td>0.901143</td>\n",
       "      <td>0.902100</td>\n",
       "    </tr>\n",
       "    <tr>\n",
       "      <th>f1-score</th>\n",
       "      <td>0.969759</td>\n",
       "      <td>0.976703</td>\n",
       "      <td>0.914914</td>\n",
       "      <td>0.896314</td>\n",
       "      <td>0.847278</td>\n",
       "      <td>0.865672</td>\n",
       "      <td>0.947257</td>\n",
       "      <td>0.922255</td>\n",
       "      <td>0.865936</td>\n",
       "      <td>0.793911</td>\n",
       "      <td>0.9021</td>\n",
       "      <td>0.900000</td>\n",
       "      <td>0.901263</td>\n",
       "    </tr>\n",
       "    <tr>\n",
       "      <th>support</th>\n",
       "      <td>980.000000</td>\n",
       "      <td>1135.000000</td>\n",
       "      <td>1032.000000</td>\n",
       "      <td>1010.000000</td>\n",
       "      <td>982.000000</td>\n",
       "      <td>892.000000</td>\n",
       "      <td>958.000000</td>\n",
       "      <td>1028.000000</td>\n",
       "      <td>974.000000</td>\n",
       "      <td>1009.000000</td>\n",
       "      <td>0.9021</td>\n",
       "      <td>10000.000000</td>\n",
       "      <td>10000.000000</td>\n",
       "    </tr>\n",
       "  </tbody>\n",
       "</table>\n",
       "</div>"
      ],
      "text/plain": [
       "                    0            1            2            3           4  \\\n",
       "precision    0.974253     0.974561     0.902830     0.889756    0.749413   \n",
       "recall       0.965306     0.978855     0.927326     0.902970    0.974542   \n",
       "f1-score     0.969759     0.976703     0.914914     0.896314    0.847278   \n",
       "support    980.000000  1135.000000  1032.000000  1010.000000  982.000000   \n",
       "\n",
       "                    5           6            7           8            9  \\\n",
       "precision    0.853871    0.957356     0.921359    0.880170     0.969957   \n",
       "recall       0.877803    0.937370     0.923152    0.852156     0.671952   \n",
       "f1-score     0.865672    0.947257     0.922255    0.865936     0.793911   \n",
       "support    892.000000  958.000000  1028.000000  974.000000  1009.000000   \n",
       "\n",
       "           accuracy     macro avg  weighted avg  \n",
       "precision    0.9021      0.907353      0.908912  \n",
       "recall       0.9021      0.901143      0.902100  \n",
       "f1-score     0.9021      0.900000      0.901263  \n",
       "support      0.9021  10000.000000  10000.000000  "
      ]
     },
     "execution_count": 332,
     "metadata": {},
     "output_type": "execute_result"
    }
   ],
   "source": [
    "import pandas as pd\n",
    "from sklearn.metrics import classification_report\n",
    "cr = classification_report(y_test, y_pred_Sigmoid_He_AdaGrad, output_dict=True)\n",
    "\n",
    "# pandas.DataFrameへ変換\n",
    "df_cr = pd.DataFrame(cr)\n",
    "df_cr"
   ]
  },
  {
   "cell_type": "markdown",
   "metadata": {},
   "source": [
    "ACC = 90%"
   ]
  },
  {
   "cell_type": "code",
   "execution_count": 333,
   "metadata": {},
   "outputs": [
    {
     "data": {
      "text/plain": [
       "Text(0.5, 1.0, 'Loss Curve (activation:Relu, Initializer:He)')"
      ]
     },
     "execution_count": 333,
     "metadata": {},
     "output_type": "execute_result"
    },
    {
     "data": {
      "image/png": "[encoded data removed]",
      "text/plain": [
       "<Figure size 432x288 with 1 Axes>"
      ]
     },
     "metadata": {
      "needs_background": "light"
     },
     "output_type": "display_data"
    }
   ],
   "source": [
    "plt.plot(range(len(ScratchDNN_Sigmoid_He_AdaGrad.train_loss_list)), ScratchDNN_Sigmoid_He_AdaGrad.train_loss_list, color = \"blue\")\n",
    "plt.plot(range(len(ScratchDNN_Sigmoid_He_AdaGrad.test_loss_list)), ScratchDNN_Sigmoid_He_AdaGrad.test_loss_list, color = \"red\")\n",
    "plt.xlabel(\"Epoch\")\n",
    "plt.ylabel(\"Loss\")\n",
    "plt.title(\"Loss Curve (activation:Relu, Initializer:He)\")"
   ]
  },
  {
   "cell_type": "markdown",
   "metadata": {},
   "source": [
    "#### ＜学習率：0.001、活性化関数：Relu、初期化：He、optimizer：Adagrad＞"
   ]
  },
  {
   "cell_type": "code",
   "execution_count": 326,
   "metadata": {},
   "outputs": [
    {
     "name": "stdout",
     "output_type": "stream",
     "text": [
      "Learning Start!\n",
      "self.h is None\n",
      "self.h is None\n",
      "self.h is None\n",
      "Epoch Count = 1, train_loss = 3.84156, test_loss = 1.68554, diff = 0\n",
      "Epoch Count = 2, train_loss = 1.78709, test_loss = 1.73663, diff = 0.05108648125984194\n",
      "Epoch Count = 3, train_loss = 1.51122, test_loss = 1.41754, diff = -0.3190902298443803\n",
      "Epoch Count = 4, train_loss = 1.39063, test_loss = 1.41091, diff = -0.006626809245393606\n",
      "Epoch Count = 5, train_loss = 1.28859, test_loss = 1.29960, diff = -0.11131467883729207\n",
      "Epoch Count = 6, train_loss = 1.19144, test_loss = 1.06637, diff = -0.23322396175295013\n",
      "Epoch Count = 7, train_loss = 1.13842, test_loss = 1.14876, diff = 0.0823883065379345\n",
      "Epoch Count = 8, train_loss = 1.09717, test_loss = 1.03431, diff = -0.11445492758801623\n",
      "Epoch Count = 9, train_loss = 1.05518, test_loss = 0.89861, diff = -0.1356993015886846\n",
      "Epoch Count = 10, train_loss = 1.02960, test_loss = 0.88495, diff = -0.013657683104049134\n",
      "Epoch Count = 11, train_loss = 1.00341, test_loss = 0.83228, diff = -0.052673273062508796\n",
      "Epoch Count = 12, train_loss = 0.95793, test_loss = 0.81717, diff = -0.015110902875869026\n",
      "Epoch Count = 13, train_loss = 0.93608, test_loss = 0.92645, diff = 0.10928678831386729\n",
      "Epoch Count = 14, train_loss = 0.91831, test_loss = 0.82149, diff = -0.10496646154129263\n",
      "Epoch Count = 15, train_loss = 0.89270, test_loss = 0.78590, diff = -0.03558654116565674\n",
      "Epoch Count = 16, train_loss = 0.88292, test_loss = 0.80986, diff = 0.02395861521062581\n",
      "Epoch Count = 17, train_loss = 0.85852, test_loss = 0.78240, diff = -0.027454950582499138\n",
      "Epoch Count = 18, train_loss = 0.84724, test_loss = 0.79202, diff = 0.009617144250949061\n",
      "Epoch Count = 19, train_loss = 0.82961, test_loss = 0.83799, diff = 0.04596591492606927\n",
      "Epoch Count = 20, train_loss = 0.81151, test_loss = 0.84311, diff = 0.005124302955931248\n",
      "Epoch Count = 21, train_loss = 0.79828, test_loss = 0.82071, diff = -0.022401235722305457\n",
      "Epoch Count = 22, train_loss = 0.78071, test_loss = 0.83460, diff = 0.013891373966403275\n",
      "Epoch Count = 23, train_loss = 0.77508, test_loss = 0.78212, diff = -0.05247679437990249\n",
      "Epoch Count = 24, train_loss = 0.76150, test_loss = 0.76438, diff = -0.01774011702061251\n",
      "Epoch Count = 25, train_loss = 0.75143, test_loss = 0.86803, diff = 0.10364563171272889\n",
      "Epoch Count = 26, train_loss = 0.73879, test_loss = 0.76153, diff = -0.10650029948337136\n",
      "Epoch Count = 27, train_loss = 0.73193, test_loss = 0.72281, diff = -0.03871732883114243\n",
      "Epoch Count = 28, train_loss = 0.72450, test_loss = 0.77300, diff = 0.050187161962992666\n",
      "Epoch Count = 29, train_loss = 0.71591, test_loss = 0.69425, diff = -0.07874466986156081\n",
      "Epoch Count = 30, train_loss = 0.70503, test_loss = 0.69925, diff = 0.004992288250397547\n",
      "Epoch Count = 31, train_loss = 0.69786, test_loss = 0.67723, diff = -0.02201307153126253\n",
      "Epoch Count = 32, train_loss = 0.69280, test_loss = 0.69370, diff = 0.01646533558027974\n",
      "Epoch Count = 33, train_loss = 0.67935, test_loss = 0.68093, diff = -0.012764845298668615\n",
      "Epoch Count = 34, train_loss = 0.67473, test_loss = 0.69185, diff = 0.010914722295532808\n",
      "Epoch Count = 35, train_loss = 0.66593, test_loss = 0.66281, diff = -0.02903581034827707\n",
      "Epoch Count = 36, train_loss = 0.66301, test_loss = 0.72633, diff = 0.06351551859210691\n",
      "Epoch Count = 37, train_loss = 0.65607, test_loss = 0.71799, diff = -0.00834209413364495\n",
      "Epoch Count = 38, train_loss = 0.64822, test_loss = 0.71984, diff = 0.0018557833446558591\n",
      "Epoch Count = 39, train_loss = 0.64238, test_loss = 0.71017, diff = -0.009672231542746434\n",
      "Epoch Count = 40, train_loss = 0.63528, test_loss = 0.69816, diff = -0.012012756268641067\n",
      "Epoch Count = 41, train_loss = 0.63017, test_loss = 0.67396, diff = -0.024198971157513016\n",
      "Epoch Count = 42, train_loss = 0.62299, test_loss = 0.66917, diff = -0.004783797576545901\n",
      "Epoch Count = 43, train_loss = 0.61757, test_loss = 0.66795, diff = -0.0012240970142145535\n",
      "Epoch Count = 44, train_loss = 0.61190, test_loss = 0.66968, diff = 0.0017280585311800767\n",
      "Epoch Count = 45, train_loss = 0.60818, test_loss = 0.66102, diff = -0.00865874702501801\n",
      "Epoch Count = 46, train_loss = 0.60336, test_loss = 0.64250, diff = -0.018518982945958773\n",
      "Epoch Count = 47, train_loss = 0.59667, test_loss = 0.64839, diff = 0.00588571962055684\n",
      "Epoch Count = 48, train_loss = 0.59178, test_loss = 0.63681, diff = -0.011577880584277112\n",
      "Epoch Count = 49, train_loss = 0.58859, test_loss = 0.62819, diff = -0.008614272086630348\n",
      "Epoch Count = 50, train_loss = 0.58234, test_loss = 0.61344, diff = -0.01475791845011043\n",
      "Learning Finish!\n"
     ]
    }
   ],
   "source": [
    "ScratchDNN_Relu_He_AdaGrad = ScratchDeepNeuralNetrowkClassifier(lr = 0.001, n_nodes1 = 400, n_nodes2 = 200, n_output = 10, \n",
    "                                                epoch = 50, verbose = True, activation = \"Relu\", Initializer = \"He\",  optimizer = \"AdaGrad\")\n",
    "ScratchDNN_Relu_He_AdaGrad.fit(X_train, y_train, X_test, y_test)"
   ]
  },
  {
   "cell_type": "code",
   "execution_count": 327,
   "metadata": {},
   "outputs": [
    {
     "data": {
      "text/plain": [
       "array([7, 2, 1, ..., 4, 5, 6], dtype=int64)"
      ]
     },
     "execution_count": 327,
     "metadata": {},
     "output_type": "execute_result"
    }
   ],
   "source": [
    "y_pred_Relu_He_AdaGrad = ScratchDNN_Relu_He_AdaGrad.predict(X_test)\n",
    "y_pred_Relu_He_AdaGrad"
   ]
  },
  {
   "cell_type": "code",
   "execution_count": 328,
   "metadata": {},
   "outputs": [
    {
     "data": {
      "text/html": [
       "<div>\n",
       "<style scoped>\n",
       "    .dataframe tbody tr th:only-of-type {\n",
       "        vertical-align: middle;\n",
       "    }\n",
       "\n",
       "    .dataframe tbody tr th {\n",
       "        vertical-align: top;\n",
       "    }\n",
       "\n",
       "    .dataframe thead th {\n",
       "        text-align: right;\n",
       "    }\n",
       "</style>\n",
       "<table border=\"1\" class=\"dataframe\">\n",
       "  <thead>\n",
       "    <tr style=\"text-align: right;\">\n",
       "      <th></th>\n",
       "      <th>0</th>\n",
       "      <th>1</th>\n",
       "      <th>2</th>\n",
       "      <th>3</th>\n",
       "      <th>4</th>\n",
       "      <th>5</th>\n",
       "      <th>6</th>\n",
       "      <th>7</th>\n",
       "      <th>8</th>\n",
       "      <th>9</th>\n",
       "      <th>accuracy</th>\n",
       "      <th>macro avg</th>\n",
       "      <th>weighted avg</th>\n",
       "    </tr>\n",
       "  </thead>\n",
       "  <tbody>\n",
       "    <tr>\n",
       "      <th>precision</th>\n",
       "      <td>0.974253</td>\n",
       "      <td>0.974561</td>\n",
       "      <td>0.902830</td>\n",
       "      <td>0.889756</td>\n",
       "      <td>0.749413</td>\n",
       "      <td>0.853871</td>\n",
       "      <td>0.957356</td>\n",
       "      <td>0.921359</td>\n",
       "      <td>0.880170</td>\n",
       "      <td>0.969957</td>\n",
       "      <td>0.9021</td>\n",
       "      <td>0.907353</td>\n",
       "      <td>0.908912</td>\n",
       "    </tr>\n",
       "    <tr>\n",
       "      <th>recall</th>\n",
       "      <td>0.965306</td>\n",
       "      <td>0.978855</td>\n",
       "      <td>0.927326</td>\n",
       "      <td>0.902970</td>\n",
       "      <td>0.974542</td>\n",
       "      <td>0.877803</td>\n",
       "      <td>0.937370</td>\n",
       "      <td>0.923152</td>\n",
       "      <td>0.852156</td>\n",
       "      <td>0.671952</td>\n",
       "      <td>0.9021</td>\n",
       "      <td>0.901143</td>\n",
       "      <td>0.902100</td>\n",
       "    </tr>\n",
       "    <tr>\n",
       "      <th>f1-score</th>\n",
       "      <td>0.969759</td>\n",
       "      <td>0.976703</td>\n",
       "      <td>0.914914</td>\n",
       "      <td>0.896314</td>\n",
       "      <td>0.847278</td>\n",
       "      <td>0.865672</td>\n",
       "      <td>0.947257</td>\n",
       "      <td>0.922255</td>\n",
       "      <td>0.865936</td>\n",
       "      <td>0.793911</td>\n",
       "      <td>0.9021</td>\n",
       "      <td>0.900000</td>\n",
       "      <td>0.901263</td>\n",
       "    </tr>\n",
       "    <tr>\n",
       "      <th>support</th>\n",
       "      <td>980.000000</td>\n",
       "      <td>1135.000000</td>\n",
       "      <td>1032.000000</td>\n",
       "      <td>1010.000000</td>\n",
       "      <td>982.000000</td>\n",
       "      <td>892.000000</td>\n",
       "      <td>958.000000</td>\n",
       "      <td>1028.000000</td>\n",
       "      <td>974.000000</td>\n",
       "      <td>1009.000000</td>\n",
       "      <td>0.9021</td>\n",
       "      <td>10000.000000</td>\n",
       "      <td>10000.000000</td>\n",
       "    </tr>\n",
       "  </tbody>\n",
       "</table>\n",
       "</div>"
      ],
      "text/plain": [
       "                    0            1            2            3           4  \\\n",
       "precision    0.974253     0.974561     0.902830     0.889756    0.749413   \n",
       "recall       0.965306     0.978855     0.927326     0.902970    0.974542   \n",
       "f1-score     0.969759     0.976703     0.914914     0.896314    0.847278   \n",
       "support    980.000000  1135.000000  1032.000000  1010.000000  982.000000   \n",
       "\n",
       "                    5           6            7           8            9  \\\n",
       "precision    0.853871    0.957356     0.921359    0.880170     0.969957   \n",
       "recall       0.877803    0.937370     0.923152    0.852156     0.671952   \n",
       "f1-score     0.865672    0.947257     0.922255    0.865936     0.793911   \n",
       "support    892.000000  958.000000  1028.000000  974.000000  1009.000000   \n",
       "\n",
       "           accuracy     macro avg  weighted avg  \n",
       "precision    0.9021      0.907353      0.908912  \n",
       "recall       0.9021      0.901143      0.902100  \n",
       "f1-score     0.9021      0.900000      0.901263  \n",
       "support      0.9021  10000.000000  10000.000000  "
      ]
     },
     "execution_count": 328,
     "metadata": {},
     "output_type": "execute_result"
    }
   ],
   "source": [
    "import pandas as pd\n",
    "from sklearn.metrics import classification_report\n",
    "cr = classification_report(y_test, y_pred_Relu_He_AdaGrad, output_dict=True)\n",
    "\n",
    "# pandas.DataFrameへ変換\n",
    "df_cr = pd.DataFrame(cr)\n",
    "df_cr"
   ]
  },
  {
   "cell_type": "markdown",
   "metadata": {},
   "source": [
    "ACC = 90%"
   ]
  },
  {
   "cell_type": "code",
   "execution_count": 329,
   "metadata": {},
   "outputs": [
    {
     "data": {
      "text/plain": [
       "Text(0.5, 1.0, 'Loss Curve (activation:Relu, Initializer:He)')"
      ]
     },
     "execution_count": 329,
     "metadata": {},
     "output_type": "execute_result"
    },
    {
     "data": {
      "image/png": "[encoded data removed]",
      "text/plain": [
       "<Figure size 432x288 with 1 Axes>"
      ]
     },
     "metadata": {
      "needs_background": "light"
     },
     "output_type": "display_data"
    }
   ],
   "source": [
    "plt.plot(range(len(ScratchDNN_Relu_He_AdaGrad.train_loss_list)), ScratchDNN_Relu_He_AdaGrad.train_loss_list, color = \"blue\")\n",
    "plt.plot(range(len(ScratchDNN_Relu_He_AdaGrad.test_loss_list)), ScratchDNN_Relu_He_AdaGrad.test_loss_list, color = \"red\")\n",
    "plt.xlabel(\"Epoch\")\n",
    "plt.ylabel(\"Loss\")\n",
    "plt.title(\"Loss Curve (activation:Relu, Initializer:He)\")"
   ]
  },
  {
   "cell_type": "markdown",
   "metadata": {},
   "source": [
    "#### ＜学習率：0.0001、活性化関数：Tanh、初期化：He、optimizer：Adagrad＞"
   ]
  },
  {
   "cell_type": "code",
   "execution_count": 276,
   "metadata": {},
   "outputs": [
    {
     "name": "stdout",
     "output_type": "stream",
     "text": [
      "Learning Start!\n",
      "self.h is None\n",
      "self.h is None\n",
      "self.h is None\n",
      "Epoch Count = 1, train_loss = 2.40488, test_loss = 2.38969, diff = 0\n",
      "Epoch Count = 2, train_loss = 2.37810, test_loss = 2.37216, diff = -0.017536642053512352\n",
      "Epoch Count = 3, train_loss = 2.36438, test_loss = 2.36092, diff = -0.011237783517871414\n",
      "Epoch Count = 4, train_loss = 2.35498, test_loss = 2.35274, diff = -0.008173308025243742\n",
      "Epoch Count = 5, train_loss = 2.34793, test_loss = 2.34642, diff = -0.0063268013190267425\n",
      "Epoch Count = 6, train_loss = 2.34237, test_loss = 2.34133, diff = -0.0050877116431573555\n",
      "Epoch Count = 7, train_loss = 2.33784, test_loss = 2.33713, diff = -0.004199392554241843\n",
      "Epoch Count = 8, train_loss = 2.33407, test_loss = 2.33360, diff = -0.003533163696952446\n",
      "Epoch Count = 9, train_loss = 2.33088, test_loss = 2.33058, diff = -0.003016791202584912\n",
      "Epoch Count = 10, train_loss = 2.32814, test_loss = 2.32797, diff = -0.0026063809028404883\n",
      "Epoch Count = 11, train_loss = 2.32577, test_loss = 2.32570, diff = -0.0022736387683508497\n",
      "Epoch Count = 12, train_loss = 2.32369, test_loss = 2.32370, diff = -0.001999473383416994\n",
      "Epoch Count = 13, train_loss = 2.32186, test_loss = 2.32193, diff = -0.0017705236294611737\n",
      "Epoch Count = 14, train_loss = 2.32023, test_loss = 2.32035, diff = -0.0015771551694228059\n",
      "Epoch Count = 15, train_loss = 2.31878, test_loss = 2.31894, diff = -0.001412245747410168\n",
      "Epoch Count = 16, train_loss = 2.31748, test_loss = 2.31767, diff = -0.0012704179472127208\n",
      "Epoch Count = 17, train_loss = 2.31631, test_loss = 2.31652, diff = -0.001147537582844027\n",
      "Epoch Count = 18, train_loss = 2.31525, test_loss = 2.31548, diff = -0.0010403759586714578\n",
      "Epoch Count = 19, train_loss = 2.31429, test_loss = 2.31454, diff = -0.0009463766064796708\n",
      "Epoch Count = 20, train_loss = 2.31342, test_loss = 2.31367, diff = -0.0008634905624442801\n",
      "Epoch Count = 21, train_loss = 2.31262, test_loss = 2.31288, diff = -0.0007900577467423453\n",
      "Epoch Count = 22, train_loss = 2.31189, test_loss = 2.31216, diff = -0.00072472004613644\n",
      "Epoch Count = 23, train_loss = 2.31122, test_loss = 2.31149, diff = -0.0006663566300693091\n",
      "Epoch Count = 24, train_loss = 2.31061, test_loss = 2.31088, diff = -0.0006140351362304841\n",
      "Epoch Count = 25, train_loss = 2.31004, test_loss = 2.31031, diff = -0.0005669743642289227\n",
      "Epoch Count = 26, train_loss = 2.30952, test_loss = 2.30979, diff = -0.0005245154354640569\n",
      "Epoch Count = 27, train_loss = 2.30903, test_loss = 2.30930, diff = -0.0004860992632416128\n",
      "Epoch Count = 28, train_loss = 2.30858, test_loss = 2.30885, diff = -0.0004512487828738365\n",
      "Epoch Count = 29, train_loss = 2.30817, test_loss = 2.30843, diff = -0.00041955481181643606\n",
      "Epoch Count = 30, train_loss = 2.30778, test_loss = 2.30804, diff = -0.00039066470638982054\n",
      "Epoch Count = 31, train_loss = 2.30742, test_loss = 2.30767, diff = -0.0003642731930497689\n",
      "Epoch Count = 32, train_loss = 2.30709, test_loss = 2.30733, diff = -0.000340114905316824\n",
      "Epoch Count = 33, train_loss = 2.30677, test_loss = 2.30702, diff = -0.00031795826934910565\n",
      "Epoch Count = 34, train_loss = 2.30648, test_loss = 2.30672, diff = -0.00029760046385707284\n",
      "Epoch Count = 35, train_loss = 2.30621, test_loss = 2.30644, diff = -0.00027886324191417344\n",
      "Epoch Count = 36, train_loss = 2.30595, test_loss = 2.30618, diff = -0.0002615894487338899\n",
      "Epoch Count = 37, train_loss = 2.30571, test_loss = 2.30593, diff = -0.00024564010489758203\n",
      "Epoch Count = 38, train_loss = 2.30548, test_loss = 2.30570, diff = -0.00023089195167624865\n",
      "Epoch Count = 39, train_loss = 2.30527, test_loss = 2.30548, diff = -0.00021723537601170406\n",
      "Epoch Count = 40, train_loss = 2.30507, test_loss = 2.30528, diff = -0.00020457264905937578\n",
      "Epoch Count = 41, train_loss = 2.30489, test_loss = 2.30509, diff = -0.0001928164249571651\n",
      "Epoch Count = 42, train_loss = 2.30471, test_loss = 2.30490, diff = -0.00018188845652611363\n",
      "Epoch Count = 43, train_loss = 2.30454, test_loss = 2.30473, diff = -0.00017171849264663308\n",
      "Epoch Count = 44, train_loss = 2.30439, test_loss = 2.30457, diff = -0.0001622433283778868\n",
      "Epoch Count = 45, train_loss = 2.30424, test_loss = 2.30442, diff = -0.0001534059840007096\n",
      "Epoch Count = 46, train_loss = 2.30410, test_loss = 2.30427, diff = -0.00014515499331668735\n",
      "Epoch Count = 47, train_loss = 2.30397, test_loss = 2.30413, diff = -0.00013744378483782071\n",
      "Epoch Count = 48, train_loss = 2.30384, test_loss = 2.30400, diff = -0.00013023014223367824\n",
      "Epoch Count = 49, train_loss = 2.30372, test_loss = 2.30388, diff = -0.00012347573262250222\n",
      "Epoch Count = 50, train_loss = 2.30361, test_loss = 2.30376, diff = -0.00011714569310639078\n",
      "Learning Finish!\n"
     ]
    }
   ],
   "source": [
    "ScratchDNN_Tanh_He_AdaGrad = ScratchDeepNeuralNetrowkClassifier(lr = 0.001, n_nodes1 = 400, n_nodes2 = 200, n_output = 10, \n",
    "                                                epoch = 50, verbose = True, activation = \"Tanh\", Initializer = \"He\",  optimizer = \"AdaGrad\")\n",
    "ScratchDNN_Tanh_He_AdaGrad.fit(X_train, y_train, X_test, y_test)"
   ]
  },
  {
   "cell_type": "code",
   "execution_count": 277,
   "metadata": {},
   "outputs": [
    {
     "data": {
      "text/plain": [
       "array([1, 1, 1, ..., 1, 1, 1], dtype=int64)"
      ]
     },
     "execution_count": 277,
     "metadata": {},
     "output_type": "execute_result"
    }
   ],
   "source": [
    "y_pred_Tanh_He_AdaGrad = ScratchDNN_Tanh_He_AdaGrad.predict(X_test)\n",
    "y_pred_Tanh_He_AdaGrad"
   ]
  },
  {
   "cell_type": "code",
   "execution_count": 278,
   "metadata": {},
   "outputs": [
    {
     "name": "stderr",
     "output_type": "stream",
     "text": [
      "C:\\Users\\Takatoshi\\anaconda3\\lib\\site-packages\\sklearn\\metrics\\_classification.py:1272: UndefinedMetricWarning: Precision and F-score are ill-defined and being set to 0.0 in labels with no predicted samples. Use `zero_division` parameter to control this behavior.\n",
      "  _warn_prf(average, modifier, msg_start, len(result))\n"
     ]
    },
    {
     "data": {
      "text/html": [
       "<div>\n",
       "<style scoped>\n",
       "    .dataframe tbody tr th:only-of-type {\n",
       "        vertical-align: middle;\n",
       "    }\n",
       "\n",
       "    .dataframe tbody tr th {\n",
       "        vertical-align: top;\n",
       "    }\n",
       "\n",
       "    .dataframe thead th {\n",
       "        text-align: right;\n",
       "    }\n",
       "</style>\n",
       "<table border=\"1\" class=\"dataframe\">\n",
       "  <thead>\n",
       "    <tr style=\"text-align: right;\">\n",
       "      <th></th>\n",
       "      <th>0</th>\n",
       "      <th>1</th>\n",
       "      <th>2</th>\n",
       "      <th>3</th>\n",
       "      <th>4</th>\n",
       "      <th>5</th>\n",
       "      <th>6</th>\n",
       "      <th>7</th>\n",
       "      <th>8</th>\n",
       "      <th>9</th>\n",
       "      <th>accuracy</th>\n",
       "      <th>macro avg</th>\n",
       "      <th>weighted avg</th>\n",
       "    </tr>\n",
       "  </thead>\n",
       "  <tbody>\n",
       "    <tr>\n",
       "      <th>precision</th>\n",
       "      <td>0.0</td>\n",
       "      <td>0.113500</td>\n",
       "      <td>0.0</td>\n",
       "      <td>0.0</td>\n",
       "      <td>0.0</td>\n",
       "      <td>0.0</td>\n",
       "      <td>0.0</td>\n",
       "      <td>0.0</td>\n",
       "      <td>0.0</td>\n",
       "      <td>0.0</td>\n",
       "      <td>0.1135</td>\n",
       "      <td>0.011350</td>\n",
       "      <td>0.012882</td>\n",
       "    </tr>\n",
       "    <tr>\n",
       "      <th>recall</th>\n",
       "      <td>0.0</td>\n",
       "      <td>1.000000</td>\n",
       "      <td>0.0</td>\n",
       "      <td>0.0</td>\n",
       "      <td>0.0</td>\n",
       "      <td>0.0</td>\n",
       "      <td>0.0</td>\n",
       "      <td>0.0</td>\n",
       "      <td>0.0</td>\n",
       "      <td>0.0</td>\n",
       "      <td>0.1135</td>\n",
       "      <td>0.100000</td>\n",
       "      <td>0.113500</td>\n",
       "    </tr>\n",
       "    <tr>\n",
       "      <th>f1-score</th>\n",
       "      <td>0.0</td>\n",
       "      <td>0.203862</td>\n",
       "      <td>0.0</td>\n",
       "      <td>0.0</td>\n",
       "      <td>0.0</td>\n",
       "      <td>0.0</td>\n",
       "      <td>0.0</td>\n",
       "      <td>0.0</td>\n",
       "      <td>0.0</td>\n",
       "      <td>0.0</td>\n",
       "      <td>0.1135</td>\n",
       "      <td>0.020386</td>\n",
       "      <td>0.023138</td>\n",
       "    </tr>\n",
       "    <tr>\n",
       "      <th>support</th>\n",
       "      <td>980.0</td>\n",
       "      <td>1135.000000</td>\n",
       "      <td>1032.0</td>\n",
       "      <td>1010.0</td>\n",
       "      <td>982.0</td>\n",
       "      <td>892.0</td>\n",
       "      <td>958.0</td>\n",
       "      <td>1028.0</td>\n",
       "      <td>974.0</td>\n",
       "      <td>1009.0</td>\n",
       "      <td>0.1135</td>\n",
       "      <td>10000.000000</td>\n",
       "      <td>10000.000000</td>\n",
       "    </tr>\n",
       "  </tbody>\n",
       "</table>\n",
       "</div>"
      ],
      "text/plain": [
       "               0            1       2       3      4      5      6       7  \\\n",
       "precision    0.0     0.113500     0.0     0.0    0.0    0.0    0.0     0.0   \n",
       "recall       0.0     1.000000     0.0     0.0    0.0    0.0    0.0     0.0   \n",
       "f1-score     0.0     0.203862     0.0     0.0    0.0    0.0    0.0     0.0   \n",
       "support    980.0  1135.000000  1032.0  1010.0  982.0  892.0  958.0  1028.0   \n",
       "\n",
       "               8       9  accuracy     macro avg  weighted avg  \n",
       "precision    0.0     0.0    0.1135      0.011350      0.012882  \n",
       "recall       0.0     0.0    0.1135      0.100000      0.113500  \n",
       "f1-score     0.0     0.0    0.1135      0.020386      0.023138  \n",
       "support    974.0  1009.0    0.1135  10000.000000  10000.000000  "
      ]
     },
     "execution_count": 278,
     "metadata": {},
     "output_type": "execute_result"
    }
   ],
   "source": [
    "import pandas as pd\n",
    "from sklearn.metrics import classification_report\n",
    "cr = classification_report(y_test, y_pred_Tanh_He_AdaGrad, output_dict=True)\n",
    "\n",
    "# pandas.DataFrameへ変換\n",
    "df_cr = pd.DataFrame(cr)\n",
    "df_cr"
   ]
  },
  {
   "cell_type": "markdown",
   "metadata": {},
   "source": [
    "#### ACC:11%"
   ]
  },
  {
   "cell_type": "code",
   "execution_count": 279,
   "metadata": {},
   "outputs": [
    {
     "data": {
      "text/plain": [
       "Text(0.5, 1.0, 'Loss Curve (activation:Tanh, Initializer:He)')"
      ]
     },
     "execution_count": 279,
     "metadata": {},
     "output_type": "execute_result"
    },
    {
     "data": {
      "image/png": "[encoded data removed]",
      "text/plain": [
       "<Figure size 432x288 with 1 Axes>"
      ]
     },
     "metadata": {
      "needs_background": "light"
     },
     "output_type": "display_data"
    }
   ],
   "source": [
    "plt.plot(range(len(ScratchDNN_Tanh_He_AdaGrad.train_loss_list)), ScratchDNN_Tanh_He_AdaGrad.train_loss_list, color = \"blue\")\n",
    "plt.plot(range(len(ScratchDNN_Tanh_He_AdaGrad.test_loss_list)), ScratchDNN_Tanh_He_AdaGrad.test_loss_list, color = \"red\")\n",
    "plt.xlabel(\"Epoch\")\n",
    "plt.ylabel(\"Loss\")\n",
    "plt.title(\"Loss Curve (activation:Tanh, Initializer:He)\")"
   ]
  },
  {
   "cell_type": "markdown",
   "metadata": {},
   "source": [
    "### ●最適化として、Adamを用いて比較"
   ]
  },
  {
   "cell_type": "markdown",
   "metadata": {},
   "source": [
    "#### ＜学習率：0.001、活性化関数：Relu、初期化：He、optimizer：Adam＞"
   ]
  },
  {
   "cell_type": "code",
   "execution_count": 339,
   "metadata": {},
   "outputs": [
    {
     "name": "stdout",
     "output_type": "stream",
     "text": [
      "Learning Start!\n",
      "self.h initial\n",
      "self.h initial\n",
      "self.h initial\n",
      "Epoch Count = 1, train_loss = 4.43472, test_loss = 2.90461, diff = 0\n",
      "Epoch Count = 2, train_loss = 2.04368, test_loss = 2.29770, diff = -0.6069019380530554\n",
      "Epoch Count = 3, train_loss = 1.06113, test_loss = 0.67179, diff = -1.625916813625139\n",
      "Epoch Count = 4, train_loss = 0.31220, test_loss = 0.20467, diff = -0.4671183509578156\n",
      "Epoch Count = 5, train_loss = 0.15831, test_loss = 0.13715, diff = -0.06751724167021503\n",
      "Epoch Count = 6, train_loss = 0.10734, test_loss = 0.12971, diff = -0.0074462639894326\n",
      "Epoch Count = 7, train_loss = 0.08747, test_loss = 0.14227, diff = 0.012564418875875422\n",
      "Epoch Count = 8, train_loss = 0.07143, test_loss = 0.13668, diff = -0.005591780699583965\n",
      "Epoch Count = 9, train_loss = 0.05626, test_loss = 0.16931, diff = 0.032627110252597596\n",
      "Epoch Count = 10, train_loss = 0.04960, test_loss = 0.21306, diff = 0.043753824935932495\n",
      "Epoch Count = 11, train_loss = 0.04756, test_loss = 0.14021, diff = -0.07285383758647657\n",
      "Epoch Count = 12, train_loss = 0.03657, test_loss = 0.14659, diff = 0.0063820273023304785\n",
      "Epoch Count = 13, train_loss = 0.03381, test_loss = 0.15943, diff = 0.012843495665046778\n",
      "Epoch Count = 14, train_loss = 0.03189, test_loss = 0.18887, diff = 0.02943835143638654\n",
      "Epoch Count = 15, train_loss = 0.03405, test_loss = 0.20631, diff = 0.017437735372987734\n",
      "Epoch Count = 16, train_loss = 0.02658, test_loss = 0.21419, diff = 0.007885265940239167\n",
      "Epoch Count = 17, train_loss = 0.02831, test_loss = 0.18459, diff = -0.029598905396305747\n",
      "Epoch Count = 18, train_loss = 0.02986, test_loss = 0.20552, diff = 0.02092162866909303\n",
      "Epoch Count = 19, train_loss = 0.02769, test_loss = 0.23458, diff = 0.029059977903105993\n",
      "Epoch Count = 20, train_loss = 0.02203, test_loss = 0.19751, diff = -0.037065772299737065\n",
      "Epoch Count = 21, train_loss = 0.02193, test_loss = 0.20237, diff = 0.00486369974813286\n",
      "Epoch Count = 22, train_loss = 0.02394, test_loss = 0.21489, diff = 0.012512309560129109\n",
      "Epoch Count = 23, train_loss = 0.02304, test_loss = 0.24536, diff = 0.030479052582658872\n",
      "Epoch Count = 24, train_loss = 0.01882, test_loss = 0.18728, diff = -0.05808438385903239\n",
      "Epoch Count = 25, train_loss = 0.02383, test_loss = 0.19698, diff = 0.009703073944002993\n",
      "Epoch Count = 26, train_loss = 0.02172, test_loss = 0.21852, diff = 0.02153483450512983\n",
      "Epoch Count = 27, train_loss = 0.02046, test_loss = 0.21531, diff = -0.0032074488777057153\n",
      "Epoch Count = 28, train_loss = 0.01597, test_loss = 0.21686, diff = 0.0015451206737778778\n",
      "Epoch Count = 29, train_loss = 0.01906, test_loss = 0.22490, diff = 0.008044020296202131\n",
      "Epoch Count = 30, train_loss = 0.01544, test_loss = 0.22782, diff = 0.002923735544257844\n",
      "Epoch Count = 31, train_loss = 0.01903, test_loss = 0.20573, diff = -0.022094301988560744\n",
      "Epoch Count = 32, train_loss = 0.01350, test_loss = 0.23579, diff = 0.030063552153923728\n",
      "Epoch Count = 33, train_loss = 0.01788, test_loss = 0.22580, diff = -0.009989828593706479\n",
      "Epoch Count = 34, train_loss = 0.01841, test_loss = 0.23576, diff = 0.009955387785277658\n",
      "Epoch Count = 35, train_loss = 0.01305, test_loss = 0.22744, diff = -0.008320978149792158\n",
      "Epoch Count = 36, train_loss = 0.01580, test_loss = 0.21723, diff = -0.01021003693370362\n",
      "Epoch Count = 37, train_loss = 0.01415, test_loss = 0.21975, diff = 0.002526317020473595\n",
      "Epoch Count = 38, train_loss = 0.01332, test_loss = 0.21195, diff = -0.0078036589474924645\n",
      "Epoch Count = 39, train_loss = 0.01717, test_loss = 0.22320, diff = 0.011245310124122748\n",
      "Epoch Count = 40, train_loss = 0.01271, test_loss = 0.21187, diff = -0.01132771941214844\n",
      "Epoch Count = 41, train_loss = 0.01272, test_loss = 0.26617, diff = 0.05429995653202113\n",
      "Epoch Count = 42, train_loss = 0.01514, test_loss = 0.27788, diff = 0.011714534941485055\n",
      "Epoch Count = 43, train_loss = 0.01023, test_loss = 0.21349, diff = -0.06439728774661047\n",
      "Epoch Count = 44, train_loss = 0.01401, test_loss = 0.23557, diff = 0.02208415086766033\n",
      "Epoch Count = 45, train_loss = 0.01610, test_loss = 0.22573, diff = -0.009840462038706754\n",
      "Epoch Count = 46, train_loss = 0.01068, test_loss = 0.23362, diff = 0.007894425414568085\n",
      "Epoch Count = 47, train_loss = 0.01178, test_loss = 0.21065, diff = -0.022975252367533616\n",
      "Epoch Count = 48, train_loss = 0.01007, test_loss = 0.23171, diff = 0.02106302968576082\n",
      "Epoch Count = 49, train_loss = 0.01380, test_loss = 0.21260, diff = -0.0191064826732123\n",
      "Epoch Count = 50, train_loss = 0.01051, test_loss = 0.21068, diff = -0.0019227199978988363\n",
      "Learning Finish!\n"
     ]
    }
   ],
   "source": [
    "ScratchDNN_Sigmoid_He_Adam = ScratchDeepNeuralNetrowkClassifier(lr = 0.0001, n_nodes1 = 400, n_nodes2 = 200, n_output = 10, \n",
    "                                                epoch = 50, verbose = True, activation = \"Relu\", Initializer = \"He\",  optimizer = \"Adam\")\n",
    "ScratchDNN_Sigmoid_He_Adam.fit(X_train, y_train, X_test, y_test)"
   ]
  },
  {
   "cell_type": "code",
   "execution_count": 340,
   "metadata": {},
   "outputs": [
    {
     "data": {
      "text/plain": [
       "array([7, 2, 1, ..., 4, 5, 6], dtype=int64)"
      ]
     },
     "execution_count": 340,
     "metadata": {},
     "output_type": "execute_result"
    }
   ],
   "source": [
    "y_pred_Relu_He_Adam = ScratchDNN_Sigmoid_He_Adam.predict(X_test)\n",
    "y_pred_Relu_He_Adam"
   ]
  },
  {
   "cell_type": "code",
   "execution_count": 341,
   "metadata": {},
   "outputs": [
    {
     "data": {
      "text/html": [
       "<div>\n",
       "<style scoped>\n",
       "    .dataframe tbody tr th:only-of-type {\n",
       "        vertical-align: middle;\n",
       "    }\n",
       "\n",
       "    .dataframe tbody tr th {\n",
       "        vertical-align: top;\n",
       "    }\n",
       "\n",
       "    .dataframe thead th {\n",
       "        text-align: right;\n",
       "    }\n",
       "</style>\n",
       "<table border=\"1\" class=\"dataframe\">\n",
       "  <thead>\n",
       "    <tr style=\"text-align: right;\">\n",
       "      <th></th>\n",
       "      <th>0</th>\n",
       "      <th>1</th>\n",
       "      <th>2</th>\n",
       "      <th>3</th>\n",
       "      <th>4</th>\n",
       "      <th>5</th>\n",
       "      <th>6</th>\n",
       "      <th>7</th>\n",
       "      <th>8</th>\n",
       "      <th>9</th>\n",
       "      <th>accuracy</th>\n",
       "      <th>macro avg</th>\n",
       "      <th>weighted avg</th>\n",
       "    </tr>\n",
       "  </thead>\n",
       "  <tbody>\n",
       "    <tr>\n",
       "      <th>precision</th>\n",
       "      <td>0.980866</td>\n",
       "      <td>0.993783</td>\n",
       "      <td>0.980695</td>\n",
       "      <td>0.972387</td>\n",
       "      <td>0.988518</td>\n",
       "      <td>0.974157</td>\n",
       "      <td>0.978216</td>\n",
       "      <td>0.977451</td>\n",
       "      <td>0.976362</td>\n",
       "      <td>0.959064</td>\n",
       "      <td>0.9783</td>\n",
       "      <td>0.978150</td>\n",
       "      <td>0.978368</td>\n",
       "    </tr>\n",
       "    <tr>\n",
       "      <th>recall</th>\n",
       "      <td>0.993878</td>\n",
       "      <td>0.985903</td>\n",
       "      <td>0.984496</td>\n",
       "      <td>0.976238</td>\n",
       "      <td>0.964358</td>\n",
       "      <td>0.971973</td>\n",
       "      <td>0.984342</td>\n",
       "      <td>0.969844</td>\n",
       "      <td>0.975359</td>\n",
       "      <td>0.975223</td>\n",
       "      <td>0.9783</td>\n",
       "      <td>0.978162</td>\n",
       "      <td>0.978300</td>\n",
       "    </tr>\n",
       "    <tr>\n",
       "      <th>f1-score</th>\n",
       "      <td>0.987329</td>\n",
       "      <td>0.989828</td>\n",
       "      <td>0.982592</td>\n",
       "      <td>0.974308</td>\n",
       "      <td>0.976289</td>\n",
       "      <td>0.973064</td>\n",
       "      <td>0.981270</td>\n",
       "      <td>0.973633</td>\n",
       "      <td>0.975860</td>\n",
       "      <td>0.967076</td>\n",
       "      <td>0.9783</td>\n",
       "      <td>0.978125</td>\n",
       "      <td>0.978303</td>\n",
       "    </tr>\n",
       "    <tr>\n",
       "      <th>support</th>\n",
       "      <td>980.000000</td>\n",
       "      <td>1135.000000</td>\n",
       "      <td>1032.000000</td>\n",
       "      <td>1010.000000</td>\n",
       "      <td>982.000000</td>\n",
       "      <td>892.000000</td>\n",
       "      <td>958.000000</td>\n",
       "      <td>1028.000000</td>\n",
       "      <td>974.000000</td>\n",
       "      <td>1009.000000</td>\n",
       "      <td>0.9783</td>\n",
       "      <td>10000.000000</td>\n",
       "      <td>10000.000000</td>\n",
       "    </tr>\n",
       "  </tbody>\n",
       "</table>\n",
       "</div>"
      ],
      "text/plain": [
       "                    0            1            2            3           4  \\\n",
       "precision    0.980866     0.993783     0.980695     0.972387    0.988518   \n",
       "recall       0.993878     0.985903     0.984496     0.976238    0.964358   \n",
       "f1-score     0.987329     0.989828     0.982592     0.974308    0.976289   \n",
       "support    980.000000  1135.000000  1032.000000  1010.000000  982.000000   \n",
       "\n",
       "                    5           6            7           8            9  \\\n",
       "precision    0.974157    0.978216     0.977451    0.976362     0.959064   \n",
       "recall       0.971973    0.984342     0.969844    0.975359     0.975223   \n",
       "f1-score     0.973064    0.981270     0.973633    0.975860     0.967076   \n",
       "support    892.000000  958.000000  1028.000000  974.000000  1009.000000   \n",
       "\n",
       "           accuracy     macro avg  weighted avg  \n",
       "precision    0.9783      0.978150      0.978368  \n",
       "recall       0.9783      0.978162      0.978300  \n",
       "f1-score     0.9783      0.978125      0.978303  \n",
       "support      0.9783  10000.000000  10000.000000  "
      ]
     },
     "execution_count": 341,
     "metadata": {},
     "output_type": "execute_result"
    }
   ],
   "source": [
    "import pandas as pd\n",
    "from sklearn.metrics import classification_report\n",
    "cr = classification_report(y_test, y_pred_Relu_He_Adam, output_dict=True)\n",
    "\n",
    "# pandas.DataFrameへ変換\n",
    "df_cr = pd.DataFrame(cr)\n",
    "df_cr"
   ]
  },
  {
   "cell_type": "markdown",
   "metadata": {},
   "source": [
    "ACC ≒98％"
   ]
  },
  {
   "cell_type": "code",
   "execution_count": 342,
   "metadata": {},
   "outputs": [
    {
     "data": {
      "text/plain": [
       "Text(0.5, 1.0, 'Loss Curve (activation:Sigmoid, Initializer:He, Optimaizer:Adam)')"
      ]
     },
     "execution_count": 342,
     "metadata": {},
     "output_type": "execute_result"
    },
    {
     "data": {
      "image/png": "[encoded data removed]",
      "text/plain": [
       "<Figure size 432x288 with 1 Axes>"
      ]
     },
     "metadata": {
      "needs_background": "light"
     },
     "output_type": "display_data"
    }
   ],
   "source": [
    "plt.plot(range(len(ScratchDNN_Sigmoid_He_Adam.train_loss_list)), ScratchDNN_Sigmoid_He_Adam.train_loss_list, color = \"blue\")\n",
    "plt.plot(range(len(ScratchDNN_Sigmoid_He_Adam.test_loss_list)), ScratchDNN_Sigmoid_He_Adam.test_loss_list, color = \"red\")\n",
    "plt.xlabel(\"Epoch\")\n",
    "plt.ylabel(\"Loss\")\n",
    "plt.title(\"Loss Curve (activation:Sigmoid, Initializer:He, Optimaizer:Adam)\")"
   ]
  },
  {
   "cell_type": "markdown",
   "metadata": {},
   "source": [
    "#### 最適化手法にAdamを用いた場合（活性化関数：Relu）、Epoch = 5 ぐらいでlossが最小となっている。  \n",
    "#### その後test_lossはガタガタと安定しないが、過学習傾向が出ているのかもしれない。最適化手法を用いた場合、lossの最小値に向けて学習率を変動させ、加速度を付けて勾配を下っていく。\n",
    "#### lossの大域最小値付近でも同様に学習率を微調整をしているが、学習率は０にはならないので、目的地付近でフラフラと終着地点を模索している感じである。"
   ]
  },
  {
   "cell_type": "code",
   "execution_count": null,
   "metadata": {},
   "outputs": [],
   "source": []
  },
  {
   "cell_type": "markdown",
   "metadata": {},
   "source": [
    "## 【総評】"
   ]
  },
  {
   "cell_type": "markdown",
   "metadata": {},
   "source": [
    "①初期化手法：標準偏差、勾配降下：SGDを用い、活性化関数を変更していった場合、精度としては、Relu＞Tanh＞Sigmoidという結果になった。  \n",
    "やはりReluが最強といった感じ。"
   ]
  },
  {
   "cell_type": "markdown",
   "metadata": {},
   "source": [
    "②初期化手法をXavierやHeに変更してみて学習実行をしてみたが、想像に反して精度が上がらなかった。  \n",
    "おそらく初期化手法を変えたため、最適な学習率が変わり、その値を見いだせなかったのが原因と考えられる。"
   ]
  },
  {
   "cell_type": "markdown",
   "metadata": {},
   "source": [
    "③ ①②に加えて最適化手法をAdaGradやAdamに変更して学習を実施してみた。AdaGradでは、もう少し急激なロスの減少を期待したが、そこまでロスは下がらなかった。  \n",
    "活性化関数Reluと最適化手法にAdamを用いた際に最高のACC≒98％となっており、ロス曲線が急激に減少しているのが分かる。"
   ]
  },
  {
   "cell_type": "markdown",
   "metadata": {},
   "source": [
    "最適化手法として、Adamの次にRAdamなるアルゴリズムも出てきているようなので、こちらも今後チャレンジしていきたい。"
   ]
  },
  {
   "cell_type": "code",
   "execution_count": null,
   "metadata": {},
   "outputs": [],
   "source": []
  }
 ],
 "metadata": {
  "kernelspec": {
   "display_name": "Python 3",
   "language": "python",
   "name": "python3"
  },
  "language_info": {
   "codemirror_mode": {
    "name": "ipython",
    "version": 3
   },
   "file_extension": ".py",
   "mimetype": "text/x-python",
   "name": "python",
   "nbconvert_exporter": "python",
   "pygments_lexer": "ipython3",
   "version": "3.7.6"
  }
 },
 "nbformat": 4,
 "nbformat_minor": 4
}
