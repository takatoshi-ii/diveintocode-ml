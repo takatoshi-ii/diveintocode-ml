{
 "cells": [
  {
   "cell_type": "markdown",
   "metadata": {},
   "source": [
    "# Sprint９ 深層学習スクラッチ ニューラルネットワーク"
   ]
  },
  {
   "cell_type": "markdown",
   "metadata": {},
   "source": [
    "## 1.このSprintについて"
   ]
  },
  {
   "cell_type": "markdown",
   "metadata": {},
   "source": [
    "### Sprintの目的"
   ]
  },
  {
   "cell_type": "markdown",
   "metadata": {},
   "source": [
    "スクラッチを通してニューラルネットワークの基礎を理解する\n",
    "画像データの扱い方を知る"
   ]
  },
  {
   "cell_type": "code",
   "execution_count": 2,
   "metadata": {},
   "outputs": [
    {
     "name": "stderr",
     "output_type": "stream",
     "text": [
      "Using TensorFlow backend.\n",
      "C:\\Users\\Takatoshi\\anaconda3\\lib\\site-packages\\tensorflow\\python\\framework\\dtypes.py:526: FutureWarning: Passing (type, 1) or '1type' as a synonym of type is deprecated; in a future version of numpy, it will be understood as (type, (1,)) / '(1,)type'.\n",
      "  _np_qint8 = np.dtype([(\"qint8\", np.int8, 1)])\n",
      "C:\\Users\\Takatoshi\\anaconda3\\lib\\site-packages\\tensorflow\\python\\framework\\dtypes.py:527: FutureWarning: Passing (type, 1) or '1type' as a synonym of type is deprecated; in a future version of numpy, it will be understood as (type, (1,)) / '(1,)type'.\n",
      "  _np_quint8 = np.dtype([(\"quint8\", np.uint8, 1)])\n",
      "C:\\Users\\Takatoshi\\anaconda3\\lib\\site-packages\\tensorflow\\python\\framework\\dtypes.py:528: FutureWarning: Passing (type, 1) or '1type' as a synonym of type is deprecated; in a future version of numpy, it will be understood as (type, (1,)) / '(1,)type'.\n",
      "  _np_qint16 = np.dtype([(\"qint16\", np.int16, 1)])\n",
      "C:\\Users\\Takatoshi\\anaconda3\\lib\\site-packages\\tensorflow\\python\\framework\\dtypes.py:529: FutureWarning: Passing (type, 1) or '1type' as a synonym of type is deprecated; in a future version of numpy, it will be understood as (type, (1,)) / '(1,)type'.\n",
      "  _np_quint16 = np.dtype([(\"quint16\", np.uint16, 1)])\n",
      "C:\\Users\\Takatoshi\\anaconda3\\lib\\site-packages\\tensorflow\\python\\framework\\dtypes.py:530: FutureWarning: Passing (type, 1) or '1type' as a synonym of type is deprecated; in a future version of numpy, it will be understood as (type, (1,)) / '(1,)type'.\n",
      "  _np_qint32 = np.dtype([(\"qint32\", np.int32, 1)])\n",
      "C:\\Users\\Takatoshi\\anaconda3\\lib\\site-packages\\tensorflow\\python\\framework\\dtypes.py:535: FutureWarning: Passing (type, 1) or '1type' as a synonym of type is deprecated; in a future version of numpy, it will be understood as (type, (1,)) / '(1,)type'.\n",
      "  np_resource = np.dtype([(\"resource\", np.ubyte, 1)])\n"
     ]
    }
   ],
   "source": [
    "from keras.datasets import mnist\n",
    "import matplotlib.pyplot as plt\n",
    "%matplotlib inline\n",
    "import numpy as np\n",
    "from sklearn.preprocessing import OneHotEncoder\n",
    "from sklearn.model_selection import train_test_split\n",
    "from sklearn.metrics import accuracy_score, precision_score, recall_score, f1_score"
   ]
  },
  {
   "cell_type": "code",
   "execution_count": null,
   "metadata": {},
   "outputs": [],
   "source": []
  },
  {
   "cell_type": "markdown",
   "metadata": {},
   "source": [
    "## 2.MNISTデータセット"
   ]
  },
  {
   "cell_type": "code",
   "execution_count": 3,
   "metadata": {},
   "outputs": [],
   "source": [
    "from keras.datasets import mnist\n",
    "(X_train, y_train), (X_test, y_test) = mnist.load_data()"
   ]
  },
  {
   "cell_type": "markdown",
   "metadata": {},
   "source": [
    "#### 《MNISTとは？》  \n",
    "画像分類のための定番データセットで、手書き数字認識を行います。  \n",
    "このデータセットには訓練用6万枚、テスト用1万枚の28×28ピクセルの白黒画像、  およびそれらが0〜9のどの数字であるかというラベルが含まれています。"
   ]
  },
  {
   "cell_type": "markdown",
   "metadata": {},
   "source": [
    "#### 《画像データとは？》"
   ]
  },
  {
   "cell_type": "markdown",
   "metadata": {},
   "source": [
    "デジタル画像は点の集合で、これをピクセルと呼びます。一般的に白黒画像であればピクセルには0〜255の値が含まれます。一方、カラー画像であればR（赤）、G（緑）、B（青）それぞれに対応する0〜255の値が含まれます。機械学習をする上では、この0〜255の値一つひとつが特徴量として扱われます。0〜255は符号なしの8ビット整数で表せる範囲になるため、NumPyであれば「uint8」型の変数として保持できます。"
   ]
  },
  {
   "cell_type": "markdown",
   "metadata": {},
   "source": [
    "#### データセットの確認\n",
    "どういったデータなのかを見てみます。"
   ]
  },
  {
   "cell_type": "markdown",
   "metadata": {},
   "source": [
    "#### 《サンプルコード》"
   ]
  },
  {
   "cell_type": "code",
   "execution_count": 7,
   "metadata": {},
   "outputs": [
    {
     "name": "stdout",
     "output_type": "stream",
     "text": [
      "(60000, 28, 28)\n",
      "(10000, 28, 28)\n",
      "uint8\n",
      "[[  0   0   0   0   0   0   0   0   0   0   0   0   0   0   0   0   0   0\n",
      "    0   0   0   0   0   0   0   0   0   0]\n",
      " [  0   0   0   0   0   0   0   0   0   0   0   0   0   0   0   0   0   0\n",
      "    0   0   0   0   0   0   0   0   0   0]\n",
      " [  0   0   0   0   0   0   0   0   0   0   0   0   0   0   0   0   0   0\n",
      "    0   0   0   0   0   0   0   0   0   0]\n",
      " [  0   0   0   0   0   0   0   0   0   0   0   0   0   0   0   0   0   0\n",
      "    0   0   0   0   0   0   0   0   0   0]\n",
      " [  0   0   0   0   0   0   0   0   0   0   0   0   0   0   0   0   0   0\n",
      "    0   0   0   0   0   0   0   0   0   0]\n",
      " [  0   0   0   0   0   0   0   0   0   0   0   0   3  18  18  18 126 136\n",
      "  175  26 166 255 247 127   0   0   0   0]\n",
      " [  0   0   0   0   0   0   0   0  30  36  94 154 170 253 253 253 253 253\n",
      "  225 172 253 242 195  64   0   0   0   0]\n",
      " [  0   0   0   0   0   0   0  49 238 253 253 253 253 253 253 253 253 251\n",
      "   93  82  82  56  39   0   0   0   0   0]\n",
      " [  0   0   0   0   0   0   0  18 219 253 253 253 253 253 198 182 247 241\n",
      "    0   0   0   0   0   0   0   0   0   0]\n",
      " [  0   0   0   0   0   0   0   0  80 156 107 253 253 205  11   0  43 154\n",
      "    0   0   0   0   0   0   0   0   0   0]\n",
      " [  0   0   0   0   0   0   0   0   0  14   1 154 253  90   0   0   0   0\n",
      "    0   0   0   0   0   0   0   0   0   0]\n",
      " [  0   0   0   0   0   0   0   0   0   0   0 139 253 190   2   0   0   0\n",
      "    0   0   0   0   0   0   0   0   0   0]\n",
      " [  0   0   0   0   0   0   0   0   0   0   0  11 190 253  70   0   0   0\n",
      "    0   0   0   0   0   0   0   0   0   0]\n",
      " [  0   0   0   0   0   0   0   0   0   0   0   0  35 241 225 160 108   1\n",
      "    0   0   0   0   0   0   0   0   0   0]\n",
      " [  0   0   0   0   0   0   0   0   0   0   0   0   0  81 240 253 253 119\n",
      "   25   0   0   0   0   0   0   0   0   0]\n",
      " [  0   0   0   0   0   0   0   0   0   0   0   0   0   0  45 186 253 253\n",
      "  150  27   0   0   0   0   0   0   0   0]\n",
      " [  0   0   0   0   0   0   0   0   0   0   0   0   0   0   0  16  93 252\n",
      "  253 187   0   0   0   0   0   0   0   0]\n",
      " [  0   0   0   0   0   0   0   0   0   0   0   0   0   0   0   0   0 249\n",
      "  253 249  64   0   0   0   0   0   0   0]\n",
      " [  0   0   0   0   0   0   0   0   0   0   0   0   0   0  46 130 183 253\n",
      "  253 207   2   0   0   0   0   0   0   0]\n",
      " [  0   0   0   0   0   0   0   0   0   0   0   0  39 148 229 253 253 253\n",
      "  250 182   0   0   0   0   0   0   0   0]\n",
      " [  0   0   0   0   0   0   0   0   0   0  24 114 221 253 253 253 253 201\n",
      "   78   0   0   0   0   0   0   0   0   0]\n",
      " [  0   0   0   0   0   0   0   0  23  66 213 253 253 253 253 198  81   2\n",
      "    0   0   0   0   0   0   0   0   0   0]\n",
      " [  0   0   0   0   0   0  18 171 219 253 253 253 253 195  80   9   0   0\n",
      "    0   0   0   0   0   0   0   0   0   0]\n",
      " [  0   0   0   0  55 172 226 253 253 253 253 244 133  11   0   0   0   0\n",
      "    0   0   0   0   0   0   0   0   0   0]\n",
      " [  0   0   0   0 136 253 253 253 212 135 132  16   0   0   0   0   0   0\n",
      "    0   0   0   0   0   0   0   0   0   0]\n",
      " [  0   0   0   0   0   0   0   0   0   0   0   0   0   0   0   0   0   0\n",
      "    0   0   0   0   0   0   0   0   0   0]\n",
      " [  0   0   0   0   0   0   0   0   0   0   0   0   0   0   0   0   0   0\n",
      "    0   0   0   0   0   0   0   0   0   0]\n",
      " [  0   0   0   0   0   0   0   0   0   0   0   0   0   0   0   0   0   0\n",
      "    0   0   0   0   0   0   0   0   0   0]]\n"
     ]
    }
   ],
   "source": [
    "print(X_train.shape) # (60000, 28, 28)\n",
    "print(X_test.shape) # (10000, 28, 28)\n",
    "print(X_train[0].dtype) # uint8\n",
    "print(X_train[0])"
   ]
  },
  {
   "cell_type": "markdown",
   "metadata": {},
   "source": [
    "#### 各データは28×28ピクセルの白黒画像です。"
   ]
  },
  {
   "cell_type": "markdown",
   "metadata": {},
   "source": [
    "### 平滑化"
   ]
  },
  {
   "cell_type": "markdown",
   "metadata": {},
   "source": [
    "(1, 28, 28)の各画像を、(1, 784)に変換します。これまで学んできた機械学習手法や、今回扱う全結合層のみのニューラルネットワークではこの形で扱います。全てのピクセルが一列になっていることを、 平滑化（flatten） してあるという風に表現します。"
   ]
  },
  {
   "cell_type": "code",
   "execution_count": 8,
   "metadata": {},
   "outputs": [],
   "source": [
    "X_train = X_train.reshape(-1, 784)\n",
    "X_test = X_test.reshape(-1, 784)"
   ]
  },
  {
   "cell_type": "markdown",
   "metadata": {},
   "source": [
    "#### 《補足》"
   ]
  },
  {
   "cell_type": "markdown",
   "metadata": {},
   "source": [
    "ここまで機械学習を学んでくる中で、特徴量の数を「次元」と呼んできました。その視点ではMNISTは784次元のデータです。一方で、NumPyのshapeが(784,)の状態を1次元配列とも呼びます。画像としての縦横の情報を持つ（28, 28)の状態であれば、2次元配列です。この視点では2次元のデータです。さらに、もしもカラー画像であれば(28, 28, 3)ということになり、3次元配列です。先ほどの視点では3次元のデータになります。しかし、白黒でもカラーでも平面画像であり、立体データではないという視点で、2次元のデータです。画像データを扱う際にはこのように「次元」という言葉が複数の意味合いで使われることに注意してください。"
   ]
  },
  {
   "cell_type": "markdown",
   "metadata": {},
   "source": [
    "### 画像データの可視化\n",
    "画像データを可視化します。plt.imshowに渡します。"
   ]
  },
  {
   "cell_type": "markdown",
   "metadata": {},
   "source": [
    "《サンプルコード》"
   ]
  },
  {
   "cell_type": "code",
   "execution_count": 9,
   "metadata": {},
   "outputs": [
    {
     "data": {
      "image/png": "[encoded data removed]",
      "text/plain": [
       "<Figure size 432x288 with 1 Axes>"
      ]
     },
     "metadata": {
      "needs_background": "light"
     },
     "output_type": "display_data"
    }
   ],
   "source": [
    "import matplotlib.pyplot as plt\n",
    "%matplotlib inline\n",
    "index = 0\n",
    "image = X_train[index].reshape(28,28)\n",
    "# X_train[index]: (784,)\n",
    "# image: (28, 28)\n",
    "plt.imshow(image, 'gray')\n",
    "plt.title('label : {}'.format(y_train[index]))\n",
    "plt.show()"
   ]
  },
  {
   "cell_type": "markdown",
   "metadata": {},
   "source": [
    "#### 《発展的話題》\n",
    "画像データは符号なし8ビット整数のuint8型で保持されることが一般的ですが、plt.imshowはより自由な配列を画像として表示することが可能です。例えば、以下のようにマイナスの値を持ったfloat64型の浮動小数点であってもエラーにはならないし、先ほどと全く同じ風に表示されます。"
   ]
  },
  {
   "cell_type": "code",
   "execution_count": 10,
   "metadata": {},
   "outputs": [
    {
     "data": {
      "image/png": "[encoded data removed]",
      "text/plain": [
       "<Figure size 432x288 with 1 Axes>"
      ]
     },
     "metadata": {
      "needs_background": "light"
     },
     "output_type": "display_data"
    },
    {
     "name": "stdout",
     "output_type": "stream",
     "text": [
      "[[-105.35 -105.35 -105.35 -105.35 -105.35 -105.35 -105.35 -105.35 -105.35\n",
      "  -105.35 -105.35 -105.35 -105.35 -105.35 -105.35 -105.35 -105.35 -105.35\n",
      "  -105.35 -105.35 -105.35 -105.35 -105.35 -105.35 -105.35 -105.35 -105.35\n",
      "  -105.35]\n",
      " [-105.35 -105.35 -105.35 -105.35 -105.35 -105.35 -105.35 -105.35 -105.35\n",
      "  -105.35 -105.35 -105.35 -105.35 -105.35 -105.35 -105.35 -105.35 -105.35\n",
      "  -105.35 -105.35 -105.35 -105.35 -105.35 -105.35 -105.35 -105.35 -105.35\n",
      "  -105.35]\n",
      " [-105.35 -105.35 -105.35 -105.35 -105.35 -105.35 -105.35 -105.35 -105.35\n",
      "  -105.35 -105.35 -105.35 -105.35 -105.35 -105.35 -105.35 -105.35 -105.35\n",
      "  -105.35 -105.35 -105.35 -105.35 -105.35 -105.35 -105.35 -105.35 -105.35\n",
      "  -105.35]\n",
      " [-105.35 -105.35 -105.35 -105.35 -105.35 -105.35 -105.35 -105.35 -105.35\n",
      "  -105.35 -105.35 -105.35 -105.35 -105.35 -105.35 -105.35 -105.35 -105.35\n",
      "  -105.35 -105.35 -105.35 -105.35 -105.35 -105.35 -105.35 -105.35 -105.35\n",
      "  -105.35]\n",
      " [-105.35 -105.35 -105.35 -105.35 -105.35 -105.35 -105.35 -105.35 -105.35\n",
      "  -105.35 -105.35 -105.35 -105.35 -105.35 -105.35 -105.35 -105.35 -105.35\n",
      "  -105.35 -105.35 -105.35 -105.35 -105.35 -105.35 -105.35 -105.35 -105.35\n",
      "  -105.35]\n",
      " [-105.35 -105.35 -105.35 -105.35 -105.35 -105.35 -105.35 -105.35 -105.35\n",
      "  -105.35 -105.35 -105.35 -102.35  -87.35  -87.35  -87.35   20.65   30.65\n",
      "    69.65  -79.35   60.65  149.65  141.65   21.65 -105.35 -105.35 -105.35\n",
      "  -105.35]\n",
      " [-105.35 -105.35 -105.35 -105.35 -105.35 -105.35 -105.35 -105.35  -75.35\n",
      "   -69.35  -11.35   48.65   64.65  147.65  147.65  147.65  147.65  147.65\n",
      "   119.65   66.65  147.65  136.65   89.65  -41.35 -105.35 -105.35 -105.35\n",
      "  -105.35]\n",
      " [-105.35 -105.35 -105.35 -105.35 -105.35 -105.35 -105.35  -56.35  132.65\n",
      "   147.65  147.65  147.65  147.65  147.65  147.65  147.65  147.65  145.65\n",
      "   -12.35  -23.35  -23.35  -49.35  -66.35 -105.35 -105.35 -105.35 -105.35\n",
      "  -105.35]\n",
      " [-105.35 -105.35 -105.35 -105.35 -105.35 -105.35 -105.35  -87.35  113.65\n",
      "   147.65  147.65  147.65  147.65  147.65   92.65   76.65  141.65  135.65\n",
      "  -105.35 -105.35 -105.35 -105.35 -105.35 -105.35 -105.35 -105.35 -105.35\n",
      "  -105.35]\n",
      " [-105.35 -105.35 -105.35 -105.35 -105.35 -105.35 -105.35 -105.35  -25.35\n",
      "    50.65    1.65  147.65  147.65   99.65  -94.35 -105.35  -62.35   48.65\n",
      "  -105.35 -105.35 -105.35 -105.35 -105.35 -105.35 -105.35 -105.35 -105.35\n",
      "  -105.35]\n",
      " [-105.35 -105.35 -105.35 -105.35 -105.35 -105.35 -105.35 -105.35 -105.35\n",
      "   -91.35 -104.35   48.65  147.65  -15.35 -105.35 -105.35 -105.35 -105.35\n",
      "  -105.35 -105.35 -105.35 -105.35 -105.35 -105.35 -105.35 -105.35 -105.35\n",
      "  -105.35]\n",
      " [-105.35 -105.35 -105.35 -105.35 -105.35 -105.35 -105.35 -105.35 -105.35\n",
      "  -105.35 -105.35   33.65  147.65   84.65 -103.35 -105.35 -105.35 -105.35\n",
      "  -105.35 -105.35 -105.35 -105.35 -105.35 -105.35 -105.35 -105.35 -105.35\n",
      "  -105.35]\n",
      " [-105.35 -105.35 -105.35 -105.35 -105.35 -105.35 -105.35 -105.35 -105.35\n",
      "  -105.35 -105.35  -94.35   84.65  147.65  -35.35 -105.35 -105.35 -105.35\n",
      "  -105.35 -105.35 -105.35 -105.35 -105.35 -105.35 -105.35 -105.35 -105.35\n",
      "  -105.35]\n",
      " [-105.35 -105.35 -105.35 -105.35 -105.35 -105.35 -105.35 -105.35 -105.35\n",
      "  -105.35 -105.35 -105.35  -70.35  135.65  119.65   54.65    2.65 -104.35\n",
      "  -105.35 -105.35 -105.35 -105.35 -105.35 -105.35 -105.35 -105.35 -105.35\n",
      "  -105.35]\n",
      " [-105.35 -105.35 -105.35 -105.35 -105.35 -105.35 -105.35 -105.35 -105.35\n",
      "  -105.35 -105.35 -105.35 -105.35  -24.35  134.65  147.65  147.65   13.65\n",
      "   -80.35 -105.35 -105.35 -105.35 -105.35 -105.35 -105.35 -105.35 -105.35\n",
      "  -105.35]\n",
      " [-105.35 -105.35 -105.35 -105.35 -105.35 -105.35 -105.35 -105.35 -105.35\n",
      "  -105.35 -105.35 -105.35 -105.35 -105.35  -60.35   80.65  147.65  147.65\n",
      "    44.65  -78.35 -105.35 -105.35 -105.35 -105.35 -105.35 -105.35 -105.35\n",
      "  -105.35]\n",
      " [-105.35 -105.35 -105.35 -105.35 -105.35 -105.35 -105.35 -105.35 -105.35\n",
      "  -105.35 -105.35 -105.35 -105.35 -105.35 -105.35  -89.35  -12.35  146.65\n",
      "   147.65   81.65 -105.35 -105.35 -105.35 -105.35 -105.35 -105.35 -105.35\n",
      "  -105.35]\n",
      " [-105.35 -105.35 -105.35 -105.35 -105.35 -105.35 -105.35 -105.35 -105.35\n",
      "  -105.35 -105.35 -105.35 -105.35 -105.35 -105.35 -105.35 -105.35  143.65\n",
      "   147.65  143.65  -41.35 -105.35 -105.35 -105.35 -105.35 -105.35 -105.35\n",
      "  -105.35]\n",
      " [-105.35 -105.35 -105.35 -105.35 -105.35 -105.35 -105.35 -105.35 -105.35\n",
      "  -105.35 -105.35 -105.35 -105.35 -105.35  -59.35   24.65   77.65  147.65\n",
      "   147.65  101.65 -103.35 -105.35 -105.35 -105.35 -105.35 -105.35 -105.35\n",
      "  -105.35]\n",
      " [-105.35 -105.35 -105.35 -105.35 -105.35 -105.35 -105.35 -105.35 -105.35\n",
      "  -105.35 -105.35 -105.35  -66.35   42.65  123.65  147.65  147.65  147.65\n",
      "   144.65   76.65 -105.35 -105.35 -105.35 -105.35 -105.35 -105.35 -105.35\n",
      "  -105.35]\n",
      " [-105.35 -105.35 -105.35 -105.35 -105.35 -105.35 -105.35 -105.35 -105.35\n",
      "  -105.35  -81.35    8.65  115.65  147.65  147.65  147.65  147.65   95.65\n",
      "   -27.35 -105.35 -105.35 -105.35 -105.35 -105.35 -105.35 -105.35 -105.35\n",
      "  -105.35]\n",
      " [-105.35 -105.35 -105.35 -105.35 -105.35 -105.35 -105.35 -105.35  -82.35\n",
      "   -39.35  107.65  147.65  147.65  147.65  147.65   92.65  -24.35 -103.35\n",
      "  -105.35 -105.35 -105.35 -105.35 -105.35 -105.35 -105.35 -105.35 -105.35\n",
      "  -105.35]\n",
      " [-105.35 -105.35 -105.35 -105.35 -105.35 -105.35  -87.35   65.65  113.65\n",
      "   147.65  147.65  147.65  147.65   89.65  -25.35  -96.35 -105.35 -105.35\n",
      "  -105.35 -105.35 -105.35 -105.35 -105.35 -105.35 -105.35 -105.35 -105.35\n",
      "  -105.35]\n",
      " [-105.35 -105.35 -105.35 -105.35  -50.35   66.65  120.65  147.65  147.65\n",
      "   147.65  147.65  138.65   27.65  -94.35 -105.35 -105.35 -105.35 -105.35\n",
      "  -105.35 -105.35 -105.35 -105.35 -105.35 -105.35 -105.35 -105.35 -105.35\n",
      "  -105.35]\n",
      " [-105.35 -105.35 -105.35 -105.35   30.65  147.65  147.65  147.65  106.65\n",
      "    29.65   26.65  -89.35 -105.35 -105.35 -105.35 -105.35 -105.35 -105.35\n",
      "  -105.35 -105.35 -105.35 -105.35 -105.35 -105.35 -105.35 -105.35 -105.35\n",
      "  -105.35]\n",
      " [-105.35 -105.35 -105.35 -105.35 -105.35 -105.35 -105.35 -105.35 -105.35\n",
      "  -105.35 -105.35 -105.35 -105.35 -105.35 -105.35 -105.35 -105.35 -105.35\n",
      "  -105.35 -105.35 -105.35 -105.35 -105.35 -105.35 -105.35 -105.35 -105.35\n",
      "  -105.35]\n",
      " [-105.35 -105.35 -105.35 -105.35 -105.35 -105.35 -105.35 -105.35 -105.35\n",
      "  -105.35 -105.35 -105.35 -105.35 -105.35 -105.35 -105.35 -105.35 -105.35\n",
      "  -105.35 -105.35 -105.35 -105.35 -105.35 -105.35 -105.35 -105.35 -105.35\n",
      "  -105.35]\n",
      " [-105.35 -105.35 -105.35 -105.35 -105.35 -105.35 -105.35 -105.35 -105.35\n",
      "  -105.35 -105.35 -105.35 -105.35 -105.35 -105.35 -105.35 -105.35 -105.35\n",
      "  -105.35 -105.35 -105.35 -105.35 -105.35 -105.35 -105.35 -105.35 -105.35\n",
      "  -105.35]]\n"
     ]
    }
   ],
   "source": [
    "index = 0\n",
    "image = X_train[index].reshape(28,28)\n",
    "image = image.astype(np.float) # float型に変換\n",
    "image -= 105.35 # 意図的に負の小数値を作り出してみる\n",
    "plt.imshow(image, 'gray')\n",
    "plt.title('label : {}'.format(y_train[index]))\n",
    "plt.show()\n",
    "print(image) # 値を確認"
   ]
  },
  {
   "cell_type": "markdown",
   "metadata": {},
   "source": [
    "これは、自動的に値を0〜255の整数に変換して処理するように作られているからです。uint8型であっても最小値が0、最大値が255でない場合には色合いがおかしくなります。それを防ぐためには次のように引数を入れてください。"
   ]
  },
  {
   "cell_type": "code",
   "execution_count": 11,
   "metadata": {},
   "outputs": [
    {
     "data": {
      "text/plain": [
       "<matplotlib.image.AxesImage at 0x1f03fdb54c8>"
      ]
     },
     "execution_count": 11,
     "metadata": {},
     "output_type": "execute_result"
    },
    {
     "data": {
      "image/png": "[encoded data removed]",
      "text/plain": [
       "<Figure size 432x288 with 1 Axes>"
      ]
     },
     "metadata": {
      "needs_background": "light"
     },
     "output_type": "display_data"
    }
   ],
   "source": [
    "plt.imshow(image, 'gray', vmin = 0, vmax = 255)"
   ]
  },
  {
   "cell_type": "markdown",
   "metadata": {},
   "source": [
    "画像関係のライブラリではこの自動的なスケーリングが思わぬ結果を生むことがあるので、新しいメソッドを使うときには確認しておきましょう。"
   ]
  },
  {
   "cell_type": "markdown",
   "metadata": {},
   "source": [
    "### 前処理"
   ]
  },
  {
   "cell_type": "markdown",
   "metadata": {},
   "source": [
    "画像は0から255のuint8型で表されますが、機械学習をする上では0から1のfloat型で扱うことになります。  \n",
    "以下のコードで変換可能です。\n",
    "\n",
    "《サンプルコード》"
   ]
  },
  {
   "cell_type": "code",
   "execution_count": 12,
   "metadata": {},
   "outputs": [
    {
     "name": "stdout",
     "output_type": "stream",
     "text": [
      "1.0\n",
      "0.0\n"
     ]
    }
   ],
   "source": [
    "X_train = X_train.astype(np.float)\n",
    "X_test = X_test.astype(np.float)\n",
    "X_train /= 255\n",
    "X_test /= 255\n",
    "print(X_train.max()) # 1.0\n",
    "print(X_train.min()) # 0.0"
   ]
  },
  {
   "cell_type": "markdown",
   "metadata": {},
   "source": [
    "また、正解ラベルは0から9の整数ですが、ニューラルネットワークで多クラス分類を行う際には one-hot表現 に変換します。scikit-learnのOneHotEncoderを使用したコードが以下です。このone-hot表現による値はそのラベルである確率を示していることになるため、float型で扱います。\n",
    "\n",
    "《サンプルコード》"
   ]
  },
  {
   "cell_type": "code",
   "execution_count": 13,
   "metadata": {},
   "outputs": [
    {
     "name": "stdout",
     "output_type": "stream",
     "text": [
      "(60000,)\n",
      "(60000, 10)\n",
      "float64\n"
     ]
    }
   ],
   "source": [
    "from sklearn.preprocessing import OneHotEncoder\n",
    "enc = OneHotEncoder(handle_unknown='ignore', sparse=False)\n",
    "y_train_one_hot = enc.fit_transform(y_train[:, np.newaxis])\n",
    "y_test_one_hot = enc.transform(y_test[:, np.newaxis])\n",
    "print(y_train.shape) # (60000,)\n",
    "print(y_train_one_hot.shape) # (60000, 10)\n",
    "print(y_train_one_hot.dtype) # float64"
   ]
  },
  {
   "cell_type": "markdown",
   "metadata": {},
   "source": [
    "さらに、訓練データ6万枚の内2割を検証データとして分割してください。訓練データが48000枚、検証データが12000枚となります。  \n",
    "\n",
    "《サンプルコード》"
   ]
  },
  {
   "cell_type": "code",
   "execution_count": 14,
   "metadata": {},
   "outputs": [
    {
     "name": "stdout",
     "output_type": "stream",
     "text": [
      "(48000, 784)\n",
      "(12000, 784)\n"
     ]
    }
   ],
   "source": [
    "X_train, X_val, y_train, y_val = train_test_split(X_train, y_train, test_size=0.2)\n",
    "print(X_train.shape) # (48000, 784)\n",
    "print(X_val.shape) # (12000, 784)"
   ]
  },
  {
   "cell_type": "markdown",
   "metadata": {},
   "source": [
    "# 3.ニューラルネットワークスクラッチ"
   ]
  },
  {
   "cell_type": "markdown",
   "metadata": {},
   "source": [
    "ニューラルネットワークのクラスをスクラッチで作成していきます。NumPyなど最低限のライブラリのみを使いアルゴリズムを実装していきます。\n",
    "\n",
    "今回は多クラス分類を行う3層のニューラルネットワークを作成します。層の数などは固定した上でニューラルネットワークの基本を学びます。次のSprintで層を自由に変えられる設計にしていきます。\n",
    "\n",
    "以下に雛形を用意してあります。このScratchSimpleNeuralNetrowkClassifierクラスにコードを書き加えていってください。\n",
    "\n"
   ]
  },
  {
   "cell_type": "markdown",
   "metadata": {},
   "source": [
    "### 《雛形》"
   ]
  },
  {
   "cell_type": "code",
   "execution_count": null,
   "metadata": {},
   "outputs": [],
   "source": []
  },
  {
   "cell_type": "markdown",
   "metadata": {},
   "source": [
    "### ミニバッチ処理"
   ]
  },
  {
   "cell_type": "markdown",
   "metadata": {},
   "source": [
    "これまでの機械学習スクラッチでは、全てのサンプルを一度に計算していました。しかし、ニューラルネットワークではデータを分割して入力する 確率的勾配降下法 が一般的です。分割した際のひとかたまりを ミニバッチ 、そのサンプル数を バッチサイズ と呼びます。\n",
    "\n",
    "今回はバッチサイズを20とします。今回使う訓練データは48000枚ですから、48000÷20で2400回の更新を繰り返すことになります。ニューラルネットワークではこれを2400回 イテレーション（iteration） すると呼びます。訓練データを一度全て見ると1回の エポック（epoch） が終わったことになります。このエポックを複数回繰り返し、学習が完了します。\n",
    "\n",
    "これを実現するための簡素なイテレータを用意しました。for文で呼び出すと、ミニバッチを取得できます。\n",
    "\n",
    "《コード》"
   ]
  },
  {
   "cell_type": "code",
   "execution_count": 17,
   "metadata": {},
   "outputs": [],
   "source": [
    "class GetMiniBatch:\n",
    "    \"\"\"\n",
    "    ミニバッチを取得するイテレータ\n",
    "\n",
    "    Parameters\n",
    "    ----------\n",
    "    X : 次の形のndarray, shape (n_samples, n_features)\n",
    "      訓練データ\n",
    "    y : 次の形のndarray, shape (n_samples, 1)\n",
    "      正解値\n",
    "    batch_size : int\n",
    "      バッチサイズ\n",
    "    seed : int\n",
    "      NumPyの乱数のシード\n",
    "    \"\"\"\n",
    "    def __init__(self, X, y, batch_size = 20, seed=0):\n",
    "        self.batch_size = batch_size\n",
    "        np.random.seed(seed)\n",
    "        shuffle_index = np.random.permutation(np.arange(X.shape[0]))\n",
    "        self._X = X[shuffle_index]\n",
    "        self._y = y[shuffle_index]\n",
    "        self._stop = np.ceil(X.shape[0]/self.batch_size).astype(np.int)\n",
    "    def __len__(self):\n",
    "        return self._stop\n",
    "    def __getitem__(self,item):\n",
    "        p0 = item*self.batch_size\n",
    "        p1 = item*self.batch_size + self.batch_size\n",
    "        return self._X[p0:p1], self._y[p0:p1]        \n",
    "    def __iter__(self):\n",
    "        self._counter = 0\n",
    "        return self\n",
    "    def __next__(self):\n",
    "        if self._counter >= self._stop:\n",
    "            raise StopIteration()\n",
    "        p0 = self._counter*self.batch_size\n",
    "        p1 = self._counter*self.batch_size + self.batch_size\n",
    "        self._counter += 1\n",
    "        return self._X[p0:p1], self._y[p0:p1]"
   ]
  },
  {
   "cell_type": "markdown",
   "metadata": {},
   "source": [
    "このクラスをインスタンス化し、for文を使うことでミニバッチが取り出せます。"
   ]
  },
  {
   "cell_type": "code",
   "execution_count": 18,
   "metadata": {},
   "outputs": [
    {
     "name": "stdout",
     "output_type": "stream",
     "text": [
      "2400\n",
      "(array([[0., 0., 0., ..., 0., 0., 0.],\n",
      "       [0., 0., 0., ..., 0., 0., 0.],\n",
      "       [0., 0., 0., ..., 0., 0., 0.],\n",
      "       ...,\n",
      "       [0., 0., 0., ..., 0., 0., 0.],\n",
      "       [0., 0., 0., ..., 0., 0., 0.],\n",
      "       [0., 0., 0., ..., 0., 0., 0.]]), array([9, 9, 6, 6, 2, 4, 5, 0, 4, 0, 6, 6, 0, 2, 9, 8, 1, 7, 8, 1],\n",
      "      dtype=uint8))\n"
     ]
    }
   ],
   "source": [
    "get_mini_batch = GetMiniBatch(X_train, y_train, batch_size=20)\n",
    "print(len(get_mini_batch)) # 2400\n",
    "print(get_mini_batch[5]) # 5番目のミニバッチが取得できる\n",
    "for mini_X_train, mini_y_train in get_mini_batch:\n",
    "    # このfor文内でミニバッチが使える\n",
    "    pass"
   ]
  },
  {
   "cell_type": "markdown",
   "metadata": {},
   "source": [
    "__getitem__や__next__は__init__と同じ特殊メソッドの一種です。"
   ]
  },
  {
   "cell_type": "markdown",
   "metadata": {},
   "source": [
    "### 学習"
   ]
  },
  {
   "cell_type": "markdown",
   "metadata": {},
   "source": [
    "ニューラルネットワークの学習はフォワードプロパゲーションとバックプロパゲションの繰り返しになります。"
   ]
  },
  {
   "cell_type": "markdown",
   "metadata": {},
   "source": [
    "## 【問題1】重みの初期値を決めるコードの作成"
   ]
  },
  {
   "cell_type": "markdown",
   "metadata": {},
   "source": [
    "ニューラルネットワークの各層の重みの初期値を決めるコードを作成してください。\n",
    "\n",
    "重みの初期値は様々な方法が提案されていますが、今回はガウス分布による単純な初期化を行います。バイアスに関しても同様です。\n",
    "\n",
    "以下のコードを参考にしてください。標準偏差の値sigmaはハイパーパラメータです。発展的な重みの初期化方法については次のSprintで扱います。\n",
    "\n",
    "《サンプルコード》"
   ]
  },
  {
   "cell_type": "code",
   "execution_count": 19,
   "metadata": {},
   "outputs": [],
   "source": [
    "n_features = 784\n",
    "n_nodes1 = 400\n",
    "sigma = 0.01 # ガウス分布の標準偏差\n",
    "W1 = sigma * np.random.randn(n_features, n_nodes1)\n",
    "# W1: (784, 400)"
   ]
  },
  {
   "cell_type": "code",
   "execution_count": 20,
   "metadata": {},
   "outputs": [],
   "source": [
    "def __init__(self, verbose = True):\n",
    "    self.verbose = verbose\n",
    "\n",
    "    self.batch_size = 20 # バッチサイズ\n",
    "    self.n_features = 784 # 特徴量の数\n",
    "    self.n_nodes1 = 400 # 1層目のノード数\n",
    "    self.n_nodes2 = 200 # 2層目のノード数\n",
    "    self.n_output = 10 # 出力のクラス数（3層目のノード数）\n",
    "\n",
    "    self.sigma = 0.01 # ガウス分布の標準偏差\n",
    "\n",
    "    self.network = {} \n",
    "    self.network['W1'] = sigma * np.random.randn(n_features, n_nodes1)\n",
    "    self.network['W2'] = sigma * np.random.randn(n_nodes1, n_nodes2)        \n",
    "    self.network['W3'] = sigma * np.random.randn(n_nodes2, n_output)    \n",
    "    \n",
    "    # Xavierの初期値\n",
    "    # network['W1'] = np.random.rand(input_layer_size, hidden_layer_size) / np.sqrt(input_layer_size)\n",
    "    # network['W2'] = np.random.rand(hidden_layer_size, output_layer_size) / np.sqrt(hidden_layer_size)\n",
    "    \n",
    "    # Heの初期値\n",
    "    # network['W1'] = np.random.rand(input_layer_size, hidden_layer_size) / np.sqrt(input_layer_size) * np.sqrt(2)\n",
    "    # network['W2'] = np.random.rand(hidden_layer_size, output_layer_size) / np.sqrt(hidden_layer_size) * np.sqrt(2)\n",
    "\n",
    "    network['b1'] = np.zeros(n_nodes1)\n",
    "    network['b2'] = np.zeros(n_nodes2)\n",
    "    network['b3'] = np.zeros(output_layer_size)\n"
   ]
  },
  {
   "cell_type": "markdown",
   "metadata": {},
   "source": [
    "## 【問題2】フォワードプロパゲーションの実装\n",
    "三層のニューラルネットワークの フォワードプロパゲーション を作成してください。以下の説明ではノード数は1層目は400、2層目は200としますが、変更しても構いません。\n",
    "\n",
    "各層の数式を以下に示します。今回はそれぞれの記号が表す配列が、実装上どのようなndarrayのshapeになるかを併記してあります。\n",
    "\n",
    "batch_size = 20 # バッチサイズ  \n",
    "n_features = 784 # 特徴量の数  \n",
    "n_nodes1 = 400 # 1層目のノード数  \n",
    "n_nodes2 = 200 # 2層目のノード数  \n",
    "n_output = 10 # 出力のクラス数（3層目のノード数）  \n",
    "\n",
    "\n",
    "≪「1層目」≫\n",
    "\n",
    "$$\n",
    "A_1 = X \\cdot W_1 + B_1\n",
    "$$\n",
    "$X$ : 特徴量ベクトル (batch_size, n_features)\n",
    "\n",
    "\n",
    "$W_1$ : 1層目の重み (n_features, n_nodes1)\n",
    "\n",
    "\n",
    "$B_1$ : 1層目のバイアス (n_nodes1,)\n",
    "\n",
    "\n",
    "$A_1$ : 出力 (batch_size, n_nodes1)\n",
    "\n",
    "\n",
    "「1層目の活性化関数」\n",
    "\n",
    "$$\n",
    "Z_1 = f(A_1)\n",
    "$$\n",
    "\n",
    "$f()$ : 活性化関数\n",
    "\n",
    "\n",
    "$Z_1$ 出力 (batch_size, n_nodes1)\n",
    "\n",
    "\n",
    "\n",
    "≪「2層目」≫\n",
    "\n",
    "$$\n",
    "A_2 = Z_1 \\cdot W_2 + B_2\n",
    "$$\n",
    "\n",
    "$W_2$ : 2層目の重み (n_nodes1, n_nodes2)\n",
    "\n",
    "$B_2$ : 2層目のバイアス (n_nodes2,)\n",
    "\n",
    "$A_2$ : 出力 (batch_size, n_nodes2)\n",
    "\n",
    "\n",
    "「2層目の活性化関数」\n",
    "\n",
    "$$\n",
    "Z_2 = f(A_2)\n",
    "$$\n",
    "\n",
    "$f()$ : 活性化関数\n",
    "\n",
    "$Z_2$ 出力 (batch_size, n_nodes2)\n",
    "\n",
    "\n",
    "≪「3層目（出力層）」≫\n",
    "\n",
    "$$\n",
    "A_3 = Z_2 \\cdot W_3 + B_3\n",
    "$$\n",
    "\n",
    "$W_3$ : 3層目の重み (n_nodes2, n_output)\n",
    "\n",
    "$B_3$ : 3層目のバイアス (n_output,)\n",
    "\n",
    "$A_3$ : 出力 (batch_size, n_output)\n",
    "\n",
    "\n",
    "「3層目の活性化関数」\n",
    "\n",
    "$$\n",
    "Z_3 = softmax(A_3)\n",
    "$$\n",
    "\n",
    "softmax() : ソフトマックス関数\n",
    "\n",
    "\n",
    "$Z_3$ 出力 (batch_size, n_output)\n",
    "\n",
    "\n",
    "$Z_3$ は各ラベル（0〜9）に対する確率の配列である。\n",
    "\n",
    "\n",
    "\n",
    "### 活性化関数（フォワードプロバゲーション）\n",
    "活性化関数を作成し、フォワードプロパゲーションの中で使用します。切り替えられるように実装することを推奨しますが、片方でも構いません。\n",
    "\n",
    "\n",
    "「シグモイド関数」\n",
    "\n",
    "$$\n",
    "f(Z) = sigmoid(A) = \\frac{1}{1+exp(-A)}\n",
    "$$\n",
    "\n",
    "指数関数 exp(-A) の計算はnp.expを使用してください。\n",
    "\n",
    "\n",
    "numpy.exp — NumPy v1.15 Manual\n",
    "\n",
    "\n",
    "「ハイパボリックタンジェント関数」\n",
    "\n",
    "\n",
    "次の数式で表されますが、np.tanhひとつで実現できます。\n",
    "\n",
    "$$\n",
    "f(Z) = tanh(A) = \\frac{exp(A) - exp(-A)}{exp(A) + exp(-A)}\n",
    "$$\n",
    "numpy.tanh — NumPy v1.15 Manual\n",
    "\n",
    "\n",
    "＊現在ではこれらの代わりにReLUと呼ばれる活性化関数が一般的です。次のSprintで扱います。\n"
   ]
  },
  {
   "cell_type": "code",
   "execution_count": null,
   "metadata": {},
   "outputs": [],
   "source": []
  },
  {
   "cell_type": "markdown",
   "metadata": {},
   "source": [
    "### ソフトマックス関数\n",
    "ソフトマックス関数を作成し、フォワードプロパゲーションの中で使用します。これも活性化関数の一種ですが、多クラス分類の出力層で使われる特性上、区別して扱われることが多いです。\n",
    "\n",
    "\n",
    "次の数式です。\n",
    "\n",
    "$$\n",
    "Z_{3\\_k} = \\frac{exp(A_{3\\_k})}{\\sum_{i=1}^{n_c}exp(A_{3\\_i})}\n",
    "$$\n",
    "\n",
    "$Z_{3_k}$ : k 番目のクラスの確率ベクトル (batch_size,)\n",
    "\n",
    "\n",
    "$A_{3_k}$ : k 番目のクラスにあたる前の層からのベクトル (batch_size,)\n",
    "\n",
    "\n",
    "$n_c$ : クラスの数、n_output。今回のMNISTでは10。\n",
    "\n",
    "\n",
    "分母は全てのクラスに相当する値を指数関数に通した上で足し合わせたものです。その中で、分子に k 番目のクラスを持ってくることで、 k 番目のクラスである確率が求まります。  \n",
    "これを10クラス分計算し、合わせたものが $Z_3$ です。"
   ]
  },
  {
   "cell_type": "code",
   "execution_count": null,
   "metadata": {},
   "outputs": [],
   "source": []
  },
  {
   "cell_type": "code",
   "execution_count": null,
   "metadata": {},
   "outputs": [],
   "source": []
  },
  {
   "cell_type": "markdown",
   "metadata": {},
   "source": [
    "### まず順伝播/逆伝播用の活性化関数及びロス関数をクラス化する。"
   ]
  },
  {
   "cell_type": "code",
   "execution_count": 504,
   "metadata": {},
   "outputs": [],
   "source": [
    "class functions():\n",
    "    # 中間層の活性化関数\n",
    "    # シグモイド関数（ロジスティック関数）\n",
    "    def sigmoid(self, x):\n",
    "        return 1/(1 + np.exp(-x))\n",
    "\n",
    "    # ReLU関数\n",
    "    def relu(self, x):\n",
    "        return np.maximum(0, x)\n",
    "\n",
    "    # ステップ関数（閾値0）\n",
    "    def step_function(self, x):\n",
    "        return np.where( x > 0, 1, 0) \n",
    "\n",
    "    # 出力層の活性化関数\n",
    "    # ソフトマックス関数\n",
    "    def softmax(self, x):\n",
    "        if x.ndim == 2:\n",
    "            x = x.T\n",
    "            x = x - np.max(x, axis=0)\n",
    "            y = np.exp(x) / np.sum(np.exp(x), axis=0)\n",
    "            return y.T\n",
    "\n",
    "        x = x - np.max(x) # オーバーフロー対策\n",
    "        return np.exp(x) / np.sum(np.exp(x))\n",
    "\n",
    "    # ソフトマックスとクロスエントロピーの複合関数\n",
    "    def softmax_with_loss(self, d, x):\n",
    "        y = softmax(x)\n",
    "        return cross_entropy_error(d, y)\n",
    "\n",
    "    # 誤差関数\n",
    "    # 最小二乗法\n",
    "    def least_square(self, d, y):\n",
    "        return np.sum(np.square(d - y)) / 2\n",
    "\n",
    "    # クロスエントロピー\n",
    "    def cross_entropy_error(self, d, y):\n",
    "        if y.ndim == 1:\n",
    "            d = d.reshape(1, d.size)\n",
    "            y = y.reshape(1, y.size)\n",
    "\n",
    "        # 教師データがone-hot-vectorの場合、正解ラベルのインデックスに変換\n",
    "        if d.size == y.size:\n",
    "            d = d.argmax(axis=1)\n",
    "\n",
    "        batch_size = y.shape[0]\n",
    "        return -np.sum(np.log(y[np.arange(batch_size), d] + 1e-7)) / batch_size\n",
    "\n",
    "\n",
    "\n",
    "    # 活性化関数の導関数\n",
    "    # シグモイド関数（ロジスティック関数）の導関数\n",
    "    def d_sigmoid(self, x):\n",
    "        dx = (1.0 - self.sigmoid(x)) * self.sigmoid(x)\n",
    "        return dx\n",
    "\n",
    "    # ReLU関数の導関数\n",
    "    def d_relu(self, x):\n",
    "        return np.where( x > 0, 1, 0)\n",
    "\n",
    "    # ステップ関数の導関数\n",
    "    def d_step_function(self, x):\n",
    "        return 0\n",
    "\n",
    "    # 最小二乗法の導関数\n",
    "    def d_least_square(d, y):\n",
    "        return y - d\n",
    "\n",
    "\n",
    "    # ソフトマックスとクロスエントロピーの複合導関数\n",
    "    def d_softmax_with_loss(self, d, y):\n",
    "        batch_size = d.shape[0]\n",
    "        if d.size == y.size: # 教師データがone-hot-vectorの場合\n",
    "            dx = (y - d) / batch_size\n",
    "        else:\n",
    "            dx = y.copy()\n",
    "            dx[np.arange(batch_size), d] -= 1\n",
    "            dx = dx / batch_size\n",
    "        return dx\n",
    "\n",
    "    # シグモイドとクロスエントロピーの複合導関数\n",
    "    def d_sigmoid_with_loss(self, d, y):\n",
    "        return y - d\n",
    "\n",
    "    # 数値微分\n",
    "    def numerical_gradient(self, f, x):\n",
    "        h = 1e-4\n",
    "        grad = np.zeros_like(x)\n",
    "\n",
    "        for idx in range(x.size):\n",
    "            tmp_val = x[idx]\n",
    "            # f(x + h)の計算\n",
    "            x[idx] = tmp_val + h\n",
    "            fxh1 = f(x)\n",
    "\n",
    "            # f(x - h)の計算\n",
    "            x[idx] = tmp_val - h\n",
    "            fxh2 = f(x)\n",
    "\n",
    "            grad[idx] = (fxh1 - fxh2) / (2 * h)\n",
    "            # 値を元に戻す\n",
    "            x[idx] = tmp_val\n",
    "\n",
    "        return grad\n"
   ]
  },
  {
   "cell_type": "markdown",
   "metadata": {},
   "source": [
    "### 順伝播の実装"
   ]
  },
  {
   "cell_type": "code",
   "execution_count": 22,
   "metadata": {},
   "outputs": [],
   "source": [
    "\n",
    "# 順伝播\n",
    "def forward(network, x, activation =\"sigmoid\" ):\n",
    "    \n",
    "    W1, W2, W3 = network['W1'], network['W2'], network['W3']\n",
    "    b1, b2, b3  = network['b1'], network['b2'], network['b3']\n",
    "    \n",
    "    # インスタンス作成\n",
    "    functions = functions()\n",
    "    \n",
    "    if activation == \"sigmoid\":\n",
    "        # 第１層への入力\n",
    "        A1 =  np.dot(x, W1) + b1\n",
    "        # 第１層の出力（第１層の入力を活性化関数に通す）\n",
    "        Z1 = functions.sigmoid(A1)\n",
    "\n",
    "        # 第２層への入力\n",
    "        A2 =  np.dot(Z1, W2) + b2\n",
    "        # 第２層の出力（第２層の入力を活性化関数に通す）\n",
    "        Z2 = functions.sigmoid(A2) \n",
    "    \n",
    "    \n",
    "    elif activation == \"tanh\":\n",
    "        # 第１層への入力\n",
    "        A1 =  np.dot(x, W1) + b1\n",
    "        # 第１層の出力（第１層の入力を活性化関数に通す）\n",
    "        Z1 = np.tanh(A1)\n",
    "\n",
    "        # 第２層への入力\n",
    "        A2 =  np.dot(Z1, W2) + b2\n",
    "        # 第２層の出力（第２層の入力を活性化関数に通す）\n",
    "        Z2 = np.tanh(A2)  \n",
    "        \n",
    "    elif activation == \"relu\" :\n",
    "        # 第１層への入力\n",
    "        A1 =  np.dot(x, W1) + b1\n",
    "        # 第１層の出力（第１層の入力を活性化関数に通す）\n",
    "        Z1 = functions.relu(A1)\n",
    "\n",
    "        # 第２層への入力\n",
    "        A2 =  np.dot(Z1, W2) + b2\n",
    "        # 第２層の出力（第２層の入力を活性化関数に通す）\n",
    "        Z2 = functions.relu(A2)   \n",
    "    \n",
    "    # 第３層への入力\n",
    "    A3 =  np.dot(Z2, W3) + b3\n",
    "    # 出力層への出力\n",
    "    y_pred = functions.softmax(A3)\n",
    " \n",
    "    return Z1, Z2, y_pred"
   ]
  },
  {
   "cell_type": "code",
   "execution_count": null,
   "metadata": {},
   "outputs": [],
   "source": []
  },
  {
   "cell_type": "markdown",
   "metadata": {},
   "source": [
    "## 【問題3】交差エントロピー誤差の実装"
   ]
  },
  {
   "cell_type": "markdown",
   "metadata": {},
   "source": [
    "目的関数（損失関数）を作成します。\n",
    "\n",
    "多クラス分類の目的関数である交差エントロピー誤差 $L$ は次の数式です。\n",
    "\n",
    "$$\n",
    "L = - \\frac{1}{n_b}\\sum_{j}^{n_b}\\sum_{k}^{n_c}y_{jk} log(z_{3\\_jk})\n",
    "$$\n",
    "\n",
    "$y_{ij}$ : $j$ 番目のサンプルの $k$ 番目のクラスの正解ラベル（one-hot表現で0か1のスカラー）\n",
    "\n",
    "\n",
    "$z_{3ij}$ : $j$ 番目のサンプルの $k$ 番目のクラスの確率（スカラー）\n",
    "\n",
    "$n_b$ : バッチサイズ、batch_size\n",
    "\n",
    "$n_c$ : クラスの数、n_output（今回のMNISTでは10）\n",
    "\n",
    "\n",
    "サンプル1つあたりの誤差が求まります。"
   ]
  },
  {
   "cell_type": "code",
   "execution_count": 23,
   "metadata": {},
   "outputs": [],
   "source": [
    "# クロスエントロピー\n",
    "def cross_entropy_error(d, y):\n",
    "    if y.ndim == 1:\n",
    "        d = d.reshape(1, d.size)\n",
    "        y = y.reshape(1, y.size)\n",
    "\n",
    "    # 教師データがone-hot-vectorの場合、正解ラベルのインデックスに変換\n",
    "    if d.size == y.size:\n",
    "        d = d.argmax(axis=1)\n",
    "\n",
    "    batch_size = y.shape[0]\n",
    "    return -np.sum(np.log(y[np.arange(batch_size), d] + 1e-7)) / batch_size"
   ]
  },
  {
   "cell_type": "code",
   "execution_count": null,
   "metadata": {},
   "outputs": [],
   "source": []
  },
  {
   "cell_type": "markdown",
   "metadata": {},
   "source": [
    "## 【問題4】バックプロパゲーションの実装"
   ]
  },
  {
   "cell_type": "markdown",
   "metadata": {},
   "source": [
    "三層のニューラルネットワークのバックプロパゲーションを作成してください。確率的勾配降下法を行う部分です。\n",
    "\n",
    "\n",
    "数式を以下に示します。\n",
    "\n",
    "\n",
    "まず、i層目の重みとバイアスの更新式です。 W_i と B_i に対し、更新後の W_i^{\\prime} と B_i^{\\prime} は次の数式で求められます。\n",
    "\n",
    "$$\n",
    "W_i^{\\prime} = W_i - \\alpha \\frac{\\partial L}{\\partial W_i} \\\\\n",
    "B_i^{\\prime} = B_i - \\alpha \\frac{\\partial L}{\\partial B_i}\n",
    "$$\n",
    "\n",
    "$\\alpha$ : 学習率（層ごとに変えることも可能だが、基本的には全て同じとする）\n",
    "\n",
    "\n",
    "$\\frac{\\partial L}{\\partial W_i}$ : $W_i$ に関する損失 $L$ の勾配\n",
    "\n",
    "\n",
    "$\\frac{\\partial L}{\\partial B_i}$ : $B_i$ に関する損失 L の勾配\n",
    "\n",
    "\n",
    "＊この勾配はミニバッチのサンプル数分の合計または平均を考えます。ここでは合計を計算します。\n",
    "\n",
    "\n",
    "この更新方法はSprint3線形回帰やsprint4ロジスティック回帰における最急降下法と同様です。より効果的な更新方法が知られており、それは次のSprintで扱います。\n",
    "\n",
    "\n",
    "勾配 $\\frac{\\partial L}{\\partial W_i}$ や $\\frac{\\partial L}{\\partial B_i}$ を求めるために、バックプロパゲーションを行います。以下の数式です。ハイパボリックタンジェント関数を使用した例を載せました。シグモイド関数の場合の数式はその後ろにあります。\n",
    "\n",
    "\n",
    "「3層目」\n",
    "\n",
    "$$\n",
    "\\frac{\\partial L}{\\partial A_3} = Z_{3} - Y\\\\\n",
    "\\frac{\\partial L}{\\partial B_3} = \\sum_{j}^{n_b}\\frac{\\partial L}{\\partial A_{3\\_j}}\\\\\n",
    "\\frac{\\partial L}{\\partial W_3} = Z_{2}^{T}\\cdot \\frac{\\partial L}{\\partial A_3}\\\\\n",
    "\\frac{\\partial L}{\\partial Z_2} = \\frac{\\partial L}{\\partial A_3} \\cdot W_3^T\n",
    "$$\n",
    "\n",
    "$\\frac{\\partial L}{\\partial A_3}$ : $A_3 $に関する損失 $L$ の勾配 (batch_size, n_output)\n",
    "\n",
    "\n",
    "$\\frac{\\partial L}{\\partial A_{3_j}}$ : j番目のサンプルの $A_3$ に関する損失 $L$ の勾配 (n_nodes2,)\n",
    "\n",
    "\n",
    "$\\frac{\\partial L}{\\partial B_3}$ : $B_3$ に関する損失 $L$ の勾配 (n_output,)\n",
    "\n",
    "\n",
    "$\\frac{\\partial L}{\\partial W_3}$ : $W_3$ に関する損失 $L$ の勾配 (n_nodes2, n_output)\n",
    "\n",
    "\n",
    "$\\frac{\\partial L}{\\partial Z_2}$ : $Z_2$ に関する損失 $L$ の勾配 (batch_size, n_nodes2)\n",
    "\n",
    "\n",
    "$Z_{3}$ : ソフトマックス関数の出力 (batch_size, n_nodes2)\n",
    "\n",
    "\n",
    "$Y$ : 正解ラベル (batch_size, n_output)\n",
    "\n",
    "\n",
    "$Z_{2}$ : 2層目の活性化関数の出力 (batch_size, n_nodes2)\n",
    "\n",
    "\n",
    "$W_3$ : 3層目の重み (n_nodes2, n_output)\n",
    "\n",
    "\n",
    "「2層目」\n",
    "\n",
    "$$\n",
    "\\frac{\\partial L}{\\partial A_2} = \\frac{\\partial L}{\\partial Z_2} \\odot \\{1-tanh^2(A_{2})\\}\\\\\n",
    "\\frac{\\partial L}{\\partial B_2} = \\sum_{j}^{n_b}\\frac{\\partial L}{\\partial A_{2\\_j}}\\\\\n",
    "\\frac{\\partial L}{\\partial W_2} = Z_{1}^T \\cdot \\frac{\\partial L}{\\partial A_2}\\\\\n",
    "\\frac{\\partial L}{\\partial Z_1} = \\frac{\\partial L}{\\partial A_2} \\cdot W_2^T\n",
    "$$\n",
    "$\\frac{\\partial L}{\\partial A_2}$ : $A_2$ に関する損失 L の勾配 (batch_size, n_nodes2)\n",
    "\n",
    "\n",
    "$\\frac{\\partial L}{\\partial A_{2_j}}$ : j番目のサンプルのA_2 に関する損失 L の勾配 (n_nodes2,)\n",
    "\n",
    "\n",
    "$\\frac{\\partial L}{\\partial B_2}$ : $B_2$ に関する損失 L の勾配 (n_output,)\n",
    "\n",
    "\n",
    "$\\frac{\\partial L}{\\partial W_2}$ : $W_2$ に関する損失 L の勾配 (n_nodes1, n_nodes2)\n",
    "\n",
    "\n",
    "$\\frac{\\partial L}{\\partial Z_2}$ : $Z_2$ に関する損失 L の勾配 (batch_size, n_nodes2)\n",
    "\n",
    "\n",
    "$A_2$ : 2層目の出力 (batch_size, n_nodes2)\n",
    "\n",
    "\n",
    "$Z_{1}$ : 1層目の活性化関数の出力 (batch_size, n_nodes1)\n",
    "\n",
    "\n",
    "$W_2$ : 2層目の重み (n_nodes1, n_nodes2)\n",
    "\n",
    "\n",
    "「1層目」\n",
    "\n",
    "$$\n",
    "\\frac{\\partial L}{\\partial A_1} = \\frac{\\partial L}{\\partial Z_1} \\odot \\{1-tanh^2(A_{1})\\}\\\\\n",
    "\\frac{\\partial L}{\\partial B_1} = \\sum_{j}^{n_b}\\frac{\\partial L}{\\partial A_{1\\_j}}\\\\\n",
    "\\frac{\\partial L}{\\partial W_1} = X^T \\cdot \\frac{\\partial L}{\\partial A_1}\\\\\n",
    "$$\n",
    "$\\frac{\\partial L}{\\partial A_1}$ : $A_1$ に関する損失 $L$ の勾配 (batch_size, n_nodes1)\n",
    "\n",
    "\n",
    "$\\frac{\\partial L}{\\partial A_{1_j}}$ : j番目のサンプルの$A_1$ に関する損失 $L$ の勾配 (n_nodes1,)\n",
    "\n",
    "\n",
    "$\\frac{\\partial L}{\\partial B_1}$ : $B_1$ に関する損失 $L$ の勾配 (n_output,)\n",
    "\n",
    "\n",
    "$\\frac{\\partial L}{\\partial W_1}$ : $W_1$ に関する損失 $L$ の勾配 (n_features, n_nodes1)\n",
    "\n",
    "\n",
    "$\\frac{\\partial L}{\\partial Z_1}$ : $Z_1$ に関する損失 $L$ の勾配 (batch_size, n_nodes1)\n",
    "\n",
    "\n",
    "$A_1$ : 1層目の出力 (batch_size, n_nodes1)\n",
    "\n",
    "\n",
    "$X$ : 特徴量ベクトル (batch_size, n_features)\n",
    "\n",
    "\n",
    "$W_1$ : 1層目の重み (n_features, n_nodes1)\n",
    "\n",
    "\n",
    "\n",
    "《補足》\n",
    "\n",
    "活性化関数にシグモイド関数を使用した場合は、次のようになります。\n",
    "\n",
    "$$\n",
    "\\frac{\\partial L}{\\partial A_2} = \\frac{\\partial L}{\\partial Z_2} \\odot  \\{1-sigmoid(A_{2})\\}sigmoid(A_{2})\n",
    "\\\\\n",
    "\\frac{\\partial L}{\\partial A_1} = \\frac{\\partial L}{\\partial Z_1} \\odot  \\{1-sigmoid(A_{1})\\}sigmoid(A_{1})\n",
    "$$"
   ]
  },
  {
   "cell_type": "code",
   "execution_count": 24,
   "metadata": {},
   "outputs": [],
   "source": [
    "# 誤差逆伝播\n",
    "def backward(x, y, z1, z2, y_pred, activation =\"sigmoid\" ):\n",
    "    grad = {}\n",
    "    \n",
    "    W1, W2, W3 = network['W1'], network['W2'], network['W3']\n",
    "    b1, b2, b3 = network['b1'], network['b2'], network['b3']   \n",
    "    \n",
    "    # 出力層でのデルタ\n",
    "    delta3 = functions.d_softmax_with_loss(y, y_pred)\n",
    "    \n",
    "    if activation == \"sigmoid\":\n",
    "        # b3の勾配\n",
    "        grad['b3'] = np.sum(delta3, axis=0)\n",
    "\n",
    "        # W3の勾配\n",
    "        grad['W3'] = np.dot(z2.T, delta3)\n",
    "        \n",
    "        # 2層でのデルタ\n",
    "        delta2 = np.dot(delta3, W3.T) * functions.d_sigmoid(z2)\n",
    "        \n",
    "        # b2の勾配\n",
    "        grad['b2'] = np.sum(delta2, axis=0)\n",
    "\n",
    "        # W2の勾配\n",
    "        grad['W2'] = np.dot(z1.T, delta2)\n",
    "\n",
    "        # 1層でのデルタ\n",
    "        delta1 = np.dot(delta2, W2.T) * functions.d_sigmoid(z1)\n",
    "\n",
    "        # b1の勾配\n",
    "        grad['b1'] = np.sum(delta1, axis=0)\n",
    "\n",
    "        # W1の勾配\n",
    "        grad['W1'] = np.dot(x.T, delta1)\n",
    "        \n",
    "    elif activation == \"relu\":\n",
    "        # b2の勾配\n",
    "        grad['b2'] = np.sum(delta2, axis=0)\n",
    "\n",
    "        # W2の勾配\n",
    "        grad['W2'] = np.dot(z1.T, delta2)\n",
    "\n",
    "        # 1層でのデルタ\n",
    "        delta1 = np.dot(delta2, W2.T) * functions.d_relu(z1)\n",
    "\n",
    "        # b1の勾配\n",
    "        grad['b1'] = np.sum(delta1, axis=0)\n",
    "\n",
    "        # W1の勾配\n",
    "        grad['W1'] = np.dot(x.T, delta1)\n",
    "    \n",
    "\n",
    "    for key in ('W1', 'W2', 'W3', 'b1', 'b2', 'b3'):\n",
    "        network[key]  -= learning_rate * grad[key]\n",
    "    \n",
    "    return grad"
   ]
  },
  {
   "cell_type": "markdown",
   "metadata": {},
   "source": [
    "### ≪fitの実装≫"
   ]
  },
  {
   "cell_type": "code",
   "execution_count": 25,
   "metadata": {},
   "outputs": [],
   "source": [
    "def fit(self, X, y, X_val=None, y_val=None):\n",
    "    \"\"\"\n",
    "    ニューラルネットワーク分類器を学習する。\n",
    "\n",
    "    Parameters\n",
    "    ----------\n",
    "    X : 次の形のndarray, shape (n_samples, n_features)\n",
    "        訓練データの特徴量\n",
    "    y : 次の形のndarray, shape (n_samples, )\n",
    "        訓練データの正解値\n",
    "    X_val : 次の形のndarray, shape (n_samples, n_features)\n",
    "        検証データの特徴量\n",
    "    y_val : 次の形のndarray, shape (n_samples, )\n",
    "        検証データの正解値\n",
    "    \"\"\"\n",
    "\n",
    "    epoc = 10\n",
    "    # ▼▼▼　メイン処理\n",
    "    for i in range(epoc):\n",
    "        # ミニバッチ取得\n",
    "        get_mini_batch = GetMiniBatch(X, y_train, batch_size=20)\n",
    "        print(len(get_mini_batch)) # 2400\n",
    "        print(get_mini_batch[5]) # 5番目のミニバッチが取得できる\n",
    "        for mini_X_train, mini_y_train in get_mini_batch:\n",
    "            # このfor文内でミニバッチが使える\n",
    "\n",
    "            z1, z2, y_pred = forward(network, mini_X_train)\n",
    "            grad = backward(mini_X_train, mini_y_train, z1, z2, y_pred)\n",
    "\n",
    "    if self.verbose:\n",
    "        #verboseをTrueにした際は学習過程などを出力する\n",
    "        print()\n"
   ]
  },
  {
   "cell_type": "markdown",
   "metadata": {},
   "source": [
    "## 【問題5】推定\n",
    "推定を行うメソッドを作成してください。\n",
    "\n",
    "フォワードプロパゲーションによって出力された10個の確率の中で、最も高いものはどれかを判定します。"
   ]
  },
  {
   "cell_type": "code",
   "execution_count": null,
   "metadata": {},
   "outputs": [],
   "source": [
    "    def predict(self, X):\n",
    "        \"\"\"\n",
    "        ニューラルネットワーク分類器を使い推定する。\n",
    "\n",
    "        Parameters\n",
    "        ----------\n",
    "        X : 次の形のndarray, shape (n_samples, n_features)\n",
    "            サンプル\n",
    "\n",
    "        Returns\n",
    "        -------\n",
    "            次の形のndarray, shape (n_samples, 1)\n",
    "            推定結果\n",
    "        \"\"\"\n",
    "        z1, z2, y_pred = forward(network, X)\n",
    "        \n",
    "        return y_pred"
   ]
  },
  {
   "cell_type": "markdown",
   "metadata": {},
   "source": [
    "## 以上をクラスタ化する"
   ]
  },
  {
   "cell_type": "code",
   "execution_count": 556,
   "metadata": {},
   "outputs": [],
   "source": [
    "from sklearn.preprocessing import OneHotEncoder\n",
    "class ScratchSimpleNeuralNetrowkClassifier():\n",
    "    \"\"\"\n",
    "    シンプルな三層ニューラルネットワーク分類器\n",
    "\n",
    "    Parameters\n",
    "    ----------\n",
    "\n",
    "    Attributes\n",
    "    ----------\n",
    "    \"\"\"\n",
    "    def __init__(self, verbose = True, activation = \"sigmoid\", initialize = \"None\", optimaizer = \"SGD\", epoc = 50, lr = 0.001, sigma = 1):\n",
    "        self.verbose = verbose\n",
    "        \n",
    "        self.batch_size = 20 # バッチサイズ\n",
    "        self.n_features = 784 # 特徴量の数\n",
    "        self.n_nodes1 = 400 # 1層目のノード数\n",
    "        self.n_nodes2 = 200 # 2層目のノード数\n",
    "        self.n_output = 10 # 出力のクラス数（3層目のノード数）\n",
    "        \n",
    "        self.sigma = sigma # ガウス分布の標準偏差\n",
    "        \n",
    "        self.network = {} \n",
    "        if initialize == \"None\":\n",
    "            self.network['W1'] = self.sigma * np.random.randn(self.n_features, self.n_nodes1)\n",
    "            self.network['W2'] = self.sigma * np.random.randn(self.n_nodes1, self.n_nodes2)        \n",
    "            self.network['W3'] = self.sigma * np.random.randn(self.n_nodes2, self.n_output)  \n",
    "            \n",
    "        elif  initialize == \"Xavier\":\n",
    "            # Xavierの初期値\n",
    "            self.network['W1'] = np.random.rand(self.n_features, self.n_nodes1) / np.sqrt(self.n_features)\n",
    "            self.network['W2'] = np.random.rand(self.n_nodes1, self.n_nodes2) / np.sqrt(self.n_nodes1)\n",
    "            self.network['W3'] = np.random.rand(self.n_nodes2, self.n_output) / np.sqrt(self.n_nodes2)\n",
    "            \n",
    "        elif  initialize == \"He\":\n",
    "            # Xavierの初期値\n",
    "            self.network['W1'] = np.random.rand(self.n_features, self.n_nodes1) / np.sqrt(self.n_features) * np.sqrt(2)\n",
    "            self.network['W2'] = np.random.rand(self.n_nodes1, self.n_nodes2) / np.sqrt(self.n_nodes1) * np.sqrt(2)\n",
    "            self.network['W3'] = np.random.rand(self.n_nodes2, self.n_output) / np.sqrt(self.n_nodes2) * np.sqrt(2)\n",
    "            \n",
    "\n",
    "        \n",
    "        self.network['b1'] = np.zeros(self.n_nodes1)\n",
    "        self.network['b2'] = np.zeros(self.n_nodes2)\n",
    "        self.network['b3'] = np.zeros(self.n_output)\n",
    "        # self.learning_rate = 0.0002\n",
    "        self.learning_rate = lr\n",
    "        self.epoc = epoc\n",
    "        self.activation = activation\n",
    "        self.func = functions() \n",
    "        self.train_loss_list = []\n",
    "        self.test_loss_list = []\n",
    "        self.plot_interval = 100\n",
    "        self.optimaizer = optimaizer\n",
    "        self.h = {}\n",
    "        self.m = {}\n",
    "        self.v = {}        \n",
    "        \n",
    "        print(\"self.learning_rate = \", self.learning_rate)\n",
    "        print(\"self.activation = \", self.activation)\n",
    "        print(\"self.optimaizer = \", self.optimaizer)\n",
    "\n",
    "    def fit(self, X, y, X_val=None, y_val=None):\n",
    "        \"\"\"\n",
    "        ニューラルネットワーク分類器を学習する。\n",
    "\n",
    "        Parameters\n",
    "        ----------\n",
    "        X : 次の形のndarray, shape (n_samples, n_features)\n",
    "            訓練データの特徴量\n",
    "        y : 次の形のndarray, shape (n_samples, )\n",
    "            訓練データの正解値\n",
    "        X_val : 次の形のndarray, shape (n_samples, n_features)\n",
    "            検証データの特徴量\n",
    "        y_val : 次の形のndarray, shape (n_samples, )\n",
    "            検証データの正解値\n",
    "        \"\"\"\n",
    "\n",
    "        print(\"Learning Start!\")\n",
    "        \n",
    "        # one-hot-vectol化\n",
    "        enc = OneHotEncoder(handle_unknown='ignore', sparse=False)\n",
    "        y_train_one_hot = enc.fit_transform(y[:, np.newaxis])\n",
    "        \n",
    "        if y_val is not None:\n",
    "            y_test_one_hot = enc.transform(y_val[:, np.newaxis])\n",
    "        \n",
    "        # 学習回数のカウンタ\n",
    "        learning_cnt = 0\n",
    "        \n",
    "        for i in range(self.epoc):\n",
    "            # ミニバッチ取得\n",
    "            get_mini_batch = GetMiniBatch(X, y_train_one_hot, batch_size = self.batch_size)\n",
    "            \n",
    "            # すべてのミニバッチを抜ける前に直前の値をバックアップしておく(グラフ用に)\n",
    "            bk_mini_y_train = 0\n",
    "            bk_y_pred = 0\n",
    "            train_loss_batch = []\n",
    "            test_loss_batch = []\n",
    "            for mini_X_train, mini_y_train in get_mini_batch:\n",
    "                # このfor文内でミニバッチが使える\n",
    "                \n",
    "                z1, z2, y_pred = self._forward(self.network, mini_X_train, activation = self.activation)                \n",
    "                grad = self._backward(learning_cnt, mini_X_train, mini_y_train, z1, z2, y_pred, activation = self.activation)\n",
    "                \n",
    "                learning_cnt += 1\n",
    "                \n",
    "                # ミニバッチ内のロスを格納\n",
    "                train_loss_batch.append(self.func.cross_entropy_error(mini_y_train, y_pred))\n",
    "     \n",
    "\n",
    "            # loss計算\n",
    "            # ミニバッチ内のロスの平均を取る\n",
    "            train_loss_mean = np.array(train_loss_batch).mean()\n",
    "            self.train_loss_list.append(train_loss_mean)\n",
    "\n",
    "            # test_loss の初期化\n",
    "            test_loss = 0\n",
    "            if X_val is not None:\n",
    "                z1, z2, y_test_pred = self._forward(self.network, X_val)\n",
    "                test_loss = self.func.cross_entropy_error(y_test_one_hot, y_test_pred)\n",
    "                #self.test_loss_list.append(self.func.cross_entropy_error(y_test_one_hot, y_test_pred))\n",
    "                self.test_loss_list.append(test_loss)\n",
    "\n",
    "            if self.verbose:\n",
    "                #verboseをTrueにした際は学習過程などを出力する\n",
    "                print(\"Epoc Count = {}, train_loss = {}, test_loss = {}\".format(i+1, train_loss_mean, test_loss))\n",
    "                \n",
    "        print(\"Learning Finish!\")\n",
    "\n",
    "    def predict(self, X):\n",
    "        \"\"\"\n",
    "        ニューラルネットワーク分類器を使い推定する。\n",
    "\n",
    "        Parameters\n",
    "        ----------\n",
    "        X : 次の形のndarray, shape (n_samples, n_features)\n",
    "            サンプル\n",
    "\n",
    "        Returns\n",
    "        -------\n",
    "            次の形のndarray, shape (n_samples, 1)\n",
    "            推定結果\n",
    "        \"\"\"\n",
    "        z1, z2, y_pred = self._forward(self.network, X)\n",
    "\n",
    "        y_pred = np.argmax(y_pred, axis = 1)\n",
    "        return y_pred\n",
    "    \n",
    "    \n",
    "\n",
    "    # 順伝播\n",
    "    def _forward(self, network, x, activation =\"sigmoid\" ):\n",
    "\n",
    "        W1, W2, W3 = self.network['W1'], self.network['W2'], self.network['W3']\n",
    "        b1, b2, b3 = self.network['b1'], self.network['b2'], self.network['b3']\n",
    "\n",
    "        if activation == \"sigmoid\":\n",
    "            # 第１層への入力\n",
    "            A1 =  np.dot(x, W1) + b1\n",
    "            # 第１層の出力（第１層の入力を活性化関数に通す）\n",
    "            Z1 = self.func.sigmoid(A1)\n",
    "\n",
    "            # 第２層への入力\n",
    "            A2 =  np.dot(Z1, W2) + b2\n",
    "            # 第２層の出力（第２層の入力を活性化関数に通す）\n",
    "            Z2 = self.func.sigmoid(A2) \n",
    "\n",
    "        elif activation == \"tanh\":\n",
    "            # 第１層への入力\n",
    "            A1 =  np.dot(x, W1) + b1\n",
    "            # 第１層の出力（第１層の入力を活性化関数に通す）\n",
    "            Z1 = np.tanh(A1)\n",
    "\n",
    "            # 第２層への入力\n",
    "            A2 =  np.dot(Z1, W2) + b2\n",
    "            # 第２層の出力（第２層の入力を活性化関数に通す）\n",
    "            Z2 = np.tanh(A2)  \n",
    "\n",
    "        elif activation == \"relu\" :\n",
    "            # 第１層への入力\n",
    "            A1 =  np.dot(x, W1) + b1\n",
    "            # 第１層の出力（第１層の入力を活性化関数に通す）\n",
    "            Z1 = self.func.relu(A1)\n",
    "\n",
    "            # 第２層への入力\n",
    "            A2 =  np.dot(Z1, W2) + b2\n",
    "            # 第２層の出力（第２層の入力を活性化関数に通す）\n",
    "            Z2 = self.func.relu(A2)   \n",
    "\n",
    "        # 第３層への入力\n",
    "        A3 =  np.dot(Z2, W3) + b3\n",
    "        # 出力層への出力\n",
    "        y_pred = self.func.softmax(A3)\n",
    "\n",
    "        return Z1, Z2, y_pred\n",
    "\n",
    "    # 誤差逆伝播\n",
    "    def _backward(self, i, x, y, z1, z2, y_pred, activation =\"sigmoid\" ):\n",
    "        grad = {}\n",
    "\n",
    "        W1, W2, W3 = self.network['W1'], self.network['W2'], self.network['W3']\n",
    "        b1, b2, b3 = self.network['b1'], self.network['b2'], self.network['b3']   \n",
    "\n",
    "        # 出力層でのデルタ\n",
    "        delta3 = self.func.d_softmax_with_loss(y, y_pred)\n",
    "\n",
    "        if activation == \"sigmoid\":\n",
    "            # b3の勾配\n",
    "            grad['b3'] = np.sum(delta3, axis=0)\n",
    "\n",
    "            # W3の勾配\n",
    "            grad['W3'] = np.dot(z2.T, delta3)\n",
    "\n",
    "            # 2層でのデルタ\n",
    "            delta2 = np.dot(delta3, W3.T) * self.func.d_sigmoid(z2)\n",
    "\n",
    "            # b2の勾配\n",
    "            grad['b2'] = np.sum(delta2, axis=0)\n",
    "\n",
    "            # W2の勾配\n",
    "            grad['W2'] = np.dot(z1.T, delta2)\n",
    "\n",
    "            # 1層でのデルタ\n",
    "            delta1 = np.dot(delta2, W2.T) * self.func.d_sigmoid(z1)\n",
    "\n",
    "            # b1の勾配\n",
    "            grad['b1'] = np.sum(delta1, axis=0)\n",
    "\n",
    "            # W1の勾配\n",
    "            grad['W1'] = np.dot(x.T, delta1)\n",
    "\n",
    "            \n",
    "        elif activation == \"relu\":\n",
    "            # b3の勾配\n",
    "            grad['b3'] = np.sum(delta3, axis=0)\n",
    "\n",
    "            # W3の勾配\n",
    "            grad['W3'] = np.dot(z2.T, delta3)\n",
    "            \n",
    "            # 2層でのデルタ\n",
    "            delta2 = np.dot(delta3, W3.T) * self.func.d_relu(z2)\n",
    "            \n",
    "            # b2の勾配\n",
    "            grad['b2'] = np.sum(delta2, axis=0)\n",
    "\n",
    "            # W2の勾配\n",
    "            grad['W2'] = np.dot(z1.T, delta2)\n",
    "\n",
    "            # 1層でのデルタ\n",
    "            delta1 = np.dot(delta2, W2.T) * self.func.d_relu(z1)\n",
    "\n",
    "            # b1の勾配\n",
    "            grad['b1'] = np.sum(delta1, axis=0)\n",
    "\n",
    "            # W1の勾配\n",
    "            grad['W1'] = np.dot(x.T, delta1)\n",
    "\n",
    "     \n",
    "        # =========================================================\n",
    "         # パラメータに勾配適用\n",
    "        if self.optimaizer == \"AdaGrad\":\n",
    "        # AdaGrad =====================================================\n",
    "            # if i == 0:\n",
    "                # self.h = {}\n",
    "            for key in ('W1', 'W2', 'W3', 'b1', 'b2', 'b3'):\n",
    "                if i == 0:\n",
    "                    self.h[key] = np.zeros_like(self.network[key])\n",
    "                self.h[key] += np.square(grad[key])\n",
    "                self.network[key] -= self.learning_rate * grad[key] / (np.sqrt(self.h[key]) + 1e-7)  \n",
    "                \n",
    "        # =========================================================\n",
    "         # パラメータに勾配適用\n",
    "        elif self.optimaizer == \"Adam\":\n",
    "        # Adam ====================================================\n",
    "            # print(\"i = \", i)\n",
    "            beta1 = 0.9\n",
    "            beta2 = 0.999 \n",
    "            # if i == 0:\n",
    "                # self.m = {}\n",
    "                # self.v = {}\n",
    "            learning_rate_t  = self.learning_rate * np.sqrt(1.0 - beta2 ** (i + 1)) / (1.0 - beta1 ** (i + 1))    \n",
    "            for key in ('W1', 'W2', 'W3', 'b1', 'b2', 'b3'):\n",
    "                if i == 0:\n",
    "                    self.m[key] = np.zeros_like(self.network[key])\n",
    "                    self.v[key] = np.zeros_like(self.network[key])\n",
    "\n",
    "                self.m[key] += (1 - beta1) * (grad[key] - self.m[key])\n",
    "                self.v[key] += (1 - beta2) * (grad[key] ** 2 - self.v[key])            \n",
    "                self.network[key] -= learning_rate_t * self.m[key] / (np.sqrt(self.v[key]) + 1e-7)   \n",
    "                \n",
    "                \n",
    "        else:\n",
    "            # その他はすべてSGDにする\n",
    "            # SGD =====================================================\n",
    "            for key in ('W1', 'W2', 'W3', 'b1', 'b2', 'b3'):\n",
    "                self.network[key]  -= self.learning_rate * grad[key]                \n",
    "                \n",
    "                \n",
    "        return grad    "
   ]
  },
  {
   "cell_type": "markdown",
   "metadata": {},
   "source": [
    "## 【問題6】学習と推定\n",
    "MNISTのデータを学習・推定し、Accuracyを計算してください。"
   ]
  },
  {
   "cell_type": "markdown",
   "metadata": {},
   "source": [
    "#### ＜活性化関数：sigmoid、初期化：なし＞"
   ]
  },
  {
   "cell_type": "code",
   "execution_count": 597,
   "metadata": {},
   "outputs": [
    {
     "name": "stdout",
     "output_type": "stream",
     "text": [
      "self.learning_rate =  0.08\n",
      "self.activation =  sigmoid\n",
      "self.optimaizer =  SGD\n"
     ]
    }
   ],
   "source": [
    "ScratchMNIST = ScratchSimpleNeuralNetrowkClassifier(verbose = True, activation = \"sigmoid\", epoc = 50, lr = 0.08, sigma = 0.05)\n",
    "#lr = 0.08, sigma = 0.05, batch_size = 20, acc = 0.948\n",
    "#lr = 0.08, sigma = 0.08, batch_size = 20, acc = 0.9467\n",
    "#lr = 0.0005, sigma = 1, batch_size = 20, acc = 0.8476\t\n",
    "#lr = 0.005, sigma = 1, batch_size = 200, acc = 0.8476\n",
    "#lr = 0.007, sigma = 1, batch_size = 200, acc = 0.8593\n",
    "#lr = 0.01, sigma = 1, batch_size = 200, acc = 0.8716\n",
    "#lr = 0.02, sigma = 1, batch_size = 200, acc = 0.8892\n",
    "#lr = 0.05, sigma = 1, batch_size = 200, acc = 0.9016\n",
    "#lr = 0.08, sigma = 1, batch_size = 20, acc = 0.9372\n",
    "#lr = 0.1, sigma = 1, batch_size = 20, acc = 0.9341\n",
    "#lr = 0.08, sigma = 0.5, batch_size = 20, acc = 0.9413\n",
    "#lr = 0.08, sigma = 0.3, batch_size = 20, acc = 0.9435"
   ]
  },
  {
   "cell_type": "code",
   "execution_count": 598,
   "metadata": {},
   "outputs": [
    {
     "name": "stdout",
     "output_type": "stream",
     "text": [
      "Learning Start!\n",
      "Epoc Count = 1, train_loss = 0.9664356844077103, test_loss = 0.3887327481006878\n",
      "Epoc Count = 2, train_loss = 0.35538434146374714, test_loss = 0.3049289829817125\n",
      "Epoc Count = 3, train_loss = 0.3037470997340992, test_loss = 0.2750059782288746\n",
      "Epoc Count = 4, train_loss = 0.27806748615539606, test_loss = 0.2592065229207098\n",
      "Epoc Count = 5, train_loss = 0.26238672367554244, test_loss = 0.2500105932990798\n",
      "Epoc Count = 6, train_loss = 0.2516681823775483, test_loss = 0.24392896311687567\n",
      "Epoc Count = 7, train_loss = 0.24360126879888042, test_loss = 0.2394295004674826\n",
      "Epoc Count = 8, train_loss = 0.23712341334117848, test_loss = 0.2358230567467047\n",
      "Epoc Count = 9, train_loss = 0.23165759011683007, test_loss = 0.2327450084716109\n",
      "Epoc Count = 10, train_loss = 0.22684316135447052, test_loss = 0.22997332672141602\n",
      "Epoc Count = 11, train_loss = 0.22244786508447645, test_loss = 0.2273751818421688\n",
      "Epoc Count = 12, train_loss = 0.21833231460898375, test_loss = 0.22488486263702612\n",
      "Epoc Count = 13, train_loss = 0.21442007048093875, test_loss = 0.22247967494063406\n",
      "Epoc Count = 14, train_loss = 0.21067074725700918, test_loss = 0.2201590636566537\n",
      "Epoc Count = 15, train_loss = 0.20706411723111787, test_loss = 0.21793495304768812\n",
      "Epoc Count = 16, train_loss = 0.20359392782305144, test_loss = 0.21582976363778503\n",
      "Epoc Count = 17, train_loss = 0.20026255373169136, test_loss = 0.2138734522828356\n",
      "Epoc Count = 18, train_loss = 0.19706812602902246, test_loss = 0.21208531142126302\n",
      "Epoc Count = 19, train_loss = 0.19399799749139604, test_loss = 0.21044675229240734\n",
      "Epoc Count = 20, train_loss = 0.19103892490944363, test_loss = 0.20890014203963134\n",
      "Epoc Count = 21, train_loss = 0.18818203132153571, test_loss = 0.20737982584319525\n",
      "Epoc Count = 22, train_loss = 0.18541803871601178, test_loss = 0.20584965352342127\n",
      "Epoc Count = 23, train_loss = 0.18273547107069044, test_loss = 0.2043138349781112\n",
      "Epoc Count = 24, train_loss = 0.1801300832531508, test_loss = 0.20280205265321263\n",
      "Epoc Count = 25, train_loss = 0.17761027713529273, test_loss = 0.20133324191395618\n",
      "Epoc Count = 26, train_loss = 0.17518795366337037, test_loss = 0.19987889710778453\n",
      "Epoc Count = 27, train_loss = 0.17286401936072077, test_loss = 0.19838948820037136\n",
      "Epoc Count = 28, train_loss = 0.17061995037073627, test_loss = 0.1968599353093212\n",
      "Epoc Count = 29, train_loss = 0.16843117529541818, test_loss = 0.19532079138485522\n",
      "Epoc Count = 30, train_loss = 0.16627427458236524, test_loss = 0.19378624849726545\n",
      "Epoc Count = 31, train_loss = 0.16412384709704267, test_loss = 0.19225098148517678\n",
      "Epoc Count = 32, train_loss = 0.16197803479003095, test_loss = 0.19071976963500234\n",
      "Epoc Count = 33, train_loss = 0.15985685434445215, test_loss = 0.18923554663623773\n",
      "Epoc Count = 34, train_loss = 0.15775898269917182, test_loss = 0.18777189320599297\n",
      "Epoc Count = 35, train_loss = 0.15568404455520685, test_loss = 0.18638090540825042\n",
      "Epoc Count = 36, train_loss = 0.15365137508046955, test_loss = 0.1851939941810113\n",
      "Epoc Count = 37, train_loss = 0.15167399100229845, test_loss = 0.18414439676668318\n",
      "Epoc Count = 38, train_loss = 0.14975107685808273, test_loss = 0.18314215530143474\n",
      "Epoc Count = 39, train_loss = 0.14788688381040146, test_loss = 0.18214829266680674\n",
      "Epoc Count = 40, train_loss = 0.14609666051513992, test_loss = 0.181185625690613\n",
      "Epoc Count = 41, train_loss = 0.1443934602441377, test_loss = 0.18030504031390732\n",
      "Epoc Count = 42, train_loss = 0.14278412110427935, test_loss = 0.17954239845129083\n",
      "Epoc Count = 43, train_loss = 0.14126993844828062, test_loss = 0.17891297030809558\n",
      "Epoc Count = 44, train_loss = 0.13984557307547216, test_loss = 0.17842204636262166\n",
      "Epoc Count = 45, train_loss = 0.13850024419421308, test_loss = 0.17806816110290258\n",
      "Epoc Count = 46, train_loss = 0.13722113994607013, test_loss = 0.1778411339565945\n",
      "Epoc Count = 47, train_loss = 0.13599502792419638, test_loss = 0.17772311447356856\n",
      "Epoc Count = 48, train_loss = 0.134809177043584, test_loss = 0.17769349134495763\n",
      "Epoc Count = 49, train_loss = 0.13365268923842988, test_loss = 0.17773320081762417\n",
      "Epoc Count = 50, train_loss = 0.1325167304607045, test_loss = 0.1778259674047096\n",
      "Learning Finish!\n"
     ]
    }
   ],
   "source": [
    "ScratchMNIST.fit(X_train, y_train, X_test, y_test)"
   ]
  },
  {
   "cell_type": "code",
   "execution_count": 599,
   "metadata": {},
   "outputs": [
    {
     "data": {
      "text/plain": [
       "array([7, 2, 1, ..., 4, 5, 6], dtype=int64)"
      ]
     },
     "execution_count": 599,
     "metadata": {},
     "output_type": "execute_result"
    }
   ],
   "source": [
    "y_pred = ScratchMNIST.predict(X_test)\n",
    "y_pred"
   ]
  },
  {
   "cell_type": "code",
   "execution_count": 600,
   "metadata": {},
   "outputs": [
    {
     "data": {
      "text/html": [
       "<div>\n",
       "<style scoped>\n",
       "    .dataframe tbody tr th:only-of-type {\n",
       "        vertical-align: middle;\n",
       "    }\n",
       "\n",
       "    .dataframe tbody tr th {\n",
       "        vertical-align: top;\n",
       "    }\n",
       "\n",
       "    .dataframe thead th {\n",
       "        text-align: right;\n",
       "    }\n",
       "</style>\n",
       "<table border=\"1\" class=\"dataframe\">\n",
       "  <thead>\n",
       "    <tr style=\"text-align: right;\">\n",
       "      <th></th>\n",
       "      <th>0</th>\n",
       "      <th>1</th>\n",
       "      <th>2</th>\n",
       "      <th>3</th>\n",
       "      <th>4</th>\n",
       "      <th>5</th>\n",
       "      <th>6</th>\n",
       "      <th>7</th>\n",
       "      <th>8</th>\n",
       "      <th>9</th>\n",
       "      <th>accuracy</th>\n",
       "      <th>macro avg</th>\n",
       "      <th>weighted avg</th>\n",
       "    </tr>\n",
       "  </thead>\n",
       "  <tbody>\n",
       "    <tr>\n",
       "      <th>precision</th>\n",
       "      <td>0.968560</td>\n",
       "      <td>0.973137</td>\n",
       "      <td>0.961078</td>\n",
       "      <td>0.925388</td>\n",
       "      <td>0.962065</td>\n",
       "      <td>0.929213</td>\n",
       "      <td>0.920276</td>\n",
       "      <td>0.962302</td>\n",
       "      <td>0.952179</td>\n",
       "      <td>0.922701</td>\n",
       "      <td>0.948</td>\n",
       "      <td>0.947690</td>\n",
       "      <td>0.948308</td>\n",
       "    </tr>\n",
       "    <tr>\n",
       "      <th>recall</th>\n",
       "      <td>0.974490</td>\n",
       "      <td>0.989427</td>\n",
       "      <td>0.933140</td>\n",
       "      <td>0.945545</td>\n",
       "      <td>0.929735</td>\n",
       "      <td>0.927130</td>\n",
       "      <td>0.975992</td>\n",
       "      <td>0.943580</td>\n",
       "      <td>0.919918</td>\n",
       "      <td>0.934589</td>\n",
       "      <td>0.948</td>\n",
       "      <td>0.947354</td>\n",
       "      <td>0.948000</td>\n",
       "    </tr>\n",
       "    <tr>\n",
       "      <th>f1-score</th>\n",
       "      <td>0.971516</td>\n",
       "      <td>0.981215</td>\n",
       "      <td>0.946903</td>\n",
       "      <td>0.935357</td>\n",
       "      <td>0.945624</td>\n",
       "      <td>0.928171</td>\n",
       "      <td>0.947315</td>\n",
       "      <td>0.952849</td>\n",
       "      <td>0.935770</td>\n",
       "      <td>0.928607</td>\n",
       "      <td>0.948</td>\n",
       "      <td>0.947333</td>\n",
       "      <td>0.947967</td>\n",
       "    </tr>\n",
       "    <tr>\n",
       "      <th>support</th>\n",
       "      <td>980.000000</td>\n",
       "      <td>1135.000000</td>\n",
       "      <td>1032.000000</td>\n",
       "      <td>1010.000000</td>\n",
       "      <td>982.000000</td>\n",
       "      <td>892.000000</td>\n",
       "      <td>958.000000</td>\n",
       "      <td>1028.000000</td>\n",
       "      <td>974.000000</td>\n",
       "      <td>1009.000000</td>\n",
       "      <td>0.948</td>\n",
       "      <td>10000.000000</td>\n",
       "      <td>10000.000000</td>\n",
       "    </tr>\n",
       "  </tbody>\n",
       "</table>\n",
       "</div>"
      ],
      "text/plain": [
       "                    0            1            2            3           4  \\\n",
       "precision    0.968560     0.973137     0.961078     0.925388    0.962065   \n",
       "recall       0.974490     0.989427     0.933140     0.945545    0.929735   \n",
       "f1-score     0.971516     0.981215     0.946903     0.935357    0.945624   \n",
       "support    980.000000  1135.000000  1032.000000  1010.000000  982.000000   \n",
       "\n",
       "                    5           6            7           8            9  \\\n",
       "precision    0.929213    0.920276     0.962302    0.952179     0.922701   \n",
       "recall       0.927130    0.975992     0.943580    0.919918     0.934589   \n",
       "f1-score     0.928171    0.947315     0.952849    0.935770     0.928607   \n",
       "support    892.000000  958.000000  1028.000000  974.000000  1009.000000   \n",
       "\n",
       "           accuracy     macro avg  weighted avg  \n",
       "precision     0.948      0.947690      0.948308  \n",
       "recall        0.948      0.947354      0.948000  \n",
       "f1-score      0.948      0.947333      0.947967  \n",
       "support       0.948  10000.000000  10000.000000  "
      ]
     },
     "execution_count": 600,
     "metadata": {},
     "output_type": "execute_result"
    }
   ],
   "source": [
    "import pandas as pd\n",
    "from sklearn.metrics import classification_report\n",
    "cr = classification_report(y_test, y_pred, output_dict=True)\n",
    "\n",
    "# pandas.DataFrameへ変換\n",
    "df_cr = pd.DataFrame(cr)\n",
    "df_cr"
   ]
  },
  {
   "cell_type": "markdown",
   "metadata": {},
   "source": [
    "### accuracyは、94%となった。"
   ]
  },
  {
   "cell_type": "markdown",
   "metadata": {},
   "source": [
    "## 【問題7】学習曲線のプロット\n",
    "学習曲線をプロットしてください。\n",
    "\n",
    "ニューラルネットワークは過学習が発生しやすいため、学習曲線の確認が重要です。  \n",
    "訓練データと検証データに対するエポックごとの損失（交差エントロピー誤差）を記録できるようにする必要があります。"
   ]
  },
  {
   "cell_type": "code",
   "execution_count": 602,
   "metadata": {},
   "outputs": [
    {
     "data": {
      "text/plain": [
       "[<matplotlib.lines.Line2D at 0x1f07182ab08>]"
      ]
     },
     "execution_count": 602,
     "metadata": {},
     "output_type": "execute_result"
    },
    {
     "data": {
      "image/png": "[encoded data removed]",
      "text/plain": [
       "<Figure size 432x288 with 1 Axes>"
      ]
     },
     "metadata": {
      "needs_background": "light"
     },
     "output_type": "display_data"
    }
   ],
   "source": [
    "plt.plot(range(len(ScratchMNIST.train_loss_list)), ScratchMNIST.train_loss_list, color = \"blue\")\n",
    "plt.plot(range(len(ScratchMNIST.test_loss_list)), ScratchMNIST.test_loss_list, color = \"red\")"
   ]
  },
  {
   "cell_type": "markdown",
   "metadata": {},
   "source": [
    "### 50epoc回しての結果であるが、train_loss(青), test_loss(赤)共に下がっている。epoc数をもう少し回せば、もっと精度が上がるか、過学習になるかという事であるが、test_loss(赤)がほぼフラットになっているので、これ以上の精度向上は難しいのでは、と考える。おそらくepoc数を増やしても過学習になるであろう。"
   ]
  },
  {
   "cell_type": "code",
   "execution_count": null,
   "metadata": {},
   "outputs": [],
   "source": []
  },
  {
   "cell_type": "markdown",
   "metadata": {},
   "source": [
    "### （追加実験）活性化関数をreluでやってみた。"
   ]
  },
  {
   "cell_type": "code",
   "execution_count": 533,
   "metadata": {},
   "outputs": [
    {
     "name": "stdout",
     "output_type": "stream",
     "text": [
      "Learning Start!\n",
      "Epoc Count = 1, train_loss = 0.46752591523485826, test_loss = 1.6040274013086548\n",
      "Epoc Count = 2, train_loss = 0.18010201764536848, test_loss = 1.523632866228949\n",
      "Epoc Count = 3, train_loss = 0.1211646326291175, test_loss = 1.480922704648006\n",
      "Epoc Count = 4, train_loss = 0.08615868735372349, test_loss = 1.4140442078080648\n",
      "Epoc Count = 5, train_loss = 0.06129618796127272, test_loss = 1.3757211705444312\n",
      "Epoc Count = 6, train_loss = 0.043274213421944235, test_loss = 1.330008121467073\n",
      "Epoc Count = 7, train_loss = 0.031616955377278454, test_loss = 1.2685643466371272\n",
      "Epoc Count = 8, train_loss = 0.022916249381151624, test_loss = 1.252398012253185\n",
      "Epoc Count = 9, train_loss = 0.015878735994170053, test_loss = 1.2458432383901041\n",
      "Epoc Count = 10, train_loss = 0.011579201243501551, test_loss = 1.2051725317179423\n",
      "Epoc Count = 11, train_loss = 0.00911662188697429, test_loss = 1.170399069630001\n",
      "Epoc Count = 12, train_loss = 0.005781065640535576, test_loss = 1.1540904023084666\n",
      "Epoc Count = 13, train_loss = 0.003921285557335324, test_loss = 1.1592255389132409\n",
      "Epoc Count = 14, train_loss = 0.00258527669025056, test_loss = 1.1558966549398626\n",
      "Epoc Count = 15, train_loss = 0.0018193323807823858, test_loss = 1.1363786545281005\n",
      "Epoc Count = 16, train_loss = 0.00141705336015866, test_loss = 1.1282610586804163\n",
      "Epoc Count = 17, train_loss = 0.0011405030072430089, test_loss = 1.1229452982526842\n",
      "Epoc Count = 18, train_loss = 0.0009622098698142282, test_loss = 1.1176278015849925\n",
      "Epoc Count = 19, train_loss = 0.000837686440552247, test_loss = 1.1142298359827865\n",
      "Epoc Count = 20, train_loss = 0.0007375968134385121, test_loss = 1.1104232589681184\n",
      "Epoc Count = 21, train_loss = 0.0006535301924800659, test_loss = 1.1074123175213197\n",
      "Epoc Count = 22, train_loss = 0.000590660825918429, test_loss = 1.1028193676454339\n",
      "Epoc Count = 23, train_loss = 0.0005375291126530316, test_loss = 1.0996765958530081\n",
      "Epoc Count = 24, train_loss = 0.000491641147078644, test_loss = 1.096189586223929\n",
      "Epoc Count = 25, train_loss = 0.00045327783350048925, test_loss = 1.0931975737856903\n",
      "Epoc Count = 26, train_loss = 0.00042021265880414616, test_loss = 1.0910237307654427\n",
      "Epoc Count = 27, train_loss = 0.0003917886732167296, test_loss = 1.0876152895079374\n",
      "Epoc Count = 28, train_loss = 0.0003656449956241366, test_loss = 1.0848670625078043\n",
      "Epoc Count = 29, train_loss = 0.00034365564987947635, test_loss = 1.0808678116335513\n",
      "Epoc Count = 30, train_loss = 0.0003246036427488655, test_loss = 1.0791690000611973\n",
      "Epoc Count = 31, train_loss = 0.00030614022725083566, test_loss = 1.0763731424609326\n",
      "Epoc Count = 32, train_loss = 0.0002905096631982119, test_loss = 1.0741175409498238\n",
      "Epoc Count = 33, train_loss = 0.00027564006736994004, test_loss = 1.0722781695853627\n",
      "Epoc Count = 34, train_loss = 0.0002620831091288886, test_loss = 1.0691183399529387\n",
      "Epoc Count = 35, train_loss = 0.00025040511347826415, test_loss = 1.0674748932850013\n",
      "Epoc Count = 36, train_loss = 0.00023942289956759496, test_loss = 1.065677552250102\n",
      "Epoc Count = 37, train_loss = 0.0002289448149915362, test_loss = 1.063684118041722\n",
      "Epoc Count = 38, train_loss = 0.0002196757210449238, test_loss = 1.0617983734568741\n",
      "Epoc Count = 39, train_loss = 0.00021123372707888263, test_loss = 1.0598563060016823\n",
      "Epoc Count = 40, train_loss = 0.0002030997051364539, test_loss = 1.0570008102422246\n",
      "Epoc Count = 41, train_loss = 0.00019624172228842514, test_loss = 1.056314312778915\n",
      "Epoc Count = 42, train_loss = 0.00018872872328208279, test_loss = 1.0549002260077178\n",
      "Epoc Count = 43, train_loss = 0.0001826620719437108, test_loss = 1.053133796399183\n",
      "Epoc Count = 44, train_loss = 0.00017648242182407247, test_loss = 1.0513856338588372\n",
      "Epoc Count = 45, train_loss = 0.00017057123802145422, test_loss = 1.0493055092932744\n",
      "Epoc Count = 46, train_loss = 0.0001657227687511299, test_loss = 1.0483724881418441\n",
      "Epoc Count = 47, train_loss = 0.00016048819267076752, test_loss = 1.0469977698717075\n",
      "Epoc Count = 48, train_loss = 0.00015575216838732646, test_loss = 1.0460709331599483\n",
      "Epoc Count = 49, train_loss = 0.00015136139949161506, test_loss = 1.0444759722273838\n",
      "Epoc Count = 50, train_loss = 0.00014685064632544582, test_loss = 1.04323380074101\n",
      "Learning Finish!\n"
     ]
    }
   ],
   "source": [
    "ScratchMNIST1 = ScratchSimpleNeuralNetrowkClassifier(verbose = True, activation = \"relu\", epoc = 50, lr = 0.08, sigma = 0.3)\n",
    "ScratchMNIST1.fit(X_train, y_train, X_test, y_test)"
   ]
  },
  {
   "cell_type": "code",
   "execution_count": 534,
   "metadata": {},
   "outputs": [
    {
     "data": {
      "text/plain": [
       "array([7, 5, 5, ..., 8, 5, 6], dtype=int64)"
      ]
     },
     "execution_count": 534,
     "metadata": {},
     "output_type": "execute_result"
    }
   ],
   "source": [
    "y_pred1 = ScratchMNIST1.predict(X_test)\n",
    "y_pred1"
   ]
  },
  {
   "cell_type": "code",
   "execution_count": 535,
   "metadata": {},
   "outputs": [
    {
     "data": {
      "text/html": [
       "<div>\n",
       "<style scoped>\n",
       "    .dataframe tbody tr th:only-of-type {\n",
       "        vertical-align: middle;\n",
       "    }\n",
       "\n",
       "    .dataframe tbody tr th {\n",
       "        vertical-align: top;\n",
       "    }\n",
       "\n",
       "    .dataframe thead th {\n",
       "        text-align: right;\n",
       "    }\n",
       "</style>\n",
       "<table border=\"1\" class=\"dataframe\">\n",
       "  <thead>\n",
       "    <tr style=\"text-align: right;\">\n",
       "      <th></th>\n",
       "      <th>0</th>\n",
       "      <th>1</th>\n",
       "      <th>2</th>\n",
       "      <th>3</th>\n",
       "      <th>4</th>\n",
       "      <th>5</th>\n",
       "      <th>6</th>\n",
       "      <th>7</th>\n",
       "      <th>8</th>\n",
       "      <th>9</th>\n",
       "      <th>accuracy</th>\n",
       "      <th>macro avg</th>\n",
       "      <th>weighted avg</th>\n",
       "    </tr>\n",
       "  </thead>\n",
       "  <tbody>\n",
       "    <tr>\n",
       "      <th>precision</th>\n",
       "      <td>0.979513</td>\n",
       "      <td>0.986014</td>\n",
       "      <td>0.852941</td>\n",
       "      <td>0.918283</td>\n",
       "      <td>0.928571</td>\n",
       "      <td>0.342563</td>\n",
       "      <td>0.986381</td>\n",
       "      <td>0.940092</td>\n",
       "      <td>0.457983</td>\n",
       "      <td>0.901685</td>\n",
       "      <td>0.6919</td>\n",
       "      <td>0.829403</td>\n",
       "      <td>0.837142</td>\n",
       "    </tr>\n",
       "    <tr>\n",
       "      <th>recall</th>\n",
       "      <td>0.780612</td>\n",
       "      <td>0.372687</td>\n",
       "      <td>0.730620</td>\n",
       "      <td>0.656436</td>\n",
       "      <td>0.622200</td>\n",
       "      <td>0.970852</td>\n",
       "      <td>0.529228</td>\n",
       "      <td>0.793774</td>\n",
       "      <td>0.895277</td>\n",
       "      <td>0.636274</td>\n",
       "      <td>0.6919</td>\n",
       "      <td>0.698796</td>\n",
       "      <td>0.691900</td>\n",
       "    </tr>\n",
       "    <tr>\n",
       "      <th>f1-score</th>\n",
       "      <td>0.868825</td>\n",
       "      <td>0.540921</td>\n",
       "      <td>0.787056</td>\n",
       "      <td>0.765589</td>\n",
       "      <td>0.745122</td>\n",
       "      <td>0.506433</td>\n",
       "      <td>0.688859</td>\n",
       "      <td>0.860759</td>\n",
       "      <td>0.605976</td>\n",
       "      <td>0.746078</td>\n",
       "      <td>0.6919</td>\n",
       "      <td>0.711562</td>\n",
       "      <td>0.712213</td>\n",
       "    </tr>\n",
       "    <tr>\n",
       "      <th>support</th>\n",
       "      <td>980.000000</td>\n",
       "      <td>1135.000000</td>\n",
       "      <td>1032.000000</td>\n",
       "      <td>1010.000000</td>\n",
       "      <td>982.000000</td>\n",
       "      <td>892.000000</td>\n",
       "      <td>958.000000</td>\n",
       "      <td>1028.000000</td>\n",
       "      <td>974.000000</td>\n",
       "      <td>1009.000000</td>\n",
       "      <td>0.6919</td>\n",
       "      <td>10000.000000</td>\n",
       "      <td>10000.000000</td>\n",
       "    </tr>\n",
       "  </tbody>\n",
       "</table>\n",
       "</div>"
      ],
      "text/plain": [
       "                    0            1            2            3           4  \\\n",
       "precision    0.979513     0.986014     0.852941     0.918283    0.928571   \n",
       "recall       0.780612     0.372687     0.730620     0.656436    0.622200   \n",
       "f1-score     0.868825     0.540921     0.787056     0.765589    0.745122   \n",
       "support    980.000000  1135.000000  1032.000000  1010.000000  982.000000   \n",
       "\n",
       "                    5           6            7           8            9  \\\n",
       "precision    0.342563    0.986381     0.940092    0.457983     0.901685   \n",
       "recall       0.970852    0.529228     0.793774    0.895277     0.636274   \n",
       "f1-score     0.506433    0.688859     0.860759    0.605976     0.746078   \n",
       "support    892.000000  958.000000  1028.000000  974.000000  1009.000000   \n",
       "\n",
       "           accuracy     macro avg  weighted avg  \n",
       "precision    0.6919      0.829403      0.837142  \n",
       "recall       0.6919      0.698796      0.691900  \n",
       "f1-score     0.6919      0.711562      0.712213  \n",
       "support      0.6919  10000.000000  10000.000000  "
      ]
     },
     "execution_count": 535,
     "metadata": {},
     "output_type": "execute_result"
    }
   ],
   "source": [
    "import pandas as pd\n",
    "from sklearn.metrics import classification_report\n",
    "cr = classification_report(y_test, y_pred1, output_dict=True)\n",
    "\n",
    "# pandas.DataFrameへ変換\n",
    "df_cr = pd.DataFrame(cr)\n",
    "df_cr"
   ]
  },
  {
   "cell_type": "markdown",
   "metadata": {},
   "source": [
    "### reluで69％に下がっちゃった。(T。T)"
   ]
  },
  {
   "cell_type": "code",
   "execution_count": 536,
   "metadata": {},
   "outputs": [
    {
     "data": {
      "text/plain": [
       "[<matplotlib.lines.Line2D at 0x1f051f099c8>]"
      ]
     },
     "execution_count": 536,
     "metadata": {},
     "output_type": "execute_result"
    },
    {
     "data": {
      "image/png": "[encoded data removed]",
      "text/plain": [
       "<Figure size 432x288 with 1 Axes>"
      ]
     },
     "metadata": {
      "needs_background": "light"
     },
     "output_type": "display_data"
    }
   ],
   "source": [
    "# plt.ylim([0,2])\n",
    "plt.plot(range(len(ScratchMNIST1.train_loss_list)), ScratchMNIST1.train_loss_list, color = \"blue\")\n",
    "plt.plot(range(len(ScratchMNIST1.test_loss_list)), ScratchMNIST1.test_loss_list, color = \"red\")"
   ]
  },
  {
   "cell_type": "markdown",
   "metadata": {},
   "source": [
    "### ムムッ　test_lossの下がりが遅いぞ？"
   ]
  },
  {
   "cell_type": "markdown",
   "metadata": {},
   "source": [
    "思いのほか、reluのtest精度が振るわなかったが、３層程度では勾配消失を起こしにくいので、sigmoidでも十分戦えるといったろころか・・・。"
   ]
  },
  {
   "cell_type": "markdown",
   "metadata": {},
   "source": [
    "#### （追加実験）＜最強コンビ？　活性化関数：relu、初期化：He, 学習率最適化：Adam　では＞"
   ]
  },
  {
   "cell_type": "code",
   "execution_count": 603,
   "metadata": {},
   "outputs": [
    {
     "name": "stdout",
     "output_type": "stream",
     "text": [
      "self.learning_rate =  0.08\n",
      "self.activation =  relu\n",
      "self.optimaizer =  Adam\n"
     ]
    }
   ],
   "source": [
    "ScratchMNIST2 = ScratchSimpleNeuralNetrowkClassifier(verbose = True, activation = \"relu\", initialize = \"He\", optimaizer = \"Adam\", epoc = 50, lr = 0.08)"
   ]
  },
  {
   "cell_type": "code",
   "execution_count": 604,
   "metadata": {},
   "outputs": [
    {
     "name": "stdout",
     "output_type": "stream",
     "text": [
      "Learning Start!\n",
      "Epoc Count = 1, train_loss = 2.3190783985838146, test_loss = 6.392033413357314\n",
      "Epoc Count = 2, train_loss = 2.314287142327519, test_loss = 6.392033856210775\n",
      "Epoc Count = 3, train_loss = 2.314291874347474, test_loss = 6.392033965854987\n",
      "Epoc Count = 4, train_loss = 2.3142922534995343, test_loss = 6.392033981720807\n",
      "Epoc Count = 5, train_loss = 2.314292285276471, test_loss = 6.392033983666154\n",
      "Epoc Count = 6, train_loss = 2.3142922879491055, test_loss = 6.392033983885582\n",
      "Epoc Count = 7, train_loss = 2.3142922881738635, test_loss = 6.39203398390913\n",
      "Epoc Count = 8, train_loss = 2.314292288192756, test_loss = 6.392033983911574\n",
      "Epoc Count = 9, train_loss = 2.314292288194343, test_loss = 6.392033983911821\n",
      "Epoc Count = 10, train_loss = 2.3142922881944763, test_loss = 6.392033983911847\n",
      "Epoc Count = 11, train_loss = 2.3142922881944874, test_loss = 6.3920339839118485\n",
      "Epoc Count = 12, train_loss = 2.3142922881944887, test_loss = 6.3920339839118485\n",
      "Epoc Count = 13, train_loss = 2.3142922881944887, test_loss = 6.3920339839118485\n",
      "Epoc Count = 14, train_loss = 2.3142922881944887, test_loss = 6.3920339839118485\n",
      "Epoc Count = 15, train_loss = 2.3142922881944887, test_loss = 6.3920339839118485\n",
      "Epoc Count = 16, train_loss = 2.3142922881944887, test_loss = 6.3920339839118485\n",
      "Epoc Count = 17, train_loss = 2.3142922881944887, test_loss = 6.3920339839118485\n",
      "Epoc Count = 18, train_loss = 2.3142922881944887, test_loss = 6.3920339839118485\n",
      "Epoc Count = 19, train_loss = 2.3142922881944887, test_loss = 6.3920339839118485\n",
      "Epoc Count = 20, train_loss = 2.3142922881944887, test_loss = 6.3920339839118485\n",
      "Epoc Count = 21, train_loss = 2.3142922881944887, test_loss = 6.3920339839118485\n",
      "Epoc Count = 22, train_loss = 2.3142922881944887, test_loss = 6.3920339839118485\n",
      "Epoc Count = 23, train_loss = 2.3142922881944887, test_loss = 6.3920339839118485\n",
      "Epoc Count = 24, train_loss = 2.3142922881944887, test_loss = 6.3920339839118485\n",
      "Epoc Count = 25, train_loss = 2.3142922881944887, test_loss = 6.3920339839118485\n",
      "Epoc Count = 26, train_loss = 2.3142922881944887, test_loss = 6.3920339839118485\n",
      "Epoc Count = 27, train_loss = 2.3142922881944887, test_loss = 6.3920339839118485\n",
      "Epoc Count = 28, train_loss = 2.3142922881944887, test_loss = 6.3920339839118485\n",
      "Epoc Count = 29, train_loss = 2.3142922881944887, test_loss = 6.3920339839118485\n",
      "Epoc Count = 30, train_loss = 2.3142922881944887, test_loss = 6.3920339839118485\n",
      "Epoc Count = 31, train_loss = 2.3142922881944887, test_loss = 6.3920339839118485\n",
      "Epoc Count = 32, train_loss = 2.3142922881944887, test_loss = 6.3920339839118485\n",
      "Epoc Count = 33, train_loss = 2.3142922881944887, test_loss = 6.3920339839118485\n",
      "Epoc Count = 34, train_loss = 2.3142922881944887, test_loss = 6.3920339839118485\n",
      "Epoc Count = 35, train_loss = 2.3142922881944887, test_loss = 6.3920339839118485\n",
      "Epoc Count = 36, train_loss = 2.3142922881944887, test_loss = 6.3920339839118485\n",
      "Epoc Count = 37, train_loss = 2.3142922881944887, test_loss = 6.3920339839118485\n",
      "Epoc Count = 38, train_loss = 2.3142922881944887, test_loss = 6.3920339839118485\n",
      "Epoc Count = 39, train_loss = 2.3142922881944887, test_loss = 6.3920339839118485\n",
      "Epoc Count = 40, train_loss = 2.3142922881944887, test_loss = 6.3920339839118485\n",
      "Epoc Count = 41, train_loss = 2.3142922881944887, test_loss = 6.3920339839118485\n",
      "Epoc Count = 42, train_loss = 2.3142922881944887, test_loss = 6.3920339839118485\n",
      "Epoc Count = 43, train_loss = 2.3142922881944887, test_loss = 6.3920339839118485\n",
      "Epoc Count = 44, train_loss = 2.3142922881944887, test_loss = 6.3920339839118485\n",
      "Epoc Count = 45, train_loss = 2.3142922881944887, test_loss = 6.3920339839118485\n",
      "Epoc Count = 46, train_loss = 2.3142922881944887, test_loss = 6.3920339839118485\n",
      "Epoc Count = 47, train_loss = 2.3142922881944887, test_loss = 6.3920339839118485\n",
      "Epoc Count = 48, train_loss = 2.3142922881944887, test_loss = 6.3920339839118485\n",
      "Epoc Count = 49, train_loss = 2.3142922881944887, test_loss = 6.3920339839118485\n",
      "Epoc Count = 50, train_loss = 2.3142922881944887, test_loss = 6.3920339839118485\n",
      "Learning Finish!\n"
     ]
    }
   ],
   "source": [
    "ScratchMNIST2.fit(X_train, y_train, X_test, y_test)"
   ]
  },
  {
   "cell_type": "code",
   "execution_count": 605,
   "metadata": {},
   "outputs": [
    {
     "data": {
      "text/plain": [
       "array([7, 7, 7, ..., 7, 7, 7], dtype=int64)"
      ]
     },
     "execution_count": 605,
     "metadata": {},
     "output_type": "execute_result"
    }
   ],
   "source": [
    "y_pred2 = ScratchMNIST2.predict(X_test)\n",
    "y_pred2"
   ]
  },
  {
   "cell_type": "code",
   "execution_count": 606,
   "metadata": {},
   "outputs": [
    {
     "name": "stderr",
     "output_type": "stream",
     "text": [
      "C:\\Users\\Takatoshi\\anaconda3\\lib\\site-packages\\sklearn\\metrics\\_classification.py:1272: UndefinedMetricWarning: Precision and F-score are ill-defined and being set to 0.0 in labels with no predicted samples. Use `zero_division` parameter to control this behavior.\n",
      "  _warn_prf(average, modifier, msg_start, len(result))\n"
     ]
    },
    {
     "data": {
      "text/html": [
       "<div>\n",
       "<style scoped>\n",
       "    .dataframe tbody tr th:only-of-type {\n",
       "        vertical-align: middle;\n",
       "    }\n",
       "\n",
       "    .dataframe tbody tr th {\n",
       "        vertical-align: top;\n",
       "    }\n",
       "\n",
       "    .dataframe thead th {\n",
       "        text-align: right;\n",
       "    }\n",
       "</style>\n",
       "<table border=\"1\" class=\"dataframe\">\n",
       "  <thead>\n",
       "    <tr style=\"text-align: right;\">\n",
       "      <th></th>\n",
       "      <th>0</th>\n",
       "      <th>1</th>\n",
       "      <th>2</th>\n",
       "      <th>3</th>\n",
       "      <th>4</th>\n",
       "      <th>5</th>\n",
       "      <th>6</th>\n",
       "      <th>7</th>\n",
       "      <th>8</th>\n",
       "      <th>9</th>\n",
       "      <th>accuracy</th>\n",
       "      <th>macro avg</th>\n",
       "      <th>weighted avg</th>\n",
       "    </tr>\n",
       "  </thead>\n",
       "  <tbody>\n",
       "    <tr>\n",
       "      <th>precision</th>\n",
       "      <td>0.0</td>\n",
       "      <td>0.0</td>\n",
       "      <td>0.0</td>\n",
       "      <td>0.0</td>\n",
       "      <td>0.0</td>\n",
       "      <td>0.0</td>\n",
       "      <td>0.0</td>\n",
       "      <td>0.102800</td>\n",
       "      <td>0.0</td>\n",
       "      <td>0.0</td>\n",
       "      <td>0.1028</td>\n",
       "      <td>0.010280</td>\n",
       "      <td>0.010568</td>\n",
       "    </tr>\n",
       "    <tr>\n",
       "      <th>recall</th>\n",
       "      <td>0.0</td>\n",
       "      <td>0.0</td>\n",
       "      <td>0.0</td>\n",
       "      <td>0.0</td>\n",
       "      <td>0.0</td>\n",
       "      <td>0.0</td>\n",
       "      <td>0.0</td>\n",
       "      <td>1.000000</td>\n",
       "      <td>0.0</td>\n",
       "      <td>0.0</td>\n",
       "      <td>0.1028</td>\n",
       "      <td>0.100000</td>\n",
       "      <td>0.102800</td>\n",
       "    </tr>\n",
       "    <tr>\n",
       "      <th>f1-score</th>\n",
       "      <td>0.0</td>\n",
       "      <td>0.0</td>\n",
       "      <td>0.0</td>\n",
       "      <td>0.0</td>\n",
       "      <td>0.0</td>\n",
       "      <td>0.0</td>\n",
       "      <td>0.0</td>\n",
       "      <td>0.186435</td>\n",
       "      <td>0.0</td>\n",
       "      <td>0.0</td>\n",
       "      <td>0.1028</td>\n",
       "      <td>0.018643</td>\n",
       "      <td>0.019165</td>\n",
       "    </tr>\n",
       "    <tr>\n",
       "      <th>support</th>\n",
       "      <td>980.0</td>\n",
       "      <td>1135.0</td>\n",
       "      <td>1032.0</td>\n",
       "      <td>1010.0</td>\n",
       "      <td>982.0</td>\n",
       "      <td>892.0</td>\n",
       "      <td>958.0</td>\n",
       "      <td>1028.000000</td>\n",
       "      <td>974.0</td>\n",
       "      <td>1009.0</td>\n",
       "      <td>0.1028</td>\n",
       "      <td>10000.000000</td>\n",
       "      <td>10000.000000</td>\n",
       "    </tr>\n",
       "  </tbody>\n",
       "</table>\n",
       "</div>"
      ],
      "text/plain": [
       "               0       1       2       3      4      5      6            7  \\\n",
       "precision    0.0     0.0     0.0     0.0    0.0    0.0    0.0     0.102800   \n",
       "recall       0.0     0.0     0.0     0.0    0.0    0.0    0.0     1.000000   \n",
       "f1-score     0.0     0.0     0.0     0.0    0.0    0.0    0.0     0.186435   \n",
       "support    980.0  1135.0  1032.0  1010.0  982.0  892.0  958.0  1028.000000   \n",
       "\n",
       "               8       9  accuracy     macro avg  weighted avg  \n",
       "precision    0.0     0.0    0.1028      0.010280      0.010568  \n",
       "recall       0.0     0.0    0.1028      0.100000      0.102800  \n",
       "f1-score     0.0     0.0    0.1028      0.018643      0.019165  \n",
       "support    974.0  1009.0    0.1028  10000.000000  10000.000000  "
      ]
     },
     "execution_count": 606,
     "metadata": {},
     "output_type": "execute_result"
    }
   ],
   "source": [
    "cr = classification_report(y_test, y_pred2, output_dict=True)\n",
    "\n",
    "# pandas.DataFrameへ変換\n",
    "df_cr = pd.DataFrame(cr)\n",
    "df_cr"
   ]
  },
  {
   "cell_type": "code",
   "execution_count": 608,
   "metadata": {},
   "outputs": [
    {
     "data": {
      "text/plain": [
       "[<matplotlib.lines.Line2D at 0x1f072ff20c8>]"
      ]
     },
     "execution_count": 608,
     "metadata": {},
     "output_type": "execute_result"
    },
    {
     "data": {
      "image/png": "[encoded data removed]",
      "text/plain": [
       "<Figure size 432x288 with 1 Axes>"
      ]
     },
     "metadata": {
      "needs_background": "light"
     },
     "output_type": "display_data"
    }
   ],
   "source": [
    "# plt.ylim([0,10])\n",
    "plt.plot(range(len(ScratchMNIST2.train_loss_list)), ScratchMNIST2.train_loss_list, color = \"blue\")\n",
    "plt.plot(range(len(ScratchMNIST2.test_loss_list)), ScratchMNIST2.test_loss_list, color = \"red\")"
   ]
  },
  {
   "cell_type": "markdown",
   "metadata": {},
   "source": [
    "#### 学習が進んでいない可能性がある。 これじゃ使い物にならないな。"
   ]
  },
  {
   "cell_type": "markdown",
   "metadata": {},
   "source": [
    "### (追加実験)Xavierの初期値ではどうなるか"
   ]
  },
  {
   "cell_type": "code",
   "execution_count": 420,
   "metadata": {},
   "outputs": [],
   "source": [
    "ScratchMNIST3 = ScratchSimpleNeuralNetrowkClassifier(verbose = True, activation = \"relu\", initialize = \"Xavier\", optimaizer = \"Adam\", epoc = 50, lr = 0.005)"
   ]
  },
  {
   "cell_type": "code",
   "execution_count": 611,
   "metadata": {},
   "outputs": [
    {
     "name": "stdout",
     "output_type": "stream",
     "text": [
      "self.learning_rate =  0.08\n",
      "self.activation =  sigmoid\n",
      "self.optimaizer =  Adam\n"
     ]
    }
   ],
   "source": [
    "ScratchMNIST3 = ScratchSimpleNeuralNetrowkClassifier(verbose = True, activation = \"sigmoid\", initialize = \"Xavier\", optimaizer = \"Adam\", epoc = 50, lr = 0.08)"
   ]
  },
  {
   "cell_type": "code",
   "execution_count": 612,
   "metadata": {},
   "outputs": [
    {
     "name": "stdout",
     "output_type": "stream",
     "text": [
      "Learning Start!\n"
     ]
    },
    {
     "name": "stderr",
     "output_type": "stream",
     "text": [
      "C:\\Users\\Takatoshi\\anaconda3\\lib\\site-packages\\ipykernel_launcher.py:5: RuntimeWarning: overflow encountered in exp\n",
      "  \"\"\"\n"
     ]
    },
    {
     "name": "stdout",
     "output_type": "stream",
     "text": [
      "Epoc Count = 1, train_loss = 2.0977879353532014, test_loss = 1.6610578430737628\n",
      "Epoc Count = 2, train_loss = 1.7568126080561683, test_loss = 1.5955741172197697\n",
      "Epoc Count = 3, train_loss = 1.803771256031958, test_loss = 1.85401327255599\n",
      "Epoc Count = 4, train_loss = 1.8307641055741366, test_loss = 1.7081652720270464\n",
      "Epoc Count = 5, train_loss = 1.600862348720639, test_loss = 1.4331009865259154\n",
      "Epoc Count = 6, train_loss = 1.4667728193736607, test_loss = 1.473949582082927\n",
      "Epoc Count = 7, train_loss = 1.468575412815746, test_loss = 1.3967929310088347\n",
      "Epoc Count = 8, train_loss = 1.4501924342258956, test_loss = 1.3581388496481697\n",
      "Epoc Count = 9, train_loss = 1.463825637552021, test_loss = 1.4673710198987355\n",
      "Epoc Count = 10, train_loss = 1.4549144143653312, test_loss = 1.4922576650069532\n",
      "Epoc Count = 11, train_loss = 1.4675696678879504, test_loss = 1.5820052511085874\n",
      "Epoc Count = 12, train_loss = 1.586345810496139, test_loss = 1.5571270260514427\n",
      "Epoc Count = 13, train_loss = 1.7172391808079517, test_loss = 1.7217239275566092\n",
      "Epoc Count = 14, train_loss = 1.7034348605626857, test_loss = 1.6434436484151884\n",
      "Epoc Count = 15, train_loss = 1.597036048999027, test_loss = 1.4321445047573051\n",
      "Epoc Count = 16, train_loss = 1.4729269994038328, test_loss = 1.317013424474911\n",
      "Epoc Count = 17, train_loss = 1.4089891033058526, test_loss = 1.3107907238306606\n",
      "Epoc Count = 18, train_loss = 1.3292575077838953, test_loss = 1.2205048078723428\n",
      "Epoc Count = 19, train_loss = 1.2598092267590137, test_loss = 1.1428709008118048\n",
      "Epoc Count = 20, train_loss = 1.1761762517007397, test_loss = 1.0833130000786242\n",
      "Epoc Count = 21, train_loss = 1.1312468810536185, test_loss = 1.0424547409377316\n",
      "Epoc Count = 22, train_loss = 1.1070403057587135, test_loss = 1.027328198082515\n",
      "Epoc Count = 23, train_loss = 1.098001019942532, test_loss = 1.0333914099701744\n",
      "Epoc Count = 24, train_loss = 1.1041958045030031, test_loss = 1.032221488766461\n",
      "Epoc Count = 25, train_loss = 1.1064565194307787, test_loss = 1.0271864411057723\n",
      "Epoc Count = 26, train_loss = 1.1021223657135415, test_loss = 1.0570710309509685\n",
      "Epoc Count = 27, train_loss = 1.107792985184095, test_loss = 1.0697284164360863\n",
      "Epoc Count = 28, train_loss = 1.1170824697652126, test_loss = 1.0778557931085884\n",
      "Epoc Count = 29, train_loss = 1.1238786870096105, test_loss = 1.0792877982469447\n",
      "Epoc Count = 30, train_loss = 1.1225411216817063, test_loss = 1.0815257160700034\n",
      "Epoc Count = 31, train_loss = 1.126119297951563, test_loss = 1.0883830952449345\n",
      "Epoc Count = 32, train_loss = 1.1261183847565757, test_loss = 1.095518648198634\n",
      "Epoc Count = 33, train_loss = 1.117249832662449, test_loss = 1.0765216798921067\n",
      "Epoc Count = 34, train_loss = 1.1070146198258746, test_loss = 1.0668230334010396\n",
      "Epoc Count = 35, train_loss = 1.103470760274126, test_loss = 1.0688917364971784\n",
      "Epoc Count = 36, train_loss = 1.1041818930744098, test_loss = 1.066931177686619\n",
      "Epoc Count = 37, train_loss = 1.1034690313937918, test_loss = 1.0655737096461346\n",
      "Epoc Count = 38, train_loss = 1.0979174588110099, test_loss = 1.0676337098700377\n",
      "Epoc Count = 39, train_loss = 1.0988364464080316, test_loss = 1.0732791645600674\n",
      "Epoc Count = 40, train_loss = 1.0983258762779187, test_loss = 1.0713009872278405\n",
      "Epoc Count = 41, train_loss = 1.0982323116604285, test_loss = 1.0746971462607127\n",
      "Epoc Count = 42, train_loss = 1.1013742088022178, test_loss = 1.0819439756760467\n",
      "Epoc Count = 43, train_loss = 1.1072534318046743, test_loss = 1.0686055530852199\n",
      "Epoc Count = 44, train_loss = 1.089983433732498, test_loss = 1.0765484456365064\n",
      "Epoc Count = 45, train_loss = 1.087554688586848, test_loss = 1.071687502912245\n",
      "Epoc Count = 46, train_loss = 1.0797953801836355, test_loss = 1.0730094131959298\n",
      "Epoc Count = 47, train_loss = 1.0725878073392157, test_loss = 1.0613333585149993\n",
      "Epoc Count = 48, train_loss = 1.0741495676821615, test_loss = 1.0638922907432489\n",
      "Epoc Count = 49, train_loss = 1.071366776595749, test_loss = 1.0483926559214218\n",
      "Epoc Count = 50, train_loss = 1.0786213589662177, test_loss = 1.04925206445955\n",
      "Learning Finish!\n"
     ]
    }
   ],
   "source": [
    "ScratchMNIST3.fit(X_train, y_train, X_test, y_test)"
   ]
  },
  {
   "cell_type": "code",
   "execution_count": 613,
   "metadata": {},
   "outputs": [
    {
     "name": "stderr",
     "output_type": "stream",
     "text": [
      "C:\\Users\\Takatoshi\\anaconda3\\lib\\site-packages\\ipykernel_launcher.py:5: RuntimeWarning: overflow encountered in exp\n",
      "  \"\"\"\n"
     ]
    },
    {
     "data": {
      "text/plain": [
       "array([7, 2, 1, ..., 9, 8, 5], dtype=int64)"
      ]
     },
     "execution_count": 613,
     "metadata": {},
     "output_type": "execute_result"
    }
   ],
   "source": [
    "y_pred3 = ScratchMNIST3.predict(X_test)\n",
    "y_pred3"
   ]
  },
  {
   "cell_type": "code",
   "execution_count": 614,
   "metadata": {},
   "outputs": [
    {
     "data": {
      "text/html": [
       "<div>\n",
       "<style scoped>\n",
       "    .dataframe tbody tr th:only-of-type {\n",
       "        vertical-align: middle;\n",
       "    }\n",
       "\n",
       "    .dataframe tbody tr th {\n",
       "        vertical-align: top;\n",
       "    }\n",
       "\n",
       "    .dataframe thead th {\n",
       "        text-align: right;\n",
       "    }\n",
       "</style>\n",
       "<table border=\"1\" class=\"dataframe\">\n",
       "  <thead>\n",
       "    <tr style=\"text-align: right;\">\n",
       "      <th></th>\n",
       "      <th>0</th>\n",
       "      <th>1</th>\n",
       "      <th>2</th>\n",
       "      <th>3</th>\n",
       "      <th>4</th>\n",
       "      <th>5</th>\n",
       "      <th>6</th>\n",
       "      <th>7</th>\n",
       "      <th>8</th>\n",
       "      <th>9</th>\n",
       "      <th>accuracy</th>\n",
       "      <th>macro avg</th>\n",
       "      <th>weighted avg</th>\n",
       "    </tr>\n",
       "  </thead>\n",
       "  <tbody>\n",
       "    <tr>\n",
       "      <th>precision</th>\n",
       "      <td>0.800766</td>\n",
       "      <td>0.869905</td>\n",
       "      <td>0.623497</td>\n",
       "      <td>0.600622</td>\n",
       "      <td>0.867424</td>\n",
       "      <td>0.279102</td>\n",
       "      <td>0.700893</td>\n",
       "      <td>0.876344</td>\n",
       "      <td>0.558212</td>\n",
       "      <td>0.608985</td>\n",
       "      <td>0.6497</td>\n",
       "      <td>0.678575</td>\n",
       "      <td>0.685344</td>\n",
       "    </tr>\n",
       "    <tr>\n",
       "      <th>recall</th>\n",
       "      <td>0.853061</td>\n",
       "      <td>0.883700</td>\n",
       "      <td>0.653101</td>\n",
       "      <td>0.573267</td>\n",
       "      <td>0.466395</td>\n",
       "      <td>0.446188</td>\n",
       "      <td>0.655532</td>\n",
       "      <td>0.634241</td>\n",
       "      <td>0.551335</td>\n",
       "      <td>0.725471</td>\n",
       "      <td>0.6497</td>\n",
       "      <td>0.644229</td>\n",
       "      <td>0.649700</td>\n",
       "    </tr>\n",
       "    <tr>\n",
       "      <th>f1-score</th>\n",
       "      <td>0.826087</td>\n",
       "      <td>0.876748</td>\n",
       "      <td>0.637956</td>\n",
       "      <td>0.586626</td>\n",
       "      <td>0.606623</td>\n",
       "      <td>0.343399</td>\n",
       "      <td>0.677454</td>\n",
       "      <td>0.735892</td>\n",
       "      <td>0.554752</td>\n",
       "      <td>0.662144</td>\n",
       "      <td>0.6497</td>\n",
       "      <td>0.650768</td>\n",
       "      <td>0.657148</td>\n",
       "    </tr>\n",
       "    <tr>\n",
       "      <th>support</th>\n",
       "      <td>980.000000</td>\n",
       "      <td>1135.000000</td>\n",
       "      <td>1032.000000</td>\n",
       "      <td>1010.000000</td>\n",
       "      <td>982.000000</td>\n",
       "      <td>892.000000</td>\n",
       "      <td>958.000000</td>\n",
       "      <td>1028.000000</td>\n",
       "      <td>974.000000</td>\n",
       "      <td>1009.000000</td>\n",
       "      <td>0.6497</td>\n",
       "      <td>10000.000000</td>\n",
       "      <td>10000.000000</td>\n",
       "    </tr>\n",
       "  </tbody>\n",
       "</table>\n",
       "</div>"
      ],
      "text/plain": [
       "                    0            1            2            3           4  \\\n",
       "precision    0.800766     0.869905     0.623497     0.600622    0.867424   \n",
       "recall       0.853061     0.883700     0.653101     0.573267    0.466395   \n",
       "f1-score     0.826087     0.876748     0.637956     0.586626    0.606623   \n",
       "support    980.000000  1135.000000  1032.000000  1010.000000  982.000000   \n",
       "\n",
       "                    5           6            7           8            9  \\\n",
       "precision    0.279102    0.700893     0.876344    0.558212     0.608985   \n",
       "recall       0.446188    0.655532     0.634241    0.551335     0.725471   \n",
       "f1-score     0.343399    0.677454     0.735892    0.554752     0.662144   \n",
       "support    892.000000  958.000000  1028.000000  974.000000  1009.000000   \n",
       "\n",
       "           accuracy     macro avg  weighted avg  \n",
       "precision    0.6497      0.678575      0.685344  \n",
       "recall       0.6497      0.644229      0.649700  \n",
       "f1-score     0.6497      0.650768      0.657148  \n",
       "support      0.6497  10000.000000  10000.000000  "
      ]
     },
     "execution_count": 614,
     "metadata": {},
     "output_type": "execute_result"
    }
   ],
   "source": [
    "cr = classification_report(y_test, y_pred3, output_dict=True)\n",
    "\n",
    "# pandas.DataFrameへ変換\n",
    "df_cr = pd.DataFrame(cr)\n",
    "df_cr"
   ]
  },
  {
   "cell_type": "code",
   "execution_count": 615,
   "metadata": {},
   "outputs": [
    {
     "data": {
      "text/plain": [
       "[<matplotlib.lines.Line2D at 0x1f07331ee48>]"
      ]
     },
     "execution_count": 615,
     "metadata": {},
     "output_type": "execute_result"
    },
    {
     "data": {
      "image/png": "[encoded data removed]",
      "text/plain": [
       "<Figure size 432x288 with 1 Axes>"
      ]
     },
     "metadata": {
      "needs_background": "light"
     },
     "output_type": "display_data"
    }
   ],
   "source": [
    "# plt.ylim([0,10])\n",
    "plt.plot(range(len(ScratchMNIST3.train_loss_list)), ScratchMNIST3.train_loss_list, color = \"blue\")\n",
    "plt.plot(range(len(ScratchMNIST3.test_loss_list)), ScratchMNIST3.test_loss_list, color = \"red\")"
   ]
  },
  {
   "cell_type": "markdown",
   "metadata": {},
   "source": [
    "なんじゃこりゃ。ガタガタだなぁ。"
   ]
  },
  {
   "cell_type": "markdown",
   "metadata": {},
   "source": [
    "## 初期化の変更及びoptimaizerの変更で、思いのほか精度が出なかったが、本課題の趣旨とずれるので以上とする。"
   ]
  },
  {
   "cell_type": "code",
   "execution_count": null,
   "metadata": {},
   "outputs": [],
   "source": []
  },
  {
   "cell_type": "markdown",
   "metadata": {},
   "source": [
    "## 【問題8】（アドバンス課題）誤分類の確認\n",
    "誤分類した画像はどのようなものだったかを確認してください。推定値を用意し、以下のコードを実行してください。\n",
    "\n",
    "《コード》"
   ]
  },
  {
   "cell_type": "code",
   "execution_count": 304,
   "metadata": {},
   "outputs": [],
   "source": [
    "def wrong_classification_chk(y_pred, y_val, X_val):\n",
    "    \"\"\"\n",
    "    語分類結果を並べて表示する。画像の上の表示は「推定結果/正解」である。\n",
    "\n",
    "    Parameters:\n",
    "    ----------\n",
    "    y_pred : 推定値のndarray (n_samples,)\n",
    "    y_val : 検証データの正解ラベル(n_samples,)\n",
    "    X_val : 検証データの特徴量（n_samples, n_features)\n",
    "    \"\"\"\n",
    "    import numpy as np\n",
    "    import matplotlib.pyplot as plt\n",
    "    num = 36 # いくつ表示するか\n",
    "    true_false = y_pred==y_val\n",
    "    false_list = np.where(true_false==False)[0].astype(np.int)\n",
    "    if false_list.shape[0] < num:\n",
    "        num = false_list.shape[0]\n",
    "    fig = plt.figure(figsize=(6, 6), facecolor='white')\n",
    "    fig.subplots_adjust(left=0, right=0.8,  bottom=0, top=0.8, hspace=1, wspace=0.5)\n",
    "    for i in range(num):\n",
    "        ax = fig.add_subplot(6, 6, i + 1, xticks=[], yticks=[])\n",
    "        ax.set_title(\"{} / {}\".format(y_pred[false_list[i]],y_val[false_list[i]]))\n",
    "        ax.imshow(X_val.reshape(-1,28,28)[false_list[i]], cmap='gray')"
   ]
  },
  {
   "cell_type": "code",
   "execution_count": 305,
   "metadata": {},
   "outputs": [
    {
     "data": {
      "image/png": "[encoded data removed]",
      "text/plain": [
       "<Figure size 432x432 with 36 Axes>"
      ]
     },
     "metadata": {},
     "output_type": "display_data"
    }
   ],
   "source": [
    "wrong_classification_chk(y_pred_max, y_test, X_test)"
   ]
  },
  {
   "cell_type": "markdown",
   "metadata": {},
   "source": [
    "やはり、人間でも見分けにくいものを誤分類している。これについては、無数の人の手書き数字を同時に学習しようとしているため、人によってクセが異なる為、万人の手書き文字にfitしたものを作るのは、むしろ不可能である。  \n",
    "ただ、特定の個人の手書き文字に関して学習を行えば、その人のクセも同時に学習できるので、認識精度はさらに向上し、筆跡鑑定等に応用できると考えられる。"
   ]
  },
  {
   "cell_type": "code",
   "execution_count": null,
   "metadata": {},
   "outputs": [],
   "source": []
  },
  {
   "cell_type": "code",
   "execution_count": null,
   "metadata": {},
   "outputs": [],
   "source": []
  },
  {
   "cell_type": "code",
   "execution_count": null,
   "metadata": {},
   "outputs": [],
   "source": []
  },
  {
   "cell_type": "code",
   "execution_count": null,
   "metadata": {},
   "outputs": [],
   "source": []
  }
 ],
 "metadata": {
  "kernelspec": {
   "display_name": "Python 3",
   "language": "python",
   "name": "python3"
  },
  "language_info": {
   "codemirror_mode": {
    "name": "ipython",
    "version": 3
   },
   "file_extension": ".py",
   "mimetype": "text/x-python",
   "name": "python",
   "nbconvert_exporter": "python",
   "pygments_lexer": "ipython3",
   "version": "3.7.6"
  }
 },
 "nbformat": 4,
 "nbformat_minor": 4
}
