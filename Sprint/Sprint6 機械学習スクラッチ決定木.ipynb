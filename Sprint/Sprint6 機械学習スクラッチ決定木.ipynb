{
 "cells": [
  {
   "cell_type": "markdown",
   "metadata": {},
   "source": [
    "# (予習)Sprint6 機械学習スクラッチ決定木"
   ]
  },
  {
   "cell_type": "code",
   "execution_count": 1,
   "metadata": {},
   "outputs": [],
   "source": [
    "import pandas as pd\n",
    "import numpy as np\n",
    "from sklearn.model_selection import train_test_split\n",
    "from sklearn import linear_model\n",
    "from sklearn.metrics import classification_report\n",
    "import matplotlib.pyplot as plt\n",
    "%matplotlib inline"
   ]
  },
  {
   "cell_type": "markdown",
   "metadata": {},
   "source": [
    "### ＜シンプルデータセット2＞"
   ]
  },
  {
   "cell_type": "code",
   "execution_count": 2,
   "metadata": {},
   "outputs": [],
   "source": [
    "X = np.array([[-0.44699 , -2.8073  ],[-1.4621  , -2.4586  ],\n",
    "       [ 0.10645 ,  1.9242  ],[-3.5944  , -4.0112  ],\n",
    "       [-0.9888  ,  4.5718  ],[-3.1625  , -3.9606  ],\n",
    "       [ 0.56421 ,  0.72888 ],[-0.60216 ,  8.4636  ],\n",
    "       [-0.61251 , -0.75345 ],[-0.73535 , -2.2718  ],\n",
    "       [-0.80647 , -2.2135  ],[ 0.86291 ,  2.3946  ],\n",
    "       [-3.1108  ,  0.15394 ],[-2.9362  ,  2.5462  ],\n",
    "       [-0.57242 , -2.9915  ],[ 1.4771  ,  3.4896  ],\n",
    "       [ 0.58619 ,  0.37158 ],[ 0.6017  ,  4.3439  ],\n",
    "       [-2.1086  ,  8.3428  ],[-4.1013  , -4.353   ],\n",
    "       [-1.9948  , -1.3927  ],[ 0.35084 , -0.031994],\n",
    "       [ 0.96765 ,  7.8929  ],[-1.281   , 15.6824  ],\n",
    "       [ 0.96765 , 10.083   ],[ 1.3763  ,  1.3347  ],\n",
    "       [-2.234   , -2.5323  ],[-2.9452  , -1.8219  ],\n",
    "       [ 0.14654 , -0.28733 ],[ 0.5461  ,  5.8245  ],\n",
    "       [-0.65259 ,  9.3444  ],[ 0.59912 ,  5.3524  ],\n",
    "       [ 0.50214 , -0.31818 ],[-3.0603  , -3.6461  ],\n",
    "       [-6.6797  ,  0.67661 ],[-2.353   , -0.72261 ],\n",
    "       [ 1.1319  ,  2.4023  ],[-0.12243 ,  9.0162  ],\n",
    "       [-2.5677  , 13.1779  ],[ 0.057313,  5.4681  ]])\n",
    "\n",
    "y = np.array([0, 0, 0, 0, 0, 0, 0, 0, 0, 0, 0, 0, 0, 0, 0, 0, 0, 0, 0, 0, 1, 1,\n",
    "       1, 1, 1, 1, 1, 1, 1, 1, 1, 1, 1, 1, 1, 1, 1, 1, 1, 1])\n",
    "y = y.reshape(-1,1)\n",
    "\n",
    "ds_simple2={}\n",
    "\n",
    "ds_simple2[\"X\"] = X\n",
    "ds_simple2[\"y\"] = y\n",
    "\n",
    "# データ分割\n",
    "X_train, X_test, y_train, y_test = train_test_split(ds_simple2[\"X\"], ds_simple2[\"y\"], train_size=0.8, random_state=0)"
   ]
  },
  {
   "cell_type": "code",
   "execution_count": 3,
   "metadata": {},
   "outputs": [
    {
     "data": {
      "text/plain": [
       "array([[-2.1086  ,  8.3428  ],\n",
       "       [ 0.5461  ,  5.8245  ],\n",
       "       [-2.9452  , -1.8219  ],\n",
       "       [-2.353   , -0.72261 ],\n",
       "       [-0.12243 ,  9.0162  ],\n",
       "       [ 0.10645 ,  1.9242  ],\n",
       "       [ 0.057313,  5.4681  ],\n",
       "       [-0.65259 ,  9.3444  ],\n",
       "       [-6.6797  ,  0.67661 ],\n",
       "       [ 0.58619 ,  0.37158 ],\n",
       "       [ 1.1319  ,  2.4023  ],\n",
       "       [-0.61251 , -0.75345 ],\n",
       "       [-2.9362  ,  2.5462  ],\n",
       "       [-3.1625  , -3.9606  ],\n",
       "       [ 0.6017  ,  4.3439  ],\n",
       "       [-0.57242 , -2.9915  ],\n",
       "       [-3.0603  , -3.6461  ],\n",
       "       [-0.60216 ,  8.4636  ],\n",
       "       [ 0.50214 , -0.31818 ],\n",
       "       [-1.4621  , -2.4586  ],\n",
       "       [-2.234   , -2.5323  ],\n",
       "       [-3.1108  ,  0.15394 ],\n",
       "       [ 0.59912 ,  5.3524  ],\n",
       "       [ 0.96765 , 10.083   ],\n",
       "       [ 0.56421 ,  0.72888 ],\n",
       "       [-1.281   , 15.6824  ],\n",
       "       [ 0.35084 , -0.031994],\n",
       "       [-4.1013  , -4.353   ],\n",
       "       [-0.73535 , -2.2718  ],\n",
       "       [-2.5677  , 13.1779  ],\n",
       "       [-3.5944  , -4.0112  ],\n",
       "       [-0.44699 , -2.8073  ]])"
      ]
     },
     "execution_count": 3,
     "metadata": {},
     "output_type": "execute_result"
    }
   ],
   "source": [
    "X_train"
   ]
  },
  {
   "cell_type": "markdown",
   "metadata": {},
   "source": [
    "## 【問題1】ジニ不純度を求める関数"
   ]
  },
  {
   "cell_type": "markdown",
   "metadata": {},
   "source": [
    "ノード の ジニ不純度 を計算する関数を作成してください。ノード $t$に対するジニ不純度 $I(t)$\n",
    " は以下の数式で求まります。クラスが混じり合っているほどジニ不純度は高くなります。\n",
    "\n",
    "$$\n",
    "I(t) = 1-\\sum_{i=1}^{K}P^2(C_i|t) = 1-\\sum_{i=1}^{K}(\\frac{N_{t,i}}{N_{t,all}})^{2}\n",
    "$$\n",
    "\n",
    "$t$ : ノードのインデックス\n",
    "\n",
    "$i$ : クラスのインデックス\n",
    "\n",
    "$K$ : クラスの数\n",
    "\n",
    "$C_i$ : $i$番目のクラス\n",
    "\n",
    "$P(C_i|t)$ :　$t$番目のノードにおける$C_i$の割合\n",
    "\n",
    "$N_{t,i}$ : $t$番目のノードのi番目のクラスに属するサンプル数\n",
    "\n",
    "$N_{t,all}$ : $t$番目のノードのサンプルの総数\n",
    "\n",
    "まずは簡単な例を作り、手計算と関数の結果を比較してください。\n",
    "\n",
    "<<例>>\n",
    "\n",
    "クラス1:サンプル数15, クラス2:サンプル数15 → ジニ不純度0.500  \n",
    "クラス1:サンプル数15, クラス2:サンプル数15, クラス3:サンプル数15 → ジニ不純度0.667  \n",
    "クラス1:サンプル数18, クラス2:サンプル数12 → ジニ不純度0.480  \n",
    "クラス1:サンプル数30, クラス2:サンプル数0 → ジニ不純度0.000  \n"
   ]
  },
  {
   "cell_type": "markdown",
   "metadata": {},
   "source": [
    "### <<手計算>>"
   ]
  },
  {
   "cell_type": "code",
   "execution_count": 4,
   "metadata": {},
   "outputs": [
    {
     "data": {
      "text/plain": [
       "0.5"
      ]
     },
     "execution_count": 4,
     "metadata": {},
     "output_type": "execute_result"
    }
   ],
   "source": [
    "# クラス1:サンプル数15, クラス2:サンプル数15 → ジニ不純度0.500\n",
    "1 - ( (15/30)**2 + (15/30)**2 ) "
   ]
  },
  {
   "cell_type": "code",
   "execution_count": 5,
   "metadata": {},
   "outputs": [
    {
     "data": {
      "text/plain": [
       "0.6666666666666667"
      ]
     },
     "execution_count": 5,
     "metadata": {},
     "output_type": "execute_result"
    }
   ],
   "source": [
    "# クラス1:サンプル数15, クラス2:サンプル数15, クラス3:サンプル数15 → ジニ不純度0.667\n",
    "1 - ( (15/45)**2 + (15/45)**2 + (15/45)**2 ) "
   ]
  },
  {
   "cell_type": "code",
   "execution_count": 6,
   "metadata": {},
   "outputs": [
    {
     "data": {
      "text/plain": [
       "0.48"
      ]
     },
     "execution_count": 6,
     "metadata": {},
     "output_type": "execute_result"
    }
   ],
   "source": [
    "# クラス1:サンプル数18, クラス2:サンプル数12 → ジニ不純度0.480\n",
    "1 - ( (18/30)**2 + (12/30)**2 ) "
   ]
  },
  {
   "cell_type": "code",
   "execution_count": 7,
   "metadata": {},
   "outputs": [
    {
     "data": {
      "text/plain": [
       "0.0"
      ]
     },
     "execution_count": 7,
     "metadata": {},
     "output_type": "execute_result"
    }
   ],
   "source": [
    "# クラス1:サンプル数30, クラス2:サンプル数0 → ジニ不純度0.000\n",
    "1 - ( (30/30)**2 + (0/30)**2 ) "
   ]
  },
  {
   "cell_type": "markdown",
   "metadata": {},
   "source": [
    "    gini = 1 - ( (n1 / np.sum(n))**2 + (n2 / np.sum(n))**2 + ・・・\n",
    "         = 1 - ( (n1**2 + n2**2 + ・・・)/np.sum(n)**2)"
   ]
  },
  {
   "cell_type": "markdown",
   "metadata": {},
   "source": [
    "$$\n",
    "    gini = 1- \\biggl( \\biggl(\\frac{n_1}{n_{all}}\\biggr)^{2} + \\biggl(\\frac{n_2}{n_{all}}\\biggr)^{2} ・・・ \\biggr)\n",
    "$$"
   ]
  },
  {
   "cell_type": "markdown",
   "metadata": {},
   "source": [
    "### <<メソッド化>>"
   ]
  },
  {
   "cell_type": "code",
   "execution_count": 8,
   "metadata": {},
   "outputs": [],
   "source": [
    "import numpy as np\n",
    "def gini(n):\n",
    "    '''\n",
    "    Parameters\n",
    "    ----------\n",
    "    n : 次の形のndarray, shape (n_samples, )\n",
    "        各クラスのサンプル数（class1, class2, ・・・）\n",
    "    '''\n",
    "\n",
    "    gini = 1 - np.sum((n / np.sum(n))**2)\n",
    "    \n",
    "    return gini"
   ]
  },
  {
   "cell_type": "code",
   "execution_count": 9,
   "metadata": {},
   "outputs": [
    {
     "data": {
      "text/plain": [
       "0.5"
      ]
     },
     "execution_count": 9,
     "metadata": {},
     "output_type": "execute_result"
    }
   ],
   "source": [
    "n_1 = [15, 15]\n",
    "gini(n_1)"
   ]
  },
  {
   "cell_type": "code",
   "execution_count": 10,
   "metadata": {},
   "outputs": [
    {
     "data": {
      "text/plain": [
       "0.6666666666666667"
      ]
     },
     "execution_count": 10,
     "metadata": {},
     "output_type": "execute_result"
    }
   ],
   "source": [
    "n_2 = [15, 15, 15]\n",
    "gini(n_2)"
   ]
  },
  {
   "cell_type": "code",
   "execution_count": 11,
   "metadata": {},
   "outputs": [
    {
     "data": {
      "text/plain": [
       "0.48"
      ]
     },
     "execution_count": 11,
     "metadata": {},
     "output_type": "execute_result"
    }
   ],
   "source": [
    "n_3 = [18, 12]\n",
    "gini(n_3)"
   ]
  },
  {
   "cell_type": "code",
   "execution_count": 12,
   "metadata": {},
   "outputs": [
    {
     "data": {
      "text/plain": [
       "0.0"
      ]
     },
     "execution_count": 12,
     "metadata": {},
     "output_type": "execute_result"
    }
   ],
   "source": [
    "n_3 = [30, 0]\n",
    "gini(n_3)"
   ]
  },
  {
   "cell_type": "markdown",
   "metadata": {},
   "source": [
    "### <<クラスの該当部分>>"
   ]
  },
  {
   "cell_type": "markdown",
   "metadata": {},
   "source": [
    "```python\n",
    "    def gini(n):\n",
    "        '''\n",
    "        Parameters\n",
    "        ----------\n",
    "        n : 次の形のndarray, shape (n_samples, )\n",
    "            各クラスのサンプル数（class1, class2, ・・・）\n",
    "        '''\n",
    "\n",
    "        gini = 1 - np.sum((n / np.sum(n))**2)\n",
    "\n",
    "        return gini\n",
    "\n",
    "```"
   ]
  },
  {
   "cell_type": "markdown",
   "metadata": {},
   "source": [
    "## 【問題2】情報利得を求める関数"
   ]
  },
  {
   "cell_type": "markdown",
   "metadata": {},
   "source": [
    "次に、情報利得を計算する関数を作成してください。先ほど作成したジニ不純度$I(t)$を計算する関数を呼び出して使います。情報利得$IG$は以下の数式で求まります。うまく分けられている時ほど情報利得は大きくなります。\n",
    "\n",
    "ここで分岐は2つのみであるため、分岐先を「左側のノード・右側のノード」と呼びます。\n",
    "\n",
    "$$\n",
    "    IG(p) = I(p)-\\frac{N_{left,all}}{N_{p,all}}I(left)-\\frac{N_{right,all}}{N_{p,all}}I(right)\n",
    "$$\n",
    "$p$ : 親ノードを示すインデックス\n",
    "\n",
    "$left$ : 左側のノードを示すインデックス\n",
    "\n",
    "$right$ : 右側のノードを示すインデックス\n",
    "\n",
    "まずは簡単な例を作り、手計算と関数の結果を比較してください。\n",
    "\n",
    "<<例>>\n",
    "\n",
    "左ノードクラス1:サンプル数10, 左ノードクラス2:サンプル数30,   \n",
    "右ノードクラス1:サンプル数20, 右ノードクラス2:サンプル数5  \n",
    "→ 情報利得0.143\n",
    "\n",
    "\n"
   ]
  },
  {
   "cell_type": "markdown",
   "metadata": {},
   "source": [
    "### <<手計算>>"
   ]
  },
  {
   "cell_type": "markdown",
   "metadata": {},
   "source": [
    "親ノードのジニ不純度I(p)は、  \n",
    "クラス１：サンプル数10 + 20 = 30  \n",
    "クラス２：サンプル数30 + 5  = 35\n",
    "から  \n",
    "$$\n",
    "I(p) = 1-\\biggl( \\biggl(\\frac{30}{30 + 35}\\biggr)^2 + \\biggl(\\frac{35}{30 + 35}\\biggr)^2 \\biggr)\n",
    "$$"
   ]
  },
  {
   "cell_type": "code",
   "execution_count": 13,
   "metadata": {},
   "outputs": [],
   "source": [
    "left_c1 = 10\n",
    "left_c2 = 30\n",
    "right_c1 = 20\n",
    "right_c2 = 5\n",
    "all_c = left_c1 + left_c2 +right_c1 + right_c2"
   ]
  },
  {
   "cell_type": "code",
   "execution_count": 14,
   "metadata": {},
   "outputs": [
    {
     "data": {
      "text/plain": [
       "0.4970414201183432"
      ]
     },
     "execution_count": 14,
     "metadata": {},
     "output_type": "execute_result"
    }
   ],
   "source": [
    "ip = 1-( ((left_c1 + right_c1)/(all_c)) **2 + ((left_c2 + right_c2)/(all_c))**2 )\n",
    "ip"
   ]
  },
  {
   "cell_type": "markdown",
   "metadata": {},
   "source": [
    "左ノードのジニ不純度I(left)は\n",
    "クラス１サンプル数：10  \n",
    "クラス２サンプル数：30  \n",
    "から\n",
    "$$\n",
    "I(left) = 1-\\biggl( \\biggl(\\frac{10}{10 + 30}\\biggr)^2 + \\biggl(\\frac{30}{10 + 30}\\biggr)^2 \\biggr)\n",
    "$$"
   ]
  },
  {
   "cell_type": "code",
   "execution_count": 15,
   "metadata": {},
   "outputs": [
    {
     "data": {
      "text/plain": [
       "0.375"
      ]
     },
     "execution_count": 15,
     "metadata": {},
     "output_type": "execute_result"
    }
   ],
   "source": [
    "left = 1-( (left_c1/(left_c1 + left_c2)) **2 + (left_c2/(left_c1 + left_c2))**2 )\n",
    "left"
   ]
  },
  {
   "cell_type": "markdown",
   "metadata": {},
   "source": [
    "右ノードのジニ不純度I(right)は  \n",
    "クラス１サンプル数：20  \n",
    "クラス２サンプル数： 5  \n",
    "から\n",
    "$$\n",
    "I(right) = 1-\\biggl(\\frac{20}{20 + 5})^2 + (\\frac{5}{20 + 5})^2 \\biggr)\n",
    "$$"
   ]
  },
  {
   "cell_type": "code",
   "execution_count": 16,
   "metadata": {},
   "outputs": [
    {
     "data": {
      "text/plain": [
       "0.31999999999999984"
      ]
     },
     "execution_count": 16,
     "metadata": {},
     "output_type": "execute_result"
    }
   ],
   "source": [
    "right = 1-( (right_c1/(right_c1 + right_c2)) **2 + (right_c2/(right_c1 + right_c2))**2 )\n",
    "right"
   ]
  },
  {
   "cell_type": "markdown",
   "metadata": {},
   "source": [
    "$$\n",
    "IG(p) = 0.497 - \\biggl( \\biggl(\\frac{10 + 30}{30 + 35}\\biggr) * 0.375 + \\biggl(\\frac{20 + 5}{30 + 35}\\biggr) * 0.320 \\biggr)\n",
    "$$"
   ]
  },
  {
   "cell_type": "code",
   "execution_count": 17,
   "metadata": {},
   "outputs": [
    {
     "data": {
      "text/plain": [
       "0.14319526627218937"
      ]
     },
     "execution_count": 17,
     "metadata": {},
     "output_type": "execute_result"
    }
   ],
   "source": [
    "ip - ( (left_c1 + left_c2)/(all_c) *left + (right_c1 + right_c2)/(all_c) * right)"
   ]
  },
  {
   "cell_type": "markdown",
   "metadata": {},
   "source": [
    "### <<メソッド化>>"
   ]
  },
  {
   "cell_type": "code",
   "execution_count": 18,
   "metadata": {},
   "outputs": [],
   "source": [
    "def _information_gain(p_data, left_data, right_data):\n",
    "    I_left = ( np.sum(left_data)/( np.sum(left_data + right_data)) ) * gini(left_data)\n",
    "    I_right = ( np.sum(right_data)/( np.sum(left_data + right_data)) ) * gini(right_data)\n",
    "\n",
    "    IG = gini(p_data) -(I_left + I_right)\n",
    "    \n",
    "    return IG"
   ]
  },
  {
   "cell_type": "code",
   "execution_count": 19,
   "metadata": {},
   "outputs": [
    {
     "data": {
      "text/plain": [
       "0.14319526627218937"
      ]
     },
     "execution_count": 19,
     "metadata": {},
     "output_type": "execute_result"
    }
   ],
   "source": [
    "y_p = np.array([30, 35])\n",
    "left_sample = np.array([10, 30])\n",
    "right_sample = np.array([20, 5])\n",
    "IGp = _information_gain(y_p, left_sample, right_sample)\n",
    "IGp"
   ]
  },
  {
   "cell_type": "markdown",
   "metadata": {},
   "source": [
    "### <<クラスの該当部分>>"
   ]
  },
  {
   "cell_type": "markdown",
   "metadata": {},
   "source": [
    "```python\n",
    "    def _information_gain(self, p_data, left_data, right_data):\n",
    "        I_left = ( np.sum(left_data)/( np.sum(left_data + right_data)) ) * gini(left_data)\n",
    "        I_right = ( np.sum(right_data)/( np.sum(left_data + right_data)) ) * gini(right_data)\n",
    "\n",
    "        IG = gini(p_data) -(I_left + I_right)\n",
    "\n",
    "        return IG\n",
    "```"
   ]
  },
  {
   "cell_type": "markdown",
   "metadata": {},
   "source": [
    "## 【問題3】学習"
   ]
  },
  {
   "cell_type": "markdown",
   "metadata": {},
   "source": [
    "空間の分割を行い、決定木のグラフを生成するコードを作成してください。今は深さ1の決定木なので、分割を1回だけ行います。ここでグラフを生成するとは、1回の分割の際の条件としてどの特徴量がいくつ以上の時とするかを求めるということです。\n",
    "\n",
    "\n",
    "訓練データに対して全ての組み合わせの分割を行い、その中でノード間の情報利得が最大となる分割をそのノードの分割基準として記録します。\n",
    "\n",
    "\n",
    "クラスが混ざらない不純度が0のノード、または指定された深さのノードが 葉ノード となります。葉ノードにはクラスを記録しておき、これを推定時に分類するクラスとします。クラスが混ざらない場合はそのままのクラスを記録し、混ざっている場合は多数決により決めます。\n",
    "\n",
    "\n",
    "《組み合わせの取り方》\n",
    "\n",
    "全ての組み合わせの取り方は、最も単純には各特徴量の値自体をしきい値にして分割を行う方法があります。片側の端は今回のスクラッチはこの方法で行なってください。\n",
    "\n",
    "\n",
    "他には中間の値をしきい値にする方法もあり、scikit-learnではこの方法が用いられています。\n",
    "\n",
    "\n",
    "《補足》\n",
    "\n",
    "\n",
    "問題2の情報利得を計算する関数はこの問題3で利用する上では、親ノードの不純度 \n",
    "I\n",
    "(\n",
    "p\n",
    ")\n",
    " は固定されるため、左右のノードの不純度の合計を計算するだけでも同じ結果が得られることになります。しかし、ここでは親ノードを考慮した情報利得を計算する実装を行なってください。"
   ]
  },
  {
   "cell_type": "markdown",
   "metadata": {},
   "source": [
    "### <<メソッド化>>"
   ]
  },
  {
   "cell_type": "code",
   "execution_count": 20,
   "metadata": {},
   "outputs": [],
   "source": [
    "def fit(X, y):\n",
    "    Xy = np.concatenate([X, y], axis = 1)\n",
    "    Xy_left = []\n",
    "    Xy_right = []\n",
    "    left_list = []\n",
    "    right_list = []\n",
    "\n",
    "    IGp = np.zeros(X.shape[0] * X.shape[1]).reshape(X.shape[0], X.shape[1])\n",
    "    dic_IGp ={\n",
    "        \"k\":0,\n",
    "        \"i\":0,\n",
    "        \"threshold\":0,\n",
    "        \"IGp\":0,\n",
    "    }\n",
    "    \n",
    "    # 特徴量の値をループさせ、閾値を設定する\n",
    "    # k:特徴量Index\n",
    "    # i:閾値Index\n",
    "    # j:比較Index\n",
    "    for k in range(X.shape[1]):\n",
    "        for i in range(Xy.shape[0]):\n",
    "            left_list = []\n",
    "            right_list = []\n",
    "            for j in range(Xy.shape[0]):\n",
    "                if Xy[j,k] < Xy[i,k]:\n",
    "                    left_list.append(Xy[j])\n",
    "                else:\n",
    "                    right_list.append(Xy[j])\n",
    "\n",
    "            \n",
    "            if len(left_list) == 0 or len(right_list) == 0:\n",
    "                print(\"★★★　k={}, i={}, j={}, ZERO Split  Continu\".format(k, i, j))            \n",
    "                continue\n",
    "\n",
    "            \n",
    "            Xy_left = np.array(left_list).reshape(-1, Xy.shape[1])\n",
    "            Xy_right = np.array(right_list).reshape(-1, Xy.shape[1])\n",
    "                    \n",
    "            \n",
    "            left_sample = np.array([ np.count_nonzero(Xy_left[:,-1] == 0, axis=0), np.count_nonzero(Xy_left[:,-1] == 1, axis=0)])\n",
    "            right_sample = np.array([ np.count_nonzero(Xy_right[:,-1] == 0, axis=0), np.count_nonzero(Xy_right[:,-1] == 1, axis=0)])\n",
    "            all_sample = np.array([np.count_nonzero(Xy_left[:,-1] == 0, axis=0) +  np.count_nonzero(Xy_right[:,-1] == 0, axis=0), \n",
    "                                  np.count_nonzero(Xy_left[:,-1] == 1, axis=0) +  np.count_nonzero(Xy_right[:,-1] == 1, axis=0)])\n",
    "            \n",
    "            IGp[i, k] = _information_gain(all_sample, left_sample, right_sample)\n",
    "            print(\"k={}, i={}, j={}, l_sample={}, r_sample={}, a_sample={}, IGp = {}\".format(k, i, j, left_sample, right_sample, all_sample, IGp[i, k]))            \n",
    "            \n",
    "    return IGp\n",
    "    "
   ]
  },
  {
   "cell_type": "code",
   "execution_count": 21,
   "metadata": {},
   "outputs": [
    {
     "name": "stdout",
     "output_type": "stream",
     "text": [
      "k=0, i=0, j=31, l_sample=[5 6], r_sample=[11 10], a_sample=[16 16], IGp = 0.0021645021645021467\n",
      "k=0, i=1, j=31, l_sample=[13 12], r_sample=[3 4], a_sample=[16 16], IGp = 0.0028571428571428914\n",
      "k=0, i=2, j=31, l_sample=[4 2], r_sample=[12 14], a_sample=[16 16], IGp = 0.01282051282051283\n",
      "k=0, i=3, j=31, l_sample=[5 4], r_sample=[11 12], a_sample=[16 16], IGp = 0.0024154589371980784\n",
      "k=0, i=4, j=31, l_sample=[12  8], r_sample=[4 8], a_sample=[16 16], IGp = 0.033333333333333326\n",
      "k=0, i=5, j=31, l_sample=[12 10], r_sample=[4 6], a_sample=[16 16], IGp = 0.009090909090909038\n",
      "k=0, i=6, j=31, l_sample=[12  9], r_sample=[4 7], a_sample=[16 16], IGp = 0.01948051948051943\n",
      "k=0, i=7, j=31, l_sample=[8 7], r_sample=[8 9], a_sample=[16 16], IGp = 0.0019607843137254832\n",
      "★★★　k=0, i=8, j=31, ZERO Split  Continu\n",
      "k=0, i=9, j=31, l_sample=[14 13], r_sample=[2 3], a_sample=[16 16], IGp = 0.0037037037037036535\n",
      "k=0, i=10, j=31, l_sample=[16 15], r_sample=[0 1], a_sample=[16 16], IGp = 0.016129032258064502\n",
      "k=0, i=11, j=31, l_sample=[8 8], r_sample=[8 8], a_sample=[16 16], IGp = 0.0\n",
      "k=0, i=12, j=31, l_sample=[4 3], r_sample=[12 13], a_sample=[16 16], IGp = 0.0028571428571428914\n",
      "k=0, i=13, j=31, l_sample=[2 1], r_sample=[14 15], a_sample=[16 16], IGp = 0.005747126436781602\n",
      "k=0, i=14, j=31, l_sample=[15 14], r_sample=[1 2], a_sample=[16 16], IGp = 0.005747126436781602\n",
      "k=0, i=15, j=31, l_sample=[10  8], r_sample=[6 8], a_sample=[16 16], IGp = 0.007936507936507908\n",
      "k=0, i=16, j=31, l_sample=[4 1], r_sample=[12 15], a_sample=[16 16], IGp = 0.03333333333333338\n",
      "k=0, i=17, j=31, l_sample=[9 8], r_sample=[7 8], a_sample=[16 16], IGp = 0.0019607843137254832\n",
      "k=0, i=18, j=31, l_sample=[13 11], r_sample=[3 5], a_sample=[16 16], IGp = 0.010416666666666574\n",
      "k=0, i=19, j=31, l_sample=[6 6], r_sample=[10 10], a_sample=[16 16], IGp = 0.0\n",
      "k=0, i=20, j=31, l_sample=[5 5], r_sample=[11 11], a_sample=[16 16], IGp = 0.0\n",
      "k=0, i=21, j=31, l_sample=[3 1], r_sample=[13 15], a_sample=[16 16], IGp = 0.01785714285714285\n",
      "k=0, i=22, j=31, l_sample=[15 13], r_sample=[1 3], a_sample=[16 16], IGp = 0.01785714285714285\n",
      "k=0, i=23, j=31, l_sample=[16 14], r_sample=[0 2], a_sample=[16 16], IGp = 0.033333333333333326\n",
      "k=0, i=24, j=31, l_sample=[13 13], r_sample=[3 3], a_sample=[16 16], IGp = 0.0\n",
      "k=0, i=25, j=31, l_sample=[7 6], r_sample=[ 9 10], a_sample=[16 16], IGp = 0.0020242914979756166\n",
      "k=0, i=26, j=31, l_sample=[13 10], r_sample=[3 6], a_sample=[16 16], IGp = 0.021739130434782594\n",
      "k=0, i=27, j=31, l_sample=[0 1], r_sample=[16 15], a_sample=[16 16], IGp = 0.016129032258064502\n",
      "k=0, i=28, j=31, l_sample=[7 7], r_sample=[9 9], a_sample=[16 16], IGp = 0.0\n",
      "k=0, i=29, j=31, l_sample=[5 3], r_sample=[11 13], a_sample=[16 16], IGp = 0.010416666666666574\n",
      "k=0, i=30, j=31, l_sample=[1 1], r_sample=[15 15], a_sample=[16 16], IGp = 0.0\n",
      "k=0, i=31, j=31, l_sample=[11  8], r_sample=[5 8], a_sample=[16 16], IGp = 0.018218623481781382\n",
      "k=1, i=0, j=31, l_sample=[14 11], r_sample=[2 5], a_sample=[16 16], IGp = 0.0257142857142858\n",
      "k=1, i=1, j=31, l_sample=[14 10], r_sample=[2 6], a_sample=[16 16], IGp = 0.04166666666666674\n",
      "k=1, i=2, j=31, l_sample=[7 2], r_sample=[ 9 14], a_sample=[16 16], IGp = 0.06038647342995179\n",
      "k=1, i=3, j=31, l_sample=[8 3], r_sample=[ 8 13], a_sample=[16 16], IGp = 0.05411255411255411\n",
      "k=1, i=4, j=31, l_sample=[16 11], r_sample=[0 5], a_sample=[16 16], IGp = 0.0925925925925925\n",
      "k=1, i=5, j=31, l_sample=[11  7], r_sample=[5 9], a_sample=[16 16], IGp = 0.031746031746031855\n",
      "k=1, i=6, j=31, l_sample=[14  9], r_sample=[2 7], a_sample=[16 16], IGp = 0.06038647342995179\n",
      "k=1, i=7, j=31, l_sample=[16 12], r_sample=[0 4], a_sample=[16 16], IGp = 0.07142857142857134\n",
      "k=1, i=8, j=31, l_sample=[10  6], r_sample=[ 6 10], a_sample=[16 16], IGp = 0.03125\n",
      "k=1, i=9, j=31, l_sample=[9 6], r_sample=[ 7 10], a_sample=[16 16], IGp = 0.01764705882352946\n",
      "k=1, i=10, j=31, l_sample=[12  7], r_sample=[4 9], a_sample=[16 16], IGp = 0.05060728744939269\n",
      "k=1, i=11, j=31, l_sample=[7 3], r_sample=[ 9 13], a_sample=[16 16], IGp = 0.036363636363636376\n",
      "k=1, i=12, j=31, l_sample=[12  8], r_sample=[4 8], a_sample=[16 16], IGp = 0.033333333333333326\n",
      "k=1, i=13, j=31, l_sample=[2 0], r_sample=[14 16], a_sample=[16 16], IGp = 0.033333333333333326\n",
      "k=1, i=14, j=31, l_sample=[13  8], r_sample=[3 8], a_sample=[16 16], IGp = 0.05411255411255411\n",
      "k=1, i=15, j=31, l_sample=[3 1], r_sample=[13 15], a_sample=[16 16], IGp = 0.01785714285714285\n",
      "k=1, i=16, j=31, l_sample=[3 0], r_sample=[13 16], a_sample=[16 16], IGp = 0.051724137931034475\n",
      "k=1, i=17, j=31, l_sample=[15 11], r_sample=[1 5], a_sample=[16 16], IGp = 0.051282051282051266\n",
      "k=1, i=18, j=31, l_sample=[8 4], r_sample=[ 8 12], a_sample=[16 16], IGp = 0.033333333333333326\n",
      "k=1, i=19, j=31, l_sample=[5 2], r_sample=[11 14], a_sample=[16 16], IGp = 0.0257142857142858\n",
      "k=1, i=20, j=31, l_sample=[5 1], r_sample=[11 15], a_sample=[16 16], IGp = 0.051282051282051266\n",
      "k=1, i=21, j=31, l_sample=[8 6], r_sample=[ 8 10], a_sample=[16 16], IGp = 0.007936507936507908\n",
      "k=1, i=22, j=31, l_sample=[14  8], r_sample=[2 8], a_sample=[16 16], IGp = 0.0818181818181819\n",
      "k=1, i=23, j=31, l_sample=[16 13], r_sample=[0 3], a_sample=[16 16], IGp = 0.051724137931034475\n",
      "k=1, i=24, j=31, l_sample=[10  7], r_sample=[6 9], a_sample=[16 16], IGp = 0.01764705882352946\n",
      "k=1, i=25, j=31, l_sample=[16 15], r_sample=[0 1], a_sample=[16 16], IGp = 0.016129032258064502\n",
      "k=1, i=26, j=31, l_sample=[8 5], r_sample=[ 8 11], a_sample=[16 16], IGp = 0.018218623481781382\n",
      "★★★　k=1, i=27, j=31, ZERO Split  Continu\n",
      "k=1, i=28, j=31, l_sample=[6 2], r_sample=[10 14], a_sample=[16 16], IGp = 0.04166666666666674\n",
      "k=1, i=29, j=31, l_sample=[16 14], r_sample=[0 2], a_sample=[16 16], IGp = 0.033333333333333326\n",
      "k=1, i=30, j=31, l_sample=[1 0], r_sample=[15 16], a_sample=[16 16], IGp = 0.016129032258064502\n",
      "k=1, i=31, j=31, l_sample=[4 1], r_sample=[12 15], a_sample=[16 16], IGp = 0.03333333333333338\n"
     ]
    },
    {
     "data": {
      "text/plain": [
       "array([[0.0021645 , 0.02571429],\n",
       "       [0.00285714, 0.04166667],\n",
       "       [0.01282051, 0.06038647],\n",
       "       [0.00241546, 0.05411255],\n",
       "       [0.03333333, 0.09259259],\n",
       "       [0.00909091, 0.03174603],\n",
       "       [0.01948052, 0.06038647],\n",
       "       [0.00196078, 0.07142857],\n",
       "       [0.        , 0.03125   ],\n",
       "       [0.0037037 , 0.01764706],\n",
       "       [0.01612903, 0.05060729],\n",
       "       [0.        , 0.03636364],\n",
       "       [0.00285714, 0.03333333],\n",
       "       [0.00574713, 0.03333333],\n",
       "       [0.00574713, 0.05411255],\n",
       "       [0.00793651, 0.01785714],\n",
       "       [0.03333333, 0.05172414],\n",
       "       [0.00196078, 0.05128205],\n",
       "       [0.01041667, 0.03333333],\n",
       "       [0.        , 0.02571429],\n",
       "       [0.        , 0.05128205],\n",
       "       [0.01785714, 0.00793651],\n",
       "       [0.01785714, 0.08181818],\n",
       "       [0.03333333, 0.05172414],\n",
       "       [0.        , 0.01764706],\n",
       "       [0.00202429, 0.01612903],\n",
       "       [0.02173913, 0.01821862],\n",
       "       [0.01612903, 0.        ],\n",
       "       [0.        , 0.04166667],\n",
       "       [0.01041667, 0.03333333],\n",
       "       [0.        , 0.01612903],\n",
       "       [0.01821862, 0.03333333]])"
      ]
     },
     "execution_count": 21,
     "metadata": {},
     "output_type": "execute_result"
    }
   ],
   "source": [
    "IGp = fit(X_train, y_train)\n",
    "IGp"
   ]
  },
  {
   "cell_type": "code",
   "execution_count": 22,
   "metadata": {},
   "outputs": [
    {
     "data": {
      "text/plain": [
       "9"
      ]
     },
     "execution_count": 22,
     "metadata": {},
     "output_type": "execute_result"
    }
   ],
   "source": [
    "np.argmax(IGp)"
   ]
  },
  {
   "cell_type": "code",
   "execution_count": 23,
   "metadata": {},
   "outputs": [
    {
     "data": {
      "text/plain": [
       "1"
      ]
     },
     "execution_count": 23,
     "metadata": {},
     "output_type": "execute_result"
    }
   ],
   "source": [
    "# どの特徴量(何列目)か？\n",
    "column_index = np.argmax(IGp) % ds_simple2[\"X\"].shape[1]\n",
    "column_index"
   ]
  },
  {
   "cell_type": "code",
   "execution_count": 24,
   "metadata": {},
   "outputs": [
    {
     "data": {
      "text/plain": [
       "4.5718"
      ]
     },
     "execution_count": 24,
     "metadata": {},
     "output_type": "execute_result"
    }
   ],
   "source": [
    "test = X.flatten()\n",
    "threshold = test[np.argmax(IGp)]\n",
    "threshold\n"
   ]
  },
  {
   "cell_type": "markdown",
   "metadata": {},
   "source": [
    "## 【問題4】推定"
   ]
  },
  {
   "cell_type": "markdown",
   "metadata": {},
   "source": [
    "推定する仕組みを実装してください。ScratchDecesionTreeClassifierDepth1クラスの雛形に含まれるpredictメソッドに書き加えてください。\n",
    "\n",
    "\n",
    "入力されたデータの値を学習した条件で判定していき、どの葉ノードに到達するかを見ます。葉ノードにはクラスが記録されているので、これが推定値となります。"
   ]
  },
  {
   "cell_type": "code",
   "execution_count": 25,
   "metadata": {},
   "outputs": [],
   "source": [
    "def predict(X, threshold, column_index):\n",
    "    \"\"\"\n",
    "    決定木分類器を使いラベルを推定する\n",
    "    \"\"\"\n",
    "\n",
    "    Xy_left = []\n",
    "    Xy_right = []\n",
    "    left_list = []\n",
    "    right_list = []\n",
    "    \n",
    "    IGp = np.zeros(X.shape[0] * X.shape[1]).reshape(X.shape[0], X.shape[1])\n",
    "    \n",
    "    # 特徴量の値をループさせ、閾値を設定する\n",
    "    # k:特徴量Index\n",
    "    # i:閾値Index\n",
    "    # j:比較Index\n",
    "\n",
    "    y_pred =np.zeros(X.shape[0]).reshape(-1,1)\n",
    "    \n",
    "    for i in range(X.shape[0]):\n",
    "        if X[i,column_index] < threshold:\n",
    "            y_pred[i] = 0\n",
    "            \n",
    "        else:\n",
    "            y_pred[i] = 1\n",
    "\n",
    "    return y_pred\n"
   ]
  },
  {
   "cell_type": "code",
   "execution_count": 26,
   "metadata": {},
   "outputs": [
    {
     "data": {
      "text/plain": [
       "array([[1.],\n",
       "       [0.],\n",
       "       [0.],\n",
       "       [1.],\n",
       "       [0.],\n",
       "       [0.],\n",
       "       [0.],\n",
       "       [0.]])"
      ]
     },
     "execution_count": 26,
     "metadata": {},
     "output_type": "execute_result"
    }
   ],
   "source": [
    "y_pred = predict(X_test, threshold, column_index)\n",
    "y_pred"
   ]
  },
  {
   "cell_type": "code",
   "execution_count": 27,
   "metadata": {},
   "outputs": [
    {
     "data": {
      "text/html": [
       "<div>\n",
       "<style scoped>\n",
       "    .dataframe tbody tr th:only-of-type {\n",
       "        vertical-align: middle;\n",
       "    }\n",
       "\n",
       "    .dataframe tbody tr th {\n",
       "        vertical-align: top;\n",
       "    }\n",
       "\n",
       "    .dataframe thead th {\n",
       "        text-align: right;\n",
       "    }\n",
       "</style>\n",
       "<table border=\"1\" class=\"dataframe\">\n",
       "  <thead>\n",
       "    <tr style=\"text-align: right;\">\n",
       "      <th></th>\n",
       "      <th>0</th>\n",
       "      <th>1</th>\n",
       "      <th>accuracy</th>\n",
       "      <th>macro avg</th>\n",
       "      <th>weighted avg</th>\n",
       "    </tr>\n",
       "  </thead>\n",
       "  <tbody>\n",
       "    <tr>\n",
       "      <th>precision</th>\n",
       "      <td>0.50</td>\n",
       "      <td>0.500000</td>\n",
       "      <td>0.5</td>\n",
       "      <td>0.500000</td>\n",
       "      <td>0.500000</td>\n",
       "    </tr>\n",
       "    <tr>\n",
       "      <th>recall</th>\n",
       "      <td>0.75</td>\n",
       "      <td>0.250000</td>\n",
       "      <td>0.5</td>\n",
       "      <td>0.500000</td>\n",
       "      <td>0.500000</td>\n",
       "    </tr>\n",
       "    <tr>\n",
       "      <th>f1-score</th>\n",
       "      <td>0.60</td>\n",
       "      <td>0.333333</td>\n",
       "      <td>0.5</td>\n",
       "      <td>0.466667</td>\n",
       "      <td>0.466667</td>\n",
       "    </tr>\n",
       "    <tr>\n",
       "      <th>support</th>\n",
       "      <td>4.00</td>\n",
       "      <td>4.000000</td>\n",
       "      <td>0.5</td>\n",
       "      <td>8.000000</td>\n",
       "      <td>8.000000</td>\n",
       "    </tr>\n",
       "  </tbody>\n",
       "</table>\n",
       "</div>"
      ],
      "text/plain": [
       "              0         1  accuracy  macro avg  weighted avg\n",
       "precision  0.50  0.500000       0.5   0.500000      0.500000\n",
       "recall     0.75  0.250000       0.5   0.500000      0.500000\n",
       "f1-score   0.60  0.333333       0.5   0.466667      0.466667\n",
       "support    4.00  4.000000       0.5   8.000000      8.000000"
      ]
     },
     "metadata": {},
     "output_type": "display_data"
    }
   ],
   "source": [
    "# 評価\n",
    "cr_DT = classification_report(y_test, y_pred, output_dict=True)\n",
    "\n",
    "# pandas.DataFrameへ変換\n",
    "df_cr_DT = pd.DataFrame(cr_DT)\n",
    "display(df_cr_DT)"
   ]
  },
  {
   "cell_type": "code",
   "execution_count": null,
   "metadata": {},
   "outputs": [],
   "source": []
  },
  {
   "cell_type": "markdown",
   "metadata": {},
   "source": [
    "## ここまでをクラスにまとめる"
   ]
  },
  {
   "cell_type": "markdown",
   "metadata": {},
   "source": [
    "## 雛形"
   ]
  },
  {
   "cell_type": "code",
   "execution_count": 28,
   "metadata": {},
   "outputs": [],
   "source": [
    "import numpy as np\n",
    "\n",
    "class ScratchDecesionTreeClassifierDepth1():\n",
    "    \"\"\"\n",
    "    深さ1の決定木分類器のスクラッチ実装\n",
    "\n",
    "    Parameters\n",
    "    ----------\n",
    "    verbose : bool\n",
    "      学習過程を出力する場合はTrue\n",
    "    \"\"\"\n",
    "    def __init__(self, verbose=True):\n",
    "        # ハイパーパラメータを属性として記録\n",
    "        self.verbose = verbose\n",
    "        \n",
    "        self.threshold = 0\n",
    "        self.feature_index = 0\n",
    "        \n",
    "    def fit(self, X, y):\n",
    "        \"\"\"\n",
    "        決定木分類器を学習する\n",
    "        Parameters\n",
    "        ----------\n",
    "        X : 次の形のndarray, shape (n_samples, n_features)\n",
    "            訓練データの特徴量\n",
    "        y : 次の形のndarray, shape (n_samples, )\n",
    "            訓練データの正解値\n",
    "        \"\"\"\n",
    "        Xy = np.concatenate([X, y], axis = 1)\n",
    "        Xy_left = []\n",
    "        Xy_right = []\n",
    "        left_list = []\n",
    "        right_list = []\n",
    "        \n",
    "        IGp = np.zeros(X.shape[0] * X.shape[1]).reshape(X.shape[0], X.shape[1])\n",
    "\n",
    "\n",
    "        # 特徴量の値をループさせ、閾値を設定する\n",
    "        # k:特徴量Index\n",
    "        # i:閾値Index\n",
    "        # j:比較Index\n",
    "        for k in range(X.shape[1]):\n",
    "            for i in range(Xy.shape[0]):\n",
    "                left_list = []\n",
    "                right_list = []\n",
    "                for j in range(Xy.shape[0]):\n",
    "                    if Xy[j,k] < Xy[i,k]:\n",
    "                        left_list.append(Xy[j])\n",
    "                    else:\n",
    "                        right_list.append(Xy[j])\n",
    "\n",
    "\n",
    "                if len(left_list) == 0 or len(right_list) == 0:\n",
    "                    print(\"★★★　k={}, i={}, j={}, ZERO Split  continue\".format(k, i, j))            \n",
    "                    continue\n",
    "\n",
    "\n",
    "                Xy_left = np.array(left_list).reshape(-1, Xy.shape[1])\n",
    "                Xy_right = np.array(right_list).reshape(-1, Xy.shape[1])\n",
    "\n",
    "                left_sample = np.array([ np.count_nonzero(Xy_left[:,-1] == 0, axis=0), np.count_nonzero(Xy_left[:,-1] == 1, axis=0)])\n",
    "                right_sample = np.array([ np.count_nonzero(Xy_right[:,-1] == 0, axis=0), np.count_nonzero(Xy_right[:,-1] == 1, axis=0)])\n",
    "                all_sample = np.array([np.count_nonzero(Xy_left[:,-1] == 0, axis=0) +  np.count_nonzero(Xy_right[:,-1] == 0, axis=0), \n",
    "                                      np.count_nonzero(Xy_left[:,-1] == 1, axis=0) +  np.count_nonzero(Xy_right[:,-1] == 1, axis=0)])\n",
    "\n",
    "                IGp[i, k] = self._information_gain(all_sample, left_sample, right_sample)\n",
    "                \n",
    "                if self.verbose:\n",
    "                    #verboseをTrueにした際は学習過程を出力               \n",
    "                    print(\"k={}, i={}, j={}, l_sample={}, r_sample={}, a_sample={}, IGp = {}\".format(k, i, j, left_sample, right_sample, all_sample, IGp[i, k]))            \n",
    "\n",
    "        \n",
    "        # どの特徴量(何列目)か？\n",
    "        self.feature_index = np.argmax(IGp) % ds_simple2[\"X\"].shape[1]\n",
    "\n",
    "        # 最終的な閾値は\n",
    "        #IGp = IGp.flatten()\n",
    "\n",
    "        test = X.flatten()\n",
    "        self.threshold = test[np.argmax(IGp)]\n",
    "        \n",
    "        print(\"★★★self.feature_index = {}, self.threshold = {}\".format(self.feature_index, self.threshold))\n",
    "\n",
    "        return IGp\n",
    "\n",
    "\n",
    "    \n",
    "    def predict(self, X):\n",
    "        \"\"\"\n",
    "        決定木分類器を使いラベルを推定する\n",
    "        \"\"\"\n",
    "\n",
    "        # 特徴量の値をループさせ、閾値を設定する\n",
    "        # k:特徴量Index\n",
    "        # i:閾値Index\n",
    "        # j:比較Index\n",
    "\n",
    "        y_pred =np.zeros(X.shape[0]).reshape(-1,1)\n",
    "\n",
    "        for i in range(X.shape[0]):\n",
    "            if X[i,self.feature_index] < self.threshold:\n",
    "                y_pred[i] = 0\n",
    "                \n",
    "            else:\n",
    "                y_pred[i] = 1\n",
    "\n",
    "        return y_pred\n",
    "\n",
    "    \n",
    "    def gini(n):\n",
    "        '''\n",
    "        Parameters\n",
    "        ----------\n",
    "        n : 次の形のndarray, shape (n_samples, )\n",
    "            各クラスのサンプル数（class1, class2, ・・・）\n",
    "        '''\n",
    "\n",
    "        gini = 1 - np.sum((n / np.sum(n))**2)\n",
    "\n",
    "        return gini\n",
    "\n",
    "    \n",
    "    def _information_gain(self, p_data, left_data, right_data):\n",
    "        I_left = ( np.sum(left_data)/( np.sum(left_data + right_data)) ) * gini(left_data)\n",
    "        I_right = ( np.sum(right_data)/( np.sum(left_data + right_data)) ) * gini(right_data)\n",
    "\n",
    "        IG = gini(p_data) -(I_left + I_right)\n",
    "\n",
    "        return IG\n",
    "\n"
   ]
  },
  {
   "cell_type": "markdown",
   "metadata": {},
   "source": [
    "## 【問題5】学習と推定"
   ]
  },
  {
   "cell_type": "markdown",
   "metadata": {},
   "source": [
    "機械学習スクラッチ入門のSprintで用意したシンプルデータセット2の2値分類に対してスクラッチ実装の学習と推定を行なってください。\n",
    "\n",
    "scikit-learnによる実装と比べ、正しく動いているかを確認してください。\n",
    "\n",
    "AccuracyやPrecision、Recallなどの指標値はscikit-learnを使用してください。"
   ]
  },
  {
   "cell_type": "code",
   "execution_count": 29,
   "metadata": {},
   "outputs": [
    {
     "name": "stdout",
     "output_type": "stream",
     "text": [
      "k=0, i=0, j=31, l_sample=[5 6], r_sample=[11 10], a_sample=[16 16], IGp = 0.0021645021645021467\n",
      "k=0, i=1, j=31, l_sample=[13 12], r_sample=[3 4], a_sample=[16 16], IGp = 0.0028571428571428914\n",
      "k=0, i=2, j=31, l_sample=[4 2], r_sample=[12 14], a_sample=[16 16], IGp = 0.01282051282051283\n",
      "k=0, i=3, j=31, l_sample=[5 4], r_sample=[11 12], a_sample=[16 16], IGp = 0.0024154589371980784\n",
      "k=0, i=4, j=31, l_sample=[12  8], r_sample=[4 8], a_sample=[16 16], IGp = 0.033333333333333326\n",
      "k=0, i=5, j=31, l_sample=[12 10], r_sample=[4 6], a_sample=[16 16], IGp = 0.009090909090909038\n",
      "k=0, i=6, j=31, l_sample=[12  9], r_sample=[4 7], a_sample=[16 16], IGp = 0.01948051948051943\n",
      "k=0, i=7, j=31, l_sample=[8 7], r_sample=[8 9], a_sample=[16 16], IGp = 0.0019607843137254832\n",
      "★★★　k=0, i=8, j=31, ZERO Split  continue\n",
      "k=0, i=9, j=31, l_sample=[14 13], r_sample=[2 3], a_sample=[16 16], IGp = 0.0037037037037036535\n",
      "k=0, i=10, j=31, l_sample=[16 15], r_sample=[0 1], a_sample=[16 16], IGp = 0.016129032258064502\n",
      "k=0, i=11, j=31, l_sample=[8 8], r_sample=[8 8], a_sample=[16 16], IGp = 0.0\n",
      "k=0, i=12, j=31, l_sample=[4 3], r_sample=[12 13], a_sample=[16 16], IGp = 0.0028571428571428914\n",
      "k=0, i=13, j=31, l_sample=[2 1], r_sample=[14 15], a_sample=[16 16], IGp = 0.005747126436781602\n",
      "k=0, i=14, j=31, l_sample=[15 14], r_sample=[1 2], a_sample=[16 16], IGp = 0.005747126436781602\n",
      "k=0, i=15, j=31, l_sample=[10  8], r_sample=[6 8], a_sample=[16 16], IGp = 0.007936507936507908\n",
      "k=0, i=16, j=31, l_sample=[4 1], r_sample=[12 15], a_sample=[16 16], IGp = 0.03333333333333338\n",
      "k=0, i=17, j=31, l_sample=[9 8], r_sample=[7 8], a_sample=[16 16], IGp = 0.0019607843137254832\n",
      "k=0, i=18, j=31, l_sample=[13 11], r_sample=[3 5], a_sample=[16 16], IGp = 0.010416666666666574\n",
      "k=0, i=19, j=31, l_sample=[6 6], r_sample=[10 10], a_sample=[16 16], IGp = 0.0\n",
      "k=0, i=20, j=31, l_sample=[5 5], r_sample=[11 11], a_sample=[16 16], IGp = 0.0\n",
      "k=0, i=21, j=31, l_sample=[3 1], r_sample=[13 15], a_sample=[16 16], IGp = 0.01785714285714285\n",
      "k=0, i=22, j=31, l_sample=[15 13], r_sample=[1 3], a_sample=[16 16], IGp = 0.01785714285714285\n",
      "k=0, i=23, j=31, l_sample=[16 14], r_sample=[0 2], a_sample=[16 16], IGp = 0.033333333333333326\n",
      "k=0, i=24, j=31, l_sample=[13 13], r_sample=[3 3], a_sample=[16 16], IGp = 0.0\n",
      "k=0, i=25, j=31, l_sample=[7 6], r_sample=[ 9 10], a_sample=[16 16], IGp = 0.0020242914979756166\n",
      "k=0, i=26, j=31, l_sample=[13 10], r_sample=[3 6], a_sample=[16 16], IGp = 0.021739130434782594\n",
      "k=0, i=27, j=31, l_sample=[0 1], r_sample=[16 15], a_sample=[16 16], IGp = 0.016129032258064502\n",
      "k=0, i=28, j=31, l_sample=[7 7], r_sample=[9 9], a_sample=[16 16], IGp = 0.0\n",
      "k=0, i=29, j=31, l_sample=[5 3], r_sample=[11 13], a_sample=[16 16], IGp = 0.010416666666666574\n",
      "k=0, i=30, j=31, l_sample=[1 1], r_sample=[15 15], a_sample=[16 16], IGp = 0.0\n",
      "k=0, i=31, j=31, l_sample=[11  8], r_sample=[5 8], a_sample=[16 16], IGp = 0.018218623481781382\n",
      "k=1, i=0, j=31, l_sample=[14 11], r_sample=[2 5], a_sample=[16 16], IGp = 0.0257142857142858\n",
      "k=1, i=1, j=31, l_sample=[14 10], r_sample=[2 6], a_sample=[16 16], IGp = 0.04166666666666674\n",
      "k=1, i=2, j=31, l_sample=[7 2], r_sample=[ 9 14], a_sample=[16 16], IGp = 0.06038647342995179\n",
      "k=1, i=3, j=31, l_sample=[8 3], r_sample=[ 8 13], a_sample=[16 16], IGp = 0.05411255411255411\n",
      "k=1, i=4, j=31, l_sample=[16 11], r_sample=[0 5], a_sample=[16 16], IGp = 0.0925925925925925\n",
      "k=1, i=5, j=31, l_sample=[11  7], r_sample=[5 9], a_sample=[16 16], IGp = 0.031746031746031855\n",
      "k=1, i=6, j=31, l_sample=[14  9], r_sample=[2 7], a_sample=[16 16], IGp = 0.06038647342995179\n",
      "k=1, i=7, j=31, l_sample=[16 12], r_sample=[0 4], a_sample=[16 16], IGp = 0.07142857142857134\n",
      "k=1, i=8, j=31, l_sample=[10  6], r_sample=[ 6 10], a_sample=[16 16], IGp = 0.03125\n",
      "k=1, i=9, j=31, l_sample=[9 6], r_sample=[ 7 10], a_sample=[16 16], IGp = 0.01764705882352946\n",
      "k=1, i=10, j=31, l_sample=[12  7], r_sample=[4 9], a_sample=[16 16], IGp = 0.05060728744939269\n",
      "k=1, i=11, j=31, l_sample=[7 3], r_sample=[ 9 13], a_sample=[16 16], IGp = 0.036363636363636376\n",
      "k=1, i=12, j=31, l_sample=[12  8], r_sample=[4 8], a_sample=[16 16], IGp = 0.033333333333333326\n",
      "k=1, i=13, j=31, l_sample=[2 0], r_sample=[14 16], a_sample=[16 16], IGp = 0.033333333333333326\n",
      "k=1, i=14, j=31, l_sample=[13  8], r_sample=[3 8], a_sample=[16 16], IGp = 0.05411255411255411\n",
      "k=1, i=15, j=31, l_sample=[3 1], r_sample=[13 15], a_sample=[16 16], IGp = 0.01785714285714285\n",
      "k=1, i=16, j=31, l_sample=[3 0], r_sample=[13 16], a_sample=[16 16], IGp = 0.051724137931034475\n",
      "k=1, i=17, j=31, l_sample=[15 11], r_sample=[1 5], a_sample=[16 16], IGp = 0.051282051282051266\n",
      "k=1, i=18, j=31, l_sample=[8 4], r_sample=[ 8 12], a_sample=[16 16], IGp = 0.033333333333333326\n",
      "k=1, i=19, j=31, l_sample=[5 2], r_sample=[11 14], a_sample=[16 16], IGp = 0.0257142857142858\n",
      "k=1, i=20, j=31, l_sample=[5 1], r_sample=[11 15], a_sample=[16 16], IGp = 0.051282051282051266\n",
      "k=1, i=21, j=31, l_sample=[8 6], r_sample=[ 8 10], a_sample=[16 16], IGp = 0.007936507936507908\n",
      "k=1, i=22, j=31, l_sample=[14  8], r_sample=[2 8], a_sample=[16 16], IGp = 0.0818181818181819\n",
      "k=1, i=23, j=31, l_sample=[16 13], r_sample=[0 3], a_sample=[16 16], IGp = 0.051724137931034475\n",
      "k=1, i=24, j=31, l_sample=[10  7], r_sample=[6 9], a_sample=[16 16], IGp = 0.01764705882352946\n",
      "k=1, i=25, j=31, l_sample=[16 15], r_sample=[0 1], a_sample=[16 16], IGp = 0.016129032258064502\n",
      "k=1, i=26, j=31, l_sample=[8 5], r_sample=[ 8 11], a_sample=[16 16], IGp = 0.018218623481781382\n",
      "★★★　k=1, i=27, j=31, ZERO Split  continue\n",
      "k=1, i=28, j=31, l_sample=[6 2], r_sample=[10 14], a_sample=[16 16], IGp = 0.04166666666666674\n",
      "k=1, i=29, j=31, l_sample=[16 14], r_sample=[0 2], a_sample=[16 16], IGp = 0.033333333333333326\n",
      "k=1, i=30, j=31, l_sample=[1 0], r_sample=[15 16], a_sample=[16 16], IGp = 0.016129032258064502\n",
      "k=1, i=31, j=31, l_sample=[4 1], r_sample=[12 15], a_sample=[16 16], IGp = 0.03333333333333338\n",
      "★★★self.feature_index = 1, self.threshold = 9.0162\n"
     ]
    }
   ],
   "source": [
    "# 決定木\n",
    "ScratchDT = ScratchDecesionTreeClassifierDepth1()\n",
    "\n",
    "# 学習\n",
    "clf = ScratchDT.fit(X_train, y_train)"
   ]
  },
  {
   "cell_type": "code",
   "execution_count": 30,
   "metadata": {},
   "outputs": [
    {
     "name": "stderr",
     "output_type": "stream",
     "text": [
      "C:\\Users\\Takatoshi\\Anaconda3\\lib\\site-packages\\sklearn\\metrics\\_classification.py:1272: UndefinedMetricWarning: Precision and F-score are ill-defined and being set to 0.0 in labels with no predicted samples. Use `zero_division` parameter to control this behavior.\n",
      "  _warn_prf(average, modifier, msg_start, len(result))\n"
     ]
    },
    {
     "data": {
      "text/html": [
       "<div>\n",
       "<style scoped>\n",
       "    .dataframe tbody tr th:only-of-type {\n",
       "        vertical-align: middle;\n",
       "    }\n",
       "\n",
       "    .dataframe tbody tr th {\n",
       "        vertical-align: top;\n",
       "    }\n",
       "\n",
       "    .dataframe thead th {\n",
       "        text-align: right;\n",
       "    }\n",
       "</style>\n",
       "<table border=\"1\" class=\"dataframe\">\n",
       "  <thead>\n",
       "    <tr style=\"text-align: right;\">\n",
       "      <th></th>\n",
       "      <th>0</th>\n",
       "      <th>1</th>\n",
       "      <th>accuracy</th>\n",
       "      <th>macro avg</th>\n",
       "      <th>weighted avg</th>\n",
       "    </tr>\n",
       "  </thead>\n",
       "  <tbody>\n",
       "    <tr>\n",
       "      <th>precision</th>\n",
       "      <td>0.500000</td>\n",
       "      <td>0.0</td>\n",
       "      <td>0.5</td>\n",
       "      <td>0.250000</td>\n",
       "      <td>0.250000</td>\n",
       "    </tr>\n",
       "    <tr>\n",
       "      <th>recall</th>\n",
       "      <td>1.000000</td>\n",
       "      <td>0.0</td>\n",
       "      <td>0.5</td>\n",
       "      <td>0.500000</td>\n",
       "      <td>0.500000</td>\n",
       "    </tr>\n",
       "    <tr>\n",
       "      <th>f1-score</th>\n",
       "      <td>0.666667</td>\n",
       "      <td>0.0</td>\n",
       "      <td>0.5</td>\n",
       "      <td>0.333333</td>\n",
       "      <td>0.333333</td>\n",
       "    </tr>\n",
       "    <tr>\n",
       "      <th>support</th>\n",
       "      <td>4.000000</td>\n",
       "      <td>4.0</td>\n",
       "      <td>0.5</td>\n",
       "      <td>8.000000</td>\n",
       "      <td>8.000000</td>\n",
       "    </tr>\n",
       "  </tbody>\n",
       "</table>\n",
       "</div>"
      ],
      "text/plain": [
       "                  0    1  accuracy  macro avg  weighted avg\n",
       "precision  0.500000  0.0       0.5   0.250000      0.250000\n",
       "recall     1.000000  0.0       0.5   0.500000      0.500000\n",
       "f1-score   0.666667  0.0       0.5   0.333333      0.333333\n",
       "support    4.000000  4.0       0.5   8.000000      8.000000"
      ]
     },
     "metadata": {},
     "output_type": "display_data"
    }
   ],
   "source": [
    "# 推定\n",
    "y_pred_ScratchDT = ScratchDT.predict(X_test)\n",
    "\n",
    "# 評価\n",
    "cr_DT = classification_report(y_test, y_pred_ScratchDT, output_dict=True)\n",
    "\n",
    "# pandas.DataFrameへ変換\n",
    "df_cr_DT = pd.DataFrame(cr_DT)\n",
    "display(df_cr_DT)"
   ]
  },
  {
   "cell_type": "markdown",
   "metadata": {},
   "source": [
    "## 【問題6】決定領域の可視化"
   ]
  },
  {
   "cell_type": "markdown",
   "metadata": {},
   "source": [
    "決定領域を可視化してください。"
   ]
  },
  {
   "cell_type": "code",
   "execution_count": 31,
   "metadata": {},
   "outputs": [],
   "source": [
    "import matplotlib.pyplot as plt\n",
    "from matplotlib.colors import ListedColormap\n",
    "import matplotlib.patches as mpatches\n",
    "def decision_region(X, y, model, step=0.01, title='decision region', xlabel='xlabel', ylabel='ylabel', target_names=['versicolor', 'virginica']):\n",
    "    \"\"\"\n",
    "    2値分類を2次元の特徴量で学習したモデルの決定領域を描く。\n",
    "    背景の色が学習したモデルによる推定値から描画される。\n",
    "    散布図の点は訓練データまたは検証データである。\n",
    "\n",
    "    Parameters\n",
    "    ----------------\n",
    "    X : ndarray, shape(n_samples, 2)\n",
    "        特徴量\n",
    "    y : ndarray, shape(n_samples,)\n",
    "        ラベル\n",
    "    model : object\n",
    "        学習したモデルのインスンタスを入れる\n",
    "    step : float, (default : 0.1)\n",
    "        推定値を計算する間隔を設定する\n",
    "    title : str\n",
    "        グラフのタイトルの文章を与える\n",
    "    xlabel, ylabel : str\n",
    "        軸ラベルの文章を与える\n",
    "    target_names= : list of str\n",
    "        凡例の一覧を与える\n",
    "    \"\"\"\n",
    "    # setting\n",
    "    scatter_color = ['red', 'blue']\n",
    "    contourf_color = ['pink', 'skyblue']\n",
    "    n_class = 2\n",
    "    \n",
    "    # pred\n",
    "    mesh_f0, mesh_f1  = np.meshgrid(np.arange(np.min(X[:,0])-0.5, np.max(X[:,0])+0.5, step), np.arange(np.min(X[:,1])-0.5, np.max(X[:,1])+0.5, step))\n",
    "    mesh = np.c_[np.ravel(mesh_f0),np.ravel(mesh_f1)]\n",
    "    y_pred = model.predict(mesh).reshape(mesh_f0.shape)\n",
    "    \n",
    "    # plot\n",
    "    plt.title(title)\n",
    "    plt.xlabel(xlabel)\n",
    "    plt.ylabel(ylabel)\n",
    "    plt.contourf(mesh_f0, mesh_f1, y_pred, n_class-1, cmap=ListedColormap(contourf_color))\n",
    "    plt.contour(mesh_f0, mesh_f1, y_pred, n_class-1, colors='y', linewidths=3, alpha=0.5)\n",
    "    for i, target in enumerate(set(y)):\n",
    "        plt.scatter(X[y==target][:, 0], X[y==target][:, 1], s=80, color=scatter_color[i], label=target_names[i], marker='o')\n",
    "        \n",
    "    patches = [mpatches.Patch(color=scatter_color[i], label=target_names[i]) for i in range(n_class)]\n",
    "    plt.legend(handles=patches)\n",
    "    plt.legend()\n",
    "    plt.show()"
   ]
  },
  {
   "cell_type": "code",
   "execution_count": 32,
   "metadata": {},
   "outputs": [
    {
     "data": {
      "image/png": "[encoded data removed]",
      "text/plain": [
       "<Figure size 432x288 with 1 Axes>"
      ]
     },
     "metadata": {
      "needs_background": "light"
     },
     "output_type": "display_data"
    }
   ],
   "source": [
    "# 可視化\n",
    "target_names = ['sample1','sample2']\n",
    "decision_region(X_train, y_train.flatten(), ScratchDT, target_names = target_names, title='decision region of ScratchDecisionTreeClassifier', xlabel='X0', ylabel='X1')"
   ]
  },
  {
   "cell_type": "markdown",
   "metadata": {},
   "source": [
    "### sklearnと比較"
   ]
  },
  {
   "cell_type": "code",
   "execution_count": 33,
   "metadata": {},
   "outputs": [
    {
     "name": "stderr",
     "output_type": "stream",
     "text": [
      "C:\\Users\\Takatoshi\\Anaconda3\\lib\\site-packages\\sklearn\\metrics\\_classification.py:1272: UndefinedMetricWarning: Precision and F-score are ill-defined and being set to 0.0 in labels with no predicted samples. Use `zero_division` parameter to control this behavior.\n",
      "  _warn_prf(average, modifier, msg_start, len(result))\n"
     ]
    },
    {
     "data": {
      "text/html": [
       "<div>\n",
       "<style scoped>\n",
       "    .dataframe tbody tr th:only-of-type {\n",
       "        vertical-align: middle;\n",
       "    }\n",
       "\n",
       "    .dataframe tbody tr th {\n",
       "        vertical-align: top;\n",
       "    }\n",
       "\n",
       "    .dataframe thead th {\n",
       "        text-align: right;\n",
       "    }\n",
       "</style>\n",
       "<table border=\"1\" class=\"dataframe\">\n",
       "  <thead>\n",
       "    <tr style=\"text-align: right;\">\n",
       "      <th></th>\n",
       "      <th>0</th>\n",
       "      <th>1</th>\n",
       "      <th>accuracy</th>\n",
       "      <th>macro avg</th>\n",
       "      <th>weighted avg</th>\n",
       "    </tr>\n",
       "  </thead>\n",
       "  <tbody>\n",
       "    <tr>\n",
       "      <th>precision</th>\n",
       "      <td>0.500000</td>\n",
       "      <td>0.0</td>\n",
       "      <td>0.5</td>\n",
       "      <td>0.250000</td>\n",
       "      <td>0.250000</td>\n",
       "    </tr>\n",
       "    <tr>\n",
       "      <th>recall</th>\n",
       "      <td>1.000000</td>\n",
       "      <td>0.0</td>\n",
       "      <td>0.5</td>\n",
       "      <td>0.500000</td>\n",
       "      <td>0.500000</td>\n",
       "    </tr>\n",
       "    <tr>\n",
       "      <th>f1-score</th>\n",
       "      <td>0.666667</td>\n",
       "      <td>0.0</td>\n",
       "      <td>0.5</td>\n",
       "      <td>0.333333</td>\n",
       "      <td>0.333333</td>\n",
       "    </tr>\n",
       "    <tr>\n",
       "      <th>support</th>\n",
       "      <td>4.000000</td>\n",
       "      <td>4.0</td>\n",
       "      <td>0.5</td>\n",
       "      <td>8.000000</td>\n",
       "      <td>8.000000</td>\n",
       "    </tr>\n",
       "  </tbody>\n",
       "</table>\n",
       "</div>"
      ],
      "text/plain": [
       "                  0    1  accuracy  macro avg  weighted avg\n",
       "precision  0.500000  0.0       0.5   0.250000      0.250000\n",
       "recall     1.000000  0.0       0.5   0.500000      0.500000\n",
       "f1-score   0.666667  0.0       0.5   0.333333      0.333333\n",
       "support    4.000000  4.0       0.5   8.000000      8.000000"
      ]
     },
     "metadata": {},
     "output_type": "display_data"
    }
   ],
   "source": [
    "from sklearn.tree import DecisionTreeClassifier\n",
    "\n",
    "# 決定木\n",
    "model_DT = DecisionTreeClassifier(criterion =\"gini\", max_depth = 1, max_leaf_nodes = 2)\n",
    "\n",
    "# 学習\n",
    "clf = model_DT.fit(X_train, y_train)\n",
    "\n",
    "# 推定\n",
    "y_pred_DT = model_DT.predict(X_test)\n",
    "\n",
    "# 評価\n",
    "cr_DT = classification_report(y_test, y_pred_DT, output_dict=True)\n",
    "\n",
    "# pandas.DataFrameへ変換\n",
    "df_cr_DT = pd.DataFrame(cr_DT)\n",
    "display(df_cr_DT)"
   ]
  },
  {
   "cell_type": "code",
   "execution_count": 34,
   "metadata": {},
   "outputs": [
    {
     "data": {
      "image/png": "[encoded data removed]",
      "text/plain": [
       "<Figure size 432x288 with 1 Axes>"
      ]
     },
     "metadata": {
      "needs_background": "light"
     },
     "output_type": "display_data"
    }
   ],
   "source": [
    "# 可視化\n",
    "decision_region(X_train, y_train.flatten(), model_DT, title='decision region of ScratchDecisionTreeClassifier', xlabel='X0', ylabel='X1')"
   ]
  },
  {
   "cell_type": "code",
   "execution_count": 35,
   "metadata": {},
   "outputs": [],
   "source": [
    "from sklearn import tree\n",
    "estimators = model_DT.max_features_\n",
    "file_name = \"tree_visualization.png\"\n",
    "out_file = \"tree_visualization.dot\"\n",
    "dot_data = tree.export_graphviz(model_DT, # 決定木オブジェクトを一つ指定する\n",
    "                                out_file = None, # ファイルは介さずにGraphvizにdot言語データを渡すのでNone\n",
    "                                filled=True, # Trueにすると、分岐の際にどちらのノードに多く分類されたのか色で示してくれる\n",
    "                                rounded=True, # Trueにすると、ノードの角を丸く描画する。\n",
    "                                feature_names=[\"class0\", \"class1\"], # これを指定しないとチャート上で特徴量の名前が表示されない\n",
    "                                class_names= [\"class0\", \"class1\"], # これを指定しないとチャート上で分類名が表示されない\n",
    "                                #special_characters=True # 特殊文字を扱えるようにする\n",
    "                                )"
   ]
  },
  {
   "cell_type": "markdown",
   "metadata": {},
   "source": [
    "## 【問題7】（アドバンス課題）深さ2の決定木分類器クラスの作成"
   ]
  },
  {
   "cell_type": "markdown",
   "metadata": {},
   "source": [
    "深さが2の決定木分類器のクラスScratchDecesionTreeClassifierDepth2を作成してください。\n",
    "\n",
    "\n",
    "深さ2とは空間の分割を2回行うことを指します。\n",
    "\n",
    "\n",
    "《ヒント》\n",
    "\n",
    "各ノードをインスタンスとして扱うと、任意の深さへの拡張が行いやすくなります。"
   ]
  },
  {
   "cell_type": "markdown",
   "metadata": {},
   "source": [
    "# 以下、未完成です。"
   ]
  },
  {
   "cell_type": "code",
   "execution_count": 36,
   "metadata": {},
   "outputs": [
    {
     "ename": "SyntaxError",
     "evalue": "invalid syntax (<ipython-input-36-d5d03fed3d1d>, line 144)",
     "output_type": "error",
     "traceback": [
      "\u001b[1;36m  File \u001b[1;32m\"<ipython-input-36-d5d03fed3d1d>\"\u001b[1;36m, line \u001b[1;32m144\u001b[0m\n\u001b[1;33m    def meke_node(self, Xy_left[:,0:Xy_left.shape[1] - 1, max_depth -1 ]):\u001b[0m\n\u001b[1;37m                               ^\u001b[0m\n\u001b[1;31mSyntaxError\u001b[0m\u001b[1;31m:\u001b[0m invalid syntax\n"
     ]
    }
   ],
   "source": [
    "class ScratchDecesionTreeClassifierDepth2():\n",
    "    \"\"\"\n",
    "    深さ1の決定木分類器のスクラッチ実装\n",
    "\n",
    "    Parameters\n",
    "    ----------\n",
    "    verbose : bool\n",
    "      学習過程を出力する場合はTrue\n",
    "    \"\"\"\n",
    "    def __init__(self, verbose=True):\n",
    "        # ハイパーパラメータを属性として記録\n",
    "        self.verbose = verbose\n",
    "        \n",
    "        self.threshold = []\n",
    "        self.feature_index = 0\n",
    "        self.IGp_index_list = []\n",
    "        \n",
    "    '''\n",
    "    def create_DecesionTree(self, X, y, max_depth = 1):\n",
    "        IGp, Xy_left, Xy_right, threshold = self.fit(X, y, max_depth)\n",
    "        \n",
    "        # 推定\n",
    "        y_pred = self.predict(X)\n",
    "    '''\n",
    "        \n",
    "        \n",
    "    def fit(self, X, y, max_depth = 1):\n",
    "        \"\"\"\n",
    "        決定木分類器を学習する\n",
    "        Parameters\n",
    "        ----------\n",
    "        X : 次の形のndarray, shape (n_samples, n_features)\n",
    "            訓練データの特徴量\n",
    "        y : 次の形のndarray, shape (n_samples, )\n",
    "            訓練データの正解値\n",
    "        \"\"\"\n",
    "        Xy = np.concatenate([X, y], axis = 1)\n",
    "        Xy_left = []\n",
    "        Xy_right = []\n",
    "        left_list = []\n",
    "        right_list = []\n",
    "        \n",
    "        IGp = np.zeros(X.shape[0] * X.shape[1]).reshape(X.shape[0], X.shape[1])\n",
    "\n",
    "\n",
    "        # 特徴量の値をループさせ、閾値を設定する\n",
    "        # k:特徴量Index\n",
    "        # i:閾値Index\n",
    "        # j:比較Index\n",
    "        for k in range(X.shape[1]):\n",
    "            for i in range(Xy.shape[0]):\n",
    "                left_list = []\n",
    "                right_list = []\n",
    "                for j in range(Xy.shape[0]):\n",
    "                    if Xy[j,k] < Xy[i,k]:\n",
    "                        left_list.append(Xy[j])\n",
    "                    else:\n",
    "                        right_list.append(Xy[j])\n",
    "\n",
    "\n",
    "                if len(left_list) == 0 or len(right_list) == 0:\n",
    "                    print(\"★★★　k={}, i={}, j={}, ZERO Split  continue\".format(k, i, j))            \n",
    "                    continue\n",
    "\n",
    "\n",
    "                Xy_left = np.array(left_list).reshape(-1, Xy.shape[1])\n",
    "                Xy_right = np.array(right_list).reshape(-1, Xy.shape[1])\n",
    "\n",
    "                left_sample = np.array([ np.count_nonzero(Xy_left[:,-1] == 0, axis=0), np.count_nonzero(Xy_left[:,-1] == 1, axis=0)])\n",
    "                right_sample = np.array([ np.count_nonzero(Xy_right[:,-1] == 0, axis=0), np.count_nonzero(Xy_right[:,-1] == 1, axis=0)])\n",
    "                all_sample = np.array([np.count_nonzero(Xy_left[:,-1] == 0, axis=0) +  np.count_nonzero(Xy_right[:,-1] == 0, axis=0), \n",
    "                                      np.count_nonzero(Xy_left[:,-1] == 1, axis=0) +  np.count_nonzero(Xy_right[:,-1] == 1, axis=0)])\n",
    "\n",
    "                IGp[i, k] = self._information_gain(all_sample, left_sample, right_sample)\n",
    "                \n",
    "                if self.verbose:\n",
    "                    #verboseをTrueにした際は学習過程を出力               \n",
    "                    print(\"k={}, i={}, j={}, l_sample={}, r_sample={}, a_sample={}, IGp = {}\".format(k, i, j, left_sample, right_sample, all_sample, IGp[i, k]))            \n",
    "\n",
    "        \n",
    "        # どの特徴量(何列目)か？\n",
    "        self.feature_index = np.argmax(IGp) % ds_simple2[\"X\"].shape[1]\n",
    "\n",
    "        # 最終的な閾値は\n",
    "        #IGp = IGp.flatten()\n",
    "        self.IGp_index_list.append(np.argmax(IGp))\n",
    "\n",
    "        test = X.flatten()\n",
    "        self.threshold = test[np.argmax(IGp)]\n",
    "        \n",
    "        if max_depth -1 > 0:\n",
    "            fit(Xy_left[:,0:X.shape[1]], Xy_left[:,-1], max_depth - 1)\n",
    "            fit(Xy_right[:,0:X.shape[1]], Xy_right[:,-1], max_depth - 1)\n",
    "        \n",
    "        print(\"★★★self.feature_index = {}, self.threshold = {}\".format(self.feature_index, self.threshold))\n",
    "\n",
    "        return IGp, Xy_left, Xy_right, self.threshold\n",
    "\n",
    "\n",
    "    \n",
    "    def predict(self, X):\n",
    "        \"\"\"\n",
    "        決定木分類器を使いラベルを推定する\n",
    "        \"\"\"\n",
    "\n",
    "        # 特徴量の値をループさせ、閾値を設定する\n",
    "        # k:特徴量Index\n",
    "        # i:閾値Index\n",
    "        # j:比較Index\n",
    "\n",
    "        y_pred =np.zeros(X.shape[0]).reshape(-1,1)\n",
    "\n",
    "        for i in range(X.shape[0]):\n",
    "            if X[i,self.feature_index] < self.threshold:\n",
    "                y_pred[i] = 0\n",
    "                \n",
    "            else:\n",
    "                y_pred[i] = 1\n",
    "\n",
    "        return y_pred\n",
    "\n",
    "    \n",
    "    def gini(n):\n",
    "        '''\n",
    "        Parameters\n",
    "        ----------\n",
    "        n : 次の形のndarray, shape (n_samples, )\n",
    "            各クラスのサンプル数（class1, class2, ・・・）\n",
    "        '''\n",
    "\n",
    "        gini = 1 - np.sum((n / np.sum(n))**2)\n",
    "\n",
    "        return gini\n",
    "\n",
    "    \n",
    "    def _information_gain(self, p_data, left_data, right_data):\n",
    "        I_left = ( np.sum(left_data)/( np.sum(left_data + right_data)) ) * gini(left_data)\n",
    "        I_right = ( np.sum(right_data)/( np.sum(left_data + right_data)) ) * gini(right_data)\n",
    "\n",
    "        IG = gini(p_data) -(I_left + I_right)\n",
    "\n",
    "        return IG\n",
    "\n",
    "    def meke_node(self, Xy_left[:,0:Xy_left.shape[1] - 1, max_depth -1 ]):\n",
    "        pass\n",
    "        "
   ]
  },
  {
   "cell_type": "code",
   "execution_count": null,
   "metadata": {},
   "outputs": [],
   "source": [
    "class DecesionTreeManagement():\n",
    "    def __init__(self, verbose=True):\n",
    "        # ハイパーパラメータを属性として記録\n",
    "        self.verbose = verbose\n",
    "        \n",
    "        self.threshold = []\n",
    "        self.feature_index = 0\n",
    "        self.IGp_index_list = []\n",
    "        \n",
    "    def make_node(self, X, y, max_depth = 1):\n",
    "        node = node()\n",
    "        \n",
    "        return node\n",
    "    \n",
    "    def fit(self, X, y, max_depth = 1):\n",
    "        root_node = make_node(X, y, max_depth)\n",
    "        \n",
    "        # ノード分割\n",
    "        root_node.node_sprit(X, y, max_depth)\n",
    "        \n",
    "    def predict(self, X):\n",
    "        \"\"\"\n",
    "        決定木分類器を使いラベルを推定する\n",
    "        \"\"\"\n",
    "\n",
    "        # 特徴量の値をループさせ、閾値を設定する\n",
    "        # k:特徴量Index\n",
    "        # i:閾値Index\n",
    "        # j:比較Index\n",
    "\n",
    "        #y_pred =np.zeros(X.shape[0]).reshape(-1,1)\n",
    "\n",
    "        '''\n",
    "        for i in range(X.shape[0]):\n",
    "            if X[i,self.feature_index] < self.threshold:\n",
    "                y_pred[i] = 0\n",
    "                \n",
    "            else:\n",
    "                y_pred[i] = 1\n",
    "        '''\n",
    "\n",
    "        #y_pred = X[X[:,,self.feature_index] < self.threshold ]\n",
    "        \n",
    "        \n",
    "        y_pred = np.where(X[ X[:,self.feature_index] < self.threshold ], 0, 1)\n",
    "        \n",
    "        return y_pred\n",
    "\n",
    "class node():\n",
    "    \"\"\"\n",
    "    深さ1の決定木分類器のスクラッチ実装\n",
    "\n",
    "    Parameters\n",
    "    ----------\n",
    "    verbose : bool\n",
    "      学習過程を出力する場合はTrue\n",
    "    \"\"\"\n",
    "# ■■■■■■■■■■■■■■■■■■■■■■■■■■■■■■■■■■■■■■■■■■■■■■■■■■■■■■■\n",
    "    def __init__(self, verbose=True):\n",
    "        # ハイパーパラメータを属性として記録\n",
    "        self.verbose = verbose\n",
    "        \n",
    "        self.threshold = []\n",
    "        self.feature_index = 0\n",
    "        self.IGp_index_list = []\n",
    "        \n",
    "# ■■■■■■■■■■■■■■■■■■■■■■■■■■■■■■■■■■■■■■■■■■■■■■■■■■■■■■■        \n",
    "    def node_split(self, X, y, depth):\n",
    "        \"\"\"\n",
    "        決定木分類器を学習する\n",
    "        Parameters\n",
    "        ----------\n",
    "        X : 次の形のndarray, shape (n_samples, n_features)\n",
    "            訓練データの特徴量\n",
    "        y : 次の形のndarray, shape (n_samples, )\n",
    "            訓練データの正解値\n",
    "        \"\"\"\n",
    "        \n",
    "        if depth == 0:\n",
    "            return\n",
    "        \n",
    "        Xy = np.concatenate([X, y], axis = 1)\n",
    "        Xy_left = []\n",
    "        Xy_right = []\n",
    "        left_list = []\n",
    "        right_list = []\n",
    "        \n",
    "        \n",
    "        IGp = np.zeros(X.shape[0] * X.shape[1]).reshape(X.shape[0], X.shape[1])\n",
    "\n",
    "\n",
    "        # 特徴量の値をループさせ、閾値を設定する\n",
    "        # k:特徴量Index\n",
    "        # i:閾値Index\n",
    "        for k in range(X.shape[1]):\n",
    "            for i in range(Xy.shape[0]):\n",
    "                left_list = []\n",
    "                right_list = []\n",
    "                '''\n",
    "                for j in range(Xy.shape[0]):\n",
    "                    if Xy[j,k] < Xy[i,k]:\n",
    "                        left_list.append(Xy[j])\n",
    "                    else:\n",
    "                        right_list.append(Xy[j])\n",
    "                '''\n",
    "                left_list = Xy[Xy[:,k] < Xy[i,k]]\n",
    "                left_list = Xy[Xy[:,k] >= Xy[i,k]]        \n",
    "\n",
    "                if len(left_list) == 0 or len(right_list) == 0:\n",
    "                    print(\"★★★　k={}, i={}, j={}, ZERO Split  continue\".format(k, i, j))            \n",
    "                    continue\n",
    "\n",
    "\n",
    "                # Xy_left = np.array(left_list).reshape(-1, Xy.shape[1])\n",
    "                # Xy_right = np.array(right_list).reshape(-1, Xy.shape[1])\n",
    "                \n",
    "                Xy_left = left_list\n",
    "                Xy_right = left_list                \n",
    "\n",
    "                left_sample = np.array([ np.count_nonzero(Xy_left[:,-1] == 0, axis=0), np.count_nonzero(Xy_left[:,-1] == 1, axis=0)])\n",
    "                right_sample = np.array([ np.count_nonzero(Xy_right[:,-1] == 0, axis=0), np.count_nonzero(Xy_right[:,-1] == 1, axis=0)])\n",
    "                all_sample = np.array([np.count_nonzero(Xy_left[:,-1] == 0, axis=0) +  np.count_nonzero(Xy_right[:,-1] == 0, axis=0), \n",
    "                                      np.count_nonzero(Xy_left[:,-1] == 1, axis=0) +  np.count_nonzero(Xy_right[:,-1] == 1, axis=0)])\n",
    "\n",
    "                IGp[i, k] = self._information_gain(all_sample, left_sample, right_sample)\n",
    "                \n",
    "                if self.verbose:\n",
    "                    #verboseをTrueにした際は学習過程を出力               \n",
    "                    print(\"k={}, i={}, j={}, l_sample={}, r_sample={}, a_sample={}, IGp = {}\".format(k, i, j, left_sample, right_sample, all_sample, IGp[i, k]))            \n",
    "\n",
    "        # 情報利得が０⇒分割終了\n",
    "        if np.max(IGp) == 0:\n",
    "            return\n",
    "        \n",
    "        \n",
    "        #self.feature_index = np.argmax(IGp) % ds_simple2[\"X\"].shape[1]\n",
    "        \n",
    "        # 何行目の、どの特徴量(何列目)か？\n",
    "        self.feature_index = np.unravel_index(np.argmax(IGp), Xy.shape)\n",
    "        print(\"self.feature_index = []\".format(self.feature_index))\n",
    "        \n",
    "        # 最終的な閾値は\n",
    "        #self.IGp_index_list.append(np.argmax(IGp))\n",
    "\n",
    "        #test = X.flatten()\n",
    "        self.threshold = X[self.feature_index]\n",
    "        \n",
    "        # 左のノード作成\n",
    "        self.node_left = node()\n",
    "        self.node_split(Xy_left[:,0:X.shape[1]-1], Xy_left[:,-1], depth - 1)        \n",
    "        \n",
    "        #　右ノード作成\n",
    "        self.node_right = node\n",
    "        self.node_split(Xy_right[:,0:X.shape[1]-1], Xy_right[:,-1], depth - 1)\n",
    "        \n",
    "        print(\"★★★self.feature_index = {}, self.threshold = {}\".format(self.feature_index, self.threshold))\n",
    "\n",
    "        return\n",
    "        #return IGp, Xy_left, Xy_right, self.threshold\n",
    "    \n",
    "# ■■■■■■■■■■■■■■■■■■■■■■■■■■■■■■■■■■■■■■■■■■■■■■■■■■■■■■■    \n",
    "    def predict(self, X, depth):\n",
    "        \"\"\"\n",
    "        決定木分類器を使いラベルを推定する\n",
    "        \"\"\"\n",
    "\n",
    "        # 特徴量の値をループさせ、閾値を設定する\n",
    "        # k:特徴量Index\n",
    "        # i:閾値Index\n",
    "        # j:比較Index\n",
    "\n",
    "        '''\n",
    "        y_pred =np.zeros(X.shape[0]).reshape(-1,1)\n",
    "\n",
    "        for i in range(X.shape[0]):\n",
    "            if X[i,self.feature_index] < self.threshold:\n",
    "                y_pred[i] = 0\n",
    "                \n",
    "            else:\n",
    "                y_pred[i] = 1\n",
    "        '''\n",
    "        \n",
    "        y_pred = np.where(X[ X[:,self.feature_index] < self.threshold ], 0, 1)\n",
    "        \n",
    "        \n",
    "\n",
    "        return y_pred\n",
    "    \n",
    "# ■■■■■■■■■■■■■■■■■■■■■■■■■■■■■■■■■■■■■■■■■■■■■■■■■■■■■■■\n",
    "    def gini(n):\n",
    "        '''\n",
    "        Parameters\n",
    "        ----------\n",
    "        n : 次の形のndarray, shape (n_samples, )\n",
    "            各クラスのサンプル数（class1, class2, ・・・）\n",
    "        '''\n",
    "\n",
    "        gini = 1 - np.sum((n / np.sum(n))**2)\n",
    "\n",
    "        return gini\n",
    "\n",
    "# ■■■■■■■■■■■■■■■■■■■■■■■■■■■■■■■■■■■■■■■■■■■■■■■■■■■■■■■\n",
    "    def _information_gain(self, p_data, left_data, right_data):\n",
    "        I_left = ( np.sum(left_data)/( np.sum(left_data + right_data)) ) * gini(left_data)\n",
    "        I_right = ( np.sum(right_data)/( np.sum(left_data + right_data)) ) * gini(right_data)\n",
    "\n",
    "        IG = gini(p_data) -(I_left + I_right)\n",
    "\n",
    "        return IG\n",
    "\n",
    "        "
   ]
  },
  {
   "cell_type": "code",
   "execution_count": null,
   "metadata": {},
   "outputs": [],
   "source": []
  },
  {
   "cell_type": "markdown",
   "metadata": {},
   "source": [
    "## 【問題8】（アドバンス課題）深さに制限のない決定木分類器クラスの作成"
   ]
  },
  {
   "cell_type": "markdown",
   "metadata": {},
   "source": [
    "深さに制限のない決定木分類器のクラスScratchDecesionTreeClassifierDepthInfを作成してください。\n",
    "\n",
    "\n",
    "任意の深さを指定できるようにするとともに、指定しない場合は全ての葉ノードがジニ不純度0となるまで続けられるようにもしてください。"
   ]
  },
  {
   "cell_type": "code",
   "execution_count": null,
   "metadata": {},
   "outputs": [],
   "source": []
  }
 ],
 "metadata": {
  "kernelspec": {
   "display_name": "Python 3",
   "language": "python",
   "name": "python3"
  },
  "language_info": {
   "codemirror_mode": {
    "name": "ipython",
    "version": 3
   },
   "file_extension": ".py",
   "mimetype": "text/x-python",
   "name": "python",
   "nbconvert_exporter": "python",
   "pygments_lexer": "ipython3",
   "version": "3.7.7"
  }
 },
 "nbformat": 4,
 "nbformat_minor": 4
}
