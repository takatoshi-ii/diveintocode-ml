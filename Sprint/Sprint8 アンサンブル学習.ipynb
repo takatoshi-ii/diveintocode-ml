{
 "cells": [
  {
   "cell_type": "markdown",
   "metadata": {},
   "source": [
    "# Sprint アンサンブル学習"
   ]
  },
  {
   "cell_type": "markdown",
   "metadata": {},
   "source": [
    "# 1.このSprintについて"
   ]
  },
  {
   "cell_type": "markdown",
   "metadata": {},
   "source": [
    "## Sprintの目的  \n",
    "・アンサンブル学習について理解する"
   ]
  },
  {
   "cell_type": "markdown",
   "metadata": {},
   "source": [
    "## どのように学ぶか  \n",
    "・スクラッチでアンサンブル学習の各種手法を実装していきます。"
   ]
  },
  {
   "cell_type": "markdown",
   "metadata": {},
   "source": [
    "# 2.アンサンブル学習  \n",
    "3種類のアンサンブル学習をスクラッチ実装していきます。そして、それぞれの効果を小さめのデータセットで確認します。  \n",
    "・ブレンディング  \n",
    "・バギング  \n",
    "・スタッキング  "
   ]
  },
  {
   "cell_type": "markdown",
   "metadata": {},
   "source": [
    "### 小さなデータセットの用意\n",
    "以前も利用した回帰のデータセットを用意します。  \n",
    "House Prices: Advanced Regression Techniques  \n",
    "この中のtrain.csvをダウンロードし、目的変数としてSalePrice、説明変数として、GrLivAreaとYearBuiltを使います。  \n",
    "train.csvを学習用（train）8割、検証用（val）2割に分割してください。"
   ]
  },
  {
   "cell_type": "markdown",
   "metadata": {},
   "source": [
    "### scikit-learn"
   ]
  },
  {
   "cell_type": "markdown",
   "metadata": {},
   "source": [
    "単一のモデルはスクラッチ実装ではなく、scikit-learnなどのライブラリの使用を推奨します。\n",
    "\n",
    "sklearn.linear_model.LinearRegression — scikit-learn 0.21.3 documentation  \n",
    "sklearn.svm.SVR — scikit-learn 0.21.3 documentation  \n",
    "sklearn.tree.DecisionTreeRegressor — scikit-learn 0.21.3 documentation"
   ]
  },
  {
   "cell_type": "markdown",
   "metadata": {},
   "source": [
    "# 3.ブレンディング"
   ]
  },
  {
   "cell_type": "markdown",
   "metadata": {},
   "source": [
    "## 【問題1】ブレンディングのスクラッチ実装  \n",
    "ブレンディング をスクラッチ実装し、単一モデルより精度があがる例を 最低3つ 示してください。精度があがるとは、検証用データに対する平均二乗誤差（MSE）が小さくなることを指します。"
   ]
  },
  {
   "cell_type": "markdown",
   "metadata": {},
   "source": [
    "### ブレンディングとは"
   ]
  },
  {
   "cell_type": "markdown",
   "metadata": {},
   "source": [
    "ブレンディングとは、N個の多様なモデルを独立して学習させ、推定結果を重み付けした上で足し合わせる方法です。  \n",
    "最も単純には平均をとります。多様なモデルとは、以下のような条件を変化させることで作り出すものです。\n",
    "\n",
    "手法（例：線形回帰、SVM、決定木、ニューラルネットワークなど）  \n",
    "ハイパーパラメータ（例：SVMのカーネルの種類、重みの初期値など）  \n",
    "入力データの前処理の仕方（例：標準化、対数変換、PCAなど）  \n",
    "\n",
    "重要なのはそれぞれのモデルが大きく異なることです。  \n",
    "\n",
    "回帰問題でのブレンディングは非常に単純であるため、scikit-learnには用意されていません。  \n",
    "\n",
    "《補足》  \n",
    "分類問題の場合は、多数決を行います。回帰問題に比べると複雑なため、scikit-learnにはVotingClassifierが用意されています。"
   ]
  },
  {
   "cell_type": "code",
   "execution_count": 1,
   "metadata": {},
   "outputs": [],
   "source": [
    "import pandas as pd\n",
    "import numpy as np"
   ]
  },
  {
   "cell_type": "code",
   "execution_count": 2,
   "metadata": {},
   "outputs": [
    {
     "data": {
      "text/html": [
       "<div>\n",
       "<style scoped>\n",
       "    .dataframe tbody tr th:only-of-type {\n",
       "        vertical-align: middle;\n",
       "    }\n",
       "\n",
       "    .dataframe tbody tr th {\n",
       "        vertical-align: top;\n",
       "    }\n",
       "\n",
       "    .dataframe thead th {\n",
       "        text-align: right;\n",
       "    }\n",
       "</style>\n",
       "<table border=\"1\" class=\"dataframe\">\n",
       "  <thead>\n",
       "    <tr style=\"text-align: right;\">\n",
       "      <th></th>\n",
       "      <th>Id</th>\n",
       "      <th>MSSubClass</th>\n",
       "      <th>MSZoning</th>\n",
       "      <th>LotFrontage</th>\n",
       "      <th>LotArea</th>\n",
       "      <th>Street</th>\n",
       "      <th>Alley</th>\n",
       "      <th>LotShape</th>\n",
       "      <th>LandContour</th>\n",
       "      <th>Utilities</th>\n",
       "      <th>...</th>\n",
       "      <th>PoolArea</th>\n",
       "      <th>PoolQC</th>\n",
       "      <th>Fence</th>\n",
       "      <th>MiscFeature</th>\n",
       "      <th>MiscVal</th>\n",
       "      <th>MoSold</th>\n",
       "      <th>YrSold</th>\n",
       "      <th>SaleType</th>\n",
       "      <th>SaleCondition</th>\n",
       "      <th>SalePrice</th>\n",
       "    </tr>\n",
       "  </thead>\n",
       "  <tbody>\n",
       "    <tr>\n",
       "      <th>0</th>\n",
       "      <td>1</td>\n",
       "      <td>60</td>\n",
       "      <td>RL</td>\n",
       "      <td>65.0</td>\n",
       "      <td>8450</td>\n",
       "      <td>Pave</td>\n",
       "      <td>NaN</td>\n",
       "      <td>Reg</td>\n",
       "      <td>Lvl</td>\n",
       "      <td>AllPub</td>\n",
       "      <td>...</td>\n",
       "      <td>0</td>\n",
       "      <td>NaN</td>\n",
       "      <td>NaN</td>\n",
       "      <td>NaN</td>\n",
       "      <td>0</td>\n",
       "      <td>2</td>\n",
       "      <td>2008</td>\n",
       "      <td>WD</td>\n",
       "      <td>Normal</td>\n",
       "      <td>208500</td>\n",
       "    </tr>\n",
       "    <tr>\n",
       "      <th>1</th>\n",
       "      <td>2</td>\n",
       "      <td>20</td>\n",
       "      <td>RL</td>\n",
       "      <td>80.0</td>\n",
       "      <td>9600</td>\n",
       "      <td>Pave</td>\n",
       "      <td>NaN</td>\n",
       "      <td>Reg</td>\n",
       "      <td>Lvl</td>\n",
       "      <td>AllPub</td>\n",
       "      <td>...</td>\n",
       "      <td>0</td>\n",
       "      <td>NaN</td>\n",
       "      <td>NaN</td>\n",
       "      <td>NaN</td>\n",
       "      <td>0</td>\n",
       "      <td>5</td>\n",
       "      <td>2007</td>\n",
       "      <td>WD</td>\n",
       "      <td>Normal</td>\n",
       "      <td>181500</td>\n",
       "    </tr>\n",
       "    <tr>\n",
       "      <th>2</th>\n",
       "      <td>3</td>\n",
       "      <td>60</td>\n",
       "      <td>RL</td>\n",
       "      <td>68.0</td>\n",
       "      <td>11250</td>\n",
       "      <td>Pave</td>\n",
       "      <td>NaN</td>\n",
       "      <td>IR1</td>\n",
       "      <td>Lvl</td>\n",
       "      <td>AllPub</td>\n",
       "      <td>...</td>\n",
       "      <td>0</td>\n",
       "      <td>NaN</td>\n",
       "      <td>NaN</td>\n",
       "      <td>NaN</td>\n",
       "      <td>0</td>\n",
       "      <td>9</td>\n",
       "      <td>2008</td>\n",
       "      <td>WD</td>\n",
       "      <td>Normal</td>\n",
       "      <td>223500</td>\n",
       "    </tr>\n",
       "    <tr>\n",
       "      <th>3</th>\n",
       "      <td>4</td>\n",
       "      <td>70</td>\n",
       "      <td>RL</td>\n",
       "      <td>60.0</td>\n",
       "      <td>9550</td>\n",
       "      <td>Pave</td>\n",
       "      <td>NaN</td>\n",
       "      <td>IR1</td>\n",
       "      <td>Lvl</td>\n",
       "      <td>AllPub</td>\n",
       "      <td>...</td>\n",
       "      <td>0</td>\n",
       "      <td>NaN</td>\n",
       "      <td>NaN</td>\n",
       "      <td>NaN</td>\n",
       "      <td>0</td>\n",
       "      <td>2</td>\n",
       "      <td>2006</td>\n",
       "      <td>WD</td>\n",
       "      <td>Abnorml</td>\n",
       "      <td>140000</td>\n",
       "    </tr>\n",
       "    <tr>\n",
       "      <th>4</th>\n",
       "      <td>5</td>\n",
       "      <td>60</td>\n",
       "      <td>RL</td>\n",
       "      <td>84.0</td>\n",
       "      <td>14260</td>\n",
       "      <td>Pave</td>\n",
       "      <td>NaN</td>\n",
       "      <td>IR1</td>\n",
       "      <td>Lvl</td>\n",
       "      <td>AllPub</td>\n",
       "      <td>...</td>\n",
       "      <td>0</td>\n",
       "      <td>NaN</td>\n",
       "      <td>NaN</td>\n",
       "      <td>NaN</td>\n",
       "      <td>0</td>\n",
       "      <td>12</td>\n",
       "      <td>2008</td>\n",
       "      <td>WD</td>\n",
       "      <td>Normal</td>\n",
       "      <td>250000</td>\n",
       "    </tr>\n",
       "    <tr>\n",
       "      <th>...</th>\n",
       "      <td>...</td>\n",
       "      <td>...</td>\n",
       "      <td>...</td>\n",
       "      <td>...</td>\n",
       "      <td>...</td>\n",
       "      <td>...</td>\n",
       "      <td>...</td>\n",
       "      <td>...</td>\n",
       "      <td>...</td>\n",
       "      <td>...</td>\n",
       "      <td>...</td>\n",
       "      <td>...</td>\n",
       "      <td>...</td>\n",
       "      <td>...</td>\n",
       "      <td>...</td>\n",
       "      <td>...</td>\n",
       "      <td>...</td>\n",
       "      <td>...</td>\n",
       "      <td>...</td>\n",
       "      <td>...</td>\n",
       "      <td>...</td>\n",
       "    </tr>\n",
       "    <tr>\n",
       "      <th>1455</th>\n",
       "      <td>1456</td>\n",
       "      <td>60</td>\n",
       "      <td>RL</td>\n",
       "      <td>62.0</td>\n",
       "      <td>7917</td>\n",
       "      <td>Pave</td>\n",
       "      <td>NaN</td>\n",
       "      <td>Reg</td>\n",
       "      <td>Lvl</td>\n",
       "      <td>AllPub</td>\n",
       "      <td>...</td>\n",
       "      <td>0</td>\n",
       "      <td>NaN</td>\n",
       "      <td>NaN</td>\n",
       "      <td>NaN</td>\n",
       "      <td>0</td>\n",
       "      <td>8</td>\n",
       "      <td>2007</td>\n",
       "      <td>WD</td>\n",
       "      <td>Normal</td>\n",
       "      <td>175000</td>\n",
       "    </tr>\n",
       "    <tr>\n",
       "      <th>1456</th>\n",
       "      <td>1457</td>\n",
       "      <td>20</td>\n",
       "      <td>RL</td>\n",
       "      <td>85.0</td>\n",
       "      <td>13175</td>\n",
       "      <td>Pave</td>\n",
       "      <td>NaN</td>\n",
       "      <td>Reg</td>\n",
       "      <td>Lvl</td>\n",
       "      <td>AllPub</td>\n",
       "      <td>...</td>\n",
       "      <td>0</td>\n",
       "      <td>NaN</td>\n",
       "      <td>MnPrv</td>\n",
       "      <td>NaN</td>\n",
       "      <td>0</td>\n",
       "      <td>2</td>\n",
       "      <td>2010</td>\n",
       "      <td>WD</td>\n",
       "      <td>Normal</td>\n",
       "      <td>210000</td>\n",
       "    </tr>\n",
       "    <tr>\n",
       "      <th>1457</th>\n",
       "      <td>1458</td>\n",
       "      <td>70</td>\n",
       "      <td>RL</td>\n",
       "      <td>66.0</td>\n",
       "      <td>9042</td>\n",
       "      <td>Pave</td>\n",
       "      <td>NaN</td>\n",
       "      <td>Reg</td>\n",
       "      <td>Lvl</td>\n",
       "      <td>AllPub</td>\n",
       "      <td>...</td>\n",
       "      <td>0</td>\n",
       "      <td>NaN</td>\n",
       "      <td>GdPrv</td>\n",
       "      <td>Shed</td>\n",
       "      <td>2500</td>\n",
       "      <td>5</td>\n",
       "      <td>2010</td>\n",
       "      <td>WD</td>\n",
       "      <td>Normal</td>\n",
       "      <td>266500</td>\n",
       "    </tr>\n",
       "    <tr>\n",
       "      <th>1458</th>\n",
       "      <td>1459</td>\n",
       "      <td>20</td>\n",
       "      <td>RL</td>\n",
       "      <td>68.0</td>\n",
       "      <td>9717</td>\n",
       "      <td>Pave</td>\n",
       "      <td>NaN</td>\n",
       "      <td>Reg</td>\n",
       "      <td>Lvl</td>\n",
       "      <td>AllPub</td>\n",
       "      <td>...</td>\n",
       "      <td>0</td>\n",
       "      <td>NaN</td>\n",
       "      <td>NaN</td>\n",
       "      <td>NaN</td>\n",
       "      <td>0</td>\n",
       "      <td>4</td>\n",
       "      <td>2010</td>\n",
       "      <td>WD</td>\n",
       "      <td>Normal</td>\n",
       "      <td>142125</td>\n",
       "    </tr>\n",
       "    <tr>\n",
       "      <th>1459</th>\n",
       "      <td>1460</td>\n",
       "      <td>20</td>\n",
       "      <td>RL</td>\n",
       "      <td>75.0</td>\n",
       "      <td>9937</td>\n",
       "      <td>Pave</td>\n",
       "      <td>NaN</td>\n",
       "      <td>Reg</td>\n",
       "      <td>Lvl</td>\n",
       "      <td>AllPub</td>\n",
       "      <td>...</td>\n",
       "      <td>0</td>\n",
       "      <td>NaN</td>\n",
       "      <td>NaN</td>\n",
       "      <td>NaN</td>\n",
       "      <td>0</td>\n",
       "      <td>6</td>\n",
       "      <td>2008</td>\n",
       "      <td>WD</td>\n",
       "      <td>Normal</td>\n",
       "      <td>147500</td>\n",
       "    </tr>\n",
       "  </tbody>\n",
       "</table>\n",
       "<p>1460 rows × 81 columns</p>\n",
       "</div>"
      ],
      "text/plain": [
       "        Id  MSSubClass MSZoning  LotFrontage  LotArea Street Alley LotShape  \\\n",
       "0        1          60       RL         65.0     8450   Pave   NaN      Reg   \n",
       "1        2          20       RL         80.0     9600   Pave   NaN      Reg   \n",
       "2        3          60       RL         68.0    11250   Pave   NaN      IR1   \n",
       "3        4          70       RL         60.0     9550   Pave   NaN      IR1   \n",
       "4        5          60       RL         84.0    14260   Pave   NaN      IR1   \n",
       "...    ...         ...      ...          ...      ...    ...   ...      ...   \n",
       "1455  1456          60       RL         62.0     7917   Pave   NaN      Reg   \n",
       "1456  1457          20       RL         85.0    13175   Pave   NaN      Reg   \n",
       "1457  1458          70       RL         66.0     9042   Pave   NaN      Reg   \n",
       "1458  1459          20       RL         68.0     9717   Pave   NaN      Reg   \n",
       "1459  1460          20       RL         75.0     9937   Pave   NaN      Reg   \n",
       "\n",
       "     LandContour Utilities  ... PoolArea PoolQC  Fence MiscFeature MiscVal  \\\n",
       "0            Lvl    AllPub  ...        0    NaN    NaN         NaN       0   \n",
       "1            Lvl    AllPub  ...        0    NaN    NaN         NaN       0   \n",
       "2            Lvl    AllPub  ...        0    NaN    NaN         NaN       0   \n",
       "3            Lvl    AllPub  ...        0    NaN    NaN         NaN       0   \n",
       "4            Lvl    AllPub  ...        0    NaN    NaN         NaN       0   \n",
       "...          ...       ...  ...      ...    ...    ...         ...     ...   \n",
       "1455         Lvl    AllPub  ...        0    NaN    NaN         NaN       0   \n",
       "1456         Lvl    AllPub  ...        0    NaN  MnPrv         NaN       0   \n",
       "1457         Lvl    AllPub  ...        0    NaN  GdPrv        Shed    2500   \n",
       "1458         Lvl    AllPub  ...        0    NaN    NaN         NaN       0   \n",
       "1459         Lvl    AllPub  ...        0    NaN    NaN         NaN       0   \n",
       "\n",
       "     MoSold YrSold  SaleType  SaleCondition  SalePrice  \n",
       "0         2   2008        WD         Normal     208500  \n",
       "1         5   2007        WD         Normal     181500  \n",
       "2         9   2008        WD         Normal     223500  \n",
       "3         2   2006        WD        Abnorml     140000  \n",
       "4        12   2008        WD         Normal     250000  \n",
       "...     ...    ...       ...            ...        ...  \n",
       "1455      8   2007        WD         Normal     175000  \n",
       "1456      2   2010        WD         Normal     210000  \n",
       "1457      5   2010        WD         Normal     266500  \n",
       "1458      4   2010        WD         Normal     142125  \n",
       "1459      6   2008        WD         Normal     147500  \n",
       "\n",
       "[1460 rows x 81 columns]"
      ]
     },
     "execution_count": 2,
     "metadata": {},
     "output_type": "execute_result"
    }
   ],
   "source": [
    "df = pd.read_csv('./HousePrice_train.csv')\n",
    "df"
   ]
  },
  {
   "cell_type": "code",
   "execution_count": 3,
   "metadata": {},
   "outputs": [],
   "source": [
    "drop_df = df\n",
    "# 半分以上欠損値を含む列を削除する。\n",
    "drop_df = drop_df.dropna(thresh=df.shape[0]*0.5, axis=1)\n",
    "\n",
    "# 欠損値があるサンプル（行）は削除する。\n",
    "drop_df = drop_df.dropna(axis=0)"
   ]
  },
  {
   "cell_type": "code",
   "execution_count": 4,
   "metadata": {},
   "outputs": [
    {
     "data": {
      "text/html": [
       "<div>\n",
       "<style scoped>\n",
       "    .dataframe tbody tr th:only-of-type {\n",
       "        vertical-align: middle;\n",
       "    }\n",
       "\n",
       "    .dataframe tbody tr th {\n",
       "        vertical-align: top;\n",
       "    }\n",
       "\n",
       "    .dataframe thead th {\n",
       "        text-align: right;\n",
       "    }\n",
       "</style>\n",
       "<table border=\"1\" class=\"dataframe\">\n",
       "  <thead>\n",
       "    <tr style=\"text-align: right;\">\n",
       "      <th></th>\n",
       "      <th>GrLivArea</th>\n",
       "      <th>YearBuilt</th>\n",
       "      <th>SalePrice</th>\n",
       "    </tr>\n",
       "  </thead>\n",
       "  <tbody>\n",
       "    <tr>\n",
       "      <th>1</th>\n",
       "      <td>1262</td>\n",
       "      <td>1976</td>\n",
       "      <td>181500</td>\n",
       "    </tr>\n",
       "    <tr>\n",
       "      <th>2</th>\n",
       "      <td>1786</td>\n",
       "      <td>2001</td>\n",
       "      <td>223500</td>\n",
       "    </tr>\n",
       "    <tr>\n",
       "      <th>3</th>\n",
       "      <td>1717</td>\n",
       "      <td>1915</td>\n",
       "      <td>140000</td>\n",
       "    </tr>\n",
       "    <tr>\n",
       "      <th>4</th>\n",
       "      <td>2198</td>\n",
       "      <td>2000</td>\n",
       "      <td>250000</td>\n",
       "    </tr>\n",
       "    <tr>\n",
       "      <th>6</th>\n",
       "      <td>1694</td>\n",
       "      <td>2004</td>\n",
       "      <td>307000</td>\n",
       "    </tr>\n",
       "    <tr>\n",
       "      <th>...</th>\n",
       "      <td>...</td>\n",
       "      <td>...</td>\n",
       "      <td>...</td>\n",
       "    </tr>\n",
       "    <tr>\n",
       "      <th>1447</th>\n",
       "      <td>2090</td>\n",
       "      <td>1995</td>\n",
       "      <td>240000</td>\n",
       "    </tr>\n",
       "    <tr>\n",
       "      <th>1451</th>\n",
       "      <td>1578</td>\n",
       "      <td>2008</td>\n",
       "      <td>287090</td>\n",
       "    </tr>\n",
       "    <tr>\n",
       "      <th>1455</th>\n",
       "      <td>1647</td>\n",
       "      <td>1999</td>\n",
       "      <td>175000</td>\n",
       "    </tr>\n",
       "    <tr>\n",
       "      <th>1456</th>\n",
       "      <td>2073</td>\n",
       "      <td>1978</td>\n",
       "      <td>210000</td>\n",
       "    </tr>\n",
       "    <tr>\n",
       "      <th>1457</th>\n",
       "      <td>2340</td>\n",
       "      <td>1941</td>\n",
       "      <td>266500</td>\n",
       "    </tr>\n",
       "  </tbody>\n",
       "</table>\n",
       "<p>583 rows × 3 columns</p>\n",
       "</div>"
      ],
      "text/plain": [
       "      GrLivArea  YearBuilt  SalePrice\n",
       "1          1262       1976     181500\n",
       "2          1786       2001     223500\n",
       "3          1717       1915     140000\n",
       "4          2198       2000     250000\n",
       "6          1694       2004     307000\n",
       "...         ...        ...        ...\n",
       "1447       2090       1995     240000\n",
       "1451       1578       2008     287090\n",
       "1455       1647       1999     175000\n",
       "1456       2073       1978     210000\n",
       "1457       2340       1941     266500\n",
       "\n",
       "[583 rows x 3 columns]"
      ]
     },
     "execution_count": 4,
     "metadata": {},
     "output_type": "execute_result"
    }
   ],
   "source": [
    "df_data = drop_df.loc[:,[\"GrLivArea\",\"YearBuilt\",\"SalePrice\"]]\n",
    "df_data"
   ]
  },
  {
   "cell_type": "code",
   "execution_count": 5,
   "metadata": {},
   "outputs": [],
   "source": [
    "import numpy as np\n",
    "# ndarrayへ変換\n",
    "X = np.array(df_data.iloc[:,0:2])\n",
    "y = np.array(df_data.iloc[:,2])"
   ]
  },
  {
   "cell_type": "code",
   "execution_count": 6,
   "metadata": {},
   "outputs": [],
   "source": [
    "# 訓練データと検証データの分割\n",
    "from sklearn.model_selection import train_test_split\n",
    "X_train, X_test, y_train, y_test = train_test_split(X, y, test_size=0.25, random_state = 47)"
   ]
  },
  {
   "cell_type": "markdown",
   "metadata": {},
   "source": [
    "#### train_test_splitを実行するたびに、X_train, X_test, y_train, y_testが変動するためMSEスコアが変動するため保存する。"
   ]
  },
  {
   "cell_type": "code",
   "execution_count": 174,
   "metadata": {},
   "outputs": [],
   "source": [
    "import pickle\n",
    "\n",
    "with open(\"X_train.pkl\", \"wb\") as f:\n",
    "    pickle.dump(X_train, f)\n",
    "\n",
    "with open(\"X_test.pkl\", \"wb\") as f:\n",
    "    pickle.dump(X_test, f)\n",
    "    \n",
    "with open(\"y_train.pkl\", \"wb\") as f:\n",
    "    pickle.dump(y_train, f)\n",
    "    \n",
    "with open(\"y_test.pkl\", \"wb\") as f:\n",
    "    pickle.dump(y_test, f)"
   ]
  },
  {
   "cell_type": "code",
   "execution_count": 7,
   "metadata": {},
   "outputs": [],
   "source": [
    "# 標準化\n",
    "from sklearn.preprocessing import StandardScaler\n",
    "ss = StandardScaler()\n",
    "ss.fit(X_train)\n",
    "ss_X_train = ss.transform(X_train)\n",
    "ss_X_test = ss.transform(X_test)"
   ]
  },
  {
   "cell_type": "code",
   "execution_count": 8,
   "metadata": {},
   "outputs": [],
   "source": [
    "from sklearn import datasets\n",
    "from sklearn.model_selection import cross_val_score\n",
    "#from sklearn.linear_model import LogisticRegression\n",
    "from sklearn.linear_model import LinearRegression as LR # ★\n",
    "from sklearn.naive_bayes import GaussianNB\n",
    "#from sklearn.ensemble import RandomForestClassifier\n",
    "from sklearn.ensemble import RandomForestRegressor as RFR # ★\n",
    "from sklearn.ensemble import VotingClassifier\n",
    "from sklearn.svm import SVR  # ★\n",
    "#from sklearn.tree import DecisionTreeClassifier\n",
    "from sklearn.tree import DecisionTreeRegressor as DTR # ★\n",
    "from sklearn.metrics import mean_squared_error"
   ]
  },
  {
   "cell_type": "code",
   "execution_count": 9,
   "metadata": {},
   "outputs": [],
   "source": [
    "#ここではロジスティック回帰、ランダムフォレスト分類器、ガウシアンナイーブベベイズを用いる。\n",
    "clf1 = LR()\n",
    "clf2 = DTR()\n",
    "clf3 = SVR()\n",
    "clf4 = RFR()\n"
   ]
  },
  {
   "cell_type": "markdown",
   "metadata": {},
   "source": [
    "### 単一モデルで検証"
   ]
  },
  {
   "cell_type": "markdown",
   "metadata": {},
   "source": [
    "#### ＜線形回帰＞"
   ]
  },
  {
   "cell_type": "code",
   "execution_count": 10,
   "metadata": {},
   "outputs": [
    {
     "data": {
      "text/plain": [
       "5073056118.281545"
      ]
     },
     "execution_count": 10,
     "metadata": {},
     "output_type": "execute_result"
    }
   ],
   "source": [
    "# 学習\n",
    "ss_clf = clf1.fit(ss_X_train, y_train)\n",
    "\n",
    "# 推定\n",
    "y_pred_LR = clf1.predict(ss_X_test)\n",
    "\n",
    "# 評価\n",
    "err_LR = mean_squared_error(y_test, y_pred_LR)\n",
    "err_LR\n"
   ]
  },
  {
   "cell_type": "markdown",
   "metadata": {},
   "source": [
    "#### ＜決定木＞"
   ]
  },
  {
   "cell_type": "code",
   "execution_count": 11,
   "metadata": {},
   "outputs": [
    {
     "data": {
      "text/plain": [
       "4161174406.321918"
      ]
     },
     "execution_count": 11,
     "metadata": {},
     "output_type": "execute_result"
    }
   ],
   "source": [
    "# 学習\n",
    "ss_clf = clf2.fit(ss_X_train, y_train)\n",
    "\n",
    "# 推定\n",
    "y_pred_DTR = clf2.predict(ss_X_test)\n",
    "\n",
    "# 評価\n",
    "err_DTR = mean_squared_error(y_test, y_pred_DTR)\n",
    "err_DTR\n"
   ]
  },
  {
   "cell_type": "markdown",
   "metadata": {},
   "source": [
    "#### ＜SVM＞"
   ]
  },
  {
   "cell_type": "code",
   "execution_count": 12,
   "metadata": {},
   "outputs": [
    {
     "data": {
      "text/plain": [
       "9511112479.715921"
      ]
     },
     "execution_count": 12,
     "metadata": {},
     "output_type": "execute_result"
    }
   ],
   "source": [
    "# 学習\n",
    "ss_clf = clf3.fit(ss_X_train, y_train)\n",
    "\n",
    "# 推定\n",
    "y_pred_SVR = clf3.predict(ss_X_test)\n",
    "\n",
    "# 評価\n",
    "err_SVR = mean_squared_error(y_test, y_pred_SVR)\n",
    "err_SVR\n"
   ]
  },
  {
   "cell_type": "code",
   "execution_count": null,
   "metadata": {},
   "outputs": [],
   "source": []
  },
  {
   "cell_type": "markdown",
   "metadata": {},
   "source": [
    "#### ＜ランダムフォレスト＞"
   ]
  },
  {
   "cell_type": "code",
   "execution_count": 13,
   "metadata": {},
   "outputs": [
    {
     "data": {
      "text/plain": [
       "2809452173.369651"
      ]
     },
     "execution_count": 13,
     "metadata": {},
     "output_type": "execute_result"
    }
   ],
   "source": [
    "# 学習\n",
    "ss_clf = clf4.fit(ss_X_train, y_train)\n",
    "\n",
    "# 推定\n",
    "y_pred_RFR = clf4.predict(ss_X_test)\n",
    "\n",
    "# 評価\n",
    "err_RFR = mean_squared_error(y_test, y_pred_RFR)\n",
    "err_RFR\n"
   ]
  },
  {
   "cell_type": "markdown",
   "metadata": {},
   "source": [
    "以上の単体モデルをブレンディングする。"
   ]
  },
  {
   "cell_type": "markdown",
   "metadata": {},
   "source": [
    "#### ＜0.3 × 線形回帰 + 0.4 × 決定木 + 0.3 × SVM＞"
   ]
  },
  {
   "cell_type": "code",
   "execution_count": 14,
   "metadata": {},
   "outputs": [
    {
     "data": {
      "text/plain": [
       "4078021280.192417"
      ]
     },
     "execution_count": 14,
     "metadata": {},
     "output_type": "execute_result"
    }
   ],
   "source": [
    "y_pred_blend1 = 0.3 * y_pred_LR + 0.4 * y_pred_DTR + 0.3 * y_pred_SVR\n",
    "# 評価\n",
    "err_blend1 = mean_squared_error(y_test, y_pred_blend1)\n",
    "err_blend1"
   ]
  },
  {
   "cell_type": "markdown",
   "metadata": {},
   "source": [
    "#### ＜0.4 × 線形回帰 + 0.5 × 決定木 + 0.1 × SVM＞"
   ]
  },
  {
   "cell_type": "code",
   "execution_count": 15,
   "metadata": {},
   "outputs": [
    {
     "data": {
      "text/plain": [
       "3584402681.8860116"
      ]
     },
     "execution_count": 15,
     "metadata": {},
     "output_type": "execute_result"
    }
   ],
   "source": [
    "y_pred_blend2 = 0.4 * y_pred_LR + 0.5 * y_pred_DTR + 0.1 * y_pred_SVR\n",
    "# 評価\n",
    "err_blend2 = mean_squared_error(y_test, y_pred_blend2)\n",
    "err_blend2"
   ]
  },
  {
   "cell_type": "markdown",
   "metadata": {},
   "source": [
    "#### ＜ロス比率から重み算出＞"
   ]
  },
  {
   "cell_type": "code",
   "execution_count": 16,
   "metadata": {},
   "outputs": [
    {
     "data": {
      "text/plain": [
       "3932659618.4345016"
      ]
     },
     "execution_count": 16,
     "metadata": {},
     "output_type": "execute_result"
    }
   ],
   "source": [
    "err_brend = err_LR + err_DTR + err_SVR\n",
    "y_pred_blend3 = (err_brend - err_LR)/(2 * err_brend) * y_pred_LR + (err_brend - err_DTR)/(2 * err_brend) * y_pred_DTR + (err_brend - err_SVR)/(2 * err_brend) * y_pred_SVR\n",
    "# 評価\n",
    "err_blend3 = mean_squared_error(y_test, y_pred_blend3)\n",
    "err_blend3"
   ]
  },
  {
   "cell_type": "markdown",
   "metadata": {},
   "source": [
    "以上の結果から\n",
    "\n",
    "| 単体モデル                 |                  |\n",
    "|----------------------------|------------------|\n",
    "| ①線形回帰                  | 5073056118.28154 |\n",
    "| ②決定木                    | 4161174406.32191 |\n",
    "| ③SVM                       | 9511112479.71592 |\n",
    "\n",
    "\n",
    "| ブレンドモデル             |                  |\n",
    "|----------------------------|------------------|\n",
    "|（１）0.3 × ① + 0.4×② + 0.3 × ③ | 4078021280.19241 |\n",
    "|（２）0.4 × ① + 0.5×② + 0.1 × ③ | 3584402681.88601 |\n",
    "|（３）ロス比率の係数で重み付け  | 3932659618.4345 |"
   ]
  },
  {
   "cell_type": "markdown",
   "metadata": {},
   "source": [
    "#### すべてのブレンドモデルにおいて、各構成でモデル単体モデルよりも精度が出ている。"
   ]
  },
  {
   "cell_type": "markdown",
   "metadata": {},
   "source": [
    "# 4.バギング"
   ]
  },
  {
   "cell_type": "markdown",
   "metadata": {},
   "source": [
    "## 【問題2】バギングのスクラッチ実装\n",
    "バギング をスクラッチ実装し、単一モデルより精度があがる例を 最低1つ 示してください。"
   ]
  },
  {
   "cell_type": "markdown",
   "metadata": {},
   "source": [
    "### バギングとは\n",
    "バギングは入力データの選び方を多様化する方法です。学習データから重複を許した上でランダムに抜き出すことで、N種類のサブセット（ ブートストラップサンプル ）を作り出します。それらによってモデルをN個学習し、推定結果の平均をとります。ブレンディングと異なり、それぞれの重み付けを変えることはありません。"
   ]
  },
  {
   "cell_type": "code",
   "execution_count": 17,
   "metadata": {},
   "outputs": [],
   "source": [
    "# 標準化\n",
    "ss = StandardScaler()\n",
    "ss.fit(X)\n",
    "ss_X = ss.transform(X)"
   ]
  },
  {
   "cell_type": "code",
   "execution_count": 18,
   "metadata": {},
   "outputs": [
    {
     "name": "stdout",
     "output_type": "stream",
     "text": [
      "befor delete y_pred.shape = (146, 6)\n",
      "after delete y_pred.shape = (146, 5)\n",
      "y_pred_DT.shape = (146, 1)\n"
     ]
    },
    {
     "data": {
      "text/plain": [
       "7864439110.391713"
      ]
     },
     "execution_count": 18,
     "metadata": {},
     "output_type": "execute_result"
    }
   ],
   "source": [
    "from sklearn.linear_model import LinearRegression as LR\n",
    "\n",
    "# 決定木\n",
    "model_LR = LR()\n",
    "\n",
    "X_train_bag, X_test_bag, y_train_bag, y_test_bag = train_test_split(ss_X, y, test_size=0.25, shuffle = True)\n",
    "\n",
    "# 空行列作成\n",
    "y_test_bag.reshape(-1,1)\n",
    "y_pred = np.zeros((y_test_bag.shape[0], 1))\n",
    "\n",
    "n_iter = 5\n",
    "\n",
    "for i in range(n_iter):\n",
    "    # 分割\n",
    "    X_train_bag, X_test_bag, y_train_bag, y_test_bag = train_test_split(ss_X, y, test_size=0.25, shuffle = True)\n",
    "\n",
    "    # 学習\n",
    "    clf = model_LR.fit(X_train_bag, y_train_bag)\n",
    "\n",
    "    # 推定\n",
    "    y_pred_WK = model_LR.predict(X_test_bag).reshape(-1,1)\n",
    "\n",
    "    # predict arrayに追加\n",
    "    y_pred = np.concatenate([y_pred, y_pred_WK], axis = 1)\n",
    "\n",
    "print(\"befor delete y_pred.shape = {}\".format(y_pred.shape))\n",
    "y_pred = np.delete(y_pred, 0, axis = 1)\n",
    "print(\"after delete y_pred.shape = {}\".format(y_pred.shape))\n",
    "    \n",
    "# 推定結果の平均\n",
    "y_pred_DT = np.mean(y_pred, axis = 1).reshape(-1,1)\n",
    "print(\"y_pred_DT.shape = {}\".format(y_pred_DT.shape))\n",
    "\n",
    "# 評価\n",
    "err_DT = mean_squared_error(y_test, y_pred_DT)\n",
    "err_DT"
   ]
  },
  {
   "cell_type": "code",
   "execution_count": 19,
   "metadata": {},
   "outputs": [
    {
     "name": "stdout",
     "output_type": "stream",
     "text": [
      "y_pred_DT.shape = (146, 1)\n"
     ]
    },
    {
     "data": {
      "text/plain": [
       "2326674755.3579326"
      ]
     },
     "execution_count": 19,
     "metadata": {},
     "output_type": "execute_result"
    }
   ],
   "source": [
    "from sklearn.tree import DecisionTreeClassifier\n",
    "\n",
    "# 決定木\n",
    "model_LR_bag = LR()\n",
    "\n",
    "# 標準化\n",
    "ss = StandardScaler()\n",
    "ss.fit(X)\n",
    "ss_X = ss.transform(X)\n",
    "\n",
    "X_train_bag, X_test_bag, y_train_bag, y_test_bag = train_test_split(ss_X, y, test_size=0.25, shuffle = True)\n",
    "\n",
    "# 空行列作成\n",
    "y_test_bag.reshape(-1,1)\n",
    "y_pred = np.zeros((y_test_bag.shape[0], 1))\n",
    "y_true = np.zeros((y_test_bag.shape[0], 1))\n",
    "\n",
    "\n",
    "n_iter = 5\n",
    "\n",
    "for i in range(n_iter):\n",
    "    # 分割\n",
    "    X_train_bag, X_test_bag, y_train_bag, y_test_bag = train_test_split(ss_X, y, test_size=0.25, shuffle = True)\n",
    "\n",
    "    # 学習\n",
    "    model_LR_bag.fit(X_train_bag, y_train_bag)\n",
    "\n",
    "    # 推定\n",
    "    y_pred_WK = model_LR_bag.predict(X_test_bag).reshape(-1,1)\n",
    "    y_test_bag = y_test_bag.reshape(-1,1)\n",
    "    \n",
    "    y_pred = np.concatenate([y_pred, y_pred_WK], axis = 1)\n",
    "    y_true = np.concatenate([y_true, y_test_bag], axis = 1)\n",
    "\n",
    "# 正解データ、予測データの最初の列はダミーデータが入っているので削除する。\n",
    "y_pred = np.delete(y_pred, 0, axis = 1)\n",
    "y_true = np.delete(y_true, 0, axis = 1)\n",
    "\n",
    "    \n",
    "# 正解データ、推定結果の平均\n",
    "y_pred_LR = np.mean(y_pred, axis = 1).reshape(-1,1)\n",
    "y_true = np.mean(y_true, axis = 1).reshape(-1,1)\n",
    "print(\"y_pred_DT.shape = {}\".format(y_pred_LR.shape))\n",
    "\n",
    "# 評価\n",
    "err_LR_bag = mean_squared_error(y_true, y_pred_DT)\n",
    "err_LR_bag"
   ]
  },
  {
   "cell_type": "markdown",
   "metadata": {},
   "source": [
    "以上をまとめると\n",
    "\n",
    "| 単一モデル                |                   |\n",
    "|---------------------------|-------------------|\n",
    "| モデル                    | MSE               |\n",
    "| ③線形回帰 | 7864439110.391713 |\n",
    "\n",
    "\n",
    "| アンサンブル(バギング)    |                   |\n",
    "|---------------------------|-------------------|\n",
    "| モデル                    | MSE               |\n",
    "| ③線形回帰 | 2326674755.35793 |"
   ]
  },
  {
   "cell_type": "markdown",
   "metadata": {},
   "source": [
    "##### 以上の結果となり、線形回帰の単体のMSEが7864439110.39171であるのに対して、  \n",
    "##### バギングを行った後のMSEは、2326674755.35793となり、3.38倍以上の精度向上が見られた。"
   ]
  },
  {
   "cell_type": "markdown",
   "metadata": {},
   "source": [
    "# 5.スタッキング"
   ]
  },
  {
   "cell_type": "markdown",
   "metadata": {},
   "source": [
    "## 【問題3】スタッキングのスクラッチ実装\n",
    "スタッキング をスクラッチ実装し、単一モデルより精度があがる例を 最低1つ 示してください。"
   ]
  },
  {
   "cell_type": "markdown",
   "metadata": {},
   "source": [
    "### スタッキングとは"
   ]
  },
  {
   "cell_type": "markdown",
   "metadata": {},
   "source": [
    "スタッキングの手順は以下の通りです。最低限ステージ0とステージ1があればスタッキングは成立するため、それを実装してください。  \n",
    "まずは \n",
    "$K_0$= 3, $M_0$= 2\n",
    " 程度にします。"
   ]
  },
  {
   "cell_type": "markdown",
   "metadata": {},
   "source": [
    "#### 《学習時》"
   ]
  },
  {
   "cell_type": "markdown",
   "metadata": {},
   "source": [
    "（ステージ 0 ）\n",
    "\n",
    "・学習データを $K_0$個に分割する。  \n",
    "・分割した内の ($K_0$ − 1) 個をまとめて学習用データ、残り 1個を推定用データとする組み合わせが $K_0$ 個作れる。  \n",
    "・あるモデルのインスタンスを $K_0$ 個用意し、異なる学習用データを使い学習する。  \n",
    "・それぞれの学習済みモデルに対して、使っていない残り 1 個の推定用データを入力し、推定値を得る。  \n",
    "（これをブレンドデータと呼ぶ）  \n",
    "・さらに、異なるモデルのインスタンスも $K_0$ 個用意し、同様のことを行う。モデルが $M_0$ 個あれば、   \n",
    "$M_0$ 個のブレンドデータが得られる。  "
   ]
  },
  {
   "cell_type": "markdown",
   "metadata": {},
   "source": [
    "（ステージ n ）\n",
    "\n",
    "・ステージ n − 1 のブレンドデータを $M_n−1$ 次元の特徴量を持つ学習用データと考え、 $K_n$ 個に分割する。  \n",
    "以下同様である。"
   ]
  },
  {
   "cell_type": "markdown",
   "metadata": {},
   "source": [
    "（ステージ N ）＊最後のステージ\n",
    "\n",
    "・ステージ N − 1 の $M_{N−1}$ 個のブレンドデータを$M_{N−1}$ 次元の特徴量の入力として、  \n",
    "1種類のモデルの学習を行う。これが最終的な推定を行うモデルとなる。"
   ]
  },
  {
   "cell_type": "markdown",
   "metadata": {},
   "source": [
    "#### 《推定時》"
   ]
  },
  {
   "cell_type": "markdown",
   "metadata": {},
   "source": [
    "（ステージ 0 ）\n",
    "\n",
    "・テストデータを \n",
    "$K_0$ × $M_0$ 個の学習済みモデルに入力し、$K_0$ × $M_0$ 個の推定値を得る。  \n",
    "これを $K_0$ の軸で平均値を求め $M_0$ 次元の特徴量を持つデータを得る。（ブレンドテストと呼ぶ）"
   ]
  },
  {
   "cell_type": "markdown",
   "metadata": {},
   "source": [
    "（ステージ n ）\n",
    "\n",
    "・ステージ n−1 で得たブレンドテストを $K_n$ × $M_n$ 個の学習済みモデルに入力し、$K_n$ × $M_n$ 個の推定値を得る。  \n",
    "これを $K_n$ の軸で平均値を求め $M_0$ 次元の特徴量を持つデータを得る。（ブレンドテストと呼ぶ）"
   ]
  },
  {
   "cell_type": "markdown",
   "metadata": {},
   "source": [
    "（ステージ N ）＊最後のステージ\n",
    "\n",
    "・ステージ N − 1 で得たブレンドテストを学習済みモデルに入力し、推定値を得る。"
   ]
  },
  {
   "cell_type": "markdown",
   "metadata": {},
   "source": [
    "### 《学習時》"
   ]
  },
  {
   "cell_type": "code",
   "execution_count": 69,
   "metadata": {},
   "outputs": [
    {
     "name": "stdout",
     "output_type": "stream",
     "text": [
      "i =  0\n",
      "X_train.shape = (388, 2)\n",
      "X_test.shape = (388, 2)\n",
      "y_train.shape = (388,)\n",
      "y_test.shape = (195,)\n",
      "i =  1\n",
      "X_train.shape = (389, 2)\n",
      "X_test.shape = (389, 2)\n",
      "y_train.shape = (389,)\n",
      "y_test.shape = (194,)\n",
      "i =  2\n",
      "X_train.shape = (389, 2)\n",
      "X_test.shape = (389, 2)\n",
      "y_train.shape = (389,)\n",
      "y_test.shape = (194,)\n",
      "y_brend_fin.shape =  (583, 1)\n"
     ]
    }
   ],
   "source": [
    "# クロスバリデーション\n",
    "from sklearn.model_selection import KFold\n",
    "from sklearn.linear_model import Lasso\n",
    "\n",
    "X_train_list = []\n",
    "X_test_list = []\n",
    "y_train_list = []\n",
    "y_test_list = []\n",
    "model_ins = []\n",
    "i = 0\n",
    "y_brend1 = None\n",
    "y_brend2 = None\n",
    "y_brend3 = None\n",
    "y_brend4 = None\n",
    "\n",
    "model_ins1 = []\n",
    "model_ins2 = []\n",
    "\n",
    "\n",
    "# << stage 0 >> ■■■■■■■■■■■■■■■■■■■■■■■■■■■■■■■■■■■■■■■■■■■■■■■■■■■■■■■■■■■■■■■■■■■\n",
    "\n",
    "# 分割数\n",
    "K0= 3\n",
    "\n",
    "# モデル数\n",
    "M0 = 2\n",
    "\n",
    "# クロスバリデーション\n",
    "kf = KFold(n_splits = K0)\n",
    "kf.get_n_splits(ss_X)\n",
    "\n",
    "# 変数初期化\n",
    "y_brend = np.zeros(ss_X.shape[0] * M0).reshape(ss_X.shape[0], M0).reshape(-1, M0)\n",
    "model_ins_0 = np.empty(K0 * M0).reshape(K0, M0)\n",
    "model_ins_0 = model_ins_0.astype(np.object)\n",
    "\n",
    "# インスタンス作成\n",
    "for ins in range(K0):\n",
    "    \n",
    "    model_ins_0[ins,0] = SVR()\n",
    "    model_ins_0[ins,1] = RFR()\n",
    "\n",
    "\n",
    "# データ分割\n",
    "for i, (train_index, test_index) in enumerate(kf.split(ss_X)):\n",
    "    print(\"i = \", i)\n",
    "    #print(\"TRAIN:\", train_index, \"TEST:\", test_index)\n",
    "\n",
    "        \n",
    "    X_train, X_test = ss_X[train_index], ss_X[test_index]\n",
    "    y_train, y_test = y[train_index], y[test_index]\n",
    "    X_train_list.append(X_train)\n",
    "    X_test_list.append(X_test)\n",
    "    y_train_list.append(y_train)\n",
    "    y_test_list.append(y_test)\n",
    "    print(\"X_train.shape = {}\".format(X_train.shape))\n",
    "    print(\"X_test.shape = {}\".format(X_train.shape))\n",
    "    print(\"y_train.shape = {}\".format(y_train.shape))\n",
    "    print(\"y_test.shape = {}\".format(y_test.shape))\n",
    "    \n",
    "    \n",
    "    for j in range(M0):\n",
    "        # 学習\n",
    "        model_ins_0[i,j].fit(X_train, y_train)\n",
    "\n",
    "        # 推定\n",
    "        y_brend[test_index, j] = model_ins_0[i,j].predict(X_test).flatten()\n",
    "    \n",
    "#print(\"★★★y_brend = \\n{}\".format(y_brend))\n",
    "#print(\"★★★y_brend.shape = {}\".format(y_brend.shape))\n",
    "\n",
    "\n",
    "# << stage n >> ■■■■■■■■■■■■■■■■■■■■■■■■■■■■■■■■■■■■■■■■■■■■■■■■■■■■■■■■■■■■■■■■■■■\n",
    "Kn = 3\n",
    "Mn = 2\n",
    "n_cnt = 1\n",
    "kf = KFold(n_splits = Kn)\n",
    "kf.get_n_splits(X)\n",
    "\n",
    "# 変数初期化\n",
    "model_ins_n = np.empty(Kn * Mn).reshape(Kn, Mn)\n",
    "model_ins_n = model_ins_n.astype(np.object)\n",
    "\n",
    "\n",
    "# インスタンス作成\n",
    "for ins in range(K0):\n",
    "    \n",
    "    model_ins_n[ins,0] = LR()\n",
    "    model_ins_n[ins,1] = DTR()\n",
    "\n",
    "# n回ループ\n",
    "for n in range(n_cnt):\n",
    "    for i, (train_index, test_index) in enumerate(kf.split(y_brend)):\n",
    "\n",
    "        X_train, X_test = y_brend[train_index], y_brend[test_index]\n",
    "        y_train, y_test = y[train_index], y[test_index]\n",
    "        X_train_list.append(X_train)\n",
    "        X_test_list.append(X_test)\n",
    "        y_train_list.append(y_train)\n",
    "        y_test_list.append(y_test)\n",
    "\n",
    "\n",
    "        for j in range(Mn):\n",
    "            # 学習\n",
    "            model_ins_n[i,j].fit(X_train, y_train)\n",
    "\n",
    "            # 推定\n",
    "            y_brend[test_index, j] = model_ins_n[i,j].predict(X_test).flatten()\n",
    "\n",
    "\n",
    "# << Last Stage >> ■■■■■■■■■■■■■■■■■■■■■■■■■■■■■■■■■■■■■■■■■■■■■■■■■■■■■■■■■■■■■■■■■■■\n",
    "Kl = 3\n",
    "Ml = 1\n",
    "n_cnt = 1\n",
    "kf = KFold(n_splits = Kl)\n",
    "kf.get_n_splits(X)\n",
    "\n",
    "# 変数初期化\n",
    "y_brend_fin = np.zeros(ss_X.shape[0] * Ml).reshape(ss_X.shape[0], Ml).reshape(-1, Ml)\n",
    "model_ins_l = np.empty(Kl * Ml).reshape(Kl, Ml)\n",
    "model_ins_l = model_ins_l.astype(np.object)\n",
    "\n",
    "\n",
    "# インスタンス作成\n",
    "for ins in range(Kl):\n",
    "    # model_ins_l[ins,0] = Lasso(alpha=0.1)\n",
    "    model_ins_l[ins,0] = RFR()\n",
    "    # model_ins_l[ins,0] = GaussianNB()\n",
    "    \n",
    "for i, (train_index, test_index) in enumerate(kf.split(y_brend)):\n",
    "\n",
    "    X_train, X_test = y_brend[train_index], y_brend[test_index]\n",
    "    y_train, y_test = y[train_index], y[test_index]\n",
    "    X_train_list.append(X_train)\n",
    "    X_test_list.append(X_test)\n",
    "    y_train_list.append(y_train)\n",
    "    y_test_list.append(y_test)\n",
    "\n",
    "    # 学習\n",
    "    model_ins_l[i,0].fit(X_train, y_train)\n",
    "\n",
    "    # 推定\n",
    "    y_brend_fin[test_index, 0] = model_ins_l[i,0].predict(X_test).flatten()\n",
    "    \n",
    "    \n",
    "print(\"y_brend_fin.shape = \", y_brend_fin.shape)"
   ]
  },
  {
   "cell_type": "markdown",
   "metadata": {},
   "source": [
    "### 《推定時》"
   ]
  },
  {
   "cell_type": "code",
   "execution_count": 70,
   "metadata": {},
   "outputs": [
    {
     "name": "stdout",
     "output_type": "stream",
     "text": [
      "y_predict_fin.shape (583,)\n"
     ]
    }
   ],
   "source": [
    "# << stage 0 >> ■■■■■■■■■■■■■■■■■■■■■■■■■■■■■■■■■■■■■■■■■■■■■■■■■■■■■■■■■■■■■■■■■■■\n",
    "predict_model_0 = np.zeros(ss_X.shape[0] * M0).reshape(ss_X.shape[0], -1)\n",
    "for m in range(M0):\n",
    "    predict_instance_0 = np.zeros(ss_X.shape[0] * K0).reshape(ss_X.shape[0], -1)\n",
    "    \n",
    "    for k in range(K0):\n",
    "        # 推定\n",
    "        predict_instance_0[:,k] = model_ins_0[k,m].predict(ss_X)\n",
    "        \n",
    "    predict_model_0[:,m] = np.mean(predict_instance_0, axis = 1).flatten()\n",
    "\n",
    "# << stage n >> ■■■■■■■■■■■■■■■■■■■■■■■■■■■■■■■■■■■■■■■■■■■■■■■■■■■■■■■■■■■■■■■■■■■\n",
    "# n回ループ\n",
    "for n in range(n_cnt):\n",
    "    predict_model_n = np.zeros(ss_X.shape[0] * Mn).reshape(ss_X.shape[0], -1)\n",
    "    predict_model_n = predict_model_0\n",
    "    for m in range(M0):\n",
    "        predict_instance_n = np.zeros(ss_X.shape[0] * Kn).reshape(ss_X.shape[0] , -1)\n",
    "\n",
    "        for k in range(K0):\n",
    "            predict_instance_n[:,k] = model_ins_n[k,m].predict(predict_model_n)\n",
    "            \n",
    "        predict_model_n[:,m] = np.mean(predict_instance_n, axis = 1).flatten()\n",
    "        \n",
    "# << Last Stage >> ■■■■■■■■■■■■■■■■■■■■■■■■■■■■■■■■■■■■■■■■■■■■■■■■■■■■■■■■■■■■■■■■■■■\n",
    "# 推定\n",
    "y_predict_fin = model_ins_l[i,0].predict(predict_model_n).flatten()\n",
    "y_predict_fin.reshape(ss_X.shape[0], -1)\n",
    "\n",
    "print(\"y_predict_fin.shape\", y_predict_fin.shape)\n"
   ]
  },
  {
   "cell_type": "code",
   "execution_count": 71,
   "metadata": {},
   "outputs": [
    {
     "data": {
      "text/plain": [
       "2669079509.707969"
      ]
     },
     "execution_count": 71,
     "metadata": {},
     "output_type": "execute_result"
    }
   ],
   "source": [
    "# 評価\n",
    "MSE = mean_squared_error(y, y_predict_fin)\n",
    "MSE"
   ]
  },
  {
   "cell_type": "markdown",
   "metadata": {},
   "source": [
    "### 以上より、スタッキングを用いるとMSE = 2669079509.707969 となり、最善の結果が出た。"
   ]
  }
 ],
 "metadata": {
  "kernelspec": {
   "display_name": "Python 3",
   "language": "python",
   "name": "python3"
  },
  "language_info": {
   "codemirror_mode": {
    "name": "ipython",
    "version": 3
   },
   "file_extension": ".py",
   "mimetype": "text/x-python",
   "name": "python",
   "nbconvert_exporter": "python",
   "pygments_lexer": "ipython3",
   "version": "3.7.6"
  }
 },
 "nbformat": 4,
 "nbformat_minor": 4
}
