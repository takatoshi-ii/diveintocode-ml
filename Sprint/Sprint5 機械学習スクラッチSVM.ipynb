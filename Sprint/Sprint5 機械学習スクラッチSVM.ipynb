{
 "cells": [
  {
   "cell_type": "markdown",
   "metadata": {},
   "source": [
    "# Sprint5課題 機械学習スクラッチSVM"
   ]
  },
  {
   "cell_type": "markdown",
   "metadata": {},
   "source": [
    "## ＜データ読込＞"
   ]
  },
  {
   "cell_type": "markdown",
   "metadata": {},
   "source": [
    "### ＜シンプルデータセット1＞"
   ]
  },
  {
   "cell_type": "code",
   "execution_count": 1,
   "metadata": {},
   "outputs": [],
   "source": [
    "import numpy as np\n",
    "from sklearn.model_selection import train_test_split\n",
    "np.random.seed(seed=0)\n",
    "n_samples = 500\n",
    "f0 = [-1, 2]\n",
    "f1 = [2, -1]\n",
    "cov = [[1.0,0.8], [0.8, 1.0]]\n",
    "f0 = np.random.multivariate_normal(f0, cov, int(n_samples/2))\n",
    "f1 = np.random.multivariate_normal(f1, cov, int(n_samples/2))\n",
    "X = np.concatenate((f0, f1))\n",
    "y = np.concatenate((np.ones((int(n_samples/2))), np.ones((int(n_samples/2))) *(-1))).astype(np.int)\n",
    "random_index = np.random.permutation(np.arange(n_samples))\n",
    "\n",
    "X = X[random_index]\n",
    "y = y[random_index].reshape(-1,1)\n",
    "\n",
    "ds_simple1={}\n",
    "\n",
    "ds_simple1[\"X\"] = X\n",
    "ds_simple1[\"y\"] = y\n",
    "\n",
    "ds_X_train, ds_X_test, ds_y_train, ds_y_test = train_test_split(ds_simple1[\"X\"], ds_simple1[\"y\"], test_size=0.25)"
   ]
  },
  {
   "cell_type": "code",
   "execution_count": 2,
   "metadata": {},
   "outputs": [],
   "source": [
    "class ScratchSVMClassifier():\n",
    "    \"\"\"\n",
    "    SVM分類器のスクラッチ実装\n",
    "\n",
    "    Parameters\n",
    "    ----------\n",
    "    num_iter : int\n",
    "      イテレーション数\n",
    "    lr : float\n",
    "      学習率\n",
    "    kernel : str\n",
    "      カーネルの種類。線形カーネル（linear）か多項式カーネル（polly）\n",
    "    threshold : float\n",
    "      サポートベクターを選ぶための閾値\n",
    "    verbose : bool\n",
    "      学習過程を出力する場合はTrue\n",
    "    gamma : float\n",
    "      多項式カーネルのガンマ      \n",
    "\n",
    "    Attributes\n",
    "    ----------\n",
    "    self.n_support_vectors : int\n",
    "      サポートベクターの数\n",
    "    self.index_support_vectors : 次の形のndarray, shape (n_support_vectors,)\n",
    "      サポートベクターのインデックス\n",
    "    self.X_sv :  次の形のndarray, shape(n_support_vectors, n_features)\n",
    "      サポートベクターの特徴量\n",
    "    self.lam_sv :  次の形のndarray, shape(n_support_vectors, 1)\n",
    "      サポートベクターの未定乗数\n",
    "    self.y_sv :  次の形のndarray, shape(n_support_vectors, 1)\n",
    "      サポートベクターのラベル\n",
    "\n",
    "    \"\"\"\n",
    "    def __init__(self, num_iter, lr, kernel='linear', threshold=1e-5, gamma = 0.1, theta_zero = 0, dim = 1, verbose=False):\n",
    "        # ハイパーパラメータを属性として記録\n",
    "        self.iter = num_iter\n",
    "        self.lr = lr\n",
    "        self.kernel = kernel\n",
    "        self.threshold = threshold\n",
    "        self.verbose = verbose   \n",
    "        self.lam = 0\n",
    "        self.lam_sv = 0\n",
    "        self.sv_cnt = []\n",
    "        self.X_sv = 0\n",
    "        self.y_sv = 0\n",
    "        self.gamma = gamma\n",
    "        self.theta_zero = theta_zero\n",
    "        self.dim = dim\n",
    "        \n",
    "    def fit(self, X, y, X_val=None, y_val=None):\n",
    "        \"\"\"\n",
    "        SVM分類器を学習する。検証データが入力された場合はそれに対する精度もイテレーションごとに計算する。\n",
    "\n",
    "        Parameters\n",
    "        ----------\n",
    "        X : 次の形のndarray, shape (n_samples, n_features)\n",
    "            訓練データの特徴量\n",
    "        y : 次の形のndarray, shape (n_samples, )\n",
    "            訓練データの正解値\n",
    "        X_val : 次の形のndarray, shape (n_samples, n_features)\n",
    "            検証データの特徴量\n",
    "        y_val : 次の形のndarray, shape (n_samples, )\n",
    "            検証データの正解値\n",
    "        \"\"\"\n",
    "        # numpyの表示を少数化\n",
    "        np.set_printoptions(precision=8, suppress=True)\n",
    "        \n",
    "        # yを2次元化\n",
    "        y = y.reshape(-1,1)\n",
    "        \n",
    "        # λを初期化\n",
    "        self.lam = np.random.randn(X.shape[0])     \n",
    "        self.lam = self.lam.reshape(-1,1)\n",
    "\n",
    "        # サポートベクタX_sv、y_svを初期化\n",
    "        X_sv = X\n",
    "        y_sv = y\n",
    "        \n",
    "        for i in range(self.iter):\n",
    "            # 最急降下法\n",
    "            self.lam = self._gradient_descent(X, y)  \n",
    "            \n",
    "            sv_work = self.lam[self.lam > self.threshold]\n",
    "            \n",
    "            if self.verbose == True:\n",
    "                print(\"〇〇〇学習データ{}回目：サポートベクトル数 = {}\".format(i+1, sv_work.shape[0]))\n",
    "                \n",
    "            self.sv_cnt.append(sv_work.shape[0])\n",
    "        \n",
    "        # 閾値をセット\n",
    "        self.index_support_vectors = np.where(self.lam.flatten() > self.threshold)\n",
    "        self.n_support_vectors = len(self.index_support_vectors)\n",
    "        \n",
    "        # サポートベクトルを抽出\n",
    "        self.lam_sv = self.lam[self.index_support_vectors].reshape(-1,1)\n",
    "        self.X_sv = X[self.index_support_vectors].reshape(-1,2)\n",
    "        self.y_sv = y[self.index_support_vectors].reshape(-1,1)\n",
    "        \n",
    "\n",
    "        # 推定            \n",
    "        y_pred = self.predict(X)\n",
    "\n",
    "    \n",
    "    def kernel_func(self, Xi, Xj):\n",
    "        #print(\"<<kernel_func>>\")\n",
    "\n",
    "        if self.kernel == 'linear':\n",
    "            ret_kernel = np.dot(Xi,  Xj.T)  \n",
    "            \n",
    "        elif self.kernel == 'poly':\n",
    "            gamma = self.gamma\n",
    "            theta_zero = self.theta_zero\n",
    "            dim = self.dim\n",
    "            ret_kernel = (gamma * np.dot(Xi,  Xj.T) + theta_zero)**dim\n",
    "        return ret_kernel\n",
    "    \n",
    "    \n",
    "    def _gradient_descent(self, X, y ):\n",
    "        #print(\"<<_gradient_descent>>\")\n",
    "        \"\"\"\n",
    "        最急降下法を計算する\n",
    "\n",
    "        Parameters\n",
    "        ----------\n",
    "        X : 次の形のndarray, shape (n_samples, n_features)\n",
    "          訓練データ\n",
    "        error : 計算した誤差\n",
    "\n",
    "        Returns\n",
    "        -------\n",
    "          次の形のndarray, shape (n_samples, 1)\n",
    "          線形の仮定関数による推定結果\n",
    "\n",
    "        \"\"\"\n",
    "\n",
    "        self.lam += self.lr * (1 - np.dot((np.dot(y, y.T) * self.kernel_func(X, X)), self.lam) )\n",
    "        \n",
    "        # ０未満の場合は０へクリップ\n",
    "        self.lam[self.lam < 0] = 0\n",
    "        \n",
    "        return self.lam    \n",
    "    \n",
    "    \n",
    "    def predict(self, X):\n",
    "        \"\"\"\n",
    "        SVM分類器を使いラベルを推定する。\n",
    "\n",
    "        Parameters\n",
    "        ----------\n",
    "        X : 次の形のndarray, shape (n_samples, n_features)\n",
    "            サンプル\n",
    "\n",
    "        Returns\n",
    "        -------\n",
    "            次の形のndarray, shape (n_samples, 1)\n",
    "            SVM分類器による推定結果\n",
    "        \"\"\"\n",
    "\n",
    "        # y_predの初期化\n",
    "        y_pred = np.zeros(X.shape[0])\n",
    "        y_pred = y_pred.reshape([-1,1])\n",
    "        \n",
    "        # 推定\n",
    "        y_pred = np.dot(self.kernel_func(X, self.X_sv), (self.lam_sv * self.y_sv))\n",
    "        \n",
    "        # ０未満はー１へそれ以外は１\n",
    "        y_pred = np.where(y_pred < 0, -1, 1)\n",
    "        \n",
    "        # 次元調整        \n",
    "        y_pred = y_pred.reshape(-1,1)\n",
    "        \n",
    "        return y_pred\n"
   ]
  },
  {
   "cell_type": "markdown",
   "metadata": {},
   "source": [
    "## 【問題1】ラグランジュの未定乗数法による最急降下"
   ]
  },
  {
   "cell_type": "markdown",
   "metadata": {},
   "source": [
    "```python\n",
    "    def _gradient_descent(self, X, y ):\n",
    "        #print(\"<<_gradient_descent>>\")\n",
    "        \"\"\"\n",
    "        最急降下法を計算する\n",
    "\n",
    "        Parameters\n",
    "        ----------\n",
    "        X : 次の形のndarray, shape (n_samples, n_features)\n",
    "          訓練データ\n",
    "        error : 計算した誤差\n",
    "\n",
    "        Returns\n",
    "        -------\n",
    "          次の形のndarray, shape (n_samples, 1)\n",
    "          線形の仮定関数による推定結果\n",
    "\n",
    "        \"\"\"\n",
    "\n",
    "        self.lam += self.lr * (1 - np.dot((np.dot(y, y.T) * self.kernel_func(X, X)), self.lam) )\n",
    "        \n",
    "        # ０未満の場合は０へクリップ\n",
    "        self.lam[self.lam < 0] = 0\n",
    "        \n",
    "        return self.lam  \n",
    "```"
   ]
  },
  {
   "cell_type": "markdown",
   "metadata": {},
   "source": [
    "## 【問題2】サポートベクターの決定"
   ]
  },
  {
   "cell_type": "markdown",
   "metadata": {},
   "source": [
    "```python\n",
    "        # yを2次元化\n",
    "        y = y.reshape(-1,1)\n",
    "        \n",
    "        # λを初期化\n",
    "        self.lam = np.random.randn(X.shape[0])     \n",
    "        self.lam = self.lam.reshape(-1,1)\n",
    "\n",
    "        # サポートベクタX_sv、y_svを初期化\n",
    "        X_sv = X\n",
    "        y_sv = y\n",
    "        \n",
    "        for i in range(self.iter):\n",
    "            # 最急降下法\n",
    "            self.lam = self._gradient_descent(X, y)  \n",
    "            \n",
    "            sv_work = self.lam[self.lam > self.threshold]\n",
    "            \n",
    "            if self.verbose == True:\n",
    "                print(\"〇〇〇学習データ{}回目：サポートベクトル数 = {}\".format(i+1, sv_work.shape[0]))\n",
    "                \n",
    "            self.sv_cnt.append(sv_work.shape[0])\n",
    "        \n",
    "        # 閾値をセット\n",
    "        self.index_support_vectors = np.where(self.lam.flatten() > self.threshold)\n",
    "        self.n_support_vectors = len(self.index_support_vectors)\n",
    "        \n",
    "        # サポートベクトルを抽出\n",
    "        self.lam_sv = self.lam[self.index_support_vectors].reshape(-1,1)\n",
    "        self.X_sv = X[self.index_support_vectors].reshape(-1,2)\n",
    "        self.y_sv = y[self.index_support_vectors].reshape(-1,1)\n",
    "        \n",
    "\n",
    "```"
   ]
  },
  {
   "cell_type": "markdown",
   "metadata": {},
   "source": [
    "## 【問題3】推定"
   ]
  },
  {
   "cell_type": "markdown",
   "metadata": {},
   "source": [
    "```python\n",
    "    def predict(self, X):\n",
    "        \"\"\"\n",
    "        SVM分類器を使いラベルを推定する。\n",
    "\n",
    "        Parameters\n",
    "        ----------\n",
    "        X : 次の形のndarray, shape (n_samples, n_features)\n",
    "            サンプル\n",
    "\n",
    "        Returns\n",
    "        -------\n",
    "            次の形のndarray, shape (n_samples, 1)\n",
    "            SVM分類器による推定結果\n",
    "        \"\"\"\n",
    "\n",
    "        # y_predの初期化\n",
    "        y_pred = np.zeros(X.shape[0])\n",
    "        y_pred = y_pred.reshape([-1,1])\n",
    "        \n",
    "        # 推定\n",
    "        y_pred = np.dot(self.kernel_func(X, self.X_sv), (self.lam_sv * self.y_sv))\n",
    "        \n",
    "        # ０未満はー１へそれ以外は１\n",
    "        y_pred = np.where(y_pred < 0, -1, 1)\n",
    "        \n",
    "        # 次元調整        \n",
    "        y_pred = y_pred.reshape(-1,1)\n",
    "        \n",
    "        return y_pred\n",
    "\n",
    "```"
   ]
  },
  {
   "cell_type": "markdown",
   "metadata": {},
   "source": [
    "## 【問題4】学習と推定"
   ]
  },
  {
   "cell_type": "code",
   "execution_count": null,
   "metadata": {},
   "outputs": [],
   "source": [
    "ScratchSVM = ScratchSVMClassifier(num_iter = 1000, lr = 0.001, threshold=1e-5, verbose = True)\n",
    "\n",
    "# 学習開始\n",
    "ScratchSVM.fit(ds_X_train, ds_y_train)"
   ]
  },
  {
   "cell_type": "code",
   "execution_count": 4,
   "metadata": {},
   "outputs": [
    {
     "data": {
      "text/html": [
       "<div>\n",
       "<style scoped>\n",
       "    .dataframe tbody tr th:only-of-type {\n",
       "        vertical-align: middle;\n",
       "    }\n",
       "\n",
       "    .dataframe tbody tr th {\n",
       "        vertical-align: top;\n",
       "    }\n",
       "\n",
       "    .dataframe thead th {\n",
       "        text-align: right;\n",
       "    }\n",
       "</style>\n",
       "<table border=\"1\" class=\"dataframe\">\n",
       "  <thead>\n",
       "    <tr style=\"text-align: right;\">\n",
       "      <th></th>\n",
       "      <th>-1</th>\n",
       "      <th>1</th>\n",
       "      <th>accuracy</th>\n",
       "      <th>macro avg</th>\n",
       "      <th>weighted avg</th>\n",
       "    </tr>\n",
       "  </thead>\n",
       "  <tbody>\n",
       "    <tr>\n",
       "      <th>precision</th>\n",
       "      <td>1.0</td>\n",
       "      <td>1.0</td>\n",
       "      <td>1.0</td>\n",
       "      <td>1.0</td>\n",
       "      <td>1.0</td>\n",
       "    </tr>\n",
       "    <tr>\n",
       "      <th>recall</th>\n",
       "      <td>1.0</td>\n",
       "      <td>1.0</td>\n",
       "      <td>1.0</td>\n",
       "      <td>1.0</td>\n",
       "      <td>1.0</td>\n",
       "    </tr>\n",
       "    <tr>\n",
       "      <th>f1-score</th>\n",
       "      <td>1.0</td>\n",
       "      <td>1.0</td>\n",
       "      <td>1.0</td>\n",
       "      <td>1.0</td>\n",
       "      <td>1.0</td>\n",
       "    </tr>\n",
       "    <tr>\n",
       "      <th>support</th>\n",
       "      <td>62.0</td>\n",
       "      <td>63.0</td>\n",
       "      <td>1.0</td>\n",
       "      <td>125.0</td>\n",
       "      <td>125.0</td>\n",
       "    </tr>\n",
       "  </tbody>\n",
       "</table>\n",
       "</div>"
      ],
      "text/plain": [
       "             -1     1  accuracy  macro avg  weighted avg\n",
       "precision   1.0   1.0       1.0        1.0           1.0\n",
       "recall      1.0   1.0       1.0        1.0           1.0\n",
       "f1-score    1.0   1.0       1.0        1.0           1.0\n",
       "support    62.0  63.0       1.0      125.0         125.0"
      ]
     },
     "metadata": {},
     "output_type": "display_data"
    }
   ],
   "source": [
    "import pandas as pd\n",
    "from sklearn.metrics import classification_report\n",
    "y_pred_SVM = ScratchSVM.predict(ds_X_test)\n",
    "\n",
    "# 評価\n",
    "cr_SVM = classification_report(ds_y_test, y_pred_SVM, output_dict=True)\n",
    "\n",
    "# pandas.DataFrameへ変換\n",
    "df_cr_SVM = pd.DataFrame(cr_SVM)\n",
    "display(df_cr_SVM)"
   ]
  },
  {
   "cell_type": "markdown",
   "metadata": {},
   "source": [
    "### scikit-learnと比較"
   ]
  },
  {
   "cell_type": "code",
   "execution_count": 5,
   "metadata": {},
   "outputs": [
    {
     "name": "stdout",
     "output_type": "stream",
     "text": [
      "y_pred_SVM = \n",
      "[-1  1 -1  1 -1 -1 -1 -1  1 -1 -1 -1  1  1 -1 -1 -1  1 -1 -1 -1  1 -1 -1\n",
      " -1  1 -1  1  1  1  1  1 -1  1 -1  1 -1  1  1  1 -1 -1  1  1 -1  1 -1 -1\n",
      " -1 -1 -1  1  1  1 -1  1 -1  1  1 -1 -1 -1 -1  1 -1  1  1 -1 -1  1  1  1\n",
      "  1 -1  1  1  1  1 -1  1 -1 -1 -1 -1 -1 -1  1 -1  1 -1  1  1 -1 -1  1 -1\n",
      "  1 -1  1  1  1 -1  1  1  1 -1  1  1  1  1 -1 -1 -1 -1  1  1  1  1 -1 -1\n",
      "  1  1  1  1 -1]\n",
      "y_pred_SVM.shape = (125,)\n"
     ]
    },
    {
     "data": {
      "text/html": [
       "<div>\n",
       "<style scoped>\n",
       "    .dataframe tbody tr th:only-of-type {\n",
       "        vertical-align: middle;\n",
       "    }\n",
       "\n",
       "    .dataframe tbody tr th {\n",
       "        vertical-align: top;\n",
       "    }\n",
       "\n",
       "    .dataframe thead th {\n",
       "        text-align: right;\n",
       "    }\n",
       "</style>\n",
       "<table border=\"1\" class=\"dataframe\">\n",
       "  <thead>\n",
       "    <tr style=\"text-align: right;\">\n",
       "      <th></th>\n",
       "      <th>-1</th>\n",
       "      <th>1</th>\n",
       "      <th>accuracy</th>\n",
       "      <th>macro avg</th>\n",
       "      <th>weighted avg</th>\n",
       "    </tr>\n",
       "  </thead>\n",
       "  <tbody>\n",
       "    <tr>\n",
       "      <th>precision</th>\n",
       "      <td>1.0</td>\n",
       "      <td>1.0</td>\n",
       "      <td>1.0</td>\n",
       "      <td>1.0</td>\n",
       "      <td>1.0</td>\n",
       "    </tr>\n",
       "    <tr>\n",
       "      <th>recall</th>\n",
       "      <td>1.0</td>\n",
       "      <td>1.0</td>\n",
       "      <td>1.0</td>\n",
       "      <td>1.0</td>\n",
       "      <td>1.0</td>\n",
       "    </tr>\n",
       "    <tr>\n",
       "      <th>f1-score</th>\n",
       "      <td>1.0</td>\n",
       "      <td>1.0</td>\n",
       "      <td>1.0</td>\n",
       "      <td>1.0</td>\n",
       "      <td>1.0</td>\n",
       "    </tr>\n",
       "    <tr>\n",
       "      <th>support</th>\n",
       "      <td>62.0</td>\n",
       "      <td>63.0</td>\n",
       "      <td>1.0</td>\n",
       "      <td>125.0</td>\n",
       "      <td>125.0</td>\n",
       "    </tr>\n",
       "  </tbody>\n",
       "</table>\n",
       "</div>"
      ],
      "text/plain": [
       "             -1     1  accuracy  macro avg  weighted avg\n",
       "precision   1.0   1.0       1.0        1.0           1.0\n",
       "recall      1.0   1.0       1.0        1.0           1.0\n",
       "f1-score    1.0   1.0       1.0        1.0           1.0\n",
       "support    62.0  63.0       1.0      125.0         125.0"
      ]
     },
     "metadata": {},
     "output_type": "display_data"
    }
   ],
   "source": [
    "from sklearn.svm import SVC\n",
    "from sklearn.metrics import classification_report\n",
    "\n",
    "# SVM\n",
    "model_SVC = SVC(kernel = \"linear\")\n",
    "\n",
    "# 学習\n",
    "clf = model_SVC.fit(ds_X_train, ds_y_train.flatten())\n",
    "\n",
    "# 推定\n",
    "y_pred_SVM = model_SVC.predict(ds_X_test)\n",
    "print(\"y_pred_SVM = \\n{}\".format(y_pred_SVM))\n",
    "print(\"y_pred_SVM.shape = {}\".format(y_pred_SVM.shape))\n",
    "\n",
    "# 評価\n",
    "cr_SVN = classification_report(ds_y_test, y_pred_SVM, output_dict=True)\n",
    "\n",
    "# pandas.DataFrameへ変換\n",
    "df_cr_SVN = pd.DataFrame(cr_SVN)\n",
    "display(df_cr_SVN)\n"
   ]
  },
  {
   "cell_type": "markdown",
   "metadata": {},
   "source": [
    "### サポートベクタ―数の変移をグラフ化してみる"
   ]
  },
  {
   "cell_type": "code",
   "execution_count": 6,
   "metadata": {},
   "outputs": [
    {
     "data": {
      "image/png": "[encoded data removed]",
      "text/plain": [
       "<Figure size 432x288 with 1 Axes>"
      ]
     },
     "metadata": {
      "needs_background": "light"
     },
     "output_type": "display_data"
    }
   ],
   "source": [
    "import matplotlib.pyplot as plt\n",
    "%matplotlib inline\n",
    "\n",
    "\n",
    "plt.plot(range(len(ScratchSVM.sv_cnt)), ScratchSVM.sv_cnt, color='blue', label='support vector count')\n",
    "plt.xlabel(\"iter\")\n",
    "plt.ylabel(\"support vector count\")\n",
    "plt.title(\"support vector count curve\")\n",
    "plt.legend()\n",
    "plt.show()"
   ]
  },
  {
   "cell_type": "markdown",
   "metadata": {},
   "source": [
    "## 【問題5】決定領域の可視化"
   ]
  },
  {
   "cell_type": "code",
   "execution_count": 7,
   "metadata": {},
   "outputs": [],
   "source": [
    "import matplotlib.pyplot as plt\n",
    "from matplotlib.colors import ListedColormap\n",
    "import matplotlib.patches as mpatches\n",
    "def decision_region(X, y, model, sv_index, sv_index_name = \"support vector\", step=0.01, title='decision region', xlabel='xlabel', ylabel='ylabel', target_names=['versicolor', 'virginica']):\n",
    "    \"\"\"\n",
    "    2値分類を2次元の特徴量で学習したモデルの決定領域を描く。\n",
    "    背景の色が学習したモデルによる推定値から描画される。\n",
    "    散布図の点は訓練データまたは検証データである。\n",
    "\n",
    "    Parameters\n",
    "    ----------------\n",
    "    X : ndarray, shape(n_samples, 2)\n",
    "        特徴量\n",
    "    y : ndarray, shape(n_samples,)\n",
    "        ラベル\n",
    "    model : object\n",
    "        学習したモデルのインスンタスを入れる\n",
    "    sv_index : ndarray, shape(n_samples, 1)\n",
    "        サポートベクタのインデックス\n",
    "    sv_index_name : str\n",
    "        サポートベクタのラベル名\n",
    "    step : float, (default : 0.1)\n",
    "        推定値を計算する間隔を設定する\n",
    "    title : str\n",
    "        グラフのタイトルの文章を与える\n",
    "    xlabel, ylabel : str\n",
    "        軸ラベルの文章を与える\n",
    "    target_names= : list of str\n",
    "        凡例の一覧を与える\n",
    "    \"\"\"\n",
    "    # setting\n",
    "    scatter_color = ['red', 'blue']\n",
    "    contourf_color = ['pink', 'skyblue']\n",
    "    n_class = 2\n",
    "    \n",
    "    # pred\n",
    "    mesh_f0, mesh_f1  = np.meshgrid(np.arange(np.min(X[:,0])-0.5, np.max(X[:,0])+0.5, step), np.arange(np.min(X[:,1])-0.5, np.max(X[:,1])+0.5, step))\n",
    "    mesh = np.c_[np.ravel(mesh_f0),np.ravel(mesh_f1)]\n",
    "    y_pred = model.predict(mesh).reshape(mesh_f0.shape)\n",
    "    \n",
    "    # plot\n",
    "    plt.title(title)\n",
    "    plt.xlabel(xlabel)\n",
    "    plt.ylabel(ylabel)\n",
    "    plt.contourf(mesh_f0, mesh_f1, y_pred, n_class-1, cmap=ListedColormap(contourf_color))\n",
    "    plt.contour(mesh_f0, mesh_f1, y_pred, n_class-1, colors='y', linewidths=3, alpha=0.5)\n",
    "    for i, target in enumerate(set(y)):\n",
    "        plt.scatter(X[y==target][:, 0], X[y==target][:, 1], s=80, color=scatter_color[i], label=target_names[i], marker='o')\n",
    "    plt.scatter(X[sv_index, 0], X[sv_index, 1], s=80, color=\"yellow\", label=sv_index_name, marker='o')\n",
    "    \n",
    "    patches = [mpatches.Patch(color=scatter_color[i], label=target_names[i]) for i in range(n_class)]\n",
    "    plt.legend(handles=patches)\n",
    "    plt.legend()\n",
    "    plt.show()"
   ]
  },
  {
   "cell_type": "code",
   "execution_count": 8,
   "metadata": {},
   "outputs": [
    {
     "data": {
      "image/png": "[encoded data removed]",
      "text/plain": [
       "<Figure size 432x288 with 1 Axes>"
      ]
     },
     "metadata": {
      "needs_background": "light"
     },
     "output_type": "display_data"
    }
   ],
   "source": [
    "# 可視化\n",
    "target_names = ['sample1','sample2']\n",
    "decision_region(ds_X_train, ds_y_train.flatten(), ScratchSVM, sv_index = ScratchSVM.index_support_vectors, target_names = target_names, title='decision region of ScratchSVM', xlabel='f0', ylabel='f1')"
   ]
  },
  {
   "cell_type": "markdown",
   "metadata": {},
   "source": [
    "### scikit-learnと比較-----------------------------------------------------------------------------------------------------------"
   ]
  },
  {
   "cell_type": "code",
   "execution_count": 9,
   "metadata": {},
   "outputs": [
    {
     "data": {
      "text/plain": [
       "array([335, 112, 167])"
      ]
     },
     "execution_count": 9,
     "metadata": {},
     "output_type": "execute_result"
    }
   ],
   "source": [
    "model_SVC.support_"
   ]
  },
  {
   "cell_type": "code",
   "execution_count": 10,
   "metadata": {},
   "outputs": [
    {
     "data": {
      "image/png": "[encoded data removed]",
      "text/plain": [
       "<Figure size 432x288 with 1 Axes>"
      ]
     },
     "metadata": {
      "needs_background": "light"
     },
     "output_type": "display_data"
    }
   ],
   "source": [
    "# 可視化\n",
    "target_names = ['sample1','sample2']\n",
    "decision_region(ds_X_train, ds_y_train.flatten(), model_SVC, sv_index = model_SVC.support_, target_names = target_names, title='decision region of sklearn.SVC', xlabel='f0', ylabel='f1')"
   ]
  },
  {
   "cell_type": "markdown",
   "metadata": {},
   "source": [
    "## 【問題6】（アドバンス課題）多項式カーネル関数の作成"
   ]
  },
  {
   "cell_type": "code",
   "execution_count": null,
   "metadata": {},
   "outputs": [],
   "source": [
    "ScratchSVMpoly = ScratchSVMClassifier(num_iter = 1000, lr = 0.001, kernel = \"poly\", threshold=1e-5, gamma = 0.4, theta_zero = 0.8, dim = 3, verbose = True)\n",
    "\n",
    "# 学習開始\n",
    "ScratchSVMpoly.fit(ds_X_train, ds_y_train)"
   ]
  },
  {
   "cell_type": "markdown",
   "metadata": {},
   "source": [
    "### サポートベクタ―数の変移をグラフ化してみる"
   ]
  },
  {
   "cell_type": "code",
   "execution_count": 12,
   "metadata": {},
   "outputs": [
    {
     "data": {
      "image/png": "[encoded data removed]",
      "text/plain": [
       "<Figure size 432x288 with 1 Axes>"
      ]
     },
     "metadata": {
      "needs_background": "light"
     },
     "output_type": "display_data"
    }
   ],
   "source": [
    "import matplotlib.pyplot as plt\n",
    "%matplotlib inline\n",
    "\n",
    "plt.plot(range(len(ScratchSVMpoly.sv_cnt)), ScratchSVMpoly.sv_cnt, color='blue', label='support vector count')\n",
    "plt.xlabel(\"iter\")\n",
    "plt.ylabel(\"support vector count\")\n",
    "plt.title(\"support vector count curve\")\n",
    "plt.legend()\n",
    "plt.show()"
   ]
  },
  {
   "cell_type": "code",
   "execution_count": 13,
   "metadata": {},
   "outputs": [
    {
     "data": {
      "image/png": "[encoded data removed]",
      "text/plain": [
       "<Figure size 432x288 with 1 Axes>"
      ]
     },
     "metadata": {
      "needs_background": "light"
     },
     "output_type": "display_data"
    }
   ],
   "source": [
    "# 可視化\n",
    "target_names = ['sample1','sample2']\n",
    "decision_region(ds_X_train, ds_y_train.flatten(), ScratchSVMpoly, sv_index = ScratchSVMpoly.index_support_vectors, target_names = target_names, title='decision region of ScratchSVM', xlabel='f0', ylabel='f1')"
   ]
  },
  {
   "cell_type": "markdown",
   "metadata": {},
   "source": [
    "上図のように非線形の分離が可能である。"
   ]
  },
  {
   "cell_type": "code",
   "execution_count": null,
   "metadata": {},
   "outputs": [],
   "source": []
  }
 ],
 "metadata": {
  "kernelspec": {
   "display_name": "Python 3",
   "language": "python",
   "name": "python3"
  },
  "language_info": {
   "codemirror_mode": {
    "name": "ipython",
    "version": 3
   },
   "file_extension": ".py",
   "mimetype": "text/x-python",
   "name": "python",
   "nbconvert_exporter": "python",
   "pygments_lexer": "ipython3",
   "version": "3.7.6"
  }
 },
 "nbformat": 4,
 "nbformat_minor": 4
}
