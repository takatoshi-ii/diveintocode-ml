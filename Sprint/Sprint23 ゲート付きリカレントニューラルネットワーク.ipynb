{
 "cells": [
  {
   "cell_type": "markdown",
   "metadata": {
    "colab_type": "text",
    "id": "UpjQz2yEQcoQ"
   },
   "source": [
    "# Sprint23 ゲート付きリカレントニューラルネットワーク"
   ]
  },
  {
   "cell_type": "markdown",
   "metadata": {
    "colab_type": "text",
    "id": "o1cgt1n0QcoR"
   },
   "source": [
    "## 1.このSprintについて"
   ]
  },
  {
   "cell_type": "markdown",
   "metadata": {
    "colab_type": "text",
    "id": "Pu_9XKVxQcoS"
   },
   "source": [
    "## Sprintの目的\n",
    "発展的なRNNの手法を理解する\n",
    "ドキュメントを網羅的に読む\n",
    "\n",
    "## どのように学ぶか\n",
    "Kerasに用意されているRNN関係のレイヤーを動作させながら学んでいきます。\n",
    "\n"
   ]
  },
  {
   "cell_type": "markdown",
   "metadata": {
    "colab_type": "text",
    "id": "teKQrW-HQcoS"
   },
   "source": [
    "## 2.KerasのRecurrentレイヤー\n",
    "Kerasには複数のRecurrentレイヤーや、それに関連したクラスが用意されています。今回のSprintではこれら全てを動かした上で、それぞれの役割を説明できる状態を目指します。\n",
    "\n",
    "\n",
    "以下のドキュメントにまとめられています。\n",
    "\n",
    "\n",
    "[Recurrentレイヤー - Keras Documentation](https://keras.io/ja/layers/recurrent/)"
   ]
  },
  {
   "cell_type": "markdown",
   "metadata": {
    "colab_type": "text",
    "id": "Jj96uQlyQcoT"
   },
   "source": [
    "## 【問題1】各種手法の実行\n",
    "Kerasには4種類のReccurentレイヤーが用意されています。SimpleRNN以外はゲート付きリカレントニューラルネットワークです。\n",
    "\n",
    "\n",
    "・SimpleRNN  \n",
    "・GRU  \n",
    "・LSTM  \n",
    "・ConvLSTM2D  \n",
    "\n",
    "これらを実行してください。この中でSimpleRNN、GRU、LSTMは同様のタスクに用いることができるため、精度の比較も行なってください。\n",
    "\n",
    "\n",
    "Keras公式のサンプルコードを利用してください。\n",
    "\n",
    "\n",
    "LSTMのサンプルコード\n",
    "\n",
    "\n",
    "[keras/imdb_lstm.py at master · keras-team/keras](https://github.com/keras-team/keras/blob/master/examples/imdb_lstm.py)\n",
    "\n",
    "\n",
    "ConvLSTM2Dのサンプルコード\n",
    "\n",
    "\n",
    "[keras/conv_lstm.py at master · keras-team/keras](https://github.com/keras-team/keras/blob/master/examples/conv_lstm.py)\n",
    "\n",
    "\n",
    "このサンプルコードをそのまま使う必要はなく、ノード数やエポックなどは変更して構いません。全て実行する上での実行時間を考慮した数に設定してください。"
   ]
  },
  {
   "cell_type": "markdown",
   "metadata": {
    "colab_type": "text",
    "id": "kgWKZed4YNrt"
   },
   "source": [
    "### ＜SimpleRNNのサンプルコード＞"
   ]
  },
  {
   "cell_type": "code",
   "execution_count": 1,
   "metadata": {
    "colab": {
     "base_uri": "https://localhost:8080/",
     "height": 879
    },
    "colab_type": "code",
    "executionInfo": {
     "elapsed": 1610186,
     "status": "ok",
     "timestamp": 1593709630274,
     "user": {
      "displayName": "たかちゃん",
      "photoUrl": "",
      "userId": "07604629410324899309"
     },
     "user_tz": -540
    },
    "id": "WSt5HQnkYM2n",
    "outputId": "c382519f-dea8-4812-e1fd-dd4fbaf189e5"
   },
   "outputs": [
    {
     "name": "stderr",
     "output_type": "stream",
     "text": [
      "Using TensorFlow backend.\n"
     ]
    },
    {
     "name": "stdout",
     "output_type": "stream",
     "text": [
      "Loading data...\n",
      "Downloading data from https://s3.amazonaws.com/text-datasets/imdb.npz\n",
      "17465344/17464789 [==============================] - 2s 0us/step\n",
      "25000 train sequences\n",
      "25000 test sequences\n",
      "Pad sequences (samples x time)\n",
      "x_train shape: (25000, 80)\n",
      "x_test shape: (25000, 80)\n",
      "Build model...\n",
      "Train...\n"
     ]
    },
    {
     "name": "stderr",
     "output_type": "stream",
     "text": [
      "/usr/local/lib/python3.6/dist-packages/tensorflow/python/framework/indexed_slices.py:434: UserWarning: Converting sparse IndexedSlices to a dense Tensor of unknown shape. This may consume a large amount of memory.\n",
      "  \"Converting sparse IndexedSlices to a dense Tensor of unknown shape. \"\n"
     ]
    },
    {
     "name": "stdout",
     "output_type": "stream",
     "text": [
      "Train on 25000 samples, validate on 25000 samples\n",
      "Epoch 1/15\n",
      "25000/25000 [==============================] - 108s 4ms/step - loss: 0.6959 - accuracy: 0.5264 - val_loss: 0.6793 - val_accuracy: 0.5487\n",
      "Epoch 2/15\n",
      "25000/25000 [==============================] - 105s 4ms/step - loss: 0.6276 - accuracy: 0.6362 - val_loss: 0.5234 - val_accuracy: 0.7402\n",
      "Epoch 3/15\n",
      "25000/25000 [==============================] - 107s 4ms/step - loss: 0.4888 - accuracy: 0.7720 - val_loss: 0.4874 - val_accuracy: 0.7750\n",
      "Epoch 4/15\n",
      "25000/25000 [==============================] - 107s 4ms/step - loss: 0.4532 - accuracy: 0.7913 - val_loss: 0.5840 - val_accuracy: 0.6908\n",
      "Epoch 5/15\n",
      "25000/25000 [==============================] - 106s 4ms/step - loss: 0.3916 - accuracy: 0.8303 - val_loss: 0.5311 - val_accuracy: 0.7663\n",
      "Epoch 6/15\n",
      "25000/25000 [==============================] - 104s 4ms/step - loss: 0.3827 - accuracy: 0.8388 - val_loss: 0.5757 - val_accuracy: 0.7204\n",
      "Epoch 7/15\n",
      "25000/25000 [==============================] - 104s 4ms/step - loss: 0.5000 - accuracy: 0.7431 - val_loss: 0.6479 - val_accuracy: 0.6244\n",
      "Epoch 8/15\n",
      "25000/25000 [==============================] - 106s 4ms/step - loss: 0.5165 - accuracy: 0.7285 - val_loss: 0.6259 - val_accuracy: 0.6824\n",
      "Epoch 9/15\n",
      "25000/25000 [==============================] - 105s 4ms/step - loss: 0.4497 - accuracy: 0.7870 - val_loss: 0.5887 - val_accuracy: 0.7121\n",
      "Epoch 10/15\n",
      "25000/25000 [==============================] - 105s 4ms/step - loss: 0.4198 - accuracy: 0.8081 - val_loss: 0.6204 - val_accuracy: 0.6516\n",
      "Epoch 11/15\n",
      "25000/25000 [==============================] - 106s 4ms/step - loss: 0.4136 - accuracy: 0.8088 - val_loss: 0.6427 - val_accuracy: 0.6738\n",
      "Epoch 12/15\n",
      "25000/25000 [==============================] - 105s 4ms/step - loss: 0.4097 - accuracy: 0.8114 - val_loss: 0.6358 - val_accuracy: 0.6756\n",
      "Epoch 13/15\n",
      "25000/25000 [==============================] - 105s 4ms/step - loss: 0.4179 - accuracy: 0.8073 - val_loss: 0.6311 - val_accuracy: 0.7042\n",
      "Epoch 14/15\n",
      "25000/25000 [==============================] - 105s 4ms/step - loss: 0.3663 - accuracy: 0.8382 - val_loss: 0.6417 - val_accuracy: 0.7188\n",
      "Epoch 15/15\n",
      "25000/25000 [==============================] - 105s 4ms/step - loss: 0.3229 - accuracy: 0.8650 - val_loss: 0.6274 - val_accuracy: 0.7024\n",
      "25000/25000 [==============================] - 8s 307us/step\n",
      "Test score: 0.6273854351997376\n",
      "Test accuracy: 0.7024400234222412\n"
     ]
    }
   ],
   "source": [
    "'''\n",
    "#Trains an LSTM model on the IMDB sentiment classification task.\n",
    "The dataset is actually too small for LSTM to be of any advantage\n",
    "compared to simpler, much faster methods such as TF-IDF + LogReg.\n",
    "**Notes**\n",
    "- RNNs are tricky. Choice of batch size is important,\n",
    "choice of loss and optimizer is critical, etc.\n",
    "Some configurations won't converge.\n",
    "- LSTM loss decrease patterns during training can be quite different\n",
    "from what you see with CNNs/MLPs/etc.\n",
    "'''\n",
    "from __future__ import print_function\n",
    "\n",
    "from keras.preprocessing import sequence\n",
    "from keras.models import Sequential\n",
    "from keras.layers import Dense, Embedding\n",
    "from keras.layers import SimpleRNN\n",
    "from keras.datasets import imdb\n",
    "\n",
    "max_features = 20000\n",
    "# cut texts after this number of words (among top max_features most common words)\n",
    "maxlen = 80\n",
    "batch_size = 32\n",
    "\n",
    "print('Loading data...')\n",
    "(x_train, y_train), (x_test, y_test) = imdb.load_data(num_words=max_features)\n",
    "print(len(x_train), 'train sequences')\n",
    "print(len(x_test), 'test sequences')\n",
    "\n",
    "print('Pad sequences (samples x time)')\n",
    "x_train = sequence.pad_sequences(x_train, maxlen=maxlen)\n",
    "x_test = sequence.pad_sequences(x_test, maxlen=maxlen)\n",
    "print('x_train shape:', x_train.shape)\n",
    "print('x_test shape:', x_test.shape)\n",
    "\n",
    "print('Build model...')\n",
    "model = Sequential()\n",
    "model.add(Embedding(max_features, 128))\n",
    "model.add(SimpleRNN(128, dropout=0.2, recurrent_dropout=0.2))\n",
    "model.add(Dense(1, activation='sigmoid'))\n",
    "\n",
    "# try using different optimizers and different optimizer configs\n",
    "model.compile(loss='binary_crossentropy',\n",
    "              optimizer='adam',\n",
    "              metrics=['accuracy'])\n",
    "\n",
    "print('Train...')\n",
    "model.fit(x_train, y_train,\n",
    "          batch_size=batch_size,\n",
    "          epochs=15,\n",
    "          validation_data=(x_test, y_test))\n",
    "score, acc = model.evaluate(x_test, y_test,\n",
    "                            batch_size=batch_size)\n",
    "print('Test score:', score)\n",
    "print('Test accuracy:', acc)"
   ]
  },
  {
   "cell_type": "markdown",
   "metadata": {
    "colab_type": "text",
    "id": "dnC3XtehcLUY"
   },
   "source": [
    "Epoch 3/15\n",
    "25000/25000 loss: 0.4888 - accuracy: 0.7720 - val_loss: 0.4874 - val_accuracy: 0.7750\n",
    "\n",
    "Epoch = 3の時、最低のval_Loss=0.488、最高のval_acc = 77.5% となった。\n"
   ]
  },
  {
   "cell_type": "markdown",
   "metadata": {
    "colab_type": "text",
    "id": "sCKoQ7gSYxnZ"
   },
   "source": [
    "### ＜GRUのサンプルコード＞"
   ]
  },
  {
   "cell_type": "code",
   "execution_count": 2,
   "metadata": {
    "colab": {
     "base_uri": "https://localhost:8080/",
     "height": 826
    },
    "colab_type": "code",
    "executionInfo": {
     "elapsed": 5354227,
     "status": "ok",
     "timestamp": 1593713374321,
     "user": {
      "displayName": "たかちゃん",
      "photoUrl": "",
      "userId": "07604629410324899309"
     },
     "user_tz": -540
    },
    "id": "GdpogDMfYMd9",
    "outputId": "db550dc9-1fa0-4f6e-ba53-f321dc2754fb"
   },
   "outputs": [
    {
     "name": "stdout",
     "output_type": "stream",
     "text": [
      "Loading data...\n",
      "25000 train sequences\n",
      "25000 test sequences\n",
      "Pad sequences (samples x time)\n",
      "x_train shape: (25000, 80)\n",
      "x_test shape: (25000, 80)\n",
      "Build model...\n",
      "Train...\n"
     ]
    },
    {
     "name": "stderr",
     "output_type": "stream",
     "text": [
      "/usr/local/lib/python3.6/dist-packages/tensorflow/python/framework/indexed_slices.py:434: UserWarning: Converting sparse IndexedSlices to a dense Tensor of unknown shape. This may consume a large amount of memory.\n",
      "  \"Converting sparse IndexedSlices to a dense Tensor of unknown shape. \"\n"
     ]
    },
    {
     "name": "stdout",
     "output_type": "stream",
     "text": [
      "Train on 25000 samples, validate on 25000 samples\n",
      "Epoch 1/15\n",
      "25000/25000 [==============================] - 250s 10ms/step - loss: 0.6170 - accuracy: 0.7342 - val_loss: 0.5814 - val_accuracy: 0.6934\n",
      "Epoch 2/15\n",
      "25000/25000 [==============================] - 247s 10ms/step - loss: 0.8296 - accuracy: 0.7513 - val_loss: 0.5659 - val_accuracy: 0.6951\n",
      "Epoch 3/15\n",
      "25000/25000 [==============================] - 249s 10ms/step - loss: 0.4844 - accuracy: 0.7883 - val_loss: 0.5730 - val_accuracy: 0.6972\n",
      "Epoch 4/15\n",
      "25000/25000 [==============================] - 249s 10ms/step - loss: 3.9859 - accuracy: 0.8221 - val_loss: 0.5689 - val_accuracy: 0.7045\n",
      "Epoch 5/15\n",
      "25000/25000 [==============================] - 249s 10ms/step - loss: 0.3232 - accuracy: 0.8643 - val_loss: 0.5730 - val_accuracy: 0.7178\n",
      "Epoch 6/15\n",
      "25000/25000 [==============================] - 249s 10ms/step - loss: 0.5504 - accuracy: 0.8864 - val_loss: 0.5985 - val_accuracy: 0.6813\n",
      "Epoch 7/15\n",
      "25000/25000 [==============================] - 249s 10ms/step - loss: 1.3577 - accuracy: 0.8410 - val_loss: 0.6130 - val_accuracy: 0.6776\n",
      "Epoch 8/15\n",
      "25000/25000 [==============================] - 245s 10ms/step - loss: 0.3445 - accuracy: 0.8586 - val_loss: 0.6066 - val_accuracy: 0.7019\n",
      "Epoch 9/15\n",
      "25000/25000 [==============================] - 243s 10ms/step - loss: 0.3172 - accuracy: 0.8900 - val_loss: 0.6296 - val_accuracy: 0.6926\n",
      "Epoch 10/15\n",
      "25000/25000 [==============================] - 246s 10ms/step - loss: 0.2839 - accuracy: 0.8937 - val_loss: 0.6369 - val_accuracy: 0.7014\n",
      "Epoch 11/15\n",
      "25000/25000 [==============================] - 246s 10ms/step - loss: 0.3052 - accuracy: 0.8822 - val_loss: 0.6657 - val_accuracy: 0.6964\n",
      "Epoch 12/15\n",
      "25000/25000 [==============================] - 250s 10ms/step - loss: 0.2257 - accuracy: 0.9101 - val_loss: 0.6819 - val_accuracy: 0.7048\n",
      "Epoch 13/15\n",
      "25000/25000 [==============================] - 250s 10ms/step - loss: 2.7290 - accuracy: 0.8980 - val_loss: 0.7029 - val_accuracy: 0.6923\n",
      "Epoch 14/15\n",
      "25000/25000 [==============================] - 250s 10ms/step - loss: 4.5214 - accuracy: 0.8943 - val_loss: 0.6911 - val_accuracy: 0.6800\n",
      "Epoch 15/15\n",
      "25000/25000 [==============================] - 248s 10ms/step - loss: 0.9422 - accuracy: 0.8705 - val_loss: 0.7208 - val_accuracy: 0.6772\n",
      "25000/25000 [==============================] - 17s 674us/step\n",
      "Test score: 0.7207761478042602\n",
      "Test accuracy: 0.6771600246429443\n"
     ]
    }
   ],
   "source": [
    "'''\n",
    "#Trains an LSTM model on the IMDB sentiment classification task.\n",
    "The dataset is actually too small for LSTM to be of any advantage\n",
    "compared to simpler, much faster methods such as TF-IDF + LogReg.\n",
    "**Notes**\n",
    "- RNNs are tricky. Choice of batch size is important,\n",
    "choice of loss and optimizer is critical, etc.\n",
    "Some configurations won't converge.\n",
    "- LSTM loss decrease patterns during training can be quite different\n",
    "from what you see with CNNs/MLPs/etc.\n",
    "'''\n",
    "from __future__ import print_function\n",
    "\n",
    "from keras.preprocessing import sequence\n",
    "from keras.models import Sequential\n",
    "from keras.layers import Dense, Embedding\n",
    "from keras.layers import GRU\n",
    "from keras.datasets import imdb\n",
    "\n",
    "max_features = 20000\n",
    "# cut texts after this number of words (among top max_features most common words)\n",
    "maxlen = 80\n",
    "batch_size = 32\n",
    "\n",
    "print('Loading data...')\n",
    "(x_train, y_train), (x_test, y_test) = imdb.load_data(num_words=max_features)\n",
    "print(len(x_train), 'train sequences')\n",
    "print(len(x_test), 'test sequences')\n",
    "\n",
    "print('Pad sequences (samples x time)')\n",
    "x_train = sequence.pad_sequences(x_train, maxlen=maxlen)\n",
    "x_test = sequence.pad_sequences(x_test, maxlen=maxlen)\n",
    "print('x_train shape:', x_train.shape)\n",
    "print('x_test shape:', x_test.shape)\n",
    "\n",
    "print('Build model...')\n",
    "model = Sequential()\n",
    "model.add(Embedding(max_features, 128))\n",
    "model.add(GRU(128, dropout=0.2, recurrent_dropout=0.2))\n",
    "model.add(Dense(1, activation='sigmoid'))\n",
    "\n",
    "# try using different optimizers and different optimizer configs\n",
    "model.compile(loss='binary_crossentropy',\n",
    "              optimizer='adam',\n",
    "              metrics=['accuracy'])\n",
    "\n",
    "print('Train...')\n",
    "model.fit(x_train, y_train,\n",
    "          batch_size=batch_size,\n",
    "          epochs=15,\n",
    "          validation_data=(x_test, y_test))\n",
    "score, acc = model.evaluate(x_test, y_test,\n",
    "                            batch_size=batch_size)\n",
    "print('Test score:', score)\n",
    "print('Test accuracy:', acc)"
   ]
  },
  {
   "cell_type": "markdown",
   "metadata": {
    "colab_type": "text",
    "id": "RTUmOZ19c5rG"
   },
   "source": [
    "Epoch 5/15\n",
    "25000/25000 [==============================] - 249s 10ms/step - loss: 0.3232 - accuracy: 0.8643 - val_loss: 0.5730 - val_accuracy: 0.7178\n",
    "\n",
    "Epoch = 5の時、最低のval_Loss=0.5730、最高のval_acc = 71.8% となった。"
   ]
  },
  {
   "cell_type": "markdown",
   "metadata": {
    "colab_type": "text",
    "id": "15Bvf4WHQcoT"
   },
   "source": [
    "### ＜LSTMのサンプルコード＞"
   ]
  },
  {
   "cell_type": "code",
   "execution_count": null,
   "metadata": {
    "colab": {},
    "colab_type": "code",
    "id": "vfhlAy4mQcoU",
    "outputId": "5b83b0f6-f23e-44f1-c3c2-29ba49bdd246"
   },
   "outputs": [
    {
     "name": "stderr",
     "output_type": "stream",
     "text": [
      "Using TensorFlow backend.\n",
      "C:\\Users\\Takatoshi\\anaconda3\\lib\\site-packages\\tensorflow\\python\\framework\\dtypes.py:526: FutureWarning: Passing (type, 1) or '1type' as a synonym of type is deprecated; in a future version of numpy, it will be understood as (type, (1,)) / '(1,)type'.\n",
      "  _np_qint8 = np.dtype([(\"qint8\", np.int8, 1)])\n",
      "C:\\Users\\Takatoshi\\anaconda3\\lib\\site-packages\\tensorflow\\python\\framework\\dtypes.py:527: FutureWarning: Passing (type, 1) or '1type' as a synonym of type is deprecated; in a future version of numpy, it will be understood as (type, (1,)) / '(1,)type'.\n",
      "  _np_quint8 = np.dtype([(\"quint8\", np.uint8, 1)])\n",
      "C:\\Users\\Takatoshi\\anaconda3\\lib\\site-packages\\tensorflow\\python\\framework\\dtypes.py:528: FutureWarning: Passing (type, 1) or '1type' as a synonym of type is deprecated; in a future version of numpy, it will be understood as (type, (1,)) / '(1,)type'.\n",
      "  _np_qint16 = np.dtype([(\"qint16\", np.int16, 1)])\n",
      "C:\\Users\\Takatoshi\\anaconda3\\lib\\site-packages\\tensorflow\\python\\framework\\dtypes.py:529: FutureWarning: Passing (type, 1) or '1type' as a synonym of type is deprecated; in a future version of numpy, it will be understood as (type, (1,)) / '(1,)type'.\n",
      "  _np_quint16 = np.dtype([(\"quint16\", np.uint16, 1)])\n",
      "C:\\Users\\Takatoshi\\anaconda3\\lib\\site-packages\\tensorflow\\python\\framework\\dtypes.py:530: FutureWarning: Passing (type, 1) or '1type' as a synonym of type is deprecated; in a future version of numpy, it will be understood as (type, (1,)) / '(1,)type'.\n",
      "  _np_qint32 = np.dtype([(\"qint32\", np.int32, 1)])\n",
      "C:\\Users\\Takatoshi\\anaconda3\\lib\\site-packages\\tensorflow\\python\\framework\\dtypes.py:535: FutureWarning: Passing (type, 1) or '1type' as a synonym of type is deprecated; in a future version of numpy, it will be understood as (type, (1,)) / '(1,)type'.\n",
      "  np_resource = np.dtype([(\"resource\", np.ubyte, 1)])\n"
     ]
    },
    {
     "name": "stdout",
     "output_type": "stream",
     "text": [
      "Loading data...\n",
      "Downloading data from https://s3.amazonaws.com/text-datasets/imdb.npz\n",
      "17465344/17464789 [==============================] - 7s 0us/step\n",
      "25000 train sequences\n",
      "25000 test sequences\n",
      "Pad sequences (samples x time)\n",
      "x_train shape: (25000, 80)\n",
      "x_test shape: (25000, 80)\n",
      "Build model...\n",
      "WARNING:tensorflow:From C:\\Users\\Takatoshi\\anaconda3\\lib\\site-packages\\tensorflow\\python\\framework\\op_def_library.py:263: colocate_with (from tensorflow.python.framework.ops) is deprecated and will be removed in a future version.\n",
      "Instructions for updating:\n",
      "Colocations handled automatically by placer.\n",
      "WARNING:tensorflow:From C:\\Users\\Takatoshi\\anaconda3\\lib\\site-packages\\keras\\backend\\tensorflow_backend.py:3733: calling dropout (from tensorflow.python.ops.nn_ops) with keep_prob is deprecated and will be removed in a future version.\n",
      "Instructions for updating:\n",
      "Please use `rate` instead of `keep_prob`. Rate should be set to `rate = 1 - keep_prob`.\n",
      "Train...\n",
      "WARNING:tensorflow:From C:\\Users\\Takatoshi\\anaconda3\\lib\\site-packages\\tensorflow\\python\\ops\\math_ops.py:3066: to_int32 (from tensorflow.python.ops.math_ops) is deprecated and will be removed in a future version.\n",
      "Instructions for updating:\n",
      "Use tf.cast instead.\n",
      "Train on 25000 samples, validate on 25000 samples\n",
      "Epoch 1/15\n",
      "25000/25000 [==============================] - 103s 4ms/step - loss: 0.4554 - acc: 0.7872 - val_loss: 0.3963 - val_acc: 0.8277\n",
      "Epoch 2/15\n",
      "25000/25000 [==============================] - 111s 4ms/step - loss: 0.2925 - acc: 0.8807 - val_loss: 0.3803 - val_acc: 0.8381\n",
      "Epoch 3/15\n",
      "25000/25000 [==============================] - 110s 4ms/step - loss: 0.2084 - acc: 0.9218 - val_loss: 0.4190 - val_acc: 0.8311\n",
      "Epoch 4/15\n",
      "25000/25000 [==============================] - 109s 4ms/step - loss: 0.1454 - acc: 0.9456 - val_loss: 0.4933 - val_acc: 0.8284\n",
      "Epoch 5/15\n",
      "25000/25000 [==============================] - 113s 5ms/step - loss: 0.1060 - acc: 0.9622 - val_loss: 0.5739 - val_acc: 0.8244\n",
      "Epoch 6/15\n",
      "25000/25000 [==============================] - 113s 5ms/step - loss: 0.0765 - acc: 0.9738 - val_loss: 0.6848 - val_acc: 0.8250\n",
      "Epoch 7/15\n",
      "25000/25000 [==============================] - 113s 5ms/step - loss: 0.0565 - acc: 0.9816 - val_loss: 0.7391 - val_acc: 0.8198\n",
      "Epoch 8/15\n",
      "25000/25000 [==============================] - 112s 4ms/step - loss: 0.0435 - acc: 0.9850 - val_loss: 0.8307 - val_acc: 0.8189\n",
      "Epoch 9/15\n",
      "25000/25000 [==============================] - 111s 4ms/step - loss: 0.0373 - acc: 0.9882 - val_loss: 0.8226 - val_acc: 0.8164\n",
      "Epoch 10/15\n",
      "25000/25000 [==============================] - 115s 5ms/step - loss: 0.0246 - acc: 0.9924 - val_loss: 0.9428 - val_acc: 0.8165\n",
      "Epoch 11/15\n",
      "25000/25000 [==============================] - 135s 5ms/step - loss: 0.0179 - acc: 0.9948 - val_loss: 1.0833 - val_acc: 0.8147\n",
      "Epoch 12/15\n",
      "25000/25000 [==============================] - 138s 6ms/step - loss: 0.0218 - acc: 0.9929 - val_loss: 0.9844 - val_acc: 0.8175\n",
      "Epoch 13/15\n",
      "25000/25000 [==============================] - 116s 5ms/step - loss: 0.0146 - acc: 0.9956 - val_loss: 1.1297 - val_acc: 0.8132\n",
      "Epoch 14/15\n",
      "25000/25000 [==============================] - 115s 5ms/step - loss: 0.0125 - acc: 0.9958 - val_loss: 0.9908 - val_acc: 0.8091\n",
      "Epoch 15/15\n",
      "25000/25000 [==============================] - 116s 5ms/step - loss: 0.0101 - acc: 0.9972 - val_loss: 1.1479 - val_acc: 0.8070\n",
      "25000/25000 [==============================] - 13s 538us/step\n",
      "Test score: 1.147948632916212\n",
      "Test accuracy: 0.807\n"
     ]
    }
   ],
   "source": [
    "'''\n",
    "#Trains an LSTM model on the IMDB sentiment classification task.\n",
    "The dataset is actually too small for LSTM to be of any advantage\n",
    "compared to simpler, much faster methods such as TF-IDF + LogReg.\n",
    "**Notes**\n",
    "- RNNs are tricky. Choice of batch size is important,\n",
    "choice of loss and optimizer is critical, etc.\n",
    "Some configurations won't converge.\n",
    "- LSTM loss decrease patterns during training can be quite different\n",
    "from what you see with CNNs/MLPs/etc.\n",
    "'''\n",
    "from __future__ import print_function\n",
    "\n",
    "from keras.preprocessing import sequence\n",
    "from keras.models import Sequential\n",
    "from keras.layers import Dense, Embedding\n",
    "from keras.layers import LSTM\n",
    "from keras.datasets import imdb\n",
    "\n",
    "max_features = 20000\n",
    "# cut texts after this number of words (among top max_features most common words)\n",
    "maxlen = 80\n",
    "batch_size = 32\n",
    "\n",
    "print('Loading data...')\n",
    "(x_train, y_train), (x_test, y_test) = imdb.load_data(num_words=max_features)\n",
    "print(len(x_train), 'train sequences')\n",
    "print(len(x_test), 'test sequences')\n",
    "\n",
    "print('Pad sequences (samples x time)')\n",
    "x_train = sequence.pad_sequences(x_train, maxlen=maxlen)\n",
    "x_test = sequence.pad_sequences(x_test, maxlen=maxlen)\n",
    "print('x_train shape:', x_train.shape)\n",
    "print('x_test shape:', x_test.shape)\n",
    "\n",
    "print('Build model...')\n",
    "model = Sequential()\n",
    "model.add(Embedding(max_features, 128))\n",
    "model.add(LSTM(128, dropout=0.2, recurrent_dropout=0.2))\n",
    "model.add(Dense(1, activation='sigmoid'))\n",
    "\n",
    "# try using different optimizers and different optimizer configs\n",
    "model.compile(loss='binary_crossentropy',\n",
    "              optimizer='adam',\n",
    "              metrics=['accuracy'])\n",
    "\n",
    "print('Train...')\n",
    "model.fit(x_train, y_train,\n",
    "          batch_size=batch_size,\n",
    "          epochs=15,\n",
    "          validation_data=(x_test, y_test))\n",
    "score, acc = model.evaluate(x_test, y_test,\n",
    "                            batch_size=batch_size)\n",
    "print('Test score:', score)\n",
    "print('Test accuracy:', acc)"
   ]
  },
  {
   "cell_type": "markdown",
   "metadata": {
    "colab_type": "text",
    "id": "Zx-kK9RRdWJC"
   },
   "source": [
    "Epoch 2/15\n",
    "25000/25000 - 111s 4ms/step - loss: 0.2925 - acc: 0.8807 - val_loss: 0.3803 - val_acc: 0.8381\n",
    "\n",
    "Epoch = 2の時、最低のval_Loss=0.3803、最高のval_acc = 83.8% となった。"
   ]
  },
  {
   "cell_type": "markdown",
   "metadata": {
    "colab_type": "text",
    "id": "9gvnw4pcd_4z"
   },
   "source": []
  },
  {
   "cell_type": "markdown",
   "metadata": {
    "colab_type": "text",
    "id": "FT_LYLAIQcoX"
   },
   "source": [
    "### ＜ConvLSTM2Dのサンプルコード＞"
   ]
  },
  {
   "cell_type": "code",
   "execution_count": 1,
   "metadata": {
    "colab": {
     "base_uri": "https://localhost:8080/",
     "height": 1000
    },
    "colab_type": "code",
    "executionInfo": {
     "elapsed": 1207092,
     "status": "ok",
     "timestamp": 1593706932872,
     "user": {
      "displayName": "たかちゃん",
      "photoUrl": "",
      "userId": "07604629410324899309"
     },
     "user_tz": -540
    },
    "id": "m41q4hiPQcoY",
    "outputId": "708d5850-96e3-4eaf-e144-3e45292cbd93"
   },
   "outputs": [
    {
     "name": "stderr",
     "output_type": "stream",
     "text": [
      "Using TensorFlow backend.\n"
     ]
    },
    {
     "name": "stdout",
     "output_type": "stream",
     "text": [
      "Train on 950 samples, validate on 50 samples\n",
      "Epoch 1/30\n",
      "950/950 [==============================] - 48s 51ms/step - loss: 0.2882 - val_loss: 0.3559\n",
      "Epoch 2/30\n",
      "950/950 [==============================] - 39s 41ms/step - loss: 0.0261 - val_loss: 0.2925\n",
      "Epoch 3/30\n",
      "950/950 [==============================] - 39s 41ms/step - loss: 0.0039 - val_loss: 0.3331\n",
      "Epoch 4/30\n",
      "950/950 [==============================] - 39s 41ms/step - loss: 0.0014 - val_loss: 0.3904\n",
      "Epoch 5/30\n",
      "950/950 [==============================] - 39s 41ms/step - loss: 8.1032e-04 - val_loss: 0.2946\n",
      "Epoch 6/30\n",
      "950/950 [==============================] - 39s 41ms/step - loss: 6.0566e-04 - val_loss: 0.0505\n",
      "Epoch 7/30\n",
      "950/950 [==============================] - 39s 41ms/step - loss: 5.0413e-04 - val_loss: 0.0021\n",
      "Epoch 8/30\n",
      "950/950 [==============================] - 39s 41ms/step - loss: 4.3394e-04 - val_loss: 5.9457e-04\n",
      "Epoch 9/30\n",
      "950/950 [==============================] - 39s 41ms/step - loss: 3.8290e-04 - val_loss: 3.7923e-04\n",
      "Epoch 10/30\n",
      "950/950 [==============================] - 39s 42ms/step - loss: 3.4859e-04 - val_loss: 3.1705e-04\n",
      "Epoch 11/30\n",
      "950/950 [==============================] - 39s 41ms/step - loss: 3.2287e-04 - val_loss: 2.8678e-04\n",
      "Epoch 12/30\n",
      "950/950 [==============================] - 39s 41ms/step - loss: 2.9372e-04 - val_loss: 2.6610e-04\n",
      "Epoch 13/30\n",
      "950/950 [==============================] - 39s 41ms/step - loss: 2.7639e-04 - val_loss: 2.6117e-04\n",
      "Epoch 14/30\n",
      "950/950 [==============================] - 39s 41ms/step - loss: 2.5929e-04 - val_loss: 3.1284e-04\n",
      "Epoch 15/30\n",
      "950/950 [==============================] - 39s 41ms/step - loss: 2.4391e-04 - val_loss: 2.4232e-04\n",
      "Epoch 16/30\n",
      "950/950 [==============================] - 39s 41ms/step - loss: 2.2929e-04 - val_loss: 2.2980e-04\n",
      "Epoch 17/30\n",
      "950/950 [==============================] - 39s 41ms/step - loss: 2.2164e-04 - val_loss: 2.3317e-04\n",
      "Epoch 18/30\n",
      "950/950 [==============================] - 39s 42ms/step - loss: 2.1113e-04 - val_loss: 2.1161e-04\n",
      "Epoch 19/30\n",
      "950/950 [==============================] - 39s 41ms/step - loss: 2.0348e-04 - val_loss: 2.6445e-04\n",
      "Epoch 20/30\n",
      "950/950 [==============================] - 39s 41ms/step - loss: 1.9155e-04 - val_loss: 1.9990e-04\n",
      "Epoch 21/30\n",
      "950/950 [==============================] - 39s 41ms/step - loss: 1.8537e-04 - val_loss: 2.0675e-04\n",
      "Epoch 22/30\n",
      "950/950 [==============================] - 39s 41ms/step - loss: 1.7927e-04 - val_loss: 1.8631e-04\n",
      "Epoch 23/30\n",
      "950/950 [==============================] - 39s 41ms/step - loss: 1.7419e-04 - val_loss: 1.7776e-04\n",
      "Epoch 24/30\n",
      "950/950 [==============================] - 39s 41ms/step - loss: 1.6611e-04 - val_loss: 1.7819e-04\n",
      "Epoch 25/30\n",
      "950/950 [==============================] - 39s 41ms/step - loss: 1.6046e-04 - val_loss: 1.7570e-04\n",
      "Epoch 26/30\n",
      "950/950 [==============================] - 39s 41ms/step - loss: 1.5635e-04 - val_loss: 1.7583e-04\n",
      "Epoch 27/30\n",
      "950/950 [==============================] - 39s 41ms/step - loss: 1.5073e-04 - val_loss: 1.6718e-04\n",
      "Epoch 28/30\n",
      "950/950 [==============================] - 39s 41ms/step - loss: 1.4549e-04 - val_loss: 1.9233e-04\n",
      "Epoch 29/30\n",
      "950/950 [==============================] - 39s 41ms/step - loss: 1.4138e-04 - val_loss: 1.7135e-04\n",
      "Epoch 30/30\n",
      "950/950 [==============================] - 39s 41ms/step - loss: 1.3685e-04 - val_loss: 1.5687e-04\n"
     ]
    },
    {
     "data": {
      "image/png": "[encoded data removed]",
      "text/plain": [
       "<Figure size 720x360 with 2 Axes>"
      ]
     },
     "metadata": {
      "needs_background": "light",
      "tags": []
     },
     "output_type": "display_data"
    },
    {
     "data": {
      "image/png": "[encoded data removed]",
      "text/plain": [
       "<Figure size 720x360 with 2 Axes>"
      ]
     },
     "metadata": {
      "needs_background": "light",
      "tags": []
     },
     "output_type": "display_data"
    },
    {
     "data": {
      "image/png": "[encoded data removed]",
      "text/plain": [
       "<Figure size 720x360 with 2 Axes>"
      ]
     },
     "metadata": {
      "needs_background": "light",
      "tags": []
     },
     "output_type": "display_data"
    },
    {
     "data": {
      "image/png": "[encoded data removed]",
      "text/plain": [
       "<Figure size 720x360 with 2 Axes>"
      ]
     },
     "metadata": {
      "needs_background": "light",
      "tags": []
     },
     "output_type": "display_data"
    },
    {
     "data": {
      "image/png": "[encoded data removed]",
      "text/plain": [
       "<Figure size 720x360 with 2 Axes>"
      ]
     },
     "metadata": {
      "needs_background": "light",
      "tags": []
     },
     "output_type": "display_data"
    },
    {
     "data": {
      "image/png": "[encoded data removed]",
      "text/plain": [
       "<Figure size 720x360 with 2 Axes>"
      ]
     },
     "metadata": {
      "needs_background": "light",
      "tags": []
     },
     "output_type": "display_data"
    },
    {
     "data": {
      "image/png": "[encoded data removed]",
      "text/plain": [
       "<Figure size 720x360 with 2 Axes>"
      ]
     },
     "metadata": {
      "needs_background": "light",
      "tags": []
     },
     "output_type": "display_data"
    },
    {
     "data": {
      "image/png": "[encoded data removed]",
      "text/plain": [
       "<Figure size 720x360 with 2 Axes>"
      ]
     },
     "metadata": {
      "needs_background": "light",
      "tags": []
     },
     "output_type": "display_data"
    },
    {
     "data": {
      "image/png": "[encoded data removed]",
      "text/plain": [
       "<Figure size 720x360 with 2 Axes>"
      ]
     },
     "metadata": {
      "needs_background": "light",
      "tags": []
     },
     "output_type": "display_data"
    },
    {
     "data": {
      "image/png": "[encoded data removed]",
      "text/plain": [
       "<Figure size 720x360 with 2 Axes>"
      ]
     },
     "metadata": {
      "needs_background": "light",
      "tags": []
     },
     "output_type": "display_data"
    },
    {
     "data": {
      "image/png": "[encoded data removed]",
      "text/plain": [
       "<Figure size 720x360 with 2 Axes>"
      ]
     },
     "metadata": {
      "needs_background": "light",
      "tags": []
     },
     "output_type": "display_data"
    },
    {
     "data": {
      "image/png": "[encoded data removed]",
      "text/plain": [
       "<Figure size 720x360 with 2 Axes>"
      ]
     },
     "metadata": {
      "needs_background": "light",
      "tags": []
     },
     "output_type": "display_data"
    },
    {
     "data": {
      "image/png": "[encoded data removed]",
      "text/plain": [
       "<Figure size 720x360 with 2 Axes>"
      ]
     },
     "metadata": {
      "needs_background": "light",
      "tags": []
     },
     "output_type": "display_data"
    },
    {
     "data": {
      "image/png": "[encoded data removed]",
      "text/plain": [
       "<Figure size 720x360 with 2 Axes>"
      ]
     },
     "metadata": {
      "needs_background": "light",
      "tags": []
     },
     "output_type": "display_data"
    },
    {
     "data": {
      "image/png": "[encoded data removed]",
      "text/plain": [
       "<Figure size 720x360 with 2 Axes>"
      ]
     },
     "metadata": {
      "needs_background": "light",
      "tags": []
     },
     "output_type": "display_data"
    }
   ],
   "source": [
    "\"\"\"\n",
    "#This script demonstrates the use of a convolutional LSTM network.\n",
    "This network is used to predict the next frame of an artificially\n",
    "generated movie which contains moving squares.\n",
    "\"\"\"\n",
    "from keras.models import Sequential\n",
    "from keras.layers.convolutional import Conv3D\n",
    "from keras.layers.convolutional_recurrent import ConvLSTM2D\n",
    "from keras.layers.normalization import BatchNormalization\n",
    "import numpy as np\n",
    "import pylab as plt\n",
    "\n",
    "# We create a layer which take as input movies of shape\n",
    "# (n_frames, width, height, channels) and returns a movie\n",
    "# of identical shape.\n",
    "\n",
    "seq = Sequential()\n",
    "seq.add(ConvLSTM2D(filters=40, kernel_size=(3, 3),\n",
    "                   input_shape=(None, 40, 40, 1),\n",
    "                   padding='same', return_sequences=True))\n",
    "seq.add(BatchNormalization())\n",
    "\n",
    "seq.add(ConvLSTM2D(filters=40, kernel_size=(3, 3),\n",
    "                   padding='same', return_sequences=True))\n",
    "seq.add(BatchNormalization())\n",
    "\n",
    "seq.add(ConvLSTM2D(filters=40, kernel_size=(3, 3),\n",
    "                   padding='same', return_sequences=True))\n",
    "seq.add(BatchNormalization())\n",
    "\n",
    "seq.add(ConvLSTM2D(filters=40, kernel_size=(3, 3),\n",
    "                   padding='same', return_sequences=True))\n",
    "seq.add(BatchNormalization())\n",
    "\n",
    "seq.add(Conv3D(filters=1, kernel_size=(3, 3, 3),\n",
    "               activation='sigmoid',\n",
    "               padding='same', data_format='channels_last'))\n",
    "seq.compile(loss='binary_crossentropy', optimizer='adadelta')\n",
    "\n",
    "\n",
    "# Artificial data generation:\n",
    "# Generate movies with 3 to 7 moving squares inside.\n",
    "# The squares are of shape 1x1 or 2x2 pixels,\n",
    "# which move linearly over time.\n",
    "# For convenience we first create movies with bigger width and height (80x80)\n",
    "# and at the end we select a 40x40 window.\n",
    "\n",
    "def generate_movies(n_samples=1200, n_frames=15):\n",
    "    row = 80\n",
    "    col = 80\n",
    "    noisy_movies = np.zeros((n_samples, n_frames, row, col, 1), dtype=np.float)\n",
    "    shifted_movies = np.zeros((n_samples, n_frames, row, col, 1),\n",
    "                              dtype=np.float)\n",
    "\n",
    "    for i in range(n_samples):\n",
    "        # Add 3 to 7 moving squares\n",
    "        n = np.random.randint(3, 8)\n",
    "\n",
    "        for j in range(n):\n",
    "            # Initial position\n",
    "            xstart = np.random.randint(20, 60)\n",
    "            ystart = np.random.randint(20, 60)\n",
    "            # Direction of motion\n",
    "            directionx = np.random.randint(0, 3) - 1\n",
    "            directiony = np.random.randint(0, 3) - 1\n",
    "\n",
    "            # Size of the square\n",
    "            w = np.random.randint(2, 4)\n",
    "\n",
    "            for t in range(n_frames):\n",
    "                x_shift = xstart + directionx * t\n",
    "                y_shift = ystart + directiony * t\n",
    "                noisy_movies[i, t, x_shift - w: x_shift + w,\n",
    "                             y_shift - w: y_shift + w, 0] += 1\n",
    "\n",
    "                # Make it more robust by adding noise.\n",
    "                # The idea is that if during inference,\n",
    "                # the value of the pixel is not exactly one,\n",
    "                # we need to train the network to be robust and still\n",
    "                # consider it as a pixel belonging to a square.\n",
    "                if np.random.randint(0, 2):\n",
    "                    noise_f = (-1)**np.random.randint(0, 2)\n",
    "                    noisy_movies[i, t,\n",
    "                                 x_shift - w - 1: x_shift + w + 1,\n",
    "                                 y_shift - w - 1: y_shift + w + 1,\n",
    "                                 0] += noise_f * 0.1\n",
    "\n",
    "                # Shift the ground truth by 1\n",
    "                x_shift = xstart + directionx * (t + 1)\n",
    "                y_shift = ystart + directiony * (t + 1)\n",
    "                shifted_movies[i, t, x_shift - w: x_shift + w,\n",
    "                               y_shift - w: y_shift + w, 0] += 1\n",
    "\n",
    "    # Cut to a 40x40 window\n",
    "    noisy_movies = noisy_movies[::, ::, 20:60, 20:60, ::]\n",
    "    shifted_movies = shifted_movies[::, ::, 20:60, 20:60, ::]\n",
    "    noisy_movies[noisy_movies >= 1] = 1\n",
    "    shifted_movies[shifted_movies >= 1] = 1\n",
    "    return noisy_movies, shifted_movies\n",
    "\n",
    "# Train the network\n",
    "noisy_movies, shifted_movies = generate_movies(n_samples=1200)\n",
    "seq.fit(noisy_movies[:1000], shifted_movies[:1000], batch_size=10,\n",
    "        epochs=30, validation_split=0.05)\n",
    "\n",
    "# Testing the network on one movie\n",
    "# feed it with the first 7 positions and then\n",
    "# predict the new positions\n",
    "which = 1004\n",
    "track = noisy_movies[which][:7, ::, ::, ::]\n",
    "\n",
    "for j in range(16):\n",
    "    new_pos = seq.predict(track[np.newaxis, ::, ::, ::, ::])\n",
    "    new = new_pos[::, -1, ::, ::, ::]\n",
    "    track = np.concatenate((track, new), axis=0)\n",
    "\n",
    "\n",
    "# And then compare the predictions\n",
    "# to the ground truth\n",
    "track2 = noisy_movies[which][::, ::, ::, ::]\n",
    "for i in range(15):\n",
    "    fig = plt.figure(figsize=(10, 5))\n",
    "\n",
    "    ax = fig.add_subplot(121)\n",
    "\n",
    "    if i >= 7:\n",
    "        ax.text(1, 3, 'Predictions !', fontsize=20, color='w')\n",
    "    else:\n",
    "        ax.text(1, 3, 'Initial trajectory', fontsize=20)\n",
    "\n",
    "    toplot = track[i, ::, ::, 0]\n",
    "\n",
    "    plt.imshow(toplot)\n",
    "    ax = fig.add_subplot(122)\n",
    "    plt.text(1, 3, 'Ground truth', fontsize=20)\n",
    "\n",
    "    toplot = track2[i, ::, ::, 0]\n",
    "    if i >= 2:\n",
    "        toplot = shifted_movies[which][i - 1, ::, ::, 0]\n",
    "\n",
    "    plt.imshow(toplot)\n",
    "    plt.savefig('%i_animate.png' % (i + 1))"
   ]
  },
  {
   "cell_type": "code",
   "execution_count": 3,
   "metadata": {
    "colab": {
     "base_uri": "https://localhost:8080/",
     "height": 35
    },
    "colab_type": "code",
    "executionInfo": {
     "elapsed": 522,
     "status": "ok",
     "timestamp": 1593706987680,
     "user": {
      "displayName": "たかちゃん",
      "photoUrl": "",
      "userId": "07604629410324899309"
     },
     "user_tz": -540
    },
    "id": "04kfeH-2Qcoa",
    "outputId": "361bfbcd-0f25-4ddd-de0a-06bfdb534a8c"
   },
   "outputs": [
    {
     "data": {
      "application/vnd.google.colaboratory.intrinsic": {
       "type": "string"
      },
      "text/plain": [
       "'2.2.0'"
      ]
     },
     "execution_count": 3,
     "metadata": {
      "tags": []
     },
     "output_type": "execute_result"
    }
   ],
   "source": [
    "import tensorflow\n",
    "tensorflow.__version__"
   ]
  },
  {
   "cell_type": "code",
   "execution_count": 2,
   "metadata": {
    "colab": {
     "base_uri": "https://localhost:8080/",
     "height": 35
    },
    "colab_type": "code",
    "executionInfo": {
     "elapsed": 1729,
     "status": "ok",
     "timestamp": 1593706973487,
     "user": {
      "displayName": "たかちゃん",
      "photoUrl": "",
      "userId": "07604629410324899309"
     },
     "user_tz": -540
    },
    "id": "_etG8MamQcoc",
    "outputId": "6ef5f5cf-91a0-492f-8e36-a203056b800d"
   },
   "outputs": [
    {
     "name": "stdout",
     "output_type": "stream",
     "text": [
      "/content\n"
     ]
    }
   ],
   "source": [
    "!pwd"
   ]
  },
  {
   "cell_type": "code",
   "execution_count": 5,
   "metadata": {
    "colab": {
     "base_uri": "https://localhost:8080/",
     "height": 89
    },
    "colab_type": "code",
    "executionInfo": {
     "elapsed": 1782,
     "status": "ok",
     "timestamp": 1593707081019,
     "user": {
      "displayName": "たかちゃん",
      "photoUrl": "",
      "userId": "07604629410324899309"
     },
     "user_tz": -540
    },
    "id": "2KiiwpebWA_k",
    "outputId": "b1885405-c45f-4aaa-d536-50ecb7790db0"
   },
   "outputs": [
    {
     "name": "stdout",
     "output_type": "stream",
     "text": [
      "10_animate.png  14_animate.png  3_animate.png  7_animate.png  \u001b[0m\u001b[01;34msample_data\u001b[0m/\n",
      "11_animate.png  15_animate.png  4_animate.png  8_animate.png\n",
      "12_animate.png  1_animate.png   5_animate.png  9_animate.png\n",
      "13_animate.png  2_animate.png   6_animate.png  \u001b[01;34mdrive\u001b[0m/\n"
     ]
    }
   ],
   "source": [
    "ls"
   ]
  },
  {
   "cell_type": "code",
   "execution_count": 6,
   "metadata": {
    "colab": {},
    "colab_type": "code",
    "executionInfo": {
     "elapsed": 1322,
     "status": "ok",
     "timestamp": 1593707212465,
     "user": {
      "displayName": "たかちゃん",
      "photoUrl": "",
      "userId": "07604629410324899309"
     },
     "user_tz": -540
    },
    "id": "_bdRmqHRWK4j"
   },
   "outputs": [],
   "source": [
    "!cp *.png \"/content/drive/My Drive/DIC/自然言語処理/animate\""
   ]
  },
  {
   "cell_type": "code",
   "execution_count": 4,
   "metadata": {
    "colab": {
     "base_uri": "https://localhost:8080/",
     "height": 127
    },
    "colab_type": "code",
    "executionInfo": {
     "elapsed": 27148,
     "status": "ok",
     "timestamp": 1593707033998,
     "user": {
      "displayName": "たかちゃん",
      "photoUrl": "",
      "userId": "07604629410324899309"
     },
     "user_tz": -540
    },
    "id": "zkQHqIiGS1ia",
    "outputId": "e8ee47cf-bc83-4ad7-d194-7e1573893157"
   },
   "outputs": [
    {
     "name": "stdout",
     "output_type": "stream",
     "text": [
      "Go to this URL in a browser: https://accounts.google.com/o/oauth2/auth?client_id=947318989803-6bn6qk8qdgf4n4g3pfee6491hc0brc4i.apps.googleusercontent.com&redirect_uri=urn%3aietf%3awg%3aoauth%3a2.0%3aoob&response_type=code&scope=email%20https%3a%2f%2fwww.googleapis.com%2fauth%2fdocs.test%20https%3a%2f%2fwww.googleapis.com%2fauth%2fdrive%20https%3a%2f%2fwww.googleapis.com%2fauth%2fdrive.photos.readonly%20https%3a%2f%2fwww.googleapis.com%2fauth%2fpeopleapi.readonly\n",
      "\n",
      "Enter your authorization code:\n",
      "··········\n",
      "Mounted at /content/drive/\n"
     ]
    }
   ],
   "source": [
    "# 自分のマイドライブにマウントする\n",
    "\n",
    "from google.colab import drive\n",
    "drive.mount('/content/drive/')"
   ]
  },
  {
   "cell_type": "code",
   "execution_count": null,
   "metadata": {
    "colab": {},
    "colab_type": "code",
    "id": "F4FLbe9tQcoe"
   },
   "outputs": [],
   "source": []
  },
  {
   "cell_type": "markdown",
   "metadata": {
    "colab_type": "text",
    "id": "wWjdfKfUQcog"
   },
   "source": [
    "## 【問題2】（アドバンス課題）複数のデータセット間での比較\n",
    "他のデータセットでも実験を行なってください。\n",
    "\n",
    "\n",
    "[データセット - Keras Documentation](https://keras.io/ja/datasets/#_5)\n",
    "\n",
    "\n",
    "Kerasで簡単に利用できる自然言語データセットとしてロイターのニュースワイヤー トピックス分類があります。"
   ]
  },
  {
   "cell_type": "markdown",
   "metadata": {
    "colab": {},
    "colab_type": "code",
    "id": "YNUuoARUQcoh"
   },
   "source": [
    "### Skip"
   ]
  },
  {
   "cell_type": "code",
   "execution_count": null,
   "metadata": {
    "colab": {},
    "colab_type": "code",
    "id": "_tBb4JcoQcop"
   },
   "outputs": [],
   "source": []
  },
  {
   "cell_type": "markdown",
   "metadata": {
    "colab_type": "text",
    "id": "H4x46NyzQcor"
   },
   "source": [
    "## 【問題3】他のクラスの説明\n",
    "ドキュメントには他にも関連するクラスが記載されています。それらがどういうものなのかを説明してください。この中には実際に扱うことは少ないクラスも含まれています。\n",
    "\n",
    "\n",
    "・RNN  \n",
    "・SimpleRNNCell  \n",
    "・GRUCell  \n",
    "・LSTMCell  \n",
    "・StackedRNNCells  \n",
    "・CuDNNGRU  \n",
    "・CuDNNLSTM  "
   ]
  },
  {
   "cell_type": "markdown",
   "metadata": {
    "colab_type": "text",
    "id": "yEJleq05jIjk"
   },
   "source": [
    "### ＜RNN＞\n",
    "Recurrentレイヤーに対する基底クラス．\n",
    "パラメータ：cellに各Cellクラスを挿入することによりオリジナルのレイヤーを作成することが出来る\n",
    "\n",
    "引数\n",
    "\n",
    "〇cell: RNN cellインスタンス．RNN cellは以下の属性を持つクラスです。  \n",
    "  ●call(input_at_t, states_at_t)メソッド，これは(output_at_t, states_at_t_plus_1)を返します。  \n",
    "  　cellのメソッド呼び出しはオプションの引数constantsも使えます． 下記の「外部定数を渡す場合の注意」を  \n",
    "　　参照してください。  \n",
    "  ●state_size属性． これは1つの整数（1つの状態）でもよく，その場合はrecurrent stateのサイズになります  \n",
    " 　（これはcellの出力のサイズと同じである必要があります）。 （1つ状態につき1つのサイズが対応するように）  \n",
    "  　整数やリストやタプルもとれます． この場合は最初のエントリ(state_size[0])がcellの出力のサイズと  \n",
    "   同じである必要があります。 cellをRNN cellインスタンスのリストとすることも可能です。  \n",
    "   この場合，cellはRNNの中で他のcellの後にスタックされているいれば，効率的なstacked RNNが実現されます。  \n",
    "〇return_sequences: 真理値．出力系列の最後の出力を返すか，完全な系列を返すか。\n",
    "〇return_state: 真理値．出力とともに，最後の状態を返すかどうか。\n",
    "〇go_backwards: 真理値（デフォルトはFalse）．Trueなら，入力系列を逆向きから処理し，逆順の系列を返します．  \n",
    "〇stateful: 真理値（デフォルトはFalse）．Trueなら，バッチ内のインデックスiの各サンプル に対する最後の状態が\n",
    "　次のバッチ内のインデックスiのサンプルに対する初期状態として使われます．  \n",
    "〇unroll: 真理値（デフォルトはFalse）．Trueなら，ネットワークは展開され， そうでなければシンボリックループが使われます．  \n",
    "　展開はよりメモリ集中傾向になりますが，RNNをスピードアップできます． 展開は短い系列にのみ適しています．  \n",
    "〇input_dim: 入力の次元（整数）． この引数（または代わりのキーワード引数input_shape）は， このレイヤーをモデルの最初のレイヤーとして利用するときに必要です．  \n",
    "〇input_length: 入力系列の長さ． この引数はこのレイヤーの後にFlattenからDenseレイヤーへ接続する際に必要です   \n",
    "　(これがないと，denseの出力のshapeを計算できません)． Recurrentレイヤーがモデルの最初のレイヤーでなければ， 最初のレイヤーのレベルで入力系列の長さを指定する必要があります （例えばinput_shape引数を通じて）．  \n",
    "\n",
    "入力shape：(batch_size, timesteps, input_dim)の３次元  \n",
    "出力shape：return_state(default False) を True にすることで、出力に加えて最終内部状態を取得できるようになります。  \n",
    "　　　　　　shapeは(batch_size, units)  \n",
    "　　　　　　return_sequences = trueの場合、(batch_size, timesteps, input_dim)"
   ]
  },
  {
   "cell_type": "markdown",
   "metadata": {},
   "source": [
    "### （return_stateに関して）"
   ]
  },
  {
   "cell_type": "markdown",
   "metadata": {
    "colab": {},
    "colab_type": "code",
    "id": "7WrEY-UEQcor"
   },
   "source": [
    "return_state(default False) を True にすることで、出力に加えて最終内部状態を取得できるようになります。  \n",
    "shapeは(batch_size, units) \n",
    "\n",
    "```python\n",
    ">>> SimpleRNN(units=100, return_state=True)(embedding)\n",
    "[<tf.Tensor 'simple_rnn_4/TensorArrayReadV3:0' shape=(?, 100) dtype=float32>, ← 出力\n",
    "<tf.Tensor 'simple_rnn_4/while/Exit_2:0' shape=(?, 100) dtype=float32>]      ← 内部状態\n",
    "```"
   ]
  },
  {
   "cell_type": "markdown",
   "metadata": {},
   "source": [
    "### （return_sequencesに関して）  \n",
    "[言語モデルの性能が、実装により異なる件を解決する](https://medium.com/programming-soda/%E8%A8%80%E8%AA%9E%E3%83%A2%E3%83%87%E3%83%AB%E3%81%AE%E6%80%A7%E8%83%BD%E3%81%8C-%E5%AE%9F%E8%A3%85%E3%81%AB%E3%82%88%E3%82%8A%E7%95%B0%E3%81%AA%E3%82%8B%E4%BB%B6%E3%82%92%E8%A7%A3%E6%B1%BA%E3%81%99%E3%82%8B-5d36c841fcac)\n",
    "⇒「バッチ型言語モデルにおける学習の問題点」より抜粋  \n",
    "\n",
    "\n",
    "例として、A,B,C,Dという4つの系列を与えるケースを考えます。  \n",
    "シーケンシャル型ではA=>B、B=>C・・・といった形で予測/学習を行っていきます。B=>Cの予測の際は、  \n",
    "その前にA=>Bが処理されたという情報が引き継がれます。そのため、実質的にはA, BからCを予測しているのと同じになります。  直前の状態から次の状態を予測するだけでよい。\n",
    "一方、バッチ型の場合はA, B, CからDを予測するだけです。\n",
    "\n",
    "<img src=\"https://miro.medium.com/max/1132/1*2dmkaosrwHbX5JPzUNSGWg.png\" style= \"background-color:white;\">\n",
    "\n",
    "バッチ型でシーケンシャル型と同じ内容を学習するなら、系列の長さ毎にデータを作る必要が出てきます。A,B,C,Dの4つがあったら、A, B, C=>Dだけでなく、A=>B、A,B=>Cも学習でテータに含まないといけないということです。このように対策しても精度が改善することは確認済みですが、この場合シーケンス分だけデータが増え学習に時間がかかります。隠れ層の計算を毎回最初からやっていることになり非効率的です。\n",
    "そのため、各ステップの隠れ層の状態から予測する形にします。図にすると以下のような形です。これにより、隠れ層の再計算をすることなく、都度に予測する形の学習が可能になります。\n",
    "\n",
    "<img src=\"https://miro.medium.com/max/1322/1*1DeZM_4QJaVW6uRIMLgbVQ.png\" style= \"background-color:white;\">\n",
    "\n",
    "C, D, Eのそれぞれの推論結果をバックアップしておく様なイメージ。\n",
    "\n",
    "これを実現するのが、return_sequencesのパラメータでこれをTrueにすることによって中間イメージがバックアップされていく。"
   ]
  },
  {
   "cell_type": "code",
   "execution_count": null,
   "metadata": {},
   "outputs": [],
   "source": []
  },
  {
   "cell_type": "markdown",
   "metadata": {},
   "source": [
    "### ＜SimpleRNNCell＞\n",
    "SimpleRNNのCellクラス。  \n",
    "RNN基底クラスのCellパラメータに指定して使う\n",
    "\n",
    "引数\n",
    "\n",
    "units: 正の整数値，出力の次元数。\n",
    "activation: 活性化関数（activationsを参照）． デフォルト：ハイパボリックタンジェント（tanh）。  \n",
    "　　　　　　　Noneを渡すと活性化関数は適用されません（つまり\"線形\"活性: a(x) = x）。  \n",
    "use_bias: 真理値，レイヤーがバイアスベクトルを使うかどうか。  \n",
    "kernel_initializer: 入力の線形変換に使われるkernelの重み行列のためのInitializer（initializersを参照）。  \n",
    "recurrent_initializer: 再帰の線形変換に使われるrecurrent_kernelの重み行列のInitializer（initializersを参照）。  \n",
    "bias_initializer: バイアスベクトルのInitializer（initializersを参照）。  \n",
    "kernel_regularizer: kernelの重み行列に適用するRegularizer関数（regularizerを参照）。  \n",
    "recurrent_regularizer: recurrent_kernelの重み行列に適用するRegularizer関数（regularizerを参照）。  \n",
    "bias_regularizer: biasベクトルに適用するRegularizer関数（regularizerを参照）。  \n",
    "kernel_constraint: kernelの重み行列に適用するConstraint関数（constraintsを参照）。  \n",
    "recurrent_constraint: recurrent_kernelの重み行列に適用するConstraint関数（constraintsを参照）。  \n",
    "bias_constraint: biasベクトルに適用するConstraint関数（constraintsを参照）。  \n",
    "dropout: 0から1の間の浮動小数点数．入力の線形変換においてdropするユニットの割合。  \n",
    "recurrent_dropout: 0から1の間の浮動小数点数．再帰の線形変換においてdropするユニットの割合。  "
   ]
  },
  {
   "cell_type": "code",
   "execution_count": null,
   "metadata": {},
   "outputs": [],
   "source": []
  },
  {
   "cell_type": "markdown",
   "metadata": {},
   "source": [
    "### ＜GRUCell＞\n",
    "GRUレイヤーのためのCellクラス．  \n",
    "RNN基底クラスのCellパラメータに指定して使う\n",
    "\n",
    "units: 正の整数値，出力の次元数  \n",
    "activation: 活性化関数（activationsを参照） デフォルト：ハイパボリックタンジェント（tanh） Noneを渡すと活性化関数は適用されません（つまり\"線形\"活性: a(x) = x）  \n",
    "recurrent_activation: 再帰計算時に使う活性化関数（activationsを参照）  \n",
    "use_bias: 真理値，レイヤーがバイアスベクトルを使うかどうか  \n",
    "kernel_initializer: 入力の線形変換に使われるkernelの重み行列のためのInitializer（initializersを参照）  \n",
    "recurrent_initializer: 再帰の線形変換に使われるrecurrent_kernelの重み行列のInitializer（initializersを参照）  \n",
    "bias_initializer: biasベクトルのInitializer（initializersを参照）  \n",
    "kernel_regularizer: kernelの重み行列に適用するRegularizer関数（regularizerを参照）  \n",
    "recurrent_regularizer: recurrent_kernelの重み行列に適用するRegularizer関数（regularizerを参照）  \n",
    "bias_regularizer: biasベクトルに適用するRegularizer関数（regularizerを参照）  \n",
    "kernel_constraint: kernelの重み行列に適用するConstraint関数（constraintsを参照）  \n",
    "recurrent_constraint: recurrent_kernelの重み行列に適用するConstraint関数（constraintsを参照）  \n",
    "bias_constraint: biasベクトルに適用するConstraint関数（constraintsを参照）  \n",
    "dropout: 0から1の間の浮動小数点数．入力の線形変換においてdropするユニットの割合  \n",
    "recurrent_dropout: 0から1の間の浮動小数点数．再帰の線形変換においてdropするユニットの割合  \n",
    "implementation: 実装モードで，1か2。 モード1は小さなドット積や加算処理を多数行う構造である一方，モード2は少数の大きな操作をバッチ処理します． これらのモードはハードウェアやアプリケーションによって異なるパフォーマンスプロファイルとなるでしょう  \n",
    "reset_after: GRUの慣習（行列の乗算の前後のどちらでリセットゲートの適用を行うか）．False = \"before\" (デフォルト), True = \"after\" (CuDNN互換)"
   ]
  },
  {
   "cell_type": "code",
   "execution_count": null,
   "metadata": {},
   "outputs": [],
   "source": []
  },
  {
   "cell_type": "markdown",
   "metadata": {},
   "source": [
    "### ＜LSTMCell＞\n",
    "LSTMレイヤーのためのcellクラス．  \n",
    "RNN基底クラスのCellパラメータに指定して使う  \n",
    "\n",
    "引数\n",
    "\n",
    "units: 正の整数値，出力の次元数  \n",
    "activation: 活性化関数（activationsを参照） デフォルト：ハイパボリックタンジェント（tanh） Noneを渡すと活性化関数は適用されません（つまり\"線形\"活性: a(x) = x）  \n",
    "activation: 活性化関数（activationsを参照） デフォルト：ハイパボリックタンジェント（tanh） Noneを渡すと活性化関数は適用されません（つまり\"線形\"活性: a(x) = x）  \n",
    "use_bias: 真理値，biasベクトルを使うかどうか．  \n",
    "kernel_initializer: 入力の線形変換に使われるkernelの重み行列のためのInitializer（initializersを参照）  \n",
    "recurrent_initializer: 再帰の線形変換に使われるrecurrent_kernelの重み行列のInitializer（initializersを参照）  \n",
    "bias_initializer: biasベクトルのInitializer（initializersを参照）  \n",
    "unit_forget_bias: 真理値．Trueなら，初期化時に忘却ゲートのバイアスに1を加えます． bias_initializer=\"zeros\"とともに用いられます． これはJozefowicz et al.により推奨されています  \n",
    "kernel_regularizer: kernelの重み行列に適用するRegularizer関数（regularizerを参照）  \n",
    "recurrent_regularizer: recurrent_kernelの重み行列に適用するRegularizer関数（regularizerを参照）  \n",
    "bias_regularizer: biasベクトルに適用するRegularizer関数（regularizerを参照）  \n",
    "kernel_constraint: kernelの重み行列に適用するConstraint関数（constraintsを参照）  \n",
    "recurrent_constraint: recurrent_kernelの重み行列に適用するConstraint関数（constraintsを参照）  \n",
    "bias_constraint: biasベクトルに適用するConstraint関数（constraintsを参照）  \n",
    "dropout: 0から1の間の浮動小数点数．入力の線形変換においてdropするユニットの割合  \n",
    "recurrent_dropout: 0から1の間の浮動小数点数．再帰の線形変換においてdropするユニットの割合  \n",
    "implementation: 実装モードで，1か2。 モード1は小さなドット積や加算処理を多数行う構造である一方，モード2は少数の大きな操作をバッチ処理します． これらのモードはハードウェアやアプリケーションによって異なるパフォーマンスプロファイルとなるでしょう  \n"
   ]
  },
  {
   "cell_type": "code",
   "execution_count": null,
   "metadata": {},
   "outputs": [],
   "source": []
  },
  {
   "cell_type": "markdown",
   "metadata": {},
   "source": [
    "### ＜StackedRNNCells＞\n",
    "RNN cellのスタックの振る舞いを単一のcellのようにするためのラッパー．  \n",
    "複数のGRUCellやLSTMCellを1塊にして使う。\n",
    "RNN基底クラスのCellパラメータに指定して使う\n",
    "\n",
    "効率的なstacked RNNを実装するために使われます．\n",
    "\n",
    "引数\n",
    "\n",
    "cells: RNN cellインスタンスのリスト．\n",
    "例\n",
    "```python\n",
    "cells = [\n",
    "    keras.layers.LSTMCell(output_dim),\n",
    "    keras.layers.LSTMCell(output_dim),\n",
    "    keras.layers.LSTMCell(output_dim),\n",
    "]\n",
    "\n",
    "inputs = keras.Input((timesteps, input_dim))\n",
    "x = keras.layers.RNN(cells)(inputs)\n",
    "```"
   ]
  },
  {
   "cell_type": "code",
   "execution_count": null,
   "metadata": {},
   "outputs": [],
   "source": []
  },
  {
   "cell_type": "markdown",
   "metadata": {},
   "source": [
    "### ＜CuDNNGRU＞\n",
    "NVIDIA製GPU向け　CuDNNを利用した高速なLSTM実装\n",
    "\n",
    "TensorFlowバックエンドでGPU上でのみ動作します．\n",
    "\n",
    "引数\n",
    "\n",
    "units: 正の整数値，出力の次元数  \n",
    "kernel_initializer: 入力の線形変換に使われるkernelの重み行列のためのInitializer（initializersを参照）  \n",
    "recurrent_initializer: 再帰の線形変換に使われるrecurrent_kernelの重み行列のInitializer（initializersを参照）  \n",
    "bias_initializer: biasベクトルのInitializer（initializersを参照）  \n",
    "kernel_regularizer: kernelの重み行列に適用するRegularizer関数（regularizerを参照）  \n",
    "recurrent_regularizer: recurrent_kernelの重み行列に適用するRegularizer関数（regularizerを参照）  \n",
    "bias_regularizer: biasベクトルに適用するRegularizer関数（regularizerを参照）  \n",
    "activity_regularizer: 出力 (そのactivation) に適用するRegularizer関数（regularizerを参照）  \n",
    "kernel_constraint: kernelの重み行列に適用するConstraint関数（constraintsを参照）  \n",
    "recurrent_constraint: recurrent_kernelの重み行列に適用するConstraint関数（constraintsを参照）  \n",
    "bias_constraint: biasベクトルに適用するConstraint関数（constraintsを参照）  \n",
    "return_sequences: 真理値．出力系列の最後の出力を返すか，完全な系列を返すか  \n",
    "return_state: 真理値．出力とともに，最後の状態を返すかどうか  \n",
    "stateful: 真理値（デフォルトはFalse）。　Trueなら，バッチ内のインデックスiの各サンプルに対する最後の状態が次のバッチ内のインデックスiのサンプルに対する初期状態として使われます  \n",
    "\n",
    "＜GRUとの差異＞\n",
    "以下のパラメータは使用出来ない。\n",
    "・activation\n",
    "・recurrent_activation\n",
    "・use_bias\n",
    "・dropout\n",
    "・recurrent_dropout\n",
    "・implementation\n",
    "・go_backwards\n",
    "・unroll\n",
    "・reset_after"
   ]
  },
  {
   "cell_type": "code",
   "execution_count": null,
   "metadata": {},
   "outputs": [],
   "source": []
  },
  {
   "cell_type": "markdown",
   "metadata": {},
   "source": [
    "### ＜CuDNNLSTM＞\n",
    "NVIDIA製GPU向け　CuDNNを利用した高速なLSTM実装\n",
    "\n",
    "TensorFlowバックエンドでGPU上でのみ動作します．\n",
    "\n",
    "引数\n",
    "\n",
    "units: 正の整数値，出力の次元数  \n",
    "kernel_initializer: 入力の線形変換に使われるkernelの重み行列のためのInitializer（initializersを参照）  \n",
    "unit_forget_bias: 真理値．Trueなら，初期化時に忘却ゲートのバイアスに1を加えます． bias_initializer=\"zeros\"とともに用いられます． これはJozefowicz et al.により推奨されています  \n",
    "recurrent_initializer: 再帰の線形変換に使われるrecurrent_kernelの重み行列のInitializer（initializersを参照）  \n",
    "bias_initializer: biasベクトルのInitializer（initializersを参照）  \n",
    "kernel_regularizer: kernelの重み行列に適用するRegularizer関数（regularizerを参照）  \n",
    "recurrent_regularizer: recurrent_kernelの重み行列に適用するRegularizer関数（regularizerを参照）  \n",
    "bias_regularizer: biasベクトルに適用するRegularizer関数（regularizerを参照）  \n",
    "activity_regularizer: 出力 (そのactivation) に適用するRegularizer関数（regularizerを参照）  \n",
    "kernel_constraint: kernelの重み行列に適用するConstraint関数（constraintsを参照）  \n",
    "recurrent_constraint: recurrent_kernelの重み行列に適用するConstraint関数（constraintsを参照）  \n",
    "bias_constraint: biasベクトルに適用するConstraint関数（constraintsを参照）  \n",
    "return_sequences: 真理値．出力系列の最後の出力を返すか，完全な系列を返すか  \n",
    "return_state: 真理値．出力とともに，最後の状態を返すかどうか  \n",
    "stateful: 真理値（デフォルトはFalse）．Trueなら，バッチ内のインデックスiの各サンプルに対する最後の状態が次のバッチ内のインデックスiのサンプルに対する初期状態として使われます  \n",
    "\n",
    "＜LSTMとの差異＞\n",
    "以下のパラメータは使用出来ない。  \n",
    "・activation  \n",
    "・recurrent_activation  \n",
    "・use_bias  \n",
    "・dropout  \n",
    "・recurrent_dropout  \n",
    "・implementation  \n",
    "・go_backwards  \n",
    "・unroll  \n",
    "\n"
   ]
  },
  {
   "cell_type": "code",
   "execution_count": null,
   "metadata": {},
   "outputs": [],
   "source": []
  }
 ],
 "metadata": {
  "accelerator": "GPU",
  "colab": {
   "collapsed_sections": [],
   "name": "Sprint23 ゲート付きリカレントニューラルネットワーク.ipynb",
   "provenance": []
  },
  "kernelspec": {
   "display_name": "Python 3",
   "language": "python",
   "name": "python3"
  },
  "language_info": {
   "codemirror_mode": {
    "name": "ipython",
    "version": 3
   },
   "file_extension": ".py",
   "mimetype": "text/x-python",
   "name": "python",
   "nbconvert_exporter": "python",
   "pygments_lexer": "ipython3",
   "version": "3.7.6"
  }
 },
 "nbformat": 4,
 "nbformat_minor": 4
}
