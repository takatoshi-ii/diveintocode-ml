{
 "cells": [
  {
   "cell_type": "markdown",
   "metadata": {},
   "source": [
    "# Week1授業課題2 何回折ったら富士山を超えるか問題"
   ]
  },
  {
   "cell_type": "markdown",
   "metadata": {},
   "source": [
    "## 【問題1】富士山を超える最小の折る回数"
   ]
  },
  {
   "cell_type": "code",
   "execution_count": 1,
   "metadata": {},
   "outputs": [
    {
     "name": "stdout",
     "output_type": "stream",
     "text": [
      "26回折ると富士山を超える\n"
     ]
    }
   ],
   "source": [
    "THICKNESS = 0.00008\n",
    "MT_FUJI = 3776\n",
    "thickness_list = []\n",
    "\n",
    "# 初期値の代入\n",
    "folded_thickness = THICKNESS\n",
    "thickness_list.append(folded_thickness)\n",
    "folded_count = 0\n",
    "while folded_thickness < MT_FUJI:\n",
    "    folded_thickness *= 2\n",
    "    folded_count += 1\n",
    "    thickness_list.append(folded_thickness)\n",
    "    \n",
    "# メートルをキロメートルに変換して小数点以下2桁で表示する\n",
    "print(\"{}回折ると富士山を超える\".format(folded_count))\n"
   ]
  },
  {
   "cell_type": "markdown",
   "metadata": {},
   "source": [
    "## 【問題2】任意の厚さに対応した関数を作成"
   ]
  },
  {
   "cell_type": "code",
   "execution_count": 2,
   "metadata": {},
   "outputs": [],
   "source": [
    "def Get_Fold_Times(distance, thickness):\n",
    "    folded_thickness = thickness\n",
    "    thickness_list.append(folded_thickness)\n",
    "    folded_count = 0\n",
    "    while folded_thickness < distance:\n",
    "        folded_thickness *= 2\n",
    "        folded_count += 1\n",
    "        thickness_list.append(folded_thickness)\n",
    "    \n",
    "    return folded_count, thickness_list"
   ]
  },
  {
   "cell_type": "code",
   "execution_count": 3,
   "metadata": {},
   "outputs": [
    {
     "name": "stdout",
     "output_type": "stream",
     "text": [
      "26回折ると富士山を超える\n"
     ]
    }
   ],
   "source": [
    "distance = 3776\n",
    "thickness = 0.00008\n",
    "folded_count, thickness_list = Get_Fold_Times(distance, thickness)\n",
    "print(\"{}回折ると富士山を超える\".format(folded_count))"
   ]
  },
  {
   "cell_type": "markdown",
   "metadata": {},
   "source": [
    "## 【問題3】必要な紙の長さ"
   ]
  },
  {
   "cell_type": "code",
   "execution_count": 7,
   "metadata": {},
   "outputs": [],
   "source": [
    "import math\n",
    "def get_horizontal_distance(distance, thickness):\n",
    "    folded_count, thickness_list = Get_Fold_Times(distance, thickness)\n",
    "    horizontal_distance = ((math.pi * thickness) / 6)*(2**folded_count + 4)*(2**folded_count -1)\n",
    "    return horizontal_distance"
   ]
  },
  {
   "cell_type": "code",
   "execution_count": 14,
   "metadata": {},
   "outputs": [
    {
     "data": {
      "text/plain": [
       "3.97362e+16"
      ]
     },
     "execution_count": 14,
     "metadata": {},
     "output_type": "execute_result"
    }
   ],
   "source": [
    "# 月\n",
    "# 富士山\n",
    "# 最も近い太陽系以外の恒星　⇒　プロキシマケンタウリ(4.2光年)　\n",
    "# 1光年 = 9.461e+15m\n",
    "MOON = 380000\n",
    "MT_FUJI = 3776\n",
    "PROXIMA = 4.2 * 9.461e+15\n",
    "PROXIMA\n"
   ]
  },
  {
   "cell_type": "code",
   "execution_count": 19,
   "metadata": {
    "scrolled": true
   },
   "outputs": [
    {
     "name": "stdout",
     "output_type": "stream",
     "text": [
      "①月                  に到達するには、水平方向に3090781636525.68km必要\n",
      "②富士山              に到達するには、水平方向に188646348.49km必要\n",
      "③プロキシマケンタウリに到達するには、水平方向に14595803601100346839891623748304896.00km必要\n"
     ]
    }
   ],
   "source": [
    "# 月の場合\n",
    "thickness = 0.00008\n",
    "#horizontal_distance =get_horizontal_distance(moon, thickness)\n",
    "print(\"①月                  に到達するには、水平方向に{:.2f}km必要\".format(get_horizontal_distance(MOON, thickness)/1000))\n",
    "print(\"②富士山              に到達するには、水平方向に{:.2f}km必要\".format(get_horizontal_distance(MT_FUJI, thickness)/1000))\n",
    "print(\"③プロキシマケンタウリに到達するには、水平方向に{:.2f}km必要\".format(get_horizontal_distance(PROXIMA, thickness)/1000))"
   ]
  },
  {
   "cell_type": "code",
   "execution_count": null,
   "metadata": {},
   "outputs": [],
   "source": []
  },
  {
   "cell_type": "code",
   "execution_count": null,
   "metadata": {},
   "outputs": [],
   "source": []
  }
 ],
 "metadata": {
  "kernelspec": {
   "display_name": "Python 3",
   "language": "python",
   "name": "python3"
  },
  "language_info": {
   "codemirror_mode": {
    "name": "ipython",
    "version": 3
   },
   "file_extension": ".py",
   "mimetype": "text/x-python",
   "name": "python",
   "nbconvert_exporter": "python",
   "pygments_lexer": "ipython3",
   "version": "3.6.10"
  }
 },
 "nbformat": 4,
 "nbformat_minor": 4
}
