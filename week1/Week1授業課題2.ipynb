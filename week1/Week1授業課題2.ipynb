{
 "cells": [
  {
   "cell_type": "markdown",
   "metadata": {},
   "source": [
    "# Week1授業課題2 何回折ったら富士山を超えるか問題"
   ]
  },
  {
   "cell_type": "markdown",
   "metadata": {},
   "source": [
    "## 1.このテキストについて\n",
    "<u>テキストの目的</u>  \n",
    "基礎的なプログラミング力を確認する  \n",
    "数式をプログラムに落とし込めるようにする  \n",
    "\n",
    "<u>どのように学ぶか</u>  \n",
    "Python入門課題の発展です。やや複雑な数式が登場しますので、どのようにプログラムに落とし込めるかを考えていってください。\n",
    "\n"
   ]
  },
  {
   "cell_type": "markdown",
   "metadata": {},
   "source": [
    "## 2.何回折ったら富士山を超えるか問題\n",
    "「Pythonを使ってみよう」の問題では「1枚の紙を43回折り曲げた時の厚さを計算するプログラム」を作成し、43回折ることで月に届くことが確認できました。\n",
    "\n",
    "\n",
    "ここで「何回折ったらある厚さになるのか」という疑問が生まれます。こういったことを計算するプログラムを作成していきましょう。\n",
    "\n",
    "<u>紙を折った時の厚さの数式</u>  \n",
    "授業前課題と同様ですが確認しておきます。\n",
    "\n",
    "\n",
    "n回折った紙の厚さ $t_{n}$ は以下のように表せます。  \n",
    "$\n",
    "t_{n} = t_{0}×2^{n}\n",
    "$  \n",
    "折る前の紙の厚さ $t_{0}$ は**0.00008m**とします。一般的なコピー用紙の厚さです。"
   ]
  },
  {
   "cell_type": "markdown",
   "metadata": {},
   "source": [
    "## 【問題1】富士山を超える最小の折る回数\n",
    "厚さが「富士山(3776m)」を超えるのは何回紙を折った時か計算するプログラムを作成してください。"
   ]
  },
  {
   "cell_type": "code",
   "execution_count": 3,
   "metadata": {},
   "outputs": [
    {
     "name": "stdout",
     "output_type": "stream",
     "text": [
      "26回折ると富士山を超える\n"
     ]
    }
   ],
   "source": [
    "THICKNESS = 0.00008\n",
    "MT_FUJI = 3776\n",
    "thickness_list = []\n",
    "\n",
    "# 初期値の代入\n",
    "folded_thickness = THICKNESS\n",
    "thickness_list.append(folded_thickness)\n",
    "folded_count = 0\n",
    "while folded_thickness < MT_FUJI:\n",
    "    folded_thickness *= 2\n",
    "    folded_count += 1\n",
    "    thickness_list.append(folded_thickness)\n",
    "    \n",
    "# メートルをキロメートルに変換して小数点以下2桁で表示する\n",
    "print(\"{}回折ると富士山を超える\".format(folded_count))\n"
   ]
  },
  {
   "cell_type": "markdown",
   "metadata": {},
   "source": [
    "## 【問題2】任意の厚さに対応した関数を作成\n",
    "距離を入力すると、何回折った時に超えるかを出力する関数を作成してください。引数として、折る前の厚さ $t_{0}$ も設定できるようにしましょう。\n",
    "\n",
    "\n",
    "この関数を利用して、「最も近い太陽以外の恒星」に到達するには紙を何回折る必要があるか計算してください。「最も近い太陽以外の恒星」の距離は調査してください。"
   ]
  },
  {
   "cell_type": "code",
   "execution_count": 4,
   "metadata": {},
   "outputs": [],
   "source": [
    "def Get_Fold_Times(distance, thickness):\n",
    "    folded_thickness = thickness\n",
    "    thickness_list.append(folded_thickness)\n",
    "    folded_count = 0\n",
    "    while folded_thickness < distance:\n",
    "        folded_thickness *= 2\n",
    "        folded_count += 1\n",
    "        thickness_list.append(folded_thickness)\n",
    "    \n",
    "    return folded_count, thickness_list"
   ]
  },
  {
   "cell_type": "code",
   "execution_count": 5,
   "metadata": {},
   "outputs": [
    {
     "name": "stdout",
     "output_type": "stream",
     "text": [
      "26回折ると富士山を超える\n"
     ]
    }
   ],
   "source": [
    "distance = 3776\n",
    "thickness = 0.00008\n",
    "folded_count, thickness_list = Get_Fold_Times(distance, thickness)\n",
    "print(\"{}回折ると富士山を超える\".format(folded_count))"
   ]
  },
  {
   "cell_type": "markdown",
   "metadata": {},
   "source": [
    "## 【問題3】必要な紙の長さ\n",
    "実際のところ身近にある紙は43回はおろか10回も折れません。しかし、大きな紙ほどたくさん折ることができ、トイレットペーパーのような長い紙を一方向に折ることを考えた時の折れる回数を求める公式が存在します。\n",
    "\n",
    "\n",
    "厚さ $t_{0}$ の紙をn回折るために必要な紙の長さLは以下の公式で求まります。  \n",
    "\n",
    "$\n",
    "L = \\frac{\\pi t_{0}}{6}(2^n + 4)(2^n - 1)\n",
    "$  \n",
    "\n",
    "この公式を利用して、実際に紙を折り任意の厚さに到達するために必要な紙の長さを求める関数を作成してください。\n",
    "\n",
    "\n",
    "そしてこれを使って「月」「富士山」「最も近い太陽以外の恒星」に届くために必要な紙の長さを求めてください。\n",
    "\n",
    "《公式の出典》\n",
    "\n",
    "\n",
    "[Folding Paper in Half | Teachers of India](http://teachersofindia.org/en/ebook/folding-paper-half)\n",
    "\n",
    "\n",
    "《解説記事》\n",
    "\n",
    "\n",
    "[Britney Gallivan - Wikipedia](https://en.wikipedia.org/wiki/Britney_Gallivan)\n",
    "\n",
    "\n",
    "《ヒント》\n",
    "\n",
    "\n",
    "この公式の中で折る回数nが登場しますが、このnは先ほど作成した関数で求まります。関数の中で関数を使うことが可能です。"
   ]
  },
  {
   "cell_type": "code",
   "execution_count": 6,
   "metadata": {},
   "outputs": [],
   "source": [
    "import math\n",
    "def get_horizontal_distance(distance, thickness):\n",
    "    folded_count, thickness_list = Get_Fold_Times(distance, thickness)\n",
    "    horizontal_distance = ((math.pi * thickness) / 6)*(2**folded_count + 4)*(2**folded_count -1)\n",
    "    return horizontal_distance"
   ]
  },
  {
   "cell_type": "code",
   "execution_count": 7,
   "metadata": {},
   "outputs": [],
   "source": [
    "# 月\n",
    "# 富士山\n",
    "# 最も近い太陽系以外の恒星　⇒　プロキシマケンタウリ(4.2光年)　\n",
    "# 1光年 = 9.461e+15m\n",
    "MOON = 380000\n",
    "MT_FUJI = 3776\n",
    "PROXIMA = 4.2 * 9.461e+15"
   ]
  },
  {
   "cell_type": "code",
   "execution_count": 8,
   "metadata": {
    "scrolled": true
   },
   "outputs": [
    {
     "name": "stdout",
     "output_type": "stream",
     "text": [
      "①月                  に到達するには、水平方向に3090781636525.68km必要\n",
      "②富士山              に到達するには、水平方向に188646348.49km必要\n",
      "③プロキシマケンタウリに到達するには、水平方向に14595803601100346839891623748304896.00km必要\n"
     ]
    }
   ],
   "source": [
    "# 月の場合\n",
    "thickness = 0.00008\n",
    "#horizontal_distance =get_horizontal_distance(moon, thickness)\n",
    "print(\"①月                  に到達するには、水平方向に{:.2f}km必要\".format(get_horizontal_distance(MOON, thickness)/1000))\n",
    "print(\"②富士山              に到達するには、水平方向に{:.2f}km必要\".format(get_horizontal_distance(MT_FUJI, thickness)/1000))\n",
    "print(\"③プロキシマケンタウリに到達するには、水平方向に{:.2f}km必要\".format(get_horizontal_distance(PROXIMA, thickness)/1000))"
   ]
  },
  {
   "cell_type": "code",
   "execution_count": null,
   "metadata": {},
   "outputs": [],
   "source": []
  },
  {
   "cell_type": "code",
   "execution_count": null,
   "metadata": {},
   "outputs": [],
   "source": []
  }
 ],
 "metadata": {
  "kernelspec": {
   "display_name": "Python 3",
   "language": "python",
   "name": "python3"
  },
  "language_info": {
   "codemirror_mode": {
    "name": "ipython",
    "version": 3
   },
   "file_extension": ".py",
   "mimetype": "text/x-python",
   "name": "python",
   "nbconvert_exporter": "python",
   "pygments_lexer": "ipython3",
   "version": "3.7.6"
  }
 },
 "nbformat": 4,
 "nbformat_minor": 4
}
