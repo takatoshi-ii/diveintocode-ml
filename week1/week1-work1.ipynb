{
 "cells": [
  {
   "cell_type": "markdown",
   "metadata": {},
   "source": [
    "# Week1授業前課題1 Pythonを使ってみよう"
   ]
  },
  {
   "cell_type": "markdown",
   "metadata": {},
   "source": [
    "## 1.このテキストについて\n",
    "テキストの目的\n",
    "基礎的なプログラミング力を確認する\n",
    "プログラミングを何らかしらの問題に対して適用してみる\n",
    "随時調査しながら進められるようにする\n",
    "\n",
    "どのように学ぶか\n",
    "DIVERのPython入門テキストで得たことを生かし、問題を解いていってください。新しいことも登場するので、調査しながら進めていくことになります。"
   ]
  },
  {
   "cell_type": "markdown",
   "metadata": {},
   "source": [
    "## 2.紙を折る\n",
    "紙を折り続けると厚さが増していき、43回で月に届くという話があります。しかし、実際には10回も折ることができません。また、手計算も大変です。\n",
    "\n",
    "そこで今回の課題では **1枚の紙を43回折り曲げた時の厚さを計算するプログラム** を作成します。\n",
    "\n",
    "43回折った紙の厚さ \n",
    "$t_{43}$ は、折る前の紙の厚さ $t_{0}$ を使い以下の数式で求まります。\n",
    "\n",
    "$\n",
    "t_{43} = t_{0}×2^{43}\n",
    "$\n",
    "\n",
    "折る前の紙の厚さ $t_{0}$ は**0.00008m**とします。一般的なコピー用紙の厚さです。"
   ]
  },
  {
   "cell_type": "markdown",
   "metadata": {},
   "source": [
    "## 3.2つの方法による厚さの計算\n",
    "プログラミングでは同じ動作を様々な方法で記述することができます。今回は以下の2つを作成してください。\n",
    "\n",
    "・べき乗の算術演算子を使用\n",
    "・for文を使用\n"
   ]
  },
  {
   "cell_type": "markdown",
   "metadata": {},
   "source": [
    "## 【問題1】べき乗の算術演算子を使用して作成\n",
    "べき乗の算術演算子を使用したプログラムを作ってください。\n",
    "雛形として紙を1回折った時の厚さを計算するコードを用意しました。これを43回折った時のコードに書き換えてください。\n"
   ]
  },
  {
   "cell_type": "code",
   "execution_count": 6,
   "metadata": {},
   "outputs": [
    {
     "name": "stdout",
     "output_type": "stream",
     "text": [
      "厚さ： 703687441.77664メートル\n"
     ]
    }
   ],
   "source": [
    "\"\"\"\n",
    "紙を43回折った時の厚さを計算するコード\n",
    "\"\"\"\n",
    "THICKNESS = 0.00008\n",
    "FOLD_TIMES = 43\n",
    "folded_thickness = THICKNESS*2**FOLD_TIMES\n",
    "print(\"厚さ： {}メートル\".format(folded_thickness))"
   ]
  },
  {
   "cell_type": "markdown",
   "metadata": {},
   "source": [
    "## 【問題2】単位の変換\n",
    "単位がメートルだと実感が湧きづらいので、**◯◯万キロメートル** に変換して表示させてください。\n",
    "\n",
    "\n",
    "サンプルとして **◯◯キロメートル** に変換したコードを用意したので、参考にして取り組んでください。小数点以下は2桁まで表示されるようにも指定しています。\n",
    "\n",
    "「月までの距離」を検索して、折った紙が月に届くかどうか確認してみましょう。"
   ]
  },
  {
   "cell_type": "code",
   "execution_count": 4,
   "metadata": {},
   "outputs": [
    {
     "name": "stdout",
     "output_type": "stream",
     "text": [
      "厚さ： 70.37万キロメートル\n"
     ]
    }
   ],
   "source": [
    "# メートルをキロメートルに変換して小数点以下2桁で表示する\n",
    "print(\"厚さ： {:.2f}万キロメートル\".format(folded_thickness/(1000 * 10000)))"
   ]
  },
  {
   "cell_type": "markdown",
   "metadata": {},
   "source": [
    "地球から月までの距離は38万キロメートルなので、43回折ると(折れれば)月に到達する。"
   ]
  },
  {
   "cell_type": "markdown",
   "metadata": {},
   "source": [
    "## 【問題3】for文を使用して作成\n",
    "次に、for文を使用したプログラムを作ってください。\n",
    "\n",
    "\n",
    "べき乗の算術演算子は使ってはいけません。算術演算子は四則演算（+、-、*、/）のみ使えます。\n",
    "\n",
    "\n",
    "《ヒント》\n",
    "\n",
    "\n",
    "べき乗は以下のように掛け算の繰り返しに置き換えることができます。  \n",
    "$\n",
    "2^3=2×2×2\\ \n",
    "$\n",
    "  \n",
    "$\n",
    "2^5=2×2×2×2×2\n",
    "$"
   ]
  },
  {
   "cell_type": "code",
   "execution_count": 7,
   "metadata": {},
   "outputs": [
    {
     "name": "stdout",
     "output_type": "stream",
     "text": [
      "厚さ： 70.37万キロメートル\n"
     ]
    }
   ],
   "source": [
    "folded_thickness = THICKNESS\n",
    "for i in range(FOLD_TIMES):\n",
    "    folded_thickness *= 2\n",
    "    \n",
    "# メートルをキロメートルに変換して小数点以下2桁で表示する\n",
    "print(\"厚さ： {:.2f}万キロメートル\".format(folded_thickness/(1000 * 10000)))"
   ]
  },
  {
   "cell_type": "markdown",
   "metadata": {},
   "source": [
    "## 【問題4】計算時間の比較\n",
    "2つの方法はどちらが正しいわけでもありませんが、コードの良さを評価する際には以下のような着目点があります。\n",
    "\n",
    "計算速度\n",
    "メモリの使用量\n",
    "可読性\n",
    "拡張性\n",
    "再利用性\n",
    "\n",
    "今回は計算速度を比較してみます。以下の雛形を使用して、2つの方法の計算時間を出力してください。そして、それぞれの計算時間の関係を簡単に説明してください。どちらの書き方が良さそうでしょうか。なお、変数の定義やprint文など、どちらの方法でも使われている部分は除いた範囲の時間を比較してください  \n",
    "\n",
    "timeモジュールを用いることで現在の時間を取得できます。比較したい箇所の前後の時間の差を計算することで、実行時間を求めます。\n",
    "\n",
    "\n",
    "《発展：繰り返し回数を増やす》\n",
    "\n",
    "43回程度では2つの方法の差が出にくいかもしれません。そういった時は、回数をより増やして差を明確にしてみると良いでしょう。"
   ]
  },
  {
   "cell_type": "code",
   "execution_count": 175,
   "metadata": {},
   "outputs": [
    {
     "name": "stdout",
     "output_type": "stream",
     "text": [
      "①べき乗 経過時間 : 0.00000000000000000000[s]\n",
      "②   for 経過時間 : 0.00099897384643554688[s]\n"
     ]
    }
   ],
   "source": [
    "import time\n",
    "TEST_TIMES = 600\n",
    "start = time.time()\n",
    "folded_thickness = THICKNESS*2**TEST_TIMES\n",
    "elapsed_time1 = time.time() - start\n",
    "print(\"①べき乗 経過時間 : {:.20f}[s]\".format(elapsed_time1))\n",
    "\n",
    "start = time.time()\n",
    "folded_thickness = THICKNESS\n",
    "for i in range(TEST_TIMES):\n",
    "    folded_thickness *= 2\n",
    "elapsed_time2 = time.time() - start\n",
    "print(\"②   for 経過時間 : {:.20f}[s]\".format(elapsed_time2))"
   ]
  },
  {
   "cell_type": "markdown",
   "metadata": {},
   "source": [
    "### ＜%%timeit を使用＞\n",
    "《発展：マジックコマンドを使う》\n",
    "\n",
    "計算時間は実行するたびに変化します。そのため、複数回計測することが一般的です。timeモジュールとfor文を組み合わせることで実現できる他、Jupyter Notebookでは%timeitという マジックコマンド でも計測が可能です。マジックコマンドはPythonのプログラムとは別に用意された、Jupyter Notebookを便利にするための機能です。\n",
    "\n",
    "[Built-in magic commands — IPython 7.9.0 documentation](https://ipython.readthedocs.io/en/stable/interactive/magics.html#magic-timeit) \n",
    "\n",
    "計測したいコードを書いたセルのはじめに%%timeitと入れて実行します。"
   ]
  },
  {
   "cell_type": "code",
   "execution_count": 138,
   "metadata": {},
   "outputs": [
    {
     "name": "stdout",
     "output_type": "stream",
     "text": [
      "608 ns ± 33.2 ns per loop (mean ± std. dev. of 7 runs, 1000000 loops each)\n"
     ]
    }
   ],
   "source": [
    "%%timeit\n",
    "folded_thickness = THICKNESS*2**FOLD_TIMES"
   ]
  },
  {
   "cell_type": "code",
   "execution_count": 139,
   "metadata": {},
   "outputs": [
    {
     "name": "stdout",
     "output_type": "stream",
     "text": [
      "3.49 µs ± 245 ns per loop (mean ± std. dev. of 7 runs, 100000 loops each)\n"
     ]
    }
   ],
   "source": [
    "%%timeit\n",
    "folded_thickness = THICKNESS\n",
    "for i in range(FOLD_TIMES):\n",
    "    folded_thickness *= 2"
   ]
  },
  {
   "cell_type": "markdown",
   "metadata": {},
   "source": [
    "# 4.過程の可視化\n",
    "折り曲げた時の厚さを毎回記録しておき、それを折れ線グラフで可視化してみます。\n",
    "\n",
    "\n",
    "数式を一般化し、n回折った紙の厚さ $t_{n}$ は以下のように表せます。  \n",
    " $\n",
    " t_{n} = t_{0}×2^{n}\n",
    " $\n",
    " \n",
    " これは指数関数です。指数関数は値が急激に増加する性質があります。厚さが急激に増えて月に到達する様子をグラフで見てみましょう。"
   ]
  },
  {
   "cell_type": "markdown",
   "metadata": {},
   "source": [
    "## 【問題5】リストへの保存\n",
    "ここまでは43回折った後の最後の値だけを使用していましたが、グラフで可視化するためには過程の値も必要です。for文を使用したコードに、過程の値合計44個を記録するコードを加えてください。\n",
    "\n",
    "\n",
    "《ヒント》\n",
    "\n",
    "・空のリストを作成する。  \n",
    "・折る前の値をリストに追加する。  \n",
    "・for文の中でn回折った時の値をリストに追加していく。  \n",
    "\n",
    "最終的にリストに44個の値が格納されていることをlen関数を用いて確認しておきましょう。"
   ]
  },
  {
   "cell_type": "code",
   "execution_count": 184,
   "metadata": {},
   "outputs": [
    {
     "name": "stdout",
     "output_type": "stream",
     "text": [
      "リスト表示\n",
      "thickness_list:[8e-05, 0.00016, 0.00032, 0.00064, 0.00128, 0.00256, 0.00512, 0.01024, 0.02048, 0.04096, 0.08192, 0.16384, 0.32768, 0.65536, 1.31072, 2.62144, 5.24288, 10.48576, 20.97152, 41.94304, 83.88608, 167.77216, 335.54432, 671.08864, 1342.17728, 2684.35456, 5368.70912, 10737.41824, 21474.83648, 42949.67296, 85899.34592, 171798.69184, 343597.38368, 687194.76736, 1374389.53472, 2748779.06944, 5497558.13888, 10995116.27776, 21990232.55552, 43980465.11104, 87960930.22208, 175921860.44416, 351843720.88832, 703687441.77664]\n",
      "len(thickness_list):44\n"
     ]
    }
   ],
   "source": [
    "thickness_list = []\n",
    "folded_thickness = THICKNESS\n",
    "thickness_list.append(folded_thickness)\n",
    "for i in range(FOLD_TIMES):\n",
    "    folded_thickness *= 2\n",
    "    thickness_list.append(folded_thickness)\n",
    "    \n",
    "print(\"リスト表示\")\n",
    "print(\"thickness_list:{}\".format(thickness_list))\n",
    "print(\"len(thickness_list):{}\".format(len(thickness_list)))"
   ]
  },
  {
   "cell_type": "markdown",
   "metadata": {},
   "source": [
    "## 【問題6】折れ線グラフの表示\n",
    "グラフの描画には Matplotlib という ライブラリ を用います。リストへ記録するコードの後ろで以下の雛形を使用してください。  \n",
    "グラフを表示させた場合はそれに対する考察が重要です。厚さがどのように変化しているかを簡単に説明してください。"
   ]
  },
  {
   "cell_type": "code",
   "execution_count": 153,
   "metadata": {},
   "outputs": [
    {
     "data": {
      "image/png": "[encoded data removed]",
      "text/plain": [
       "<Figure size 432x288 with 1 Axes>"
      ]
     },
     "metadata": {
      "needs_background": "light"
     },
     "output_type": "display_data"
    }
   ],
   "source": [
    "\"\"\"\n",
    "グラフを表示する。タイトルと軸ラベル名付き。\n",
    "\"\"\"\n",
    "import matplotlib.pyplot as plt\n",
    "%matplotlib inline\n",
    "plt.title(\"thickness of folded paper(linear)\")\n",
    "plt.xlabel(\"number of folds\")\n",
    "plt.ylabel(\"thickness[m](linear)\")\n",
    "plt.plot(thickness_list) # 「リスト名」のところにリストの変数名を入れる\n",
    "plt.show()"
   ]
  },
  {
   "cell_type": "code",
   "execution_count": 152,
   "metadata": {},
   "outputs": [
    {
     "data": {
      "image/png": "[encoded data removed]",
      "text/plain": [
       "<Figure size 432x288 with 1 Axes>"
      ]
     },
     "metadata": {},
     "output_type": "display_data"
    }
   ],
   "source": [
    "\"\"\"\n",
    "グラフを表示する。タイトルと対数軸ラベル名付き。\n",
    "\"\"\"\n",
    "\n",
    "fig, ax = plt.subplots(facecolor=\"w\")\n",
    "ax.set_title(\"thickness of folded paper(log)\")\n",
    "ax.set_xlabel(\"number of folds\")\n",
    "ax.set_ylabel(\"thickness(log)[m]\")\n",
    "ax.set_yscale(\"log\")\n",
    "ax.grid()\n",
    "ax.plot(thickness_list)\n",
    "\n",
    "plt.show()"
   ]
  },
  {
   "cell_type": "markdown",
   "metadata": {},
   "source": [
    "【考察】上記の2つのグラフから厚さは指数関数的に増加していく。"
   ]
  },
  {
   "cell_type": "markdown",
   "metadata": {},
   "source": [
    "## 【問題7】グラフのカスタマイズ\n",
    "グラフをより見やすくカスタマイズしてみましょう。カスタマイズしたグラフを最低3種類作成してください。例えば以下のように書き換えることで、線の色を赤に変更できます。  \n",
    "\n",
    "どのようなことができるかはMatplotlibの公式ドキュメントを参考にします。\n",
    "\n",
    "\n",
    "[matplotlib.pyplot.plot — Matplotlib 3.0.2 documentation](https://matplotlib.org/api/_as_gen/matplotlib.pyplot.plot.html)\n",
    "\n",
    "\n",
    "《カスタマイズ例》\n",
    "\n",
    "・線の色を青と赤以外にする。  \n",
    "・線を太くする。  \n",
    "・線を点線にする。  \n",
    "・値のフォントサイズを変更する。  \n",
    "\n",
    "上記のページに載っていないカスタマイズも可能です。\n",
    "  \n",
    "  \n",
    "plt.tick_params()に関しては以下のページで説明されています。\n",
    "\n",
    "[matplotlib.pyplot.tick_params — Matplotlib 2.1.1 documentation](https://matplotlib.org/2.1.1/api/_as_gen/matplotlib.pyplot.tick_params.html)\n",
    "\n",
    "\n",
    "様々なカスタマイズ方法を調べて見やすいグラフを作成しましょう。\n",
    "\n",
    "\n",
    "この課題への回答を分かりやすく綺麗なものにまとめられたら完成です。"
   ]
  },
  {
   "cell_type": "code",
   "execution_count": 171,
   "metadata": {},
   "outputs": [
    {
     "data": {
      "image/png": "[encoded data removed]",
      "text/plain": [
       "<Figure size 432x288 with 1 Axes>"
      ]
     },
     "metadata": {
      "needs_background": "light"
     },
     "output_type": "display_data"
    }
   ],
   "source": [
    "\"\"\"\n",
    "①緑色の折れ線グラフを表示する。\n",
    "\"\"\"\n",
    "plt.title(\"thickness of folded paper\")\n",
    "plt.xlabel(\"number of folds\")\n",
    "plt.ylabel(\"thickness[m]\")\n",
    "plt.plot(thickness_list, color='green')\n",
    "plt.show()"
   ]
  },
  {
   "cell_type": "code",
   "execution_count": 172,
   "metadata": {},
   "outputs": [
    {
     "data": {
      "image/png": "[encoded data removed]",
      "text/plain": [
       "<Figure size 432x288 with 1 Axes>"
      ]
     },
     "metadata": {
      "needs_background": "light"
     },
     "output_type": "display_data"
    }
   ],
   "source": [
    "\"\"\"\n",
    "②太線でグラフを表示する。タイトルと軸ラベル名付き。\n",
    "\"\"\"\n",
    "import matplotlib.pyplot as plt\n",
    "%matplotlib inline\n",
    "plt.title(\"thickness of folded paper(linear)\")\n",
    "plt.xlabel(\"number of folds\")\n",
    "plt.ylabel(\"thickness[m](linear)\")\n",
    "plt.plot(thickness_list, color='black',  linestyle='solid', linewidth = 5.0) # 「リスト名」のところにリストの変数名を入れる\n",
    "plt.show()\n"
   ]
  },
  {
   "cell_type": "code",
   "execution_count": 182,
   "metadata": {},
   "outputs": [
    {
     "data": {
      "image/png": "[encoded data removed]",
      "text/plain": [
       "<Figure size 432x288 with 1 Axes>"
      ]
     },
     "metadata": {
      "needs_background": "light"
     },
     "output_type": "display_data"
    }
   ],
   "source": [
    "\"\"\"\n",
    "③破線でグラフを表示する。タイトルと軸ラベル名付き。\n",
    "\"\"\"\n",
    "import matplotlib.pyplot as plt\n",
    "%matplotlib inline\n",
    "plt.title(\"thickness of folded paper(linear)\")\n",
    "plt.xlabel(\"number of folds\")\n",
    "plt.ylabel(\"thickness[m](linear)\")\n",
    "plt.plot(thickness_list, color='black',  linestyle='dashed', linewidth = 2.0) # 「リスト名」のところにリストの変数名を入れる\n",
    "plt.show()\n"
   ]
  },
  {
   "cell_type": "code",
   "execution_count": 183,
   "metadata": {},
   "outputs": [
    {
     "data": {
      "image/png": "[encoded data removed]",
      "text/plain": [
       "<Figure size 432x288 with 2 Axes>"
      ]
     },
     "metadata": {},
     "output_type": "display_data"
    }
   ],
   "source": [
    "\"\"\"\n",
    "④対数グラフと2軸で表示する。タイトルと対数軸ラベル名付き。\n",
    "\"\"\"\n",
    "\n",
    "fig, ax1 = plt.subplots(facecolor=\"w\")\n",
    "ax1.set_title(\"thickness of folded paper\")\n",
    "ax1.set_xlabel(\"number of folds\")\n",
    "ax1.set_ylabel(\"thickness[m]\", color ='blue')\n",
    "ax1.grid()\n",
    "ax1.plot(thickness_list, color ='blue', linestyle='dashed')\n",
    "ax1.tick_params(axis = 'y', colors ='blue')\n",
    "\n",
    "ax2 = ax1.twinx()\n",
    "ax2.set_yscale(\"log\")\n",
    "ax2.set_ylabel(\"thickness(log)[m]\", color ='red')\n",
    "ax2.plot(thickness_list,color='red')\n",
    "ax2.tick_params(axis = 'y', colors ='red')\n",
    "\n",
    "plt.show()"
   ]
  }
 ],
 "metadata": {
  "kernelspec": {
   "display_name": "Python 3",
   "language": "python",
   "name": "python3"
  },
  "language_info": {
   "codemirror_mode": {
    "name": "ipython",
    "version": 3
   },
   "file_extension": ".py",
   "mimetype": "text/x-python",
   "name": "python",
   "nbconvert_exporter": "python",
   "pygments_lexer": "ipython3",
   "version": "3.7.6"
  }
 },
 "nbformat": 4,
 "nbformat_minor": 4
}
