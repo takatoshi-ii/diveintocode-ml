{
 "cells": [
  {
   "cell_type": "markdown",
   "metadata": {},
   "source": [
    "# Week1授業課題3 栗まんじゅう問題"
   ]
  },
  {
   "cell_type": "markdown",
   "metadata": {},
   "source": [
    "## 【問題】栗まんじゅうが太陽系を覆う日"
   ]
  },
  {
   "cell_type": "code",
   "execution_count": 3,
   "metadata": {},
   "outputs": [
    {
     "name": "stdout",
     "output_type": "stream",
     "text": [
      "[1, 8, 64, 512, 4096, 32768, 262144, 2097152, 16777216, 134217728, 1073741824]\n",
      "体積： 1073741824.00キロメートル\n"
     ]
    }
   ],
   "source": [
    "volume = 1\n",
    "volume_list = [volume]\n",
    "\n",
    "TIMES = 10\n",
    "for i in range(TIMES):\n",
    "    volume = volume*(2**3)\n",
    "    volume_list.append(volume)\n",
    "# メートルをキロメートルに変換して小数点以下2桁で表示する\n",
    "print(volume_list)\n",
    "print(\"体積： {:.2f}キロメートル\".format(volume))"
   ]
  },
  {
   "cell_type": "markdown",
   "metadata": {},
   "source": [
    "太陽系の半径１．６光年 = 1.514e+13km\n",
    "球の体積：(4πr３)/3"
   ]
  },
  {
   "cell_type": "code",
   "execution_count": 23,
   "metadata": {},
   "outputs": [
    {
     "data": {
      "text/plain": [
       "1.4536713622507324e+49"
      ]
     },
     "execution_count": 23,
     "metadata": {},
     "output_type": "execute_result"
    }
   ],
   "source": [
    "import math\n",
    "\n",
    "sun_radius = 1.514e+16\n",
    "sun_volume = (4/3)*math.pi*sun_radius**3\n",
    "sun_volume"
   ]
  },
  {
   "cell_type": "code",
   "execution_count": 27,
   "metadata": {},
   "outputs": [],
   "source": [
    "#球の体積を算出する関数\n",
    "def calc_volume(radius):\n",
    "    volume = (4/3)*math.pi*radius**3\n",
    "    return volume"
   ]
  },
  {
   "cell_type": "code",
   "execution_count": 28,
   "metadata": {},
   "outputs": [
    {
     "data": {
      "text/plain": [
       "1.4536713622507324e+49"
      ]
     },
     "execution_count": 28,
     "metadata": {},
     "output_type": "execute_result"
    }
   ],
   "source": [
    "# 太陽系の半径(1.514e+16m)では\n",
    "calc_volume(1.514e+16)"
   ]
  },
  {
   "cell_type": "code",
   "execution_count": 21,
   "metadata": {},
   "outputs": [],
   "source": [
    "#対象物の体積を超えるまでの時間を算出する関数\n",
    "def cover_date(limit_volume, volume=1):\n",
    "    count = 0\n",
    "    while limit_volume > volume:\n",
    "        # 3次元がそれぞれ2倍になるので、体積は2**3となる。\n",
    "        volume = volume*(2**3)\n",
    "        volume_list.append(volume)\n",
    "        count += 1\n",
    "        \n",
    "    return count * 5"
   ]
  },
  {
   "cell_type": "code",
   "execution_count": 37,
   "metadata": {},
   "outputs": [
    {
     "name": "stdout",
     "output_type": "stream",
     "text": [
      "240分後に太陽系が覆われる\n"
     ]
    }
   ],
   "source": [
    "#栗饅頭を１０cm角(モンブランを想定)とした場合\n",
    "past_time = cover_date(1.4536713622507324e+40, 0.001)\n",
    "print(\"{}分後に太陽系が覆われる\".format(past_time))"
   ]
  },
  {
   "cell_type": "code",
   "execution_count": 39,
   "metadata": {},
   "outputs": [
    {
     "name": "stdout",
     "output_type": "stream",
     "text": [
      "55分後に東京ドームが覆われる\n"
     ]
    }
   ],
   "source": [
    "# 東京ドーム　124万m3\n",
    "# ボール直径7.2cm\n",
    "T_DOME = 1240000\n",
    "bool_vol = calc_volume(0.035)\n",
    "past_time = cover_date(1240000, bool_vol)\n",
    "print(\"{}分後に東京ドームが覆われる\".format(past_time))"
   ]
  },
  {
   "cell_type": "code",
   "execution_count": null,
   "metadata": {},
   "outputs": [],
   "source": []
  }
 ],
 "metadata": {
  "kernelspec": {
   "display_name": "Python 3",
   "language": "python",
   "name": "python3"
  },
  "language_info": {
   "codemirror_mode": {
    "name": "ipython",
    "version": 3
   },
   "file_extension": ".py",
   "mimetype": "text/x-python",
   "name": "python",
   "nbconvert_exporter": "python",
   "pygments_lexer": "ipython3",
   "version": "3.6.10"
  }
 },
 "nbformat": 4,
 "nbformat_minor": 4
}
