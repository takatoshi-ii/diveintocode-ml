{
 "cells": [
  {
   "cell_type": "raw",
   "metadata": {},
   "source": [
    "The noteook prepares data for matcher\n",
    "It takes images and their labels in txt format\n",
    "The output are images only\n",
    "\n",
    "The images are saved with their id and numer of occurence, so matcher can read them and distinguish\n",
    "between the same object (shifted in time) and the different oject"
   ]
  },
  {
   "cell_type": "code",
   "execution_count": null,
   "metadata": {},
   "outputs": [],
   "source": [
    "#import libraries\n",
    "import os\n",
    "import json\n",
    "import numpy as np\n",
    "import cv2 as cv\n",
    "import random"
   ]
  },
  {
   "cell_type": "code",
   "execution_count": null,
   "metadata": {},
   "outputs": [],
   "source": [
    "#define paths\n",
    "\n",
    "#here are the original train anotations in json\n",
    "path_labels    = 'D:/data-petr/signate_3rd_ai_edge/train_annotations'   \n",
    "\n",
    "#path where, the are the decoded train images. here is necessary to have images in their full resolution, \n",
    "#without top/bottom crop\n",
    "path_images    = 'D:/data-petr/signate_3rd_ai_edge/train_imgs_full' \n",
    "\n",
    "#path where, the are the decoded train images\n",
    "out_dir        = 'D:/data-petr/signate_3rd_ai_edge/train_imgs_matcher'\n",
    "\n",
    "path_out_file  = 'data_for_matcher.txt'"
   ]
  },
  {
   "cell_type": "code",
   "execution_count": null,
   "metadata": {},
   "outputs": [],
   "source": [
    "#array that defines which classes have to be extracted. \n",
    "#classes = ['Car', 'Pedestrian', 'Truck', 'Signal', 'Signs', 'Bicycle', 'Motorbike', 'Bus', 'Svehicle', 'Train']\n",
    "classes = ['Car', 'Pedestrian']"
   ]
  },
  {
   "cell_type": "code",
   "execution_count": null,
   "metadata": {},
   "outputs": [],
   "source": [
    "#some supporting functions\n",
    "def normalize_image_size(image, target_width, target_height, default_background_color=0, refiner_on=False):\n",
    "    height, width, _ = image.shape\n",
    "    height_ratio = height / target_height\n",
    "    width_ratio = width / target_width\n",
    "    if width_ratio > height_ratio: ret = __resize_by_width(image, target_width)\n",
    "    else: ret = __resize_by_height(image, target_height)\n",
    "    height, width, _ = ret.shape\n",
    "    if height < target_height or width < target_width: ret = __extend_to_exact_size(ret, target_width, target_height, default_background_color, refiner_on)\n",
    "    return ret\n",
    "\n",
    "\n",
    "def __resize_by_width(img, target_width):\n",
    "    current_height, current_width, _ = img.shape\n",
    "    target_height = int(target_width / current_width * current_height)\n",
    "    ret = cv.resize(img, (target_width, target_height), interpolation=cv.INTER_LINEAR)\n",
    "    return ret\n",
    "\n",
    "\n",
    "def __resize_by_height(img, target_height):\n",
    "    current_height, current_width, _ = img.shape\n",
    "    target_width = int(target_height / current_height * current_width)\n",
    "    ret = cv.resize(img, (target_width, target_height), interpolation=cv.INTER_LINEAR)\n",
    "    return ret\n",
    "\n",
    "\n",
    "def __extend_to_exact_size(img, target_width, target_height, default_background_color, refiner_on):\n",
    "    current_height, current_width, _ = img.shape\n",
    "    if refiner_on:\n",
    "        left_border = 0\n",
    "        top_border  = 0\n",
    "    else:\n",
    "        left_border = int((target_width - current_width) / 2)\n",
    "        top_border = int((target_height - current_height) / 2)\n",
    "        \n",
    "    right_border = target_width - current_width - left_border\n",
    "    bottom_border = target_height - current_height - top_border\n",
    "    ret = cv.copyMakeBorder(img, top_border, bottom_border, left_border, right_border,cv.BORDER_CONSTANT, None, default_background_color)\n",
    "    return ret"
   ]
  },
  {
   "cell_type": "code",
   "execution_count": null,
   "metadata": {
    "scrolled": false
   },
   "outputs": [],
   "source": [
    "out_file    = open(path_out_file, \"w\")\n",
    "annotations = os.listdir(path_labels)\n",
    "\n",
    "for i in range (0, len(annotations)):#here we browse all videos\n",
    "    video_name = annotations[i].split('/')[-1].split('\\\\')[-1].split('.')[0]\n",
    "    data       = json.load(open(os.path.join(path_labels, annotations[i])))\n",
    "    print(video_name)\n",
    "    \n",
    "    ids_counter = np.zeros((2, 100000), dtype=int)\n",
    "    \n",
    "    for v in range (0,600): #here we browse all frames. Single movie has 600 frames\n",
    "        img_name     = path_images+'/'+video_name+'/'+str(v)+\".jpg\"\n",
    "        img = cv.imread(img_name)\n",
    "        \n",
    "        \n",
    "        labels       = data['sequence'][v]\n",
    "        str_to_write = img_name\n",
    "        for c in range (0, len(classes)):\n",
    "            try:\n",
    "                for inst in data['sequence'][v][classes[c]]:\n",
    "                    box           = inst['box2d']\n",
    "                    if ((box[2]-box[0])*(box[3]-box[1])) < 900: #we do not want small boxes\n",
    "                        continue\n",
    "                           \n",
    "                    act_id        = inst['id']\n",
    "                    id_counter     = ids_counter[c,act_id]\n",
    "                    ids_counter[c,act_id] += 1\n",
    "                    crop = normalize_image_size(img[box[1]:box[3], box[0]:box[2], ...], 224, 224)\n",
    "                    cv.imwrite(out_dir+'/'+str(c)+'_'+str(i)+'_'+str(act_id)+'_'+str(id_counter)+'_.jpg', crop)\n",
    "                    out_file.write(out_dir+'/'+str(c)+'_'+str(i)+'_'+str(act_id)+'_'+str(id_counter)+'_.jpg\\n')\n",
    "                          \n",
    "            except:\n",
    "                continue #nothing, the class is just not presented in the frame\n",
    "out_file.close()\n",
    "    \n",
    "        "
   ]
  }
 ],
 "metadata": {
  "kernelspec": {
   "display_name": "Python 3",
   "language": "python",
   "name": "python3"
  },
  "language_info": {
   "codemirror_mode": {
    "name": "ipython",
    "version": 3
   },
   "file_extension": ".py",
   "mimetype": "text/x-python",
   "name": "python",
   "nbconvert_exporter": "python",
   "pygments_lexer": "ipython3",
   "version": "3.7.3"
  }
 },
 "nbformat": 4,
 "nbformat_minor": 2
}
