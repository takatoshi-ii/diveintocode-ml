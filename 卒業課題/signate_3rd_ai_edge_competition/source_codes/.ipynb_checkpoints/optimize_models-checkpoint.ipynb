{
 "cells": [
  {
   "cell_type": "markdown",
   "metadata": {},
   "source": [
    "# Refiner, classifier, and matcher"
   ]
  },
  {
   "cell_type": "code",
   "execution_count": null,
   "metadata": {},
   "outputs": [],
   "source": [
    "import efficientnet.keras as efn \n",
    "from keras.layers import Input\n",
    "from keras.layers import Dense, GlobalAveragePooling2D\n",
    "from keras.models import Model\n",
    "from keras.models import load_model\n",
    "from kito import reduce_keras_model\n",
    "from keras import backend as K"
   ]
  },
  {
   "cell_type": "code",
   "execution_count": null,
   "metadata": {},
   "outputs": [],
   "source": [
    "\n",
    "base_model = efn.EfficientNetB3(weights=None)\n",
    "base_model.layers.pop()\n",
    "base_model.layers.pop()\n",
    "x = Dense(3, activation='softmax')(base_model.layers[-1].output)\n",
    "classifier = Model(inputs=base_model.input, outputs=[x])\n",
    "classifier.load_weights('effnet_ep003-loss5.584-val_loss0.001.h5')\n",
    "classifier._make_predict_function()\n",
    "print('classifier loaded')\n",
    "\n",
    "classifier_reduced = reduce_keras_model(classifier)\n",
    "classifier_reduced.save('effnet_ep003-loss5.584-val_loss0.001_reduced.h5')\n",
    "print('classifier reduced done')"
   ]
  },
  {
   "cell_type": "code",
   "execution_count": null,
   "metadata": {},
   "outputs": [],
   "source": [
    "\n",
    "base_model_refine = efn.EfficientNetB3(weights=None)\n",
    "base_model_refine.layers.pop()\n",
    "base_model_refine.layers.pop()\n",
    "x = Dense(4, activation='sigmoid')(base_model_refine.layers[-1].output)\n",
    "refiner = Model(inputs=base_model_refine.input, outputs=[x])\n",
    "refiner.load_weights('D:/data-petr/signate_3rd_ai_edge/refiner/refiner_ep015-loss1.437-val_loss0.850_pedest.h5')#current best\n",
    "#refiner.load_weights('../refiner_ep009-loss1.722-val_loss1.860.h5') #current bes\n",
    "refiner._make_predict_function()\n",
    "print('refiner loaded')\n",
    "\n",
    "refiner_reduced = reduce_keras_model(refiner)\n",
    "print('refiner reduced done')\n",
    "\n",
    "refiner_reduced.save('D:/data-petr/signate_3rd_ai_edge/refiner/refiner_ep015-loss1.437-val_loss0.850_pedest_reduced.h5')"
   ]
  },
  {
   "cell_type": "code",
   "execution_count": null,
   "metadata": {},
   "outputs": [],
   "source": [
    "from keras.preprocessing import image\n",
    "from keras.models import Model\n",
    "from keras.layers import Concatenate, GlobalAvgPool2D, GlobalMaxPool2D, Input, Flatten, Dense\n",
    "from keras.optimizers import Adadelta\n",
    "from keras.callbacks import ModelCheckpoint, ReduceLROnPlateau, Callback\n",
    "from keras.preprocessing.image import ImageDataGenerator\n",
    "from keras.layers import Input\n",
    "from keras import backend as K\n",
    "\n",
    "\n",
    "def triplet_loss(y_true, y_pred, alpha = 1.0):   \n",
    "    total_lenght = y_pred.shape.as_list()[-1]\n",
    "    anchor = y_pred[:,0:int(total_lenght*1/3)]\n",
    "    positive = y_pred[:,int(total_lenght*1/3):int(total_lenght*2/3)]\n",
    "    negative = y_pred[:,int(total_lenght*2/3):int(total_lenght*3/3)]\n",
    "    pos_dist = K.sum(K.square(anchor-positive),axis=1)\n",
    "    neg_dist = K.sum(K.square(anchor-negative),axis=1)\n",
    "    basic_loss = pos_dist-neg_dist+alpha\n",
    "    loss = K.maximum(basic_loss,0.0)\n",
    "    return loss\n",
    "\n",
    "def create_base_network(input_shape):\n",
    "    _input = Input(shape=input_shape)\n",
    "    base_model = efn.EfficientNetB0(weights=None, include_top=False, input_tensor=_input)\n",
    "    base_model.layers.pop()\n",
    "    base_model.layers.pop()\n",
    "    x = GlobalAvgPool2D()(base_model.layers[-1].output)\n",
    "    return Model(_input, x)\n",
    "\n",
    "input_shape=(224,224,3)\n",
    "base_model= create_base_network(input_shape)\n",
    "\n",
    "input_a = Input(shape=input_shape)\n",
    "input_b = Input(shape=input_shape)\n",
    "input_c = Input(shape=input_shape)\n",
    "\n",
    "processed_a = base_model(input_a)\n",
    "processed_b = base_model(input_b)\n",
    "processed_c = base_model(input_c)\n",
    "\n",
    "concat_v = Concatenate(axis=-1, name='out_concacat')([processed_a, processed_b, processed_c])\n",
    "\n",
    "model = Model([input_a, input_b, input_c], [concat_v])\n",
    "\n",
    "model.load_weights('D:/data-petr/signate_3rd_ai_edge/matcher/matcher_ep002-loss0.006-val_loss0.020.h5')\n",
    "matcher = model\n",
    "matcher._make_predict_function()\n",
    "print('matcher loaded')\n",
    "\n",
    "matcher_reduced = reduce_keras_model(matcher)\n",
    "print('matcher reduced done')\n",
    "\n",
    "matcher_reduced.save('D:/data-petr/signate_3rd_ai_edge/matcher/matcher_reduced_it4.h5')"
   ]
  },
  {
   "cell_type": "code",
   "execution_count": null,
   "metadata": {},
   "outputs": [],
   "source": []
  },
  {
   "cell_type": "markdown",
   "metadata": {},
   "source": [
    "# YOLO"
   ]
  },
  {
   "cell_type": "code",
   "execution_count": null,
   "metadata": {},
   "outputs": [],
   "source": [
    "import yolo_v4_wo_poly_multiscale as yolo\n",
    "from kito import reduce_keras_model\n",
    "chleba  = yolo.YOLO(model_path='ep004-loss4.728-val_loss4.500.h5')\n",
    "chleba_reduced = reduce_keras_model(chleba.yolo_model)\n",
    "print('chleba reduced')\n",
    "chleba_reduced.save('ep004-loss4.728-val_loss4.500_reduced.h5')"
   ]
  },
  {
   "cell_type": "code",
   "execution_count": null,
   "metadata": {},
   "outputs": [],
   "source": [
    "import yolo_v4_wo_poly_multiscale as yolo\n",
    "from kito import reduce_keras_model\n",
    "chleba2  = yolo.YOLO(model_path='ep019-loss4.128-val_loss4.192.h5')\n",
    "chleba2_reduced = reduce_keras_model(chleba2.yolo_model)\n",
    "print('chleba2 reduced')\n",
    "chleba2_reduced.save('ep019-loss4.128-val_loss4.192_reduced.h5')"
   ]
  },
  {
   "cell_type": "code",
   "execution_count": null,
   "metadata": {},
   "outputs": [],
   "source": [
    "#CHLEBA 3 AND CHLEBA 4 IS NOT WORKING, MISH IS UNKNOWN LAYER"
   ]
  }
 ],
 "metadata": {
  "kernelspec": {
   "display_name": "Python 3",
   "language": "python",
   "name": "python3"
  },
  "language_info": {
   "codemirror_mode": {
    "name": "ipython",
    "version": 3
   },
   "file_extension": ".py",
   "mimetype": "text/x-python",
   "name": "python",
   "nbconvert_exporter": "python",
   "pygments_lexer": "ipython3",
   "version": "3.7.3"
  }
 },
 "nbformat": 4,
 "nbformat_minor": 2
}
