{
 "cells": [
  {
   "cell_type": "markdown",
   "metadata": {},
   "source": [
    "The notebook takes folder from movies, take all of them and covert into frames that are used for training"
   ]
  },
  {
   "cell_type": "code",
   "execution_count": 1,
   "metadata": {},
   "outputs": [],
   "source": [
    "#import libraries\n",
    "import cv2\n",
    "import os"
   ]
  },
  {
   "cell_type": "code",
   "execution_count": 5,
   "metadata": {},
   "outputs": [],
   "source": [
    "#define paths\n",
    "path_to_videos    = r'D:\\SIGNATE\\Signate_3rd_AI_edge_competition\\train_videos' #where are videos\n",
    "path_to_save_imgs = r'D:\\SIGNATE\\Signate_3rd_AI_edge_competition\\images' #where we save videos"
   ]
  },
  {
   "cell_type": "code",
   "execution_count": 8,
   "metadata": {},
   "outputs": [
    {
     "name": "stdout",
     "output_type": "stream",
     "text": [
      "train_00\n",
      "write:D:\\SIGNATE\\Signate_3rd_AI_edge_competition\\images\\train_00\\599.jpg\n",
      "\n",
      "train_01\n",
      "write:D:\\SIGNATE\\Signate_3rd_AI_edge_competition\\images\\train_01\\599.jpg\n",
      "\n",
      "train_02\n",
      "write:D:\\SIGNATE\\Signate_3rd_AI_edge_competition\\images\\train_02\\599.jpg\n",
      "\n",
      "train_03\n",
      "write:D:\\SIGNATE\\Signate_3rd_AI_edge_competition\\images\\train_03\\599.jpg\n",
      "\n",
      "train_04\n",
      "write:D:\\SIGNATE\\Signate_3rd_AI_edge_competition\\images\\train_04\\599.jpg\n",
      "\n",
      "train_05\n",
      "write:D:\\SIGNATE\\Signate_3rd_AI_edge_competition\\images\\train_05\\599.jpg\n",
      "\n",
      "train_06\n",
      "write:D:\\SIGNATE\\Signate_3rd_AI_edge_competition\\images\\train_06\\599.jpg\n",
      "\n",
      "train_07\n",
      "write:D:\\SIGNATE\\Signate_3rd_AI_edge_competition\\images\\train_07\\599.jpg\n",
      "\n",
      "train_08\n",
      "write:D:\\SIGNATE\\Signate_3rd_AI_edge_competition\\images\\train_08\\599.jpg\n",
      "\n",
      "train_09\n",
      "write:D:\\SIGNATE\\Signate_3rd_AI_edge_competition\\images\\train_09\\599.jpg\n",
      "\n",
      "train_10\n",
      "write:D:\\SIGNATE\\Signate_3rd_AI_edge_competition\\images\\train_10\\599.jpg\n",
      "\n",
      "train_11\n",
      "write:D:\\SIGNATE\\Signate_3rd_AI_edge_competition\\images\\train_11\\599.jpg\n",
      "\n",
      "train_12\n",
      "write:D:\\SIGNATE\\Signate_3rd_AI_edge_competition\\images\\train_12\\599.jpg\n",
      "\n",
      "train_13\n",
      "write:D:\\SIGNATE\\Signate_3rd_AI_edge_competition\\images\\train_13\\599.jpg\n",
      "\n",
      "train_14\n",
      "write:D:\\SIGNATE\\Signate_3rd_AI_edge_competition\\images\\train_14\\599.jpg\n",
      "\n",
      "train_15\n",
      "write:D:\\SIGNATE\\Signate_3rd_AI_edge_competition\\images\\train_15\\599.jpg\n",
      "\n",
      "train_16\n",
      "write:D:\\SIGNATE\\Signate_3rd_AI_edge_competition\\images\\train_16\\599.jpg\n",
      "\n",
      "train_17\n",
      "write:D:\\SIGNATE\\Signate_3rd_AI_edge_competition\\images\\train_17\\599.jpg\n",
      "\n",
      "train_18\n",
      "write:D:\\SIGNATE\\Signate_3rd_AI_edge_competition\\images\\train_18\\599.jpg\n",
      "\n",
      "train_19\n",
      "write:D:\\SIGNATE\\Signate_3rd_AI_edge_competition\\images\\train_19\\599.jpg\n",
      "\n",
      "train_20\n",
      "write:D:\\SIGNATE\\Signate_3rd_AI_edge_competition\\images\\train_20\\599.jpg\n",
      "\n",
      "train_21\n",
      "write:D:\\SIGNATE\\Signate_3rd_AI_edge_competition\\images\\train_21\\599.jpg\n",
      "\n",
      "train_22\n",
      "write:D:\\SIGNATE\\Signate_3rd_AI_edge_competition\\images\\train_22\\599.jpg\n",
      "\n",
      "train_23\n",
      "write:D:\\SIGNATE\\Signate_3rd_AI_edge_competition\\images\\train_23\\599.jpg\n",
      "\n",
      "train_24\n",
      "write:D:\\SIGNATE\\Signate_3rd_AI_edge_competition\\images\\train_24\\599.jpg\n",
      "\n",
      "done\n"
     ]
    }
   ],
   "source": [
    "#browse all movies, decode them and save into folders\n",
    "list_of_videos =[os.path.join(root, name) for root, dirs, files in os.walk(path_to_videos) for name in files]\n",
    "for v in range (0, len(list_of_videos)):\n",
    "    video_name = list_of_videos[v].split('/')[-1].split('\\\\')[-1].split('.')[0]\n",
    "    print(video_name)\n",
    "    \n",
    "    try: os.makedirs(os.path.join(path_to_save_imgs, video_name),  exist_ok=True)\n",
    "    except OSError:\n",
    "        print ('cannot create directory '+ os.path.join(path_to_save_imgs, video_name))\n",
    "        exit()\n",
    "        \n",
    "\n",
    "    stream = cv2.VideoCapture(list_of_videos[v])\n",
    "    for i in range (0, 10000):\n",
    "        (grabbed, frame) = stream.read()\n",
    "        if not grabbed: break\n",
    "        #frame = frame #for full images\n",
    "        frame = frame[100:1050, ...] #for cropped images\n",
    "\n",
    "        print(\"\\rwrite:\" + os.path.join(path_to_save_imgs, video_name, str(i)+'.jpg') , end =\"\")\n",
    "        cv2.imwrite(os.path.join(path_to_save_imgs, video_name, str(i)+'.jpg'), frame)\n",
    "    print(\"\\n\")    \n",
    "    \n",
    "print('done')"
   ]
  },
  {
   "cell_type": "code",
   "execution_count": null,
   "metadata": {},
   "outputs": [],
   "source": []
  }
 ],
 "metadata": {
  "kernelspec": {
   "display_name": "Python 3",
   "language": "python",
   "name": "python3"
  },
  "language_info": {
   "codemirror_mode": {
    "name": "ipython",
    "version": 3
   },
   "file_extension": ".py",
   "mimetype": "text/x-python",
   "name": "python",
   "nbconvert_exporter": "python",
   "pygments_lexer": "ipython3",
   "version": "3.7.6"
  }
 },
 "nbformat": 4,
 "nbformat_minor": 4
}
