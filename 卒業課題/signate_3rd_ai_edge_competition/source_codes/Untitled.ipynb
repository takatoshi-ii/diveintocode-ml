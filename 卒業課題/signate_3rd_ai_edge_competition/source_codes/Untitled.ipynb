{
 "cells": [
  {
   "cell_type": "code",
   "execution_count": 3,
   "metadata": {},
   "outputs": [],
   "source": [
    "from ensemble_boxes import *\n",
    "\n",
    "boxes_list = [[\n",
    "    [0.00, 0.51, 0.81, 0.91],\n",
    "    [0.10, 0.31, 0.71, 0.61],\n",
    "    [0.01, 0.32, 0.83, 0.93],\n",
    "    [0.02, 0.53, 0.11, 0.94],\n",
    "    [0.03, 0.24, 0.12, 0.35],\n",
    "],[\n",
    "    [0.04, 0.56, 0.84, 0.92],\n",
    "    [0.12, 0.33, 0.72, 0.64],\n",
    "    [0.38, 0.66, 0.79, 0.95],\n",
    "    [0.08, 0.49, 0.21, 0.89],\n",
    "]]\n",
    "scores_list = [[0.9, 0.8, 0.2, 0.4, 0.7], [0.5, 0.8, 0.7, 0.3]]\n",
    "labels_list = [[0, 1, 0, 1, 1], [1, 1, 1, 0]]\n",
    "weights = [2, 1]\n",
    "\n",
    "iou_thr = 0.5\n",
    "skip_box_thr = 0.0001\n",
    "sigma = 0.1\n",
    "\n",
    "boxes1, scores1, labels1 = nms(boxes_list, scores_list, labels_list, weights=weights, iou_thr=iou_thr)\n",
    "boxes2, scores2, labels2 = soft_nms(boxes_list, scores_list, labels_list, weights=weights, iou_thr=iou_thr, sigma=sigma, thresh=skip_box_thr)\n",
    "boxes3, scores3, labels3 = non_maximum_weighted(boxes_list, scores_list, labels_list, weights=weights, iou_thr=iou_thr, skip_box_thr=skip_box_thr)\n",
    "boxes4, scores4, labels4 = weighted_boxes_fusion(boxes_list, scores_list, labels_list, weights=weights, iou_thr=iou_thr, skip_box_thr=skip_box_thr)"
   ]
  },
  {
   "cell_type": "code",
   "execution_count": 2,
   "metadata": {},
   "outputs": [
    {
     "name": "stdout",
     "output_type": "stream",
     "text": [
      "Collecting ensemble-boxes\n",
      "  Downloading ensemble_boxes-1.0.4-py3-none-any.whl (14 kB)\n",
      "Collecting numba\n",
      "  Downloading numba-0.50.1-cp37-cp37m-win_amd64.whl (2.2 MB)\n",
      "Requirement already satisfied: pandas in c:\\users\\takatoshi\\anaconda3\\envs\\tensorflow-gpu\\lib\\site-packages (from ensemble-boxes) (1.0.5)\n",
      "Requirement already satisfied: numpy in c:\\users\\takatoshi\\anaconda3\\envs\\tensorflow-gpu\\lib\\site-packages (from ensemble-boxes) (1.18.5)\n",
      "Requirement already satisfied: setuptools in c:\\users\\takatoshi\\anaconda3\\envs\\tensorflow-gpu\\lib\\site-packages (from numba->ensemble-boxes) (49.1.0.post20200704)\n",
      "Collecting llvmlite<0.34,>=0.33.0.dev0\n",
      "  Downloading llvmlite-0.33.0-cp37-cp37m-win_amd64.whl (15.0 MB)\n",
      "Requirement already satisfied: python-dateutil>=2.6.1 in c:\\users\\takatoshi\\anaconda3\\envs\\tensorflow-gpu\\lib\\site-packages (from pandas->ensemble-boxes) (2.8.1)\n",
      "Requirement already satisfied: pytz>=2017.2 in c:\\users\\takatoshi\\anaconda3\\envs\\tensorflow-gpu\\lib\\site-packages (from pandas->ensemble-boxes) (2020.1)\n",
      "Requirement already satisfied: six>=1.5 in c:\\users\\takatoshi\\anaconda3\\envs\\tensorflow-gpu\\lib\\site-packages (from python-dateutil>=2.6.1->pandas->ensemble-boxes) (1.15.0)\n",
      "Installing collected packages: llvmlite, numba, ensemble-boxes\n",
      "Successfully installed ensemble-boxes-1.0.4 llvmlite-0.33.0 numba-0.50.1\n"
     ]
    }
   ],
   "source": [
    "!pip install ensemble-boxes"
   ]
  },
  {
   "cell_type": "code",
   "execution_count": 2,
   "metadata": {},
   "outputs": [
    {
     "ename": "NameError",
     "evalue": "name 'method' is not defined",
     "output_type": "error",
     "traceback": [
      "\u001b[1;31m---------------------------------------------------------------------------\u001b[0m",
      "\u001b[1;31mNameError\u001b[0m                                 Traceback (most recent call last)",
      "\u001b[1;32m<ipython-input-2-224f3992c7c7>\u001b[0m in \u001b[0;36m<module>\u001b[1;34m\u001b[0m\n\u001b[0;32m      1\u001b[0m \u001b[1;32mfrom\u001b[0m \u001b[0mensemble_boxes\u001b[0m \u001b[1;32mimport\u001b[0m \u001b[1;33m*\u001b[0m\u001b[1;33m\u001b[0m\u001b[1;33m\u001b[0m\u001b[0m\n\u001b[0;32m      2\u001b[0m \u001b[1;31m# Merge boxes for single model predictions\u001b[0m\u001b[1;33m\u001b[0m\u001b[1;33m\u001b[0m\u001b[1;33m\u001b[0m\u001b[0m\n\u001b[1;32m----> 3\u001b[1;33m \u001b[0mboxes\u001b[0m\u001b[1;33m,\u001b[0m \u001b[0mscores\u001b[0m\u001b[1;33m,\u001b[0m \u001b[0mlabels\u001b[0m \u001b[1;33m=\u001b[0m \u001b[0mweighted_boxes_fusion\u001b[0m\u001b[1;33m(\u001b[0m\u001b[1;33m[\u001b[0m\u001b[0mboxes_list\u001b[0m\u001b[1;33m]\u001b[0m\u001b[1;33m,\u001b[0m \u001b[1;33m[\u001b[0m\u001b[0mscores_list\u001b[0m\u001b[1;33m]\u001b[0m\u001b[1;33m,\u001b[0m \u001b[1;33m[\u001b[0m\u001b[0mlabels_list\u001b[0m\u001b[1;33m]\u001b[0m\u001b[1;33m,\u001b[0m \u001b[0mweights\u001b[0m\u001b[1;33m=\u001b[0m\u001b[1;32mNone\u001b[0m\u001b[1;33m,\u001b[0m \u001b[0mmethod\u001b[0m\u001b[1;33m=\u001b[0m\u001b[0mmethod\u001b[0m\u001b[1;33m,\u001b[0m \u001b[0miou_thr\u001b[0m\u001b[1;33m=\u001b[0m\u001b[0miou_thr\u001b[0m\u001b[1;33m,\u001b[0m \u001b[0mthresh\u001b[0m\u001b[1;33m=\u001b[0m\u001b[0mthresh\u001b[0m\u001b[1;33m)\u001b[0m\u001b[1;33m\u001b[0m\u001b[1;33m\u001b[0m\u001b[0m\n\u001b[0m",
      "\u001b[1;31mNameError\u001b[0m: name 'method' is not defined"
     ]
    }
   ],
   "source": [
    "from ensemble_boxes import *\n",
    "# Merge boxes for single model predictions\n",
    "boxes, scores, labels = weighted_boxes_fusion([boxes_list], [scores_list], [labels_list], weights=None, method=method, iou_thr=iou_thr, thresh=thresh)"
   ]
  },
  {
   "cell_type": "code",
   "execution_count": 1,
   "metadata": {},
   "outputs": [
    {
     "name": "stderr",
     "output_type": "stream",
     "text": [
      "'pwd' は、内部コマンドまたは外部コマンド、\n",
      "操作可能なプログラムまたはバッチ ファイルとして認識されていません。\n"
     ]
    }
   ],
   "source": [
    "!pwd"
   ]
  },
  {
   "cell_type": "code",
   "execution_count": null,
   "metadata": {},
   "outputs": [],
   "source": []
  }
 ],
 "metadata": {
  "kernelspec": {
   "display_name": "Python 3",
   "language": "python",
   "name": "python3"
  },
  "language_info": {
   "codemirror_mode": {
    "name": "ipython",
    "version": 3
   },
   "file_extension": ".py",
   "mimetype": "text/x-python",
   "name": "python",
   "nbconvert_exporter": "python",
   "pygments_lexer": "ipython3",
   "version": "3.7.6"
  }
 },
 "nbformat": 4,
 "nbformat_minor": 4
}
