{
 "cells": [
  {
   "cell_type": "markdown",
   "metadata": {},
   "source": [
    "The functionality takes jsons and create a single txt file that can be used for training a neural networks, such as yolo\n",
    "format of records:\n",
    "    image1_path box1_x1,box1_y1,box1_x2,box1_y2,class box2_x1,box2_y1,box2_x2,box2_y2,class ...\n",
    "    image2_path box1_x1,box1_y1,box1_x2,box1_y2,class box2_x1,box2_y1,box2_x2,box2_y2,class ..."
   ]
  },
  {
   "cell_type": "code",
   "execution_count": 1,
   "metadata": {},
   "outputs": [],
   "source": [
    "#import libraries\n",
    "import os\n",
    "import json\n",
    "import numpy as np"
   ]
  },
  {
   "cell_type": "code",
   "execution_count": 2,
   "metadata": {},
   "outputs": [],
   "source": [
    "#define paths\n",
    "path_labels    = r'D:\\SIGNATE\\Signate_3rd_AI_edge_competition\\train_annotations'      \n",
    "path_images    = r'D:\\SIGNATE\\Signate_3rd_AI_edge_competition\\images' #path where, the are the decoded train images\n",
    "path_out_file  = r'D:\\SIGNATE\\Signate_3rd_AI_edge_competition\\data_for_yolo_training.txt' #file used for training models"
   ]
  },
  {
   "cell_type": "code",
   "execution_count": 3,
   "metadata": {},
   "outputs": [],
   "source": [
    "#array that defines which classes have to be extracted. \n",
    "#classes = ['Car', 'Pedestrian', 'Truck', 'Signal', 'Signs', 'Bicycle', 'Motorbike', 'Bus', 'Svehicle', 'Train']\n",
    "#classes = ['Car', 'Pedestrian', 'Signal']\n",
    "classes = ['Car', 'Pedestrian']\n",
    "#classes = ['Pedestrian']"
   ]
  },
  {
   "cell_type": "code",
   "execution_count": 4,
   "metadata": {},
   "outputs": [
    {
     "name": "stdout",
     "output_type": "stream",
     "text": [
      "done\n"
     ]
    }
   ],
   "source": [
    "out_file    = open(path_out_file, \"w\")\n",
    "annotations = os.listdir(path_labels)\n",
    "\n",
    "for i in range (0, len(annotations)):#here we browse all videos\n",
    "    video_name = annotations[i].split('/')[-1].split('\\\\')[-1].split('.')[0]\n",
    "    data       = json.load(open(os.path.join(path_labels, annotations[i])))\n",
    "    \n",
    "    for v in range (0,600): #here we browse all frames. Single movie has 600 frames\n",
    "        img_name     = path_images+'/'+video_name+'/'+str(v)+\".jpg\"\n",
    "        labels       = data['sequence'][v]\n",
    "        str_to_write = img_name\n",
    "        for c in range (0, len(classes)):\n",
    "            try:\n",
    "                for inst in data['sequence'][v][classes[c]]:\n",
    "                    box           = inst['box2d']\n",
    "                    box[1]       -= 100 #the image is cropped by 100 from top, so we need to update labels\n",
    "                    box[3]       -= 100\n",
    "                    box[1] = np.clip(box[1], 0, 950)\n",
    "                    box[3] = np.clip(box[3], 0, 950)\n",
    "                    \n",
    "                    str_to_write += ' '+str(box[0])+','+str(box[1])+','+str(box[2])+','+str(box[3])+','+str(c)\n",
    "            except:\n",
    "                continue #nothing, the class is just not presented in the frame\n",
    "         \n",
    "        if str_to_write != img_name: #we do not want to write images without annotations\n",
    "            out_file.write(str_to_write+'\\n')\n",
    "        \n",
    "out_file.close() \n",
    "print('done')"
   ]
  },
  {
   "cell_type": "code",
   "execution_count": null,
   "metadata": {},
   "outputs": [],
   "source": []
  }
 ],
 "metadata": {
  "kernelspec": {
   "display_name": "Python 3",
   "language": "python",
   "name": "python3"
  },
  "language_info": {
   "codemirror_mode": {
    "name": "ipython",
    "version": 3
   },
   "file_extension": ".py",
   "mimetype": "text/x-python",
   "name": "python",
   "nbconvert_exporter": "python",
   "pygments_lexer": "ipython3",
   "version": "3.7.6"
  }
 },
 "nbformat": 4,
 "nbformat_minor": 4
}
