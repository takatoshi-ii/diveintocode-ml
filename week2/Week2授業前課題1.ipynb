{
 "cells": [
  {
   "cell_type": "code",
   "execution_count": 1,
   "metadata": {},
   "outputs": [
    {
     "name": "stdout",
     "output_type": "stream",
     "text": [
      "4マスの板に小麦を並べる（リスト）：[1, 2, 4, 8]\n"
     ]
    }
   ],
   "source": [
    "n_squares = 4\n",
    "small_board_list = [1]\n",
    "for _ in range(n_squares - 1):\n",
    "    small_board_list.append(2*small_board_list[-1])\n",
    "print(\"4マスの板に小麦を並べる（リスト）：{}\".format(small_board_list))"
   ]
  },
  {
   "cell_type": "code",
   "execution_count": 2,
   "metadata": {},
   "outputs": [
    {
     "name": "stdout",
     "output_type": "stream",
     "text": [
      "4マスの板に小麦を並べる（ndarray）：[1 2 4 8]\n"
     ]
    }
   ],
   "source": [
    "import numpy as np\n",
    "small_board_ndarray = np.array(small_board_list)\n",
    "print(\"4マスの板に小麦を並べる（ndarray）：{}\".format(small_board_ndarray))"
   ]
  },
  {
   "cell_type": "markdown",
   "metadata": {},
   "source": [
    "## 【問題1】2×2マスのチェス盤の小麦の数"
   ]
  },
  {
   "cell_type": "code",
   "execution_count": 4,
   "metadata": {},
   "outputs": [
    {
     "data": {
      "text/plain": [
       "array([[1, 2],\n",
       "       [4, 8]])"
      ]
     },
     "execution_count": 4,
     "metadata": {},
     "output_type": "execute_result"
    }
   ],
   "source": [
    "small_board_ndarray = small_board_ndarray.reshape(2,2)\n",
    "small_board_ndarray"
   ]
  },
  {
   "cell_type": "markdown",
   "metadata": {},
   "source": [
    "## 【問題2】n×mマスへの拡張"
   ]
  },
  {
   "cell_type": "code",
   "execution_count": 26,
   "metadata": {},
   "outputs": [],
   "source": [
    "def array_reshape(n, m):\n",
    "    small_board_list = [1]\n",
    "    for _ in range(n * m - 1):\n",
    "        small_board_list.append(2*small_board_list[-1])\n",
    "    print(\"4マスの板に小麦を並べる（リスト）：{}\".format(small_board_list))\n",
    "    small_board_ndarray = np.array(small_board_list)\n",
    "    small_board_ndarray = small_board_ndarray.reshape(n,m)\n",
    "    print(\"n x mマスの板に小麦を並べる（ndarray）：\\n{}\".format(small_board_ndarray))\n",
    "    return small_board_ndarray"
   ]
  },
  {
   "cell_type": "code",
   "execution_count": 27,
   "metadata": {},
   "outputs": [
    {
     "name": "stdout",
     "output_type": "stream",
     "text": [
      "4マスの板に小麦を並べる（リスト）：[1, 2, 4, 8, 16, 32, 64, 128, 256, 512, 1024, 2048, 4096, 8192, 16384, 32768, 65536, 131072, 262144, 524288, 1048576, 2097152, 4194304, 8388608, 16777216, 33554432, 67108864, 134217728, 268435456, 536870912, 1073741824, 2147483648, 4294967296, 8589934592, 17179869184, 34359738368, 68719476736, 137438953472, 274877906944, 549755813888, 1099511627776, 2199023255552, 4398046511104, 8796093022208, 17592186044416, 35184372088832, 70368744177664, 140737488355328, 281474976710656, 562949953421312, 1125899906842624, 2251799813685248, 4503599627370496, 9007199254740992, 18014398509481984, 36028797018963968, 72057594037927936, 144115188075855872, 288230376151711744, 576460752303423488, 1152921504606846976, 2305843009213693952, 4611686018427387904, 9223372036854775808]\n",
      "n x mマスの板に小麦を並べる（ndarray）：\n",
      "[[1.00000000e+00 2.00000000e+00 4.00000000e+00 8.00000000e+00\n",
      "  1.60000000e+01 3.20000000e+01 6.40000000e+01 1.28000000e+02]\n",
      " [2.56000000e+02 5.12000000e+02 1.02400000e+03 2.04800000e+03\n",
      "  4.09600000e+03 8.19200000e+03 1.63840000e+04 3.27680000e+04]\n",
      " [6.55360000e+04 1.31072000e+05 2.62144000e+05 5.24288000e+05\n",
      "  1.04857600e+06 2.09715200e+06 4.19430400e+06 8.38860800e+06]\n",
      " [1.67772160e+07 3.35544320e+07 6.71088640e+07 1.34217728e+08\n",
      "  2.68435456e+08 5.36870912e+08 1.07374182e+09 2.14748365e+09]\n",
      " [4.29496730e+09 8.58993459e+09 1.71798692e+10 3.43597384e+10\n",
      "  6.87194767e+10 1.37438953e+11 2.74877907e+11 5.49755814e+11]\n",
      " [1.09951163e+12 2.19902326e+12 4.39804651e+12 8.79609302e+12\n",
      "  1.75921860e+13 3.51843721e+13 7.03687442e+13 1.40737488e+14]\n",
      " [2.81474977e+14 5.62949953e+14 1.12589991e+15 2.25179981e+15\n",
      "  4.50359963e+15 9.00719925e+15 1.80143985e+16 3.60287970e+16]\n",
      " [7.20575940e+16 1.44115188e+17 2.88230376e+17 5.76460752e+17\n",
      "  1.15292150e+18 2.30584301e+18 4.61168602e+18 9.22337204e+18]]\n"
     ]
    }
   ],
   "source": [
    "# 8x8では\n",
    "small_board_ndarray = array_reshape(8,8)"
   ]
  },
  {
   "cell_type": "markdown",
   "metadata": {},
   "source": [
    "## 【問題3】小麦の数の合計"
   ]
  },
  {
   "cell_type": "code",
   "execution_count": 28,
   "metadata": {},
   "outputs": [
    {
     "name": "stdout",
     "output_type": "stream",
     "text": [
      "小麦の合計：1.8446744073709552e+19\n"
     ]
    }
   ],
   "source": [
    "total_wheat = np.sum(small_board_ndarray)\n",
    "print(\"小麦の合計：{}\".format(total_wheat))"
   ]
  },
  {
   "cell_type": "code",
   "execution_count": 34,
   "metadata": {},
   "outputs": [
    {
     "name": "stdout",
     "output_type": "stream",
     "text": [
      "small_board_ndarray.shape:(8, 8)\n"
     ]
    },
    {
     "data": {
      "image/png": "[encoded data removed]",
      "text/plain": [
       "<Figure size 432x288 with 1 Axes>"
      ]
     },
     "metadata": {
      "needs_background": "light"
     },
     "output_type": "display_data"
    }
   ],
   "source": [
    "import matplotlib.pyplot as plt\n",
    "%matplotlib inline\n",
    "\n",
    "# 列(axis = 0)事の平均をグラフに描画\n",
    "plt.xlabel(\"column\")\n",
    "plt.ylabel(\"number\")\n",
    "plt.title(\"number in each column\")\n",
    "print(\"small_board_ndarray.shape:{}\".format(small_board_ndarray.shape))\n",
    "plt.bar(np.arange(small_board_ndarray.shape[1]), np.mean(small_board_ndarray, axis=0))\n",
    "plt.show()\n"
   ]
  },
  {
   "cell_type": "code",
   "execution_count": 36,
   "metadata": {},
   "outputs": [
    {
     "data": {
      "image/png": "[encoded data removed]",
      "text/plain": [
       "<Figure size 432x288 with 1 Axes>"
      ]
     },
     "metadata": {
      "needs_background": "light"
     },
     "output_type": "display_data"
    }
   ],
   "source": [
    "plt.xlabel(\"column\")\n",
    "plt.ylabel(\"row\")\n",
    "plt.title(\"heatmap\")\n",
    "plt.pcolor(np.array([0, 1, 3, 5, 7, 9, 11, 13]).reshape(4, 2))\n",
    "plt.show()"
   ]
  },
  {
   "cell_type": "markdown",
   "metadata": {},
   "source": [
    "## 【問題4】小麦の数のヒートマップ"
   ]
  },
  {
   "cell_type": "code",
   "execution_count": 35,
   "metadata": {},
   "outputs": [
    {
     "data": {
      "image/png": "[encoded data removed]",
      "text/plain": [
       "<Figure size 432x288 with 1 Axes>"
      ]
     },
     "metadata": {
      "needs_background": "light"
     },
     "output_type": "display_data"
    }
   ],
   "source": [
    "plt.xlabel(\"column\")\n",
    "plt.ylabel(\"row\")\n",
    "plt.title(\"heatmap\")\n",
    "plt.pcolor(small_board_ndarray)\n",
    "plt.show()"
   ]
  },
  {
   "cell_type": "markdown",
   "metadata": {},
   "source": [
    "## 【問題5】後半は前半の何倍か"
   ]
  },
  {
   "cell_type": "code",
   "execution_count": 114,
   "metadata": {},
   "outputs": [
    {
     "name": "stdout",
     "output_type": "stream",
     "text": [
      "前半:4294967295.0\n",
      "後半:1.8446744069414584e+19\n",
      "後半は前半の4294967296.0倍\n"
     ]
    }
   ],
   "source": [
    "wheat_ndarray = small_board_ndarray.reshape(-1,8*4)\n",
    "first_half = np.sum(wheat_ndarray[0])\n",
    "second_half = np.sum(wheat_ndarray[1])\n",
    "print(\"前半:{}\".format(first_half))\n",
    "print(\"後半:{}\".format(second_half))\n",
    "print(\"後半は前半の{}倍\".format(second_half/first_half))"
   ]
  },
  {
   "cell_type": "markdown",
   "metadata": {},
   "source": [
    "## 6.他の計算方法"
   ]
  },
  {
   "cell_type": "code",
   "execution_count": 53,
   "metadata": {},
   "outputs": [
    {
     "name": "stdout",
     "output_type": "stream",
     "text": [
      "4マスの板に小麦を並べる（ndarray）：[1 2 4 8]\n"
     ]
    }
   ],
   "source": [
    "# 《サンプルコード（np.append()）》\n",
    "n_squares = 4\n",
    "small_board_ndarray = np.array([1])\n",
    "for _ in range(n_squares - 1):\n",
    "    small_board_ndarray = np.append(small_board_ndarray, 2*small_board_ndarray[-1])\n",
    "print(\"4マスの板に小麦を並べる（ndarray）：{}\".format(small_board_ndarray))"
   ]
  },
  {
   "cell_type": "code",
   "execution_count": 54,
   "metadata": {},
   "outputs": [
    {
     "name": "stdout",
     "output_type": "stream",
     "text": [
      "4マスの板に小麦を並べる（ndarray）：[1 2 4 8]\n"
     ]
    }
   ],
   "source": [
    "# 《サンプルコード（ブロードキャスト）》\n",
    "n_squares = 4\n",
    "indices_of_squares = np.arange(n_squares)\n",
    "small_board_ndarray = 2**indices_of_squares\n",
    "print(\"4マスの板に小麦を並べる（ndarray）：{}\".format(small_board_ndarray))"
   ]
  },
  {
   "cell_type": "code",
   "execution_count": 113,
   "metadata": {
    "scrolled": true
   },
   "outputs": [
    {
     "name": "stdout",
     "output_type": "stream",
     "text": [
      "最後のマスの小麦の数：-9223372036854775808\n",
      "type(board_ndarray[-1]=<class 'numpy.int64'>\n",
      "board_ndarray=\n",
      "[                   1                    2                    4\n",
      "                    8                   16                   32\n",
      "                   64                  128                  256\n",
      "                  512                 1024                 2048\n",
      "                 4096                 8192                16384\n",
      "                32768                65536               131072\n",
      "               262144               524288              1048576\n",
      "              2097152              4194304              8388608\n",
      "             16777216             33554432             67108864\n",
      "            134217728            268435456            536870912\n",
      "           1073741824           2147483648           4294967296\n",
      "           8589934592          17179869184          34359738368\n",
      "          68719476736         137438953472         274877906944\n",
      "         549755813888        1099511627776        2199023255552\n",
      "        4398046511104        8796093022208       17592186044416\n",
      "       35184372088832       70368744177664      140737488355328\n",
      "      281474976710656      562949953421312     1125899906842624\n",
      "     2251799813685248     4503599627370496     9007199254740992\n",
      "    18014398509481984    36028797018963968    72057594037927936\n",
      "   144115188075855872   288230376151711744   576460752303423488\n",
      "  1152921504606846976  2305843009213693952  4611686018427387904\n",
      " -9223372036854775808]\n"
     ]
    },
    {
     "name": "stderr",
     "output_type": "stream",
     "text": [
      "C:\\ProgramData\\Anaconda3\\lib\\site-packages\\ipykernel_launcher.py:5: RuntimeWarning: overflow encountered in longlong_scalars\n",
      "  \"\"\"\n"
     ]
    }
   ],
   "source": [
    "# ndarrayの型\n",
    "n_squares = 64\n",
    "board_ndarray = np.array([1], np.int64)\n",
    "for _ in range(n_squares - 1):\n",
    "    board_ndarray = np.append(board_ndarray, 2*board_ndarray[-1])\n",
    "    \n",
    "print(\"最後のマスの小麦の数：{}\".format(board_ndarray[-1])) # -9223372036854775808（オーバーフロー）\n",
    "print(\"type(board_ndarray[-1]={}\".format(type(board_ndarray[-1])))\n",
    "print(\"board_ndarray=\\n\" + str(board_ndarray))"
   ]
  },
  {
   "cell_type": "code",
   "execution_count": 72,
   "metadata": {},
   "outputs": [
    {
     "name": "stdout",
     "output_type": "stream",
     "text": [
      "int64\n"
     ]
    }
   ],
   "source": [
    "print(board_ndarray.dtype) # int64"
   ]
  },
  {
   "cell_type": "code",
   "execution_count": 82,
   "metadata": {},
   "outputs": [
    {
     "name": "stdout",
     "output_type": "stream",
     "text": [
      "最後のマスの小麦の数：-9223372036854775808\n",
      "board_ndarray=\n",
      "[                   1                    2                    4\n",
      "                    8                   16                   32\n",
      "                   64                  128                  256\n",
      "                  512                 1024                 2048\n",
      "                 4096                 8192                16384\n",
      "                32768                65536               131072\n",
      "               262144               524288              1048576\n",
      "              2097152              4194304              8388608\n",
      "             16777216             33554432             67108864\n",
      "            134217728            268435456            536870912\n",
      "           1073741824           2147483648           4294967296\n",
      "           8589934592          17179869184          34359738368\n",
      "          68719476736         137438953472         274877906944\n",
      "         549755813888        1099511627776        2199023255552\n",
      "        4398046511104        8796093022208       17592186044416\n",
      "       35184372088832       70368744177664      140737488355328\n",
      "      281474976710656      562949953421312     1125899906842624\n",
      "     2251799813685248     4503599627370496     9007199254740992\n",
      "    18014398509481984    36028797018963968    72057594037927936\n",
      "   144115188075855872   288230376151711744   576460752303423488\n",
      "  1152921504606846976  2305843009213693952  4611686018427387904\n",
      " -9223372036854775808]\n"
     ]
    }
   ],
   "source": [
    "n_squares = 64\n",
    "indices_of_squares = np.arange(n_squares).astype(np.int64)\n",
    "board_ndarray = 2**indices_of_squares\n",
    "print(\"最後のマスの小麦の数：{}\".format(board_ndarray[-1])) # -9223372036854775808\n",
    "print(\"board_ndarray=\\n\" + str(board_ndarray))"
   ]
  },
  {
   "cell_type": "code",
   "execution_count": 78,
   "metadata": {},
   "outputs": [
    {
     "name": "stdout",
     "output_type": "stream",
     "text": [
      "int64\n"
     ]
    }
   ],
   "source": [
    "print(board_ndarray.dtype) # int64"
   ]
  },
  {
   "cell_type": "code",
   "execution_count": 84,
   "metadata": {},
   "outputs": [
    {
     "name": "stdout",
     "output_type": "stream",
     "text": [
      "最後のマスの小麦の数：9223372036854775808\n",
      "board_ndarray=\n",
      "[                  1                   2                   4\n",
      "                   8                  16                  32\n",
      "                  64                 128                 256\n",
      "                 512                1024                2048\n",
      "                4096                8192               16384\n",
      "               32768               65536              131072\n",
      "              262144              524288             1048576\n",
      "             2097152             4194304             8388608\n",
      "            16777216            33554432            67108864\n",
      "           134217728           268435456           536870912\n",
      "          1073741824          2147483648          4294967296\n",
      "          8589934592         17179869184         34359738368\n",
      "         68719476736        137438953472        274877906944\n",
      "        549755813888       1099511627776       2199023255552\n",
      "       4398046511104       8796093022208      17592186044416\n",
      "      35184372088832      70368744177664     140737488355328\n",
      "     281474976710656     562949953421312    1125899906842624\n",
      "    2251799813685248    4503599627370496    9007199254740992\n",
      "   18014398509481984   36028797018963968   72057594037927936\n",
      "  144115188075855872  288230376151711744  576460752303423488\n",
      " 1152921504606846976 2305843009213693952 4611686018427387904\n",
      " 9223372036854775808]\n"
     ]
    }
   ],
   "source": [
    "n_squares = 64\n",
    "indices_of_squares = np.arange(n_squares).astype(np.uint64)\n",
    "board_ndarray = 2**indices_of_squares\n",
    "print(\"最後のマスの小麦の数：{}\".format(board_ndarray[-1])) # 9223372036854775808\n",
    "print(\"board_ndarray=\\n\" + str(board_ndarray))"
   ]
  },
  {
   "cell_type": "markdown",
   "metadata": {},
   "source": [
    "## 【問題6】他の計算方法によるn×mマスへの拡張"
   ]
  },
  {
   "cell_type": "code",
   "execution_count": 106,
   "metadata": {},
   "outputs": [],
   "source": [
    "# 問題２のappend版\n",
    "def board_append(n, m):\n",
    "    board_ndarray = np.array([1], np.uint64)\n",
    "    for _ in range(n * m - 1):\n",
    "        board_ndarray = np.append(board_ndarray, 2*board_ndarray[-1])\n",
    "        \n",
    "        \n",
    "    board_ndarray = board_ndarray.reshape(n,m)\n",
    "    print(\"n x mマスの板に小麦を並べる（ndarray）：\\n\" + str(board_ndarray))\n",
    "    return board_ndarray"
   ]
  },
  {
   "cell_type": "code",
   "execution_count": 107,
   "metadata": {},
   "outputs": [
    {
     "name": "stdout",
     "output_type": "stream",
     "text": [
      "n x mマスの板に小麦を並べる（ndarray）：\n",
      "[[1.00000000e+00 2.00000000e+00 4.00000000e+00 8.00000000e+00\n",
      "  1.60000000e+01 3.20000000e+01 6.40000000e+01 1.28000000e+02]\n",
      " [2.56000000e+02 5.12000000e+02 1.02400000e+03 2.04800000e+03\n",
      "  4.09600000e+03 8.19200000e+03 1.63840000e+04 3.27680000e+04]\n",
      " [6.55360000e+04 1.31072000e+05 2.62144000e+05 5.24288000e+05\n",
      "  1.04857600e+06 2.09715200e+06 4.19430400e+06 8.38860800e+06]\n",
      " [1.67772160e+07 3.35544320e+07 6.71088640e+07 1.34217728e+08\n",
      "  2.68435456e+08 5.36870912e+08 1.07374182e+09 2.14748365e+09]\n",
      " [4.29496730e+09 8.58993459e+09 1.71798692e+10 3.43597384e+10\n",
      "  6.87194767e+10 1.37438953e+11 2.74877907e+11 5.49755814e+11]\n",
      " [1.09951163e+12 2.19902326e+12 4.39804651e+12 8.79609302e+12\n",
      "  1.75921860e+13 3.51843721e+13 7.03687442e+13 1.40737488e+14]\n",
      " [2.81474977e+14 5.62949953e+14 1.12589991e+15 2.25179981e+15\n",
      "  4.50359963e+15 9.00719925e+15 1.80143985e+16 3.60287970e+16]\n",
      " [7.20575940e+16 1.44115188e+17 2.88230376e+17 5.76460752e+17\n",
      "  1.15292150e+18 2.30584301e+18 4.61168602e+18 9.22337204e+18]]\n"
     ]
    }
   ],
   "source": [
    "# 8x8では\n",
    "board_ndarray = board_append(8,8)"
   ]
  },
  {
   "cell_type": "code",
   "execution_count": 111,
   "metadata": {},
   "outputs": [],
   "source": [
    "# 問題２のブロードキャスト版\n",
    "def board_broadcast(n, m):\n",
    "    indices_of_squares = np.arange(n_squares).astype(np.uint64)\n",
    "    for _ in range(n * m - 1):\n",
    "        board_ndarray = 2**indices_of_squares\n",
    "        \n",
    "    board_ndarray = board_ndarray.reshape(n,m)\n",
    "    print(\"n x mマスの板に小麦を並べる（ndarray）：\\n\" + str(board_ndarray))\n",
    "    return board_ndarray"
   ]
  },
  {
   "cell_type": "code",
   "execution_count": 112,
   "metadata": {},
   "outputs": [
    {
     "name": "stdout",
     "output_type": "stream",
     "text": [
      "n x mマスの板に小麦を並べる（ndarray）：\n",
      "[[                  1                   2                   4\n",
      "                    8                  16                  32\n",
      "                   64                 128]\n",
      " [                256                 512                1024\n",
      "                 2048                4096                8192\n",
      "                16384               32768]\n",
      " [              65536              131072              262144\n",
      "               524288             1048576             2097152\n",
      "              4194304             8388608]\n",
      " [           16777216            33554432            67108864\n",
      "            134217728           268435456           536870912\n",
      "           1073741824          2147483648]\n",
      " [         4294967296          8589934592         17179869184\n",
      "          34359738368         68719476736        137438953472\n",
      "         274877906944        549755813888]\n",
      " [      1099511627776       2199023255552       4398046511104\n",
      "        8796093022208      17592186044416      35184372088832\n",
      "       70368744177664     140737488355328]\n",
      " [    281474976710656     562949953421312    1125899906842624\n",
      "     2251799813685248    4503599627370496    9007199254740992\n",
      "    18014398509481984   36028797018963968]\n",
      " [  72057594037927936  144115188075855872  288230376151711744\n",
      "   576460752303423488 1152921504606846976 2305843009213693952\n",
      "  4611686018427387904 9223372036854775808]]\n"
     ]
    }
   ],
   "source": [
    "# 8x8では\n",
    "board_ndarray = board_broadcast(8,8)"
   ]
  },
  {
   "cell_type": "code",
   "execution_count": null,
   "metadata": {},
   "outputs": [],
   "source": []
  }
 ],
 "metadata": {
  "kernelspec": {
   "display_name": "Python 3",
   "language": "python",
   "name": "python3"
  },
  "language_info": {
   "codemirror_mode": {
    "name": "ipython",
    "version": 3
   },
   "file_extension": ".py",
   "mimetype": "text/x-python",
   "name": "python",
   "nbconvert_exporter": "python",
   "pygments_lexer": "ipython3",
   "version": "3.6.10"
  }
 },
 "nbformat": 4,
 "nbformat_minor": 4
}
