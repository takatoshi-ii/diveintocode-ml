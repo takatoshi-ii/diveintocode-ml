{
 "cells": [
  {
   "cell_type": "markdown",
   "metadata": {},
   "source": [
    "# Week2授業前課題3 行列積のスクラッチ"
   ]
  },
  {
   "cell_type": "code",
   "execution_count": null,
   "metadata": {},
   "outputs": [],
   "source": []
  },
  {
   "cell_type": "code",
   "execution_count": 1,
   "metadata": {},
   "outputs": [],
   "source": [
    "import numpy as np\n",
    "a_ndarray = np.array([[-1, 2, 3], [4, -5, 6], [7, 8, -9]])\n",
    "b_ndarray = np.array([[0, 2, 1], [0, 2, -8], [2, 9, -1]])"
   ]
  },
  {
   "cell_type": "markdown",
   "metadata": {},
   "source": [
    "## 【問題1】行列積を手計算する"
   ]
  },
  {
   "cell_type": "code",
   "execution_count": null,
   "metadata": {},
   "outputs": [],
   "source": [
    "#    |-1  2  3|      | 0  2  1|\n",
    "#A = | 4 -5  6|  B = | 0  2 -8|\n",
    "#    | 7  8 -9|      | 2  9 -1|\n",
    "#\n",
    "#      |(-1)*0+2*0+3*2 (-1)*2+2*2+3*9 (-1)*1+2*(-8)+3*(-1)|\n",
    "#A・B =|4*0+(-5)*0+6*2 4*2+(-5)*2+6*9 4*1+(-5)*(-8)+6*(-1)|\n",
    "#      |7*0+8*0+(-9)*2 7*2+8*2+(-9)*9 7*1+8*(-8)+(-9)*(-1)|\n",
    "#   \n",
    "#      |  6  29 -20|\n",
    "#     =| 12  52  38|\n",
    "#      |-18 -51 -48|\n",
    "#\n",
    "#\n"
   ]
  },
  {
   "cell_type": "markdown",
   "metadata": {},
   "source": [
    "## 【問題2】NumPyの関数による計算"
   ]
  },
  {
   "cell_type": "code",
   "execution_count": 8,
   "metadata": {},
   "outputs": [
    {
     "data": {
      "text/plain": [
       "array([[  6,  29, -20],\n",
       "       [ 12,  52,  38],\n",
       "       [-18, -51, -48]])"
      ]
     },
     "execution_count": 8,
     "metadata": {},
     "output_type": "execute_result"
    }
   ],
   "source": [
    "import numpy as np\n",
    "# np.matmul()の場合\n",
    "ans_matmul = np.matmul(a_ndarray, b_ndarray)\n",
    "ans_matmul"
   ]
  },
  {
   "cell_type": "code",
   "execution_count": 7,
   "metadata": {},
   "outputs": [
    {
     "data": {
      "text/plain": [
       "array([[  6,  29, -20],\n",
       "       [ 12,  52,  38],\n",
       "       [-18, -51, -48]])"
      ]
     },
     "execution_count": 7,
     "metadata": {},
     "output_type": "execute_result"
    }
   ],
   "source": [
    "# np.dot()の場合\n",
    "ans_dot = np.dot(a_ndarray, b_ndarray)\n",
    "ans_dot"
   ]
  },
  {
   "cell_type": "code",
   "execution_count": 6,
   "metadata": {},
   "outputs": [
    {
     "data": {
      "text/plain": [
       "array([[  6,  29, -20],\n",
       "       [ 12,  52,  38],\n",
       "       [-18, -51, -48]])"
      ]
     },
     "execution_count": 6,
     "metadata": {},
     "output_type": "execute_result"
    }
   ],
   "source": [
    "# @演算子の場合\n",
    "ans_atmark = a_ndarray @ b_ndarray\n",
    "ans_atmark"
   ]
  },
  {
   "cell_type": "markdown",
   "metadata": {},
   "source": [
    "## 【問題3】ある要素の計算を実装"
   ]
  },
  {
   "cell_type": "code",
   "execution_count": 10,
   "metadata": {},
   "outputs": [
    {
     "data": {
      "text/plain": [
       "6"
      ]
     },
     "execution_count": 10,
     "metadata": {},
     "output_type": "execute_result"
    }
   ],
   "source": [
    "# 0列0行目の要素を算出\n",
    "sum_data11 = 0\n",
    "for k in range(3):\n",
    "    sum_data11 += a_ndarray[0][k]*b_ndarray[k][0]\n",
    "sum_data11"
   ]
  },
  {
   "cell_type": "markdown",
   "metadata": {},
   "source": [
    "## 【問題4】行列積を行う関数の作成"
   ]
  },
  {
   "cell_type": "code",
   "execution_count": 22,
   "metadata": {},
   "outputs": [],
   "source": [
    "def matrix_product(a_ndarray, b_ndarray):\n",
    "    # 求める変数を0で初期化\n",
    "    c_ndarray = np.zeros((3,3))\n",
    "    sum_data = 0\n",
    "    for i in range(3):\n",
    "        for j in range(3):\n",
    "            sum_data = 0\n",
    "            for k in range(3):\n",
    "                # 要素毎に合計\n",
    "                sum_data += a_ndarray[i][k] * b_ndarray[k][j]\n",
    "            c_ndarray[i][j] =sum_data\n",
    "            \n",
    "    return c_ndarray\n",
    "    \n",
    "\n"
   ]
  },
  {
   "cell_type": "code",
   "execution_count": 23,
   "metadata": {},
   "outputs": [
    {
     "data": {
      "text/plain": [
       "array([[  6.,  29., -20.],\n",
       "       [ 12.,  52.,  38.],\n",
       "       [-18., -51., -48.]])"
      ]
     },
     "execution_count": 23,
     "metadata": {},
     "output_type": "execute_result"
    }
   ],
   "source": [
    "c_ndarray = matrix_product(a_ndarray, b_ndarray)\n",
    "c_ndarray"
   ]
  },
  {
   "cell_type": "markdown",
   "metadata": {},
   "source": [
    "### 4.行列積が定義されない組み合わせの行列"
   ]
  },
  {
   "cell_type": "code",
   "execution_count": 24,
   "metadata": {},
   "outputs": [],
   "source": [
    "d_ndarray_ = np.array([[-1, 2, 3], [4, -5, 6]])\n",
    "e_ndarray = np.array([[-9, 8, 7], [6, -5, 4]])"
   ]
  },
  {
   "cell_type": "code",
   "execution_count": 28,
   "metadata": {},
   "outputs": [
    {
     "ename": "IndexError",
     "evalue": "index 2 is out of bounds for axis 0 with size 2",
     "output_type": "error",
     "traceback": [
      "\u001b[1;31m---------------------------------------------------------------------------\u001b[0m",
      "\u001b[1;31mIndexError\u001b[0m                                Traceback (most recent call last)",
      "\u001b[1;32m<ipython-input-28-9fc4084571ce>\u001b[0m in \u001b[0;36m<module>\u001b[1;34m\u001b[0m\n\u001b[0;32m      1\u001b[0m \u001b[1;31m# 行数と列数が一致していないのでエラーとなります。\u001b[0m\u001b[1;33m\u001b[0m\u001b[1;33m\u001b[0m\u001b[1;33m\u001b[0m\u001b[0m\n\u001b[1;32m----> 2\u001b[1;33m \u001b[0mmatrix_product\u001b[0m\u001b[1;33m(\u001b[0m\u001b[0md_ndarray_\u001b[0m\u001b[1;33m,\u001b[0m \u001b[0me_ndarray\u001b[0m\u001b[1;33m)\u001b[0m\u001b[1;33m\u001b[0m\u001b[1;33m\u001b[0m\u001b[0m\n\u001b[0m",
      "\u001b[1;32m<ipython-input-22-b8f5ca03344d>\u001b[0m in \u001b[0;36mmatrix_product\u001b[1;34m(a_ndarray, b_ndarray)\u001b[0m\n\u001b[0;32m      6\u001b[0m             \u001b[0msum_data\u001b[0m \u001b[1;33m=\u001b[0m \u001b[1;36m0\u001b[0m\u001b[1;33m\u001b[0m\u001b[1;33m\u001b[0m\u001b[0m\n\u001b[0;32m      7\u001b[0m             \u001b[1;32mfor\u001b[0m \u001b[0mk\u001b[0m \u001b[1;32min\u001b[0m \u001b[0mrange\u001b[0m\u001b[1;33m(\u001b[0m\u001b[1;36m3\u001b[0m\u001b[1;33m)\u001b[0m\u001b[1;33m:\u001b[0m\u001b[1;33m\u001b[0m\u001b[1;33m\u001b[0m\u001b[0m\n\u001b[1;32m----> 8\u001b[1;33m                 \u001b[0msum_data\u001b[0m \u001b[1;33m+=\u001b[0m \u001b[0ma_ndarray\u001b[0m\u001b[1;33m[\u001b[0m\u001b[0mi\u001b[0m\u001b[1;33m]\u001b[0m\u001b[1;33m[\u001b[0m\u001b[0mk\u001b[0m\u001b[1;33m]\u001b[0m \u001b[1;33m*\u001b[0m \u001b[0mb_ndarray\u001b[0m\u001b[1;33m[\u001b[0m\u001b[0mk\u001b[0m\u001b[1;33m]\u001b[0m\u001b[1;33m[\u001b[0m\u001b[0mj\u001b[0m\u001b[1;33m]\u001b[0m\u001b[1;33m\u001b[0m\u001b[1;33m\u001b[0m\u001b[0m\n\u001b[0m\u001b[0;32m      9\u001b[0m             \u001b[0mc_ndarray\u001b[0m\u001b[1;33m[\u001b[0m\u001b[0mi\u001b[0m\u001b[1;33m]\u001b[0m\u001b[1;33m[\u001b[0m\u001b[0mj\u001b[0m\u001b[1;33m]\u001b[0m \u001b[1;33m=\u001b[0m\u001b[0msum_data\u001b[0m\u001b[1;33m\u001b[0m\u001b[1;33m\u001b[0m\u001b[0m\n\u001b[0;32m     10\u001b[0m \u001b[1;33m\u001b[0m\u001b[0m\n",
      "\u001b[1;31mIndexError\u001b[0m: index 2 is out of bounds for axis 0 with size 2"
     ]
    }
   ],
   "source": [
    "# 行数と列数が一致していないのでエラーとなります。\n",
    "matrix_product(d_ndarray_, e_ndarray)"
   ]
  },
  {
   "cell_type": "markdown",
   "metadata": {},
   "source": [
    "## 【問題5】計算が定義されない入力を判定する"
   ]
  },
  {
   "cell_type": "code",
   "execution_count": 68,
   "metadata": {},
   "outputs": [],
   "source": [
    "# shepe判定追加版\n",
    "def matrix_product_custom(a_ndarray, b_ndarray):\n",
    "    print(\"第１引数の行数 = {}\".format(a_ndarray.shape[0]))\n",
    "    print(\"第２引数の列数 = {}\".format(b_ndarray.shape[1]))\n",
    "    \n",
    "    if a_ndarray.shape[0] != b_ndarray.shape[1]:\n",
    "        print(\"第1引数の行数と、第2引数の列数が異なるため、計算できません\")\n",
    "        return\n",
    "    \n",
    "    print(\"\\n第１引数 = \\n{}\".format(a_ndarray))\n",
    "    print(\"\\n第２引数 = \\n{}\".format(b_ndarray))\n",
    "    # 求める変数を0で初期化\n",
    "    c_ndarray = np.zeros((3,3))\n",
    "    sum_data = 0\n",
    "    for i in range(3):\n",
    "        for j in range(3):\n",
    "            sum_data = 0\n",
    "            for k in range(3):\n",
    "                # 要素毎に合計\n",
    "                sum_data += a_ndarray[i][k] * b_ndarray[k][j]\n",
    "            c_ndarray[i][j] =sum_data\n",
    "            \n",
    "    return c_ndarray"
   ]
  },
  {
   "cell_type": "code",
   "execution_count": 69,
   "metadata": {},
   "outputs": [
    {
     "name": "stdout",
     "output_type": "stream",
     "text": [
      "第１引数の行数 = 2\n",
      "第２引数の列数 = 3\n",
      "第1引数の行数と、第2引数の列数が異なるため、計算できません\n"
     ]
    }
   ],
   "source": [
    "matrix_product_custom(d_ndarray_, e_ndarray)"
   ]
  },
  {
   "cell_type": "code",
   "execution_count": 70,
   "metadata": {},
   "outputs": [
    {
     "name": "stdout",
     "output_type": "stream",
     "text": [
      "第１引数の行数 = 3\n",
      "第２引数の列数 = 3\n",
      "\n",
      "第１引数 = \n",
      "[[-1  2  3]\n",
      " [ 4 -5  6]\n",
      " [ 7  8 -9]]\n",
      "\n",
      "第２引数 = \n",
      "[[ 0  2  1]\n",
      " [ 0  2 -8]\n",
      " [ 2  9 -1]]\n"
     ]
    },
    {
     "data": {
      "text/plain": [
       "array([[  6.,  29., -20.],\n",
       "       [ 12.,  52.,  38.],\n",
       "       [-18., -51., -48.]])"
      ]
     },
     "execution_count": 70,
     "metadata": {},
     "output_type": "execute_result"
    }
   ],
   "source": [
    "matrix_product_custom(a_ndarray, b_ndarray)"
   ]
  },
  {
   "cell_type": "markdown",
   "metadata": {},
   "source": [
    "## 【問題6】転置"
   ]
  },
  {
   "cell_type": "code",
   "execution_count": 71,
   "metadata": {},
   "outputs": [
    {
     "name": "stdout",
     "output_type": "stream",
     "text": [
      "第１引数の行数 = 3\n",
      "第２引数の列数 = 3\n",
      "\n",
      "第１引数 = \n",
      "[[-1  2  3]\n",
      " [ 4 -5  6]\n",
      " [ 7  8 -9]]\n",
      "\n",
      "第２引数 = \n",
      "[[ 0  0  2]\n",
      " [ 2  2  9]\n",
      " [ 1 -8 -1]]\n"
     ]
    },
    {
     "data": {
      "text/plain": [
       "array([[  7., -20.,  13.],\n",
       "       [ -4., -58., -43.],\n",
       "       [  7.,  88.,  95.]])"
      ]
     },
     "execution_count": 71,
     "metadata": {},
     "output_type": "execute_result"
    }
   ],
   "source": [
    "# np.transpose()を使用\n",
    "matrix_product_custom(a_ndarray, np.transpose(b_ndarray))"
   ]
  },
  {
   "cell_type": "code",
   "execution_count": 72,
   "metadata": {},
   "outputs": [
    {
     "name": "stdout",
     "output_type": "stream",
     "text": [
      "第１引数の行数 = 3\n",
      "第２引数の列数 = 3\n",
      "\n",
      "第１引数 = \n",
      "[[-1  2  3]\n",
      " [ 4 -5  6]\n",
      " [ 7  8 -9]]\n",
      "\n",
      "第２引数 = \n",
      "[[ 0  0  2]\n",
      " [ 2  2  9]\n",
      " [ 1 -8 -1]]\n"
     ]
    },
    {
     "data": {
      "text/plain": [
       "array([[  7., -20.,  13.],\n",
       "       [ -4., -58., -43.],\n",
       "       [  7.,  88.,  95.]])"
      ]
     },
     "execution_count": 72,
     "metadata": {},
     "output_type": "execute_result"
    }
   ],
   "source": [
    "# .Tアトリビュートを使用\n",
    "matrix_product_custom(a_ndarray, b_ndarray.T)"
   ]
  },
  {
   "cell_type": "code",
   "execution_count": null,
   "metadata": {},
   "outputs": [],
   "source": []
  },
  {
   "cell_type": "code",
   "execution_count": null,
   "metadata": {},
   "outputs": [],
   "source": []
  }
 ],
 "metadata": {
  "kernelspec": {
   "display_name": "Python 3",
   "language": "python",
   "name": "python3"
  },
  "language_info": {
   "codemirror_mode": {
    "name": "ipython",
    "version": 3
   },
   "file_extension": ".py",
   "mimetype": "text/x-python",
   "name": "python",
   "nbconvert_exporter": "python",
   "pygments_lexer": "ipython3",
   "version": "3.6.10"
  }
 },
 "nbformat": 4,
 "nbformat_minor": 4
}
