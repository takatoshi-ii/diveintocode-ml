{
 "cells": [
  {
   "cell_type": "markdown",
   "metadata": {},
   "source": [
    "# Week2授業前課題3 行列積のスクラッチ"
   ]
  },
  {
   "cell_type": "markdown",
   "metadata": {},
   "source": [
    "## 1.このテキストについて\n",
    "<u>テキストの目的</u>  \n",
    "・数式演算ライブラリのNumPyに慣れる\n",
    "・行列演算に慣れる \n",
    "\n",
    "<u>どのように学ぶか</u>  \n",
    "行列積の計算を手計算で行った後、スクラッチ実装することで理解を深めていきます。"
   ]
  },
  {
   "cell_type": "markdown",
   "metadata": {},
   "source": [
    "## 2.行列積\n",
    "以下のような行列A、Bを考えます。\n",
    "\n",
    "$\n",
    "% <![CDATA[\n",
    "A = \\left[\n",
    "\\begin{array}{ccc}\n",
    "  -1 & 2 & 3 \\\\\n",
    "  4 & -5 & 6 \\\\\n",
    "  7 & 8 & -9\n",
    "\\end{array}\n",
    "\\right],\n",
    "B = \\left[\n",
    "\\begin{array}{ccc}\n",
    "  0 & 2 & 1 \\\\\n",
    "  0 & 2 & -8 \\\\\n",
    "  2 & 9 & -1\n",
    "\\end{array}\n",
    "\\right] %]]>\n",
    "$\n",
    "\n",
    "\n",
    "NumPyで表すと次のようになります。  \n",
    "```python\n",
    "import numpy as np\n",
    "a_ndarray = np.array([[-1, 2, 3], [4, -5, 6], [7, 8, -9]])\n",
    "b_ndarray = np.array([[0, 2, 1], [0, 2, -8], [2, 9, -1]])\n",
    "```"
   ]
  },
  {
   "cell_type": "code",
   "execution_count": 1,
   "metadata": {},
   "outputs": [],
   "source": [
    "import numpy as np\n",
    "a_ndarray = np.array([[-1, 2, 3], [4, -5, 6], [7, 8, -9]])\n",
    "b_ndarray = np.array([[0, 2, 1], [0, 2, -8], [2, 9, -1]])"
   ]
  },
  {
   "cell_type": "markdown",
   "metadata": {},
   "source": [
    "## 【問題1】行列積を手計算する\n",
    "AとBの行列積を手計算で解いてください。\n",
    "\n",
    "\n",
    "計算過程もマークダウンテキストを用いて説明してください"
   ]
  },
  {
   "cell_type": "markdown",
   "metadata": {},
   "source": [
    "```python\n",
    "    |-1  2  3|      | 0  2  1|\n",
    "A = | 4 -5  6|  B = | 0  2 -8|\n",
    "    | 7  8 -9|      | 2  9 -1|\n",
    "\n",
    "      |(-1)*0+2*0+3*2 (-1)*2+2*2+3*9 (-1)*1+2*(-8)+3*(-1)|\n",
    "A・B =|4*0+(-5)*0+6*2 4*2+(-5)*2+6*9 4*1+(-5)*(-8)+6*(-1)|\n",
    "      |7*0+8*0+(-9)*2 7*2+8*2+(-9)*9 7*1+8*(-8)+(-9)*(-1)|\n",
    "   \n",
    "      |  6  29 -20|\n",
    "     =| 12  52  38|\n",
    "      |-18 -51 -48|\n",
    "\n",
    "\n",
    "```"
   ]
  },
  {
   "cell_type": "markdown",
   "metadata": {},
   "source": [
    "## 【問題2】NumPyの関数による計算\n",
    "この行列積はNumPyのnp.matmul()やnp.dot()、または@演算子を使うことで簡単に計算できます。\n",
    "\n",
    "\n",
    "これらを使い行列積を計算してください。\n",
    "\n",
    "\n",
    "[numpy.matmul — NumPy v1.16 Manual](https://docs.scipy.org/doc/numpy/reference/generated/numpy.matmul.html#numpy.matmul)\n",
    "\n",
    "\n",
    "[numpy.dot — NumPy v1.16 Manual](https://docs.scipy.org/doc/numpy/reference/generated/numpy.dot.html)\n",
    "\n",
    "《3種類の違い》\n",
    "\n",
    "\n",
    "np.matmul()とnp.dot()は3次元以上の配列で挙動が変わります。@演算子はnp.matmul()と同じ働きをします。\n",
    "\n",
    "\n",
    "今回のような2次元配列の行列積ではnp.matmul()や@演算子が公式に推奨されています。以下はnp.dot()の説明からの引用です。\n",
    "\n",
    "\n",
    ">If both a and b are 2-D arrays, it is matrix multiplication, but using matmul or a @ b is preferred."
   ]
  },
  {
   "cell_type": "markdown",
   "metadata": {},
   "source": [
    "＜np.matmul()＞"
   ]
  },
  {
   "cell_type": "code",
   "execution_count": 8,
   "metadata": {},
   "outputs": [
    {
     "data": {
      "text/plain": [
       "array([[  6,  29, -20],\n",
       "       [ 12,  52,  38],\n",
       "       [-18, -51, -48]])"
      ]
     },
     "execution_count": 8,
     "metadata": {},
     "output_type": "execute_result"
    }
   ],
   "source": [
    "import numpy as np\n",
    "# np.matmul()の場合\n",
    "ans_matmul = np.matmul(a_ndarray, b_ndarray)\n",
    "ans_matmul"
   ]
  },
  {
   "cell_type": "markdown",
   "metadata": {},
   "source": [
    "＜np.dot()＞"
   ]
  },
  {
   "cell_type": "code",
   "execution_count": 7,
   "metadata": {},
   "outputs": [
    {
     "data": {
      "text/plain": [
       "array([[  6,  29, -20],\n",
       "       [ 12,  52,  38],\n",
       "       [-18, -51, -48]])"
      ]
     },
     "execution_count": 7,
     "metadata": {},
     "output_type": "execute_result"
    }
   ],
   "source": [
    "# np.dot()の場合\n",
    "ans_dot = np.dot(a_ndarray, b_ndarray)\n",
    "ans_dot"
   ]
  },
  {
   "cell_type": "markdown",
   "metadata": {},
   "source": [
    "＜@演算子＞"
   ]
  },
  {
   "cell_type": "code",
   "execution_count": 6,
   "metadata": {},
   "outputs": [
    {
     "data": {
      "text/plain": [
       "array([[  6,  29, -20],\n",
       "       [ 12,  52,  38],\n",
       "       [-18, -51, -48]])"
      ]
     },
     "execution_count": 6,
     "metadata": {},
     "output_type": "execute_result"
    }
   ],
   "source": [
    "# @演算子の場合\n",
    "ans_atmark = a_ndarray @ b_ndarray\n",
    "ans_atmark"
   ]
  },
  {
   "cell_type": "markdown",
   "metadata": {},
   "source": [
    "## 3.行列積のスクラッチ実装\n",
    "np.matmul()やnp.dot()、または@演算子を使わずに、手計算で行った計算過程をNumPyによるスクラッチ実装で再現していきましょう。これにより、行列積の計算に対する理解を深めます。ここで考えるのは行列AとBのような次元が2の配列に限定します。"
   ]
  },
  {
   "cell_type": "markdown",
   "metadata": {},
   "source": [
    "## 【問題3】ある要素の計算を実装\n",
    "手計算をする際はまず行列Aの0行目と行列Bの0列目に注目し、以下の計算を行ったかと思います。\n",
    "\n",
    "\n",
    "1.行列Aの(0,0)の要素 $a_{0,0}$ と行列Bの(0,0)の要素 $b_{0,0}$ を掛け合わせる  \n",
    "2.行列Aの(0,1)の要素 $a_{0,1}$ と行列Bの(1,0)の要素 $b_{1,0}$ を掛け合わせる  \n",
    "3.行列Aの(0,2)の要素 $a_{0,2}$ と行列Bの(2,0)の要素 $b_{2,0}$ を掛け合わせる  \n",
    "4.それらの値を全て足し合わせる  \n",
    "\n",
    "数式で表すと\n",
    "\n",
    "$\n",
    "\\sum^{2}_{k=0}a_{0,k}b_{k,0}\n",
    "$\n",
    "\n",
    "です。\n",
    "\n",
    "\n",
    "この計算をnp.matmul()やnp.dot()、または@演算子を使わずに行うコードを書いてください。"
   ]
  },
  {
   "cell_type": "code",
   "execution_count": 10,
   "metadata": {},
   "outputs": [
    {
     "data": {
      "text/plain": [
       "6"
      ]
     },
     "execution_count": 10,
     "metadata": {},
     "output_type": "execute_result"
    }
   ],
   "source": [
    "# 0列0行目の要素を算出\n",
    "sum_data11 = 0\n",
    "for k in range(3):\n",
    "    sum_data11 += a_ndarray[0][k]*b_ndarray[k][0]\n",
    "sum_data11"
   ]
  },
  {
   "cell_type": "markdown",
   "metadata": {},
   "source": [
    "## 【問題4】行列積を行う関数の作成\n",
    "問題3のコードを拡張し、行列積のスクラッチ実装を完成させてください。行列AとBを引数に受け取り、行列積を返す関数としてください。\n",
    "\n",
    "\n",
    "行列積を計算する場合は、問題3の計算を異なる行や列に対して繰り返していくことになります。\n",
    "\n",
    "\n",
    "計算結果である $3×3$ の行列Cの各要素 $c_{i,j}$ は数式で表すと次のようになります。\n",
    "\n",
    "$\n",
    "c_{i,j} = \\sum^{2}_{k=0}a_{i,k}b_{k,j}\n",
    "$\n",
    "\n",
    "for文を使い、ndarrayのインデックスを動かしていくことで、合計9つの要素が計算できます。インデックス $i$ や $j$ を1増やすと、次の行や列に移ることができます。\n",
    "<img src=\"https://t.gyazo.com/teams/diveintocode/129123df5242c9e768513f5e8b5ef24f.png\" style=\"background-color:#FFFFFF;\">"
   ]
  },
  {
   "cell_type": "code",
   "execution_count": 22,
   "metadata": {},
   "outputs": [],
   "source": [
    "def matrix_product(a_ndarray, b_ndarray):\n",
    "    # 求める変数を0で初期化\n",
    "    c_ndarray = np.zeros((3,3))\n",
    "    sum_data = 0\n",
    "    for i in range(3):\n",
    "        for j in range(3):\n",
    "            sum_data = 0\n",
    "            for k in range(3):\n",
    "                # 要素毎に合計\n",
    "                sum_data += a_ndarray[i][k] * b_ndarray[k][j]\n",
    "            c_ndarray[i][j] =sum_data\n",
    "            \n",
    "    return c_ndarray\n",
    "    \n",
    "\n"
   ]
  },
  {
   "cell_type": "code",
   "execution_count": 23,
   "metadata": {},
   "outputs": [
    {
     "data": {
      "text/plain": [
       "array([[  6.,  29., -20.],\n",
       "       [ 12.,  52.,  38.],\n",
       "       [-18., -51., -48.]])"
      ]
     },
     "execution_count": 23,
     "metadata": {},
     "output_type": "execute_result"
    }
   ],
   "source": [
    "c_ndarray = matrix_product(a_ndarray, b_ndarray)\n",
    "c_ndarray"
   ]
  },
  {
   "cell_type": "markdown",
   "metadata": {},
   "source": [
    "## 4.行列積が定義されない組み合わせの行列"
   ]
  },
  {
   "cell_type": "code",
   "execution_count": 24,
   "metadata": {},
   "outputs": [],
   "source": [
    "d_ndarray_ = np.array([[-1, 2, 3], [4, -5, 6]])\n",
    "e_ndarray = np.array([[-9, 8, 7], [6, -5, 4]])"
   ]
  },
  {
   "cell_type": "markdown",
   "metadata": {},
   "source": [
    "行列積DEはDの列数とEの行数が等しい場合に定義されていますから、この例では計算ができません。"
   ]
  },
  {
   "cell_type": "code",
   "execution_count": 28,
   "metadata": {},
   "outputs": [
    {
     "ename": "IndexError",
     "evalue": "index 2 is out of bounds for axis 0 with size 2",
     "output_type": "error",
     "traceback": [
      "\u001b[1;31m---------------------------------------------------------------------------\u001b[0m",
      "\u001b[1;31mIndexError\u001b[0m                                Traceback (most recent call last)",
      "\u001b[1;32m<ipython-input-28-9fc4084571ce>\u001b[0m in \u001b[0;36m<module>\u001b[1;34m\u001b[0m\n\u001b[0;32m      1\u001b[0m \u001b[1;31m# 行数と列数が一致していないのでエラーとなります。\u001b[0m\u001b[1;33m\u001b[0m\u001b[1;33m\u001b[0m\u001b[1;33m\u001b[0m\u001b[0m\n\u001b[1;32m----> 2\u001b[1;33m \u001b[0mmatrix_product\u001b[0m\u001b[1;33m(\u001b[0m\u001b[0md_ndarray_\u001b[0m\u001b[1;33m,\u001b[0m \u001b[0me_ndarray\u001b[0m\u001b[1;33m)\u001b[0m\u001b[1;33m\u001b[0m\u001b[1;33m\u001b[0m\u001b[0m\n\u001b[0m",
      "\u001b[1;32m<ipython-input-22-b8f5ca03344d>\u001b[0m in \u001b[0;36mmatrix_product\u001b[1;34m(a_ndarray, b_ndarray)\u001b[0m\n\u001b[0;32m      6\u001b[0m             \u001b[0msum_data\u001b[0m \u001b[1;33m=\u001b[0m \u001b[1;36m0\u001b[0m\u001b[1;33m\u001b[0m\u001b[1;33m\u001b[0m\u001b[0m\n\u001b[0;32m      7\u001b[0m             \u001b[1;32mfor\u001b[0m \u001b[0mk\u001b[0m \u001b[1;32min\u001b[0m \u001b[0mrange\u001b[0m\u001b[1;33m(\u001b[0m\u001b[1;36m3\u001b[0m\u001b[1;33m)\u001b[0m\u001b[1;33m:\u001b[0m\u001b[1;33m\u001b[0m\u001b[1;33m\u001b[0m\u001b[0m\n\u001b[1;32m----> 8\u001b[1;33m                 \u001b[0msum_data\u001b[0m \u001b[1;33m+=\u001b[0m \u001b[0ma_ndarray\u001b[0m\u001b[1;33m[\u001b[0m\u001b[0mi\u001b[0m\u001b[1;33m]\u001b[0m\u001b[1;33m[\u001b[0m\u001b[0mk\u001b[0m\u001b[1;33m]\u001b[0m \u001b[1;33m*\u001b[0m \u001b[0mb_ndarray\u001b[0m\u001b[1;33m[\u001b[0m\u001b[0mk\u001b[0m\u001b[1;33m]\u001b[0m\u001b[1;33m[\u001b[0m\u001b[0mj\u001b[0m\u001b[1;33m]\u001b[0m\u001b[1;33m\u001b[0m\u001b[1;33m\u001b[0m\u001b[0m\n\u001b[0m\u001b[0;32m      9\u001b[0m             \u001b[0mc_ndarray\u001b[0m\u001b[1;33m[\u001b[0m\u001b[0mi\u001b[0m\u001b[1;33m]\u001b[0m\u001b[1;33m[\u001b[0m\u001b[0mj\u001b[0m\u001b[1;33m]\u001b[0m \u001b[1;33m=\u001b[0m\u001b[0msum_data\u001b[0m\u001b[1;33m\u001b[0m\u001b[1;33m\u001b[0m\u001b[0m\n\u001b[0;32m     10\u001b[0m \u001b[1;33m\u001b[0m\u001b[0m\n",
      "\u001b[1;31mIndexError\u001b[0m: index 2 is out of bounds for axis 0 with size 2"
     ]
    }
   ],
   "source": [
    "# 行数と列数が一致していないのでエラーとなります。\n",
    "matrix_product(d_ndarray_, e_ndarray)"
   ]
  },
  {
   "cell_type": "markdown",
   "metadata": {},
   "source": [
    "## 【問題5】計算が定義されない入力を判定する\n",
    "問題4で作成した関数は、実装方法によってはこのDとEの配列を入力しても動いてしまう可能性があります。この場合、不適切な計算が行われることになります。また、途中でエラーになる場合でも、なぜエラーになったかが直接的には分かりづらいメッセージが表示されます。\n",
    "\n",
    "\n",
    "if文などによってこれを防ぎ、入力される形に問題があることをprint()を使い表示するコードを書き加えてください。"
   ]
  },
  {
   "cell_type": "code",
   "execution_count": 68,
   "metadata": {},
   "outputs": [],
   "source": [
    "# shepe判定追加版\n",
    "def matrix_product_custom(a_ndarray, b_ndarray):\n",
    "    print(\"第１引数の行数 = {}\".format(a_ndarray.shape[0]))\n",
    "    print(\"第２引数の列数 = {}\".format(b_ndarray.shape[1]))\n",
    "    \n",
    "    if a_ndarray.shape[0] != b_ndarray.shape[1]:\n",
    "        print(\"第1引数の行数と、第2引数の列数が異なるため、計算できません\")\n",
    "        return\n",
    "    \n",
    "    print(\"\\n第１引数 = \\n{}\".format(a_ndarray))\n",
    "    print(\"\\n第２引数 = \\n{}\".format(b_ndarray))\n",
    "    # 求める変数を0で初期化\n",
    "    c_ndarray = np.zeros((3,3))\n",
    "    sum_data = 0\n",
    "    for i in range(3):\n",
    "        for j in range(3):\n",
    "            sum_data = 0\n",
    "            for k in range(3):\n",
    "                # 要素毎に合計\n",
    "                sum_data += a_ndarray[i][k] * b_ndarray[k][j]\n",
    "            c_ndarray[i][j] =sum_data\n",
    "            \n",
    "    return c_ndarray"
   ]
  },
  {
   "cell_type": "code",
   "execution_count": 69,
   "metadata": {},
   "outputs": [
    {
     "name": "stdout",
     "output_type": "stream",
     "text": [
      "第１引数の行数 = 2\n",
      "第２引数の列数 = 3\n",
      "第1引数の行数と、第2引数の列数が異なるため、計算できません\n"
     ]
    }
   ],
   "source": [
    "matrix_product_custom(d_ndarray_, e_ndarray)"
   ]
  },
  {
   "cell_type": "code",
   "execution_count": 70,
   "metadata": {},
   "outputs": [
    {
     "name": "stdout",
     "output_type": "stream",
     "text": [
      "第１引数の行数 = 3\n",
      "第２引数の列数 = 3\n",
      "\n",
      "第１引数 = \n",
      "[[-1  2  3]\n",
      " [ 4 -5  6]\n",
      " [ 7  8 -9]]\n",
      "\n",
      "第２引数 = \n",
      "[[ 0  2  1]\n",
      " [ 0  2 -8]\n",
      " [ 2  9 -1]]\n"
     ]
    },
    {
     "data": {
      "text/plain": [
       "array([[  6.,  29., -20.],\n",
       "       [ 12.,  52.,  38.],\n",
       "       [-18., -51., -48.]])"
      ]
     },
     "execution_count": 70,
     "metadata": {},
     "output_type": "execute_result"
    }
   ],
   "source": [
    "matrix_product_custom(a_ndarray, b_ndarray)"
   ]
  },
  {
   "cell_type": "markdown",
   "metadata": {},
   "source": [
    "## 【問題6】転置\n",
    "片方の行列を転置することで、行列積が計算できるようになります。\n",
    "\n",
    "\n",
    "np.transpose()や.Tアトリビュートを用いて転置し、行列積を計算してください。\n",
    "\n",
    "\n",
    "[numpy.transpose — NumPy v1.16 Manual](https://docs.scipy.org/doc/numpy/reference/generated/numpy.transpose.html)\n",
    "\n",
    "\n",
    "[numpy.ndarray.T — NumPy v1.16 Manual](https://docs.scipy.org/doc/numpy/reference/generated/numpy.ndarray.T.html)"
   ]
  },
  {
   "cell_type": "code",
   "execution_count": 71,
   "metadata": {},
   "outputs": [
    {
     "name": "stdout",
     "output_type": "stream",
     "text": [
      "第１引数の行数 = 3\n",
      "第２引数の列数 = 3\n",
      "\n",
      "第１引数 = \n",
      "[[-1  2  3]\n",
      " [ 4 -5  6]\n",
      " [ 7  8 -9]]\n",
      "\n",
      "第２引数 = \n",
      "[[ 0  0  2]\n",
      " [ 2  2  9]\n",
      " [ 1 -8 -1]]\n"
     ]
    },
    {
     "data": {
      "text/plain": [
       "array([[  7., -20.,  13.],\n",
       "       [ -4., -58., -43.],\n",
       "       [  7.,  88.,  95.]])"
      ]
     },
     "execution_count": 71,
     "metadata": {},
     "output_type": "execute_result"
    }
   ],
   "source": [
    "# np.transpose()を使用\n",
    "matrix_product_custom(a_ndarray, np.transpose(b_ndarray))"
   ]
  },
  {
   "cell_type": "code",
   "execution_count": 72,
   "metadata": {},
   "outputs": [
    {
     "name": "stdout",
     "output_type": "stream",
     "text": [
      "第１引数の行数 = 3\n",
      "第２引数の列数 = 3\n",
      "\n",
      "第１引数 = \n",
      "[[-1  2  3]\n",
      " [ 4 -5  6]\n",
      " [ 7  8 -9]]\n",
      "\n",
      "第２引数 = \n",
      "[[ 0  0  2]\n",
      " [ 2  2  9]\n",
      " [ 1 -8 -1]]\n"
     ]
    },
    {
     "data": {
      "text/plain": [
       "array([[  7., -20.,  13.],\n",
       "       [ -4., -58., -43.],\n",
       "       [  7.,  88.,  95.]])"
      ]
     },
     "execution_count": 72,
     "metadata": {},
     "output_type": "execute_result"
    }
   ],
   "source": [
    "# .Tアトリビュートを使用\n",
    "matrix_product_custom(a_ndarray, b_ndarray.T)"
   ]
  }
 ],
 "metadata": {
  "kernelspec": {
   "display_name": "Python 3",
   "language": "python",
   "name": "python3"
  },
  "language_info": {
   "codemirror_mode": {
    "name": "ipython",
    "version": 3
   },
   "file_extension": ".py",
   "mimetype": "text/x-python",
   "name": "python",
   "nbconvert_exporter": "python",
   "pygments_lexer": "ipython3",
   "version": "3.7.6"
  }
 },
 "nbformat": 4,
 "nbformat_minor": 4
}
